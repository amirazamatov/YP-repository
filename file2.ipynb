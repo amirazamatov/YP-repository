{
 "cells": [
  {
   "cell_type": "markdown",
   "metadata": {},
   "source": [
    " \n",
    "<div style=\"border:solid Chocolate 2px; padding: 40px\">\n",
    "\n",
    "Привет Амир, меня зовут Саша Атаков. Сегодня я проверю твой проект.\n",
    "<br> Дальнейшее общение будет происходить на \"ты\" если это не вызывает никаких проблем.\n",
    "<br> Желательно реагировать на каждый мой комментарий ('исправил', 'не понятно как исправить ошибку', ...)\n",
    "<br> Пожалуйста, не удаляй комментарии ревьюера, так как они повышают качество повторного ревью.\n",
    "\n",
    "Комментарии будут в <font color='green'>зеленой</font>, <font color='blue'>синей</font> или <font color='red'>красной</font> рамках:\n",
    "\n",
    "<div class=\"alert alert-block alert-success\">\n",
    "<b>Успех👍:</b> Если все сделано отлично\n",
    "</div>\n",
    "\n",
    "<div class=\"alert alert-block alert-info\">\n",
    "<b>Совет🤔: </b> Если можно немного улучшить\n",
    "</div>\n",
    "\n",
    "<div class=\"alert alert-block alert-danger\">\n",
    "<b>Ошибка❌:</b> Если требуются исправления. Работа не может быть принята с красными комментариями.\n",
    "</div>\n",
    "\n",
    "-------------------\n",
    "\n",
    "Будет очень хорошо, если ты будешь помечать свои действия следующим образом:\n",
    "<div class=\"alert alert-block alert-warning\">\n",
    "<b>Комментарий студента:</b> ...\n",
    "</div>\n",
    "\n",
    "<div class=\"alert alert-block alert-warning\">\n",
    "<b>Изменения:</b> Были внесены следующие изменения ...\n",
    "</div>\n",
    "\n",
    "<b><font color='orange'>Вот тебе полезная ссылка, вдруг подчерпнешь что-то новое для себя):</font></b>\n",
    "\n",
    "* О логистической регрессии: https://habr.com/ru/company/io/blog/265007/\n",
    "* Ну и случайный лес: https://alexanderdyakonov.wordpress.com/2016/11/14/%D1%81%D0%BB%D1%83%D1%87%D0%B0%D0%B9%D0%BD%D1%8B%D0%B9-%D0%BB%D0%B5%D1%81-random-forest/\n",
    "    \n",
    "<b><font color='orange'>Общее впечатление</font></b>\n",
    "* Большое спасибо за проделанную работу. Видно, что ты отлично освоил тему.\n",
    "* Отлично, что ноутбук хорошо структурирован. Приятно проверять такие работы.\n",
    "* В работе я оставил несколько советов. Буду рад, если ты учтешь их.\n",
    "* В конце прописал свой комментарий по всему проекту, ознакомься с ним, пожалуйста)\n",
    "* С радостью отвечу на твои вопросы, касательно выданной тебе темы, если они есть. Жду новую версию проекта.)"
   ]
  },
  {
   "cell_type": "markdown",
   "metadata": {},
   "source": [
    "<div class=\"alert alert-block alert-warning\">\n",
    "Привет! Саша, спасибо тебе за ревью. Надеюсь, что моя тетрадка действительно неплоха и у меня есть шансы после окончания курса устроиться на работу))))\n",
    "</div>"
   ]
  },
  {
   "cell_type": "markdown",
   "metadata": {},
   "source": [
    "<div class=\"alert alert-block alert-success\">\n",
    "<b>Успех👍 V2:</b> \n",
    "    \n",
    "Привет). Твой проект приятен, честно). Работу найти будет сложновато, но у тебя есть хорошие шансы\n",
    "</div>"
   ]
  },
  {
   "cell_type": "markdown",
   "metadata": {},
   "source": [
    "# Рекомендация тарифов"
   ]
  },
  {
   "cell_type": "markdown",
   "metadata": {},
   "source": [
    "В вашем распоряжении данные о поведении клиентов, которые уже перешли на эти тарифы (из проекта курса «Статистический анализ данных»). Нужно построить модель для задачи классификации, которая выберет подходящий тариф. Предобработка данных не понадобится — вы её уже сделали.\n",
    "\n",
    "Постройте модель с максимально большим значением *accuracy*. Чтобы сдать проект успешно, нужно довести долю правильных ответов по крайней мере до 0.75. Проверьте *accuracy* на тестовой выборке самостоятельно."
   ]
  },
  {
   "cell_type": "markdown",
   "metadata": {},
   "source": [
    "## Откройте и изучите файл"
   ]
  },
  {
   "cell_type": "code",
   "execution_count": 1,
   "metadata": {},
   "outputs": [],
   "source": [
    "# загружаем необходимые библиотеки\n",
    "import pandas as pd\n",
    "from sklearn.tree import DecisionTreeClassifier\n",
    "from sklearn.ensemble import RandomForestClassifier\n",
    "from sklearn.linear_model import LogisticRegression\n",
    "from sklearn.model_selection import train_test_split\n",
    "from sklearn.metrics import accuracy_score \n"
   ]
  },
  {
   "cell_type": "markdown",
   "metadata": {},
   "source": [
    "<div class=\"alert alert-block alert-success\">\n",
    "<b>Успех👍:</b> \n",
    "    \n",
    "Хороший шаг - импортировать все необходимые библиотеки перед работой с проектом, ведь так ты точно не запутаешься в том, какие библиотеки ты уже импортировал, а какие стоит добавить. Молодец!\n",
    "</div>"
   ]
  },
  {
   "cell_type": "code",
   "execution_count": 2,
   "metadata": {},
   "outputs": [
    {
     "data": {
      "text/html": [
       "<div>\n",
       "<style scoped>\n",
       "    .dataframe tbody tr th:only-of-type {\n",
       "        vertical-align: middle;\n",
       "    }\n",
       "\n",
       "    .dataframe tbody tr th {\n",
       "        vertical-align: top;\n",
       "    }\n",
       "\n",
       "    .dataframe thead th {\n",
       "        text-align: right;\n",
       "    }\n",
       "</style>\n",
       "<table border=\"1\" class=\"dataframe\">\n",
       "  <thead>\n",
       "    <tr style=\"text-align: right;\">\n",
       "      <th></th>\n",
       "      <th>calls</th>\n",
       "      <th>minutes</th>\n",
       "      <th>messages</th>\n",
       "      <th>mb_used</th>\n",
       "      <th>is_ultra</th>\n",
       "    </tr>\n",
       "  </thead>\n",
       "  <tbody>\n",
       "    <tr>\n",
       "      <th>0</th>\n",
       "      <td>40.0</td>\n",
       "      <td>311.90</td>\n",
       "      <td>83.0</td>\n",
       "      <td>19915.42</td>\n",
       "      <td>0</td>\n",
       "    </tr>\n",
       "    <tr>\n",
       "      <th>1</th>\n",
       "      <td>85.0</td>\n",
       "      <td>516.75</td>\n",
       "      <td>56.0</td>\n",
       "      <td>22696.96</td>\n",
       "      <td>0</td>\n",
       "    </tr>\n",
       "    <tr>\n",
       "      <th>2</th>\n",
       "      <td>77.0</td>\n",
       "      <td>467.66</td>\n",
       "      <td>86.0</td>\n",
       "      <td>21060.45</td>\n",
       "      <td>0</td>\n",
       "    </tr>\n",
       "    <tr>\n",
       "      <th>3</th>\n",
       "      <td>106.0</td>\n",
       "      <td>745.53</td>\n",
       "      <td>81.0</td>\n",
       "      <td>8437.39</td>\n",
       "      <td>1</td>\n",
       "    </tr>\n",
       "    <tr>\n",
       "      <th>4</th>\n",
       "      <td>66.0</td>\n",
       "      <td>418.74</td>\n",
       "      <td>1.0</td>\n",
       "      <td>14502.75</td>\n",
       "      <td>0</td>\n",
       "    </tr>\n",
       "  </tbody>\n",
       "</table>\n",
       "</div>"
      ],
      "text/plain": [
       "   calls  minutes  messages   mb_used  is_ultra\n",
       "0   40.0   311.90      83.0  19915.42         0\n",
       "1   85.0   516.75      56.0  22696.96         0\n",
       "2   77.0   467.66      86.0  21060.45         0\n",
       "3  106.0   745.53      81.0   8437.39         1\n",
       "4   66.0   418.74       1.0  14502.75         0"
      ]
     },
     "execution_count": 2,
     "metadata": {},
     "output_type": "execute_result"
    }
   ],
   "source": [
    "# загружаем датасет\n",
    "df = pd.read_csv('/datasets/users_behavior.csv')\n",
    "\n",
    "df.head()"
   ]
  },
  {
   "cell_type": "code",
   "execution_count": 3,
   "metadata": {},
   "outputs": [
    {
     "name": "stdout",
     "output_type": "stream",
     "text": [
      "<class 'pandas.core.frame.DataFrame'>\n",
      "RangeIndex: 3214 entries, 0 to 3213\n",
      "Data columns (total 5 columns):\n",
      " #   Column    Non-Null Count  Dtype  \n",
      "---  ------    --------------  -----  \n",
      " 0   calls     3214 non-null   float64\n",
      " 1   minutes   3214 non-null   float64\n",
      " 2   messages  3214 non-null   float64\n",
      " 3   mb_used   3214 non-null   float64\n",
      " 4   is_ultra  3214 non-null   int64  \n",
      "dtypes: float64(4), int64(1)\n",
      "memory usage: 125.7 KB\n"
     ]
    }
   ],
   "source": [
    "# изучим датафрейм\n",
    "df.info()"
   ]
  },
  {
   "cell_type": "markdown",
   "metadata": {},
   "source": [
    "Датасет загружен, в данных нет пропусков, тип данных соответсвует описываемому параметру."
   ]
  },
  {
   "cell_type": "markdown",
   "metadata": {},
   "source": [
    "<div class=\"alert alert-block alert-success\">\n",
    "<b>Успех👍:</b> \n",
    "    \n",
    "Замечательно, данные на базе и уже проверены!\n",
    "</div>"
   ]
  },
  {
   "cell_type": "markdown",
   "metadata": {},
   "source": [
    "## Разбейте данные на выборки"
   ]
  },
  {
   "cell_type": "code",
   "execution_count": 4,
   "metadata": {},
   "outputs": [],
   "source": [
    "# выделим целевой показатель и параметры\n",
    "\n",
    "features = df.drop('is_ultra', axis=1)\n",
    "target = df['is_ultra']"
   ]
  },
  {
   "cell_type": "code",
   "execution_count": 5,
   "metadata": {},
   "outputs": [],
   "source": [
    "# разобьем данные на 3 выборки: обучающую, валидационную и тестовую (60%, 20%, 20%).\n",
    "\n",
    "features_train, features_test, target_train, target_test = train_test_split(features, target, test_size=0.25, random_state=123)\n",
    "features_train, features_valid, target_train, target_valid = train_test_split(features_train, target_train, test_size=0.25, random_state=123)"
   ]
  },
  {
   "cell_type": "markdown",
   "metadata": {},
   "source": [
    "<div class=\"alert alert-block alert-success\">\n",
    "<b>Успех👍:</b> \n",
    "    \n",
    "Вот это мне нравится, разделение на три выборки, молодец!\n",
    "</div>"
   ]
  },
  {
   "cell_type": "markdown",
   "metadata": {},
   "source": [
    "## Исследуйте модели"
   ]
  },
  {
   "cell_type": "markdown",
   "metadata": {},
   "source": [
    "### Модель \"дерево решений\""
   ]
  },
  {
   "cell_type": "code",
   "execution_count": 6,
   "metadata": {},
   "outputs": [
    {
     "name": "stdout",
     "output_type": "stream",
     "text": [
      "Лучшая модель \"дерево решений\" имеет accuracy = 0.7778, max_depth = 10, min_sample_split = 2.\n"
     ]
    }
   ],
   "source": [
    "best_tree_model = None\n",
    "best_accuracy_tree = 0\n",
    "best_max_depth_tree = 1\n",
    "best_min_sample_split_tree = 2\n",
    "for depth in range(1,15):\n",
    "    for sample_split in range(2,5):\n",
    "        model_tree = DecisionTreeClassifier(max_depth=depth, min_samples_split=sample_split, random_state=123)\n",
    "        model_tree.fit(features_train, target_train)\n",
    "        predictions_valid_tree = model_tree.predict(features_valid)\n",
    "        accuracy_tree = accuracy_score(target_valid, predictions_valid_tree)\n",
    "        if best_accuracy_tree < accuracy_tree:\n",
    "            best_accuracy_tree = accuracy_tree\n",
    "            best_tree_model = model_tree\n",
    "            best_max_depth_tree = depth\n",
    "            best_min_sample_split_tree = sample_split\n",
    "print (f'Лучшая модель \"дерево решений\" имеет accuracy = {best_accuracy_tree:.4f}, max_depth = {best_max_depth_tree}, min_sample_split = {best_min_sample_split_tree}.')"
   ]
  },
  {
   "cell_type": "markdown",
   "metadata": {},
   "source": [
    "<div class=\"alert alert-block alert-success\">\n",
    "<b>Успех👍:</b> \n",
    "    \n",
    "Да, дерево обучено верно, так держать!\n",
    "</div>"
   ]
  },
  {
   "cell_type": "markdown",
   "metadata": {},
   "source": [
    "### Модель \"случайный лес\""
   ]
  },
  {
   "cell_type": "code",
   "execution_count": 7,
   "metadata": {},
   "outputs": [
    {
     "name": "stdout",
     "output_type": "stream",
     "text": [
      "Лучшая модель \"случайный лес\" имеет accuracy = 0.7960, max_depth = 9, min_sample_split = 4, n_estimators = 15.\n"
     ]
    }
   ],
   "source": [
    "best_forest_model = None\n",
    "best_accuracy_forest = 0\n",
    "best_max_depth_forest = 1\n",
    "best_min_sample_split_forest = 2\n",
    "best_n_estimators = 1\n",
    "for depth in range(1, 10):\n",
    "    for min_sample in range(2,5):\n",
    "        for est in range(5,50,5):\n",
    "            model_forest = RandomForestClassifier(max_depth=depth, \n",
    "                                                  min_samples_split=min_sample, \n",
    "                                                  n_estimators=est, \n",
    "                                                  random_state=123)\n",
    "            model_forest.fit(features_train, target_train)\n",
    "            predictions_valid_forest = model_forest.predict(features_valid)\n",
    "            accuracy_forest = accuracy_score(target_valid, predictions_valid_forest)\n",
    "            if best_accuracy_forest < accuracy_forest:\n",
    "                best_accuracy_forest = accuracy_forest\n",
    "                best_forest_model = model_forest\n",
    "                best_max_depth_forest = depth\n",
    "                best_min_sample_split_forest = sample_split\n",
    "                best_n_estimators = est\n",
    "print (f'Лучшая модель \"случайный лес\" имеет accuracy = {best_accuracy_forest:.4f}, max_depth = {best_max_depth_forest}, min_sample_split = {best_min_sample_split_forest}, n_estimators = {best_n_estimators}.')\n",
    "            \n",
    "\n"
   ]
  },
  {
   "cell_type": "markdown",
   "metadata": {},
   "source": [
    "<div class=\"alert alert-block alert-success\">\n",
    "<b>Успех👍:</b> \n",
    "    \n",
    "И случайный лес обучен хорошо, замечательно)\n",
    "</div>"
   ]
  },
  {
   "cell_type": "markdown",
   "metadata": {},
   "source": [
    "<div class=\"alert alert-block alert-info\">\n",
    "<b>Совет🤔:</b> \n",
    "\n",
    "По дефолту у случайного леса 100 деревьев, а ты начал от 5 до 50. Может лучше пойти от 100 до, скажем, 500, с шагом 50\n",
    "</div>"
   ]
  },
  {
   "cell_type": "markdown",
   "metadata": {},
   "source": [
    "<div class=\"alert alert-block alert-warning\">\n",
    "Попробую твой совет в следующей ячейке\n",
    "</div>"
   ]
  },
  {
   "cell_type": "markdown",
   "metadata": {},
   "source": [
    "best_forest_model = None\n",
    "best_accuracy_forest = 0\n",
    "best_max_depth_forest = 1\n",
    "best_min_sample_split_forest = 2\n",
    "best_n_estimators = 1\n",
    "for depth in range(1, 10):\n",
    "    for min_sample in range(2,5):\n",
    "        for est in range(100,500,50):\n",
    "            model_forest = RandomForestClassifier(max_depth=depth, \n",
    "                                                  min_samples_split=min_sample, \n",
    "                                                  n_estimators=est, \n",
    "                                                  random_state=123)\n",
    "            model_forest.fit(features_train, target_train)\n",
    "            predictions_valid_forest = model_forest.predict(features_valid)\n",
    "            accuracy_forest = accuracy_score(target_valid, predictions_valid_forest)\n",
    "            if best_accuracy_forest < accuracy_forest:\n",
    "                best_accuracy_forest = accuracy_forest\n",
    "                best_forest_model = model_forest\n",
    "                best_max_depth_forest = depth\n",
    "                best_min_sample_split_forest = sample_split\n",
    "                best_n_estimators = est\n",
    "print (f'Лучшая модель \"случайный лес\" имеет accuracy = {best_accuracy_forest:.4f}, max_depth = {best_max_depth_forest}, min_sample_split = {best_min_sample_split_forest}, n_estimators = {best_n_estimators}.')"
   ]
  },
  {
   "cell_type": "markdown",
   "metadata": {},
   "source": [
    "<div class=\"alert alert-block alert-warning\">\n",
    "Для ускорения твоей работы ячейку выше сделал текстовой. Вот такой результат я получил при выполнении кода:   \n",
    "\n",
    "Лучшая модель \"случайный лес\" имеет accuracy = 0.7944, max_depth = 8, min_sample_split = 4, n_estimators = 150.   \n",
    "\n",
    "<b>Очень долго, а качество модели лучше не стало.</b>\n",
    "</div>"
   ]
  },
  {
   "cell_type": "markdown",
   "metadata": {},
   "source": [
    "<div class=\"alert alert-block alert-success\">\n",
    "<b>Успех👍 V2:</b> \n",
    "    \n",
    "Круто, что проверил мой совет). Жалко, что увеличении количества деревьев не помогло в улучшении модели. Но проверка того стоила) \n",
    "</div>"
   ]
  },
  {
   "cell_type": "markdown",
   "metadata": {},
   "source": [
    "### Модель логистической регрессии"
   ]
  },
  {
   "cell_type": "code",
   "execution_count": 8,
   "metadata": {},
   "outputs": [
    {
     "name": "stdout",
     "output_type": "stream",
     "text": [
      "Лучшая модель логистической регрессии имеет accuracy = 0.7247, max_iter = 100.\n"
     ]
    }
   ],
   "source": [
    "best_reg_model = None\n",
    "best_accuracy_reg = 0\n",
    "best_solver = None\n",
    "best_max_iter = 0\n",
    "for m_iter in range(100,1100,100):\n",
    "    model_reg = LogisticRegression(random_state=123, solver='lbfgs', max_iter=m_iter)\n",
    "    model_reg.fit(features_train, target_train)\n",
    "    predictions_valid_reg = model_reg.predict(features_valid)\n",
    "    accuracy_reg = accuracy_score(target_valid, predictions_valid_reg)\n",
    "    if accuracy_reg > best_accuracy_reg:\n",
    "        best_accuracy_reg = accuracy_reg\n",
    "        best_reg_model = model_reg\n",
    "        best_max_iter = m_iter\n",
    "print (f'Лучшая модель логистической регрессии имеет accuracy = {best_accuracy_reg:.4f}, max_iter = {best_max_iter}.')"
   ]
  },
  {
   "cell_type": "markdown",
   "metadata": {},
   "source": [
    "<div class=\"alert alert-block alert-success\">\n",
    "<b>Успех👍:</b> \n",
    "    \n",
    "Ну и последнаяя модель - логистическая регрессия, справилась с заданием)\n",
    "</div>"
   ]
  },
  {
   "cell_type": "markdown",
   "metadata": {},
   "source": [
    "<div class=\"alert alert-block alert-info\">\n",
    "<b>Совет🤔:</b> \n",
    "\n",
    "К логистической регрессии также проверяют параметр силы регуляризации (`C`). Можешь ее также проверить, ради интереса\n",
    "</div>"
   ]
  },
  {
   "cell_type": "markdown",
   "metadata": {},
   "source": [
    "<div class=\"alert alert-block alert-warning\">\n",
    "Сейчас проверю данный гиперпараметр\n",
    "</div>"
   ]
  },
  {
   "cell_type": "code",
   "execution_count": 17,
   "metadata": {},
   "outputs": [
    {
     "name": "stdout",
     "output_type": "stream",
     "text": [
      "Лучшая модель логистической регрессии имеет accuracy = 0.7247, max_iter = 100, C = 1.\n"
     ]
    }
   ],
   "source": [
    "best_reg_model = None\n",
    "best_accuracy_reg = 0\n",
    "best_solver = None\n",
    "best_max_iter = 0\n",
    "best_C = 0\n",
    "for m_iter in range(100,1100,100):\n",
    "    for c in [1, 10, 100, 1000]:\n",
    "        model_reg = LogisticRegression(random_state=123, solver='lbfgs', max_iter=m_iter, C=c)\n",
    "        model_reg.fit(features_train, target_train)\n",
    "        predictions_valid_reg = model_reg.predict(features_valid)\n",
    "        accuracy_reg = accuracy_score(target_valid, predictions_valid_reg)\n",
    "        if accuracy_reg > best_accuracy_reg:\n",
    "            best_accuracy_reg = accuracy_reg\n",
    "            best_reg_model = model_reg\n",
    "            best_max_iter = m_iter\n",
    "            best_C = c\n",
    "print (f'Лучшая модель логистической регрессии имеет accuracy = {best_accuracy_reg:.4f}, max_iter = {best_max_iter}, C = {best_C}.')"
   ]
  },
  {
   "cell_type": "markdown",
   "metadata": {},
   "source": [
    "<div class=\"alert alert-block alert-warning\">\n",
    "Результат остался прежним. Я так понимаю, что чем меньше С, тем лучше.\n",
    "</div>"
   ]
  },
  {
   "cell_type": "markdown",
   "metadata": {},
   "source": [
    "<div class=\"alert alert-block alert-success\">\n",
    "<b>Успех👍 V2:</b> \n",
    "    \n",
    "Ну хотя бы не упал). А так, качество зависит не от того, меньше ли С. Чем больше параметр С, тем более сложные зависимости в данных может восстанавливать модель (интуитивно С соответствует \"сложности\" модели)\n",
    "</div>"
   ]
  },
  {
   "cell_type": "markdown",
   "metadata": {},
   "source": [
    "<div class=\"alert alert-block alert-info\">\n",
    "<b>Совет🤔 V2:</b> \n",
    "\n",
    "На самом деле было бы точнее брать значения от -100 до 1000 (лучше брать именно списком - [-100, -10, -1, 0, 1, 10 ...])\n",
    "</div>"
   ]
  },
  {
   "cell_type": "markdown",
   "metadata": {},
   "source": [
    "<div class=\"alert alert-block alert-warning\">\n",
    "<b> V2 </b>   \n",
    "    \n",
    "Саш, попробовал -100, -10, 0. Пшите ошибку, что отрицательным быть не может и на 0 делить нельзя. И флоат не получалось, хотя в доке к библиотеке там можно указывать числа с запятой, как я понял\n",
    "</div>"
   ]
  },
  {
   "cell_type": "markdown",
   "metadata": {},
   "source": [
    "# Выбор лучшей модели   \n",
    "\n",
    "В ходе исследования мы построили 3 модели для задачи классификации, где основным параметром качества модели являлось значение **accuracy**.\n",
    "Лучшая `модель \"дерево решений\"` имеет **accuracy = 0.7778**, max_depth = 10, min_sample_split = 2.   \n",
    "Лучшая `модель \"случайный лес\"` имеет **accuracy = 0.7960**, max_depth = 9, min_sample_split = 4, n_estimators = 15.   \n",
    "Лучшая `модель логистической регрессии` имеет **accuracy = 0.7247**, max_iter = 100.   \n",
    "\n",
    "**Таким образом, при построении и обучении моделей на данном датасете, лучшей моделью стала** `модель \"случайный лес\"`**.**"
   ]
  },
  {
   "cell_type": "markdown",
   "metadata": {},
   "source": [
    "<div class=\"alert alert-block alert-success\">\n",
    "<b>Успех👍:</b> \n",
    "    \n",
    "Значит все-таки лес - хорошо)\n",
    "</div>"
   ]
  },
  {
   "cell_type": "markdown",
   "metadata": {},
   "source": [
    "## Проверьте модель на тестовой выборке"
   ]
  },
  {
   "cell_type": "code",
   "execution_count": 10,
   "metadata": {},
   "outputs": [
    {
     "name": "stdout",
     "output_type": "stream",
     "text": [
      "Модель \"случайный лес\" на тестовых данных имеет accuracy = 0.8035\n"
     ]
    }
   ],
   "source": [
    "# проверяем модель\"случайный лес\" на тестовой выборке\n",
    "predictions_test_forest = best_forest_model.predict(features_test)\n",
    "accuracy_forest = accuracy_score(target_test, predictions_test_forest)\n",
    "print (f'Модель \"случайный лес\" на тестовых данных имеет accuracy = {accuracy_forest:.4f}')"
   ]
  },
  {
   "cell_type": "code",
   "execution_count": 11,
   "metadata": {},
   "outputs": [
    {
     "name": "stdout",
     "output_type": "stream",
     "text": [
      "Модель \"дерево решений\" на тестовых данных имеет accuracy = 0.7923\n"
     ]
    }
   ],
   "source": [
    "# для интереса оценим как поведут себя оставшиеся модели на тестовой выборке\n",
    "# модель \"дерево решений\"\n",
    "predictions_test_tree = best_tree_model.predict(features_test)\n",
    "accuracy_tree = accuracy_score(target_test, predictions_test_tree)\n",
    "print (f'Модель \"дерево решений\" на тестовых данных имеет accuracy = {accuracy_tree:.4f}')"
   ]
  },
  {
   "cell_type": "code",
   "execution_count": 12,
   "metadata": {},
   "outputs": [
    {
     "name": "stdout",
     "output_type": "stream",
     "text": [
      "Модель логистической регрессии на тестовых данных имеет accuracy = 0.7450\n"
     ]
    }
   ],
   "source": [
    "# модель логистической регрессии\n",
    "predictions_test_reg = best_reg_model.predict(features_test)\n",
    "accuracy_reg = accuracy_score(target_test, predictions_test_reg)\n",
    "print (f'Модель логистической регрессии на тестовых данных имеет accuracy = {accuracy_reg:.4f}')"
   ]
  },
  {
   "cell_type": "markdown",
   "metadata": {},
   "source": [
    "**Лучшая обученная модель (\"случайный лес\") на тестовых данных также показала лучшие результаты! Accuracy данной модели на тестовой выборке = 0.8035.**"
   ]
  },
  {
   "cell_type": "markdown",
   "metadata": {},
   "source": [
    "<div class=\"alert alert-block alert-success\">\n",
    "<b>Успех👍:</b> \n",
    "    \n",
    "Замечательно, мы проверили модели на тестовой выборке  и это круто, но однако...\n",
    "</div>"
   ]
  },
  {
   "cell_type": "markdown",
   "metadata": {},
   "source": [
    "<div class=\"alert alert-block alert-info\">\n",
    "<b>Совет🤔:</b> \n",
    "\n",
    "Если тебе надо проверить модель на тестовых значениях, то ты проверяешь только лучшую модель из обученных и проверенных на `valid` выборке. На тест попадает лучшая из лучших\n",
    "</div>"
   ]
  },
  {
   "cell_type": "markdown",
   "metadata": {},
   "source": [
    "<div class=\"alert alert-block alert-warning\">\n",
    "На будущее учту, спасибо)\n",
    "</div>"
   ]
  },
  {
   "cell_type": "markdown",
   "metadata": {},
   "source": [
    "<div class=\"alert alert-block alert-success\">\n",
    "<b>Успех👍 V2:</b> \n",
    "    \n",
    "Да, это будет относительно полезно (наверное)\n",
    "</div>"
   ]
  },
  {
   "cell_type": "markdown",
   "metadata": {},
   "source": [
    "## (бонус) Проверьте модели на адекватность"
   ]
  },
  {
   "cell_type": "markdown",
   "metadata": {},
   "source": [
    "Для проверки адекватности модели классификации необходимо сравнить ее со случайной моделью."
   ]
  },
  {
   "cell_type": "code",
   "execution_count": 13,
   "metadata": {},
   "outputs": [
    {
     "name": "stdout",
     "output_type": "stream",
     "text": [
      "Случайная модель на валидационных данных имеет accuracy = 0.4826\n",
      "Случайная модель на тестовых данных имеет accuracy = 0.5050\n"
     ]
    }
   ],
   "source": [
    "# импортируем DummyClassifier из Sklern, чтобы создать случайную модель\n",
    "from sklearn.dummy import DummyClassifier\n",
    "\n",
    "model_random = DummyClassifier(strategy='uniform', random_state=123)\n",
    "model_random.fit(features_train, target_train)\n",
    "predictions_random_val = model_random.predict(features_valid)\n",
    "predictions_random_test = model_random.predict(features_test)\n",
    "\n",
    "accuracy_random_val = accuracy_score(target_valid, predictions_random_val)\n",
    "accuracy_random_test = accuracy_score(target_test, predictions_random_test)\n",
    "print (f'Случайная модель на валидационных данных имеет accuracy = {accuracy_random_val:.4f}')\n",
    "print (f'Случайная модель на тестовых данных имеет accuracy = {accuracy_random_test:.4f}')"
   ]
  },
  {
   "cell_type": "markdown",
   "metadata": {},
   "source": [
    "**Accuracy** `случайной модели` на тестовых данных равна **0.5050**. Это значительно меньше выбранной лучшей модели (`\"случайный лес\"`- **accuracy = 0.8035**). Однако необходимо проверить, есть ли между данными значениями статистически значимые различия.   \n",
    "Нам необходимо сравнить 2 выборки **predictions_random_test** и **predictions_test_forest** с категориальным типом данных. Для этого применяют хи-квадрат Пирсона. Рассчитаем р-value!\n"
   ]
  },
  {
   "cell_type": "markdown",
   "metadata": {},
   "source": [
    "<div class=\"alert alert-block alert-success\">\n",
    "<b>Успех👍:</b> \n",
    "    \n",
    "Да, это действительно бонус и приятный). И то, что ты собрался проверить на статическую разность - молодец)\n",
    "</div>"
   ]
  },
  {
   "cell_type": "code",
   "execution_count": 14,
   "metadata": {},
   "outputs": [
    {
     "name": "stdout",
     "output_type": "stream",
     "text": [
      "Выбранная модель адекватна, статистически значимые различия со случайной выборкой выявлены, p-value = 0.000\n"
     ]
    }
   ],
   "source": [
    "from scipy.stats import chi2_contingency\n",
    "import numpy as np\n",
    "data = np.array([[predictions_random_test.sum(), (len(predictions_random_test) - predictions_random_test.sum())],\n",
    "                [predictions_test_forest.sum(), (len(predictions_test_forest) - predictions_test_forest.sum())]])\n",
    "statistics = chi2_contingency(data)\n",
    "if statistics[1] > 0.05:\n",
    "    print(f'Выбранная модель не адекватна, статистически значимых различий со случайной выборкой нет, p-value = {statistics[1]:.3f}')\n",
    "else:\n",
    "    print(f'Выбранная модель адекватна, статистически значимые различия со случайной выборкой выявлены, p-value = {statistics[1]:.3f}')\n"
   ]
  },
  {
   "cell_type": "markdown",
   "metadata": {},
   "source": [
    "# Выводы\n",
    "В ходе исследования мы построили 3 модели для задачи классификации (распределение пользователей по типам тарифов), где основным параметром качества модели являлось значение **accuracy**.   \n",
    "\n",
    "`Модель \"дерево решений\"` имеет **accuracy = 0.7778**, max_depth = 10, min_sample_split = 2.   \n",
    "`Модель \"случайный лес\"` имеет **accuracy = 0.7960**, max_depth = 9, min_sample_split = 4, n_estimators = 15.   \n",
    "`Модель логистической регрессии` имеет **accuracy = 0.7247**, max_iter = 100.   \n",
    "\n",
    "Таким образом, при построении и обучении моделей на данном датасете, лучшей моделью стала `модель \"случайный лес\"`.   \n",
    "\n",
    "Лучшая обученная модель (`\"случайный лес\"`) на тестовых данных также показала лучшие результаты! Accuracy данной модели на тестовой выборке = 0.8035.   \n",
    "\n",
    "При оценке адекватности разработанной модели проведено ее сранение со случайной моделью. Наша модель показала статистически значимо более высокие результаты качества, р-value = 0.000."
   ]
  },
  {
   "cell_type": "markdown",
   "metadata": {},
   "source": [
    "<div class=\"alert alert-block alert-success\">\n",
    "<b>Успех👍:</b> \n",
    "    \n",
    "Да, верно, твой вывод охватывает весь проект и это мне нравится, снимаю шляпу. Все четко и структурированно\n",
    "</div>"
   ]
  },
  {
   "cell_type": "markdown",
   "metadata": {},
   "source": [
    "## Чек-лист готовности проекта"
   ]
  },
  {
   "cell_type": "markdown",
   "metadata": {},
   "source": [
    "Поставьте 'x' в выполненных пунктах. Далее нажмите Shift+Enter."
   ]
  },
  {
   "cell_type": "markdown",
   "metadata": {},
   "source": [
    "- [x] Jupyter Notebook открыт\n",
    "- [x] Весь код исполняется без ошибок\n",
    "- [x] Ячейки с кодом расположены в порядке исполнения\n",
    "- [x] Выполнено задание 1: данные загружены и изучены\n",
    "- [x] Выполнено задание 2: данные разбиты на три выборки\n",
    "- [x] Выполнено задание 3: проведено исследование моделей\n",
    "    - [x] Рассмотрено больше одной модели\n",
    "    - [x] Рассмотрено хотя бы 3 значения гипепараметров для какой-нибудь модели\n",
    "    - [x] Написаны выводы по результатам исследования\n",
    "- [x] Выполнено задание 3: Проведено тестирование\n",
    "- [x] Удалось достичь accuracy не меньше 0.75\n"
   ]
  },
  {
   "cell_type": "markdown",
   "metadata": {},
   "source": [
    "<div style=\"border:solid Chocolate 2px; padding: 40px\">\n",
    "    \n",
    "<h2><b>Общий вывод по проекту</b></h2>\n",
    "    \n",
    "Ты очень постарался, спасибо тебе за такую работу!)\n",
    "\n",
    "В ходе проекта были выполнены все этапы проекта, главная цель достигнута. Конечно присутствует ряд моментов, которые необходимо рассмотреть, но ничего страшного, для это я здесь). Давай пройдемся по всем этапам твоего проекта чтобы понять, как ты справился:\n",
    "    \n",
    "<b>`Загрузка данных`</b>. С этим этапом никаких вопросов нет, здесь все сделано правильно: библиотеки загружены в отдельной ячейке над всем проектом, создан датасет, был выполнен базовый просмотр данных.\n",
    "    \n",
    "<b>`Исследуйте модели`</b>. На данном этапе ты реализовал три алгоритма МО:\n",
    "    \n",
    "- Дерево - самый базовый алгоритм, но иногда дающий приятные результаты. В нем ты попробовал гиперпараметры такие как: минимальное деление выборок и глубина. Довольно хорошие гиперпараметры, особенно глубина, ведь так мы проверяем большее количество факторов при определении ответа для дерева  \n",
    "    \n",
    "- Случайный лес - самый популярный алгоритм за счет своей точности, ведь решение принимает несколько деревьев. Ты проверил те же признаки, что и у дерева + количество деревьев. Да, количество деревьев хорошо улучшает точность прогноза, но и повышает время обучения и принятия решения. В твоем проекте стоит попробовать большее количество деревьев, ведь от 5 до 50 это ниже дефолтного состояния леса\n",
    "    \n",
    "- Логистическая регрессия - самый математичный алгоритм, который хорошо показывает обучение и предсказание моделей МО со стороны математики. Ты проверил количество итераций, хороший выбор). Но чаще проверяют именно силу регуляризации. Посмотри что это такое (долгая тема, предупреждаю сразу)\n",
    "    \n",
    "<b>`Проверка моделей`</b>. Тут ты проверил модели на тестовой выборке, но правильнее было бы проверить только лучшую модель, а не все сразу, ведь предыдущий этап позволил тебе найти эту лучшую модель). После этого была проверка на адекватность и тут все замечательно, молодец)\n",
    "    \n",
    "Вот так вот. Работа хорошая, могу принять при следующей твоей отправке (сейчас можешь просто ознакомиться с моими рекомендациями, а можешь что-то дополнить). Удачи!)"
   ]
  },
  {
   "cell_type": "markdown",
   "metadata": {},
   "source": [
    "<div class=\"alert alert-block alert-warning\">\n",
    "Саша, еще раз спасибо за ревью! Можно твои советы:   \n",
    "    \n",
    "- какие модели в настоящее время пользуются наибольшей популярностью, с чего стоит начинать? Или брать как можно больше алгоритмов моделей и искать лучший?     \n",
    "    \n",
    "- среди данных моделей какие гиперпараметры еще смотрят или основные охвачены?   \n",
    "    \n",
    "- данное задание выполнено ниже среднего, средне или выше среднего? Хочется для себя объективно понять уровень на данном этапе обучения.\n",
    "</div>"
   ]
  },
  {
   "cell_type": "markdown",
   "metadata": {},
   "source": [
    "<div class=\"alert alert-block alert-info\">\n",
    "<b>Совет🤔 V2:</b> \n",
    "\n",
    "Ух, люблю вопросы, давай пройдемся по ним:\n",
    "    \n",
    "* Наиболее популярные модели, наверное линейная и логистическая регрессии, градиентный бустинг, нейронные сети (точно знаю, что BERT крайне эффективная), kmeans. На самом деле каждая модель подходит под определенный вид задач, так что нельзя сказать, что одна модель подходит под все задачи)\n",
    "    \n",
    "* 1) Для дерева и леса стоит еще помнить об атрибуте разбиения (criterion), так как он осуществляет важную функцию - при обучении множества в узле, данный атрибут следит за тем, чтобы в этих множествах было меньше дисбаланса классов значений, к которым мы и предсказываем что-либо. 2) Для логистической регрессии можно вспомнить о штрафе за ошибку для модели (penalty), так мы сможем дать модели пинка, если она будет давать не те ответы, которые мы бы хотели видеть и модель будет стараться дать более точный ответ). Также есть баланс классов - class_weight. Понадобится для того, чтобы помочь модели понять, что у нас один класс, больше другого и модель меняет веса для модели\n",
    "    \n",
    "* Ну оценивать работу я думаю не стоит, ведь я могу повести тебя не в ту сторону, какую тебе стоит идти. Поэтому я скажу тебе то, что ты крайне заинтересованный студент, коллега если тебе так удобнее), а это очень важно в нашей сфере, так ты сможешь искать что-то интересное и узнавать что-то новое. Также ты ценишь советы, а это уже позволяет тебе улучшать свои знания). Если ты не потеряешь этого же напора, то у тебя получится стать классным спецом в МО, удачи!\n",
    "</div>"
   ]
  },
  {
   "cell_type": "markdown",
   "metadata": {},
   "source": [
    "<div class=\"alert alert-block alert-warning\">\n",
    "Еще раз спасибо за софтскилы)    \n",
    "\n",
    "Вообще я врач, надеюсь мои навыки в этом направлении помогут мне быть чуть лучше в датасайнс в медицине.\n",
    "</div>"
   ]
  }
 ],
 "metadata": {
  "ExecuteTimeLog": [
   {
    "duration": 1132,
    "start_time": "2022-10-22T18:05:33.910Z"
   },
   {
    "duration": 11,
    "start_time": "2022-10-22T18:06:22.100Z"
   },
   {
    "duration": 53,
    "start_time": "2022-10-22T18:07:41.649Z"
   },
   {
    "duration": 10,
    "start_time": "2022-10-22T18:08:56.918Z"
   },
   {
    "duration": 3,
    "start_time": "2022-10-22T18:27:29.022Z"
   },
   {
    "duration": 6,
    "start_time": "2022-10-22T18:31:37.734Z"
   },
   {
    "duration": 1051,
    "start_time": "2022-10-23T19:04:06.558Z"
   },
   {
    "duration": 49,
    "start_time": "2022-10-23T19:04:07.611Z"
   },
   {
    "duration": 10,
    "start_time": "2022-10-23T19:04:07.661Z"
   },
   {
    "duration": 5,
    "start_time": "2022-10-23T19:04:07.673Z"
   },
   {
    "duration": 7,
    "start_time": "2022-10-23T19:04:07.679Z"
   },
   {
    "duration": 4,
    "start_time": "2022-10-23T19:31:57.076Z"
   },
   {
    "duration": 77,
    "start_time": "2022-10-23T19:44:11.810Z"
   },
   {
    "duration": 93,
    "start_time": "2022-10-23T19:45:09.499Z"
   },
   {
    "duration": 10,
    "start_time": "2022-10-23T19:45:47.220Z"
   },
   {
    "duration": 11,
    "start_time": "2022-10-23T19:50:20.268Z"
   },
   {
    "duration": 11,
    "start_time": "2022-10-23T19:51:34.984Z"
   },
   {
    "duration": 13,
    "start_time": "2022-10-23T19:52:29.805Z"
   },
   {
    "duration": 168,
    "start_time": "2022-10-23T19:52:55.912Z"
   },
   {
    "duration": 271,
    "start_time": "2022-10-23T19:53:33.009Z"
   },
   {
    "duration": 282,
    "start_time": "2022-10-23T19:53:47.425Z"
   },
   {
    "duration": 123,
    "start_time": "2022-10-23T19:54:02.744Z"
   },
   {
    "duration": 167,
    "start_time": "2022-10-23T19:54:19.894Z"
   },
   {
    "duration": 2633,
    "start_time": "2022-10-23T19:54:25.995Z"
   },
   {
    "duration": 310,
    "start_time": "2022-10-23T19:54:41.245Z"
   },
   {
    "duration": 264,
    "start_time": "2022-10-23T20:02:43.648Z"
   },
   {
    "duration": 269,
    "start_time": "2022-10-23T20:03:00.728Z"
   },
   {
    "duration": 260,
    "start_time": "2022-10-23T20:03:12.528Z"
   },
   {
    "duration": 273,
    "start_time": "2022-10-23T20:03:15.719Z"
   },
   {
    "duration": 1023,
    "start_time": "2022-10-23T20:03:24.769Z"
   },
   {
    "duration": 30,
    "start_time": "2022-10-23T20:03:25.794Z"
   },
   {
    "duration": 11,
    "start_time": "2022-10-23T20:03:25.825Z"
   },
   {
    "duration": 5,
    "start_time": "2022-10-23T20:03:25.837Z"
   },
   {
    "duration": 8,
    "start_time": "2022-10-23T20:03:25.845Z"
   },
   {
    "duration": 120,
    "start_time": "2022-10-23T20:03:25.854Z"
   },
   {
    "duration": 309,
    "start_time": "2022-10-23T20:03:48.950Z"
   },
   {
    "duration": 181,
    "start_time": "2022-10-23T20:07:40.268Z"
   },
   {
    "duration": 267,
    "start_time": "2022-10-23T20:07:51.322Z"
   },
   {
    "duration": 40,
    "start_time": "2022-10-23T20:19:33.280Z"
   },
   {
    "duration": 12,
    "start_time": "2022-10-23T20:20:10.252Z"
   },
   {
    "duration": 23,
    "start_time": "2022-10-23T20:20:30.559Z"
   },
   {
    "duration": 22,
    "start_time": "2022-10-23T20:21:43.178Z"
   },
   {
    "duration": 22,
    "start_time": "2022-10-23T20:21:54.889Z"
   },
   {
    "duration": 21,
    "start_time": "2022-10-23T20:22:20.215Z"
   },
   {
    "duration": 13441,
    "start_time": "2022-10-23T20:23:18.006Z"
   },
   {
    "duration": 13449,
    "start_time": "2022-10-23T20:24:32.796Z"
   },
   {
    "duration": 1052,
    "start_time": "2022-10-24T06:30:41.525Z"
   },
   {
    "duration": 140,
    "start_time": "2022-10-24T06:30:42.579Z"
   },
   {
    "duration": 12,
    "start_time": "2022-10-24T06:30:42.720Z"
   },
   {
    "duration": 3,
    "start_time": "2022-10-24T06:30:42.734Z"
   },
   {
    "duration": 7,
    "start_time": "2022-10-24T06:30:42.740Z"
   },
   {
    "duration": 277,
    "start_time": "2022-10-24T06:30:42.749Z"
   },
   {
    "duration": 12522,
    "start_time": "2022-10-24T06:30:43.027Z"
   },
   {
    "duration": 212,
    "start_time": "2022-10-24T06:54:31.412Z"
   },
   {
    "duration": 3204,
    "start_time": "2022-10-24T06:55:09.169Z"
   },
   {
    "duration": 3274,
    "start_time": "2022-10-24T06:55:49.599Z"
   },
   {
    "duration": 18,
    "start_time": "2022-10-24T06:57:23.692Z"
   },
   {
    "duration": 66,
    "start_time": "2022-10-24T06:58:58.129Z"
   },
   {
    "duration": 195,
    "start_time": "2022-10-24T06:59:31.417Z"
   },
   {
    "duration": 259,
    "start_time": "2022-10-24T06:59:47.207Z"
   },
   {
    "duration": 238,
    "start_time": "2022-10-24T06:59:56.960Z"
   },
   {
    "duration": 148,
    "start_time": "2022-10-24T07:00:11.523Z"
   },
   {
    "duration": 213,
    "start_time": "2022-10-24T07:02:49.408Z"
   },
   {
    "duration": 72,
    "start_time": "2022-10-24T07:20:47.096Z"
   },
   {
    "duration": 88,
    "start_time": "2022-10-24T07:20:53.463Z"
   },
   {
    "duration": 9,
    "start_time": "2022-10-24T07:21:09.150Z"
   },
   {
    "duration": 9,
    "start_time": "2022-10-24T07:21:39.676Z"
   },
   {
    "duration": 10,
    "start_time": "2022-10-24T07:22:38.194Z"
   },
   {
    "duration": 11,
    "start_time": "2022-10-24T07:22:39.329Z"
   },
   {
    "duration": 1027,
    "start_time": "2022-10-24T17:30:15.616Z"
   },
   {
    "duration": 135,
    "start_time": "2022-10-24T17:30:16.646Z"
   },
   {
    "duration": 11,
    "start_time": "2022-10-24T17:30:16.782Z"
   },
   {
    "duration": 19,
    "start_time": "2022-10-24T17:30:16.795Z"
   },
   {
    "duration": 25,
    "start_time": "2022-10-24T17:30:16.815Z"
   },
   {
    "duration": 284,
    "start_time": "2022-10-24T17:30:16.842Z"
   },
   {
    "duration": 14220,
    "start_time": "2022-10-24T17:30:17.128Z"
   },
   {
    "duration": 315,
    "start_time": "2022-10-24T17:30:31.350Z"
   },
   {
    "duration": 11,
    "start_time": "2022-10-24T17:30:31.667Z"
   },
   {
    "duration": 97,
    "start_time": "2022-10-24T17:35:03.465Z"
   },
   {
    "duration": 275,
    "start_time": "2022-10-24T17:36:15.868Z"
   },
   {
    "duration": 7,
    "start_time": "2022-10-24T17:36:24.670Z"
   },
   {
    "duration": 9,
    "start_time": "2022-10-24T17:40:17.420Z"
   },
   {
    "duration": 7,
    "start_time": "2022-10-24T17:41:36.960Z"
   },
   {
    "duration": 6,
    "start_time": "2022-10-24T17:42:28.079Z"
   },
   {
    "duration": 11,
    "start_time": "2022-10-24T18:41:33.885Z"
   },
   {
    "duration": 14,
    "start_time": "2022-10-24T18:41:57.870Z"
   },
   {
    "duration": 9,
    "start_time": "2022-10-24T18:42:08.589Z"
   },
   {
    "duration": 10,
    "start_time": "2022-10-24T18:58:26.503Z"
   },
   {
    "duration": 65,
    "start_time": "2022-10-24T19:00:35.220Z"
   },
   {
    "duration": 7,
    "start_time": "2022-10-24T19:00:57.238Z"
   },
   {
    "duration": 10,
    "start_time": "2022-10-24T19:01:46.171Z"
   },
   {
    "duration": 6,
    "start_time": "2022-10-24T19:02:28.707Z"
   },
   {
    "duration": 6,
    "start_time": "2022-10-24T19:03:02.081Z"
   },
   {
    "duration": 14,
    "start_time": "2022-10-24T19:04:12.326Z"
   },
   {
    "duration": 6,
    "start_time": "2022-10-24T19:10:39.786Z"
   },
   {
    "duration": 5,
    "start_time": "2022-10-24T19:11:49.593Z"
   },
   {
    "duration": 12,
    "start_time": "2022-10-24T19:12:22.395Z"
   },
   {
    "duration": 6,
    "start_time": "2022-10-24T19:13:30.337Z"
   },
   {
    "duration": 6,
    "start_time": "2022-10-24T19:14:00.702Z"
   },
   {
    "duration": 7,
    "start_time": "2022-10-24T19:14:44.402Z"
   },
   {
    "duration": 44,
    "start_time": "2022-10-24T19:19:53.297Z"
   },
   {
    "duration": 7,
    "start_time": "2022-10-24T19:20:07.496Z"
   },
   {
    "duration": 6,
    "start_time": "2022-10-24T19:20:30.785Z"
   },
   {
    "duration": 8,
    "start_time": "2022-10-24T19:20:41.763Z"
   },
   {
    "duration": 7,
    "start_time": "2022-10-24T19:20:52.767Z"
   },
   {
    "duration": 1187,
    "start_time": "2022-10-24T19:33:42.076Z"
   },
   {
    "duration": 47,
    "start_time": "2022-10-24T19:33:43.265Z"
   },
   {
    "duration": 11,
    "start_time": "2022-10-24T19:33:43.314Z"
   },
   {
    "duration": 10,
    "start_time": "2022-10-24T19:33:43.327Z"
   },
   {
    "duration": 12,
    "start_time": "2022-10-24T19:33:43.340Z"
   },
   {
    "duration": 335,
    "start_time": "2022-10-24T19:33:43.354Z"
   },
   {
    "duration": 14949,
    "start_time": "2022-10-24T19:33:43.691Z"
   },
   {
    "duration": 270,
    "start_time": "2022-10-24T19:33:58.642Z"
   },
   {
    "duration": 13,
    "start_time": "2022-10-24T19:33:58.914Z"
   },
   {
    "duration": 26,
    "start_time": "2022-10-24T19:33:58.929Z"
   },
   {
    "duration": 7,
    "start_time": "2022-10-24T19:33:58.957Z"
   },
   {
    "duration": 10,
    "start_time": "2022-10-24T19:33:58.966Z"
   },
   {
    "duration": 9,
    "start_time": "2022-10-24T19:33:58.977Z"
   },
   {
    "duration": 46,
    "start_time": "2022-10-26T17:41:18.528Z"
   },
   {
    "duration": 1108,
    "start_time": "2022-10-26T17:41:28.600Z"
   },
   {
    "duration": 129,
    "start_time": "2022-10-26T17:41:29.710Z"
   },
   {
    "duration": 10,
    "start_time": "2022-10-26T17:41:29.841Z"
   },
   {
    "duration": 6,
    "start_time": "2022-10-26T17:41:29.853Z"
   },
   {
    "duration": 21,
    "start_time": "2022-10-26T17:41:29.862Z"
   },
   {
    "duration": 264,
    "start_time": "2022-10-26T17:41:29.884Z"
   },
   {
    "duration": 12932,
    "start_time": "2022-10-26T17:41:30.149Z"
   },
   {
    "duration": 120027,
    "start_time": "2022-10-26T17:41:43.083Z"
   },
   {
    "duration": 216,
    "start_time": "2022-10-26T17:43:43.111Z"
   },
   {
    "duration": 28,
    "start_time": "2022-10-26T17:43:43.329Z"
   },
   {
    "duration": 5,
    "start_time": "2022-10-26T17:43:43.359Z"
   },
   {
    "duration": 10,
    "start_time": "2022-10-26T17:43:43.366Z"
   },
   {
    "duration": 9,
    "start_time": "2022-10-26T17:43:43.377Z"
   },
   {
    "duration": 6,
    "start_time": "2022-10-26T17:43:43.387Z"
   },
   {
    "duration": 97,
    "start_time": "2022-10-26T17:56:47.036Z"
   },
   {
    "duration": 21,
    "start_time": "2022-10-26T17:57:03.201Z"
   },
   {
    "duration": 1873,
    "start_time": "2022-10-26T17:57:23.023Z"
   },
   {
    "duration": 10,
    "start_time": "2022-10-26T17:57:48.279Z"
   },
   {
    "duration": 10,
    "start_time": "2022-10-26T17:58:44.307Z"
   },
   {
    "duration": 1863,
    "start_time": "2022-10-26T17:58:51.162Z"
   },
   {
    "duration": 66,
    "start_time": "2022-10-26T18:00:13.189Z"
   },
   {
    "duration": 4,
    "start_time": "2022-10-26T18:01:58.786Z"
   },
   {
    "duration": 1025,
    "start_time": "2022-10-26T18:11:48.458Z"
   },
   {
    "duration": 44,
    "start_time": "2022-10-26T18:11:49.485Z"
   },
   {
    "duration": 9,
    "start_time": "2022-10-26T18:11:49.531Z"
   },
   {
    "duration": 12,
    "start_time": "2022-10-26T18:11:49.542Z"
   },
   {
    "duration": 8,
    "start_time": "2022-10-26T18:11:49.556Z"
   },
   {
    "duration": 273,
    "start_time": "2022-10-26T18:11:49.565Z"
   },
   {
    "duration": 12990,
    "start_time": "2022-10-26T18:11:49.839Z"
   },
   {
    "duration": 228,
    "start_time": "2022-10-26T18:12:02.830Z"
   },
   {
    "duration": 1917,
    "start_time": "2022-10-26T18:12:03.060Z"
   },
   {
    "duration": 9,
    "start_time": "2022-10-26T18:12:04.980Z"
   },
   {
    "duration": 11,
    "start_time": "2022-10-26T18:12:04.990Z"
   },
   {
    "duration": 13,
    "start_time": "2022-10-26T18:12:05.003Z"
   },
   {
    "duration": 20,
    "start_time": "2022-10-26T18:12:05.022Z"
   },
   {
    "duration": 48,
    "start_time": "2022-10-26T18:12:05.043Z"
   },
   {
    "duration": 993,
    "start_time": "2022-10-28T13:45:40.858Z"
   },
   {
    "duration": 124,
    "start_time": "2022-10-28T13:45:41.853Z"
   },
   {
    "duration": 9,
    "start_time": "2022-10-28T13:45:41.979Z"
   },
   {
    "duration": 3,
    "start_time": "2022-10-28T13:45:41.989Z"
   },
   {
    "duration": 7,
    "start_time": "2022-10-28T13:45:41.994Z"
   },
   {
    "duration": 253,
    "start_time": "2022-10-28T13:45:42.002Z"
   },
   {
    "duration": 12538,
    "start_time": "2022-10-28T13:45:42.257Z"
   },
   {
    "duration": 202,
    "start_time": "2022-10-28T13:45:54.799Z"
   },
   {
    "duration": 1771,
    "start_time": "2022-10-28T13:45:55.003Z"
   },
   {
    "duration": 7,
    "start_time": "2022-10-28T13:45:56.776Z"
   },
   {
    "duration": 16,
    "start_time": "2022-10-28T13:45:56.785Z"
   },
   {
    "duration": 5,
    "start_time": "2022-10-28T13:45:56.802Z"
   },
   {
    "duration": 17,
    "start_time": "2022-10-28T13:45:56.808Z"
   },
   {
    "duration": 8,
    "start_time": "2022-10-28T13:45:56.826Z"
   },
   {
    "duration": 97,
    "start_time": "2022-10-28T13:48:13.275Z"
   },
   {
    "duration": 20,
    "start_time": "2022-10-28T13:49:00.770Z"
   },
   {
    "duration": 812,
    "start_time": "2022-10-28T13:49:14.155Z"
   },
   {
    "duration": 56,
    "start_time": "2022-10-28T13:50:17.450Z"
   }
  ],
  "kernelspec": {
   "display_name": "Python 3 (ipykernel)",
   "language": "python",
   "name": "python3"
  },
  "language_info": {
   "codemirror_mode": {
    "name": "ipython",
    "version": 3
   },
   "file_extension": ".py",
   "mimetype": "text/x-python",
   "name": "python",
   "nbconvert_exporter": "python",
   "pygments_lexer": "ipython3",
   "version": "3.9.5"
  },
  "toc": {
   "base_numbering": 1,
   "nav_menu": {},
   "number_sections": true,
   "sideBar": true,
   "skip_h1_title": true,
   "title_cell": "Table of Contents",
   "title_sidebar": "Contents",
   "toc_cell": false,
   "toc_position": {},
   "toc_section_display": true,
   "toc_window_display": false
  }
 },
 "nbformat": 4,
 "nbformat_minor": 2
}
