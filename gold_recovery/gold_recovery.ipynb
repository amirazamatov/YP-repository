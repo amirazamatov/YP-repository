{
 "cells": [
  {
   "cell_type": "markdown",
   "metadata": {
    "toc": true
   },
   "source": [
    "<h1>Содержание<span class=\"tocSkip\"></span></h1>\n",
    "<div class=\"toc\"><ul class=\"toc-item\"><li><span><a href=\"#Подготовка-данных\" data-toc-modified-id=\"Подготовка-данных-1\"><span class=\"toc-item-num\">1&nbsp;&nbsp;</span>Подготовка данных</a></span><ul class=\"toc-item\"><li><span><a href=\"#Промежуточные-выводы:\" data-toc-modified-id=\"Промежуточные-выводы:-1.1\"><span class=\"toc-item-num\">1.1&nbsp;&nbsp;</span>Промежуточные выводы:</a></span></li><li><span><a href=\"#Проверим-правильность-расчета-эффективности-обогащения\" data-toc-modified-id=\"Проверим-правильность-расчета-эффективности-обогащения-1.2\"><span class=\"toc-item-num\">1.2&nbsp;&nbsp;</span>Проверим правильность расчета эффективности обогащения</a></span></li><li><span><a href=\"#Проанализируем-признаки,-недоступные-в-тестовой-выборке.\" data-toc-modified-id=\"Проанализируем-признаки,-недоступные-в-тестовой-выборке.-1.3\"><span class=\"toc-item-num\">1.3&nbsp;&nbsp;</span>Проанализируем признаки, недоступные в тестовой выборке.</a></span></li><li><span><a href=\"#Предобработка-данных\" data-toc-modified-id=\"Предобработка-данных-1.4\"><span class=\"toc-item-num\">1.4&nbsp;&nbsp;</span>Предобработка данных</a></span></li></ul></li><li><span><a href=\"#Анализ-данных\" data-toc-modified-id=\"Анализ-данных-2\"><span class=\"toc-item-num\">2&nbsp;&nbsp;</span>Анализ данных</a></span><ul class=\"toc-item\"><li><span><a href=\"#Оценим,-как-меняется-концентрация-металлов-(Au,-Ag,-Pb)-на-различных-этапах-очистки.\" data-toc-modified-id=\"Оценим,-как-меняется-концентрация-металлов-(Au,-Ag,-Pb)-на-различных-этапах-очистки.-2.1\"><span class=\"toc-item-num\">2.1&nbsp;&nbsp;</span>Оценим, как меняется концентрация металлов (Au, Ag, Pb) на различных этапах очистки.</a></span></li><li><span><a href=\"#Сравним-распределение-размеров-гранул-сырья-на-обучающей-и-тестовой-выборках\" data-toc-modified-id=\"Сравним-распределение-размеров-гранул-сырья-на-обучающей-и-тестовой-выборках-2.2\"><span class=\"toc-item-num\">2.2&nbsp;&nbsp;</span>Сравним распределение размеров гранул сырья на обучающей и тестовой выборках</a></span></li><li><span><a href=\"#Исследуем-суммарную-концентрацию-всех-веществ-на-разных-стадиях:\" data-toc-modified-id=\"Исследуем-суммарную-концентрацию-всех-веществ-на-разных-стадиях:-2.3\"><span class=\"toc-item-num\">2.3&nbsp;&nbsp;</span>Исследуем суммарную концентрацию всех веществ на разных стадиях:</a></span><ul class=\"toc-item\"><li><span><a href=\"#Содержание-веществ-в-сырье\" data-toc-modified-id=\"Содержание-веществ-в-сырье-2.3.1\"><span class=\"toc-item-num\">2.3.1&nbsp;&nbsp;</span>Содержание веществ в сырье</a></span></li><li><span><a href=\"#Содержание-веществ-в-черновом-концентрате\" data-toc-modified-id=\"Содержание-веществ-в-черновом-концентрате-2.3.2\"><span class=\"toc-item-num\">2.3.2&nbsp;&nbsp;</span>Содержание веществ в черновом концентрате</a></span></li><li><span><a href=\"#Содержание-веществ-в-финальном-концентрате\" data-toc-modified-id=\"Содержание-веществ-в-финальном-концентрате-2.3.3\"><span class=\"toc-item-num\">2.3.3&nbsp;&nbsp;</span>Содержание веществ в финальном концентрате</a></span></li></ul></li></ul></li><li><span><a href=\"#Модель\" data-toc-modified-id=\"Модель-3\"><span class=\"toc-item-num\">3&nbsp;&nbsp;</span>Модель</a></span><ul class=\"toc-item\"><li><span><a href=\"#Напишем-функцию-для-вычисления-итоговой-sMAPE.\" data-toc-modified-id=\"Напишем-функцию-для-вычисления-итоговой-sMAPE.-3.1\"><span class=\"toc-item-num\">3.1&nbsp;&nbsp;</span>Напишем функцию для вычисления итоговой sMAPE.</a></span></li><li><span><a href=\"#Подготовка-к-моделированию\" data-toc-modified-id=\"Подготовка-к-моделированию-3.2\"><span class=\"toc-item-num\">3.2&nbsp;&nbsp;</span>Подготовка к моделированию</a></span></li><li><span><a href=\"#Обучение-модели.\" data-toc-modified-id=\"Обучение-модели.-3.3\"><span class=\"toc-item-num\">3.3&nbsp;&nbsp;</span>Обучение модели.</a></span><ul class=\"toc-item\"><li><span><a href=\"#Decision-Tree\" data-toc-modified-id=\"Decision-Tree-3.3.1\"><span class=\"toc-item-num\">3.3.1&nbsp;&nbsp;</span>Decision Tree</a></span></li><li><span><a href=\"#Random-Forest\" data-toc-modified-id=\"Random-Forest-3.3.2\"><span class=\"toc-item-num\">3.3.2&nbsp;&nbsp;</span>Random Forest</a></span></li><li><span><a href=\"#Linear-Regression\" data-toc-modified-id=\"Linear-Regression-3.3.3\"><span class=\"toc-item-num\">3.3.3&nbsp;&nbsp;</span>Linear Regression</a></span></li><li><span><a href=\"#LGBMRegressor\" data-toc-modified-id=\"LGBMRegressor-3.3.4\"><span class=\"toc-item-num\">3.3.4&nbsp;&nbsp;</span>LGBMRegressor</a></span></li></ul></li></ul></li><li><span><a href=\"#Выводы\" data-toc-modified-id=\"Выводы-4\"><span class=\"toc-item-num\">4&nbsp;&nbsp;</span>Выводы</a></span></li></ul></div>"
   ]
  },
  {
   "cell_type": "markdown",
   "metadata": {},
   "source": [
    "# Восстановление золота из руды"
   ]
  },
  {
   "cell_type": "markdown",
   "metadata": {},
   "source": [
    "Необходимо подготовить прототип модели машинного обучения для компании, которая разрабатывает решения для эффективной работы промышленных предприятий.\n",
    "\n",
    "Модель должна предсказать коэффициент восстановления золота из золотосодержащей руды. В нашем распоряжении данные с параметрами добычи и очистки. \n",
    "\n",
    "Модель поможет оптимизировать производство, чтобы не запускать предприятие с убыточными характеристиками.\n",
    "\n"
   ]
  },
  {
   "cell_type": "markdown",
   "metadata": {},
   "source": [
    "## Подготовка данных"
   ]
  },
  {
   "cell_type": "code",
   "execution_count": null,
   "metadata": {
    "scrolled": true
   },
   "outputs": [],
   "source": [
    "#загружаем необходимые библиотеки\n",
    "import pandas as pd\n",
    "import matplotlib.pyplot as plt\n",
    "import seaborn as sns\n",
    "import warnings\n",
    "\n",
    "from scipy import stats as st\n",
    "\n",
    "from sklearn.model_selection import RandomizedSearchCV\n",
    "from sklearn.linear_model import LinearRegression\n",
    "from sklearn.tree import DecisionTreeRegressor\n",
    "from sklearn.ensemble import RandomForestRegressor\n",
    "from sklearn.metrics import make_scorer, mean_absolute_error\n",
    "from sklearn.preprocessing import StandardScaler\n",
    "from sklearn.dummy import DummyRegressor\n",
    "\n",
    "from lightgbm import LGBMRegressor\n",
    "\n",
    "warnings.filterwarnings('ignore')"
   ]
  },
  {
   "cell_type": "code",
   "execution_count": null,
   "metadata": {},
   "outputs": [],
   "source": [
    "STATE = 123"
   ]
  },
  {
   "cell_type": "code",
   "execution_count": null,
   "metadata": {},
   "outputs": [],
   "source": [
    "data = []\n",
    "try:\n",
    "    data.append(pd.read_csv('/datasets/gold_recovery_train_new.csv'))\n",
    "    data.append(pd.read_csv('/datasets/gold_recovery_test_new.csv'))\n",
    "    data.append(pd.read_csv('/datasets/gold_recovery_full_new.csv'))\n",
    "except:\n",
    "    data.append(pd.read_csv('/Users/amirk/Downloads/gold_recovery_train_new.csv'))\n",
    "    data.append(pd.read_csv('/Users/amirk/Downloads/gold_recovery_test_new.csv'))\n",
    "    data.append(pd.read_csv('/Users/amirk/Downloads/gold_recovery_full_new.csv'))"
   ]
  },
  {
   "cell_type": "code",
   "execution_count": null,
   "metadata": {},
   "outputs": [],
   "source": [
    "#функция для изучения основных параметров датасета\n",
    "def research_data(data):\n",
    "    print(data.info())\n",
    "    display(data.head(10))\n",
    "    print()\n",
    "    print(data.describe())   "
   ]
  },
  {
   "cell_type": "code",
   "execution_count": null,
   "metadata": {
    "scrolled": true
   },
   "outputs": [],
   "source": [
    "research_data(data[0])"
   ]
  },
  {
   "cell_type": "code",
   "execution_count": null,
   "metadata": {},
   "outputs": [],
   "source": [
    "research_data(data[1])"
   ]
  },
  {
   "cell_type": "code",
   "execution_count": null,
   "metadata": {},
   "outputs": [],
   "source": [
    "research_data(data[2])"
   ]
  },
  {
   "cell_type": "markdown",
   "metadata": {},
   "source": [
    "### Промежуточные выводы:\n",
    "- в датасете `gold_recovery_train_new` представлено 87 признаков, описывающих процесс восстановления золота из руды. Столбец **data** имеет тип данных **object**, нужно заменить на **datetime**. В некоторых столбцах присутсвуют пропуски. Попробуем заполнить их данными из датасета `gold_recovery_full_new`, если пропуски останутся заполним их медианными значениями.\n",
    "- в датасете `gold_recovery_test_new` представлено 53 признака, причем нет целевых признаков, необходимых для расчета **SMAPE**, это **rougher.output.recovery** и **final.output.recovery**. В столбце **date** также изменим тип данных. Пропуски постараемся заполнить аналогичным образом. В некоторых столбцах присутсвуют пропуски. Попробуем заполнить их данными из датасета `gold_recovery_full_new`, если пропуски останутся заполним их медианными значениями.\n",
    "- в датасете `gold_recovery_full_new` представлено также 87 признаков. В столбце **date** изменим тип данных.   \n",
    "\n",
    "Внесем все необходимые изменения на этапе предобработки данных."
   ]
  },
  {
   "cell_type": "markdown",
   "metadata": {},
   "source": [
    "### Проверим правильность расчета эффективности обогащения    \n",
    "- вычислим эффективность обогащения на обучающей выборке для признака rougher.output.recovery \n",
    "- найдем MAE между своими расчётами и значением признака"
   ]
  },
  {
   "cell_type": "code",
   "execution_count": null,
   "metadata": {},
   "outputs": [],
   "source": [
    "def recovery_calc(c, f, t):\n",
    "    recovery = c * (f - t) / (f * (c - t)) * 100\n",
    "    return recovery"
   ]
  },
  {
   "cell_type": "code",
   "execution_count": null,
   "metadata": {},
   "outputs": [],
   "source": [
    "tempt_table = pd.DataFrame()\n",
    "tempt_table['rougher.output.recovery'] = data[0]['rougher.output.recovery']\n",
    "tempt_table['rougher.output.recovery_my'] = recovery_calc(data[0]['rougher.output.concentrate_au'], \n",
    "                                                          data[0]['rougher.input.feed_au'], \n",
    "                                                          data[0]['rougher.output.tail_au'])\n",
    "tempt_table['mae'] = mean_absolute_error(tempt_table['rougher.output.recovery'], tempt_table['rougher.output.recovery_my'])\n",
    "tempt_table"
   ]
  },
  {
   "cell_type": "markdown",
   "metadata": {},
   "source": [
    "Эффективность обогащения рассчитана правильно, MAE приближается к 0."
   ]
  },
  {
   "cell_type": "markdown",
   "metadata": {},
   "source": [
    "### Проанализируем признаки, недоступные в тестовой выборке."
   ]
  },
  {
   "cell_type": "code",
   "execution_count": null,
   "metadata": {},
   "outputs": [],
   "source": [
    "#найдем признаки недоступные в тестовой выборке\n",
    "not_av_features = data[0].drop(data[1].columns, axis=1)\n",
    "not_av_features.info()"
   ]
  },
  {
   "cell_type": "markdown",
   "metadata": {},
   "source": [
    "В тестовой выборке недостуны признаки, которые рассчитываются в процессе восстановления золота из руды. Это концентрации различных примесей до определенного этапа обработки, после данного этапа, их соотношения, тип всех данных **float**.  \n",
    "\n",
    "Необходимо уточнить у заказчика, будут ли нам доступны данные показатели при прогнозировании эффективности обогащения. Исходя из условий задания, для нас будут доступны только показатели из тестовой выборки, поэтому при создании моделей будем использовать только указанные показатели.     \n",
    "Из обучающего датасета удалим недоступные в тестовой выборке признаки."
   ]
  },
  {
   "cell_type": "markdown",
   "metadata": {},
   "source": [
    "### Предобработка данных"
   ]
  },
  {
   "cell_type": "code",
   "execution_count": null,
   "metadata": {},
   "outputs": [],
   "source": [
    "# добавим целевые признаки в тестовый датасет\n",
    "data[1] = data[1].merge(data[2][['date', 'rougher.output.recovery', 'final.output.recovery']], how='left', on='date')"
   ]
  },
  {
   "cell_type": "code",
   "execution_count": null,
   "metadata": {},
   "outputs": [],
   "source": [
    "data[1].info()"
   ]
  },
  {
   "cell_type": "code",
   "execution_count": null,
   "metadata": {},
   "outputs": [],
   "source": [
    "# удалим из тренировочного датасета параметры, которых нет в тестовой выборке\n",
    "data[0] = data[0].drop(data[0].drop(data[1].columns, axis=1).columns, axis=1)"
   ]
  },
  {
   "cell_type": "code",
   "execution_count": null,
   "metadata": {},
   "outputs": [],
   "source": [
    "data[0].info()"
   ]
  },
  {
   "cell_type": "code",
   "execution_count": null,
   "metadata": {},
   "outputs": [],
   "source": [
    "# напишем функцию для замены типа данных в столбце date\n",
    "def transform_date(data):\n",
    "    data['date'] = pd.to_datetime(data['date'], format='%Y%m%dT%H:%M:%S')"
   ]
  },
  {
   "cell_type": "code",
   "execution_count": null,
   "metadata": {},
   "outputs": [],
   "source": [
    "#заменим формат в столбце date\n",
    "for i in data:\n",
    "    transform_date(i)"
   ]
  },
  {
   "cell_type": "code",
   "execution_count": null,
   "metadata": {},
   "outputs": [],
   "source": [
    "#функция для заполнения пропусков данными из датафрейма gold_recovery_full_new\n",
    "def fill_nan(data_nan, data_full):\n",
    "    data_x = data_nan.isna().sum() #для лучшей читаемости кода сделаю в несколько строк\n",
    "    data_x = data_x.loc[data_x[:,] > 0]\n",
    "    data_nan[data_x.index] = data_nan[data_x.index].fillna(data_full[data_x.index])\n",
    "    return data_nan"
   ]
  },
  {
   "cell_type": "code",
   "execution_count": null,
   "metadata": {},
   "outputs": [],
   "source": [
    "data[0] = fill_nan(data[0], data[2])"
   ]
  },
  {
   "cell_type": "code",
   "execution_count": null,
   "metadata": {},
   "outputs": [],
   "source": [
    "data[0].isna().sum().sort_values()"
   ]
  },
  {
   "cell_type": "code",
   "execution_count": null,
   "metadata": {},
   "outputs": [],
   "source": [
    "data[1] = fill_nan(data[1], data[2])"
   ]
  },
  {
   "cell_type": "code",
   "execution_count": null,
   "metadata": {},
   "outputs": [],
   "source": [
    "data[1].isna().sum().sort_values()"
   ]
  },
  {
   "cell_type": "markdown",
   "metadata": {},
   "source": [
    "В тренировочной и тестовой выборках нет пропусков в целевых признаках. Остальные пропуски заменим медианами признаков из общего датасета, сгруппированными по годам, месяцам и дням. Для этого добавим столбцы с годом, месяцем и днем."
   ]
  },
  {
   "cell_type": "code",
   "execution_count": null,
   "metadata": {},
   "outputs": [],
   "source": [
    "def time_columns(data):\n",
    "    data['day'] = data['date'].dt.day\n",
    "    data['month'] = data['date'].dt.month\n",
    "    data['year'] = data['date'].dt.year"
   ]
  },
  {
   "cell_type": "code",
   "execution_count": null,
   "metadata": {},
   "outputs": [],
   "source": [
    "time_columns(data[0])"
   ]
  },
  {
   "cell_type": "code",
   "execution_count": null,
   "metadata": {},
   "outputs": [],
   "source": [
    "time_columns(data[1])"
   ]
  },
  {
   "cell_type": "code",
   "execution_count": null,
   "metadata": {},
   "outputs": [],
   "source": [
    "time_columns(data[2])"
   ]
  },
  {
   "cell_type": "code",
   "execution_count": null,
   "metadata": {},
   "outputs": [],
   "source": [
    "# функция для заполнения пропусков медианой\n",
    "def fill_nan_by_time(data):\n",
    "    data_nan = data.isna().sum() #найдем названия колонок с пропусками\n",
    "    nan_columns = data_nan.loc[data_nan[:,] > 0].index\n",
    "    #для колонок с пропусками найдем медианы, добавим эту колонку в датафрейм, заполним пропуски и удалим столбец с медианой\n",
    "    for i in nan_columns: \n",
    "        median_feature = data.groupby(by=['year', 'month', 'day'])[i].median()\n",
    "        median_feature.name = ('nan_feature')\n",
    "        data = data.merge(median_feature, how='left', on=['year', 'month', 'day'])\n",
    "        data[i] = data[i].fillna(data['nan_feature'])\n",
    "        data = data.drop('nan_feature', axis=1)\n",
    "        #если в колонке остались пропуски дозаполним их медианой за месяц\n",
    "        if data[i].isna().sum() > 0:\n",
    "            median_feature = data.groupby(by=['year', 'month'])[i].median()\n",
    "            median_feature.name = ('nan_feature')\n",
    "            data = data.merge(median_feature, how='left', on=['year', 'month'])\n",
    "            data[i] = data[i].fillna(data['nan_feature'])\n",
    "            data = data.drop('nan_feature', axis=1)\n",
    "    data = data.drop(['year', 'month', 'day'], axis=1)\n",
    "    return data"
   ]
  },
  {
   "cell_type": "code",
   "execution_count": null,
   "metadata": {},
   "outputs": [],
   "source": [
    "data[0] = fill_nan_by_time(data[0])"
   ]
  },
  {
   "cell_type": "code",
   "execution_count": null,
   "metadata": {},
   "outputs": [],
   "source": [
    "data[0].info()"
   ]
  },
  {
   "cell_type": "code",
   "execution_count": null,
   "metadata": {},
   "outputs": [],
   "source": [
    "data[1] = fill_nan_by_time(data[1])"
   ]
  },
  {
   "cell_type": "code",
   "execution_count": null,
   "metadata": {},
   "outputs": [],
   "source": [
    "data[1].info()"
   ]
  },
  {
   "cell_type": "markdown",
   "metadata": {},
   "source": [
    "Все пропуски заполнены! Данные готовы для дальнейшей работы!"
   ]
  },
  {
   "cell_type": "markdown",
   "metadata": {},
   "source": [
    "## Анализ данных"
   ]
  },
  {
   "cell_type": "markdown",
   "metadata": {},
   "source": [
    "### Оценим, как меняется концентрация металлов (Au, Ag, Pb) на различных этапах очистки.     \n",
    "Оценка будет проведена на полном датасете."
   ]
  },
  {
   "cell_type": "code",
   "execution_count": null,
   "metadata": {},
   "outputs": [],
   "source": [
    "METALS = ['au', 'ag', 'pb']\n",
    "STAGES = ['rougher.input.feed_', \n",
    "          'rougher.output.concentrate_', \n",
    "          'primary_cleaner.output.concentrate_', \n",
    "          'final.output.concentrate_']\n",
    "STAGES_RUS = ['До очистки', 'После флотации', 'После 1 этапа очистки', 'После 2 этапа очистки']"
   ]
  },
  {
   "cell_type": "code",
   "execution_count": null,
   "metadata": {},
   "outputs": [],
   "source": [
    "#функция для оценки концентрации металлов на разных этапах\n",
    "def metal_concentration(data):\n",
    "    for i in METALS:\n",
    "        table = pd.DataFrame()\n",
    "        for j in range(len(STAGES)):\n",
    "            table[STAGES_RUS[j]] = data[STAGES[j] + i]\n",
    "        print(f'Данные по металлу {i.title()}')\n",
    "        display(table.head())\n",
    "        print(table.describe())\n",
    "        plt.figure(figsize=(10, 4))\n",
    "        sns.boxplot(data=table)\n",
    "        plt.xlabel('Этапы очистки')\n",
    "        plt.ylabel(f'Концентрация {i.title()} (%)')\n",
    "        plt.title(f'Концентрация {i.title()} на различных этапах очистки')\n",
    "        plt.show()\n",
    "        print()"
   ]
  },
  {
   "cell_type": "code",
   "execution_count": null,
   "metadata": {},
   "outputs": [],
   "source": [
    "metal_concentration(data[2])"
   ]
  },
  {
   "cell_type": "markdown",
   "metadata": {},
   "source": [
    "В ходе изучения концентрации металлов на различных этапах очистки мы получили следующие данные:\n",
    "\n",
    "концентрация Au (золото) увеличивается на каждом этапе обработки. В исходной руде медиана содержания Au составила 8.12%, после процедуры флотации - 20.28%, после первого этапа очистки - 32.84% и после второго этапа очистки (итоговый концетрат) - 45.01%. 1 и 3 квартили расположены симметрично, что указывает на нормальное распределение признака.\n",
    "концентрация Ag (серебро) имеет особенности в динамике. После первого этапа очистки концетрация Ag увеличивается, а на последующих этапах очистки уменьшается. В итоге в исходной руде концентрация Ag выше, чем в конечном концентрате. В исходной руде медиана содержания Ag составила 8.89%, после процедуры флотации - 12.09%, после первого этапа очистки - 8.51% и после второго этапа очистки (итоговый концетрат) - 5.07%. Данный признак также распределен нормально.\n",
    "концентрация Pb (свинец) имеет возрастающую динамику в процессе очистки. Вероятно данный металл будет удален из концетрата на дальнейших этапах обработки. Показатель рапределен нормально, в исходной руде медиана содержания Pb составила 3.53%, после процедуры флотации - 7.74%, после первого этапа очистки - 10,15% и после второго этапа очистки (итоговый концетрат) - 10,10%."
   ]
  },
  {
   "cell_type": "markdown",
   "metadata": {},
   "source": [
    "### Сравним распределение размеров гранул сырья на обучающей и тестовой выборках"
   ]
  },
  {
   "cell_type": "code",
   "execution_count": null,
   "metadata": {},
   "outputs": [],
   "source": [
    "# напишем функцию для сравнения любых параметров в тестовой и тренировочной выборках\n",
    "def compare_train_test(train_data, test_data, features):\n",
    "    for i in features:\n",
    "        tempt_table = pd.DataFrame()\n",
    "        tempt_table[i + '_train'] = train_data[i]\n",
    "        tempt_table[i + '_test'] = test_data[i]\n",
    "        print(tempt_table.describe())\n",
    "        #сравним боксплоты \n",
    "        plt.figure(figsize=(8, 4))\n",
    "        sns.boxplot(data=tempt_table)\n",
    "        plt.xlabel('Выборка')\n",
    "        plt.ylabel(f'Величина показателя')\n",
    "        plt.title(f'Сравнение показателя {i} в тестовой и тренировочной выборках')\n",
    "        plt.show()\n",
    "        #проверим статистическую значимость различий.\n",
    "        #гипотеза Н0 - медианы данных выборок равны, Н1 - медианы разные.\n",
    "        alpha = 0.05\n",
    "        result = st.ttest_ind(tempt_table[i + '_train'], tempt_table[i + '_test'], equal_var=False)\n",
    "        if result.pvalue < alpha:\n",
    "            print('Показатели в тестовой и тренировочной выборке имеют статистически значимые различия, могут возникнуть проблемы при построении моделей!')\n",
    "        else:\n",
    "            print('Показатели в тестовой и тренировочной выборке не имеют статистически значимых различий!')\n",
    "        print()"
   ]
  },
  {
   "cell_type": "code",
   "execution_count": null,
   "metadata": {
    "scrolled": true
   },
   "outputs": [],
   "source": [
    "compare_train_test(data[0], data[1], ['rougher.input.feed_size', 'primary_cleaner.input.feed_size']) "
   ]
  },
  {
   "cell_type": "markdown",
   "metadata": {},
   "source": [
    "Исходя из полученных данных, распределение размеров гранул сырья на обучающей и тестовой выборках на всех этапах не имеет значимых различий. Поэтому алгоритм, который будет заложен в модели, должен работать правильно."
   ]
  },
  {
   "cell_type": "markdown",
   "metadata": {},
   "source": [
    "### Исследуем суммарную концентрацию всех веществ на разных стадиях: \n",
    "- в сырье, \n",
    "- в черновом концентрате\n",
    "- в финальном концентрате."
   ]
  },
  {
   "cell_type": "markdown",
   "metadata": {},
   "source": [
    "#### Содержание веществ в сырье"
   ]
  },
  {
   "cell_type": "code",
   "execution_count": null,
   "metadata": {},
   "outputs": [],
   "source": [
    "#напишем функцию для рассчета концентрации веществ на определенном этапе\n",
    "def total_concentration(data, stage):\n",
    "    table = data[[stage + '_au', stage + '_ag', stage + '_pb', stage + '_sol']]\n",
    "    table[stage + '_other'] = 100 - table.iloc[:, 0:4].sum(axis=1) #обозначим оставшуюся часть как 'other'\n",
    "    display(table.head())\n",
    "    # построим боксплот\n",
    "    plt.figure(figsize=(15, 5))\n",
    "    sns.boxplot(data=table)\n",
    "    plt.xlabel('Вещество')\n",
    "    plt.ylabel('Концентрация')\n",
    "    plt.title('Распределение концентрации различных веществ')\n",
    "    plt.show()\n",
    "    #построим пайплот средних концентраций веществ. \n",
    "    percent = list(table.iloc[:, 0:4].mean())\n",
    "    percent.append(100 - sum(percent))\n",
    "    plt.pie(percent, \n",
    "            labels=table.columns, \n",
    "            labeldistance=1.15, \n",
    "            wedgeprops = { 'linewidth' : 3, 'edgecolor' : 'white' },\n",
    "            autopct='%.1f')\n",
    "    plt.title('Средняя концентрации различных веществ в руде')\n",
    "    plt.show()"
   ]
  },
  {
   "cell_type": "code",
   "execution_count": null,
   "metadata": {},
   "outputs": [],
   "source": [
    "total_concentration(data[2], 'rougher.input.feed')"
   ]
  },
  {
   "cell_type": "markdown",
   "metadata": {},
   "source": [
    "В первичном сырье отмечается достаточно низкое содержание металлов **Au**, **Ag**, **Pb**. Большую часть первичного сырья составляет вещество **sol** и прочие примеси (**other**) - практически по **40%**."
   ]
  },
  {
   "cell_type": "markdown",
   "metadata": {},
   "source": [
    "#### Содержание веществ в черновом концентрате"
   ]
  },
  {
   "cell_type": "code",
   "execution_count": null,
   "metadata": {},
   "outputs": [],
   "source": [
    "total_concentration(data[2], 'rougher.output.concentrate')"
   ]
  },
  {
   "cell_type": "markdown",
   "metadata": {},
   "source": [
    "Вчерновом концентрате увеличивается содержание **Au** (до **19.8%**). Концентрация вещества **sol** и веществ **other** снижается до **30%**."
   ]
  },
  {
   "cell_type": "markdown",
   "metadata": {},
   "source": [
    "#### Содержание веществ в финальном концентрате"
   ]
  },
  {
   "cell_type": "code",
   "execution_count": null,
   "metadata": {},
   "outputs": [],
   "source": [
    "total_concentration(data[2], 'final.output.concentrate')"
   ]
  },
  {
   "cell_type": "markdown",
   "metadata": {},
   "source": [
    "В финальном концентрате большую часть объема составляет Au - 44%. Значительно падает концентрация вещества sol, содержание прочих веществ (other ) составляет 31%."
   ]
  },
  {
   "cell_type": "markdown",
   "metadata": {},
   "source": [
    "Исходя из графиков распределения концетрации различных веществ видно, что некоторые значения являются выбросами. Вряд ли существует руда, в которой нулевая концентрация всех элементов. Избавимся от наиболее вероятного выброса в тренировочной выборке, где сумма концентраций всех веществ в концентратах равна 0."
   ]
  },
  {
   "cell_type": "code",
   "execution_count": null,
   "metadata": {},
   "outputs": [],
   "source": [
    "stage = ['final.output.concentrate', 'rougher.output.concentrate', 'rougher.input.feed']\n",
    "for j in stage:\n",
    "    a = data[2][data[2][[j + '_au', j + '_ag', j + '_pb', j + '_sol']].sum(axis=1) == 0]\n",
    "    for i in a.index:\n",
    "        if i in data[0].index:\n",
    "            data[0].drop(index=i, axis=1, inplace=True)\n",
    "        else:\n",
    "            pass\n",
    "    data[0].info()\n",
    "data[0]"
   ]
  },
  {
   "cell_type": "markdown",
   "metadata": {},
   "source": [
    "Так же нам для формулы расчета **recovery** необходимы значения данного показателя на различных этапах. Значение показателя равное нулю очень похоже на выброс. Удалим строки, где значение показателя равно 0."
   ]
  },
  {
   "cell_type": "code",
   "execution_count": null,
   "metadata": {},
   "outputs": [],
   "source": [
    "data[0].drop(index=data[0][data[0]['final.output.recovery'] == 0].index, axis=1, inplace=True)\n",
    "data[0].drop(index=data[0][data[0]['rougher.output.recovery'] == 0].index, axis=1, inplace=True)\n",
    "data[0].info()"
   ]
  },
  {
   "cell_type": "markdown",
   "metadata": {},
   "source": [
    "**В целом можно отметить, что технологический процесс ,направленный на обогащение руды золотом, работает правильно, концентрация золота увеличивается на каждом этапе очистки. Оценим эффективность данного процесса.**"
   ]
  },
  {
   "cell_type": "markdown",
   "metadata": {},
   "source": [
    "## Модель"
   ]
  },
  {
   "cell_type": "markdown",
   "metadata": {},
   "source": [
    "### Напишем функцию для вычисления итоговой sMAPE."
   ]
  },
  {
   "cell_type": "code",
   "execution_count": null,
   "metadata": {},
   "outputs": [],
   "source": [
    "#функция для расчета итоговой sMAPE на тестовой выборке\n",
    "def smape_calc_for_test(final, final_predict, rougher, rougher_predict):\n",
    "    smape_final = 100 / len(final) * sum(2 * abs(final - final_predict) / \n",
    "                                        (abs(final) + abs(final_predict)))\n",
    "    smape_rougher = 100 / len(rougher) * sum(2 * abs(rougher - rougher_predict) / \n",
    "                                        (abs(rougher) + abs(rougher_predict)))\n",
    "    result = 0.25 * smape_rougher + 0.75 * smape_final\n",
    "    print(f'Итоговая sMAPE равна {result:0.2f}%')"
   ]
  },
  {
   "cell_type": "code",
   "execution_count": null,
   "metadata": {},
   "outputs": [],
   "source": [
    "#функция для расчета sMAPE для отдельных признаков. \n",
    "def smape_calc(feature, predict):\n",
    "    smape = 100 / len(feature) * sum(2 * abs(feature - predict) / \n",
    "                                        (abs(feature) + abs(predict)))\n",
    "    return smape "
   ]
  },
  {
   "cell_type": "code",
   "execution_count": null,
   "metadata": {},
   "outputs": [],
   "source": [
    "# функция для расчета итоговой sMAPE\n",
    "def final_smape_calc(smape_rough, smape_fin):\n",
    "    result = 0.25 * smape_rough + 0.75 * smape_fin\n",
    "    return result"
   ]
  },
  {
   "cell_type": "markdown",
   "metadata": {},
   "source": [
    "### Подготовка к моделированию"
   ]
  },
  {
   "cell_type": "code",
   "execution_count": null,
   "metadata": {},
   "outputs": [],
   "source": [
    "# функция для масштабирования признаков\n",
    "def scaler_transform(data_train, data_test):\n",
    "    scaler = StandardScaler()\n",
    "    X_train = scaler.fit_transform(data_train)\n",
    "    X_test = scaler.transform(data_test)\n",
    "    return X_train, X_test"
   ]
  },
  {
   "cell_type": "code",
   "execution_count": null,
   "metadata": {},
   "outputs": [],
   "source": [
    "# функция для разделения тренировочной и тестовой выборок на таргет и фичи, с масштабированием значений фичей\n",
    "def make_feature_target(data_train, data_test):\n",
    "    X_train = data_train.drop(['date', 'final.output.recovery', 'rougher.output.recovery'], axis=1)\n",
    "    y_train_final = data_train['final.output.recovery'] \n",
    "    y_train_rougher = data_train['rougher.output.recovery']\n",
    "    X_test = data_test.drop(['date', 'final.output.recovery', 'rougher.output.recovery'], axis=1)\n",
    "    y_test_final = data_test['final.output.recovery'] \n",
    "    y_test_rougher = data_test['rougher.output.recovery']\n",
    "    X_train, X_test = scaler_transform(X_train, X_test)\n",
    "    return X_train, y_train_final, y_train_rougher, X_test, y_test_final, y_test_rougher"
   ]
  },
  {
   "cell_type": "code",
   "execution_count": null,
   "metadata": {},
   "outputs": [],
   "source": [
    "final_data = make_feature_target(data[0], data[1])"
   ]
  },
  {
   "cell_type": "code",
   "execution_count": null,
   "metadata": {},
   "outputs": [],
   "source": [
    "#создадим новый scorer для выбора лучшей модели при проведении кроссвалидации\n",
    "smape_scorer = make_scorer(smape_calc, greater_is_better=False)"
   ]
  },
  {
   "cell_type": "markdown",
   "metadata": {},
   "source": [
    "### Обучение модели.    \n",
    "Обучим молель **DecisionTree**, **RandomForest** и **LinearRegression**."
   ]
  },
  {
   "cell_type": "markdown",
   "metadata": {},
   "source": [
    "#### Decision Tree"
   ]
  },
  {
   "cell_type": "code",
   "execution_count": null,
   "metadata": {},
   "outputs": [],
   "source": [
    "#функция для поиска лучшей модели дерево решений\n",
    "def best_model_dtr(X_train, y_train_final, y_train_rougher):\n",
    "    model = DecisionTreeRegressor(random_state=STATE)\n",
    "    params = {'max_depth':range(1,10),\n",
    "              'min_samples_split':range(2,5),\n",
    "              'min_samples_leaf':range(1,5)}\n",
    "    grid_model_final = RandomizedSearchCV(model, \n",
    "                                          params, \n",
    "                                          cv=5, \n",
    "                                          scoring=smape_scorer, \n",
    "                                          error_score='raise', \n",
    "                                          n_jobs=-1, \n",
    "                                          verbose=1)\n",
    "    grid_model_final.fit(X_train, y_train_final)\n",
    "    grid_model_rougher = RandomizedSearchCV(model, \n",
    "                                            params, \n",
    "                                            cv=5, \n",
    "                                            scoring=smape_scorer,\n",
    "                                            error_score='raise', \n",
    "                                            n_jobs=-1, \n",
    "                                            verbose=1)\n",
    "    grid_model_rougher.fit(X_train, y_train_rougher)\n",
    "    print('Значение sMAPE у лучшей модели, прогнозирующей final.output.recovery = ', grid_model_final.best_score_)\n",
    "    print('Лучшие параметры модели:', grid_model_final.best_params_)\n",
    "    print('Значение sMAPE у лучшей модели, прогнозирующей rougher.output.recovery = ', grid_model_rougher.best_score_)\n",
    "    print('Лучшие параметры модели:', grid_model_rougher.best_params_)\n",
    "    print('Итоговое значение sMAPE равно ', final_smape_calc(grid_model_rougher.best_score_, grid_model_final.best_score_))\n",
    "    return grid_model_final, grid_model_rougher"
   ]
  },
  {
   "cell_type": "code",
   "execution_count": null,
   "metadata": {},
   "outputs": [],
   "source": [
    "dtr_model_final, dtr_model_rougher = best_model_dtr(final_data[0], final_data[1], final_data[2])"
   ]
  },
  {
   "cell_type": "markdown",
   "metadata": {},
   "source": [
    "#### Random Forest"
   ]
  },
  {
   "cell_type": "code",
   "execution_count": null,
   "metadata": {},
   "outputs": [],
   "source": [
    "# Для начала найдем лучшие параметры модели на небольшом количестве деревьев \n",
    "#с целью экономии времени обучения, а в целом можно и нужно количество деревьев сразу смотреть.\n",
    "# Затем подберем такой гиперпараметр как количество деревьев\n",
    "def best_model_rfr(X_train, y_train_final, y_train_rougher):\n",
    "    model = RandomForestRegressor(random_state=STATE, n_estimators=20)\n",
    "    params = {'max_depth':range(1,10), 'min_samples_split':range(2,5), 'min_samples_leaf':range(1,5)}\n",
    "    grid_model_final = RandomizedSearchCV(model, \n",
    "                                          params, \n",
    "                                          cv=5, \n",
    "                                          scoring='neg_mean_absolute_error', \n",
    "                                          refit='neg_mean_absolute_error', \n",
    "                                          error_score='raise', \n",
    "                                          n_jobs=-1, \n",
    "                                          verbose=1,\n",
    "                                          random_state=STATE)\n",
    "    grid_model_final.fit(X_train, y_train_final)\n",
    "    grid_model_rougher = RandomizedSearchCV(model, \n",
    "                                            params, \n",
    "                                            cv=5, \n",
    "                                            scoring='neg_mean_absolute_error', \n",
    "                                            refit='neg_mean_absolute_error', \n",
    "                                            error_score='raise', \n",
    "                                            n_jobs=-1, \n",
    "                                            verbose=1,\n",
    "                                            random_state=STATE)\n",
    "    grid_model_rougher.fit(X_train, y_train_rougher)\n",
    "    model = RandomForestRegressor(random_state=STATE)\n",
    "    params_final = {'n_estimators':range(20,200,10), \n",
    "                    'max_depth':[grid_model_final.best_params_['max_depth']],\n",
    "                    'min_samples_split':[grid_model_final.best_params_['min_samples_split']],\n",
    "                    'min_samples_leaf':[grid_model_final.best_params_['min_samples_leaf']]}\n",
    "    params_rougher = {'n_estimators':range(20,200,10), \n",
    "                      'max_depth':[grid_model_rougher.best_params_['max_depth']],\n",
    "                      'min_samples_split':[grid_model_rougher.best_params_['min_samples_split']],\n",
    "                      'min_samples_leaf':[grid_model_rougher.best_params_['min_samples_leaf']]}\n",
    "    grid_model_final = RandomizedSearchCV(model, \n",
    "                                          params_final, \n",
    "                                          cv=5, \n",
    "                                          scoring=smape_scorer, \n",
    "                                          error_score='raise', \n",
    "                                          n_jobs=-1, \n",
    "                                          verbose=1,\n",
    "                                          random_state=STATE)\n",
    "    grid_model_final.fit(X_train, y_train_final)\n",
    "    grid_model_rougher = RandomizedSearchCV(model, \n",
    "                                            params_rougher, \n",
    "                                            cv=5, \n",
    "                                            scoring=smape_scorer, \n",
    "                                            error_score='raise', \n",
    "                                            n_jobs=-1, \n",
    "                                            verbose=1,\n",
    "                                            random_state=STATE)\n",
    "    grid_model_rougher.fit(X_train, y_train_rougher)\n",
    "    print('Значение sMAPE у лучшей модели, прогнозирующей final.output.recovery = ', grid_model_final.best_score_)\n",
    "    print('Лучшие параметры модели:', grid_model_final.best_params_)\n",
    "    print('Значение sMAPE у лучшей модели, прогнозирующей rougher.output.recovery = ', grid_model_rougher.best_score_)\n",
    "    print('Лучшие параметры модели:', grid_model_rougher.best_params_)\n",
    "    print('Итоговое значение sMAPE равно ', final_smape_calc(grid_model_rougher.best_score_, grid_model_final.best_score_))\n",
    "    return grid_model_final, grid_model_rougher"
   ]
  },
  {
   "cell_type": "code",
   "execution_count": null,
   "metadata": {},
   "outputs": [],
   "source": [
    "rfr_model_final, rfr_model_rougher = best_model_rfr(final_data[0], final_data[1], final_data[2])"
   ]
  },
  {
   "cell_type": "markdown",
   "metadata": {},
   "source": [
    "#### Linear Regression"
   ]
  },
  {
   "cell_type": "code",
   "execution_count": null,
   "metadata": {},
   "outputs": [],
   "source": [
    "# функция для поиска лучшей модели линейной регрессии\n",
    "def best_model_lr(X_train, y_train_final, y_train_rougher):\n",
    "    model = LinearRegression()\n",
    "    params = {}\n",
    "    grid_model_final = RandomizedSearchCV(model, \n",
    "                                          params, \n",
    "                                          cv=5, \n",
    "                                          scoring=smape_scorer, \n",
    "                                          error_score='raise', \n",
    "                                          n_jobs=-1, \n",
    "                                          verbose=1,\n",
    "                                          random_state=STATE)\n",
    "    grid_model_final.fit(X_train, y_train_final)\n",
    "    grid_model_rougher = RandomizedSearchCV(model, \n",
    "                                            params, \n",
    "                                            cv=5, \n",
    "                                            scoring=smape_scorer, \n",
    "                                            error_score='raise', \n",
    "                                            n_jobs=-1, \n",
    "                                            verbose=1,\n",
    "                                            random_state=STATE)\n",
    "    grid_model_rougher.fit(X_train, y_train_rougher)\n",
    "    print('Значение sMAPE у лучшей модели, прогнозирующей final.output.recovery = ', grid_model_final.best_score_)\n",
    "    print('Значение sMAPE у лучшей модели, прогнозирующей rougher.output.recovery = ', grid_model_rougher.best_score_)\n",
    "    print('Итоговое значение sMAPE равно ', final_smape_calc(grid_model_rougher.best_score_, grid_model_final.best_score_))\n",
    "    return grid_model_final, grid_model_rougher"
   ]
  },
  {
   "cell_type": "code",
   "execution_count": null,
   "metadata": {},
   "outputs": [],
   "source": [
    "lr_model_final, lr_model_rougher = best_model_lr(final_data[0], final_data[1], final_data[2])"
   ]
  },
  {
   "cell_type": "markdown",
   "metadata": {},
   "source": [
    "#### LGBMRegressor"
   ]
  },
  {
   "cell_type": "code",
   "execution_count": null,
   "metadata": {},
   "outputs": [],
   "source": [
    "# функция для поиска лучшей модели LGBMRegressor\n",
    "def best_model_lgbm(X_train, y_train_final, y_train_rougher):\n",
    "    model = LGBMRegressor(random_state=STATE)\n",
    "    params = {'learning_rate':(0.001, 0.01, 0.1, 0.2, 0.3, 0.4, 0.5, 0.6, 0.7, 0.8, 0.9),\n",
    "              'n_estimators':range(20, 200, 20), \n",
    "              'max_depth':range(1,15), \n",
    "              'min_data_in_leaf':range(1,40)}\n",
    "    grid_model_final = RandomizedSearchCV(model, \n",
    "                                          params, \n",
    "                                          cv=5, \n",
    "                                          scoring=smape_scorer, \n",
    "                                          error_score='raise', \n",
    "                                          n_jobs=-1, \n",
    "                                          verbose=1,\n",
    "                                          random_state=STATE)\n",
    "    grid_model_final.fit(X_train, y_train_final)\n",
    "    grid_model_rougher = RandomizedSearchCV(model, \n",
    "                                            params, \n",
    "                                            cv=5, \n",
    "                                            scoring=smape_scorer, \n",
    "                                            error_score='raise', \n",
    "                                            n_jobs=-1, \n",
    "                                            verbose=1,\n",
    "                                            random_state=STATE)\n",
    "    grid_model_rougher.fit(X_train, y_train_rougher)\n",
    "    print('Значение sMAPE у лучшей модели, прогнозирующей final.output.recovery = ', grid_model_final.best_score_)\n",
    "    print('Значение sMAPE у лучшей модели, прогнозирующей rougher.output.recovery = ', grid_model_rougher.best_score_)\n",
    "    print('Итоговое значение sMAPE равно ', final_smape_calc(grid_model_rougher.best_score_, grid_model_final.best_score_))\n",
    "    return grid_model_final, grid_model_rougher"
   ]
  },
  {
   "cell_type": "code",
   "execution_count": null,
   "metadata": {},
   "outputs": [],
   "source": [
    "lgbm_model_final, lgbm_model_rougher = best_model_lgbm(final_data[0], final_data[1], final_data[2])"
   ]
  },
  {
   "cell_type": "markdown",
   "metadata": {},
   "source": [
    "Лучшей моделью для рассчета итоговой sMAPE по итогам проведенного исследования оказалась модель **Random Forest**. Итоговое значение sMAPE на тренировочной выборке было равно **8.37%**. Именно данную модель решено использовать для работы с тестовой выборкой. "
   ]
  },
  {
   "cell_type": "code",
   "execution_count": null,
   "metadata": {},
   "outputs": [],
   "source": [
    "rfr_fin = rfr_model_final.predict(final_data[3])\n",
    "rfr_rough = rfr_model_rougher.predict(final_data[3])\n",
    "smape_calc_for_test(final_data[4], rfr_fin, final_data[5], rfr_rough)"
   ]
  },
  {
   "cell_type": "code",
   "execution_count": null,
   "metadata": {},
   "outputs": [],
   "source": [
    "dummy_model = DummyRegressor()\n",
    "# предскажем final.recovery\n",
    "dummy_model.fit(final_data[0], final_data[1])\n",
    "dummy_predict_final = dummy_model.predict(final_data[3])\n",
    "# предскажем rougher.recovery\n",
    "dummy_model.fit(final_data[0], final_data[2])\n",
    "dummy_predict_rougher = dummy_model.predict(final_data[3])\n",
    "#найдем итоговую sMAPE\n",
    "smape_calc_for_test(final_data[4], dummy_predict_final, final_data[5], dummy_predict_rougher)"
   ]
  },
  {
   "cell_type": "markdown",
   "metadata": {},
   "source": [
    "## Выводы\n",
    "Перед нами стояла задача предсказания коэффициента восстановления золота из золотосодержащей руды. Были предоставлены 3 датасета с данными, которые нам необходимо было обработать для дальнейшей работы. В ходе работы нами выпонено:\n",
    "- загрузили данные и ознакомились с датасетами. \n",
    "   - в датасете `gold_recovery_train_new` представлено 87 признаков, описывающих процесс восстановления золота из руды. Столбец **data** имеет тип данных **object**, нужно заменить на **datetime**. В некоторых столбцах присутсвуют пропуски. Попробуем заполнить их данными из датасета `gold_recovery_full_new`, если пропуски останутся заполним их медианными значениями.\n",
    "   - в датасете `gold_recovery_test_new` представлено 53 признака, причем нет целевых признаков, необходимых для расчета **SMAPE**, это **rougher.output.recovery** и **final.output.recovery**. В столбце **date** также изменим тип данных. Пропуски постараемся заполнить аналогичным образом. В некоторых столбцах присутсвуют пропуски. Попробуем заполнить их данными из датасета `gold_recovery_full_new`, если пропуски останутся заполним их медианными значениями.\n",
    "   - в датасете `gold_recovery_full_new` представлено также 87 признаков. В столбце **date** изменим тип данных. \n",
    "- проверили правильность расчета эффективности обогащения (эффективность обогащения рассчитана правильно, MAE приближается к 0).\n",
    "- проанализировали признаки, недоступные в тестовой выборке\n",
    "     - В тестовой выборке недоступны признаки, которые рассчитываются в процессе восстановления золота из руды. Это концентрации различных примесей до определенного этапа обработки, после данного этапа, их соотношения, тип всех данных **float**.  \n",
    "     - В процессе прогнозировнаия для нас будут доступны только показатели из тестовой выборки, поэтому при создании моделей будем использовать только указанные показатели. Из обучающего датасета удалили недоступные в тестовой выборке признаки.\n",
    "- провели предобработку данных (заполнили пропуски, добавили целевый признаки, преобразовали столбец с датой)\n",
    "- оценили, как меняется концентрация металлов (Au, Ag, Pb) на различных этапах очистки\n",
    "- сравнили распределение размеров гранул сырья на обучающей и тестовой выборках (с примененим статистических тестов)\n",
    "- исследовали суммарную концентрацию всех веществ в сырье, в черновом концентрате, в финальном концентрате. На основе данного этапа избавились от выборосов в данных.\n",
    "- при моделировании обучили модели **DecisionTree**, **RandomForest** и **LinearRegression** с применением метода кросвалидации.    \n",
    "\n",
    "**Лучшей моделью для рассчета итоговой sMAPE по итогам проведенного исследования оказалась модель Random Forest. Итоговое значение sMAPE на тренировочной выборке было равно 8.37%. Именно данную модель решено использовать для работы с тестовой выборкой.**    \n",
    "\n",
    "**Постоенная нами модель Random Forest показала достаточно высокую эффективность на тестовых данных, итоговая sMAPE равна 9.23%.**    \n",
    "**Данная модель рекомендовала раказчику для примения на производстве.**\n",
    "\n",
    "\n",
    "\n",
    "    "
   ]
  }
 ],
 "metadata": {
  "ExecuteTimeLog": [
   {
    "duration": 90,
    "start_time": "2022-12-01T09:00:36.036Z"
   },
   {
    "duration": 1897,
    "start_time": "2022-12-01T09:00:46.697Z"
   },
   {
    "duration": 26868,
    "start_time": "2022-12-01T09:00:56.623Z"
   },
   {
    "duration": 22,
    "start_time": "2022-12-01T09:06:08.698Z"
   },
   {
    "duration": 2152,
    "start_time": "2022-12-01T09:06:43.372Z"
   },
   {
    "duration": 4594,
    "start_time": "2022-12-01T09:07:01.097Z"
   },
   {
    "duration": 28,
    "start_time": "2022-12-01T09:09:25.747Z"
   },
   {
    "duration": 23,
    "start_time": "2022-12-01T09:12:09.633Z"
   },
   {
    "duration": 27,
    "start_time": "2022-12-01T09:12:39.459Z"
   },
   {
    "duration": 40,
    "start_time": "2022-12-01T09:13:36.160Z"
   },
   {
    "duration": 31,
    "start_time": "2022-12-01T09:14:30.353Z"
   },
   {
    "duration": 28,
    "start_time": "2022-12-01T09:15:13.911Z"
   },
   {
    "duration": 4,
    "start_time": "2022-12-01T09:20:49.625Z"
   },
   {
    "duration": 39,
    "start_time": "2022-12-01T09:21:00.344Z"
   },
   {
    "duration": 19,
    "start_time": "2022-12-01T09:21:16.776Z"
   },
   {
    "duration": 19,
    "start_time": "2022-12-01T09:21:47.532Z"
   },
   {
    "duration": 71,
    "start_time": "2022-12-01T09:44:43.331Z"
   },
   {
    "duration": 270,
    "start_time": "2022-12-01T09:44:52.382Z"
   },
   {
    "duration": 316,
    "start_time": "2022-12-01T09:45:04.001Z"
   },
   {
    "duration": 4683,
    "start_time": "2022-12-01T09:45:11.776Z"
   },
   {
    "duration": 34913,
    "start_time": "2022-12-01T09:45:20.358Z"
   },
   {
    "duration": 369,
    "start_time": "2022-12-01T09:46:50.792Z"
   },
   {
    "duration": 372,
    "start_time": "2022-12-01T09:48:12.892Z"
   },
   {
    "duration": 10,
    "start_time": "2022-12-01T09:49:33.216Z"
   },
   {
    "duration": 36387,
    "start_time": "2022-12-01T09:49:43.299Z"
   },
   {
    "duration": 40212,
    "start_time": "2022-12-01T09:51:08.713Z"
   },
   {
    "duration": 5239,
    "start_time": "2022-12-01T09:52:34.503Z"
   },
   {
    "duration": 5487,
    "start_time": "2022-12-01T09:53:36.507Z"
   },
   {
    "duration": 260,
    "start_time": "2022-12-01T09:56:07.822Z"
   },
   {
    "duration": 13,
    "start_time": "2022-12-01T09:57:08.518Z"
   },
   {
    "duration": 12,
    "start_time": "2022-12-01T09:57:25.404Z"
   },
   {
    "duration": 0,
    "start_time": "2022-12-01T10:01:23.153Z"
   },
   {
    "duration": 8,
    "start_time": "2022-12-01T10:01:25.699Z"
   },
   {
    "duration": 10,
    "start_time": "2022-12-01T10:01:33.599Z"
   },
   {
    "duration": 0,
    "start_time": "2022-12-01T10:06:59.446Z"
   },
   {
    "duration": 137,
    "start_time": "2022-12-01T10:07:15.555Z"
   },
   {
    "duration": 29,
    "start_time": "2022-12-01T10:21:17.190Z"
   },
   {
    "duration": 137,
    "start_time": "2022-12-01T10:21:25.646Z"
   },
   {
    "duration": 127,
    "start_time": "2022-12-01T10:21:50.817Z"
   },
   {
    "duration": 76,
    "start_time": "2022-12-01T10:22:18.542Z"
   },
   {
    "duration": 74,
    "start_time": "2022-12-01T10:22:36.148Z"
   },
   {
    "duration": 227708,
    "start_time": "2022-12-01T10:25:40.114Z"
   },
   {
    "duration": 3,
    "start_time": "2022-12-01T10:34:24.719Z"
   },
   {
    "duration": 10,
    "start_time": "2022-12-01T10:34:47.261Z"
   },
   {
    "duration": 248,
    "start_time": "2022-12-01T10:34:55.499Z"
   },
   {
    "duration": 3,
    "start_time": "2022-12-01T10:35:45.579Z"
   },
   {
    "duration": 281,
    "start_time": "2022-12-01T10:35:55.851Z"
   },
   {
    "duration": 10,
    "start_time": "2022-12-01T11:37:38.438Z"
   },
   {
    "duration": 157,
    "start_time": "2022-12-01T11:37:47.139Z"
   },
   {
    "duration": 307,
    "start_time": "2022-12-01T11:38:57.296Z"
   },
   {
    "duration": 4,
    "start_time": "2022-12-01T13:18:52.366Z"
   },
   {
    "duration": 13,
    "start_time": "2022-12-01T13:19:39.205Z"
   },
   {
    "duration": 14,
    "start_time": "2022-12-01T13:20:44.407Z"
   },
   {
    "duration": 13,
    "start_time": "2022-12-01T13:23:20.676Z"
   },
   {
    "duration": 7,
    "start_time": "2022-12-01T13:23:35.520Z"
   },
   {
    "duration": 31,
    "start_time": "2022-12-01T13:24:20.514Z"
   },
   {
    "duration": 35,
    "start_time": "2022-12-01T13:25:16.431Z"
   },
   {
    "duration": 670,
    "start_time": "2022-12-01T13:30:10.499Z"
   },
   {
    "duration": 759,
    "start_time": "2022-12-01T13:30:44.045Z"
   },
   {
    "duration": 258,
    "start_time": "2022-12-01T13:31:05.914Z"
   },
   {
    "duration": 53,
    "start_time": "2022-12-01T14:09:33.517Z"
   },
   {
    "duration": 2,
    "start_time": "2022-12-01T14:11:44.331Z"
   },
   {
    "duration": 28615,
    "start_time": "2022-12-01T14:12:08.679Z"
   },
   {
    "duration": 0,
    "start_time": "2022-12-01T14:12:37.296Z"
   },
   {
    "duration": 0,
    "start_time": "2022-12-01T14:12:37.297Z"
   },
   {
    "duration": 0,
    "start_time": "2022-12-01T14:12:37.298Z"
   },
   {
    "duration": 0,
    "start_time": "2022-12-01T14:12:37.300Z"
   },
   {
    "duration": 0,
    "start_time": "2022-12-01T14:12:37.301Z"
   },
   {
    "duration": 0,
    "start_time": "2022-12-01T14:12:37.302Z"
   },
   {
    "duration": 1974,
    "start_time": "2022-12-01T14:12:56.241Z"
   },
   {
    "duration": 3,
    "start_time": "2022-12-01T14:13:01.455Z"
   },
   {
    "duration": 739,
    "start_time": "2022-12-01T14:13:03.703Z"
   },
   {
    "duration": 46,
    "start_time": "2022-12-09T18:07:33.331Z"
   },
   {
    "duration": 1572,
    "start_time": "2022-12-09T18:25:17.458Z"
   },
   {
    "duration": 5,
    "start_time": "2022-12-09T18:25:19.032Z"
   },
   {
    "duration": 2786,
    "start_time": "2022-12-09T18:25:19.039Z"
   },
   {
    "duration": 4,
    "start_time": "2022-12-09T18:25:21.827Z"
   },
   {
    "duration": 340,
    "start_time": "2022-12-09T18:25:21.833Z"
   },
   {
    "duration": 186,
    "start_time": "2022-12-09T18:25:22.175Z"
   },
   {
    "duration": 268,
    "start_time": "2022-12-09T18:25:22.372Z"
   },
   {
    "duration": 3,
    "start_time": "2022-12-09T18:25:22.642Z"
   },
   {
    "duration": 121,
    "start_time": "2022-12-09T18:25:22.647Z"
   },
   {
    "duration": 0,
    "start_time": "2022-12-09T18:25:22.771Z"
   },
   {
    "duration": 0,
    "start_time": "2022-12-09T18:25:22.772Z"
   },
   {
    "duration": 0,
    "start_time": "2022-12-09T18:25:22.774Z"
   },
   {
    "duration": 0,
    "start_time": "2022-12-09T18:25:22.775Z"
   },
   {
    "duration": 0,
    "start_time": "2022-12-09T18:25:22.776Z"
   },
   {
    "duration": 0,
    "start_time": "2022-12-09T18:25:22.779Z"
   },
   {
    "duration": 0,
    "start_time": "2022-12-09T18:25:22.798Z"
   },
   {
    "duration": 0,
    "start_time": "2022-12-09T18:25:22.799Z"
   },
   {
    "duration": 0,
    "start_time": "2022-12-09T18:25:22.800Z"
   },
   {
    "duration": 0,
    "start_time": "2022-12-09T18:25:22.801Z"
   },
   {
    "duration": 0,
    "start_time": "2022-12-09T18:25:22.802Z"
   },
   {
    "duration": 0,
    "start_time": "2022-12-09T18:25:22.804Z"
   },
   {
    "duration": 0,
    "start_time": "2022-12-09T18:25:22.805Z"
   },
   {
    "duration": 0,
    "start_time": "2022-12-09T18:25:22.806Z"
   },
   {
    "duration": 0,
    "start_time": "2022-12-09T18:25:22.807Z"
   },
   {
    "duration": 0,
    "start_time": "2022-12-09T18:25:22.809Z"
   },
   {
    "duration": 0,
    "start_time": "2022-12-09T18:25:22.810Z"
   },
   {
    "duration": 0,
    "start_time": "2022-12-09T18:25:22.811Z"
   },
   {
    "duration": 0,
    "start_time": "2022-12-09T18:25:22.812Z"
   },
   {
    "duration": 0,
    "start_time": "2022-12-09T18:25:22.815Z"
   },
   {
    "duration": 0,
    "start_time": "2022-12-09T18:25:22.816Z"
   },
   {
    "duration": 0,
    "start_time": "2022-12-09T18:25:22.817Z"
   },
   {
    "duration": 0,
    "start_time": "2022-12-09T18:25:22.818Z"
   },
   {
    "duration": 0,
    "start_time": "2022-12-09T18:25:22.819Z"
   },
   {
    "duration": 0,
    "start_time": "2022-12-09T18:25:22.821Z"
   },
   {
    "duration": 0,
    "start_time": "2022-12-09T18:25:22.822Z"
   },
   {
    "duration": 0,
    "start_time": "2022-12-09T18:25:22.823Z"
   },
   {
    "duration": 0,
    "start_time": "2022-12-09T18:25:22.824Z"
   },
   {
    "duration": 0,
    "start_time": "2022-12-09T18:25:22.825Z"
   },
   {
    "duration": 0,
    "start_time": "2022-12-09T18:25:22.827Z"
   },
   {
    "duration": 0,
    "start_time": "2022-12-09T18:25:22.828Z"
   },
   {
    "duration": 0,
    "start_time": "2022-12-09T18:25:22.829Z"
   },
   {
    "duration": 0,
    "start_time": "2022-12-09T18:25:22.830Z"
   },
   {
    "duration": 0,
    "start_time": "2022-12-09T18:25:22.831Z"
   },
   {
    "duration": 0,
    "start_time": "2022-12-09T18:25:22.832Z"
   },
   {
    "duration": 0,
    "start_time": "2022-12-09T18:25:22.834Z"
   },
   {
    "duration": 0,
    "start_time": "2022-12-09T18:25:22.835Z"
   },
   {
    "duration": 0,
    "start_time": "2022-12-09T18:25:22.897Z"
   },
   {
    "duration": 0,
    "start_time": "2022-12-09T18:25:22.898Z"
   },
   {
    "duration": 0,
    "start_time": "2022-12-09T18:25:22.900Z"
   },
   {
    "duration": 1,
    "start_time": "2022-12-09T18:25:22.903Z"
   },
   {
    "duration": 0,
    "start_time": "2022-12-09T18:25:22.905Z"
   },
   {
    "duration": 0,
    "start_time": "2022-12-09T18:25:22.906Z"
   },
   {
    "duration": 0,
    "start_time": "2022-12-09T18:25:22.907Z"
   },
   {
    "duration": 0,
    "start_time": "2022-12-09T18:25:22.908Z"
   },
   {
    "duration": 12,
    "start_time": "2022-12-09T18:25:23.082Z"
   },
   {
    "duration": 4,
    "start_time": "2022-12-09T18:26:56.599Z"
   },
   {
    "duration": 1316,
    "start_time": "2022-12-09T18:27:08.348Z"
   },
   {
    "duration": 3,
    "start_time": "2022-12-09T18:27:09.665Z"
   },
   {
    "duration": 744,
    "start_time": "2022-12-09T18:27:09.670Z"
   },
   {
    "duration": 3,
    "start_time": "2022-12-09T18:27:10.416Z"
   },
   {
    "duration": 255,
    "start_time": "2022-12-09T18:27:10.420Z"
   },
   {
    "duration": 187,
    "start_time": "2022-12-09T18:27:10.677Z"
   },
   {
    "duration": 337,
    "start_time": "2022-12-09T18:27:10.866Z"
   },
   {
    "duration": 4,
    "start_time": "2022-12-09T18:27:11.204Z"
   },
   {
    "duration": 33,
    "start_time": "2022-12-09T18:27:11.210Z"
   },
   {
    "duration": 13,
    "start_time": "2022-12-09T18:27:11.246Z"
   },
   {
    "duration": 36,
    "start_time": "2022-12-09T18:27:11.261Z"
   },
   {
    "duration": 12,
    "start_time": "2022-12-09T18:27:11.299Z"
   },
   {
    "duration": 9,
    "start_time": "2022-12-09T18:27:11.313Z"
   },
   {
    "duration": 18,
    "start_time": "2022-12-09T18:27:11.324Z"
   },
   {
    "duration": 3,
    "start_time": "2022-12-09T18:27:11.344Z"
   },
   {
    "duration": 20,
    "start_time": "2022-12-09T18:27:11.349Z"
   },
   {
    "duration": 3,
    "start_time": "2022-12-09T18:27:11.398Z"
   },
   {
    "duration": 41,
    "start_time": "2022-12-09T18:27:11.403Z"
   },
   {
    "duration": 9,
    "start_time": "2022-12-09T18:27:11.445Z"
   },
   {
    "duration": 14,
    "start_time": "2022-12-09T18:27:11.456Z"
   },
   {
    "duration": 9,
    "start_time": "2022-12-09T18:27:11.498Z"
   },
   {
    "duration": 6,
    "start_time": "2022-12-09T18:27:11.509Z"
   },
   {
    "duration": 14,
    "start_time": "2022-12-09T18:27:11.517Z"
   },
   {
    "duration": 8,
    "start_time": "2022-12-09T18:27:11.534Z"
   },
   {
    "duration": 12,
    "start_time": "2022-12-09T18:27:11.544Z"
   },
   {
    "duration": 8,
    "start_time": "2022-12-09T18:27:11.558Z"
   },
   {
    "duration": 582,
    "start_time": "2022-12-09T18:27:11.567Z"
   },
   {
    "duration": 14,
    "start_time": "2022-12-09T18:27:12.152Z"
   },
   {
    "duration": 14,
    "start_time": "2022-12-09T18:27:12.167Z"
   },
   {
    "duration": 13,
    "start_time": "2022-12-09T18:27:12.197Z"
   },
   {
    "duration": 4,
    "start_time": "2022-12-09T18:27:12.211Z"
   },
   {
    "duration": 7,
    "start_time": "2022-12-09T18:27:12.217Z"
   },
   {
    "duration": 662,
    "start_time": "2022-12-09T18:27:12.226Z"
   },
   {
    "duration": 9,
    "start_time": "2022-12-09T18:27:12.889Z"
   },
   {
    "duration": 313,
    "start_time": "2022-12-09T18:27:12.900Z"
   },
   {
    "duration": 6,
    "start_time": "2022-12-09T18:27:13.214Z"
   },
   {
    "duration": 319,
    "start_time": "2022-12-09T18:27:13.221Z"
   },
   {
    "duration": 302,
    "start_time": "2022-12-09T18:27:13.541Z"
   },
   {
    "duration": 314,
    "start_time": "2022-12-09T18:27:13.844Z"
   },
   {
    "duration": 702,
    "start_time": "2022-12-09T18:27:14.161Z"
   },
   {
    "duration": 32,
    "start_time": "2022-12-09T18:27:14.865Z"
   },
   {
    "duration": 4,
    "start_time": "2022-12-09T18:27:14.899Z"
   },
   {
    "duration": 9,
    "start_time": "2022-12-09T18:27:14.905Z"
   },
   {
    "duration": 5,
    "start_time": "2022-12-09T18:27:14.916Z"
   },
   {
    "duration": 8,
    "start_time": "2022-12-09T18:27:14.923Z"
   },
   {
    "duration": 7,
    "start_time": "2022-12-09T18:27:14.932Z"
   },
   {
    "duration": 26,
    "start_time": "2022-12-09T18:27:14.941Z"
   },
   {
    "duration": 2,
    "start_time": "2022-12-09T18:27:14.969Z"
   },
   {
    "duration": 32,
    "start_time": "2022-12-09T18:27:14.973Z"
   },
   {
    "duration": 272288,
    "start_time": "2022-12-09T18:27:15.007Z"
   },
   {
    "duration": 8,
    "start_time": "2022-12-09T18:31:47.297Z"
   },
   {
    "duration": 81,
    "start_time": "2022-12-10T12:57:06.443Z"
   },
   {
    "duration": 68,
    "start_time": "2022-12-10T12:58:52.143Z"
   },
   {
    "duration": 80,
    "start_time": "2022-12-10T12:59:47.873Z"
   },
   {
    "duration": 101,
    "start_time": "2022-12-10T13:02:15.900Z"
   },
   {
    "duration": 1545,
    "start_time": "2022-12-10T13:08:16.457Z"
   },
   {
    "duration": 108,
    "start_time": "2022-12-10T13:14:13.143Z"
   }
  ],
  "kernelspec": {
   "display_name": "Python 3 (ipykernel)",
   "language": "python",
   "name": "python3"
  },
  "language_info": {
   "codemirror_mode": {
    "name": "ipython",
    "version": 3
   },
   "file_extension": ".py",
   "mimetype": "text/x-python",
   "name": "python",
   "nbconvert_exporter": "python",
   "pygments_lexer": "ipython3",
   "version": "3.9.12"
  },
  "toc": {
   "base_numbering": 1,
   "nav_menu": {},
   "number_sections": true,
   "sideBar": true,
   "skip_h1_title": true,
   "title_cell": "Содержание",
   "title_sidebar": "Contents",
   "toc_cell": true,
   "toc_position": {
    "height": "calc(100% - 180px)",
    "left": "10px",
    "top": "150px",
    "width": "180px"
   },
   "toc_section_display": true,
   "toc_window_display": true
  }
 },
 "nbformat": 4,
 "nbformat_minor": 2
}
