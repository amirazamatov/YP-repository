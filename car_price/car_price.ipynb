{
 "cells": [
  {
   "cell_type": "markdown",
   "metadata": {},
   "source": [
    "# Определение стоимости автомобилей"
   ]
  },
  {
   "cell_type": "markdown",
   "metadata": {},
   "source": [
    "Сервис по продаже автомобилей с пробегом разрабатывает приложение для привлечения новых клиентов. В нём можно быстро узнать рыночную стоимость своего автомобиля. \n",
    "\n",
    "В вашем распоряжении исторические данные: технические характеристики, комплектации и цены автомобилей. \n",
    "\n",
    "**Цель** - построить модель для определения стоимости автомобиля. \n",
    "\n",
    "Заказчику важны:\n",
    "\n",
    "- качество предсказания;\n",
    "- скорость предсказания;\n",
    "- время обучения."
   ]
  },
  {
   "cell_type": "markdown",
   "metadata": {},
   "source": [
    "## Подготовка данных"
   ]
  },
  {
   "cell_type": "code",
   "execution_count": null,
   "metadata": {},
   "outputs": [],
   "source": [
    "#загружаем необходимые библиотеки\n",
    "!pip install skimpy\n",
    "!pip install catboost\n",
    "!pip install lightgbm\n",
    "!pip install sklearn\n",
    "\n",
    "import pandas as pd\n",
    "import matplotlib.pyplot as plt\n",
    "import numpy as np\n",
    "import warnings\n",
    "import matplotlib.pyplot as plt\n",
    "\n",
    "from sklearn.model_selection import train_test_split\n",
    "from sklearn.linear_model import LinearRegression\n",
    "from sklearn.tree import DecisionTreeRegressor\n",
    "from sklearn.ensemble import RandomForestRegressor\n",
    "from sklearn.neighbors import KNeighborsRegressor\n",
    "from sklearn.model_selection import RandomizedSearchCV\n",
    "from sklearn.metrics import mean_squared_error\n",
    "from sklearn.preprocessing import OneHotEncoder\n",
    "\n",
    "from catboost import CatBoostRegressor\n",
    "\n",
    "from lightgbm import LGBMRegressor\n",
    "\n",
    "from skimpy import clean_columns\n"
   ]
  },
  {
   "cell_type": "code",
   "execution_count": null,
   "metadata": {},
   "outputs": [],
   "source": [
    "RANDOM = 123\n",
    "\n",
    "warnings.filterwarnings('ignore')\n",
    "model_list = []\n",
    "rmse_score_list = []\n",
    "best_params = []"
   ]
  },
  {
   "cell_type": "code",
   "execution_count": null,
   "metadata": {},
   "outputs": [],
   "source": [
    "#загружаем датасет\n",
    "try:\n",
    "    data = pd.read_csv('/datasets/autos.csv')\n",
    "except:\n",
    "    data = pd.read_csv('/Users/amirk/Downloads/autos.csv')"
   ]
  },
  {
   "cell_type": "markdown",
   "metadata": {},
   "source": [
    "### Анализ данных"
   ]
  },
  {
   "cell_type": "code",
   "execution_count": null,
   "metadata": {},
   "outputs": [],
   "source": [
    "data.head()"
   ]
  },
  {
   "cell_type": "code",
   "execution_count": null,
   "metadata": {},
   "outputs": [],
   "source": [
    "data.info()"
   ]
  },
  {
   "cell_type": "code",
   "execution_count": null,
   "metadata": {},
   "outputs": [],
   "source": [
    "data.describe()"
   ]
  },
  {
   "cell_type": "code",
   "execution_count": null,
   "metadata": {},
   "outputs": [],
   "source": [
    "data.describe(include='object')"
   ]
  },
  {
   "cell_type": "code",
   "execution_count": null,
   "metadata": {},
   "outputs": [],
   "source": [
    "# приведем названия столбцов к стандартному виду\n",
    "data = clean_columns(data)"
   ]
  },
  {
   "cell_type": "code",
   "execution_count": null,
   "metadata": {},
   "outputs": [],
   "source": [
    "#сразу обращает на себя внимание столбец nimber_of_pictures, все значения равны 0. \n",
    "#Столбец неинформативный, если нет возможности восстановить данные, то удаляем его.\n",
    "data.drop('number_of_pictures', axis=1, inplace=True)"
   ]
  },
  {
   "cell_type": "code",
   "execution_count": null,
   "metadata": {},
   "outputs": [],
   "source": [
    "data.info()"
   ]
  },
  {
   "cell_type": "code",
   "execution_count": null,
   "metadata": {},
   "outputs": [],
   "source": [
    "# найдем и удалим явные дубликаты\n",
    "data.duplicated().sum()"
   ]
  },
  {
   "cell_type": "code",
   "execution_count": null,
   "metadata": {},
   "outputs": [],
   "source": [
    "data.drop_duplicates(inplace=True)"
   ]
  },
  {
   "cell_type": "code",
   "execution_count": null,
   "metadata": {},
   "outputs": [],
   "source": [
    "# переведем столбцы с датами в datetime формат\n",
    "\n",
    "data.loc[:, ['date_crawled', 'date_created', 'last_seen']] = pd.to_datetime \\\n",
    "(data.loc[:, ['date_crawled', 'date_created', 'last_seen']].stack()).unstack()"
   ]
  },
  {
   "cell_type": "markdown",
   "metadata": {},
   "source": [
    "Пройдемся по всем столбцам, просмотрим выбросы и анамалии"
   ]
  },
  {
   "cell_type": "code",
   "execution_count": null,
   "metadata": {},
   "outputs": [],
   "source": [
    "data['registration_year'].sort_values().unique()"
   ]
  },
  {
   "cell_type": "markdown",
   "metadata": {},
   "source": [
    "Год регистрации не может быть равен 1000, 3000, 9999 и т.д. Это либо ошибка сбора информации, либо заглушки, о значении которых нужно узнавать у заказчика. На данный момент удалим  указанные значения"
   ]
  },
  {
   "cell_type": "code",
   "execution_count": null,
   "metadata": {},
   "outputs": [],
   "source": [
    "data.query('1910 <= registration_year <= 2020', inplace=True)"
   ]
  },
  {
   "cell_type": "code",
   "execution_count": null,
   "metadata": {},
   "outputs": [],
   "source": [
    "data['registration_year'].sort_values().unique()"
   ]
  },
  {
   "cell_type": "markdown",
   "metadata": {},
   "source": [
    "Года имеют правильную размерность!"
   ]
  },
  {
   "cell_type": "code",
   "execution_count": null,
   "metadata": {},
   "outputs": [],
   "source": [
    "data['registration_month'].value_counts()"
   ]
  },
  {
   "cell_type": "markdown",
   "metadata": {},
   "source": [
    "Номер месяца не может быть равен 0, вероятно опять какая-то ошибка или заглушка, нужно уточнять. Пока заменим данные значения на первый месяц, т.к. более значимый признак это год и удалять 10% выборки не совсем верно."
   ]
  },
  {
   "cell_type": "code",
   "execution_count": null,
   "metadata": {},
   "outputs": [],
   "source": [
    "data['registration_month'].replace({0:1}, inplace=True)"
   ]
  },
  {
   "cell_type": "code",
   "execution_count": null,
   "metadata": {},
   "outputs": [],
   "source": [
    "data['registration_month'].value_counts()"
   ]
  },
  {
   "cell_type": "markdown",
   "metadata": {},
   "source": [
    "Месяца имеют правильные номера!"
   ]
  },
  {
   "cell_type": "markdown",
   "metadata": {},
   "source": [
    "Создадим столбец с датой регистрации автомобиля. Дата регистрации автомобиля должна быть раньше, чем дата регистрации анкеты и даты выгрузки объявления. Проверим везде ли это соблюдено или есть ошибки. Если есть ошибки, то удалим их."
   ]
  },
  {
   "cell_type": "code",
   "execution_count": null,
   "metadata": {},
   "outputs": [],
   "source": [
    "# создадим столбец с датой регистрации автомобиля\n",
    "data['date_registration'] = pd.to_datetime(dict(year=data['registration_year'], \n",
    "                                                month=data['registration_month'], \n",
    "                                                day=np.ones(len(data))))"
   ]
  },
  {
   "cell_type": "code",
   "execution_count": null,
   "metadata": {
    "scrolled": true
   },
   "outputs": [],
   "source": [
    "data.head()"
   ]
  },
  {
   "cell_type": "code",
   "execution_count": null,
   "metadata": {},
   "outputs": [],
   "source": [
    "data.info()"
   ]
  },
  {
   "cell_type": "markdown",
   "metadata": {},
   "source": [
    "Столбец добавлен!"
   ]
  },
  {
   "cell_type": "code",
   "execution_count": null,
   "metadata": {},
   "outputs": [],
   "source": [
    "# Удалим ошибки\n",
    "data.query('date_registration <= date_created <= date_crawled', inplace=True)"
   ]
  },
  {
   "cell_type": "code",
   "execution_count": null,
   "metadata": {},
   "outputs": [],
   "source": [
    "data.info()"
   ]
  },
  {
   "cell_type": "markdown",
   "metadata": {},
   "source": [
    "Ошибки удалены!"
   ]
  },
  {
   "cell_type": "code",
   "execution_count": null,
   "metadata": {},
   "outputs": [],
   "source": [
    "data['date_crawled'].sort_values()"
   ]
  },
  {
   "cell_type": "markdown",
   "metadata": {},
   "source": [
    "Аномалий нет!"
   ]
  },
  {
   "cell_type": "code",
   "execution_count": null,
   "metadata": {},
   "outputs": [],
   "source": [
    "data['date_created'].sort_values()"
   ]
  },
  {
   "cell_type": "markdown",
   "metadata": {},
   "source": [
    "Аномалий нет!"
   ]
  },
  {
   "cell_type": "code",
   "execution_count": null,
   "metadata": {},
   "outputs": [],
   "source": [
    "data['price'].hist(bins=100)\n",
    "plt.xlabel('Цена')\n",
    "plt.ylabel('Количество объявлений')\n",
    "plt.title('Распределение цены')\n",
    "plt.show()"
   ]
  },
  {
   "cell_type": "code",
   "execution_count": null,
   "metadata": {},
   "outputs": [],
   "source": [
    "data[data['price'] == 0]['price'].count()"
   ]
  },
  {
   "cell_type": "markdown",
   "metadata": {},
   "source": [
    "Цена вряд ли может быть равна 0,вероятно это ошибка сбора информации. Удалим данные строки."
   ]
  },
  {
   "cell_type": "code",
   "execution_count": null,
   "metadata": {},
   "outputs": [],
   "source": [
    "data = data.query('price > 0')"
   ]
  },
  {
   "cell_type": "code",
   "execution_count": null,
   "metadata": {},
   "outputs": [],
   "source": [
    "plt.barh(data['vehicle_type'].value_counts().index, data['vehicle_type'].value_counts())\n",
    "plt.xlabel('Количество объявлений')\n",
    "plt.ylabel('Тип кузова')\n",
    "plt.title('Распределение различных типов кузова')\n",
    "plt.show()"
   ]
  },
  {
   "cell_type": "markdown",
   "metadata": {},
   "source": [
    "Сделаем предположение, что пропуски в vehicle_type можно найти по **brand, model, power, gearbox, fuel_type**. Посмотрим, автомобили с одинаковыми характеристиками имели только один тип кузова или несколько"
   ]
  },
  {
   "cell_type": "code",
   "execution_count": null,
   "metadata": {
    "scrolled": true
   },
   "outputs": [],
   "source": [
    "data.loc[:, ['brand', 'model','power', 'gearbox', 'fuel_type', 'vehicle_type']]. \\\n",
    "groupby(['brand', 'model', 'power','gearbox', 'fuel_type'], as_index=False).agg('nunique')\n"
   ]
  },
  {
   "cell_type": "markdown",
   "metadata": {},
   "source": [
    "Постараемся заполнить vehicle_type в тех случаях, где был только один тип кузова. На примере данного параметра создадим функцию для заполнения пропусков в категориальных признаках. "
   ]
  },
  {
   "cell_type": "code",
   "execution_count": null,
   "metadata": {},
   "outputs": [],
   "source": [
    "def fill_col(data, features, target): \n",
    "    # надем модели авто, где только 1 тип кузова\n",
    "    group_table1 = data.loc[:, features + [target]].groupby(features, as_index=False).agg('nunique').query(target + ' == 1')\n",
    "    # найдем все модели авто  со всеми возможными типами кузова\n",
    "    group_table = data.loc[:, features + [target]].groupby(features + [target], as_index=False).agg('nunique')\n",
    "    # смерджим таблички \n",
    "    merge_table = group_table1.loc[:, features].merge(group_table, how='left', left_on=features, right_on=features)\n",
    "    # создадим столбец в датасете, по которому мы будем заполнять пропуски в vehicle_type\n",
    "    data['col'] = data[features].merge(merge_table, how='left', on=features)[target]\n",
    "    # заполним пропуски, удалим созданный столбец\n",
    "    data[target].fillna(data['col'], inplace=True)\n",
    "    # оставшиеся пропуски заполним заглушкой\n",
    "    data[target].fillna('undef', inplace=True)\n",
    "    # удалим созданный столбец\n",
    "    data.drop('col', axis=1, inplace=True)\n",
    "    return data"
   ]
  },
  {
   "cell_type": "code",
   "execution_count": null,
   "metadata": {},
   "outputs": [],
   "source": [
    "data = fill_col(data, ['brand', 'model','power', 'gearbox', 'fuel_type'], 'vehicle_type')"
   ]
  },
  {
   "cell_type": "code",
   "execution_count": null,
   "metadata": {},
   "outputs": [],
   "source": [
    "data.info()"
   ]
  },
  {
   "cell_type": "code",
   "execution_count": null,
   "metadata": {},
   "outputs": [],
   "source": [
    "plt.barh(data['gearbox'].value_counts().index, data['gearbox'].value_counts())\n",
    "plt.xlabel('Количество объявлений')\n",
    "plt.ylabel('Тип коробки передач')\n",
    "plt.title('Распределение различных типов коробки передач')\n",
    "plt.show()"
   ]
  },
  {
   "cell_type": "markdown",
   "metadata": {},
   "source": [
    "Заполним пропуски!"
   ]
  },
  {
   "cell_type": "code",
   "execution_count": null,
   "metadata": {},
   "outputs": [],
   "source": [
    "data = fill_col(data, ['brand', 'model','power', 'vehicle_type', 'fuel_type'], 'gearbox')"
   ]
  },
  {
   "cell_type": "code",
   "execution_count": null,
   "metadata": {},
   "outputs": [],
   "source": [
    "data.info()"
   ]
  },
  {
   "cell_type": "code",
   "execution_count": null,
   "metadata": {},
   "outputs": [],
   "source": [
    "data['model'].unique()"
   ]
  },
  {
   "cell_type": "markdown",
   "metadata": {},
   "source": [
    "Неявных дубликатов нет, заполним пропуски!"
   ]
  },
  {
   "cell_type": "code",
   "execution_count": null,
   "metadata": {},
   "outputs": [],
   "source": [
    "data = fill_col(data, ['brand', 'power', 'vehicle_type', 'fuel_type', 'gearbox'], 'model')"
   ]
  },
  {
   "cell_type": "code",
   "execution_count": null,
   "metadata": {},
   "outputs": [],
   "source": [
    "data.info()"
   ]
  },
  {
   "cell_type": "code",
   "execution_count": null,
   "metadata": {},
   "outputs": [],
   "source": [
    "data['power'].value_counts()"
   ]
  },
  {
   "cell_type": "markdown",
   "metadata": {},
   "source": [
    "Нулевых значений в показателе мощности быть не может, поэтому заменим нули медианами по различным типам авто. "
   ]
  },
  {
   "cell_type": "code",
   "execution_count": null,
   "metadata": {},
   "outputs": [],
   "source": [
    "def fill_col_median(data, features, target):    \n",
    "    group_table = data.loc[:, features + [target]].groupby(features, as_index=False).median()\n",
    "    data['col'] = data[features].merge(group_table, how='left', on=features)[target]\n",
    "    data['power'].replace({0:np.nan}, inplace=True) \n",
    "    data[target].fillna(data['col'], inplace=True)\n",
    "    data.dropna(subset=target, inplace=True)\n",
    "    data.drop('col', axis=1, inplace=True)\n",
    "    return data"
   ]
  },
  {
   "cell_type": "code",
   "execution_count": null,
   "metadata": {},
   "outputs": [],
   "source": [
    "data = fill_col_median(data, ['brand', 'model', 'vehicle_type', 'fuel_type', 'gearbox'], 'power')"
   ]
  },
  {
   "cell_type": "code",
   "execution_count": null,
   "metadata": {},
   "outputs": [],
   "source": [
    "data.info()"
   ]
  },
  {
   "cell_type": "markdown",
   "metadata": {},
   "source": [
    "Нули заполнить удалось!"
   ]
  },
  {
   "cell_type": "code",
   "execution_count": null,
   "metadata": {},
   "outputs": [],
   "source": [
    "data['kilometer'].unique()"
   ]
  },
  {
   "cell_type": "code",
   "execution_count": null,
   "metadata": {
    "scrolled": true
   },
   "outputs": [],
   "source": [
    "data['kilometer'].hist(bins=13)\n",
    "plt.xlabel('Пробег в километрах')\n",
    "plt.ylabel('Количество объявлений')\n",
    "plt.title('Распределение пробега автомобилей')\n",
    "plt.show()"
   ]
  },
  {
   "cell_type": "markdown",
   "metadata": {},
   "source": [
    "Выбросов и пропусков нет, данные имеют адекватные значения. "
   ]
  },
  {
   "cell_type": "code",
   "execution_count": null,
   "metadata": {},
   "outputs": [],
   "source": [
    "data['fuel_type'].unique()"
   ]
  },
  {
   "cell_type": "markdown",
   "metadata": {},
   "source": [
    "Заполним пропуски!"
   ]
  },
  {
   "cell_type": "code",
   "execution_count": null,
   "metadata": {},
   "outputs": [],
   "source": [
    "data = fill_col(data, ['brand', 'model', 'power', 'vehicle_type', 'gearbox'], 'fuel_type')"
   ]
  },
  {
   "cell_type": "code",
   "execution_count": null,
   "metadata": {},
   "outputs": [],
   "source": [
    "data.info()"
   ]
  },
  {
   "cell_type": "code",
   "execution_count": null,
   "metadata": {},
   "outputs": [],
   "source": [
    "data['brand'].unique()"
   ]
  },
  {
   "cell_type": "markdown",
   "metadata": {},
   "source": [
    "Неявных дубликатов нет, пропусков нет."
   ]
  },
  {
   "cell_type": "code",
   "execution_count": null,
   "metadata": {},
   "outputs": [],
   "source": [
    "data['repaired'].unique()"
   ]
  },
  {
   "cell_type": "code",
   "execution_count": null,
   "metadata": {},
   "outputs": [],
   "source": [
    "# Заменим пропуски на 'undef'\n",
    "data['repaired'].fillna('undef', inplace=True)"
   ]
  },
  {
   "cell_type": "code",
   "execution_count": null,
   "metadata": {},
   "outputs": [],
   "source": [
    "data.info()"
   ]
  },
  {
   "cell_type": "code",
   "execution_count": null,
   "metadata": {},
   "outputs": [],
   "source": [
    "data['postal_code'].sort_values().unique()"
   ]
  },
  {
   "cell_type": "markdown",
   "metadata": {},
   "source": [
    "Значение почтового индекса не совсем стандартное, выяснить у заказчика - ошибка это или нет. Пока оставляем!"
   ]
  },
  {
   "cell_type": "code",
   "execution_count": null,
   "metadata": {},
   "outputs": [],
   "source": [
    "data['last_seen'].sort_values().unique()"
   ]
  },
  {
   "cell_type": "code",
   "execution_count": null,
   "metadata": {},
   "outputs": [],
   "source": [
    "# Проверим и удалим при наличии случаи, когда последняя активность пользователя была раньше даты создания анкеты\n",
    "data.query('last_seen >= date_created', inplace=True)"
   ]
  },
  {
   "cell_type": "code",
   "execution_count": null,
   "metadata": {},
   "outputs": [],
   "source": [
    "data.info()"
   ]
  },
  {
   "cell_type": "markdown",
   "metadata": {},
   "source": [
    "### Подготовка данных к загрузке в модели"
   ]
  },
  {
   "cell_type": "markdown",
   "metadata": {},
   "source": [
    "- выделим target и features\n",
    "- необходимо закодировать категориальные переменные, так как перед нами стоит задача регрессии. Применим OneHotEncoder\n",
    "- выделим обучающую и тестовую выборки. Валидационную не будем выделять, потому что будем использовать кросс-валидацию (RandomizedSearchCV)"
   ]
  },
  {
   "cell_type": "code",
   "execution_count": null,
   "metadata": {},
   "outputs": [],
   "source": [
    "y = data['price']\n",
    "X = data.drop(data.select_dtypes('datetime64[ns]').columns.to_list() + ['price', 'model'], axis=1)\n",
    "# пришлось удалить важный признак model, потому что возникала ошибка нехватки памяти!!!\n",
    "\n",
    "obj_columns = X.select_dtypes('object').columns\n",
    "\n",
    "ohe = OneHotEncoder(sparse=False, drop='first')\n",
    "X_ohe = ohe.fit_transform(X[obj_columns])\n",
    "X[ohe.get_feature_names()] = pd.DataFrame(X_ohe, columns=ohe.get_feature_names())\n",
    "X.drop(obj_columns, axis=1, inplace=True)\n",
    "X.fillna(0, inplace=True) #чтобы не выдавал ошибок для моделей дерево решений и случайный лес\n",
    "\n",
    "X_train, X_test, y_train, y_test = train_test_split(X, y, test_size=0.25, random_state=RANDOM)"
   ]
  },
  {
   "cell_type": "markdown",
   "metadata": {},
   "source": [
    "## Обучение моделей"
   ]
  },
  {
   "cell_type": "markdown",
   "metadata": {},
   "source": [
    "### LinearRegression model"
   ]
  },
  {
   "cell_type": "code",
   "execution_count": null,
   "metadata": {},
   "outputs": [],
   "source": [
    "def best_model_lr(X_train, y_train):\n",
    "    X_train, X_valid, y_train, y_valid = train_test_split(X_train, y_train, test_size=0.2)\n",
    "    model = LinearRegression()\n",
    "    model.fit(X_train, y_train)\n",
    "    prediction = model.predict(X_valid)\n",
    "    model_list.append(model.__class__.__name__)\n",
    "    rmse_score_list.append(mean_squared_error(y_valid, prediction, squared=False))\n",
    "    best_params.append(model.get_params)\n",
    "    print('Значение RMSE = ', mean_squared_error(y_valid, prediction, squared=False))\n",
    "    return model "
   ]
  },
  {
   "cell_type": "code",
   "execution_count": null,
   "metadata": {
    "scrolled": true
   },
   "outputs": [],
   "source": [
    "%%time\n",
    "lr_model = best_model_lr(X_train, y_train)"
   ]
  },
  {
   "cell_type": "code",
   "execution_count": null,
   "metadata": {},
   "outputs": [],
   "source": [
    "%%time\n",
    "lr_model.predict(X_train)"
   ]
  },
  {
   "cell_type": "markdown",
   "metadata": {},
   "source": [
    "### DecisionTreeRegressor model"
   ]
  },
  {
   "cell_type": "code",
   "execution_count": null,
   "metadata": {},
   "outputs": [],
   "source": [
    "def best_model_dtr(X_train, y_train):\n",
    "    model = DecisionTreeRegressor(random_state=RANDOM)\n",
    "    params = {'max_depth':range(1,10), 'min_samples_split':range(2,10), 'min_samples_leaf':range(1,10)}\n",
    "    grid_model = RandomizedSearchCV(model, \n",
    "                                    params, \n",
    "                                    cv=5, \n",
    "                                    scoring='neg_root_mean_squared_error', \n",
    "                                    n_jobs=-1, \n",
    "                                    verbose=1, \n",
    "                                    random_state=RANDOM)\n",
    "    grid_model.fit(X_train, y_train)\n",
    "    model_list.append(model.__class__.__name__)\n",
    "    rmse_score_list.append(abs(grid_model.best_score_))\n",
    "    best_params.append(grid_model.best_params_)\n",
    "    print('Значение RMSE = ', abs(grid_model.best_score_))\n",
    "    print('Лучшие параметры модели:', grid_model.best_params_)\n",
    "    return grid_model"
   ]
  },
  {
   "cell_type": "code",
   "execution_count": null,
   "metadata": {},
   "outputs": [],
   "source": [
    "%%time\n",
    "dtr_model = best_model_dtr(X_train, y_train)"
   ]
  },
  {
   "cell_type": "code",
   "execution_count": null,
   "metadata": {},
   "outputs": [],
   "source": [
    "%%time\n",
    "dtr_model.predict(X_train)"
   ]
  },
  {
   "cell_type": "markdown",
   "metadata": {},
   "source": [
    "### RandomForestRegressor model"
   ]
  },
  {
   "cell_type": "code",
   "execution_count": null,
   "metadata": {},
   "outputs": [],
   "source": [
    "# Для начала найдем лучшие параметры модели на небольшом количестве деревьев \n",
    "#с целью экономии времени обучения, а в целом можно и нужно количество деревьев сразу смотреть.\n",
    "# Затем подберем такой гиперпараметр как количество деревьев\n",
    "def best_model_rfc(X_train, y_train):\n",
    "    model = RandomForestRegressor(random_state=123, n_estimators=10)\n",
    "    params = {'max_depth':range(1,10), 'min_samples_split':range(2,5), 'min_samples_leaf':range(1,5)}\n",
    "    grid_model = RandomizedSearchCV(model, \n",
    "                                    params, \n",
    "                                    cv=5, \n",
    "                                    scoring='neg_root_mean_squared_error', \n",
    "                                    n_jobs=-1, \n",
    "                                    verbose=1, \n",
    "                                    random_state=RANDOM)\n",
    "    grid_model.fit(X_train, y_train)\n",
    "    model = RandomForestRegressor(random_state=123)\n",
    "    params = {'n_estimators':range(20,200,30), \n",
    "              'max_depth':[grid_model.best_params_['max_depth']],\n",
    "              'min_samples_split':[grid_model.best_params_['min_samples_split']],\n",
    "              'min_samples_leaf':[grid_model.best_params_['min_samples_leaf']]}\n",
    "    grid_model = RandomizedSearchCV(model, \n",
    "                                    params, \n",
    "                                    cv=5, \n",
    "                                    scoring='neg_root_mean_squared_error', \n",
    "                                    n_jobs=-1, \n",
    "                                    verbose=1, \n",
    "                                    random_state=RANDOM)\n",
    "    grid_model.fit(X_train, y_train)\n",
    "    model_list.append(model.__class__.__name__)\n",
    "    rmse_score_list.append(abs(grid_model.best_score_))\n",
    "    best_params.append(grid_model.best_params_)\n",
    "    print('Значение RMSE = ', abs(grid_model.best_score_))\n",
    "    print('Лучшие параметры модели:', grid_model.best_params_)\n",
    "    return grid_model"
   ]
  },
  {
   "cell_type": "code",
   "execution_count": null,
   "metadata": {},
   "outputs": [],
   "source": [
    "%%time\n",
    "rfc_model = best_model_rfc(X_train, y_train)"
   ]
  },
  {
   "cell_type": "code",
   "execution_count": null,
   "metadata": {},
   "outputs": [],
   "source": [
    "%%time\n",
    "rfc_model.predict(X_train)"
   ]
  },
  {
   "cell_type": "markdown",
   "metadata": {},
   "source": [
    "### LGBMRegresssor model"
   ]
  },
  {
   "cell_type": "code",
   "execution_count": null,
   "metadata": {},
   "outputs": [],
   "source": [
    "def best_model_lgbm(X_train, y_train):\n",
    "    model = LGBMRegressor(random_state=RANDOM)\n",
    "    params = {'max_depth':range(1,10), 'min_data_in_leaf':range(1,20)}\n",
    "    grid_model = RandomizedSearchCV(model, \n",
    "                                    params, \n",
    "                                    cv=5, \n",
    "                                    scoring='neg_root_mean_squared_error', \n",
    "                                    n_jobs=-1, \n",
    "                                    verbose=1, \n",
    "                                    random_state=RANDOM)\n",
    "    grid_model.fit(X_train, y_train)\n",
    "    model_list.append(model.__class__.__name__)\n",
    "    rmse_score_list.append(abs(grid_model.best_score_))\n",
    "    best_params.append(grid_model.best_params_)\n",
    "    print('Значение RMSE = ', abs(grid_model.best_score_))\n",
    "    print('Лучшие параметры модели:', grid_model.best_params_)\n",
    "    return grid_model"
   ]
  },
  {
   "cell_type": "code",
   "execution_count": null,
   "metadata": {},
   "outputs": [],
   "source": [
    "%%time\n",
    "lgbm_model = best_model_lgbm(X_train, y_train)"
   ]
  },
  {
   "cell_type": "code",
   "execution_count": null,
   "metadata": {},
   "outputs": [],
   "source": [
    "%%time\n",
    "lgbm_model.predict(X_train)"
   ]
  },
  {
   "cell_type": "markdown",
   "metadata": {},
   "source": [
    "### CatBoostRegressor model"
   ]
  },
  {
   "cell_type": "code",
   "execution_count": null,
   "metadata": {},
   "outputs": [],
   "source": [
    "def best_model_cbr(X_train, y_train):\n",
    "    model = CatBoostRegressor(random_state=RANDOM)\n",
    "    params = {'max_depth':range(2,10), 'iterations':range(20,100, 20)}\n",
    "    grid_model = RandomizedSearchCV(model, \n",
    "                                    params, \n",
    "                                    cv=5, \n",
    "                                    scoring='neg_root_mean_squared_error', \n",
    "                                    n_jobs=-1, \n",
    "                                    verbose=0, \n",
    "                                    random_state=RANDOM)\n",
    "    grid_model.fit(X_train, y_train)\n",
    "    model_list.append(model.__class__.__name__)\n",
    "    rmse_score_list.append(abs(grid_model.best_score_))\n",
    "    best_params.append(grid_model.best_params_)\n",
    "    print('Значение RMSE = ', abs(grid_model.best_score_))\n",
    "    print('Лучшие параметры модели:', grid_model.best_params_)\n",
    "    return grid_model"
   ]
  },
  {
   "cell_type": "code",
   "execution_count": null,
   "metadata": {
    "scrolled": true
   },
   "outputs": [],
   "source": [
    "%%time\n",
    "cbr_model = best_model_cbr(X_train, y_train)"
   ]
  },
  {
   "cell_type": "code",
   "execution_count": null,
   "metadata": {},
   "outputs": [],
   "source": [
    "%%time\n",
    "cbr_model.predict(X_train)"
   ]
  },
  {
   "cell_type": "code",
   "execution_count": null,
   "metadata": {},
   "outputs": [],
   "source": [
    "# создадим сводную таблицу по результатам теста\n",
    "top_list_df = pd.DataFrame({'Model':model_list, \n",
    "                            'RMSE':rmse_score_list,\n",
    "                            'Best parameters':best_params }).sort_values(by='RMSE', ascending=True).reset_index(drop=True)\n",
    "top_list_df"
   ]
  },
  {
   "cell_type": "markdown",
   "metadata": {},
   "source": [
    "## Анализ моделей"
   ]
  },
  {
   "cell_type": "markdown",
   "metadata": {},
   "source": [
    "В ходе исследования нами было оценено 5 моделей для прогнозирования цены продаваемого автомобиля. Наилучшие показатели (время обучения, время предсказания и качество предсказания) оказались у модели CatBoostRegressor. Именно данная модель будет применяться для прогнозирования цены!\n",
    "\n",
    "| Модель                | Время обучения      | Время предсказания | RMSE |\n",
    "| :---:                 |    :----:           |          :---:     | :---:|\n",
    "| LinearRegression      | 1.6 s              | 109 ms            | 3780 |\n",
    "| DecisionTreeRegressor | 33.6 s              | 172 ms            | 2259 |\n",
    "| RandomForestRegressor | 30 min 49 s         | 5 s             | 2219 |\n",
    "| LGBMRegressor     | 50 s          | 541 ms         | 2174 |\n",
    "| **CatBoostRegressor**     | **64 s**              | **109 ms**            | **2167** |     \n",
    "\n",
    "\n",
    "\n",
    "Проверим работу модели на тестовых данных!"
   ]
  },
  {
   "cell_type": "code",
   "execution_count": null,
   "metadata": {},
   "outputs": [],
   "source": [
    "prediction = cbr_model.predict(X_test)\n",
    "final_rmse = mean_squared_error(y_test, prediction, squared=False)\n",
    "final_rmse"
   ]
  },
  {
   "cell_type": "markdown",
   "metadata": {},
   "source": [
    "Лучшей моделью для прогнозирования цены автомобиля признана модель CatBoostRegressor c гиперпараметрами max_depth = 9, iterations = 80. Итоговое значение RMSE на тестовых данных составило 2178. Модель успешно прошла тестирование!"
   ]
  },
  {
   "cell_type": "markdown",
   "metadata": {},
   "source": [
    "## Выводы"
   ]
  },
  {
   "cell_type": "markdown",
   "metadata": {},
   "source": [
    "Перед нами стояла задача разработки модели, прогнозирующей рыночную цену автомобиля на основе технических характеристик, комплектации и других признаков. \n",
    "\n",
    "Заказчику были важны важны:\n",
    "- качество предсказания;\n",
    "- скорость предсказания;\n",
    "- время обучения.\n",
    "\n",
    "В ходе подготовки данных было выполнено:\n",
    "- загрузка данных;\n",
    "- удаление дубликатов;\n",
    "- переопределение типов данных в столбцах;\n",
    "- создание новых признаков;\n",
    "- обработка выбросов, пропусков, аномалий; \n",
    "- кодировка категориальных признаков;\n",
    "- разделение данных на тренировочную и тестовую выборки;\n",
    "- обучение моделей\n",
    "\n",
    "В ходе исследования нами было оценено 5 моделей для прогнозирования цены продаваемого автомобиля. Наилучшие показатели (время обучения, время предсказания и качество предсказания) оказались у модели CatBoostRegressor. Именно данная модель будет применяться для прогнозирования цены!\n",
    "\n",
    "| Модель                | Время обучения      | Время предсказания | RMSE |\n",
    "| :---:                 |    :----:           |          :---:     | :---:|\n",
    "| LinearRegression      | 1.6 s              | 109 ms            | 3780 |\n",
    "| DecisionTreeRegressor | 33.6 s              | 172 ms            | 2259 |\n",
    "| RandomForestRegressor | 30 min 49 s         | 5 s             | 2219 |\n",
    "| LGBMRegressor     | 50 s          | 541 ms         | 2174 |\n",
    "| **CatBoostRegressor**     | **64 s**              | **109 ms**            | **2167** |  \n",
    "\n",
    "\n",
    "Лучшей моделью для прогнозирования цены автомобиля признана модель CatBoostRegressor c гиперпараметрами max_depth = 9, iterations = 80. Итоговое значение RMSE на тестовых данных составило 2178. Модель успешно прошла тестирование!"
   ]
  }
 ],
 "metadata": {
  "ExecuteTimeLog": [
   {
    "duration": 406,
    "start_time": "2023-01-15T17:32:56.419Z"
   },
   {
    "duration": 2883,
    "start_time": "2023-01-15T17:37:20.602Z"
   },
   {
    "duration": 788,
    "start_time": "2023-01-15T17:37:47.224Z"
   },
   {
    "duration": 20,
    "start_time": "2023-01-15T17:37:56.503Z"
   },
   {
    "duration": 115,
    "start_time": "2023-01-15T17:38:45.429Z"
   },
   {
    "duration": 87,
    "start_time": "2023-01-15T17:40:32.449Z"
   },
   {
    "duration": 74,
    "start_time": "2023-01-15T17:48:46.042Z"
   },
   {
    "duration": 35025,
    "start_time": "2023-01-15T17:49:16.468Z"
   },
   {
    "duration": 129,
    "start_time": "2023-01-15T17:51:30.909Z"
   },
   {
    "duration": 91,
    "start_time": "2023-01-15T17:51:35.015Z"
   },
   {
    "duration": 99,
    "start_time": "2023-01-15T17:51:50.646Z"
   },
   {
    "duration": 88,
    "start_time": "2023-01-15T17:52:36.562Z"
   },
   {
    "duration": 11,
    "start_time": "2023-01-15T17:55:44.989Z"
   },
   {
    "duration": 38,
    "start_time": "2023-01-15T17:55:51.048Z"
   },
   {
    "duration": 107,
    "start_time": "2023-01-15T17:57:11.579Z"
   },
   {
    "duration": 49,
    "start_time": "2023-01-16T16:23:28.496Z"
   },
   {
    "duration": 24122,
    "start_time": "2023-01-16T16:23:38.242Z"
   },
   {
    "duration": 3271,
    "start_time": "2023-01-16T16:24:02.366Z"
   },
   {
    "duration": 19,
    "start_time": "2023-01-16T16:24:05.638Z"
   },
   {
    "duration": 358,
    "start_time": "2023-01-16T16:24:05.659Z"
   },
   {
    "duration": 103,
    "start_time": "2023-01-16T16:24:06.019Z"
   },
   {
    "duration": 742,
    "start_time": "2023-01-16T16:24:06.124Z"
   },
   {
    "duration": 106,
    "start_time": "2023-01-16T16:24:06.868Z"
   },
   {
    "duration": 46,
    "start_time": "2023-01-16T16:24:06.978Z"
   },
   {
    "duration": 349,
    "start_time": "2023-01-16T16:24:07.026Z"
   },
   {
    "duration": 58,
    "start_time": "2023-01-16T16:43:05.119Z"
   },
   {
    "duration": 47,
    "start_time": "2023-01-16T16:43:42.582Z"
   },
   {
    "duration": 56,
    "start_time": "2023-01-16T16:44:03.751Z"
   },
   {
    "duration": 78,
    "start_time": "2023-01-16T16:44:49.000Z"
   },
   {
    "duration": 897,
    "start_time": "2023-01-16T16:46:04.131Z"
   },
   {
    "duration": 738,
    "start_time": "2023-01-16T16:46:47.701Z"
   },
   {
    "duration": 186,
    "start_time": "2023-01-16T16:46:57.002Z"
   },
   {
    "duration": 235,
    "start_time": "2023-01-16T16:47:14.676Z"
   },
   {
    "duration": 230,
    "start_time": "2023-01-16T16:47:25.308Z"
   },
   {
    "duration": 784,
    "start_time": "2023-01-16T16:52:32.873Z"
   },
   {
    "duration": 167,
    "start_time": "2023-01-16T16:52:47.602Z"
   },
   {
    "duration": 242,
    "start_time": "2023-01-16T16:53:26.113Z"
   },
   {
    "duration": 214,
    "start_time": "2023-01-16T16:53:38.252Z"
   },
   {
    "duration": 294,
    "start_time": "2023-01-16T16:53:50.793Z"
   },
   {
    "duration": 181,
    "start_time": "2023-01-16T16:55:24.144Z"
   },
   {
    "duration": 226,
    "start_time": "2023-01-16T16:55:36.353Z"
   },
   {
    "duration": 179,
    "start_time": "2023-01-16T16:55:52.929Z"
   },
   {
    "duration": 194,
    "start_time": "2023-01-16T16:56:00.457Z"
   },
   {
    "duration": 170,
    "start_time": "2023-01-16T16:56:06.079Z"
   },
   {
    "duration": 71,
    "start_time": "2023-01-16T16:57:29.544Z"
   },
   {
    "duration": 53,
    "start_time": "2023-01-16T16:59:25.793Z"
   },
   {
    "duration": 1654,
    "start_time": "2023-01-16T17:00:01.247Z"
   },
   {
    "duration": 894,
    "start_time": "2023-01-16T17:00:19.646Z"
   },
   {
    "duration": 882,
    "start_time": "2023-01-16T17:00:58.240Z"
   },
   {
    "duration": 8,
    "start_time": "2023-01-16T17:08:07.173Z"
   },
   {
    "duration": 49,
    "start_time": "2023-01-16T17:08:12.515Z"
   },
   {
    "duration": 14,
    "start_time": "2023-01-16T17:08:29.164Z"
   },
   {
    "duration": 803,
    "start_time": "2023-01-16T17:08:45.739Z"
   },
   {
    "duration": 723,
    "start_time": "2023-01-16T17:09:09.626Z"
   },
   {
    "duration": 785,
    "start_time": "2023-01-16T17:09:31.874Z"
   },
   {
    "duration": 753,
    "start_time": "2023-01-16T17:09:38.342Z"
   },
   {
    "duration": 12,
    "start_time": "2023-01-16T17:12:43.788Z"
   },
   {
    "duration": 21,
    "start_time": "2023-01-16T17:13:12.022Z"
   },
   {
    "duration": 9,
    "start_time": "2023-01-16T17:14:23.785Z"
   },
   {
    "duration": 507,
    "start_time": "2023-01-16T17:17:53.953Z"
   },
   {
    "duration": 20,
    "start_time": "2023-01-16T17:18:28.286Z"
   },
   {
    "duration": 19,
    "start_time": "2023-01-16T17:18:47.433Z"
   },
   {
    "duration": 530,
    "start_time": "2023-01-16T17:19:33.053Z"
   },
   {
    "duration": 49,
    "start_time": "2023-01-16T17:22:24.097Z"
   },
   {
    "duration": 46,
    "start_time": "2023-01-16T17:24:13.637Z"
   },
   {
    "duration": 382,
    "start_time": "2023-01-16T17:26:55.111Z"
   },
   {
    "duration": 645,
    "start_time": "2023-01-16T17:28:37.712Z"
   },
   {
    "duration": 163,
    "start_time": "2023-01-16T17:28:59.178Z"
   },
   {
    "duration": 258,
    "start_time": "2023-01-16T17:29:06.083Z"
   },
   {
    "duration": 61,
    "start_time": "2023-01-16T17:30:52.932Z"
   },
   {
    "duration": 19,
    "start_time": "2023-01-16T17:31:14.673Z"
   },
   {
    "duration": 11,
    "start_time": "2023-01-16T17:32:22.551Z"
   },
   {
    "duration": 28,
    "start_time": "2023-01-16T17:34:50.231Z"
   },
   {
    "duration": 223,
    "start_time": "2023-01-16T17:37:25.750Z"
   },
   {
    "duration": 213,
    "start_time": "2023-01-16T17:37:54.387Z"
   },
   {
    "duration": 11,
    "start_time": "2023-01-16T17:42:47.894Z"
   },
   {
    "duration": 2271,
    "start_time": "2023-01-16T17:43:14.350Z"
   },
   {
    "duration": 13,
    "start_time": "2023-01-16T17:43:27.559Z"
   },
   {
    "duration": 10,
    "start_time": "2023-01-16T17:43:35.595Z"
   },
   {
    "duration": 9,
    "start_time": "2023-01-16T17:43:49.919Z"
   },
   {
    "duration": 8,
    "start_time": "2023-01-16T17:43:55.752Z"
   },
   {
    "duration": 9,
    "start_time": "2023-01-16T17:44:52.197Z"
   },
   {
    "duration": 2310,
    "start_time": "2023-01-16T17:45:19.919Z"
   },
   {
    "duration": 12,
    "start_time": "2023-01-16T17:45:28.676Z"
   },
   {
    "duration": 9,
    "start_time": "2023-01-16T17:45:54.732Z"
   },
   {
    "duration": 10,
    "start_time": "2023-01-16T17:46:27.845Z"
   },
   {
    "duration": 8,
    "start_time": "2023-01-16T17:50:53.511Z"
   },
   {
    "duration": 8,
    "start_time": "2023-01-16T17:51:03.893Z"
   },
   {
    "duration": 116,
    "start_time": "2023-01-16T17:51:11.729Z"
   },
   {
    "duration": 22,
    "start_time": "2023-01-16T17:55:39.502Z"
   },
   {
    "duration": 22,
    "start_time": "2023-01-16T17:56:07.146Z"
   },
   {
    "duration": 253,
    "start_time": "2023-01-16T17:56:35.748Z"
   },
   {
    "duration": 16208,
    "start_time": "2023-01-16T17:56:43.049Z"
   },
   {
    "duration": 26,
    "start_time": "2023-01-16T17:57:10.960Z"
   },
   {
    "duration": 24,
    "start_time": "2023-01-16T17:57:19.083Z"
   },
   {
    "duration": 22,
    "start_time": "2023-01-16T17:57:34.070Z"
   },
   {
    "duration": 165,
    "start_time": "2023-01-16T17:58:01.439Z"
   },
   {
    "duration": 152,
    "start_time": "2023-01-16T18:05:08.717Z"
   },
   {
    "duration": 5,
    "start_time": "2023-01-16T18:06:43.252Z"
   },
   {
    "duration": 116,
    "start_time": "2023-01-16T18:06:56.088Z"
   },
   {
    "duration": 9,
    "start_time": "2023-01-16T18:09:14.685Z"
   },
   {
    "duration": 21,
    "start_time": "2023-01-16T18:09:26.343Z"
   },
   {
    "duration": 44,
    "start_time": "2023-01-16T18:11:09.669Z"
   },
   {
    "duration": 373,
    "start_time": "2023-01-16T18:11:14.225Z"
   },
   {
    "duration": 113,
    "start_time": "2023-01-16T18:11:24.001Z"
   },
   {
    "duration": 102,
    "start_time": "2023-01-16T18:12:03.198Z"
   },
   {
    "duration": 20,
    "start_time": "2023-01-16T18:14:56.471Z"
   },
   {
    "duration": 9,
    "start_time": "2023-01-16T18:15:11.550Z"
   },
   {
    "duration": 108,
    "start_time": "2023-01-16T18:15:54.432Z"
   },
   {
    "duration": 261,
    "start_time": "2023-01-16T18:18:31.967Z"
   },
   {
    "duration": 275,
    "start_time": "2023-01-16T18:18:39.070Z"
   },
   {
    "duration": 270,
    "start_time": "2023-01-16T18:19:14.911Z"
   },
   {
    "duration": 278,
    "start_time": "2023-01-16T18:19:30.596Z"
   },
   {
    "duration": 292,
    "start_time": "2023-01-16T18:20:07.064Z"
   },
   {
    "duration": 247,
    "start_time": "2023-01-16T18:20:20.832Z"
   },
   {
    "duration": 9,
    "start_time": "2023-01-16T18:25:28.510Z"
   },
   {
    "duration": 6,
    "start_time": "2023-01-16T18:25:37.866Z"
   },
   {
    "duration": 261,
    "start_time": "2023-01-16T18:27:15.360Z"
   },
   {
    "duration": 42,
    "start_time": "2023-01-16T18:50:27.347Z"
   },
   {
    "duration": 12,
    "start_time": "2023-01-16T18:50:33.885Z"
   },
   {
    "duration": 68,
    "start_time": "2023-01-16T18:51:22.138Z"
   },
   {
    "duration": 16,
    "start_time": "2023-01-16T18:51:47.013Z"
   },
   {
    "duration": 10,
    "start_time": "2023-01-16T18:52:07.268Z"
   },
   {
    "duration": 70,
    "start_time": "2023-01-16T18:52:31.061Z"
   },
   {
    "duration": 111,
    "start_time": "2023-01-16T18:53:50.545Z"
   },
   {
    "duration": 108,
    "start_time": "2023-01-16T18:55:25.587Z"
   },
   {
    "duration": 121,
    "start_time": "2023-01-16T18:56:20.059Z"
   },
   {
    "duration": 101,
    "start_time": "2023-01-16T18:57:07.735Z"
   },
   {
    "duration": 100,
    "start_time": "2023-01-16T18:59:48.846Z"
   },
   {
    "duration": 17,
    "start_time": "2023-01-16T19:01:03.459Z"
   },
   {
    "duration": 116,
    "start_time": "2023-01-16T19:02:07.958Z"
   },
   {
    "duration": 126,
    "start_time": "2023-01-16T19:02:27.373Z"
   },
   {
    "duration": 109,
    "start_time": "2023-01-16T19:03:25.685Z"
   },
   {
    "duration": 98,
    "start_time": "2023-01-16T19:03:52.897Z"
   },
   {
    "duration": 14,
    "start_time": "2023-01-16T19:03:57.035Z"
   },
   {
    "duration": 686,
    "start_time": "2023-01-16T19:04:06.340Z"
   },
   {
    "duration": 16,
    "start_time": "2023-01-16T19:04:26.982Z"
   },
   {
    "duration": 13,
    "start_time": "2023-01-16T19:04:39.746Z"
   },
   {
    "duration": 773,
    "start_time": "2023-01-16T19:05:10.721Z"
   },
   {
    "duration": 740,
    "start_time": "2023-01-16T19:05:27.778Z"
   },
   {
    "duration": 679,
    "start_time": "2023-01-16T19:05:42.535Z"
   },
   {
    "duration": 4,
    "start_time": "2023-01-16T19:06:02.745Z"
   },
   {
    "duration": 18928,
    "start_time": "2023-01-17T10:06:20.393Z"
   },
   {
    "duration": 2915,
    "start_time": "2023-01-17T10:06:39.323Z"
   },
   {
    "duration": 19,
    "start_time": "2023-01-17T10:06:42.240Z"
   },
   {
    "duration": 316,
    "start_time": "2023-01-17T10:06:42.261Z"
   },
   {
    "duration": 93,
    "start_time": "2023-01-17T10:06:42.579Z"
   },
   {
    "duration": 687,
    "start_time": "2023-01-17T10:06:42.674Z"
   },
   {
    "duration": 94,
    "start_time": "2023-01-17T10:06:43.364Z"
   },
   {
    "duration": 48,
    "start_time": "2023-01-17T10:06:43.459Z"
   },
   {
    "duration": 321,
    "start_time": "2023-01-17T10:06:43.508Z"
   },
   {
    "duration": 389,
    "start_time": "2023-01-17T10:06:43.831Z"
   },
   {
    "duration": 471,
    "start_time": "2023-01-17T10:06:44.222Z"
   },
   {
    "duration": 324,
    "start_time": "2023-01-17T10:06:44.694Z"
   },
   {
    "duration": 1097,
    "start_time": "2023-01-17T10:06:45.020Z"
   },
   {
    "duration": 409,
    "start_time": "2023-01-17T10:06:46.120Z"
   },
   {
    "duration": 23,
    "start_time": "2023-01-17T10:06:46.530Z"
   },
   {
    "duration": 45,
    "start_time": "2023-01-17T10:06:46.555Z"
   },
   {
    "duration": 168,
    "start_time": "2023-01-17T10:06:46.602Z"
   },
   {
    "duration": 95,
    "start_time": "2023-01-17T10:06:46.772Z"
   },
   {
    "duration": 4,
    "start_time": "2023-01-17T10:06:46.869Z"
   },
   {
    "duration": 24002,
    "start_time": "2023-01-24T17:49:38.073Z"
   },
   {
    "duration": 9,
    "start_time": "2023-01-24T17:50:02.077Z"
   },
   {
    "duration": 1110,
    "start_time": "2023-01-24T17:50:02.088Z"
   },
   {
    "duration": 16,
    "start_time": "2023-01-24T17:50:03.200Z"
   },
   {
    "duration": 379,
    "start_time": "2023-01-24T17:50:03.218Z"
   },
   {
    "duration": 94,
    "start_time": "2023-01-24T17:50:03.599Z"
   },
   {
    "duration": 589,
    "start_time": "2023-01-24T17:50:03.694Z"
   },
   {
    "duration": 74,
    "start_time": "2023-01-24T17:50:04.286Z"
   },
   {
    "duration": 48,
    "start_time": "2023-01-24T17:50:04.361Z"
   },
   {
    "duration": 289,
    "start_time": "2023-01-24T17:50:04.410Z"
   },
   {
    "duration": 372,
    "start_time": "2023-01-24T17:50:04.700Z"
   },
   {
    "duration": 426,
    "start_time": "2023-01-24T17:50:05.073Z"
   },
   {
    "duration": 857,
    "start_time": "2023-01-24T17:50:05.500Z"
   },
   {
    "duration": 33,
    "start_time": "2023-01-24T17:50:06.359Z"
   },
   {
    "duration": 40,
    "start_time": "2023-01-24T17:50:06.393Z"
   },
   {
    "duration": 26,
    "start_time": "2023-01-24T17:50:06.434Z"
   },
   {
    "duration": 24,
    "start_time": "2023-01-24T17:50:06.462Z"
   },
   {
    "duration": 29,
    "start_time": "2023-01-24T17:50:06.488Z"
   },
   {
    "duration": 7,
    "start_time": "2023-01-24T17:50:06.518Z"
   },
   {
    "duration": 32,
    "start_time": "2023-01-24T17:50:06.527Z"
   },
   {
    "duration": 29,
    "start_time": "2023-01-24T17:50:06.560Z"
   },
   {
    "duration": 206,
    "start_time": "2023-01-24T17:50:06.591Z"
   },
   {
    "duration": 36,
    "start_time": "2023-01-24T17:50:06.800Z"
   },
   {
    "duration": 183,
    "start_time": "2023-01-24T17:50:06.837Z"
   },
   {
    "duration": 41,
    "start_time": "2023-01-24T17:50:07.022Z"
   },
   {
    "duration": 44,
    "start_time": "2023-01-24T17:50:07.064Z"
   },
   {
    "duration": 264,
    "start_time": "2023-01-24T17:50:07.110Z"
   },
   {
    "duration": 10,
    "start_time": "2023-01-24T17:50:07.376Z"
   },
   {
    "duration": 49,
    "start_time": "2023-01-24T17:50:07.387Z"
   },
   {
    "duration": 161,
    "start_time": "2023-01-24T17:50:07.437Z"
   },
   {
    "duration": 153,
    "start_time": "2023-01-24T17:50:07.600Z"
   },
   {
    "duration": 112,
    "start_time": "2023-01-24T17:50:07.754Z"
   },
   {
    "duration": 0,
    "start_time": "2023-01-24T17:50:07.868Z"
   },
   {
    "duration": 0,
    "start_time": "2023-01-24T17:50:07.869Z"
   },
   {
    "duration": 0,
    "start_time": "2023-01-24T17:50:07.871Z"
   },
   {
    "duration": 0,
    "start_time": "2023-01-24T17:50:07.872Z"
   },
   {
    "duration": 0,
    "start_time": "2023-01-24T17:50:07.886Z"
   },
   {
    "duration": 0,
    "start_time": "2023-01-24T17:50:07.887Z"
   },
   {
    "duration": 0,
    "start_time": "2023-01-24T17:50:07.889Z"
   },
   {
    "duration": 0,
    "start_time": "2023-01-24T17:50:07.889Z"
   },
   {
    "duration": 0,
    "start_time": "2023-01-24T17:50:07.890Z"
   },
   {
    "duration": 0,
    "start_time": "2023-01-24T17:50:07.891Z"
   },
   {
    "duration": 0,
    "start_time": "2023-01-24T17:50:07.892Z"
   },
   {
    "duration": 0,
    "start_time": "2023-01-24T17:50:07.893Z"
   },
   {
    "duration": 0,
    "start_time": "2023-01-24T17:50:07.894Z"
   },
   {
    "duration": 0,
    "start_time": "2023-01-24T17:50:07.895Z"
   },
   {
    "duration": 0,
    "start_time": "2023-01-24T17:50:07.896Z"
   },
   {
    "duration": 0,
    "start_time": "2023-01-24T17:50:07.897Z"
   },
   {
    "duration": 0,
    "start_time": "2023-01-24T17:50:07.899Z"
   },
   {
    "duration": 0,
    "start_time": "2023-01-24T17:50:07.900Z"
   },
   {
    "duration": 0,
    "start_time": "2023-01-24T17:50:07.904Z"
   },
   {
    "duration": 0,
    "start_time": "2023-01-24T17:50:07.904Z"
   },
   {
    "duration": 0,
    "start_time": "2023-01-24T17:50:07.906Z"
   },
   {
    "duration": 0,
    "start_time": "2023-01-24T17:50:07.907Z"
   },
   {
    "duration": 0,
    "start_time": "2023-01-24T17:50:07.908Z"
   },
   {
    "duration": 0,
    "start_time": "2023-01-24T17:50:07.910Z"
   },
   {
    "duration": 0,
    "start_time": "2023-01-24T17:50:07.911Z"
   },
   {
    "duration": 0,
    "start_time": "2023-01-24T17:50:07.912Z"
   },
   {
    "duration": 0,
    "start_time": "2023-01-24T17:50:07.913Z"
   },
   {
    "duration": 0,
    "start_time": "2023-01-24T17:50:07.915Z"
   },
   {
    "duration": 0,
    "start_time": "2023-01-24T17:50:07.916Z"
   },
   {
    "duration": 0,
    "start_time": "2023-01-24T17:50:07.917Z"
   },
   {
    "duration": 0,
    "start_time": "2023-01-24T17:50:07.918Z"
   },
   {
    "duration": 0,
    "start_time": "2023-01-24T17:50:07.919Z"
   },
   {
    "duration": 0,
    "start_time": "2023-01-24T17:50:07.922Z"
   },
   {
    "duration": 0,
    "start_time": "2023-01-24T17:50:07.923Z"
   },
   {
    "duration": 0,
    "start_time": "2023-01-24T17:50:07.924Z"
   },
   {
    "duration": 0,
    "start_time": "2023-01-24T17:50:07.925Z"
   },
   {
    "duration": 0,
    "start_time": "2023-01-24T17:50:07.927Z"
   },
   {
    "duration": 0,
    "start_time": "2023-01-24T17:50:07.986Z"
   },
   {
    "duration": 0,
    "start_time": "2023-01-24T17:50:07.988Z"
   },
   {
    "duration": 0,
    "start_time": "2023-01-24T17:50:07.988Z"
   },
   {
    "duration": 0,
    "start_time": "2023-01-24T17:50:07.990Z"
   },
   {
    "duration": 0,
    "start_time": "2023-01-24T17:50:07.991Z"
   },
   {
    "duration": 0,
    "start_time": "2023-01-24T17:50:07.992Z"
   },
   {
    "duration": 4,
    "start_time": "2023-01-24T18:00:37.538Z"
   },
   {
    "duration": 488,
    "start_time": "2023-01-24T18:00:42.143Z"
   },
   {
    "duration": 194,
    "start_time": "2023-01-24T18:01:02.558Z"
   },
   {
    "duration": 501,
    "start_time": "2023-01-24T18:01:06.395Z"
   },
   {
    "duration": 177,
    "start_time": "2023-01-24T18:01:07.533Z"
   },
   {
    "duration": 23,
    "start_time": "2023-01-24T18:01:09.149Z"
   },
   {
    "duration": 439,
    "start_time": "2023-01-24T18:01:12.609Z"
   },
   {
    "duration": 176,
    "start_time": "2023-01-24T18:01:13.909Z"
   },
   {
    "duration": 7,
    "start_time": "2023-01-24T18:01:16.294Z"
   },
   {
    "duration": 4,
    "start_time": "2023-01-24T18:01:19.275Z"
   },
   {
    "duration": 280,
    "start_time": "2023-01-24T18:01:21.426Z"
   },
   {
    "duration": 172,
    "start_time": "2023-01-24T18:01:23.853Z"
   },
   {
    "duration": 301,
    "start_time": "2023-01-24T18:01:37.343Z"
   },
   {
    "duration": 4,
    "start_time": "2023-01-24T18:01:39.106Z"
   },
   {
    "duration": 13,
    "start_time": "2023-01-24T18:01:41.927Z"
   },
   {
    "duration": 15,
    "start_time": "2023-01-24T18:01:51.474Z"
   },
   {
    "duration": 473,
    "start_time": "2023-01-24T18:01:53.880Z"
   },
   {
    "duration": 166,
    "start_time": "2023-01-24T18:01:55.624Z"
   },
   {
    "duration": 16,
    "start_time": "2023-01-24T18:01:57.114Z"
   },
   {
    "duration": 22,
    "start_time": "2023-01-24T18:01:59.089Z"
   },
   {
    "duration": 15,
    "start_time": "2023-01-24T18:02:01.204Z"
   },
   {
    "duration": 165,
    "start_time": "2023-01-24T18:02:02.684Z"
   },
   {
    "duration": 180,
    "start_time": "2023-01-24T18:02:15.090Z"
   },
   {
    "duration": 34,
    "start_time": "2023-01-24T18:02:18.163Z"
   },
   {
    "duration": 47,
    "start_time": "2023-01-24T18:02:20.391Z"
   },
   {
    "duration": 34,
    "start_time": "2023-01-24T18:02:23.470Z"
   },
   {
    "duration": 184,
    "start_time": "2023-01-24T18:02:25.187Z"
   },
   {
    "duration": 486,
    "start_time": "2023-01-24T18:03:20.569Z"
   },
   {
    "duration": 492,
    "start_time": "2023-01-24T18:05:02.238Z"
   },
   {
    "duration": 1811,
    "start_time": "2023-01-24T18:05:17.316Z"
   },
   {
    "duration": 64,
    "start_time": "2023-01-24T18:05:35.948Z"
   },
   {
    "duration": 4,
    "start_time": "2023-01-24T18:06:59.417Z"
   },
   {
    "duration": 3746,
    "start_time": "2023-01-24T18:07:00.781Z"
   },
   {
    "duration": 104,
    "start_time": "2023-01-24T18:07:04.529Z"
   },
   {
    "duration": 4,
    "start_time": "2023-01-24T18:10:37.731Z"
   },
   {
    "duration": 32072,
    "start_time": "2023-01-24T18:10:50.684Z"
   },
   {
    "duration": 104,
    "start_time": "2023-01-24T18:11:22.758Z"
   },
   {
    "duration": 6,
    "start_time": "2023-01-24T18:11:39.358Z"
   },
   {
    "duration": 47,
    "start_time": "2023-01-24T18:28:03.409Z"
   },
   {
    "duration": 35612,
    "start_time": "2023-01-24T18:33:59.463Z"
   },
   {
    "duration": 54,
    "start_time": "2023-01-24T18:38:02.752Z"
   },
   {
    "duration": 105,
    "start_time": "2023-01-24T18:39:30.808Z"
   },
   {
    "duration": 5,
    "start_time": "2023-01-24T18:48:39.249Z"
   },
   {
    "duration": 47,
    "start_time": "2023-01-24T18:49:10.513Z"
   },
   {
    "duration": 9345,
    "start_time": "2023-01-24T18:50:42.367Z"
   },
   {
    "duration": 3,
    "start_time": "2023-01-24T18:50:51.714Z"
   },
   {
    "duration": 1168,
    "start_time": "2023-01-24T18:50:51.718Z"
   },
   {
    "duration": 12,
    "start_time": "2023-01-24T18:50:52.888Z"
   },
   {
    "duration": 311,
    "start_time": "2023-01-24T18:50:52.902Z"
   },
   {
    "duration": 90,
    "start_time": "2023-01-24T18:50:53.215Z"
   },
   {
    "duration": 606,
    "start_time": "2023-01-24T18:50:53.307Z"
   },
   {
    "duration": 84,
    "start_time": "2023-01-24T18:50:53.915Z"
   },
   {
    "duration": 45,
    "start_time": "2023-01-24T18:50:54.000Z"
   },
   {
    "duration": 295,
    "start_time": "2023-01-24T18:50:54.047Z"
   },
   {
    "duration": 413,
    "start_time": "2023-01-24T18:50:54.344Z"
   },
   {
    "duration": 459,
    "start_time": "2023-01-24T18:50:54.759Z"
   },
   {
    "duration": 923,
    "start_time": "2023-01-24T18:50:55.220Z"
   },
   {
    "duration": 27,
    "start_time": "2023-01-24T18:50:56.147Z"
   },
   {
    "duration": 42,
    "start_time": "2023-01-24T18:50:56.176Z"
   },
   {
    "duration": 44,
    "start_time": "2023-01-24T18:50:56.220Z"
   },
   {
    "duration": 7,
    "start_time": "2023-01-24T18:50:56.265Z"
   },
   {
    "duration": 29,
    "start_time": "2023-01-24T18:50:56.274Z"
   },
   {
    "duration": 23,
    "start_time": "2023-01-24T18:50:56.305Z"
   },
   {
    "duration": 48,
    "start_time": "2023-01-24T18:50:56.330Z"
   },
   {
    "duration": 20,
    "start_time": "2023-01-24T18:50:56.380Z"
   },
   {
    "duration": 214,
    "start_time": "2023-01-24T18:50:56.402Z"
   },
   {
    "duration": 52,
    "start_time": "2023-01-24T18:50:56.618Z"
   },
   {
    "duration": 224,
    "start_time": "2023-01-24T18:50:56.672Z"
   },
   {
    "duration": 58,
    "start_time": "2023-01-24T18:50:56.898Z"
   },
   {
    "duration": 31,
    "start_time": "2023-01-24T18:50:56.958Z"
   },
   {
    "duration": 294,
    "start_time": "2023-01-24T18:50:56.991Z"
   },
   {
    "duration": 9,
    "start_time": "2023-01-24T18:50:57.287Z"
   },
   {
    "duration": 60,
    "start_time": "2023-01-24T18:50:57.298Z"
   },
   {
    "duration": 156,
    "start_time": "2023-01-24T18:50:57.361Z"
   },
   {
    "duration": 191,
    "start_time": "2023-01-24T18:50:57.519Z"
   },
   {
    "duration": 53,
    "start_time": "2023-01-24T18:50:57.711Z"
   },
   {
    "duration": 0,
    "start_time": "2023-01-24T18:50:57.766Z"
   },
   {
    "duration": 0,
    "start_time": "2023-01-24T18:50:57.767Z"
   },
   {
    "duration": 0,
    "start_time": "2023-01-24T18:50:57.768Z"
   },
   {
    "duration": 0,
    "start_time": "2023-01-24T18:50:57.769Z"
   },
   {
    "duration": 0,
    "start_time": "2023-01-24T18:50:57.770Z"
   },
   {
    "duration": 0,
    "start_time": "2023-01-24T18:50:57.771Z"
   },
   {
    "duration": 0,
    "start_time": "2023-01-24T18:50:57.772Z"
   },
   {
    "duration": 0,
    "start_time": "2023-01-24T18:50:57.773Z"
   },
   {
    "duration": 0,
    "start_time": "2023-01-24T18:50:57.774Z"
   },
   {
    "duration": 0,
    "start_time": "2023-01-24T18:50:57.775Z"
   },
   {
    "duration": 0,
    "start_time": "2023-01-24T18:50:57.776Z"
   },
   {
    "duration": 0,
    "start_time": "2023-01-24T18:50:57.777Z"
   },
   {
    "duration": 0,
    "start_time": "2023-01-24T18:50:57.778Z"
   },
   {
    "duration": 0,
    "start_time": "2023-01-24T18:50:57.779Z"
   },
   {
    "duration": 0,
    "start_time": "2023-01-24T18:50:57.780Z"
   },
   {
    "duration": 0,
    "start_time": "2023-01-24T18:50:57.781Z"
   },
   {
    "duration": 0,
    "start_time": "2023-01-24T18:50:57.782Z"
   },
   {
    "duration": 0,
    "start_time": "2023-01-24T18:50:57.783Z"
   },
   {
    "duration": 0,
    "start_time": "2023-01-24T18:50:57.784Z"
   },
   {
    "duration": 0,
    "start_time": "2023-01-24T18:50:57.785Z"
   },
   {
    "duration": 0,
    "start_time": "2023-01-24T18:50:57.786Z"
   },
   {
    "duration": 0,
    "start_time": "2023-01-24T18:50:57.787Z"
   },
   {
    "duration": 0,
    "start_time": "2023-01-24T18:50:57.788Z"
   },
   {
    "duration": 0,
    "start_time": "2023-01-24T18:50:57.789Z"
   },
   {
    "duration": 0,
    "start_time": "2023-01-24T18:50:57.790Z"
   },
   {
    "duration": 0,
    "start_time": "2023-01-24T18:50:57.791Z"
   },
   {
    "duration": 0,
    "start_time": "2023-01-24T18:50:57.792Z"
   },
   {
    "duration": 0,
    "start_time": "2023-01-24T18:50:57.793Z"
   },
   {
    "duration": 1,
    "start_time": "2023-01-24T18:50:57.794Z"
   },
   {
    "duration": 0,
    "start_time": "2023-01-24T18:50:57.795Z"
   },
   {
    "duration": 0,
    "start_time": "2023-01-24T18:50:57.796Z"
   },
   {
    "duration": 0,
    "start_time": "2023-01-24T18:50:57.797Z"
   },
   {
    "duration": 0,
    "start_time": "2023-01-24T18:50:57.798Z"
   },
   {
    "duration": 0,
    "start_time": "2023-01-24T18:50:57.799Z"
   },
   {
    "duration": 0,
    "start_time": "2023-01-24T18:50:57.800Z"
   },
   {
    "duration": 0,
    "start_time": "2023-01-24T18:50:57.800Z"
   },
   {
    "duration": 0,
    "start_time": "2023-01-24T18:50:57.801Z"
   },
   {
    "duration": 0,
    "start_time": "2023-01-24T18:50:57.802Z"
   },
   {
    "duration": 0,
    "start_time": "2023-01-24T18:50:57.838Z"
   },
   {
    "duration": 0,
    "start_time": "2023-01-24T18:50:57.840Z"
   },
   {
    "duration": 0,
    "start_time": "2023-01-24T18:50:57.842Z"
   },
   {
    "duration": 0,
    "start_time": "2023-01-24T18:50:57.843Z"
   },
   {
    "duration": 0,
    "start_time": "2023-01-24T18:50:57.845Z"
   },
   {
    "duration": 9220,
    "start_time": "2023-01-24T18:51:28.970Z"
   },
   {
    "duration": 3,
    "start_time": "2023-01-24T18:51:38.192Z"
   },
   {
    "duration": 825,
    "start_time": "2023-01-24T18:51:38.196Z"
   },
   {
    "duration": 16,
    "start_time": "2023-01-24T18:51:39.023Z"
   },
   {
    "duration": 359,
    "start_time": "2023-01-24T18:51:39.045Z"
   },
   {
    "duration": 92,
    "start_time": "2023-01-24T18:51:39.405Z"
   },
   {
    "duration": 654,
    "start_time": "2023-01-24T18:51:39.499Z"
   },
   {
    "duration": 84,
    "start_time": "2023-01-24T18:51:40.155Z"
   },
   {
    "duration": 40,
    "start_time": "2023-01-24T18:51:40.241Z"
   },
   {
    "duration": 347,
    "start_time": "2023-01-24T18:51:40.282Z"
   },
   {
    "duration": 378,
    "start_time": "2023-01-24T18:51:40.631Z"
   },
   {
    "duration": 450,
    "start_time": "2023-01-24T18:51:41.011Z"
   },
   {
    "duration": 837,
    "start_time": "2023-01-24T18:51:41.463Z"
   },
   {
    "duration": 37,
    "start_time": "2023-01-24T18:51:42.303Z"
   },
   {
    "duration": 48,
    "start_time": "2023-01-24T18:51:42.341Z"
   },
   {
    "duration": 50,
    "start_time": "2023-01-24T18:51:42.391Z"
   },
   {
    "duration": 11,
    "start_time": "2023-01-24T18:51:42.445Z"
   },
   {
    "duration": 15,
    "start_time": "2023-01-24T18:51:42.458Z"
   },
   {
    "duration": 7,
    "start_time": "2023-01-24T18:51:42.475Z"
   },
   {
    "duration": 26,
    "start_time": "2023-01-24T18:51:42.484Z"
   },
   {
    "duration": 35,
    "start_time": "2023-01-24T18:51:42.512Z"
   },
   {
    "duration": 255,
    "start_time": "2023-01-24T18:51:42.549Z"
   },
   {
    "duration": 39,
    "start_time": "2023-01-24T18:51:42.806Z"
   },
   {
    "duration": 197,
    "start_time": "2023-01-24T18:51:42.847Z"
   },
   {
    "duration": 49,
    "start_time": "2023-01-24T18:51:43.046Z"
   },
   {
    "duration": 42,
    "start_time": "2023-01-24T18:51:43.096Z"
   },
   {
    "duration": 257,
    "start_time": "2023-01-24T18:51:43.141Z"
   },
   {
    "duration": 9,
    "start_time": "2023-01-24T18:51:43.400Z"
   },
   {
    "duration": 42,
    "start_time": "2023-01-24T18:51:43.410Z"
   },
   {
    "duration": 151,
    "start_time": "2023-01-24T18:51:43.453Z"
   },
   {
    "duration": 165,
    "start_time": "2023-01-24T18:51:43.605Z"
   },
   {
    "duration": 4,
    "start_time": "2023-01-24T18:51:43.772Z"
   },
   {
    "duration": 475,
    "start_time": "2023-01-24T18:51:43.778Z"
   },
   {
    "duration": 202,
    "start_time": "2023-01-24T18:51:44.255Z"
   },
   {
    "duration": 152,
    "start_time": "2023-01-24T18:51:44.459Z"
   },
   {
    "duration": 482,
    "start_time": "2023-01-24T18:51:44.612Z"
   },
   {
    "duration": 186,
    "start_time": "2023-01-24T18:51:45.096Z"
   },
   {
    "duration": 14,
    "start_time": "2023-01-24T18:51:45.284Z"
   },
   {
    "duration": 497,
    "start_time": "2023-01-24T18:51:45.299Z"
   },
   {
    "duration": 199,
    "start_time": "2023-01-24T18:51:45.797Z"
   },
   {
    "duration": 7,
    "start_time": "2023-01-24T18:51:46.002Z"
   },
   {
    "duration": 24,
    "start_time": "2023-01-24T18:51:46.010Z"
   },
   {
    "duration": 313,
    "start_time": "2023-01-24T18:51:46.036Z"
   },
   {
    "duration": 195,
    "start_time": "2023-01-24T18:51:46.351Z"
   },
   {
    "duration": 267,
    "start_time": "2023-01-24T18:51:46.548Z"
   },
   {
    "duration": 5,
    "start_time": "2023-01-24T18:51:46.817Z"
   },
   {
    "duration": 32,
    "start_time": "2023-01-24T18:51:46.824Z"
   },
   {
    "duration": 531,
    "start_time": "2023-01-24T18:51:46.858Z"
   },
   {
    "duration": 196,
    "start_time": "2023-01-24T18:51:47.391Z"
   },
   {
    "duration": 17,
    "start_time": "2023-01-24T18:51:47.589Z"
   },
   {
    "duration": 13,
    "start_time": "2023-01-24T18:51:47.608Z"
   },
   {
    "duration": 25,
    "start_time": "2023-01-24T18:51:47.637Z"
   },
   {
    "duration": 216,
    "start_time": "2023-01-24T18:51:47.664Z"
   },
   {
    "duration": 35,
    "start_time": "2023-01-24T18:51:47.881Z"
   },
   {
    "duration": 69,
    "start_time": "2023-01-24T18:51:47.917Z"
   },
   {
    "duration": 26,
    "start_time": "2023-01-24T18:51:47.987Z"
   },
   {
    "duration": 220,
    "start_time": "2023-01-24T18:51:48.015Z"
   },
   {
    "duration": 649,
    "start_time": "2023-01-24T18:51:48.238Z"
   },
   {
    "duration": 0,
    "start_time": "2023-01-24T18:51:48.888Z"
   },
   {
    "duration": 0,
    "start_time": "2023-01-24T18:51:48.890Z"
   },
   {
    "duration": 0,
    "start_time": "2023-01-24T18:51:48.891Z"
   },
   {
    "duration": 0,
    "start_time": "2023-01-24T18:51:48.893Z"
   },
   {
    "duration": 0,
    "start_time": "2023-01-24T18:51:48.894Z"
   },
   {
    "duration": 0,
    "start_time": "2023-01-24T18:51:48.895Z"
   },
   {
    "duration": 0,
    "start_time": "2023-01-24T18:51:48.896Z"
   },
   {
    "duration": 0,
    "start_time": "2023-01-24T18:51:48.897Z"
   },
   {
    "duration": 0,
    "start_time": "2023-01-24T18:51:48.897Z"
   },
   {
    "duration": 0,
    "start_time": "2023-01-24T18:51:48.898Z"
   },
   {
    "duration": 0,
    "start_time": "2023-01-24T18:51:48.899Z"
   },
   {
    "duration": 0,
    "start_time": "2023-01-24T18:51:48.900Z"
   },
   {
    "duration": 0,
    "start_time": "2023-01-24T18:51:48.901Z"
   },
   {
    "duration": 0,
    "start_time": "2023-01-24T18:51:48.902Z"
   },
   {
    "duration": 0,
    "start_time": "2023-01-24T18:51:48.903Z"
   },
   {
    "duration": 0,
    "start_time": "2023-01-24T18:51:48.904Z"
   },
   {
    "duration": 2171,
    "start_time": "2023-01-24T18:54:12.646Z"
   },
   {
    "duration": 9858,
    "start_time": "2023-01-24T18:54:23.664Z"
   },
   {
    "duration": 3,
    "start_time": "2023-01-24T18:54:33.524Z"
   },
   {
    "duration": 769,
    "start_time": "2023-01-24T18:54:33.529Z"
   },
   {
    "duration": 13,
    "start_time": "2023-01-24T18:54:34.300Z"
   },
   {
    "duration": 361,
    "start_time": "2023-01-24T18:54:34.316Z"
   },
   {
    "duration": 89,
    "start_time": "2023-01-24T18:54:34.678Z"
   },
   {
    "duration": 664,
    "start_time": "2023-01-24T18:54:34.769Z"
   },
   {
    "duration": 79,
    "start_time": "2023-01-24T18:54:35.437Z"
   },
   {
    "duration": 46,
    "start_time": "2023-01-24T18:54:35.517Z"
   },
   {
    "duration": 443,
    "start_time": "2023-01-24T18:54:35.565Z"
   },
   {
    "duration": 381,
    "start_time": "2023-01-24T18:54:36.010Z"
   },
   {
    "duration": 480,
    "start_time": "2023-01-24T18:54:36.394Z"
   },
   {
    "duration": 936,
    "start_time": "2023-01-24T18:54:36.875Z"
   },
   {
    "duration": 41,
    "start_time": "2023-01-24T18:54:37.815Z"
   },
   {
    "duration": 49,
    "start_time": "2023-01-24T18:54:37.859Z"
   },
   {
    "duration": 38,
    "start_time": "2023-01-24T18:54:37.910Z"
   },
   {
    "duration": 9,
    "start_time": "2023-01-24T18:54:37.951Z"
   },
   {
    "duration": 10,
    "start_time": "2023-01-24T18:54:37.962Z"
   },
   {
    "duration": 11,
    "start_time": "2023-01-24T18:54:37.974Z"
   },
   {
    "duration": 24,
    "start_time": "2023-01-24T18:54:37.986Z"
   },
   {
    "duration": 25,
    "start_time": "2023-01-24T18:54:38.012Z"
   },
   {
    "duration": 246,
    "start_time": "2023-01-24T18:54:38.040Z"
   },
   {
    "duration": 36,
    "start_time": "2023-01-24T18:54:38.288Z"
   },
   {
    "duration": 237,
    "start_time": "2023-01-24T18:54:38.326Z"
   },
   {
    "duration": 43,
    "start_time": "2023-01-24T18:54:38.565Z"
   },
   {
    "duration": 42,
    "start_time": "2023-01-24T18:54:38.610Z"
   },
   {
    "duration": 274,
    "start_time": "2023-01-24T18:54:38.654Z"
   },
   {
    "duration": 15,
    "start_time": "2023-01-24T18:54:38.930Z"
   },
   {
    "duration": 36,
    "start_time": "2023-01-24T18:54:38.946Z"
   },
   {
    "duration": 161,
    "start_time": "2023-01-24T18:54:38.984Z"
   },
   {
    "duration": 177,
    "start_time": "2023-01-24T18:54:39.147Z"
   },
   {
    "duration": 12,
    "start_time": "2023-01-24T18:54:39.326Z"
   },
   {
    "duration": 480,
    "start_time": "2023-01-24T18:54:39.340Z"
   },
   {
    "duration": 190,
    "start_time": "2023-01-24T18:54:39.822Z"
   },
   {
    "duration": 170,
    "start_time": "2023-01-24T18:54:40.014Z"
   },
   {
    "duration": 526,
    "start_time": "2023-01-24T18:54:40.186Z"
   },
   {
    "duration": 184,
    "start_time": "2023-01-24T18:54:40.713Z"
   },
   {
    "duration": 15,
    "start_time": "2023-01-24T18:54:40.898Z"
   },
   {
    "duration": 471,
    "start_time": "2023-01-24T18:54:40.914Z"
   },
   {
    "duration": 212,
    "start_time": "2023-01-24T18:54:41.387Z"
   },
   {
    "duration": 7,
    "start_time": "2023-01-24T18:54:41.602Z"
   },
   {
    "duration": 4,
    "start_time": "2023-01-24T18:54:41.611Z"
   },
   {
    "duration": 339,
    "start_time": "2023-01-24T18:54:41.617Z"
   },
   {
    "duration": 209,
    "start_time": "2023-01-24T18:54:41.958Z"
   },
   {
    "duration": 261,
    "start_time": "2023-01-24T18:54:42.169Z"
   },
   {
    "duration": 8,
    "start_time": "2023-01-24T18:54:42.441Z"
   },
   {
    "duration": 29,
    "start_time": "2023-01-24T18:54:42.455Z"
   },
   {
    "duration": 548,
    "start_time": "2023-01-24T18:54:42.486Z"
   },
   {
    "duration": 180,
    "start_time": "2023-01-24T18:54:43.037Z"
   },
   {
    "duration": 22,
    "start_time": "2023-01-24T18:54:43.219Z"
   },
   {
    "duration": 23,
    "start_time": "2023-01-24T18:54:43.244Z"
   },
   {
    "duration": 19,
    "start_time": "2023-01-24T18:54:43.269Z"
   },
   {
    "duration": 194,
    "start_time": "2023-01-24T18:54:43.289Z"
   },
   {
    "duration": 37,
    "start_time": "2023-01-24T18:54:43.484Z"
   },
   {
    "duration": 61,
    "start_time": "2023-01-24T18:54:43.522Z"
   },
   {
    "duration": 28,
    "start_time": "2023-01-24T18:54:43.585Z"
   },
   {
    "duration": 204,
    "start_time": "2023-01-24T18:54:43.615Z"
   },
   {
    "duration": 2024,
    "start_time": "2023-01-24T18:54:43.821Z"
   },
   {
    "duration": 4,
    "start_time": "2023-01-24T18:54:45.848Z"
   },
   {
    "duration": 3787,
    "start_time": "2023-01-24T18:54:45.854Z"
   },
   {
    "duration": 203,
    "start_time": "2023-01-24T18:54:49.643Z"
   },
   {
    "duration": 88,
    "start_time": "2023-01-24T18:54:49.850Z"
   },
   {
    "duration": 36877,
    "start_time": "2023-01-24T18:54:49.941Z"
   },
   {
    "duration": 128,
    "start_time": "2023-01-24T18:55:26.820Z"
   },
   {
    "duration": 10,
    "start_time": "2023-01-24T18:55:26.952Z"
   },
   {
    "duration": 2504076,
    "start_time": "2023-01-24T18:55:26.964Z"
   },
   {
    "duration": 3112,
    "start_time": "2023-01-24T19:37:11.046Z"
   },
   {
    "duration": 5,
    "start_time": "2023-01-24T19:37:14.160Z"
   },
   {
    "duration": 149168,
    "start_time": "2023-01-25T09:30:41.820Z"
   },
   {
    "duration": 4,
    "start_time": "2023-01-25T09:33:11.021Z"
   },
   {
    "duration": 4649,
    "start_time": "2023-01-25T09:33:11.026Z"
   },
   {
    "duration": 54,
    "start_time": "2023-01-25T09:33:15.720Z"
   },
   {
    "duration": 1003,
    "start_time": "2023-01-25T09:33:15.776Z"
   },
   {
    "duration": 447,
    "start_time": "2023-01-25T09:33:16.821Z"
   },
   {
    "duration": 1970,
    "start_time": "2023-01-25T09:33:17.269Z"
   },
   {
    "duration": 190,
    "start_time": "2023-01-25T09:33:19.241Z"
   },
   {
    "duration": 100,
    "start_time": "2023-01-25T09:33:19.433Z"
   },
   {
    "duration": 795,
    "start_time": "2023-01-25T09:33:19.536Z"
   },
   {
    "duration": 1018,
    "start_time": "2023-01-25T09:33:20.334Z"
   },
   {
    "duration": 1111,
    "start_time": "2023-01-25T09:33:21.354Z"
   },
   {
    "duration": 2444,
    "start_time": "2023-01-25T09:33:22.522Z"
   },
   {
    "duration": 103,
    "start_time": "2023-01-25T09:33:25.020Z"
   },
   {
    "duration": 105,
    "start_time": "2023-01-25T09:33:25.125Z"
   },
   {
    "duration": 33,
    "start_time": "2023-01-25T09:33:25.232Z"
   },
   {
    "duration": 9,
    "start_time": "2023-01-25T09:33:25.321Z"
   },
   {
    "duration": 16,
    "start_time": "2023-01-25T09:33:25.333Z"
   },
   {
    "duration": 9,
    "start_time": "2023-01-25T09:33:25.351Z"
   },
   {
    "duration": 113,
    "start_time": "2023-01-25T09:33:25.362Z"
   },
   {
    "duration": 94,
    "start_time": "2023-01-25T09:33:25.477Z"
   },
   {
    "duration": 697,
    "start_time": "2023-01-25T09:33:25.572Z"
   },
   {
    "duration": 103,
    "start_time": "2023-01-25T09:33:26.322Z"
   },
   {
    "duration": 894,
    "start_time": "2023-01-25T09:33:26.427Z"
   },
   {
    "duration": 127,
    "start_time": "2023-01-25T09:33:27.324Z"
   },
   {
    "duration": 101,
    "start_time": "2023-01-25T09:33:27.454Z"
   },
   {
    "duration": 888,
    "start_time": "2023-01-25T09:33:27.557Z"
   },
   {
    "duration": 12,
    "start_time": "2023-01-25T09:33:28.451Z"
   },
   {
    "duration": 103,
    "start_time": "2023-01-25T09:33:28.465Z"
   },
   {
    "duration": 484,
    "start_time": "2023-01-25T09:33:28.569Z"
   },
   {
    "duration": 509,
    "start_time": "2023-01-25T09:33:29.055Z"
   },
   {
    "duration": 59,
    "start_time": "2023-01-25T09:33:29.566Z"
   },
   {
    "duration": 1632,
    "start_time": "2023-01-25T09:33:29.626Z"
   },
   {
    "duration": 602,
    "start_time": "2023-01-25T09:33:31.261Z"
   },
   {
    "duration": 456,
    "start_time": "2023-01-25T09:33:31.865Z"
   },
   {
    "duration": 1524,
    "start_time": "2023-01-25T09:33:32.323Z"
   },
   {
    "duration": 611,
    "start_time": "2023-01-25T09:33:33.849Z"
   },
   {
    "duration": 79,
    "start_time": "2023-01-25T09:33:34.463Z"
   },
   {
    "duration": 1697,
    "start_time": "2023-01-25T09:33:34.545Z"
   },
   {
    "duration": 696,
    "start_time": "2023-01-25T09:33:36.245Z"
   },
   {
    "duration": 12,
    "start_time": "2023-01-25T09:33:36.943Z"
   },
   {
    "duration": 64,
    "start_time": "2023-01-25T09:33:36.957Z"
   },
   {
    "duration": 916,
    "start_time": "2023-01-25T09:33:37.024Z"
   },
   {
    "duration": 584,
    "start_time": "2023-01-25T09:33:37.941Z"
   },
   {
    "duration": 630,
    "start_time": "2023-01-25T09:33:38.527Z"
   },
   {
    "duration": 6,
    "start_time": "2023-01-25T09:33:39.158Z"
   },
   {
    "duration": 26,
    "start_time": "2023-01-25T09:33:39.221Z"
   },
   {
    "duration": 2591,
    "start_time": "2023-01-25T09:33:39.249Z"
   },
   {
    "duration": 997,
    "start_time": "2023-01-25T09:33:41.842Z"
   },
   {
    "duration": 100,
    "start_time": "2023-01-25T09:33:42.841Z"
   },
   {
    "duration": 85,
    "start_time": "2023-01-25T09:33:42.943Z"
   },
   {
    "duration": 99,
    "start_time": "2023-01-25T09:33:43.030Z"
   },
   {
    "duration": 895,
    "start_time": "2023-01-25T09:33:43.132Z"
   },
   {
    "duration": 115,
    "start_time": "2023-01-25T09:33:44.030Z"
   },
   {
    "duration": 226,
    "start_time": "2023-01-25T09:33:44.147Z"
   },
   {
    "duration": 95,
    "start_time": "2023-01-25T09:33:44.375Z"
   },
   {
    "duration": 735,
    "start_time": "2023-01-25T09:33:44.524Z"
   },
   {
    "duration": 6487,
    "start_time": "2023-01-25T09:33:45.261Z"
   },
   {
    "duration": 6,
    "start_time": "2023-01-25T09:33:51.750Z"
   },
   {
    "duration": 4199,
    "start_time": "2023-01-25T09:33:51.757Z"
   },
   {
    "duration": 230,
    "start_time": "2023-01-25T09:33:56.021Z"
   },
   {
    "duration": 10,
    "start_time": "2023-01-25T09:33:56.328Z"
   },
   {
    "duration": 113785,
    "start_time": "2023-01-25T09:33:56.342Z"
   },
   {
    "duration": 297,
    "start_time": "2023-01-25T09:35:50.129Z"
   },
   {
    "duration": 8,
    "start_time": "2023-01-25T09:35:50.428Z"
   }
  ],
  "kernelspec": {
   "display_name": "Python 3 (ipykernel)",
   "language": "python",
   "name": "python3"
  },
  "language_info": {
   "codemirror_mode": {
    "name": "ipython",
    "version": 3
   },
   "file_extension": ".py",
   "mimetype": "text/x-python",
   "name": "python",
   "nbconvert_exporter": "python",
   "pygments_lexer": "ipython3",
   "version": "3.9.12"
  },
  "toc": {
   "base_numbering": 1,
   "nav_menu": {
    "height": "142px",
    "width": "160px"
   },
   "number_sections": true,
   "sideBar": true,
   "skip_h1_title": true,
   "title_cell": "Table of Contents",
   "title_sidebar": "Contents",
   "toc_cell": false,
   "toc_position": {
    "height": "calc(100% - 180px)",
    "left": "10px",
    "top": "150px",
    "width": "252.6px"
   },
   "toc_section_display": true,
   "toc_window_display": true
  }
 },
 "nbformat": 4,
 "nbformat_minor": 2
}
