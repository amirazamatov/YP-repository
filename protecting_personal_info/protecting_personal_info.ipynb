{
 "cells": [
  {
   "attachments": {},
   "cell_type": "markdown",
   "metadata": {
    "toc": true
   },
   "source": [
    "<h1>Содержание<span class=\"tocSkip\"></span></h1>\n",
    "<div class=\"toc\"><ul class=\"toc-item\"><li><span><a href=\"#Загрузка-данных\" data-toc-modified-id=\"Загрузка-данных-1\"><span class=\"toc-item-num\">1&nbsp;&nbsp;</span>Загрузка данных</a></span></li><li><span><a href=\"#Умножение-матриц\" data-toc-modified-id=\"Умножение-матриц-2\"><span class=\"toc-item-num\">2&nbsp;&nbsp;</span>Умножение матриц</a></span></li><li><span><a href=\"#Алгоритм-преобразования\" data-toc-modified-id=\"Алгоритм-преобразования-3\"><span class=\"toc-item-num\">3&nbsp;&nbsp;</span>Алгоритм преобразования</a></span></li><li><span><a href=\"#Проверка-алгоритма\" data-toc-modified-id=\"Проверка-алгоритма-4\"><span class=\"toc-item-num\">4&nbsp;&nbsp;</span>Проверка алгоритма</a></span></li><li><span><a href=\"#Выводы\" data-toc-modified-id=\"Выводы-5\"><span class=\"toc-item-num\">5&nbsp;&nbsp;</span>Выводы</a></span></li></ul></div>"
   ]
  },
  {
   "attachments": {},
   "cell_type": "markdown",
   "metadata": {},
   "source": [
    "# Защита персональных данных клиентов"
   ]
  },
  {
   "attachments": {},
   "cell_type": "markdown",
   "metadata": {},
   "source": [
    "Необходимо защитить данные клиентов страховой компании. Нужно разработать такой метод преобразования данных, чтобы по ним было сложно восстановить персональную информацию. Обосновать корректность его работы.\n",
    "\n",
    "Нужно защитить данные, чтобы при преобразовании качество моделей машинного обучения не ухудшилось. Подбирать наилучшую модель не требуется."
   ]
  },
  {
   "attachments": {},
   "cell_type": "markdown",
   "metadata": {},
   "source": [
    "## Загрузка данных"
   ]
  },
  {
   "cell_type": "code",
   "execution_count": 1,
   "metadata": {},
   "outputs": [],
   "source": [
    "#загружаем нужные библиотеки\n",
    "\n",
    "import pandas as pd\n",
    "import numpy as np\n",
    "\n",
    "from sklearn.linear_model import LinearRegression\n",
    "from sklearn.metrics import mean_squared_error, r2_score"
   ]
  },
  {
   "cell_type": "code",
   "execution_count": 2,
   "metadata": {},
   "outputs": [],
   "source": [
    "#загружаем датасет\n",
    "try:\n",
    "    df = pd.read_csv('/Users/amirk/Downloads/insurance.csv')\n",
    "except:\n",
    "    df = pd.read_csv('/datasets/insurance.csv')"
   ]
  },
  {
   "cell_type": "code",
   "execution_count": 3,
   "metadata": {},
   "outputs": [
    {
     "data": {
      "text/html": [
       "<div>\n",
       "<style scoped>\n",
       "    .dataframe tbody tr th:only-of-type {\n",
       "        vertical-align: middle;\n",
       "    }\n",
       "\n",
       "    .dataframe tbody tr th {\n",
       "        vertical-align: top;\n",
       "    }\n",
       "\n",
       "    .dataframe thead th {\n",
       "        text-align: right;\n",
       "    }\n",
       "</style>\n",
       "<table border=\"1\" class=\"dataframe\">\n",
       "  <thead>\n",
       "    <tr style=\"text-align: right;\">\n",
       "      <th></th>\n",
       "      <th>Пол</th>\n",
       "      <th>Возраст</th>\n",
       "      <th>Зарплата</th>\n",
       "      <th>Члены семьи</th>\n",
       "      <th>Страховые выплаты</th>\n",
       "    </tr>\n",
       "  </thead>\n",
       "  <tbody>\n",
       "    <tr>\n",
       "      <th>0</th>\n",
       "      <td>1</td>\n",
       "      <td>41.0</td>\n",
       "      <td>49600.0</td>\n",
       "      <td>1</td>\n",
       "      <td>0</td>\n",
       "    </tr>\n",
       "    <tr>\n",
       "      <th>1</th>\n",
       "      <td>0</td>\n",
       "      <td>46.0</td>\n",
       "      <td>38000.0</td>\n",
       "      <td>1</td>\n",
       "      <td>1</td>\n",
       "    </tr>\n",
       "    <tr>\n",
       "      <th>2</th>\n",
       "      <td>0</td>\n",
       "      <td>29.0</td>\n",
       "      <td>21000.0</td>\n",
       "      <td>0</td>\n",
       "      <td>0</td>\n",
       "    </tr>\n",
       "    <tr>\n",
       "      <th>3</th>\n",
       "      <td>0</td>\n",
       "      <td>21.0</td>\n",
       "      <td>41700.0</td>\n",
       "      <td>2</td>\n",
       "      <td>0</td>\n",
       "    </tr>\n",
       "    <tr>\n",
       "      <th>4</th>\n",
       "      <td>1</td>\n",
       "      <td>28.0</td>\n",
       "      <td>26100.0</td>\n",
       "      <td>0</td>\n",
       "      <td>0</td>\n",
       "    </tr>\n",
       "  </tbody>\n",
       "</table>\n",
       "</div>"
      ],
      "text/plain": [
       "   Пол  Возраст  Зарплата  Члены семьи  Страховые выплаты\n",
       "0    1     41.0   49600.0            1                  0\n",
       "1    0     46.0   38000.0            1                  1\n",
       "2    0     29.0   21000.0            0                  0\n",
       "3    0     21.0   41700.0            2                  0\n",
       "4    1     28.0   26100.0            0                  0"
      ]
     },
     "execution_count": 3,
     "metadata": {},
     "output_type": "execute_result"
    }
   ],
   "source": [
    "df.head()"
   ]
  },
  {
   "cell_type": "code",
   "execution_count": 4,
   "metadata": {},
   "outputs": [
    {
     "name": "stdout",
     "output_type": "stream",
     "text": [
      "<class 'pandas.core.frame.DataFrame'>\n",
      "RangeIndex: 5000 entries, 0 to 4999\n",
      "Data columns (total 5 columns):\n",
      " #   Column             Non-Null Count  Dtype  \n",
      "---  ------             --------------  -----  \n",
      " 0   Пол                5000 non-null   int64  \n",
      " 1   Возраст            5000 non-null   float64\n",
      " 2   Зарплата           5000 non-null   float64\n",
      " 3   Члены семьи        5000 non-null   int64  \n",
      " 4   Страховые выплаты  5000 non-null   int64  \n",
      "dtypes: float64(2), int64(3)\n",
      "memory usage: 195.4 KB\n"
     ]
    }
   ],
   "source": [
    "df.info()"
   ]
  },
  {
   "cell_type": "code",
   "execution_count": 5,
   "metadata": {},
   "outputs": [
    {
     "data": {
      "text/html": [
       "<div>\n",
       "<style scoped>\n",
       "    .dataframe tbody tr th:only-of-type {\n",
       "        vertical-align: middle;\n",
       "    }\n",
       "\n",
       "    .dataframe tbody tr th {\n",
       "        vertical-align: top;\n",
       "    }\n",
       "\n",
       "    .dataframe thead th {\n",
       "        text-align: right;\n",
       "    }\n",
       "</style>\n",
       "<table border=\"1\" class=\"dataframe\">\n",
       "  <thead>\n",
       "    <tr style=\"text-align: right;\">\n",
       "      <th></th>\n",
       "      <th>Пол</th>\n",
       "      <th>Возраст</th>\n",
       "      <th>Зарплата</th>\n",
       "      <th>Члены семьи</th>\n",
       "      <th>Страховые выплаты</th>\n",
       "    </tr>\n",
       "  </thead>\n",
       "  <tbody>\n",
       "    <tr>\n",
       "      <th>count</th>\n",
       "      <td>5000.000000</td>\n",
       "      <td>5000.000000</td>\n",
       "      <td>5000.000000</td>\n",
       "      <td>5000.000000</td>\n",
       "      <td>5000.000000</td>\n",
       "    </tr>\n",
       "    <tr>\n",
       "      <th>mean</th>\n",
       "      <td>0.499000</td>\n",
       "      <td>30.952800</td>\n",
       "      <td>39916.360000</td>\n",
       "      <td>1.194200</td>\n",
       "      <td>0.148000</td>\n",
       "    </tr>\n",
       "    <tr>\n",
       "      <th>std</th>\n",
       "      <td>0.500049</td>\n",
       "      <td>8.440807</td>\n",
       "      <td>9900.083569</td>\n",
       "      <td>1.091387</td>\n",
       "      <td>0.463183</td>\n",
       "    </tr>\n",
       "    <tr>\n",
       "      <th>min</th>\n",
       "      <td>0.000000</td>\n",
       "      <td>18.000000</td>\n",
       "      <td>5300.000000</td>\n",
       "      <td>0.000000</td>\n",
       "      <td>0.000000</td>\n",
       "    </tr>\n",
       "    <tr>\n",
       "      <th>25%</th>\n",
       "      <td>0.000000</td>\n",
       "      <td>24.000000</td>\n",
       "      <td>33300.000000</td>\n",
       "      <td>0.000000</td>\n",
       "      <td>0.000000</td>\n",
       "    </tr>\n",
       "    <tr>\n",
       "      <th>50%</th>\n",
       "      <td>0.000000</td>\n",
       "      <td>30.000000</td>\n",
       "      <td>40200.000000</td>\n",
       "      <td>1.000000</td>\n",
       "      <td>0.000000</td>\n",
       "    </tr>\n",
       "    <tr>\n",
       "      <th>75%</th>\n",
       "      <td>1.000000</td>\n",
       "      <td>37.000000</td>\n",
       "      <td>46600.000000</td>\n",
       "      <td>2.000000</td>\n",
       "      <td>0.000000</td>\n",
       "    </tr>\n",
       "    <tr>\n",
       "      <th>max</th>\n",
       "      <td>1.000000</td>\n",
       "      <td>65.000000</td>\n",
       "      <td>79000.000000</td>\n",
       "      <td>6.000000</td>\n",
       "      <td>5.000000</td>\n",
       "    </tr>\n",
       "  </tbody>\n",
       "</table>\n",
       "</div>"
      ],
      "text/plain": [
       "               Пол      Возраст      Зарплата  Члены семьи  Страховые выплаты\n",
       "count  5000.000000  5000.000000   5000.000000  5000.000000        5000.000000\n",
       "mean      0.499000    30.952800  39916.360000     1.194200           0.148000\n",
       "std       0.500049     8.440807   9900.083569     1.091387           0.463183\n",
       "min       0.000000    18.000000   5300.000000     0.000000           0.000000\n",
       "25%       0.000000    24.000000  33300.000000     0.000000           0.000000\n",
       "50%       0.000000    30.000000  40200.000000     1.000000           0.000000\n",
       "75%       1.000000    37.000000  46600.000000     2.000000           0.000000\n",
       "max       1.000000    65.000000  79000.000000     6.000000           5.000000"
      ]
     },
     "execution_count": 5,
     "metadata": {},
     "output_type": "execute_result"
    }
   ],
   "source": [
    "df.describe()"
   ]
  },
  {
   "cell_type": "code",
   "execution_count": 6,
   "metadata": {},
   "outputs": [
    {
     "data": {
      "text/plain": [
       "153"
      ]
     },
     "execution_count": 6,
     "metadata": {},
     "output_type": "execute_result"
    }
   ],
   "source": [
    "df.duplicated().sum()"
   ]
  },
  {
   "cell_type": "code",
   "execution_count": 7,
   "metadata": {},
   "outputs": [],
   "source": [
    "df.drop_duplicates(inplace=True, ignore_index=True)"
   ]
  },
  {
   "cell_type": "code",
   "execution_count": 8,
   "metadata": {},
   "outputs": [
    {
     "data": {
      "text/plain": [
       "(4847, 5)"
      ]
     },
     "execution_count": 8,
     "metadata": {},
     "output_type": "execute_result"
    }
   ],
   "source": [
    "df.shape"
   ]
  },
  {
   "attachments": {},
   "cell_type": "markdown",
   "metadata": {},
   "source": [
    "С данными ознакомились, удалили дубликаты! Приступаем к дальнейшей обработке."
   ]
  },
  {
   "attachments": {},
   "cell_type": "markdown",
   "metadata": {},
   "source": [
    "## Умножение матриц"
   ]
  },
  {
   "attachments": {},
   "cell_type": "markdown",
   "metadata": {},
   "source": [
    "Обозначения:\n",
    "\n",
    "- $X$ — матрица признаков (нулевой столбец состоит из единиц)\n",
    "\n",
    "- $y$ — вектор целевого признака\n",
    "\n",
    "- $P$ — матрица, на которую умножаются признаки\n",
    "\n",
    "- $w$ — вектор весов линейной регрессии (нулевой элемент равен сдвигу)"
   ]
  },
  {
   "attachments": {},
   "cell_type": "markdown",
   "metadata": {},
   "source": [
    "Предсказания:\n",
    "\n",
    "$$\n",
    "a = Xw\n",
    "$$\n",
    "\n",
    "Задача обучения:\n",
    "\n",
    "$$\n",
    "w = \\arg\\min_w MSE(Xw, y)\n",
    "$$\n",
    "\n",
    "Формула обучения:\n",
    "\n",
    "$$\n",
    "w = (X^T X)^{-1} X^T y\n",
    "$$"
   ]
  },
  {
   "attachments": {},
   "cell_type": "markdown",
   "metadata": {},
   "source": [
    "**Ответ:**  При умножении признаков на обратимую матрицу качество линейной матрицы **не изменится**. Параметры линейной регрессии в исходной задаче и в преобразованной связаны следующей соотношением $w_1 = P^{-1}w$.\n",
    "\n",
    "**Обоснование:**     \n",
    "В ходе нашего решения нам необходимо доказать, что предсказаниие  $a$, равно предсказанию $a_1$, в котором первичная матрица признаков $X$ умножена на случайную обратимую матрицу $P$.    \n",
    "Напишем формулы предсказания модели:\n",
    "\n",
    "$$\n",
    "a = Xw\n",
    "$$\n",
    "\n",
    "$$\n",
    "a_1 = XPw_1\n",
    "$$\n",
    "\n",
    "Заспишем значения $w$ и $w_1$:\n",
    "\n",
    "$$\n",
    "w = (X^T X)^{-1} X^T y\n",
    "$$\n",
    "\n",
    "$$\n",
    "w_1 = ((XP)^T XP)^{-1} (XP)^T y\n",
    "$$\n",
    "\n",
    "Раскроем скобки для показателя $w_1$, учитывая свойства матриц $(AB)^{-1} = B^{-1}A^{-1}$ и $(AB)^T = B^T A^T$:\n",
    "\n",
    "$$\n",
    "w_1 = ((XP)^T XP)^{-1} (XP)^T y = (P^T X^T XP)^{-1} P^T X^T y\n",
    "$$\n",
    "\n",
    "Применяя ассоциативность умножения заключим в скобки $(X^T X)$:\n",
    "\n",
    "$$\n",
    "w_1 = (P^T (X^T X) P)^{-1} P^T X^T y = P^{-1} (X^T X)^{-1} (P^T)^{-1} P^T X^T y\n",
    "$$\n",
    "\n",
    "Учитывая свойство обратимой матрицы $A A^{-1} = E$, сократим выражение:\n",
    "\n",
    "$$\n",
    "w_1 = P^{-1} (X^T X)^{-1} (P^T)^{-1} P^T X^T y = P^{-1} (X^T X)^{-1} E X^T y = P^{-1} (X^T X)^{-1} X^T y \n",
    "$$\n",
    "\n",
    "Подставим полученное значение $w_1$ в формулу $a_1$:\n",
    "\n",
    "$$\n",
    "a_1 = XPP^{-1} (X^T X)^{-1} X^T y = X(X^T X)^{-1} X^T y = Xw = a\n",
    "$$\n",
    "\n",
    "Что и следовало доказать!\n",
    "\n",
    "Теперь докажем, что параметры линейной регрессии в исходной задаче и в преобразованной связаны следующей соотношением $w_1 = P^{-1}w$.   \n",
    "В вышеизложенном доказательстве мы вывели формулу $w_1 = P^{-1} (X^T X)^{-1} X^T y$. При этом мы знаем, что $w = (X^T X)^{-1} X^T y$. Поэтому мы приходим к выводу, что:\n",
    "\n",
    "$$\n",
    "w_1 = P^{-1} (X^T X)^{-1} X^T y = P^{-1}w\n",
    "$$   \n"
   ]
  },
  {
   "attachments": {},
   "cell_type": "markdown",
   "metadata": {},
   "source": [
    "## Алгоритм преобразования"
   ]
  },
  {
   "attachments": {},
   "cell_type": "markdown",
   "metadata": {},
   "source": [
    "**Алгоритм**\n",
    "\n",
    "Мы доказали, что умножение матрицы признаков на случайную обратимую матрицу не приведет к изменению качества линейной регрессии. Реализуем данный алгоритм:   \n",
    "- создадим функцию, которая на вход получает исходный датафрейм\n",
    "- выделяем фичи и таргет\n",
    "- создаем случайную обратимую матрицу с размерами равными количеству столбцов в таблице с фичами\n",
    "- проверяем обратимость созданной матрицы, если необратимая, то сознаем новую и проверяем опять.\n",
    "- умножаем фичи на созданную матрицу.\n",
    "- так как наша задача заключается в зашифровывании первичных данных, собираем итоговую таблицу из преобразованных фичей и таргета и подаем ее на выход."
   ]
  },
  {
   "attachments": {},
   "cell_type": "markdown",
   "metadata": {},
   "source": [
    "**Обоснование**\n",
    "\n",
    "Качество модели будет прежним так-как данные подаваемые для расчета $MSE$ и $R2$ будут одинаковыми. Для рассчеты данных метрик нам нужен таргет (он не меняется) и предсказание модели  - $a$. Выше мы уже доказали, что $a = a_1$. Следовательно данные, поступающие в функцию расчета метрики одинаковые, поэтому и значения метрик будут одинаковыми."
   ]
  },
  {
   "attachments": {},
   "cell_type": "markdown",
   "metadata": {},
   "source": [
    "## Проверка алгоритма"
   ]
  },
  {
   "cell_type": "code",
   "execution_count": 9,
   "metadata": {},
   "outputs": [],
   "source": [
    "# кодируем исходные данные\n",
    "def codding_features(data, target):\n",
    "    features = data.drop(target, axis=1)\n",
    "    target = data[target]\n",
    "    # будем создавать случайную матрицу, пока она не будет обратимой\n",
    "    matrix = np.random.random((features.shape[1], features.shape[1]))\n",
    "    flag = False\n",
    "    while flag == False:\n",
    "        try:\n",
    "            np.linalg.inv(matrix)\n",
    "            flag = True\n",
    "        except:\n",
    "            matrix = np.random.random((features.shape[1], features.shape[1]))\n",
    "            flag = False\n",
    "    features = pd.DataFrame(np.dot(features.values, matrix), columns = features.columns)\n",
    "    data = pd.merge(features, target, left_index=True, right_index=True)\n",
    "    return data, np.linalg.inv(matrix)"
   ]
  },
  {
   "cell_type": "code",
   "execution_count": 10,
   "metadata": {},
   "outputs": [],
   "source": [
    "data, decodding_matrix = codding_features(df, 'Страховые выплаты')"
   ]
  },
  {
   "cell_type": "code",
   "execution_count": 11,
   "metadata": {},
   "outputs": [
    {
     "data": {
      "text/html": [
       "<div>\n",
       "<style scoped>\n",
       "    .dataframe tbody tr th:only-of-type {\n",
       "        vertical-align: middle;\n",
       "    }\n",
       "\n",
       "    .dataframe tbody tr th {\n",
       "        vertical-align: top;\n",
       "    }\n",
       "\n",
       "    .dataframe thead th {\n",
       "        text-align: right;\n",
       "    }\n",
       "</style>\n",
       "<table border=\"1\" class=\"dataframe\">\n",
       "  <thead>\n",
       "    <tr style=\"text-align: right;\">\n",
       "      <th></th>\n",
       "      <th>Пол</th>\n",
       "      <th>Возраст</th>\n",
       "      <th>Зарплата</th>\n",
       "      <th>Члены семьи</th>\n",
       "      <th>Страховые выплаты</th>\n",
       "    </tr>\n",
       "  </thead>\n",
       "  <tbody>\n",
       "    <tr>\n",
       "      <th>0</th>\n",
       "      <td>24482.426940</td>\n",
       "      <td>25270.562991</td>\n",
       "      <td>247.690228</td>\n",
       "      <td>16905.081127</td>\n",
       "      <td>0</td>\n",
       "    </tr>\n",
       "    <tr>\n",
       "      <th>1</th>\n",
       "      <td>18771.070118</td>\n",
       "      <td>19360.471945</td>\n",
       "      <td>200.572894</td>\n",
       "      <td>12959.008591</td>\n",
       "      <td>1</td>\n",
       "    </tr>\n",
       "    <tr>\n",
       "      <th>2</th>\n",
       "      <td>10376.966964</td>\n",
       "      <td>10699.076063</td>\n",
       "      <td>113.383771</td>\n",
       "      <td>7163.288183</td>\n",
       "      <td>0</td>\n",
       "    </tr>\n",
       "    <tr>\n",
       "      <th>3</th>\n",
       "      <td>20569.753619</td>\n",
       "      <td>21245.503493</td>\n",
       "      <td>197.412074</td>\n",
       "      <td>14205.280749</td>\n",
       "      <td>0</td>\n",
       "    </tr>\n",
       "    <tr>\n",
       "      <th>4</th>\n",
       "      <td>12889.220889</td>\n",
       "      <td>13297.703618</td>\n",
       "      <td>135.585878</td>\n",
       "      <td>8899.125061</td>\n",
       "      <td>0</td>\n",
       "    </tr>\n",
       "    <tr>\n",
       "      <th>...</th>\n",
       "      <td>...</td>\n",
       "      <td>...</td>\n",
       "      <td>...</td>\n",
       "      <td>...</td>\n",
       "      <td>...</td>\n",
       "    </tr>\n",
       "    <tr>\n",
       "      <th>4842</th>\n",
       "      <td>17620.002277</td>\n",
       "      <td>18188.807547</td>\n",
       "      <td>177.008271</td>\n",
       "      <td>12166.840564</td>\n",
       "      <td>0</td>\n",
       "    </tr>\n",
       "    <tr>\n",
       "      <th>4843</th>\n",
       "      <td>25855.213878</td>\n",
       "      <td>26696.599658</td>\n",
       "      <td>253.307597</td>\n",
       "      <td>17853.844253</td>\n",
       "      <td>0</td>\n",
       "    </tr>\n",
       "    <tr>\n",
       "      <th>4844</th>\n",
       "      <td>16725.101988</td>\n",
       "      <td>17271.677893</td>\n",
       "      <td>162.963735</td>\n",
       "      <td>11549.881403</td>\n",
       "      <td>0</td>\n",
       "    </tr>\n",
       "    <tr>\n",
       "      <th>4845</th>\n",
       "      <td>16135.918181</td>\n",
       "      <td>16661.039220</td>\n",
       "      <td>160.812094</td>\n",
       "      <td>11143.366637</td>\n",
       "      <td>0</td>\n",
       "    </tr>\n",
       "    <tr>\n",
       "      <th>4846</th>\n",
       "      <td>20034.591034</td>\n",
       "      <td>20685.237840</td>\n",
       "      <td>198.648900</td>\n",
       "      <td>13834.793428</td>\n",
       "      <td>0</td>\n",
       "    </tr>\n",
       "  </tbody>\n",
       "</table>\n",
       "<p>4847 rows × 5 columns</p>\n",
       "</div>"
      ],
      "text/plain": [
       "               Пол       Возраст    Зарплата   Члены семьи  Страховые выплаты\n",
       "0     24482.426940  25270.562991  247.690228  16905.081127                  0\n",
       "1     18771.070118  19360.471945  200.572894  12959.008591                  1\n",
       "2     10376.966964  10699.076063  113.383771   7163.288183                  0\n",
       "3     20569.753619  21245.503493  197.412074  14205.280749                  0\n",
       "4     12889.220889  13297.703618  135.585878   8899.125061                  0\n",
       "...            ...           ...         ...           ...                ...\n",
       "4842  17620.002277  18188.807547  177.008271  12166.840564                  0\n",
       "4843  25855.213878  26696.599658  253.307597  17853.844253                  0\n",
       "4844  16725.101988  17271.677893  162.963735  11549.881403                  0\n",
       "4845  16135.918181  16661.039220  160.812094  11143.366637                  0\n",
       "4846  20034.591034  20685.237840  198.648900  13834.793428                  0\n",
       "\n",
       "[4847 rows x 5 columns]"
      ]
     },
     "execution_count": 11,
     "metadata": {},
     "output_type": "execute_result"
    }
   ],
   "source": [
    "data"
   ]
  },
  {
   "cell_type": "code",
   "execution_count": 12,
   "metadata": {},
   "outputs": [],
   "source": [
    "#функция для декодирования данных\n",
    "def decodding_features(data, target, matrix):\n",
    "    features = data.drop(target, axis=1)\n",
    "    target = data[target]\n",
    "    features = pd.DataFrame(np.dot(features.values, matrix), columns = features.columns)\n",
    "    data = pd.merge(features, target, left_index=True, right_index=True)\n",
    "    return data"
   ]
  },
  {
   "cell_type": "code",
   "execution_count": 13,
   "metadata": {},
   "outputs": [],
   "source": [
    "decod_data = decodding_features(data, 'Страховые выплаты', decodding_matrix)"
   ]
  },
  {
   "cell_type": "code",
   "execution_count": 19,
   "metadata": {},
   "outputs": [
    {
     "data": {
      "text/html": [
       "<div>\n",
       "<style scoped>\n",
       "    .dataframe tbody tr th:only-of-type {\n",
       "        vertical-align: middle;\n",
       "    }\n",
       "\n",
       "    .dataframe tbody tr th {\n",
       "        vertical-align: top;\n",
       "    }\n",
       "\n",
       "    .dataframe thead th {\n",
       "        text-align: right;\n",
       "    }\n",
       "</style>\n",
       "<table border=\"1\" class=\"dataframe\">\n",
       "  <thead>\n",
       "    <tr style=\"text-align: right;\">\n",
       "      <th></th>\n",
       "      <th>Пол</th>\n",
       "      <th>Возраст</th>\n",
       "      <th>Зарплата</th>\n",
       "      <th>Члены семьи</th>\n",
       "      <th>Страховые выплаты</th>\n",
       "    </tr>\n",
       "  </thead>\n",
       "  <tbody>\n",
       "    <tr>\n",
       "      <th>0</th>\n",
       "      <td>1.0</td>\n",
       "      <td>41.0</td>\n",
       "      <td>49600.0</td>\n",
       "      <td>1.0</td>\n",
       "      <td>0</td>\n",
       "    </tr>\n",
       "    <tr>\n",
       "      <th>1</th>\n",
       "      <td>0.0</td>\n",
       "      <td>46.0</td>\n",
       "      <td>38000.0</td>\n",
       "      <td>1.0</td>\n",
       "      <td>1</td>\n",
       "    </tr>\n",
       "    <tr>\n",
       "      <th>2</th>\n",
       "      <td>0.0</td>\n",
       "      <td>29.0</td>\n",
       "      <td>21000.0</td>\n",
       "      <td>0.0</td>\n",
       "      <td>0</td>\n",
       "    </tr>\n",
       "    <tr>\n",
       "      <th>3</th>\n",
       "      <td>0.0</td>\n",
       "      <td>21.0</td>\n",
       "      <td>41700.0</td>\n",
       "      <td>2.0</td>\n",
       "      <td>0</td>\n",
       "    </tr>\n",
       "    <tr>\n",
       "      <th>4</th>\n",
       "      <td>1.0</td>\n",
       "      <td>28.0</td>\n",
       "      <td>26100.0</td>\n",
       "      <td>0.0</td>\n",
       "      <td>0</td>\n",
       "    </tr>\n",
       "  </tbody>\n",
       "</table>\n",
       "</div>"
      ],
      "text/plain": [
       "   Пол  Возраст  Зарплата  Члены семьи  Страховые выплаты\n",
       "0  1.0     41.0   49600.0          1.0                  0\n",
       "1  0.0     46.0   38000.0          1.0                  1\n",
       "2  0.0     29.0   21000.0          0.0                  0\n",
       "3  0.0     21.0   41700.0          2.0                  0\n",
       "4  1.0     28.0   26100.0          0.0                  0"
      ]
     },
     "execution_count": 19,
     "metadata": {},
     "output_type": "execute_result"
    }
   ],
   "source": [
    "decod_data.round(1).head()"
   ]
  },
  {
   "cell_type": "code",
   "execution_count": 15,
   "metadata": {},
   "outputs": [
    {
     "data": {
      "text/html": [
       "<div>\n",
       "<style scoped>\n",
       "    .dataframe tbody tr th:only-of-type {\n",
       "        vertical-align: middle;\n",
       "    }\n",
       "\n",
       "    .dataframe tbody tr th {\n",
       "        vertical-align: top;\n",
       "    }\n",
       "\n",
       "    .dataframe thead th {\n",
       "        text-align: right;\n",
       "    }\n",
       "</style>\n",
       "<table border=\"1\" class=\"dataframe\">\n",
       "  <thead>\n",
       "    <tr style=\"text-align: right;\">\n",
       "      <th></th>\n",
       "      <th>Пол</th>\n",
       "      <th>Возраст</th>\n",
       "      <th>Зарплата</th>\n",
       "      <th>Члены семьи</th>\n",
       "      <th>Страховые выплаты</th>\n",
       "    </tr>\n",
       "  </thead>\n",
       "  <tbody>\n",
       "    <tr>\n",
       "      <th>0</th>\n",
       "      <td>1</td>\n",
       "      <td>41.0</td>\n",
       "      <td>49600.0</td>\n",
       "      <td>1</td>\n",
       "      <td>0</td>\n",
       "    </tr>\n",
       "    <tr>\n",
       "      <th>1</th>\n",
       "      <td>0</td>\n",
       "      <td>46.0</td>\n",
       "      <td>38000.0</td>\n",
       "      <td>1</td>\n",
       "      <td>1</td>\n",
       "    </tr>\n",
       "    <tr>\n",
       "      <th>2</th>\n",
       "      <td>0</td>\n",
       "      <td>29.0</td>\n",
       "      <td>21000.0</td>\n",
       "      <td>0</td>\n",
       "      <td>0</td>\n",
       "    </tr>\n",
       "    <tr>\n",
       "      <th>3</th>\n",
       "      <td>0</td>\n",
       "      <td>21.0</td>\n",
       "      <td>41700.0</td>\n",
       "      <td>2</td>\n",
       "      <td>0</td>\n",
       "    </tr>\n",
       "    <tr>\n",
       "      <th>4</th>\n",
       "      <td>1</td>\n",
       "      <td>28.0</td>\n",
       "      <td>26100.0</td>\n",
       "      <td>0</td>\n",
       "      <td>0</td>\n",
       "    </tr>\n",
       "  </tbody>\n",
       "</table>\n",
       "</div>"
      ],
      "text/plain": [
       "   Пол  Возраст  Зарплата  Члены семьи  Страховые выплаты\n",
       "0    1     41.0   49600.0            1                  0\n",
       "1    0     46.0   38000.0            1                  1\n",
       "2    0     29.0   21000.0            0                  0\n",
       "3    0     21.0   41700.0            2                  0\n",
       "4    1     28.0   26100.0            0                  0"
      ]
     },
     "execution_count": 15,
     "metadata": {},
     "output_type": "execute_result"
    }
   ],
   "source": [
    "df.head()"
   ]
  },
  {
   "attachments": {},
   "cell_type": "markdown",
   "metadata": {},
   "source": [
    "Данные закодированы! Данные пользователей надежно защищены! Проверим качество модели на исходных и закодированных данных!"
   ]
  },
  {
   "cell_type": "code",
   "execution_count": 16,
   "metadata": {},
   "outputs": [],
   "source": [
    "# функция, которая сравнивает значения R2\n",
    "def compare_metrics(data, codd_data, target):\n",
    "    features = data.drop(target, axis=1)\n",
    "    codd_features = codd_data.drop(target, axis=1) \n",
    "    target = data[target]\n",
    "    model = LinearRegression()\n",
    "    model.fit(features, target)\n",
    "    predict = model.predict(features)\n",
    "    model.fit(codd_features, target)\n",
    "    codd_predict = model.predict(codd_features)\n",
    "    r2 = r2_score(target, predict).round(5)\n",
    "    codd_r2 = r2_score(target, codd_predict).round(5)\n",
    "    if r2 == codd_r2:\n",
    "        print(f'Значение метрики R2 на исходных и закодированных данных одинаковое и равно {r2}')\n",
    "    else:\n",
    "        print('Значение метрик разное!')    "
   ]
  },
  {
   "cell_type": "code",
   "execution_count": 17,
   "metadata": {},
   "outputs": [
    {
     "name": "stdout",
     "output_type": "stream",
     "text": [
      "Значение метрики R2 на исходных и закодированных данных одинаковое и равно 0.4302\n"
     ]
    }
   ],
   "source": [
    "compare_metrics(df, data, 'Страховые выплаты')"
   ]
  },
  {
   "attachments": {},
   "cell_type": "markdown",
   "metadata": {},
   "source": [
    "## Выводы\n",
    "\n",
    "В ходе исследования мы доказали, что умножение матрицы признаков на обратимую матрицу не изменяет качество модели линейной регрессии. На основе данной закономерности был предложен метод кодировки пользовательских данных. Работоспособность алгоритма была оценена путем сравнения метрики R2 для модели логистической регрессии на исходных и закодированных данных. Значение R2 не изменилось после кодирования данных!"
   ]
  }
 ],
 "metadata": {
  "ExecuteTimeLog": [
   {
    "duration": 411,
    "start_time": "2022-12-22T18:47:01.012Z"
   },
   {
    "duration": 74,
    "start_time": "2022-12-22T18:49:37.175Z"
   },
   {
    "duration": 29,
    "start_time": "2022-12-22T18:50:14.555Z"
   },
   {
    "duration": 18,
    "start_time": "2022-12-22T18:50:26.384Z"
   },
   {
    "duration": 15,
    "start_time": "2022-12-22T19:13:01.866Z"
   },
   {
    "duration": 24,
    "start_time": "2022-12-22T19:13:35.919Z"
   },
   {
    "duration": 694,
    "start_time": "2022-12-22T19:23:28.816Z"
   },
   {
    "duration": 3,
    "start_time": "2022-12-22T19:37:49.574Z"
   },
   {
    "duration": 117,
    "start_time": "2022-12-22T19:38:46.451Z"
   },
   {
    "duration": 16,
    "start_time": "2022-12-22T19:39:01.876Z"
   },
   {
    "duration": 89,
    "start_time": "2022-12-22T19:39:06.695Z"
   },
   {
    "duration": 59,
    "start_time": "2022-12-22T19:45:55.024Z"
   },
   {
    "duration": 6,
    "start_time": "2022-12-22T19:46:03.560Z"
   },
   {
    "duration": 11,
    "start_time": "2022-12-22T19:46:16.140Z"
   },
   {
    "duration": 11,
    "start_time": "2022-12-22T19:51:46.097Z"
   },
   {
    "duration": 13,
    "start_time": "2022-12-22T19:51:54.532Z"
   },
   {
    "duration": 323,
    "start_time": "2022-12-22T19:52:13.259Z"
   },
   {
    "duration": 359,
    "start_time": "2022-12-22T19:52:28.442Z"
   },
   {
    "duration": 89,
    "start_time": "2022-12-22T19:53:41.850Z"
   },
   {
    "duration": 10,
    "start_time": "2022-12-22T19:58:48.952Z"
   },
   {
    "duration": 58,
    "start_time": "2022-12-22T19:58:56.235Z"
   },
   {
    "duration": 68,
    "start_time": "2022-12-22T19:59:42.501Z"
   },
   {
    "duration": 1068,
    "start_time": "2022-12-23T08:38:55.504Z"
   },
   {
    "duration": 115,
    "start_time": "2022-12-23T08:38:56.574Z"
   },
   {
    "duration": 14,
    "start_time": "2022-12-23T08:38:56.691Z"
   },
   {
    "duration": 10,
    "start_time": "2022-12-23T08:38:56.707Z"
   },
   {
    "duration": 26,
    "start_time": "2022-12-23T08:38:56.719Z"
   },
   {
    "duration": 3,
    "start_time": "2022-12-23T08:38:56.747Z"
   },
   {
    "duration": 15,
    "start_time": "2022-12-23T08:38:56.752Z"
   },
   {
    "duration": 242,
    "start_time": "2022-12-23T08:38:56.768Z"
   },
   {
    "duration": 0,
    "start_time": "2022-12-23T08:38:57.011Z"
   },
   {
    "duration": 3,
    "start_time": "2022-12-23T08:39:11.694Z"
   },
   {
    "duration": 310,
    "start_time": "2022-12-23T08:39:23.919Z"
   },
   {
    "duration": 100,
    "start_time": "2022-12-23T08:54:46.965Z"
   },
   {
    "duration": 3,
    "start_time": "2022-12-23T08:55:23.225Z"
   },
   {
    "duration": 4,
    "start_time": "2022-12-23T08:55:48.553Z"
   },
   {
    "duration": 4,
    "start_time": "2022-12-23T09:00:37.139Z"
   },
   {
    "duration": 4,
    "start_time": "2022-12-23T09:00:40.159Z"
   },
   {
    "duration": 4,
    "start_time": "2022-12-23T09:00:57.487Z"
   },
   {
    "duration": 3,
    "start_time": "2022-12-23T09:01:01.708Z"
   },
   {
    "duration": 3,
    "start_time": "2022-12-23T09:01:25.874Z"
   },
   {
    "duration": 3,
    "start_time": "2022-12-23T09:01:28.681Z"
   },
   {
    "duration": 89,
    "start_time": "2022-12-23T09:01:41.807Z"
   },
   {
    "duration": 3,
    "start_time": "2022-12-23T09:01:50.591Z"
   },
   {
    "duration": 15,
    "start_time": "2022-12-23T09:02:09.235Z"
   },
   {
    "duration": 1112,
    "start_time": "2022-12-23T10:10:35.426Z"
   },
   {
    "duration": 32,
    "start_time": "2022-12-23T10:10:36.541Z"
   },
   {
    "duration": 22,
    "start_time": "2022-12-23T10:10:36.578Z"
   },
   {
    "duration": 13,
    "start_time": "2022-12-23T10:10:36.602Z"
   },
   {
    "duration": 33,
    "start_time": "2022-12-23T10:10:36.617Z"
   },
   {
    "duration": 4,
    "start_time": "2022-12-23T10:10:36.652Z"
   },
   {
    "duration": 170,
    "start_time": "2022-12-23T10:10:36.658Z"
   },
   {
    "duration": 11,
    "start_time": "2022-12-23T10:10:36.830Z"
   },
   {
    "duration": 14,
    "start_time": "2022-12-23T10:10:36.844Z"
   },
   {
    "duration": 9,
    "start_time": "2022-12-23T10:10:36.861Z"
   },
   {
    "duration": 13,
    "start_time": "2022-12-23T10:10:36.872Z"
   },
   {
    "duration": 19,
    "start_time": "2022-12-23T10:10:36.927Z"
   },
   {
    "duration": 86,
    "start_time": "2022-12-23T10:11:22.047Z"
   },
   {
    "duration": 82,
    "start_time": "2022-12-23T11:23:08.585Z"
   },
   {
    "duration": 6,
    "start_time": "2022-12-23T11:23:13.428Z"
   },
   {
    "duration": 4,
    "start_time": "2022-12-23T11:23:22.540Z"
   },
   {
    "duration": 14,
    "start_time": "2022-12-23T11:23:34.324Z"
   },
   {
    "duration": 4,
    "start_time": "2022-12-23T11:24:32.896Z"
   },
   {
    "duration": 13,
    "start_time": "2022-12-23T11:24:40.727Z"
   },
   {
    "duration": 18,
    "start_time": "2022-12-23T11:27:02.031Z"
   },
   {
    "duration": 4,
    "start_time": "2022-12-23T11:27:22.327Z"
   },
   {
    "duration": 3,
    "start_time": "2022-12-23T11:27:42.585Z"
   },
   {
    "duration": 3,
    "start_time": "2022-12-23T11:28:19.702Z"
   },
   {
    "duration": 4,
    "start_time": "2022-12-23T11:28:25.016Z"
   },
   {
    "duration": 89,
    "start_time": "2022-12-23T11:28:34.206Z"
   },
   {
    "duration": 17,
    "start_time": "2022-12-23T11:28:40.419Z"
   },
   {
    "duration": 18,
    "start_time": "2022-12-23T11:29:25.193Z"
   },
   {
    "duration": 3,
    "start_time": "2022-12-23T11:29:46.750Z"
   },
   {
    "duration": 4,
    "start_time": "2022-12-23T11:29:49.478Z"
   },
   {
    "duration": 10,
    "start_time": "2022-12-23T11:29:53.235Z"
   },
   {
    "duration": 20,
    "start_time": "2022-12-23T11:29:57.135Z"
   },
   {
    "duration": 4,
    "start_time": "2022-12-23T11:37:35.019Z"
   },
   {
    "duration": 9,
    "start_time": "2022-12-23T11:37:41.794Z"
   },
   {
    "duration": 8,
    "start_time": "2022-12-23T11:37:56.032Z"
   },
   {
    "duration": 2,
    "start_time": "2022-12-23T11:55:50.105Z"
   },
   {
    "duration": 18,
    "start_time": "2022-12-23T11:55:53.315Z"
   },
   {
    "duration": 13,
    "start_time": "2022-12-23T11:56:10.173Z"
   },
   {
    "duration": 2,
    "start_time": "2022-12-23T11:56:40.211Z"
   },
   {
    "duration": 3,
    "start_time": "2022-12-23T11:56:42.646Z"
   },
   {
    "duration": 12,
    "start_time": "2022-12-23T11:56:46.708Z"
   },
   {
    "duration": 14,
    "start_time": "2022-12-23T11:56:50.735Z"
   },
   {
    "duration": 4,
    "start_time": "2022-12-23T11:59:32.229Z"
   },
   {
    "duration": 4,
    "start_time": "2022-12-23T11:59:39.712Z"
   },
   {
    "duration": 13,
    "start_time": "2022-12-23T11:59:45.840Z"
   },
   {
    "duration": 13,
    "start_time": "2022-12-23T12:00:49.531Z"
   },
   {
    "duration": 4,
    "start_time": "2022-12-23T12:04:52.312Z"
   },
   {
    "duration": 14,
    "start_time": "2022-12-23T12:04:55.022Z"
   },
   {
    "duration": 4,
    "start_time": "2022-12-23T12:05:06.736Z"
   },
   {
    "duration": 13,
    "start_time": "2022-12-23T12:05:09.263Z"
   },
   {
    "duration": 22,
    "start_time": "2022-12-23T12:06:35.438Z"
   },
   {
    "duration": 3,
    "start_time": "2022-12-23T12:07:13.221Z"
   },
   {
    "duration": 20,
    "start_time": "2022-12-23T12:07:15.573Z"
   },
   {
    "duration": 9,
    "start_time": "2022-12-23T12:07:28.512Z"
   },
   {
    "duration": 4,
    "start_time": "2022-12-23T12:08:19.975Z"
   },
   {
    "duration": 11,
    "start_time": "2022-12-23T12:08:22.336Z"
   },
   {
    "duration": 16,
    "start_time": "2022-12-23T12:08:38.639Z"
   },
   {
    "duration": 1061,
    "start_time": "2022-12-23T17:04:51.256Z"
   },
   {
    "duration": 134,
    "start_time": "2022-12-23T17:04:52.319Z"
   },
   {
    "duration": 20,
    "start_time": "2022-12-23T17:04:52.456Z"
   },
   {
    "duration": 19,
    "start_time": "2022-12-23T17:04:52.479Z"
   },
   {
    "duration": 35,
    "start_time": "2022-12-23T17:04:52.501Z"
   },
   {
    "duration": 15,
    "start_time": "2022-12-23T17:04:52.538Z"
   },
   {
    "duration": 27,
    "start_time": "2022-12-23T17:04:52.555Z"
   },
   {
    "duration": 75,
    "start_time": "2022-12-23T17:04:52.584Z"
   },
   {
    "duration": 93,
    "start_time": "2022-12-23T17:04:52.661Z"
   },
   {
    "duration": 14,
    "start_time": "2022-12-23T17:04:52.757Z"
   },
   {
    "duration": 20,
    "start_time": "2022-12-23T17:04:52.772Z"
   },
   {
    "duration": 21,
    "start_time": "2022-12-23T17:04:52.794Z"
   },
   {
    "duration": 12,
    "start_time": "2022-12-23T17:04:52.817Z"
   },
   {
    "duration": 30,
    "start_time": "2022-12-23T17:04:52.830Z"
   },
   {
    "duration": 117,
    "start_time": "2022-12-23T17:04:52.863Z"
   },
   {
    "duration": 23,
    "start_time": "2022-12-23T17:04:52.982Z"
   },
   {
    "duration": 53,
    "start_time": "2022-12-23T17:04:53.007Z"
   },
   {
    "duration": 102,
    "start_time": "2022-12-23T17:04:53.062Z"
   },
   {
    "duration": 16,
    "start_time": "2022-12-23T17:04:53.165Z"
   },
   {
    "duration": 69,
    "start_time": "2022-12-23T17:04:53.183Z"
   },
   {
    "duration": 4,
    "start_time": "2022-12-23T17:04:53.254Z"
   },
   {
    "duration": 109,
    "start_time": "2022-12-23T17:04:53.261Z"
   },
   {
    "duration": 29,
    "start_time": "2022-12-23T17:04:53.372Z"
   },
   {
    "duration": 87,
    "start_time": "2022-12-23T17:05:57.233Z"
   },
   {
    "duration": 4,
    "start_time": "2022-12-23T17:06:13.011Z"
   },
   {
    "duration": 4,
    "start_time": "2022-12-23T17:06:25.253Z"
   },
   {
    "duration": 12,
    "start_time": "2022-12-23T17:06:33.349Z"
   },
   {
    "duration": 4,
    "start_time": "2022-12-23T17:08:28.964Z"
   },
   {
    "duration": 4,
    "start_time": "2022-12-23T17:08:33.738Z"
   },
   {
    "duration": 12,
    "start_time": "2022-12-23T17:08:50.207Z"
   },
   {
    "duration": 11,
    "start_time": "2022-12-23T17:08:52.733Z"
   },
   {
    "duration": 4,
    "start_time": "2022-12-23T17:08:57.353Z"
   },
   {
    "duration": 12,
    "start_time": "2022-12-23T17:09:00.023Z"
   },
   {
    "duration": 305,
    "start_time": "2022-12-23T17:09:13.959Z"
   },
   {
    "duration": 8,
    "start_time": "2022-12-23T17:10:08.370Z"
   },
   {
    "duration": 18,
    "start_time": "2022-12-23T17:10:31.437Z"
   },
   {
    "duration": 4,
    "start_time": "2022-12-23T17:11:07.786Z"
   },
   {
    "duration": 10,
    "start_time": "2022-12-23T17:11:13.442Z"
   },
   {
    "duration": 4,
    "start_time": "2022-12-23T17:20:03.856Z"
   },
   {
    "duration": 14,
    "start_time": "2022-12-23T17:20:28.671Z"
   },
   {
    "duration": 4,
    "start_time": "2022-12-23T17:21:21.834Z"
   },
   {
    "duration": 17,
    "start_time": "2022-12-23T17:21:28.566Z"
   },
   {
    "duration": 306,
    "start_time": "2022-12-23T17:21:39.719Z"
   },
   {
    "duration": 13,
    "start_time": "2022-12-23T17:22:57.042Z"
   },
   {
    "duration": 864,
    "start_time": "2022-12-23T17:24:04.519Z"
   },
   {
    "duration": 882,
    "start_time": "2022-12-23T17:24:35.574Z"
   },
   {
    "duration": 4,
    "start_time": "2022-12-23T17:24:42.135Z"
   },
   {
    "duration": 5,
    "start_time": "2022-12-23T17:24:48.268Z"
   },
   {
    "duration": 6,
    "start_time": "2022-12-23T17:24:49.364Z"
   },
   {
    "duration": 4,
    "start_time": "2022-12-23T17:24:50.365Z"
   },
   {
    "duration": 4,
    "start_time": "2022-12-23T17:24:51.261Z"
   },
   {
    "duration": 4,
    "start_time": "2022-12-23T17:24:52.142Z"
   },
   {
    "duration": 13,
    "start_time": "2022-12-23T17:24:59.683Z"
   },
   {
    "duration": 49,
    "start_time": "2022-12-23T17:27:28.613Z"
   },
   {
    "duration": 11,
    "start_time": "2022-12-23T17:27:29.812Z"
   },
   {
    "duration": 4,
    "start_time": "2022-12-23T17:27:37.161Z"
   },
   {
    "duration": 11,
    "start_time": "2022-12-23T17:27:43.114Z"
   },
   {
    "duration": 9,
    "start_time": "2022-12-23T18:55:32.166Z"
   },
   {
    "duration": 4,
    "start_time": "2022-12-23T18:56:04.347Z"
   },
   {
    "duration": 18,
    "start_time": "2022-12-23T18:57:00.637Z"
   },
   {
    "duration": 4,
    "start_time": "2022-12-23T18:57:18.365Z"
   },
   {
    "duration": 12,
    "start_time": "2022-12-23T18:57:39.215Z"
   },
   {
    "duration": 8,
    "start_time": "2022-12-23T18:58:03.806Z"
   },
   {
    "duration": 14,
    "start_time": "2022-12-23T18:58:54.094Z"
   },
   {
    "duration": 10,
    "start_time": "2022-12-23T18:59:24.202Z"
   },
   {
    "duration": 1028,
    "start_time": "2022-12-27T17:47:31.341Z"
   },
   {
    "duration": 84,
    "start_time": "2022-12-27T17:47:32.371Z"
   },
   {
    "duration": 15,
    "start_time": "2022-12-27T17:47:32.457Z"
   },
   {
    "duration": 10,
    "start_time": "2022-12-27T17:47:32.474Z"
   },
   {
    "duration": 21,
    "start_time": "2022-12-27T17:47:32.486Z"
   },
   {
    "duration": 3,
    "start_time": "2022-12-27T17:47:32.508Z"
   },
   {
    "duration": 5,
    "start_time": "2022-12-27T17:47:32.512Z"
   },
   {
    "duration": 15,
    "start_time": "2022-12-27T17:47:32.519Z"
   },
   {
    "duration": 260,
    "start_time": "2022-12-27T17:47:32.536Z"
   },
   {
    "duration": 0,
    "start_time": "2022-12-27T17:47:32.797Z"
   },
   {
    "duration": 0,
    "start_time": "2022-12-27T17:47:32.798Z"
   },
   {
    "duration": 0,
    "start_time": "2022-12-27T17:47:32.805Z"
   },
   {
    "duration": 0,
    "start_time": "2022-12-27T17:47:32.806Z"
   },
   {
    "duration": 0,
    "start_time": "2022-12-27T17:47:32.807Z"
   },
   {
    "duration": 0,
    "start_time": "2022-12-27T17:47:32.808Z"
   },
   {
    "duration": 0,
    "start_time": "2022-12-27T17:47:32.809Z"
   },
   {
    "duration": 0,
    "start_time": "2022-12-27T17:47:32.810Z"
   },
   {
    "duration": 0,
    "start_time": "2022-12-27T17:47:32.811Z"
   },
   {
    "duration": 0,
    "start_time": "2022-12-27T17:47:32.812Z"
   },
   {
    "duration": 0,
    "start_time": "2022-12-27T17:47:32.813Z"
   },
   {
    "duration": 0,
    "start_time": "2022-12-27T17:47:32.814Z"
   },
   {
    "duration": 0,
    "start_time": "2022-12-27T17:47:32.815Z"
   },
   {
    "duration": 0,
    "start_time": "2022-12-27T17:47:32.816Z"
   },
   {
    "duration": 0,
    "start_time": "2022-12-27T17:47:32.817Z"
   },
   {
    "duration": 0,
    "start_time": "2022-12-27T17:47:32.818Z"
   },
   {
    "duration": 0,
    "start_time": "2022-12-27T17:47:32.819Z"
   },
   {
    "duration": 0,
    "start_time": "2022-12-27T17:47:32.819Z"
   },
   {
    "duration": 0,
    "start_time": "2022-12-27T17:47:32.820Z"
   },
   {
    "duration": 0,
    "start_time": "2022-12-27T17:47:32.821Z"
   },
   {
    "duration": 0,
    "start_time": "2022-12-27T17:47:32.822Z"
   },
   {
    "duration": 10,
    "start_time": "2022-12-27T17:49:33.170Z"
   },
   {
    "duration": 7,
    "start_time": "2022-12-27T17:49:46.172Z"
   },
   {
    "duration": 5,
    "start_time": "2022-12-27T17:50:15.747Z"
   },
   {
    "duration": 5,
    "start_time": "2022-12-27T17:50:24.353Z"
   },
   {
    "duration": 13,
    "start_time": "2022-12-27T17:51:52.208Z"
   },
   {
    "duration": 5,
    "start_time": "2022-12-27T17:52:07.896Z"
   },
   {
    "duration": 6,
    "start_time": "2022-12-27T17:52:13.240Z"
   },
   {
    "duration": 13,
    "start_time": "2022-12-27T17:52:22.523Z"
   },
   {
    "duration": 9,
    "start_time": "2022-12-27T17:53:55.990Z"
   },
   {
    "duration": 11,
    "start_time": "2022-12-27T17:54:16.720Z"
   },
   {
    "duration": 10,
    "start_time": "2022-12-27T17:56:46.544Z"
   },
   {
    "duration": 6,
    "start_time": "2022-12-27T17:56:55.592Z"
   },
   {
    "duration": 4,
    "start_time": "2022-12-27T17:57:05.952Z"
   },
   {
    "duration": 66,
    "start_time": "2022-12-27T18:00:55.076Z"
   },
   {
    "duration": 3,
    "start_time": "2022-12-27T18:26:27.810Z"
   },
   {
    "duration": 13,
    "start_time": "2022-12-27T18:26:32.393Z"
   },
   {
    "duration": 10,
    "start_time": "2022-12-28T14:58:04.943Z"
   },
   {
    "duration": 8,
    "start_time": "2022-12-28T14:58:16.393Z"
   },
   {
    "duration": 2,
    "start_time": "2022-12-28T14:58:33.994Z"
   },
   {
    "duration": 10,
    "start_time": "2022-12-28T14:59:04.578Z"
   },
   {
    "duration": 15,
    "start_time": "2022-12-28T14:59:14.917Z"
   },
   {
    "duration": 3,
    "start_time": "2022-12-28T14:59:33.059Z"
   },
   {
    "duration": 81,
    "start_time": "2022-12-28T14:59:35.513Z"
   },
   {
    "duration": 71,
    "start_time": "2022-12-28T15:01:58.442Z"
   },
   {
    "duration": 102,
    "start_time": "2022-12-28T15:02:06.866Z"
   },
   {
    "duration": 92,
    "start_time": "2022-12-28T15:07:43.869Z"
   },
   {
    "duration": 0,
    "start_time": "2022-12-28T15:10:13.701Z"
   },
   {
    "duration": 0,
    "start_time": "2022-12-28T15:10:13.702Z"
   },
   {
    "duration": 3,
    "start_time": "2022-12-28T15:10:19.669Z"
   },
   {
    "duration": 4,
    "start_time": "2022-12-28T15:10:22.335Z"
   },
   {
    "duration": 6,
    "start_time": "2022-12-28T15:10:40.032Z"
   },
   {
    "duration": 3,
    "start_time": "2022-12-28T15:10:54.408Z"
   },
   {
    "duration": 6,
    "start_time": "2022-12-28T15:10:57.657Z"
   },
   {
    "duration": 7,
    "start_time": "2022-12-28T15:11:08.137Z"
   },
   {
    "duration": 5,
    "start_time": "2022-12-28T15:12:55.190Z"
   },
   {
    "duration": 3,
    "start_time": "2022-12-28T15:12:59.787Z"
   },
   {
    "duration": 5,
    "start_time": "2022-12-28T15:13:03.064Z"
   },
   {
    "duration": 5,
    "start_time": "2022-12-28T15:50:45.579Z"
   },
   {
    "duration": 5,
    "start_time": "2022-12-28T15:50:51.485Z"
   },
   {
    "duration": 10,
    "start_time": "2022-12-28T15:51:17.104Z"
   },
   {
    "duration": 51,
    "start_time": "2022-12-28T15:51:48.055Z"
   },
   {
    "duration": 4,
    "start_time": "2022-12-28T15:52:22.126Z"
   },
   {
    "duration": 20,
    "start_time": "2022-12-28T15:52:26.544Z"
   },
   {
    "duration": 4,
    "start_time": "2022-12-28T15:54:20.641Z"
   },
   {
    "duration": 23,
    "start_time": "2022-12-28T15:54:23.334Z"
   },
   {
    "duration": 5,
    "start_time": "2022-12-28T15:55:24.429Z"
   },
   {
    "duration": 17,
    "start_time": "2022-12-28T15:55:27.125Z"
   },
   {
    "duration": 5,
    "start_time": "2022-12-28T15:56:06.474Z"
   },
   {
    "duration": 7,
    "start_time": "2022-12-28T15:56:08.436Z"
   },
   {
    "duration": 8,
    "start_time": "2022-12-28T15:56:15.837Z"
   },
   {
    "duration": 12,
    "start_time": "2022-12-28T15:56:19.918Z"
   },
   {
    "duration": 5,
    "start_time": "2022-12-28T16:00:10.326Z"
   },
   {
    "duration": 4,
    "start_time": "2022-12-28T16:00:19.915Z"
   },
   {
    "duration": 6,
    "start_time": "2022-12-28T16:01:04.224Z"
   },
   {
    "duration": 86,
    "start_time": "2022-12-28T16:01:06.719Z"
   },
   {
    "duration": 6,
    "start_time": "2022-12-28T16:04:34.802Z"
   },
   {
    "duration": 24,
    "start_time": "2022-12-28T16:04:45.990Z"
   },
   {
    "duration": 77,
    "start_time": "2022-12-28T16:04:55.839Z"
   },
   {
    "duration": 4,
    "start_time": "2022-12-28T16:05:07.579Z"
   },
   {
    "duration": 6,
    "start_time": "2022-12-28T16:05:10.503Z"
   },
   {
    "duration": 12,
    "start_time": "2022-12-28T16:05:14.105Z"
   },
   {
    "duration": 72,
    "start_time": "2022-12-28T18:25:43.499Z"
   },
   {
    "duration": 68,
    "start_time": "2022-12-28T19:31:25.419Z"
   },
   {
    "duration": 4,
    "start_time": "2022-12-28T19:31:33.922Z"
   },
   {
    "duration": 95,
    "start_time": "2022-12-28T19:32:29.523Z"
   },
   {
    "duration": 3,
    "start_time": "2022-12-28T19:33:05.821Z"
   },
   {
    "duration": 16,
    "start_time": "2022-12-28T19:33:13.206Z"
   },
   {
    "duration": 3,
    "start_time": "2022-12-28T19:33:57.011Z"
   },
   {
    "duration": 3,
    "start_time": "2022-12-28T19:34:26.148Z"
   },
   {
    "duration": 5,
    "start_time": "2022-12-28T19:35:21.040Z"
   },
   {
    "duration": 33,
    "start_time": "2022-12-28T19:35:23.880Z"
   },
   {
    "duration": 4,
    "start_time": "2022-12-28T19:35:43.008Z"
   },
   {
    "duration": 17,
    "start_time": "2022-12-28T19:35:45.940Z"
   },
   {
    "duration": 4,
    "start_time": "2022-12-28T19:36:46.064Z"
   },
   {
    "duration": 15,
    "start_time": "2022-12-28T19:36:49.240Z"
   },
   {
    "duration": 75,
    "start_time": "2022-12-29T06:26:54.661Z"
   },
   {
    "duration": 87,
    "start_time": "2022-12-29T06:27:39.055Z"
   }
  ],
  "kernelspec": {
   "display_name": "Python 3 (ipykernel)",
   "language": "python",
   "name": "python3"
  },
  "language_info": {
   "codemirror_mode": {
    "name": "ipython",
    "version": 3
   },
   "file_extension": ".py",
   "mimetype": "text/x-python",
   "name": "python",
   "nbconvert_exporter": "python",
   "pygments_lexer": "ipython3",
   "version": "3.9.12"
  },
  "toc": {
   "base_numbering": 1,
   "nav_menu": {},
   "number_sections": true,
   "sideBar": true,
   "skip_h1_title": true,
   "title_cell": "Содержание",
   "title_sidebar": "Contents",
   "toc_cell": true,
   "toc_position": {
    "height": "calc(100% - 180px)",
    "left": "10px",
    "top": "150px",
    "width": "307.2px"
   },
   "toc_section_display": true,
   "toc_window_display": true
  }
 },
 "nbformat": 4,
 "nbformat_minor": 2
}
