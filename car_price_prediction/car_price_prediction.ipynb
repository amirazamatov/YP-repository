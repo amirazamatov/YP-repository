{
 "cells": [
  {
   "attachments": {},
   "cell_type": "markdown",
   "metadata": {},
   "source": [
    "# Определение стоимости автомобилей"
   ]
  },
  {
   "attachments": {},
   "cell_type": "markdown",
   "metadata": {},
   "source": [
    "Сервис по продаже автомобилей с пробегом разрабатывает приложение для привлечения новых клиентов. В нём пользователь сможет быстро узнать рыночную стоимость своего автомобиля. \n",
    "\n",
    "В нашем распоряжении исторические данные: технические характеристики, комплектации и цены автомобилей. \n",
    "\n",
    "**Цель** - построить модель для определения стоимости автомобиля. \n",
    "\n",
    "Заказчику важны:\n",
    "\n",
    "- качество предсказания;\n",
    "- скорость предсказания;\n",
    "- время обучения."
   ]
  },
  {
   "attachments": {},
   "cell_type": "markdown",
   "metadata": {},
   "source": [
    "## Подготовка данных"
   ]
  },
  {
   "cell_type": "code",
   "execution_count": null,
   "metadata": {},
   "outputs": [],
   "source": [
    "#загружаем необходимые библиотеки\n",
    "!pip install skimpy\n",
    "!pip install catboost\n",
    "!pip install lightgbm\n",
    "!pip install sklearn\n",
    "\n",
    "import pandas as pd\n",
    "import matplotlib.pyplot as plt\n",
    "import numpy as np\n",
    "import warnings\n",
    "import matplotlib.pyplot as plt\n",
    "\n",
    "from sklearn.model_selection import train_test_split\n",
    "from sklearn.linear_model import LinearRegression\n",
    "from sklearn.tree import DecisionTreeRegressor\n",
    "from sklearn.ensemble import RandomForestRegressor\n",
    "from sklearn.neighbors import KNeighborsRegressor\n",
    "from sklearn.model_selection import RandomizedSearchCV\n",
    "from sklearn.metrics import mean_squared_error\n",
    "from sklearn.preprocessing import OneHotEncoder\n",
    "\n",
    "from catboost import CatBoostRegressor\n",
    "\n",
    "from lightgbm import LGBMRegressor\n",
    "\n",
    "from skimpy import clean_columns\n"
   ]
  },
  {
   "cell_type": "code",
   "execution_count": 2,
   "metadata": {},
   "outputs": [],
   "source": [
    "RANDOM = 123\n",
    "\n",
    "warnings.filterwarnings('ignore')\n",
    "model_list = []\n",
    "rmse_score_list = []\n",
    "best_params = []"
   ]
  },
  {
   "cell_type": "code",
   "execution_count": 3,
   "metadata": {},
   "outputs": [],
   "source": [
    "#загружаем датасет\n",
    "try:\n",
    "    data = pd.read_csv('/datasets/autos.csv')\n",
    "except:\n",
    "    data = pd.read_csv('/Users/amirk/Downloads/autos.csv')"
   ]
  },
  {
   "attachments": {},
   "cell_type": "markdown",
   "metadata": {},
   "source": [
    "### Анализ данных"
   ]
  },
  {
   "cell_type": "code",
   "execution_count": 4,
   "metadata": {},
   "outputs": [
    {
     "data": {
      "text/html": [
       "<div>\n",
       "<style scoped>\n",
       "    .dataframe tbody tr th:only-of-type {\n",
       "        vertical-align: middle;\n",
       "    }\n",
       "\n",
       "    .dataframe tbody tr th {\n",
       "        vertical-align: top;\n",
       "    }\n",
       "\n",
       "    .dataframe thead th {\n",
       "        text-align: right;\n",
       "    }\n",
       "</style>\n",
       "<table border=\"1\" class=\"dataframe\">\n",
       "  <thead>\n",
       "    <tr style=\"text-align: right;\">\n",
       "      <th></th>\n",
       "      <th>DateCrawled</th>\n",
       "      <th>Price</th>\n",
       "      <th>VehicleType</th>\n",
       "      <th>RegistrationYear</th>\n",
       "      <th>Gearbox</th>\n",
       "      <th>Power</th>\n",
       "      <th>Model</th>\n",
       "      <th>Kilometer</th>\n",
       "      <th>RegistrationMonth</th>\n",
       "      <th>FuelType</th>\n",
       "      <th>Brand</th>\n",
       "      <th>Repaired</th>\n",
       "      <th>DateCreated</th>\n",
       "      <th>NumberOfPictures</th>\n",
       "      <th>PostalCode</th>\n",
       "      <th>LastSeen</th>\n",
       "    </tr>\n",
       "  </thead>\n",
       "  <tbody>\n",
       "    <tr>\n",
       "      <th>0</th>\n",
       "      <td>2016-03-24 11:52:17</td>\n",
       "      <td>480</td>\n",
       "      <td>NaN</td>\n",
       "      <td>1993</td>\n",
       "      <td>manual</td>\n",
       "      <td>0</td>\n",
       "      <td>golf</td>\n",
       "      <td>150000</td>\n",
       "      <td>0</td>\n",
       "      <td>petrol</td>\n",
       "      <td>volkswagen</td>\n",
       "      <td>NaN</td>\n",
       "      <td>2016-03-24 00:00:00</td>\n",
       "      <td>0</td>\n",
       "      <td>70435</td>\n",
       "      <td>2016-04-07 03:16:57</td>\n",
       "    </tr>\n",
       "    <tr>\n",
       "      <th>1</th>\n",
       "      <td>2016-03-24 10:58:45</td>\n",
       "      <td>18300</td>\n",
       "      <td>coupe</td>\n",
       "      <td>2011</td>\n",
       "      <td>manual</td>\n",
       "      <td>190</td>\n",
       "      <td>NaN</td>\n",
       "      <td>125000</td>\n",
       "      <td>5</td>\n",
       "      <td>gasoline</td>\n",
       "      <td>audi</td>\n",
       "      <td>yes</td>\n",
       "      <td>2016-03-24 00:00:00</td>\n",
       "      <td>0</td>\n",
       "      <td>66954</td>\n",
       "      <td>2016-04-07 01:46:50</td>\n",
       "    </tr>\n",
       "    <tr>\n",
       "      <th>2</th>\n",
       "      <td>2016-03-14 12:52:21</td>\n",
       "      <td>9800</td>\n",
       "      <td>suv</td>\n",
       "      <td>2004</td>\n",
       "      <td>auto</td>\n",
       "      <td>163</td>\n",
       "      <td>grand</td>\n",
       "      <td>125000</td>\n",
       "      <td>8</td>\n",
       "      <td>gasoline</td>\n",
       "      <td>jeep</td>\n",
       "      <td>NaN</td>\n",
       "      <td>2016-03-14 00:00:00</td>\n",
       "      <td>0</td>\n",
       "      <td>90480</td>\n",
       "      <td>2016-04-05 12:47:46</td>\n",
       "    </tr>\n",
       "    <tr>\n",
       "      <th>3</th>\n",
       "      <td>2016-03-17 16:54:04</td>\n",
       "      <td>1500</td>\n",
       "      <td>small</td>\n",
       "      <td>2001</td>\n",
       "      <td>manual</td>\n",
       "      <td>75</td>\n",
       "      <td>golf</td>\n",
       "      <td>150000</td>\n",
       "      <td>6</td>\n",
       "      <td>petrol</td>\n",
       "      <td>volkswagen</td>\n",
       "      <td>no</td>\n",
       "      <td>2016-03-17 00:00:00</td>\n",
       "      <td>0</td>\n",
       "      <td>91074</td>\n",
       "      <td>2016-03-17 17:40:17</td>\n",
       "    </tr>\n",
       "    <tr>\n",
       "      <th>4</th>\n",
       "      <td>2016-03-31 17:25:20</td>\n",
       "      <td>3600</td>\n",
       "      <td>small</td>\n",
       "      <td>2008</td>\n",
       "      <td>manual</td>\n",
       "      <td>69</td>\n",
       "      <td>fabia</td>\n",
       "      <td>90000</td>\n",
       "      <td>7</td>\n",
       "      <td>gasoline</td>\n",
       "      <td>skoda</td>\n",
       "      <td>no</td>\n",
       "      <td>2016-03-31 00:00:00</td>\n",
       "      <td>0</td>\n",
       "      <td>60437</td>\n",
       "      <td>2016-04-06 10:17:21</td>\n",
       "    </tr>\n",
       "  </tbody>\n",
       "</table>\n",
       "</div>"
      ],
      "text/plain": [
       "           DateCrawled  Price VehicleType  RegistrationYear Gearbox  Power  \\\n",
       "0  2016-03-24 11:52:17    480         NaN              1993  manual      0   \n",
       "1  2016-03-24 10:58:45  18300       coupe              2011  manual    190   \n",
       "2  2016-03-14 12:52:21   9800         suv              2004    auto    163   \n",
       "3  2016-03-17 16:54:04   1500       small              2001  manual     75   \n",
       "4  2016-03-31 17:25:20   3600       small              2008  manual     69   \n",
       "\n",
       "   Model  Kilometer  RegistrationMonth  FuelType       Brand Repaired  \\\n",
       "0   golf     150000                  0    petrol  volkswagen      NaN   \n",
       "1    NaN     125000                  5  gasoline        audi      yes   \n",
       "2  grand     125000                  8  gasoline        jeep      NaN   \n",
       "3   golf     150000                  6    petrol  volkswagen       no   \n",
       "4  fabia      90000                  7  gasoline       skoda       no   \n",
       "\n",
       "           DateCreated  NumberOfPictures  PostalCode             LastSeen  \n",
       "0  2016-03-24 00:00:00                 0       70435  2016-04-07 03:16:57  \n",
       "1  2016-03-24 00:00:00                 0       66954  2016-04-07 01:46:50  \n",
       "2  2016-03-14 00:00:00                 0       90480  2016-04-05 12:47:46  \n",
       "3  2016-03-17 00:00:00                 0       91074  2016-03-17 17:40:17  \n",
       "4  2016-03-31 00:00:00                 0       60437  2016-04-06 10:17:21  "
      ]
     },
     "execution_count": 4,
     "metadata": {},
     "output_type": "execute_result"
    }
   ],
   "source": [
    "data.head()"
   ]
  },
  {
   "cell_type": "code",
   "execution_count": 5,
   "metadata": {},
   "outputs": [
    {
     "name": "stdout",
     "output_type": "stream",
     "text": [
      "<class 'pandas.core.frame.DataFrame'>\n",
      "RangeIndex: 354369 entries, 0 to 354368\n",
      "Data columns (total 16 columns):\n",
      " #   Column             Non-Null Count   Dtype \n",
      "---  ------             --------------   ----- \n",
      " 0   DateCrawled        354369 non-null  object\n",
      " 1   Price              354369 non-null  int64 \n",
      " 2   VehicleType        316879 non-null  object\n",
      " 3   RegistrationYear   354369 non-null  int64 \n",
      " 4   Gearbox            334536 non-null  object\n",
      " 5   Power              354369 non-null  int64 \n",
      " 6   Model              334664 non-null  object\n",
      " 7   Kilometer          354369 non-null  int64 \n",
      " 8   RegistrationMonth  354369 non-null  int64 \n",
      " 9   FuelType           321474 non-null  object\n",
      " 10  Brand              354369 non-null  object\n",
      " 11  Repaired           283215 non-null  object\n",
      " 12  DateCreated        354369 non-null  object\n",
      " 13  NumberOfPictures   354369 non-null  int64 \n",
      " 14  PostalCode         354369 non-null  int64 \n",
      " 15  LastSeen           354369 non-null  object\n",
      "dtypes: int64(7), object(9)\n",
      "memory usage: 43.3+ MB\n"
     ]
    }
   ],
   "source": [
    "data.info()"
   ]
  },
  {
   "cell_type": "code",
   "execution_count": 6,
   "metadata": {},
   "outputs": [
    {
     "data": {
      "text/html": [
       "<div>\n",
       "<style scoped>\n",
       "    .dataframe tbody tr th:only-of-type {\n",
       "        vertical-align: middle;\n",
       "    }\n",
       "\n",
       "    .dataframe tbody tr th {\n",
       "        vertical-align: top;\n",
       "    }\n",
       "\n",
       "    .dataframe thead th {\n",
       "        text-align: right;\n",
       "    }\n",
       "</style>\n",
       "<table border=\"1\" class=\"dataframe\">\n",
       "  <thead>\n",
       "    <tr style=\"text-align: right;\">\n",
       "      <th></th>\n",
       "      <th>Price</th>\n",
       "      <th>RegistrationYear</th>\n",
       "      <th>Power</th>\n",
       "      <th>Kilometer</th>\n",
       "      <th>RegistrationMonth</th>\n",
       "      <th>NumberOfPictures</th>\n",
       "      <th>PostalCode</th>\n",
       "    </tr>\n",
       "  </thead>\n",
       "  <tbody>\n",
       "    <tr>\n",
       "      <th>count</th>\n",
       "      <td>354369.000000</td>\n",
       "      <td>354369.000000</td>\n",
       "      <td>354369.000000</td>\n",
       "      <td>354369.000000</td>\n",
       "      <td>354369.000000</td>\n",
       "      <td>354369.0</td>\n",
       "      <td>354369.000000</td>\n",
       "    </tr>\n",
       "    <tr>\n",
       "      <th>mean</th>\n",
       "      <td>4416.656776</td>\n",
       "      <td>2004.234448</td>\n",
       "      <td>110.094337</td>\n",
       "      <td>128211.172535</td>\n",
       "      <td>5.714645</td>\n",
       "      <td>0.0</td>\n",
       "      <td>50508.689087</td>\n",
       "    </tr>\n",
       "    <tr>\n",
       "      <th>std</th>\n",
       "      <td>4514.158514</td>\n",
       "      <td>90.227958</td>\n",
       "      <td>189.850405</td>\n",
       "      <td>37905.341530</td>\n",
       "      <td>3.726421</td>\n",
       "      <td>0.0</td>\n",
       "      <td>25783.096248</td>\n",
       "    </tr>\n",
       "    <tr>\n",
       "      <th>min</th>\n",
       "      <td>0.000000</td>\n",
       "      <td>1000.000000</td>\n",
       "      <td>0.000000</td>\n",
       "      <td>5000.000000</td>\n",
       "      <td>0.000000</td>\n",
       "      <td>0.0</td>\n",
       "      <td>1067.000000</td>\n",
       "    </tr>\n",
       "    <tr>\n",
       "      <th>25%</th>\n",
       "      <td>1050.000000</td>\n",
       "      <td>1999.000000</td>\n",
       "      <td>69.000000</td>\n",
       "      <td>125000.000000</td>\n",
       "      <td>3.000000</td>\n",
       "      <td>0.0</td>\n",
       "      <td>30165.000000</td>\n",
       "    </tr>\n",
       "    <tr>\n",
       "      <th>50%</th>\n",
       "      <td>2700.000000</td>\n",
       "      <td>2003.000000</td>\n",
       "      <td>105.000000</td>\n",
       "      <td>150000.000000</td>\n",
       "      <td>6.000000</td>\n",
       "      <td>0.0</td>\n",
       "      <td>49413.000000</td>\n",
       "    </tr>\n",
       "    <tr>\n",
       "      <th>75%</th>\n",
       "      <td>6400.000000</td>\n",
       "      <td>2008.000000</td>\n",
       "      <td>143.000000</td>\n",
       "      <td>150000.000000</td>\n",
       "      <td>9.000000</td>\n",
       "      <td>0.0</td>\n",
       "      <td>71083.000000</td>\n",
       "    </tr>\n",
       "    <tr>\n",
       "      <th>max</th>\n",
       "      <td>20000.000000</td>\n",
       "      <td>9999.000000</td>\n",
       "      <td>20000.000000</td>\n",
       "      <td>150000.000000</td>\n",
       "      <td>12.000000</td>\n",
       "      <td>0.0</td>\n",
       "      <td>99998.000000</td>\n",
       "    </tr>\n",
       "  </tbody>\n",
       "</table>\n",
       "</div>"
      ],
      "text/plain": [
       "               Price  RegistrationYear          Power      Kilometer  \\\n",
       "count  354369.000000     354369.000000  354369.000000  354369.000000   \n",
       "mean     4416.656776       2004.234448     110.094337  128211.172535   \n",
       "std      4514.158514         90.227958     189.850405   37905.341530   \n",
       "min         0.000000       1000.000000       0.000000    5000.000000   \n",
       "25%      1050.000000       1999.000000      69.000000  125000.000000   \n",
       "50%      2700.000000       2003.000000     105.000000  150000.000000   \n",
       "75%      6400.000000       2008.000000     143.000000  150000.000000   \n",
       "max     20000.000000       9999.000000   20000.000000  150000.000000   \n",
       "\n",
       "       RegistrationMonth  NumberOfPictures     PostalCode  \n",
       "count      354369.000000          354369.0  354369.000000  \n",
       "mean            5.714645               0.0   50508.689087  \n",
       "std             3.726421               0.0   25783.096248  \n",
       "min             0.000000               0.0    1067.000000  \n",
       "25%             3.000000               0.0   30165.000000  \n",
       "50%             6.000000               0.0   49413.000000  \n",
       "75%             9.000000               0.0   71083.000000  \n",
       "max            12.000000               0.0   99998.000000  "
      ]
     },
     "execution_count": 6,
     "metadata": {},
     "output_type": "execute_result"
    }
   ],
   "source": [
    "data.describe()"
   ]
  },
  {
   "cell_type": "code",
   "execution_count": 7,
   "metadata": {},
   "outputs": [
    {
     "data": {
      "text/html": [
       "<div>\n",
       "<style scoped>\n",
       "    .dataframe tbody tr th:only-of-type {\n",
       "        vertical-align: middle;\n",
       "    }\n",
       "\n",
       "    .dataframe tbody tr th {\n",
       "        vertical-align: top;\n",
       "    }\n",
       "\n",
       "    .dataframe thead th {\n",
       "        text-align: right;\n",
       "    }\n",
       "</style>\n",
       "<table border=\"1\" class=\"dataframe\">\n",
       "  <thead>\n",
       "    <tr style=\"text-align: right;\">\n",
       "      <th></th>\n",
       "      <th>DateCrawled</th>\n",
       "      <th>VehicleType</th>\n",
       "      <th>Gearbox</th>\n",
       "      <th>Model</th>\n",
       "      <th>FuelType</th>\n",
       "      <th>Brand</th>\n",
       "      <th>Repaired</th>\n",
       "      <th>DateCreated</th>\n",
       "      <th>LastSeen</th>\n",
       "    </tr>\n",
       "  </thead>\n",
       "  <tbody>\n",
       "    <tr>\n",
       "      <th>count</th>\n",
       "      <td>354369</td>\n",
       "      <td>316879</td>\n",
       "      <td>334536</td>\n",
       "      <td>334664</td>\n",
       "      <td>321474</td>\n",
       "      <td>354369</td>\n",
       "      <td>283215</td>\n",
       "      <td>354369</td>\n",
       "      <td>354369</td>\n",
       "    </tr>\n",
       "    <tr>\n",
       "      <th>unique</th>\n",
       "      <td>271174</td>\n",
       "      <td>8</td>\n",
       "      <td>2</td>\n",
       "      <td>250</td>\n",
       "      <td>7</td>\n",
       "      <td>40</td>\n",
       "      <td>2</td>\n",
       "      <td>109</td>\n",
       "      <td>179150</td>\n",
       "    </tr>\n",
       "    <tr>\n",
       "      <th>top</th>\n",
       "      <td>2016-03-24 14:49:47</td>\n",
       "      <td>sedan</td>\n",
       "      <td>manual</td>\n",
       "      <td>golf</td>\n",
       "      <td>petrol</td>\n",
       "      <td>volkswagen</td>\n",
       "      <td>no</td>\n",
       "      <td>2016-04-03 00:00:00</td>\n",
       "      <td>2016-04-06 13:45:54</td>\n",
       "    </tr>\n",
       "    <tr>\n",
       "      <th>freq</th>\n",
       "      <td>7</td>\n",
       "      <td>91457</td>\n",
       "      <td>268251</td>\n",
       "      <td>29232</td>\n",
       "      <td>216352</td>\n",
       "      <td>77013</td>\n",
       "      <td>247161</td>\n",
       "      <td>13719</td>\n",
       "      <td>17</td>\n",
       "    </tr>\n",
       "  </tbody>\n",
       "</table>\n",
       "</div>"
      ],
      "text/plain": [
       "                DateCrawled VehicleType Gearbox   Model FuelType       Brand  \\\n",
       "count                354369      316879  334536  334664   321474      354369   \n",
       "unique               271174           8       2     250        7          40   \n",
       "top     2016-03-24 14:49:47       sedan  manual    golf   petrol  volkswagen   \n",
       "freq                      7       91457  268251   29232   216352       77013   \n",
       "\n",
       "       Repaired          DateCreated             LastSeen  \n",
       "count    283215               354369               354369  \n",
       "unique        2                  109               179150  \n",
       "top          no  2016-04-03 00:00:00  2016-04-06 13:45:54  \n",
       "freq     247161                13719                   17  "
      ]
     },
     "execution_count": 7,
     "metadata": {},
     "output_type": "execute_result"
    }
   ],
   "source": [
    "data.describe(include='object')"
   ]
  },
  {
   "cell_type": "code",
   "execution_count": 8,
   "metadata": {},
   "outputs": [
    {
     "data": {
      "text/html": [
       "<pre style=\"white-space:pre;overflow-x:auto;line-height:normal;font-family:Menlo,'DejaVu Sans Mono',consolas,'Courier New',monospace\"><span style=\"color: #008080; text-decoration-color: #008080; font-weight: bold\">16</span> column names have been cleaned\n",
       "</pre>\n"
      ],
      "text/plain": [
       "\u001b[1;36m16\u001b[0m column names have been cleaned\n"
      ]
     },
     "metadata": {},
     "output_type": "display_data"
    }
   ],
   "source": [
    "# приведем названия столбцов к стандартному виду\n",
    "data = clean_columns(data)"
   ]
  },
  {
   "cell_type": "code",
   "execution_count": 9,
   "metadata": {},
   "outputs": [],
   "source": [
    "#сразу обращает на себя внимание столбец nimber_of_pictures, все значения равны 0. \n",
    "#Столбец неинформативный, если нет возможности восстановить данные, то удаляем его.\n",
    "data.drop('number_of_pictures', axis=1, inplace=True)"
   ]
  },
  {
   "cell_type": "code",
   "execution_count": 10,
   "metadata": {},
   "outputs": [
    {
     "name": "stdout",
     "output_type": "stream",
     "text": [
      "<class 'pandas.core.frame.DataFrame'>\n",
      "RangeIndex: 354369 entries, 0 to 354368\n",
      "Data columns (total 15 columns):\n",
      " #   Column              Non-Null Count   Dtype \n",
      "---  ------              --------------   ----- \n",
      " 0   date_crawled        354369 non-null  object\n",
      " 1   price               354369 non-null  int64 \n",
      " 2   vehicle_type        316879 non-null  object\n",
      " 3   registration_year   354369 non-null  int64 \n",
      " 4   gearbox             334536 non-null  object\n",
      " 5   power               354369 non-null  int64 \n",
      " 6   model               334664 non-null  object\n",
      " 7   kilometer           354369 non-null  int64 \n",
      " 8   registration_month  354369 non-null  int64 \n",
      " 9   fuel_type           321474 non-null  object\n",
      " 10  brand               354369 non-null  object\n",
      " 11  repaired            283215 non-null  object\n",
      " 12  date_created        354369 non-null  object\n",
      " 13  postal_code         354369 non-null  int64 \n",
      " 14  last_seen           354369 non-null  object\n",
      "dtypes: int64(6), object(9)\n",
      "memory usage: 40.6+ MB\n"
     ]
    }
   ],
   "source": [
    "data.info()"
   ]
  },
  {
   "cell_type": "code",
   "execution_count": 11,
   "metadata": {},
   "outputs": [
    {
     "data": {
      "text/plain": [
       "4"
      ]
     },
     "execution_count": 11,
     "metadata": {},
     "output_type": "execute_result"
    }
   ],
   "source": [
    "# найдем и удалим явные дубликаты\n",
    "data.duplicated().sum()"
   ]
  },
  {
   "cell_type": "code",
   "execution_count": 12,
   "metadata": {},
   "outputs": [],
   "source": [
    "data.drop_duplicates(inplace=True)"
   ]
  },
  {
   "cell_type": "code",
   "execution_count": 13,
   "metadata": {},
   "outputs": [],
   "source": [
    "# переведем столбцы с датами в datetime формат\n",
    "\n",
    "data.loc[:, ['date_crawled', 'date_created', 'last_seen']] = pd.to_datetime \\\n",
    "(data.loc[:, ['date_crawled', 'date_created', 'last_seen']].stack()).unstack()"
   ]
  },
  {
   "attachments": {},
   "cell_type": "markdown",
   "metadata": {},
   "source": [
    "Пройдемся по всем столбцам, просмотрим выбросы и аномалии"
   ]
  },
  {
   "cell_type": "code",
   "execution_count": 14,
   "metadata": {},
   "outputs": [
    {
     "data": {
      "text/plain": [
       "array([1000, 1001, 1039, 1111, 1200, 1234, 1253, 1255, 1300, 1400, 1500,\n",
       "       1600, 1602, 1688, 1800, 1910, 1915, 1919, 1920, 1923, 1925, 1927,\n",
       "       1928, 1929, 1930, 1931, 1932, 1933, 1934, 1935, 1936, 1937, 1938,\n",
       "       1940, 1941, 1942, 1943, 1944, 1945, 1946, 1947, 1948, 1949, 1950,\n",
       "       1951, 1952, 1953, 1954, 1955, 1956, 1957, 1958, 1959, 1960, 1961,\n",
       "       1962, 1963, 1964, 1965, 1966, 1967, 1968, 1969, 1970, 1971, 1972,\n",
       "       1973, 1974, 1975, 1976, 1977, 1978, 1979, 1980, 1981, 1982, 1983,\n",
       "       1984, 1985, 1986, 1987, 1988, 1989, 1990, 1991, 1992, 1993, 1994,\n",
       "       1995, 1996, 1997, 1998, 1999, 2000, 2001, 2002, 2003, 2004, 2005,\n",
       "       2006, 2007, 2008, 2009, 2010, 2011, 2012, 2013, 2014, 2015, 2016,\n",
       "       2017, 2018, 2019, 2066, 2200, 2222, 2290, 2500, 2800, 2900, 3000,\n",
       "       3200, 3500, 3700, 3800, 4000, 4100, 4500, 4800, 5000, 5300, 5555,\n",
       "       5600, 5900, 5911, 6000, 6500, 7000, 7100, 7500, 7800, 8000, 8200,\n",
       "       8455, 8500, 8888, 9000, 9229, 9450, 9996, 9999], dtype=int64)"
      ]
     },
     "execution_count": 14,
     "metadata": {},
     "output_type": "execute_result"
    }
   ],
   "source": [
    "data['registration_year'].sort_values().unique()"
   ]
  },
  {
   "attachments": {},
   "cell_type": "markdown",
   "metadata": {},
   "source": [
    "Год регистрации не может быть равен 1000, 3000, 9999 и т.д. Это либо ошибка сбора информации, либо заглушки, о значении которых нужно узнавать у заказчика. На данный момент удалим  указанные значения"
   ]
  },
  {
   "cell_type": "code",
   "execution_count": 15,
   "metadata": {},
   "outputs": [],
   "source": [
    "data.query('1910 <= registration_year <= 2020', inplace=True)"
   ]
  },
  {
   "cell_type": "code",
   "execution_count": 16,
   "metadata": {},
   "outputs": [
    {
     "data": {
      "text/plain": [
       "array([1910, 1915, 1919, 1920, 1923, 1925, 1927, 1928, 1929, 1930, 1931,\n",
       "       1932, 1933, 1934, 1935, 1936, 1937, 1938, 1940, 1941, 1942, 1943,\n",
       "       1944, 1945, 1946, 1947, 1948, 1949, 1950, 1951, 1952, 1953, 1954,\n",
       "       1955, 1956, 1957, 1958, 1959, 1960, 1961, 1962, 1963, 1964, 1965,\n",
       "       1966, 1967, 1968, 1969, 1970, 1971, 1972, 1973, 1974, 1975, 1976,\n",
       "       1977, 1978, 1979, 1980, 1981, 1982, 1983, 1984, 1985, 1986, 1987,\n",
       "       1988, 1989, 1990, 1991, 1992, 1993, 1994, 1995, 1996, 1997, 1998,\n",
       "       1999, 2000, 2001, 2002, 2003, 2004, 2005, 2006, 2007, 2008, 2009,\n",
       "       2010, 2011, 2012, 2013, 2014, 2015, 2016, 2017, 2018, 2019],\n",
       "      dtype=int64)"
      ]
     },
     "execution_count": 16,
     "metadata": {},
     "output_type": "execute_result"
    }
   ],
   "source": [
    "data['registration_year'].sort_values().unique()"
   ]
  },
  {
   "attachments": {},
   "cell_type": "markdown",
   "metadata": {},
   "source": [
    "Года имеют правильную размерность!"
   ]
  },
  {
   "cell_type": "code",
   "execution_count": 17,
   "metadata": {},
   "outputs": [
    {
     "data": {
      "text/plain": [
       "0     37220\n",
       "3     34368\n",
       "6     31500\n",
       "4     29266\n",
       "5     29149\n",
       "7     27208\n",
       "10    26098\n",
       "12    24287\n",
       "11    24184\n",
       "9     23811\n",
       "1     23213\n",
       "8     22626\n",
       "2     21264\n",
       "Name: registration_month, dtype: int64"
      ]
     },
     "execution_count": 17,
     "metadata": {},
     "output_type": "execute_result"
    }
   ],
   "source": [
    "data['registration_month'].value_counts()"
   ]
  },
  {
   "attachments": {},
   "cell_type": "markdown",
   "metadata": {},
   "source": [
    "Номер месяца не может быть равен 0, вероятно опять какая-то ошибка или заглушка, нужно уточнять. Пока заменим данные значения на первый месяц, т.к. более значимый признак это год и удалять 10% выборки не совсем верно."
   ]
  },
  {
   "cell_type": "code",
   "execution_count": 18,
   "metadata": {},
   "outputs": [],
   "source": [
    "data['registration_month'].replace({0:1}, inplace=True)"
   ]
  },
  {
   "cell_type": "code",
   "execution_count": 19,
   "metadata": {},
   "outputs": [
    {
     "data": {
      "text/plain": [
       "1     60433\n",
       "3     34368\n",
       "6     31500\n",
       "4     29266\n",
       "5     29149\n",
       "7     27208\n",
       "10    26098\n",
       "12    24287\n",
       "11    24184\n",
       "9     23811\n",
       "8     22626\n",
       "2     21264\n",
       "Name: registration_month, dtype: int64"
      ]
     },
     "execution_count": 19,
     "metadata": {},
     "output_type": "execute_result"
    }
   ],
   "source": [
    "data['registration_month'].value_counts()"
   ]
  },
  {
   "attachments": {},
   "cell_type": "markdown",
   "metadata": {},
   "source": [
    "Месяца имеют правильные номера!"
   ]
  },
  {
   "attachments": {},
   "cell_type": "markdown",
   "metadata": {},
   "source": [
    "Создадим столбец с датой регистрации автомобиля. Дата регистрации автомобиля должна быть раньше, чем дата регистрации анкеты и даты выгрузки объявления. Проверим везде ли это соблюдено или есть ошибки. Если есть ошибки, то удалим их."
   ]
  },
  {
   "cell_type": "code",
   "execution_count": 20,
   "metadata": {},
   "outputs": [],
   "source": [
    "# создадим столбец с датой регистрации автомобиля\n",
    "data['date_registration'] = pd.to_datetime(dict(year=data['registration_year'], \n",
    "                                                month=data['registration_month'], \n",
    "                                                day=np.ones(len(data))))"
   ]
  },
  {
   "cell_type": "code",
   "execution_count": 21,
   "metadata": {
    "scrolled": true
   },
   "outputs": [
    {
     "data": {
      "text/html": [
       "<div>\n",
       "<style scoped>\n",
       "    .dataframe tbody tr th:only-of-type {\n",
       "        vertical-align: middle;\n",
       "    }\n",
       "\n",
       "    .dataframe tbody tr th {\n",
       "        vertical-align: top;\n",
       "    }\n",
       "\n",
       "    .dataframe thead th {\n",
       "        text-align: right;\n",
       "    }\n",
       "</style>\n",
       "<table border=\"1\" class=\"dataframe\">\n",
       "  <thead>\n",
       "    <tr style=\"text-align: right;\">\n",
       "      <th></th>\n",
       "      <th>date_crawled</th>\n",
       "      <th>price</th>\n",
       "      <th>vehicle_type</th>\n",
       "      <th>registration_year</th>\n",
       "      <th>gearbox</th>\n",
       "      <th>power</th>\n",
       "      <th>model</th>\n",
       "      <th>kilometer</th>\n",
       "      <th>registration_month</th>\n",
       "      <th>fuel_type</th>\n",
       "      <th>brand</th>\n",
       "      <th>repaired</th>\n",
       "      <th>date_created</th>\n",
       "      <th>postal_code</th>\n",
       "      <th>last_seen</th>\n",
       "      <th>date_registration</th>\n",
       "    </tr>\n",
       "  </thead>\n",
       "  <tbody>\n",
       "    <tr>\n",
       "      <th>0</th>\n",
       "      <td>2016-03-24 11:52:17</td>\n",
       "      <td>480</td>\n",
       "      <td>NaN</td>\n",
       "      <td>1993</td>\n",
       "      <td>manual</td>\n",
       "      <td>0</td>\n",
       "      <td>golf</td>\n",
       "      <td>150000</td>\n",
       "      <td>1</td>\n",
       "      <td>petrol</td>\n",
       "      <td>volkswagen</td>\n",
       "      <td>NaN</td>\n",
       "      <td>2016-03-24</td>\n",
       "      <td>70435</td>\n",
       "      <td>2016-04-07 03:16:57</td>\n",
       "      <td>1993-01-01</td>\n",
       "    </tr>\n",
       "    <tr>\n",
       "      <th>1</th>\n",
       "      <td>2016-03-24 10:58:45</td>\n",
       "      <td>18300</td>\n",
       "      <td>coupe</td>\n",
       "      <td>2011</td>\n",
       "      <td>manual</td>\n",
       "      <td>190</td>\n",
       "      <td>NaN</td>\n",
       "      <td>125000</td>\n",
       "      <td>5</td>\n",
       "      <td>gasoline</td>\n",
       "      <td>audi</td>\n",
       "      <td>yes</td>\n",
       "      <td>2016-03-24</td>\n",
       "      <td>66954</td>\n",
       "      <td>2016-04-07 01:46:50</td>\n",
       "      <td>2011-05-01</td>\n",
       "    </tr>\n",
       "    <tr>\n",
       "      <th>2</th>\n",
       "      <td>2016-03-14 12:52:21</td>\n",
       "      <td>9800</td>\n",
       "      <td>suv</td>\n",
       "      <td>2004</td>\n",
       "      <td>auto</td>\n",
       "      <td>163</td>\n",
       "      <td>grand</td>\n",
       "      <td>125000</td>\n",
       "      <td>8</td>\n",
       "      <td>gasoline</td>\n",
       "      <td>jeep</td>\n",
       "      <td>NaN</td>\n",
       "      <td>2016-03-14</td>\n",
       "      <td>90480</td>\n",
       "      <td>2016-04-05 12:47:46</td>\n",
       "      <td>2004-08-01</td>\n",
       "    </tr>\n",
       "    <tr>\n",
       "      <th>3</th>\n",
       "      <td>2016-03-17 16:54:04</td>\n",
       "      <td>1500</td>\n",
       "      <td>small</td>\n",
       "      <td>2001</td>\n",
       "      <td>manual</td>\n",
       "      <td>75</td>\n",
       "      <td>golf</td>\n",
       "      <td>150000</td>\n",
       "      <td>6</td>\n",
       "      <td>petrol</td>\n",
       "      <td>volkswagen</td>\n",
       "      <td>no</td>\n",
       "      <td>2016-03-17</td>\n",
       "      <td>91074</td>\n",
       "      <td>2016-03-17 17:40:17</td>\n",
       "      <td>2001-06-01</td>\n",
       "    </tr>\n",
       "    <tr>\n",
       "      <th>4</th>\n",
       "      <td>2016-03-31 17:25:20</td>\n",
       "      <td>3600</td>\n",
       "      <td>small</td>\n",
       "      <td>2008</td>\n",
       "      <td>manual</td>\n",
       "      <td>69</td>\n",
       "      <td>fabia</td>\n",
       "      <td>90000</td>\n",
       "      <td>7</td>\n",
       "      <td>gasoline</td>\n",
       "      <td>skoda</td>\n",
       "      <td>no</td>\n",
       "      <td>2016-03-31</td>\n",
       "      <td>60437</td>\n",
       "      <td>2016-04-06 10:17:21</td>\n",
       "      <td>2008-07-01</td>\n",
       "    </tr>\n",
       "  </tbody>\n",
       "</table>\n",
       "</div>"
      ],
      "text/plain": [
       "         date_crawled  price vehicle_type  registration_year gearbox  power  \\\n",
       "0 2016-03-24 11:52:17    480          NaN               1993  manual      0   \n",
       "1 2016-03-24 10:58:45  18300        coupe               2011  manual    190   \n",
       "2 2016-03-14 12:52:21   9800          suv               2004    auto    163   \n",
       "3 2016-03-17 16:54:04   1500        small               2001  manual     75   \n",
       "4 2016-03-31 17:25:20   3600        small               2008  manual     69   \n",
       "\n",
       "   model  kilometer  registration_month fuel_type       brand repaired  \\\n",
       "0   golf     150000                   1    petrol  volkswagen      NaN   \n",
       "1    NaN     125000                   5  gasoline        audi      yes   \n",
       "2  grand     125000                   8  gasoline        jeep      NaN   \n",
       "3   golf     150000                   6    petrol  volkswagen       no   \n",
       "4  fabia      90000                   7  gasoline       skoda       no   \n",
       "\n",
       "  date_created  postal_code           last_seen date_registration  \n",
       "0   2016-03-24        70435 2016-04-07 03:16:57        1993-01-01  \n",
       "1   2016-03-24        66954 2016-04-07 01:46:50        2011-05-01  \n",
       "2   2016-03-14        90480 2016-04-05 12:47:46        2004-08-01  \n",
       "3   2016-03-17        91074 2016-03-17 17:40:17        2001-06-01  \n",
       "4   2016-03-31        60437 2016-04-06 10:17:21        2008-07-01  "
      ]
     },
     "execution_count": 21,
     "metadata": {},
     "output_type": "execute_result"
    }
   ],
   "source": [
    "data.head()"
   ]
  },
  {
   "cell_type": "code",
   "execution_count": 22,
   "metadata": {},
   "outputs": [
    {
     "name": "stdout",
     "output_type": "stream",
     "text": [
      "<class 'pandas.core.frame.DataFrame'>\n",
      "Int64Index: 354194 entries, 0 to 354368\n",
      "Data columns (total 16 columns):\n",
      " #   Column              Non-Null Count   Dtype         \n",
      "---  ------              --------------   -----         \n",
      " 0   date_crawled        354194 non-null  datetime64[ns]\n",
      " 1   price               354194 non-null  int64         \n",
      " 2   vehicle_type        316875 non-null  object        \n",
      " 3   registration_year   354194 non-null  int64         \n",
      " 4   gearbox             334499 non-null  object        \n",
      " 5   power               354194 non-null  int64         \n",
      " 6   model               334564 non-null  object        \n",
      " 7   kilometer           354194 non-null  int64         \n",
      " 8   registration_month  354194 non-null  int64         \n",
      " 9   fuel_type           321427 non-null  object        \n",
      " 10  brand               354194 non-null  object        \n",
      " 11  repaired            283187 non-null  object        \n",
      " 12  date_created        354194 non-null  datetime64[ns]\n",
      " 13  postal_code         354194 non-null  int64         \n",
      " 14  last_seen           354194 non-null  datetime64[ns]\n",
      " 15  date_registration   354194 non-null  datetime64[ns]\n",
      "dtypes: datetime64[ns](4), int64(6), object(6)\n",
      "memory usage: 45.9+ MB\n"
     ]
    }
   ],
   "source": [
    "data.info()"
   ]
  },
  {
   "attachments": {},
   "cell_type": "markdown",
   "metadata": {},
   "source": [
    "Столбец добавлен!"
   ]
  },
  {
   "cell_type": "code",
   "execution_count": 23,
   "metadata": {},
   "outputs": [],
   "source": [
    "# Удалим ошибки\n",
    "data.query('date_registration <= date_created <= date_crawled', inplace=True)"
   ]
  },
  {
   "cell_type": "code",
   "execution_count": 24,
   "metadata": {},
   "outputs": [
    {
     "name": "stdout",
     "output_type": "stream",
     "text": [
      "<class 'pandas.core.frame.DataFrame'>\n",
      "Int64Index: 334539 entries, 0 to 354368\n",
      "Data columns (total 16 columns):\n",
      " #   Column              Non-Null Count   Dtype         \n",
      "---  ------              --------------   -----         \n",
      " 0   date_crawled        334539 non-null  datetime64[ns]\n",
      " 1   price               334539 non-null  int64         \n",
      " 2   vehicle_type        316826 non-null  object        \n",
      " 3   registration_year   334539 non-null  int64         \n",
      " 4   gearbox             317110 non-null  object        \n",
      " 5   power               334539 non-null  int64         \n",
      " 6   model               317580 non-null  object        \n",
      " 7   kilometer           334539 non-null  int64         \n",
      " 8   registration_month  334539 non-null  int64         \n",
      " 9   fuel_type           309396 non-null  object        \n",
      " 10  brand               334539 non-null  object        \n",
      " 11  repaired            271909 non-null  object        \n",
      " 12  date_created        334539 non-null  datetime64[ns]\n",
      " 13  postal_code         334539 non-null  int64         \n",
      " 14  last_seen           334539 non-null  datetime64[ns]\n",
      " 15  date_registration   334539 non-null  datetime64[ns]\n",
      "dtypes: datetime64[ns](4), int64(6), object(6)\n",
      "memory usage: 43.4+ MB\n"
     ]
    }
   ],
   "source": [
    "data.info()"
   ]
  },
  {
   "attachments": {},
   "cell_type": "markdown",
   "metadata": {},
   "source": [
    "Ошибки удалены!"
   ]
  },
  {
   "cell_type": "code",
   "execution_count": 25,
   "metadata": {},
   "outputs": [
    {
     "data": {
      "text/plain": [
       "329497   2016-03-05 14:06:22\n",
       "220583   2016-03-05 14:06:23\n",
       "324763   2016-03-05 14:06:24\n",
       "99885    2016-03-05 14:06:24\n",
       "176823   2016-03-05 14:06:24\n",
       "                 ...        \n",
       "204218   2016-04-07 14:36:53\n",
       "53739    2016-04-07 14:36:54\n",
       "301030   2016-04-07 14:36:55\n",
       "339649   2016-04-07 14:36:56\n",
       "90713    2016-04-07 14:36:58\n",
       "Name: date_crawled, Length: 334539, dtype: datetime64[ns]"
      ]
     },
     "execution_count": 25,
     "metadata": {},
     "output_type": "execute_result"
    }
   ],
   "source": [
    "data['date_crawled'].sort_values()"
   ]
  },
  {
   "attachments": {},
   "cell_type": "markdown",
   "metadata": {},
   "source": [
    "Аномалий нет!"
   ]
  },
  {
   "cell_type": "code",
   "execution_count": 26,
   "metadata": {},
   "outputs": [
    {
     "data": {
      "text/plain": [
       "61207    2014-03-10\n",
       "4001     2015-03-20\n",
       "342275   2015-06-18\n",
       "86601    2015-08-07\n",
       "175103   2015-08-10\n",
       "            ...    \n",
       "261323   2016-04-07\n",
       "230672   2016-04-07\n",
       "28141    2016-04-07\n",
       "313707   2016-04-07\n",
       "111138   2016-04-07\n",
       "Name: date_created, Length: 334539, dtype: datetime64[ns]"
      ]
     },
     "execution_count": 26,
     "metadata": {},
     "output_type": "execute_result"
    }
   ],
   "source": [
    "data['date_created'].sort_values()"
   ]
  },
  {
   "attachments": {},
   "cell_type": "markdown",
   "metadata": {},
   "source": [
    "Аномалий нет!"
   ]
  },
  {
   "cell_type": "code",
   "execution_count": 27,
   "metadata": {},
   "outputs": [
    {
     "data": {
      "image/png": "[encoded data removed]",
      "text/plain": [
       "<Figure size 640x480 with 1 Axes>"
      ]
     },
     "metadata": {},
     "output_type": "display_data"
    }
   ],
   "source": [
    "data['price'].hist(bins=100)\n",
    "plt.xlabel('Цена')\n",
    "plt.ylabel('Количество объявлений')\n",
    "plt.title('Распределение цены')\n",
    "plt.show()"
   ]
  },
  {
   "cell_type": "code",
   "execution_count": 28,
   "metadata": {},
   "outputs": [
    {
     "data": {
      "text/plain": [
       "9746"
      ]
     },
     "execution_count": 28,
     "metadata": {},
     "output_type": "execute_result"
    }
   ],
   "source": [
    "data[data['price'] == 0]['price'].count()"
   ]
  },
  {
   "attachments": {},
   "cell_type": "markdown",
   "metadata": {},
   "source": [
    "Цена вряд ли может быть равна 0,вероятно это ошибка сбора информации. Удалим данные строки."
   ]
  },
  {
   "cell_type": "code",
   "execution_count": 29,
   "metadata": {},
   "outputs": [],
   "source": [
    "data = data.query('price > 0')"
   ]
  },
  {
   "cell_type": "code",
   "execution_count": 30,
   "metadata": {},
   "outputs": [
    {
     "data": {
      "image/png": "[encoded data removed]",
      "text/plain": [
       "<Figure size 640x480 with 1 Axes>"
      ]
     },
     "metadata": {},
     "output_type": "display_data"
    }
   ],
   "source": [
    "plt.barh(data['vehicle_type'].value_counts().index, data['vehicle_type'].value_counts())\n",
    "plt.xlabel('Количество объявлений')\n",
    "plt.ylabel('Тип кузова')\n",
    "plt.title('Распределение различных типов кузова')\n",
    "plt.show()"
   ]
  },
  {
   "attachments": {},
   "cell_type": "markdown",
   "metadata": {},
   "source": [
    "Сделаем предположение, что пропуски в vehicle_type можно найти по **brand, model, power, gearbox, fuel_type**. Посмотрим, автомобили с одинаковыми характеристиками имели только один тип кузова или несколько"
   ]
  },
  {
   "cell_type": "code",
   "execution_count": 31,
   "metadata": {
    "scrolled": true
   },
   "outputs": [
    {
     "data": {
      "text/html": [
       "<div>\n",
       "<style scoped>\n",
       "    .dataframe tbody tr th:only-of-type {\n",
       "        vertical-align: middle;\n",
       "    }\n",
       "\n",
       "    .dataframe tbody tr th {\n",
       "        vertical-align: top;\n",
       "    }\n",
       "\n",
       "    .dataframe thead th {\n",
       "        text-align: right;\n",
       "    }\n",
       "</style>\n",
       "<table border=\"1\" class=\"dataframe\">\n",
       "  <thead>\n",
       "    <tr style=\"text-align: right;\">\n",
       "      <th></th>\n",
       "      <th>brand</th>\n",
       "      <th>model</th>\n",
       "      <th>power</th>\n",
       "      <th>gearbox</th>\n",
       "      <th>fuel_type</th>\n",
       "      <th>vehicle_type</th>\n",
       "    </tr>\n",
       "  </thead>\n",
       "  <tbody>\n",
       "    <tr>\n",
       "      <th>0</th>\n",
       "      <td>alfa_romeo</td>\n",
       "      <td>145</td>\n",
       "      <td>0</td>\n",
       "      <td>manual</td>\n",
       "      <td>petrol</td>\n",
       "      <td>2</td>\n",
       "    </tr>\n",
       "    <tr>\n",
       "      <th>1</th>\n",
       "      <td>alfa_romeo</td>\n",
       "      <td>145</td>\n",
       "      <td>66</td>\n",
       "      <td>manual</td>\n",
       "      <td>petrol</td>\n",
       "      <td>1</td>\n",
       "    </tr>\n",
       "    <tr>\n",
       "      <th>2</th>\n",
       "      <td>alfa_romeo</td>\n",
       "      <td>145</td>\n",
       "      <td>72</td>\n",
       "      <td>manual</td>\n",
       "      <td>petrol</td>\n",
       "      <td>1</td>\n",
       "    </tr>\n",
       "    <tr>\n",
       "      <th>3</th>\n",
       "      <td>alfa_romeo</td>\n",
       "      <td>145</td>\n",
       "      <td>90</td>\n",
       "      <td>manual</td>\n",
       "      <td>petrol</td>\n",
       "      <td>1</td>\n",
       "    </tr>\n",
       "    <tr>\n",
       "      <th>4</th>\n",
       "      <td>alfa_romeo</td>\n",
       "      <td>145</td>\n",
       "      <td>100</td>\n",
       "      <td>manual</td>\n",
       "      <td>petrol</td>\n",
       "      <td>2</td>\n",
       "    </tr>\n",
       "    <tr>\n",
       "      <th>...</th>\n",
       "      <td>...</td>\n",
       "      <td>...</td>\n",
       "      <td>...</td>\n",
       "      <td>...</td>\n",
       "      <td>...</td>\n",
       "      <td>...</td>\n",
       "    </tr>\n",
       "    <tr>\n",
       "      <th>17552</th>\n",
       "      <td>volvo</td>\n",
       "      <td>xc_reihe</td>\n",
       "      <td>267</td>\n",
       "      <td>auto</td>\n",
       "      <td>petrol</td>\n",
       "      <td>1</td>\n",
       "    </tr>\n",
       "    <tr>\n",
       "      <th>17553</th>\n",
       "      <td>volvo</td>\n",
       "      <td>xc_reihe</td>\n",
       "      <td>272</td>\n",
       "      <td>auto</td>\n",
       "      <td>petrol</td>\n",
       "      <td>1</td>\n",
       "    </tr>\n",
       "    <tr>\n",
       "      <th>17554</th>\n",
       "      <td>volvo</td>\n",
       "      <td>xc_reihe</td>\n",
       "      <td>286</td>\n",
       "      <td>auto</td>\n",
       "      <td>petrol</td>\n",
       "      <td>1</td>\n",
       "    </tr>\n",
       "    <tr>\n",
       "      <th>17555</th>\n",
       "      <td>volvo</td>\n",
       "      <td>xc_reihe</td>\n",
       "      <td>315</td>\n",
       "      <td>auto</td>\n",
       "      <td>lpg</td>\n",
       "      <td>1</td>\n",
       "    </tr>\n",
       "    <tr>\n",
       "      <th>17556</th>\n",
       "      <td>volvo</td>\n",
       "      <td>xc_reihe</td>\n",
       "      <td>315</td>\n",
       "      <td>auto</td>\n",
       "      <td>petrol</td>\n",
       "      <td>1</td>\n",
       "    </tr>\n",
       "  </tbody>\n",
       "</table>\n",
       "<p>17557 rows × 6 columns</p>\n",
       "</div>"
      ],
      "text/plain": [
       "            brand     model  power gearbox fuel_type  vehicle_type\n",
       "0      alfa_romeo       145      0  manual    petrol             2\n",
       "1      alfa_romeo       145     66  manual    petrol             1\n",
       "2      alfa_romeo       145     72  manual    petrol             1\n",
       "3      alfa_romeo       145     90  manual    petrol             1\n",
       "4      alfa_romeo       145    100  manual    petrol             2\n",
       "...           ...       ...    ...     ...       ...           ...\n",
       "17552       volvo  xc_reihe    267    auto    petrol             1\n",
       "17553       volvo  xc_reihe    272    auto    petrol             1\n",
       "17554       volvo  xc_reihe    286    auto    petrol             1\n",
       "17555       volvo  xc_reihe    315    auto       lpg             1\n",
       "17556       volvo  xc_reihe    315    auto    petrol             1\n",
       "\n",
       "[17557 rows x 6 columns]"
      ]
     },
     "execution_count": 31,
     "metadata": {},
     "output_type": "execute_result"
    }
   ],
   "source": [
    "data.loc[:, ['brand', 'model','power', 'gearbox', 'fuel_type', 'vehicle_type']]. \\\n",
    "groupby(['brand', 'model', 'power','gearbox', 'fuel_type'], as_index=False).agg('nunique')\n"
   ]
  },
  {
   "attachments": {},
   "cell_type": "markdown",
   "metadata": {},
   "source": [
    "Постараемся заполнить vehicle_type в тех случаях, где был только один тип кузова. На примере данного параметра создадим функцию для заполнения пропусков в категориальных признаках. "
   ]
  },
  {
   "cell_type": "code",
   "execution_count": 32,
   "metadata": {},
   "outputs": [],
   "source": [
    "def fill_col(data, features, target): \n",
    "    # найдем модели авто, где только 1 тип кузова\n",
    "    group_table1 = data.loc[:, features + [target]].groupby(features, as_index=False).agg('nunique').query(target + ' == 1')\n",
    "    # найдем все модели авто  со всеми возможными типами кузова\n",
    "    group_table = data.loc[:, features + [target]].groupby(features + [target], as_index=False).agg('nunique')\n",
    "    # смерджим таблички \n",
    "    merge_table = group_table1.loc[:, features].merge(group_table, how='left', left_on=features, right_on=features)\n",
    "    # создадим столбец в датасете, по которому мы будем заполнять пропуски в vehicle_type\n",
    "    data['col'] = data[features].merge(merge_table, how='left', on=features)[target]\n",
    "    # заполним пропуски, удалим созданный столбец\n",
    "    data[target].fillna(data['col'], inplace=True)\n",
    "    # оставшиеся пропуски заполним заглушкой\n",
    "    data[target].fillna('undef', inplace=True)\n",
    "    # удалим созданный столбец\n",
    "    data.drop('col', axis=1, inplace=True)\n",
    "    return data"
   ]
  },
  {
   "cell_type": "code",
   "execution_count": 33,
   "metadata": {},
   "outputs": [],
   "source": [
    "data = fill_col(data, ['brand', 'model','power', 'gearbox', 'fuel_type'], 'vehicle_type')"
   ]
  },
  {
   "cell_type": "code",
   "execution_count": 34,
   "metadata": {},
   "outputs": [
    {
     "name": "stdout",
     "output_type": "stream",
     "text": [
      "<class 'pandas.core.frame.DataFrame'>\n",
      "Int64Index: 324793 entries, 0 to 354368\n",
      "Data columns (total 16 columns):\n",
      " #   Column              Non-Null Count   Dtype         \n",
      "---  ------              --------------   -----         \n",
      " 0   date_crawled        324793 non-null  datetime64[ns]\n",
      " 1   price               324793 non-null  int64         \n",
      " 2   vehicle_type        324793 non-null  object        \n",
      " 3   registration_year   324793 non-null  int64         \n",
      " 4   gearbox             309647 non-null  object        \n",
      " 5   power               324793 non-null  int64         \n",
      " 6   model               309774 non-null  object        \n",
      " 7   kilometer           324793 non-null  int64         \n",
      " 8   registration_month  324793 non-null  int64         \n",
      " 9   fuel_type           302603 non-null  object        \n",
      " 10  brand               324793 non-null  object        \n",
      " 11  repaired            266966 non-null  object        \n",
      " 12  date_created        324793 non-null  datetime64[ns]\n",
      " 13  postal_code         324793 non-null  int64         \n",
      " 14  last_seen           324793 non-null  datetime64[ns]\n",
      " 15  date_registration   324793 non-null  datetime64[ns]\n",
      "dtypes: datetime64[ns](4), int64(6), object(6)\n",
      "memory usage: 42.1+ MB\n"
     ]
    }
   ],
   "source": [
    "data.info()"
   ]
  },
  {
   "cell_type": "code",
   "execution_count": 35,
   "metadata": {},
   "outputs": [
    {
     "data": {
      "image/png": "[encoded data removed]",
      "text/plain": [
       "<Figure size 640x480 with 1 Axes>"
      ]
     },
     "metadata": {},
     "output_type": "display_data"
    }
   ],
   "source": [
    "plt.barh(data['gearbox'].value_counts().index, data['gearbox'].value_counts())\n",
    "plt.xlabel('Количество объявлений')\n",
    "plt.ylabel('Тип коробки передач')\n",
    "plt.title('Распределение различных типов коробки передач')\n",
    "plt.show()"
   ]
  },
  {
   "attachments": {},
   "cell_type": "markdown",
   "metadata": {},
   "source": [
    "Заполним пропуски!"
   ]
  },
  {
   "cell_type": "code",
   "execution_count": 36,
   "metadata": {},
   "outputs": [],
   "source": [
    "data = fill_col(data, ['brand', 'model','power', 'vehicle_type', 'fuel_type'], 'gearbox')"
   ]
  },
  {
   "cell_type": "code",
   "execution_count": 37,
   "metadata": {},
   "outputs": [
    {
     "name": "stdout",
     "output_type": "stream",
     "text": [
      "<class 'pandas.core.frame.DataFrame'>\n",
      "Int64Index: 324793 entries, 0 to 354368\n",
      "Data columns (total 16 columns):\n",
      " #   Column              Non-Null Count   Dtype         \n",
      "---  ------              --------------   -----         \n",
      " 0   date_crawled        324793 non-null  datetime64[ns]\n",
      " 1   price               324793 non-null  int64         \n",
      " 2   vehicle_type        324793 non-null  object        \n",
      " 3   registration_year   324793 non-null  int64         \n",
      " 4   gearbox             324793 non-null  object        \n",
      " 5   power               324793 non-null  int64         \n",
      " 6   model               309774 non-null  object        \n",
      " 7   kilometer           324793 non-null  int64         \n",
      " 8   registration_month  324793 non-null  int64         \n",
      " 9   fuel_type           302603 non-null  object        \n",
      " 10  brand               324793 non-null  object        \n",
      " 11  repaired            266966 non-null  object        \n",
      " 12  date_created        324793 non-null  datetime64[ns]\n",
      " 13  postal_code         324793 non-null  int64         \n",
      " 14  last_seen           324793 non-null  datetime64[ns]\n",
      " 15  date_registration   324793 non-null  datetime64[ns]\n",
      "dtypes: datetime64[ns](4), int64(6), object(6)\n",
      "memory usage: 42.1+ MB\n"
     ]
    }
   ],
   "source": [
    "data.info()"
   ]
  },
  {
   "cell_type": "code",
   "execution_count": 38,
   "metadata": {},
   "outputs": [
    {
     "data": {
      "text/plain": [
       "array(['golf', nan, 'grand', 'fabia', '3er', '2_reihe', 'c_max',\n",
       "       '3_reihe', 'passat', 'navara', 'ka', 'polo', 'twingo', 'a_klasse',\n",
       "       'scirocco', '5er', 'arosa', 'other', 'civic', 'transporter',\n",
       "       'punto', 'e_klasse', 'kadett', 'kangoo', 'one', 'fortwo', 'clio',\n",
       "       '1er', 'b_klasse', 'signum', 'astra', 'a8', 'jetta', 'fiesta',\n",
       "       'c_klasse', 'micra', 'vito', 'sprinter', '156', 'escort',\n",
       "       'forester', 'xc_reihe', 'scenic', 'a4', 'a1', 'insignia', 'combo',\n",
       "       'focus', 'tt', 'corsa', 'a6', 'jazz', 'omega', 'slk', '7er', '80',\n",
       "       '147', '100', 'z_reihe', 'sorento', 'v40', 'ibiza', 'mustang',\n",
       "       'eos', 'touran', 'getz', 'a3', 'megane', 'lupo', 'r19', 'caddy',\n",
       "       'mondeo', 'cordoba', 'colt', 'impreza', 'vectra', 'berlingo',\n",
       "       'tiguan', 'sharan', '6_reihe', 'c4', 'panda', 'up', 'i_reihe',\n",
       "       'ceed', '5_reihe', 'yeti', 'octavia', 'zafira', 'mii', 'rx_reihe',\n",
       "       '6er', 'modus', 'fox', 'matiz', 'beetle', 'c1', 'rio', 'touareg',\n",
       "       'logan', 'spider', 'cuore', 's_max', 'a2', 'galaxy', 'c3', 'viano',\n",
       "       's_klasse', '1_reihe', 'avensis', 'roomster', 'sl', 'kaefer',\n",
       "       'santa', 'cooper', 'leon', '4_reihe', 'a5', 'sportage', 'laguna',\n",
       "       'ptcruiser', 'clk', 'primera', 'espace', 'x_reihe', 'exeo', '159',\n",
       "       'transit', 'juke', 'qashqai', 'carisma', 'accord', 'corolla',\n",
       "       'lanos', 'phaeton', 'verso', 'swift', 'rav', 'picanto', 'boxster',\n",
       "       'kalos', 'superb', 'stilo', 'alhambra', 'mx_reihe', 'roadster',\n",
       "       'ypsilon', 'cayenne', 'galant', 'justy', '90', 'sirion',\n",
       "       'crossfire', 'agila', 'duster', 'v50', '500', 'meriva', 'c_reihe',\n",
       "       'v_klasse', 'm_klasse', 'yaris', 'c5', 'aygo', 'almera',\n",
       "       'seicento', 'cc', 'fusion', '911', 'bora', 'forfour', 'cl',\n",
       "       'tigra', '300c', 'cr_reihe', 'spark', 'v70', 'kuga', 'x_type',\n",
       "       'ducato', 's_type', 'x_trail', 'toledo', 'altea', 'voyager',\n",
       "       'calibra', 'carnival', 'bravo', 'antara', 'tucson', 'citigo',\n",
       "       'jimny', 'wrangler', 'lybra', 'q7', 'lancer', 'captiva',\n",
       "       'discovery', 'freelander', 'sandero', 'note', '900', 'cherokee',\n",
       "       'clubman', 'samara', 'defender', 'cx_reihe', 'legacy', 'pajero',\n",
       "       'auris', 'c2', 'niva', 's60', 'm_reihe', 'nubira', 'vivaro',\n",
       "       'g_klasse', 'lodgy', '850', 'range_rover', '601', 'q3', 'serie_2',\n",
       "       'glk', 'charade', 'croma', 'outlander', 'doblo', 'musa', 'move',\n",
       "       '9000', 'v60', '145', '200', 'b_max', 'range_rover_sport', 'aveo',\n",
       "       'terios', 'rangerover', 'q5', 'range_rover_evoque', 'materia',\n",
       "       'delta', 'gl', 'kalina', 'elefantino', 'i3', 'amarok', 'kappa',\n",
       "       'serie_3', 'serie_1'], dtype=object)"
      ]
     },
     "execution_count": 38,
     "metadata": {},
     "output_type": "execute_result"
    }
   ],
   "source": [
    "data['model'].unique()"
   ]
  },
  {
   "attachments": {},
   "cell_type": "markdown",
   "metadata": {},
   "source": [
    "Неявных дубликатов нет, заполним пропуски!"
   ]
  },
  {
   "cell_type": "code",
   "execution_count": 39,
   "metadata": {},
   "outputs": [],
   "source": [
    "data = fill_col(data, ['brand', 'power', 'vehicle_type', 'fuel_type', 'gearbox'], 'model')"
   ]
  },
  {
   "cell_type": "code",
   "execution_count": 40,
   "metadata": {},
   "outputs": [
    {
     "name": "stdout",
     "output_type": "stream",
     "text": [
      "<class 'pandas.core.frame.DataFrame'>\n",
      "Int64Index: 324793 entries, 0 to 354368\n",
      "Data columns (total 16 columns):\n",
      " #   Column              Non-Null Count   Dtype         \n",
      "---  ------              --------------   -----         \n",
      " 0   date_crawled        324793 non-null  datetime64[ns]\n",
      " 1   price               324793 non-null  int64         \n",
      " 2   vehicle_type        324793 non-null  object        \n",
      " 3   registration_year   324793 non-null  int64         \n",
      " 4   gearbox             324793 non-null  object        \n",
      " 5   power               324793 non-null  int64         \n",
      " 6   model               324793 non-null  object        \n",
      " 7   kilometer           324793 non-null  int64         \n",
      " 8   registration_month  324793 non-null  int64         \n",
      " 9   fuel_type           302603 non-null  object        \n",
      " 10  brand               324793 non-null  object        \n",
      " 11  repaired            266966 non-null  object        \n",
      " 12  date_created        324793 non-null  datetime64[ns]\n",
      " 13  postal_code         324793 non-null  int64         \n",
      " 14  last_seen           324793 non-null  datetime64[ns]\n",
      " 15  date_registration   324793 non-null  datetime64[ns]\n",
      "dtypes: datetime64[ns](4), int64(6), object(6)\n",
      "memory usage: 42.1+ MB\n"
     ]
    }
   ],
   "source": [
    "data.info()"
   ]
  },
  {
   "cell_type": "code",
   "execution_count": 41,
   "metadata": {},
   "outputs": [
    {
     "data": {
      "text/plain": [
       "0       31665\n",
       "75      21662\n",
       "60      14452\n",
       "150     13622\n",
       "140     12213\n",
       "        ...  \n",
       "2789        1\n",
       "519         1\n",
       "2461        1\n",
       "6006        1\n",
       "1241        1\n",
       "Name: power, Length: 680, dtype: int64"
      ]
     },
     "execution_count": 41,
     "metadata": {},
     "output_type": "execute_result"
    }
   ],
   "source": [
    "data['power'].value_counts()"
   ]
  },
  {
   "attachments": {},
   "cell_type": "markdown",
   "metadata": {},
   "source": [
    "Нулевых значений в показателе мощности быть не может, поэтому заменим нули медианами по различным типам авто. "
   ]
  },
  {
   "cell_type": "code",
   "execution_count": 42,
   "metadata": {},
   "outputs": [],
   "source": [
    "def fill_col_median(data, features, target):    \n",
    "    group_table = data.loc[:, features + [target]].groupby(features, as_index=False).median()\n",
    "    data['col'] = data[features].merge(group_table, how='left', on=features)[target]\n",
    "    data['power'].replace({0:np.nan}, inplace=True) \n",
    "    data[target].fillna(data['col'], inplace=True)\n",
    "    data.dropna(subset=target, inplace=True)\n",
    "    data.drop('col', axis=1, inplace=True)\n",
    "    return data"
   ]
  },
  {
   "cell_type": "code",
   "execution_count": 43,
   "metadata": {},
   "outputs": [],
   "source": [
    "data = fill_col_median(data, ['brand', 'model', 'vehicle_type', 'fuel_type', 'gearbox'], 'power')"
   ]
  },
  {
   "cell_type": "code",
   "execution_count": 44,
   "metadata": {},
   "outputs": [
    {
     "name": "stdout",
     "output_type": "stream",
     "text": [
      "<class 'pandas.core.frame.DataFrame'>\n",
      "Int64Index: 320120 entries, 0 to 354368\n",
      "Data columns (total 16 columns):\n",
      " #   Column              Non-Null Count   Dtype         \n",
      "---  ------              --------------   -----         \n",
      " 0   date_crawled        320120 non-null  datetime64[ns]\n",
      " 1   price               320120 non-null  int64         \n",
      " 2   vehicle_type        320120 non-null  object        \n",
      " 3   registration_year   320120 non-null  int64         \n",
      " 4   gearbox             320120 non-null  object        \n",
      " 5   power               320120 non-null  float64       \n",
      " 6   model               320120 non-null  object        \n",
      " 7   kilometer           320120 non-null  int64         \n",
      " 8   registration_month  320120 non-null  int64         \n",
      " 9   fuel_type           299121 non-null  object        \n",
      " 10  brand               320120 non-null  object        \n",
      " 11  repaired            264653 non-null  object        \n",
      " 12  date_created        320120 non-null  datetime64[ns]\n",
      " 13  postal_code         320120 non-null  int64         \n",
      " 14  last_seen           320120 non-null  datetime64[ns]\n",
      " 15  date_registration   320120 non-null  datetime64[ns]\n",
      "dtypes: datetime64[ns](4), float64(1), int64(5), object(6)\n",
      "memory usage: 41.5+ MB\n"
     ]
    }
   ],
   "source": [
    "data.info()"
   ]
  },
  {
   "attachments": {},
   "cell_type": "markdown",
   "metadata": {},
   "source": [
    "Нули заполнить удалось!"
   ]
  },
  {
   "cell_type": "code",
   "execution_count": 45,
   "metadata": {},
   "outputs": [
    {
     "data": {
      "text/plain": [
       "array([150000, 125000,  90000,  30000,  70000,   5000, 100000,  60000,\n",
       "        20000,  80000,  50000,  40000,  10000], dtype=int64)"
      ]
     },
     "execution_count": 45,
     "metadata": {},
     "output_type": "execute_result"
    }
   ],
   "source": [
    "data['kilometer'].unique()"
   ]
  },
  {
   "cell_type": "code",
   "execution_count": 46,
   "metadata": {
    "scrolled": true
   },
   "outputs": [
    {
     "data": {
      "image/png": "[encoded data removed]",
      "text/plain": [
       "<Figure size 640x480 with 1 Axes>"
      ]
     },
     "metadata": {},
     "output_type": "display_data"
    }
   ],
   "source": [
    "data['kilometer'].hist(bins=13)\n",
    "plt.xlabel('Пробег в километрах')\n",
    "plt.ylabel('Количество объявлений')\n",
    "plt.title('Распределение пробега автомобилей')\n",
    "plt.show()"
   ]
  },
  {
   "attachments": {},
   "cell_type": "markdown",
   "metadata": {},
   "source": [
    "Выбросов и пропусков нет, данные имеют адекватные значения. "
   ]
  },
  {
   "cell_type": "code",
   "execution_count": 47,
   "metadata": {},
   "outputs": [
    {
     "data": {
      "text/plain": [
       "array(['petrol', 'gasoline', nan, 'lpg', 'other', 'hybrid', 'cng',\n",
       "       'electric'], dtype=object)"
      ]
     },
     "execution_count": 47,
     "metadata": {},
     "output_type": "execute_result"
    }
   ],
   "source": [
    "data['fuel_type'].unique()"
   ]
  },
  {
   "attachments": {},
   "cell_type": "markdown",
   "metadata": {},
   "source": [
    "Заполним пропуски!"
   ]
  },
  {
   "cell_type": "code",
   "execution_count": 48,
   "metadata": {},
   "outputs": [],
   "source": [
    "data = fill_col(data, ['brand', 'model', 'power', 'vehicle_type', 'gearbox'], 'fuel_type')"
   ]
  },
  {
   "cell_type": "code",
   "execution_count": 49,
   "metadata": {},
   "outputs": [
    {
     "name": "stdout",
     "output_type": "stream",
     "text": [
      "<class 'pandas.core.frame.DataFrame'>\n",
      "Int64Index: 320120 entries, 0 to 354368\n",
      "Data columns (total 16 columns):\n",
      " #   Column              Non-Null Count   Dtype         \n",
      "---  ------              --------------   -----         \n",
      " 0   date_crawled        320120 non-null  datetime64[ns]\n",
      " 1   price               320120 non-null  int64         \n",
      " 2   vehicle_type        320120 non-null  object        \n",
      " 3   registration_year   320120 non-null  int64         \n",
      " 4   gearbox             320120 non-null  object        \n",
      " 5   power               320120 non-null  float64       \n",
      " 6   model               320120 non-null  object        \n",
      " 7   kilometer           320120 non-null  int64         \n",
      " 8   registration_month  320120 non-null  int64         \n",
      " 9   fuel_type           320120 non-null  object        \n",
      " 10  brand               320120 non-null  object        \n",
      " 11  repaired            264653 non-null  object        \n",
      " 12  date_created        320120 non-null  datetime64[ns]\n",
      " 13  postal_code         320120 non-null  int64         \n",
      " 14  last_seen           320120 non-null  datetime64[ns]\n",
      " 15  date_registration   320120 non-null  datetime64[ns]\n",
      "dtypes: datetime64[ns](4), float64(1), int64(5), object(6)\n",
      "memory usage: 41.5+ MB\n"
     ]
    }
   ],
   "source": [
    "data.info()"
   ]
  },
  {
   "cell_type": "code",
   "execution_count": 50,
   "metadata": {},
   "outputs": [
    {
     "data": {
      "text/plain": [
       "array(['volkswagen', 'audi', 'jeep', 'skoda', 'bmw', 'peugeot', 'ford',\n",
       "       'mazda', 'nissan', 'renault', 'mercedes_benz', 'seat', 'honda',\n",
       "       'fiat', 'opel', 'mini', 'smart', 'hyundai', 'sonstige_autos',\n",
       "       'alfa_romeo', 'subaru', 'volvo', 'mitsubishi', 'kia', 'suzuki',\n",
       "       'lancia', 'citroen', 'toyota', 'chevrolet', 'dacia', 'daihatsu',\n",
       "       'trabant', 'chrysler', 'jaguar', 'daewoo', 'porsche', 'rover',\n",
       "       'saab', 'land_rover', 'lada'], dtype=object)"
      ]
     },
     "execution_count": 50,
     "metadata": {},
     "output_type": "execute_result"
    }
   ],
   "source": [
    "data['brand'].unique()"
   ]
  },
  {
   "attachments": {},
   "cell_type": "markdown",
   "metadata": {},
   "source": [
    "Неявных дубликатов нет, пропусков нет."
   ]
  },
  {
   "cell_type": "code",
   "execution_count": 51,
   "metadata": {},
   "outputs": [
    {
     "data": {
      "text/plain": [
       "array([nan, 'yes', 'no'], dtype=object)"
      ]
     },
     "execution_count": 51,
     "metadata": {},
     "output_type": "execute_result"
    }
   ],
   "source": [
    "data['repaired'].unique()"
   ]
  },
  {
   "cell_type": "code",
   "execution_count": 52,
   "metadata": {},
   "outputs": [],
   "source": [
    "# Заменим пропуски на 'undef'\n",
    "data['repaired'].fillna('undef', inplace=True)"
   ]
  },
  {
   "cell_type": "code",
   "execution_count": 53,
   "metadata": {},
   "outputs": [
    {
     "name": "stdout",
     "output_type": "stream",
     "text": [
      "<class 'pandas.core.frame.DataFrame'>\n",
      "Int64Index: 320120 entries, 0 to 354368\n",
      "Data columns (total 16 columns):\n",
      " #   Column              Non-Null Count   Dtype         \n",
      "---  ------              --------------   -----         \n",
      " 0   date_crawled        320120 non-null  datetime64[ns]\n",
      " 1   price               320120 non-null  int64         \n",
      " 2   vehicle_type        320120 non-null  object        \n",
      " 3   registration_year   320120 non-null  int64         \n",
      " 4   gearbox             320120 non-null  object        \n",
      " 5   power               320120 non-null  float64       \n",
      " 6   model               320120 non-null  object        \n",
      " 7   kilometer           320120 non-null  int64         \n",
      " 8   registration_month  320120 non-null  int64         \n",
      " 9   fuel_type           320120 non-null  object        \n",
      " 10  brand               320120 non-null  object        \n",
      " 11  repaired            320120 non-null  object        \n",
      " 12  date_created        320120 non-null  datetime64[ns]\n",
      " 13  postal_code         320120 non-null  int64         \n",
      " 14  last_seen           320120 non-null  datetime64[ns]\n",
      " 15  date_registration   320120 non-null  datetime64[ns]\n",
      "dtypes: datetime64[ns](4), float64(1), int64(5), object(6)\n",
      "memory usage: 41.5+ MB\n"
     ]
    }
   ],
   "source": [
    "data.info()"
   ]
  },
  {
   "cell_type": "code",
   "execution_count": 54,
   "metadata": {},
   "outputs": [
    {
     "data": {
      "text/plain": [
       "array([ 1067,  1068,  1069, ..., 99994, 99996, 99998], dtype=int64)"
      ]
     },
     "execution_count": 54,
     "metadata": {},
     "output_type": "execute_result"
    }
   ],
   "source": [
    "data['postal_code'].sort_values().unique()"
   ]
  },
  {
   "attachments": {},
   "cell_type": "markdown",
   "metadata": {},
   "source": [
    "Значение почтового индекса не совсем стандартное, выяснить у заказчика - ошибка это или нет. Пока оставляем!"
   ]
  },
  {
   "cell_type": "code",
   "execution_count": 55,
   "metadata": {},
   "outputs": [
    {
     "data": {
      "text/plain": [
       "array(['2016-03-05T14:15:08.000000000', '2016-03-05T14:15:16.000000000',\n",
       "       '2016-03-05T14:15:39.000000000', ...,\n",
       "       '2016-04-07T14:58:49.000000000', '2016-04-07T14:58:50.000000000',\n",
       "       '2016-04-07T14:58:51.000000000'], dtype='datetime64[ns]')"
      ]
     },
     "execution_count": 55,
     "metadata": {},
     "output_type": "execute_result"
    }
   ],
   "source": [
    "data['last_seen'].sort_values().unique()"
   ]
  },
  {
   "cell_type": "code",
   "execution_count": 56,
   "metadata": {},
   "outputs": [],
   "source": [
    "# Проверим и удалим при наличии случаи, когда последняя активность пользователя была раньше даты создания анкеты\n",
    "data.query('last_seen >= date_created', inplace=True)"
   ]
  },
  {
   "cell_type": "code",
   "execution_count": 57,
   "metadata": {},
   "outputs": [
    {
     "name": "stdout",
     "output_type": "stream",
     "text": [
      "<class 'pandas.core.frame.DataFrame'>\n",
      "Int64Index: 320120 entries, 0 to 354368\n",
      "Data columns (total 16 columns):\n",
      " #   Column              Non-Null Count   Dtype         \n",
      "---  ------              --------------   -----         \n",
      " 0   date_crawled        320120 non-null  datetime64[ns]\n",
      " 1   price               320120 non-null  int64         \n",
      " 2   vehicle_type        320120 non-null  object        \n",
      " 3   registration_year   320120 non-null  int64         \n",
      " 4   gearbox             320120 non-null  object        \n",
      " 5   power               320120 non-null  float64       \n",
      " 6   model               320120 non-null  object        \n",
      " 7   kilometer           320120 non-null  int64         \n",
      " 8   registration_month  320120 non-null  int64         \n",
      " 9   fuel_type           320120 non-null  object        \n",
      " 10  brand               320120 non-null  object        \n",
      " 11  repaired            320120 non-null  object        \n",
      " 12  date_created        320120 non-null  datetime64[ns]\n",
      " 13  postal_code         320120 non-null  int64         \n",
      " 14  last_seen           320120 non-null  datetime64[ns]\n",
      " 15  date_registration   320120 non-null  datetime64[ns]\n",
      "dtypes: datetime64[ns](4), float64(1), int64(5), object(6)\n",
      "memory usage: 41.5+ MB\n"
     ]
    }
   ],
   "source": [
    "data.info()"
   ]
  },
  {
   "attachments": {},
   "cell_type": "markdown",
   "metadata": {},
   "source": [
    "### Подготовка данных к загрузке в модели"
   ]
  },
  {
   "attachments": {},
   "cell_type": "markdown",
   "metadata": {},
   "source": [
    "- выделим target и features\n",
    "- необходимо закодировать категориальные переменные, так как перед нами стоит задача регрессии. Применим OneHotEncoder\n",
    "- выделим обучающую и тестовую выборки. Валидационную не будем выделять, потому что будем использовать кросс-валидацию (RandomizedSearchCV)"
   ]
  },
  {
   "cell_type": "code",
   "execution_count": 58,
   "metadata": {},
   "outputs": [],
   "source": [
    "y = data['price']\n",
    "X = data.drop(data.select_dtypes('datetime64[ns]').columns.to_list() + ['price', 'model'], axis=1)\n",
    "# пришлось удалить важный признак model, потому что возникала ошибка нехватки памяти!!!\n",
    "\n",
    "obj_columns = X.select_dtypes('object').columns\n",
    "\n",
    "ohe = OneHotEncoder(sparse=False, drop='first')\n",
    "X_ohe = ohe.fit_transform(X[obj_columns])\n",
    "X[ohe.get_feature_names()] = pd.DataFrame(X_ohe, columns=ohe.get_feature_names())\n",
    "X.drop(obj_columns, axis=1, inplace=True)\n",
    "X.fillna(0, inplace=True) #чтобы не выдавал ошибок для моделей дерево решений и случайный лес\n",
    "\n",
    "X_train, X_test, y_train, y_test = train_test_split(X, y, test_size=0.25, random_state=RANDOM)"
   ]
  },
  {
   "attachments": {},
   "cell_type": "markdown",
   "metadata": {},
   "source": [
    "## Обучение моделей"
   ]
  },
  {
   "attachments": {},
   "cell_type": "markdown",
   "metadata": {},
   "source": [
    "### LinearRegression model"
   ]
  },
  {
   "cell_type": "code",
   "execution_count": 59,
   "metadata": {},
   "outputs": [],
   "source": [
    "def best_model_lr(X_train, y_train):\n",
    "    X_train, X_valid, y_train, y_valid = train_test_split(X_train, y_train, test_size=0.2)\n",
    "    model = LinearRegression()\n",
    "    model.fit(X_train, y_train)\n",
    "    prediction = model.predict(X_valid)\n",
    "    model_list.append(model.__class__.__name__)\n",
    "    rmse_score_list.append(mean_squared_error(y_valid, prediction, squared=False))\n",
    "    best_params.append(model.get_params)\n",
    "    print('Значение RMSE = ', mean_squared_error(y_valid, prediction, squared=False))\n",
    "    return model "
   ]
  },
  {
   "cell_type": "code",
   "execution_count": 60,
   "metadata": {
    "scrolled": true
   },
   "outputs": [
    {
     "name": "stdout",
     "output_type": "stream",
     "text": [
      "Значение RMSE =  3779.58468305305\n",
      "CPU times: total: 2.92 s\n",
      "Wall time: 1.63 s\n"
     ]
    }
   ],
   "source": [
    "%%time\n",
    "lr_model = best_model_lr(X_train, y_train)"
   ]
  },
  {
   "cell_type": "code",
   "execution_count": 61,
   "metadata": {},
   "outputs": [
    {
     "name": "stdout",
     "output_type": "stream",
     "text": [
      "CPU times: total: 438 ms\n",
      "Wall time: 109 ms\n"
     ]
    },
    {
     "data": {
      "text/plain": [
       "array([3941.04952375, 2926.91578622, 4888.01768922, ..., 6777.43364984,\n",
       "       2726.8233869 , 6571.35602897])"
      ]
     },
     "execution_count": 61,
     "metadata": {},
     "output_type": "execute_result"
    }
   ],
   "source": [
    "%%time\n",
    "lr_model.predict(X_train)"
   ]
  },
  {
   "attachments": {},
   "cell_type": "markdown",
   "metadata": {},
   "source": [
    "### DecisionTreeRegressor model"
   ]
  },
  {
   "cell_type": "code",
   "execution_count": 62,
   "metadata": {},
   "outputs": [],
   "source": [
    "def best_model_dtr(X_train, y_train):\n",
    "    model = DecisionTreeRegressor(random_state=RANDOM)\n",
    "    params = {'max_depth':range(1,10), 'min_samples_split':range(2,10), 'min_samples_leaf':range(1,10)}\n",
    "    grid_model = RandomizedSearchCV(model, \n",
    "                                    params, \n",
    "                                    cv=5, \n",
    "                                    scoring='neg_root_mean_squared_error', \n",
    "                                    n_jobs=-1, \n",
    "                                    verbose=1, \n",
    "                                    random_state=RANDOM)\n",
    "    grid_model.fit(X_train, y_train)\n",
    "    model_list.append(model.__class__.__name__)\n",
    "    rmse_score_list.append(abs(grid_model.best_score_))\n",
    "    best_params.append(grid_model.best_params_)\n",
    "    print('Значение RMSE = ', abs(grid_model.best_score_))\n",
    "    print('Лучшие параметры модели:', grid_model.best_params_)\n",
    "    return grid_model"
   ]
  },
  {
   "cell_type": "code",
   "execution_count": 63,
   "metadata": {},
   "outputs": [
    {
     "name": "stdout",
     "output_type": "stream",
     "text": [
      "Fitting 5 folds for each of 10 candidates, totalling 50 fits\n",
      "Значение RMSE =  2259.147745481693\n",
      "Лучшие параметры модели: {'min_samples_split': 3, 'min_samples_leaf': 7, 'max_depth': 9}\n",
      "CPU times: total: 4.11 s\n",
      "Wall time: 33.6 s\n"
     ]
    }
   ],
   "source": [
    "%%time\n",
    "dtr_model = best_model_dtr(X_train, y_train)"
   ]
  },
  {
   "cell_type": "code",
   "execution_count": 64,
   "metadata": {},
   "outputs": [
    {
     "name": "stdout",
     "output_type": "stream",
     "text": [
      "CPU times: total: 188 ms\n",
      "Wall time: 172 ms\n"
     ]
    },
    {
     "data": {
      "text/plain": [
       "array([3321.02914573, 1167.70382548, 5149.73214286, ..., 9484.2962963 ,\n",
       "       1521.87579178, 4136.24924925])"
      ]
     },
     "execution_count": 64,
     "metadata": {},
     "output_type": "execute_result"
    }
   ],
   "source": [
    "%%time\n",
    "dtr_model.predict(X_train)"
   ]
  },
  {
   "attachments": {},
   "cell_type": "markdown",
   "metadata": {},
   "source": [
    "### RandomForestRegressor model"
   ]
  },
  {
   "cell_type": "code",
   "execution_count": 65,
   "metadata": {},
   "outputs": [],
   "source": [
    "# Для начала найдем лучшие параметры модели на небольшом количестве деревьев \n",
    "#с целью экономии времени обучения, а в целом можно и нужно количество деревьев сразу смотреть.\n",
    "# Затем подберем такой гиперпараметр как количество деревьев\n",
    "def best_model_rfc(X_train, y_train):\n",
    "    model = RandomForestRegressor(random_state=123, n_estimators=10)\n",
    "    params = {'max_depth':range(1,10), 'min_samples_split':range(2,5), 'min_samples_leaf':range(1,5)}\n",
    "    grid_model = RandomizedSearchCV(model, \n",
    "                                    params, \n",
    "                                    cv=5, \n",
    "                                    scoring='neg_root_mean_squared_error', \n",
    "                                    n_jobs=-1, \n",
    "                                    verbose=1, \n",
    "                                    random_state=RANDOM)\n",
    "    grid_model.fit(X_train, y_train)\n",
    "    model = RandomForestRegressor(random_state=123)\n",
    "    params = {'n_estimators':range(20,200,30), \n",
    "              'max_depth':[grid_model.best_params_['max_depth']],\n",
    "              'min_samples_split':[grid_model.best_params_['min_samples_split']],\n",
    "              'min_samples_leaf':[grid_model.best_params_['min_samples_leaf']]}\n",
    "    grid_model = RandomizedSearchCV(model, \n",
    "                                    params, \n",
    "                                    cv=5, \n",
    "                                    scoring='neg_root_mean_squared_error', \n",
    "                                    n_jobs=-1, \n",
    "                                    verbose=1, \n",
    "                                    random_state=RANDOM)\n",
    "    grid_model.fit(X_train, y_train)\n",
    "    model_list.append(model.__class__.__name__)\n",
    "    rmse_score_list.append(abs(grid_model.best_score_))\n",
    "    best_params.append(grid_model.best_params_)\n",
    "    print('Значение RMSE = ', abs(grid_model.best_score_))\n",
    "    print('Лучшие параметры модели:', grid_model.best_params_)\n",
    "    return grid_model"
   ]
  },
  {
   "cell_type": "code",
   "execution_count": 66,
   "metadata": {},
   "outputs": [
    {
     "name": "stdout",
     "output_type": "stream",
     "text": [
      "Fitting 5 folds for each of 10 candidates, totalling 50 fits\n",
      "Fitting 5 folds for each of 6 candidates, totalling 30 fits\n",
      "Значение RMSE =  2219.5695624049913\n",
      "Лучшие параметры модели: {'n_estimators': 170, 'min_samples_split': 3, 'min_samples_leaf': 2, 'max_depth': 9}\n",
      "CPU times: total: 5min 18s\n",
      "Wall time: 30min 49s\n"
     ]
    }
   ],
   "source": [
    "%%time\n",
    "rfc_model = best_model_rfc(X_train, y_train)"
   ]
  },
  {
   "cell_type": "code",
   "execution_count": 67,
   "metadata": {},
   "outputs": [
    {
     "name": "stdout",
     "output_type": "stream",
     "text": [
      "CPU times: total: 5 s\n",
      "Wall time: 5 s\n"
     ]
    },
    {
     "data": {
      "text/plain": [
       "array([3014.65700379, 1198.53534637, 5469.78881219, ..., 9105.3819848 ,\n",
       "       1581.03113523, 4056.50079039])"
      ]
     },
     "execution_count": 67,
     "metadata": {},
     "output_type": "execute_result"
    }
   ],
   "source": [
    "%%time\n",
    "rfc_model.predict(X_train)"
   ]
  },
  {
   "attachments": {},
   "cell_type": "markdown",
   "metadata": {},
   "source": [
    "### LGBMRegresssor model"
   ]
  },
  {
   "cell_type": "code",
   "execution_count": 68,
   "metadata": {},
   "outputs": [],
   "source": [
    "def best_model_lgbm(X_train, y_train):\n",
    "    model = LGBMRegressor(random_state=RANDOM)\n",
    "    params = {'max_depth':range(1,10), 'min_data_in_leaf':range(1,20)}\n",
    "    grid_model = RandomizedSearchCV(model, \n",
    "                                    params, \n",
    "                                    cv=5, \n",
    "                                    scoring='neg_root_mean_squared_error', \n",
    "                                    n_jobs=-1, \n",
    "                                    verbose=1, \n",
    "                                    random_state=RANDOM)\n",
    "    grid_model.fit(X_train, y_train)\n",
    "    model_list.append(model.__class__.__name__)\n",
    "    rmse_score_list.append(abs(grid_model.best_score_))\n",
    "    best_params.append(grid_model.best_params_)\n",
    "    print('Значение RMSE = ', abs(grid_model.best_score_))\n",
    "    print('Лучшие параметры модели:', grid_model.best_params_)\n",
    "    return grid_model"
   ]
  },
  {
   "cell_type": "code",
   "execution_count": 69,
   "metadata": {},
   "outputs": [
    {
     "name": "stdout",
     "output_type": "stream",
     "text": [
      "Fitting 5 folds for each of 10 candidates, totalling 50 fits\n",
      "[LightGBM] [Warning] min_data_in_leaf is set=12, min_child_samples=20 will be ignored. Current value: min_data_in_leaf=12\n",
      "Значение RMSE =  2174.825956575879\n",
      "Лучшие параметры модели: {'min_data_in_leaf': 12, 'max_depth': 8}\n",
      "CPU times: total: 9.38 s\n",
      "Wall time: 50.9 s\n"
     ]
    }
   ],
   "source": [
    "%%time\n",
    "lgbm_model = best_model_lgbm(X_train, y_train)"
   ]
  },
  {
   "cell_type": "code",
   "execution_count": 70,
   "metadata": {},
   "outputs": [
    {
     "name": "stdout",
     "output_type": "stream",
     "text": [
      "CPU times: total: 3.36 s\n",
      "Wall time: 541 ms\n"
     ]
    },
    {
     "data": {
      "text/plain": [
       "array([2741.33350299, 1370.18149488, 5540.50503278, ..., 8915.18202352,\n",
       "       1443.07318736, 3767.35781242])"
      ]
     },
     "execution_count": 70,
     "metadata": {},
     "output_type": "execute_result"
    }
   ],
   "source": [
    "%%time\n",
    "lgbm_model.predict(X_train)"
   ]
  },
  {
   "attachments": {},
   "cell_type": "markdown",
   "metadata": {},
   "source": [
    "### CatBoostRegressor model"
   ]
  },
  {
   "cell_type": "code",
   "execution_count": 71,
   "metadata": {},
   "outputs": [],
   "source": [
    "def best_model_cbr(X_train, y_train):\n",
    "    model = CatBoostRegressor(random_state=RANDOM)\n",
    "    params = {'max_depth':range(2,10), 'iterations':range(20,100, 20)}\n",
    "    grid_model = RandomizedSearchCV(model, \n",
    "                                    params, \n",
    "                                    cv=5, \n",
    "                                    scoring='neg_root_mean_squared_error', \n",
    "                                    n_jobs=-1, \n",
    "                                    verbose=0, \n",
    "                                    random_state=RANDOM)\n",
    "    grid_model.fit(X_train, y_train)\n",
    "    model_list.append(model.__class__.__name__)\n",
    "    rmse_score_list.append(abs(grid_model.best_score_))\n",
    "    best_params.append(grid_model.best_params_)\n",
    "    print('Значение RMSE = ', abs(grid_model.best_score_))\n",
    "    print('Лучшие параметры модели:', grid_model.best_params_)\n",
    "    return grid_model"
   ]
  },
  {
   "cell_type": "code",
   "execution_count": 72,
   "metadata": {
    "scrolled": true
   },
   "outputs": [
    {
     "name": "stdout",
     "output_type": "stream",
     "text": [
      "Learning rate set to 0.5\n",
      "0:\tlearn: 3178.1295221\ttotal: 197ms\tremaining: 15.6s\n",
      "1:\tlearn: 2612.2522514\ttotal: 257ms\tremaining: 10s\n",
      "2:\tlearn: 2409.5772881\ttotal: 307ms\tremaining: 7.87s\n",
      "3:\tlearn: 2328.4608060\ttotal: 356ms\tremaining: 6.77s\n",
      "4:\tlearn: 2293.7230189\ttotal: 403ms\tremaining: 6.05s\n",
      "5:\tlearn: 2272.9727255\ttotal: 447ms\tremaining: 5.51s\n",
      "6:\tlearn: 2257.4165101\ttotal: 495ms\tremaining: 5.16s\n",
      "7:\tlearn: 2249.8101437\ttotal: 559ms\tremaining: 5.03s\n",
      "8:\tlearn: 2241.2424748\ttotal: 607ms\tremaining: 4.79s\n",
      "9:\tlearn: 2231.8442867\ttotal: 653ms\tremaining: 4.57s\n",
      "10:\tlearn: 2226.5003327\ttotal: 700ms\tremaining: 4.39s\n",
      "11:\tlearn: 2220.8047225\ttotal: 750ms\tremaining: 4.25s\n",
      "12:\tlearn: 2217.5625902\ttotal: 796ms\tremaining: 4.1s\n",
      "13:\tlearn: 2215.3389240\ttotal: 840ms\tremaining: 3.96s\n",
      "14:\tlearn: 2213.1748312\ttotal: 885ms\tremaining: 3.83s\n",
      "15:\tlearn: 2209.6528422\ttotal: 934ms\tremaining: 3.73s\n",
      "16:\tlearn: 2206.2601444\ttotal: 979ms\tremaining: 3.63s\n",
      "17:\tlearn: 2204.0752092\ttotal: 1.02s\tremaining: 3.53s\n",
      "18:\tlearn: 2199.6214485\ttotal: 1.07s\tremaining: 3.44s\n",
      "19:\tlearn: 2198.1378866\ttotal: 1.11s\tremaining: 3.34s\n",
      "20:\tlearn: 2194.1388513\ttotal: 1.17s\tremaining: 3.27s\n",
      "21:\tlearn: 2187.7283848\ttotal: 1.21s\tremaining: 3.2s\n",
      "22:\tlearn: 2184.3418777\ttotal: 1.26s\tremaining: 3.13s\n",
      "23:\tlearn: 2179.0539808\ttotal: 1.31s\tremaining: 3.07s\n",
      "24:\tlearn: 2176.4813636\ttotal: 1.36s\tremaining: 3s\n",
      "25:\tlearn: 2173.7797969\ttotal: 1.41s\tremaining: 2.93s\n",
      "26:\tlearn: 2171.7609072\ttotal: 1.45s\tremaining: 2.85s\n",
      "27:\tlearn: 2168.3548398\ttotal: 1.5s\tremaining: 2.78s\n",
      "28:\tlearn: 2164.8874159\ttotal: 1.54s\tremaining: 2.71s\n",
      "29:\tlearn: 2161.0376489\ttotal: 1.58s\tremaining: 2.64s\n",
      "30:\tlearn: 2158.5149676\ttotal: 1.63s\tremaining: 2.58s\n",
      "31:\tlearn: 2157.4948417\ttotal: 1.67s\tremaining: 2.51s\n",
      "32:\tlearn: 2153.7247613\ttotal: 1.72s\tremaining: 2.45s\n",
      "33:\tlearn: 2150.8460098\ttotal: 1.76s\tremaining: 2.38s\n",
      "34:\tlearn: 2147.4400331\ttotal: 1.81s\tremaining: 2.32s\n",
      "35:\tlearn: 2145.1173868\ttotal: 1.85s\tremaining: 2.27s\n",
      "36:\tlearn: 2141.0456071\ttotal: 1.9s\tremaining: 2.21s\n",
      "37:\tlearn: 2138.9884275\ttotal: 1.94s\tremaining: 2.15s\n",
      "38:\tlearn: 2136.1175743\ttotal: 1.99s\tremaining: 2.09s\n",
      "39:\tlearn: 2133.5609042\ttotal: 2.04s\tremaining: 2.04s\n",
      "40:\tlearn: 2131.6380703\ttotal: 2.08s\tremaining: 1.98s\n",
      "41:\tlearn: 2129.7398201\ttotal: 2.12s\tremaining: 1.92s\n",
      "42:\tlearn: 2127.6171788\ttotal: 2.17s\tremaining: 1.87s\n",
      "43:\tlearn: 2126.1426113\ttotal: 2.21s\tremaining: 1.81s\n",
      "44:\tlearn: 2123.5943558\ttotal: 2.26s\tremaining: 1.75s\n",
      "45:\tlearn: 2122.3398096\ttotal: 2.3s\tremaining: 1.7s\n",
      "46:\tlearn: 2121.2397677\ttotal: 2.35s\tremaining: 1.65s\n",
      "47:\tlearn: 2119.4540313\ttotal: 2.4s\tremaining: 1.6s\n",
      "48:\tlearn: 2117.7419848\ttotal: 2.44s\tremaining: 1.55s\n",
      "49:\tlearn: 2115.7768451\ttotal: 2.49s\tremaining: 1.49s\n",
      "50:\tlearn: 2113.4838114\ttotal: 2.54s\tremaining: 1.44s\n",
      "51:\tlearn: 2111.5695479\ttotal: 2.58s\tremaining: 1.39s\n",
      "52:\tlearn: 2109.8012134\ttotal: 2.63s\tremaining: 1.34s\n",
      "53:\tlearn: 2108.5751742\ttotal: 2.67s\tremaining: 1.28s\n",
      "54:\tlearn: 2106.9407873\ttotal: 2.71s\tremaining: 1.23s\n",
      "55:\tlearn: 2105.4128611\ttotal: 2.76s\tremaining: 1.18s\n",
      "56:\tlearn: 2104.0998791\ttotal: 2.8s\tremaining: 1.13s\n",
      "57:\tlearn: 2102.1637095\ttotal: 2.85s\tremaining: 1.08s\n",
      "58:\tlearn: 2100.5748178\ttotal: 2.9s\tremaining: 1.03s\n",
      "59:\tlearn: 2099.1164455\ttotal: 2.94s\tremaining: 982ms\n",
      "60:\tlearn: 2097.2911389\ttotal: 3s\tremaining: 935ms\n",
      "61:\tlearn: 2095.5655571\ttotal: 3.05s\tremaining: 885ms\n",
      "62:\tlearn: 2094.2553790\ttotal: 3.09s\tremaining: 835ms\n",
      "63:\tlearn: 2092.9886559\ttotal: 3.14s\tremaining: 785ms\n",
      "64:\tlearn: 2091.2994182\ttotal: 3.18s\tremaining: 734ms\n",
      "65:\tlearn: 2089.7744867\ttotal: 3.23s\tremaining: 685ms\n",
      "66:\tlearn: 2088.7497782\ttotal: 3.27s\tremaining: 636ms\n",
      "67:\tlearn: 2087.9903316\ttotal: 3.32s\tremaining: 586ms\n",
      "68:\tlearn: 2086.4244977\ttotal: 3.37s\tremaining: 537ms\n",
      "69:\tlearn: 2083.6369677\ttotal: 3.42s\tremaining: 488ms\n",
      "70:\tlearn: 2081.7892276\ttotal: 3.46s\tremaining: 439ms\n",
      "71:\tlearn: 2080.0371993\ttotal: 3.51s\tremaining: 390ms\n",
      "72:\tlearn: 2079.2154053\ttotal: 3.56s\tremaining: 341ms\n",
      "73:\tlearn: 2078.1762508\ttotal: 3.6s\tremaining: 292ms\n",
      "74:\tlearn: 2077.3083728\ttotal: 3.65s\tremaining: 243ms\n",
      "75:\tlearn: 2076.4051087\ttotal: 3.69s\tremaining: 194ms\n",
      "76:\tlearn: 2074.7687319\ttotal: 3.74s\tremaining: 146ms\n",
      "77:\tlearn: 2073.6656725\ttotal: 3.78s\tremaining: 97ms\n",
      "78:\tlearn: 2072.3973349\ttotal: 3.83s\tremaining: 48.5ms\n",
      "79:\tlearn: 2070.6728226\ttotal: 3.88s\tremaining: 0us\n",
      "Значение RMSE =  2167.2729042188303\n",
      "Лучшие параметры модели: {'max_depth': 9, 'iterations': 80}\n",
      "CPU times: total: 24 s\n",
      "Wall time: 1min 4s\n"
     ]
    }
   ],
   "source": [
    "%%time\n",
    "cbr_model = best_model_cbr(X_train, y_train)"
   ]
  },
  {
   "cell_type": "code",
   "execution_count": 73,
   "metadata": {},
   "outputs": [
    {
     "name": "stdout",
     "output_type": "stream",
     "text": [
      "CPU times: total: 641 ms\n",
      "Wall time: 109 ms\n"
     ]
    },
    {
     "data": {
      "text/plain": [
       "array([2804.09775504, 1419.71836805, 5569.59611999, ..., 9682.78618325,\n",
       "       1519.47456454, 3895.83438333])"
      ]
     },
     "execution_count": 73,
     "metadata": {},
     "output_type": "execute_result"
    }
   ],
   "source": [
    "%%time\n",
    "cbr_model.predict(X_train)"
   ]
  },
  {
   "cell_type": "code",
   "execution_count": 76,
   "metadata": {},
   "outputs": [
    {
     "data": {
      "text/html": [
       "<div>\n",
       "<style scoped>\n",
       "    .dataframe tbody tr th:only-of-type {\n",
       "        vertical-align: middle;\n",
       "    }\n",
       "\n",
       "    .dataframe tbody tr th {\n",
       "        vertical-align: top;\n",
       "    }\n",
       "\n",
       "    .dataframe thead th {\n",
       "        text-align: right;\n",
       "    }\n",
       "</style>\n",
       "<table border=\"1\" class=\"dataframe\">\n",
       "  <thead>\n",
       "    <tr style=\"text-align: right;\">\n",
       "      <th></th>\n",
       "      <th>Model</th>\n",
       "      <th>RMSE</th>\n",
       "      <th>Best parameters</th>\n",
       "    </tr>\n",
       "  </thead>\n",
       "  <tbody>\n",
       "    <tr>\n",
       "      <th>0</th>\n",
       "      <td>CatBoostRegressor</td>\n",
       "      <td>2167.272904</td>\n",
       "      <td>{'max_depth': 9, 'iterations': 80}</td>\n",
       "    </tr>\n",
       "    <tr>\n",
       "      <th>1</th>\n",
       "      <td>LGBMRegressor</td>\n",
       "      <td>2174.825957</td>\n",
       "      <td>{'min_data_in_leaf': 12, 'max_depth': 8}</td>\n",
       "    </tr>\n",
       "    <tr>\n",
       "      <th>2</th>\n",
       "      <td>RandomForestRegressor</td>\n",
       "      <td>2219.569562</td>\n",
       "      <td>{'n_estimators': 170, 'min_samples_split': 3, ...</td>\n",
       "    </tr>\n",
       "    <tr>\n",
       "      <th>3</th>\n",
       "      <td>DecisionTreeRegressor</td>\n",
       "      <td>2259.147745</td>\n",
       "      <td>{'min_samples_split': 3, 'min_samples_leaf': 7...</td>\n",
       "    </tr>\n",
       "    <tr>\n",
       "      <th>4</th>\n",
       "      <td>LinearRegression</td>\n",
       "      <td>3779.584683</td>\n",
       "      <td>&lt;bound method BaseEstimator.get_params of Line...</td>\n",
       "    </tr>\n",
       "  </tbody>\n",
       "</table>\n",
       "</div>"
      ],
      "text/plain": [
       "                   Model         RMSE  \\\n",
       "0      CatBoostRegressor  2167.272904   \n",
       "1          LGBMRegressor  2174.825957   \n",
       "2  RandomForestRegressor  2219.569562   \n",
       "3  DecisionTreeRegressor  2259.147745   \n",
       "4       LinearRegression  3779.584683   \n",
       "\n",
       "                                     Best parameters  \n",
       "0                 {'max_depth': 9, 'iterations': 80}  \n",
       "1           {'min_data_in_leaf': 12, 'max_depth': 8}  \n",
       "2  {'n_estimators': 170, 'min_samples_split': 3, ...  \n",
       "3  {'min_samples_split': 3, 'min_samples_leaf': 7...  \n",
       "4  <bound method BaseEstimator.get_params of Line...  "
      ]
     },
     "execution_count": 76,
     "metadata": {},
     "output_type": "execute_result"
    }
   ],
   "source": [
    "# создадим сводную таблицу по результатам теста\n",
    "top_list_df = pd.DataFrame({'Model':model_list, \n",
    "                            'RMSE':rmse_score_list,\n",
    "                            'Best parameters':best_params }).sort_values(by='RMSE', ascending=True).reset_index(drop=True)\n",
    "top_list_df"
   ]
  },
  {
   "attachments": {},
   "cell_type": "markdown",
   "metadata": {},
   "source": [
    "## Анализ моделей"
   ]
  },
  {
   "attachments": {},
   "cell_type": "markdown",
   "metadata": {},
   "source": [
    "В ходе исследования нами было оценено 5 моделей для прогнозирования цены продаваемого автомобиля. Наилучшие показатели (время обучения, время предсказания и качество предсказания) оказались у модели CatBoostRegressor. Именно данная модель будет применяться для прогнозирования цены!\n",
    "\n",
    "| Модель                | Время обучения      | Время предсказания | RMSE |\n",
    "| :---:                 |    :----:           |          :---:     | :---:|\n",
    "| LinearRegression      | 1.6 s              | 109 ms            | 3780 |\n",
    "| DecisionTreeRegressor | 33.6 s              | 172 ms            | 2259 |\n",
    "| RandomForestRegressor | 30 min 49 s         | 5 s             | 2219 |\n",
    "| LGBMRegressor     | 50 s          | 541 ms         | 2174 |\n",
    "| **CatBoostRegressor**     | **64 s**              | **109 ms**            | **2167** |     \n",
    "\n",
    "\n",
    "\n",
    "Проверим работу модели на тестовых данных!"
   ]
  },
  {
   "cell_type": "code",
   "execution_count": 79,
   "metadata": {},
   "outputs": [
    {
     "data": {
      "text/plain": [
       "2179.4570126012236"
      ]
     },
     "execution_count": 79,
     "metadata": {},
     "output_type": "execute_result"
    }
   ],
   "source": [
    "prediction = cbr_model.predict(X_test)\n",
    "final_rmse = mean_squared_error(y_test, prediction, squared=False)\n",
    "final_rmse"
   ]
  },
  {
   "attachments": {},
   "cell_type": "markdown",
   "metadata": {},
   "source": [
    "Лучшей моделью для прогнозирования цены автомобиля признана модель CatBoostRegressor c гиперпараметрами max_depth = 9, iterations = 80. Итоговое значение RMSE на тестовых данных составило 2179. Модель успешно прошла тестирование!"
   ]
  },
  {
   "attachments": {},
   "cell_type": "markdown",
   "metadata": {},
   "source": [
    "## Выводы"
   ]
  },
  {
   "attachments": {},
   "cell_type": "markdown",
   "metadata": {},
   "source": [
    "Перед нами стояла задача разработки модели, прогнозирующей рыночную цену автомобиля на основе технических характеристик, комплектации и других признаков. \n",
    "\n",
    "Заказчику были важны важны:\n",
    "- качество предсказания;\n",
    "- скорость предсказания;\n",
    "- время обучения.\n",
    "\n",
    "В ходе подготовки данных было выполнено:\n",
    "- загрузка данных;\n",
    "- удаление дубликатов;\n",
    "- переопределение типов данных в столбцах;\n",
    "- создание новых признаков;\n",
    "- обработка выбросов, пропусков, аномалий; \n",
    "- кодировка категориальных признаков;\n",
    "- разделение данных на тренировочную и тестовую выборки;\n",
    "- обучение моделей\n",
    "\n",
    "В ходе исследования нами было оценено 5 моделей для прогнозирования цены продаваемого автомобиля. Наилучшие показатели (время обучения, время предсказания и качество предсказания) оказались у модели CatBoostRegressor. Именно данная модель будет применяться для прогнозирования цены!\n",
    "\n",
    "| Модель                | Время обучения      | Время предсказания | RMSE |\n",
    "| :---:                 |    :----:           |          :---:     | :---:|\n",
    "| LinearRegression      | 1.6 s              | 109 ms            | 3780 |\n",
    "| DecisionTreeRegressor | 33.6 s              | 172 ms            | 2259 |\n",
    "| RandomForestRegressor | 30 min 49 s         | 5 s             | 2219 |\n",
    "| LGBMRegressor     | 50 s          | 541 ms         | 2174 |\n",
    "| **CatBoostRegressor**     | **64 s**              | **109 ms**            | **2167** |  \n",
    "\n",
    "\n",
    "Лучшей моделью для прогнозирования цены автомобиля признана модель CatBoostRegressor c гиперпараметрами max_depth = 9, iterations = 80. Итоговое значение RMSE на тестовых данных составило 2179. Модель успешно прошла тестирование!"
   ]
  },
  {
   "attachments": {},
   "cell_type": "markdown",
   "metadata": {},
   "source": []
  }
 ],
 "metadata": {
  "ExecuteTimeLog": [
   {
    "duration": 406,
    "start_time": "2023-01-15T17:32:56.419Z"
   },
   {
    "duration": 2883,
    "start_time": "2023-01-15T17:37:20.602Z"
   },
   {
    "duration": 788,
    "start_time": "2023-01-15T17:37:47.224Z"
   },
   {
    "duration": 20,
    "start_time": "2023-01-15T17:37:56.503Z"
   },
   {
    "duration": 115,
    "start_time": "2023-01-15T17:38:45.429Z"
   },
   {
    "duration": 87,
    "start_time": "2023-01-15T17:40:32.449Z"
   },
   {
    "duration": 74,
    "start_time": "2023-01-15T17:48:46.042Z"
   },
   {
    "duration": 35025,
    "start_time": "2023-01-15T17:49:16.468Z"
   },
   {
    "duration": 129,
    "start_time": "2023-01-15T17:51:30.909Z"
   },
   {
    "duration": 91,
    "start_time": "2023-01-15T17:51:35.015Z"
   },
   {
    "duration": 99,
    "start_time": "2023-01-15T17:51:50.646Z"
   },
   {
    "duration": 88,
    "start_time": "2023-01-15T17:52:36.562Z"
   },
   {
    "duration": 11,
    "start_time": "2023-01-15T17:55:44.989Z"
   },
   {
    "duration": 38,
    "start_time": "2023-01-15T17:55:51.048Z"
   },
   {
    "duration": 107,
    "start_time": "2023-01-15T17:57:11.579Z"
   },
   {
    "duration": 49,
    "start_time": "2023-01-16T16:23:28.496Z"
   },
   {
    "duration": 24122,
    "start_time": "2023-01-16T16:23:38.242Z"
   },
   {
    "duration": 3271,
    "start_time": "2023-01-16T16:24:02.366Z"
   },
   {
    "duration": 19,
    "start_time": "2023-01-16T16:24:05.638Z"
   },
   {
    "duration": 358,
    "start_time": "2023-01-16T16:24:05.659Z"
   },
   {
    "duration": 103,
    "start_time": "2023-01-16T16:24:06.019Z"
   },
   {
    "duration": 742,
    "start_time": "2023-01-16T16:24:06.124Z"
   },
   {
    "duration": 106,
    "start_time": "2023-01-16T16:24:06.868Z"
   },
   {
    "duration": 46,
    "start_time": "2023-01-16T16:24:06.978Z"
   },
   {
    "duration": 349,
    "start_time": "2023-01-16T16:24:07.026Z"
   },
   {
    "duration": 58,
    "start_time": "2023-01-16T16:43:05.119Z"
   },
   {
    "duration": 47,
    "start_time": "2023-01-16T16:43:42.582Z"
   },
   {
    "duration": 56,
    "start_time": "2023-01-16T16:44:03.751Z"
   },
   {
    "duration": 78,
    "start_time": "2023-01-16T16:44:49.000Z"
   },
   {
    "duration": 897,
    "start_time": "2023-01-16T16:46:04.131Z"
   },
   {
    "duration": 738,
    "start_time": "2023-01-16T16:46:47.701Z"
   },
   {
    "duration": 186,
    "start_time": "2023-01-16T16:46:57.002Z"
   },
   {
    "duration": 235,
    "start_time": "2023-01-16T16:47:14.676Z"
   },
   {
    "duration": 230,
    "start_time": "2023-01-16T16:47:25.308Z"
   },
   {
    "duration": 784,
    "start_time": "2023-01-16T16:52:32.873Z"
   },
   {
    "duration": 167,
    "start_time": "2023-01-16T16:52:47.602Z"
   },
   {
    "duration": 242,
    "start_time": "2023-01-16T16:53:26.113Z"
   },
   {
    "duration": 214,
    "start_time": "2023-01-16T16:53:38.252Z"
   },
   {
    "duration": 294,
    "start_time": "2023-01-16T16:53:50.793Z"
   },
   {
    "duration": 181,
    "start_time": "2023-01-16T16:55:24.144Z"
   },
   {
    "duration": 226,
    "start_time": "2023-01-16T16:55:36.353Z"
   },
   {
    "duration": 179,
    "start_time": "2023-01-16T16:55:52.929Z"
   },
   {
    "duration": 194,
    "start_time": "2023-01-16T16:56:00.457Z"
   },
   {
    "duration": 170,
    "start_time": "2023-01-16T16:56:06.079Z"
   },
   {
    "duration": 71,
    "start_time": "2023-01-16T16:57:29.544Z"
   },
   {
    "duration": 53,
    "start_time": "2023-01-16T16:59:25.793Z"
   },
   {
    "duration": 1654,
    "start_time": "2023-01-16T17:00:01.247Z"
   },
   {
    "duration": 894,
    "start_time": "2023-01-16T17:00:19.646Z"
   },
   {
    "duration": 882,
    "start_time": "2023-01-16T17:00:58.240Z"
   },
   {
    "duration": 8,
    "start_time": "2023-01-16T17:08:07.173Z"
   },
   {
    "duration": 49,
    "start_time": "2023-01-16T17:08:12.515Z"
   },
   {
    "duration": 14,
    "start_time": "2023-01-16T17:08:29.164Z"
   },
   {
    "duration": 803,
    "start_time": "2023-01-16T17:08:45.739Z"
   },
   {
    "duration": 723,
    "start_time": "2023-01-16T17:09:09.626Z"
   },
   {
    "duration": 785,
    "start_time": "2023-01-16T17:09:31.874Z"
   },
   {
    "duration": 753,
    "start_time": "2023-01-16T17:09:38.342Z"
   },
   {
    "duration": 12,
    "start_time": "2023-01-16T17:12:43.788Z"
   },
   {
    "duration": 21,
    "start_time": "2023-01-16T17:13:12.022Z"
   },
   {
    "duration": 9,
    "start_time": "2023-01-16T17:14:23.785Z"
   },
   {
    "duration": 507,
    "start_time": "2023-01-16T17:17:53.953Z"
   },
   {
    "duration": 20,
    "start_time": "2023-01-16T17:18:28.286Z"
   },
   {
    "duration": 19,
    "start_time": "2023-01-16T17:18:47.433Z"
   },
   {
    "duration": 530,
    "start_time": "2023-01-16T17:19:33.053Z"
   },
   {
    "duration": 49,
    "start_time": "2023-01-16T17:22:24.097Z"
   },
   {
    "duration": 46,
    "start_time": "2023-01-16T17:24:13.637Z"
   },
   {
    "duration": 382,
    "start_time": "2023-01-16T17:26:55.111Z"
   },
   {
    "duration": 645,
    "start_time": "2023-01-16T17:28:37.712Z"
   },
   {
    "duration": 163,
    "start_time": "2023-01-16T17:28:59.178Z"
   },
   {
    "duration": 258,
    "start_time": "2023-01-16T17:29:06.083Z"
   },
   {
    "duration": 61,
    "start_time": "2023-01-16T17:30:52.932Z"
   },
   {
    "duration": 19,
    "start_time": "2023-01-16T17:31:14.673Z"
   },
   {
    "duration": 11,
    "start_time": "2023-01-16T17:32:22.551Z"
   },
   {
    "duration": 28,
    "start_time": "2023-01-16T17:34:50.231Z"
   },
   {
    "duration": 223,
    "start_time": "2023-01-16T17:37:25.750Z"
   },
   {
    "duration": 213,
    "start_time": "2023-01-16T17:37:54.387Z"
   },
   {
    "duration": 11,
    "start_time": "2023-01-16T17:42:47.894Z"
   },
   {
    "duration": 2271,
    "start_time": "2023-01-16T17:43:14.350Z"
   },
   {
    "duration": 13,
    "start_time": "2023-01-16T17:43:27.559Z"
   },
   {
    "duration": 10,
    "start_time": "2023-01-16T17:43:35.595Z"
   },
   {
    "duration": 9,
    "start_time": "2023-01-16T17:43:49.919Z"
   },
   {
    "duration": 8,
    "start_time": "2023-01-16T17:43:55.752Z"
   },
   {
    "duration": 9,
    "start_time": "2023-01-16T17:44:52.197Z"
   },
   {
    "duration": 2310,
    "start_time": "2023-01-16T17:45:19.919Z"
   },
   {
    "duration": 12,
    "start_time": "2023-01-16T17:45:28.676Z"
   },
   {
    "duration": 9,
    "start_time": "2023-01-16T17:45:54.732Z"
   },
   {
    "duration": 10,
    "start_time": "2023-01-16T17:46:27.845Z"
   },
   {
    "duration": 8,
    "start_time": "2023-01-16T17:50:53.511Z"
   },
   {
    "duration": 8,
    "start_time": "2023-01-16T17:51:03.893Z"
   },
   {
    "duration": 116,
    "start_time": "2023-01-16T17:51:11.729Z"
   },
   {
    "duration": 22,
    "start_time": "2023-01-16T17:55:39.502Z"
   },
   {
    "duration": 22,
    "start_time": "2023-01-16T17:56:07.146Z"
   },
   {
    "duration": 253,
    "start_time": "2023-01-16T17:56:35.748Z"
   },
   {
    "duration": 16208,
    "start_time": "2023-01-16T17:56:43.049Z"
   },
   {
    "duration": 26,
    "start_time": "2023-01-16T17:57:10.960Z"
   },
   {
    "duration": 24,
    "start_time": "2023-01-16T17:57:19.083Z"
   },
   {
    "duration": 22,
    "start_time": "2023-01-16T17:57:34.070Z"
   },
   {
    "duration": 165,
    "start_time": "2023-01-16T17:58:01.439Z"
   },
   {
    "duration": 152,
    "start_time": "2023-01-16T18:05:08.717Z"
   },
   {
    "duration": 5,
    "start_time": "2023-01-16T18:06:43.252Z"
   },
   {
    "duration": 116,
    "start_time": "2023-01-16T18:06:56.088Z"
   },
   {
    "duration": 9,
    "start_time": "2023-01-16T18:09:14.685Z"
   },
   {
    "duration": 21,
    "start_time": "2023-01-16T18:09:26.343Z"
   },
   {
    "duration": 44,
    "start_time": "2023-01-16T18:11:09.669Z"
   },
   {
    "duration": 373,
    "start_time": "2023-01-16T18:11:14.225Z"
   },
   {
    "duration": 113,
    "start_time": "2023-01-16T18:11:24.001Z"
   },
   {
    "duration": 102,
    "start_time": "2023-01-16T18:12:03.198Z"
   },
   {
    "duration": 20,
    "start_time": "2023-01-16T18:14:56.471Z"
   },
   {
    "duration": 9,
    "start_time": "2023-01-16T18:15:11.550Z"
   },
   {
    "duration": 108,
    "start_time": "2023-01-16T18:15:54.432Z"
   },
   {
    "duration": 261,
    "start_time": "2023-01-16T18:18:31.967Z"
   },
   {
    "duration": 275,
    "start_time": "2023-01-16T18:18:39.070Z"
   },
   {
    "duration": 270,
    "start_time": "2023-01-16T18:19:14.911Z"
   },
   {
    "duration": 278,
    "start_time": "2023-01-16T18:19:30.596Z"
   },
   {
    "duration": 292,
    "start_time": "2023-01-16T18:20:07.064Z"
   },
   {
    "duration": 247,
    "start_time": "2023-01-16T18:20:20.832Z"
   },
   {
    "duration": 9,
    "start_time": "2023-01-16T18:25:28.510Z"
   },
   {
    "duration": 6,
    "start_time": "2023-01-16T18:25:37.866Z"
   },
   {
    "duration": 261,
    "start_time": "2023-01-16T18:27:15.360Z"
   },
   {
    "duration": 42,
    "start_time": "2023-01-16T18:50:27.347Z"
   },
   {
    "duration": 12,
    "start_time": "2023-01-16T18:50:33.885Z"
   },
   {
    "duration": 68,
    "start_time": "2023-01-16T18:51:22.138Z"
   },
   {
    "duration": 16,
    "start_time": "2023-01-16T18:51:47.013Z"
   },
   {
    "duration": 10,
    "start_time": "2023-01-16T18:52:07.268Z"
   },
   {
    "duration": 70,
    "start_time": "2023-01-16T18:52:31.061Z"
   },
   {
    "duration": 111,
    "start_time": "2023-01-16T18:53:50.545Z"
   },
   {
    "duration": 108,
    "start_time": "2023-01-16T18:55:25.587Z"
   },
   {
    "duration": 121,
    "start_time": "2023-01-16T18:56:20.059Z"
   },
   {
    "duration": 101,
    "start_time": "2023-01-16T18:57:07.735Z"
   },
   {
    "duration": 100,
    "start_time": "2023-01-16T18:59:48.846Z"
   },
   {
    "duration": 17,
    "start_time": "2023-01-16T19:01:03.459Z"
   },
   {
    "duration": 116,
    "start_time": "2023-01-16T19:02:07.958Z"
   },
   {
    "duration": 126,
    "start_time": "2023-01-16T19:02:27.373Z"
   },
   {
    "duration": 109,
    "start_time": "2023-01-16T19:03:25.685Z"
   },
   {
    "duration": 98,
    "start_time": "2023-01-16T19:03:52.897Z"
   },
   {
    "duration": 14,
    "start_time": "2023-01-16T19:03:57.035Z"
   },
   {
    "duration": 686,
    "start_time": "2023-01-16T19:04:06.340Z"
   },
   {
    "duration": 16,
    "start_time": "2023-01-16T19:04:26.982Z"
   },
   {
    "duration": 13,
    "start_time": "2023-01-16T19:04:39.746Z"
   },
   {
    "duration": 773,
    "start_time": "2023-01-16T19:05:10.721Z"
   },
   {
    "duration": 740,
    "start_time": "2023-01-16T19:05:27.778Z"
   },
   {
    "duration": 679,
    "start_time": "2023-01-16T19:05:42.535Z"
   },
   {
    "duration": 4,
    "start_time": "2023-01-16T19:06:02.745Z"
   },
   {
    "duration": 18928,
    "start_time": "2023-01-17T10:06:20.393Z"
   },
   {
    "duration": 2915,
    "start_time": "2023-01-17T10:06:39.323Z"
   },
   {
    "duration": 19,
    "start_time": "2023-01-17T10:06:42.240Z"
   },
   {
    "duration": 316,
    "start_time": "2023-01-17T10:06:42.261Z"
   },
   {
    "duration": 93,
    "start_time": "2023-01-17T10:06:42.579Z"
   },
   {
    "duration": 687,
    "start_time": "2023-01-17T10:06:42.674Z"
   },
   {
    "duration": 94,
    "start_time": "2023-01-17T10:06:43.364Z"
   },
   {
    "duration": 48,
    "start_time": "2023-01-17T10:06:43.459Z"
   },
   {
    "duration": 321,
    "start_time": "2023-01-17T10:06:43.508Z"
   },
   {
    "duration": 389,
    "start_time": "2023-01-17T10:06:43.831Z"
   },
   {
    "duration": 471,
    "start_time": "2023-01-17T10:06:44.222Z"
   },
   {
    "duration": 324,
    "start_time": "2023-01-17T10:06:44.694Z"
   },
   {
    "duration": 1097,
    "start_time": "2023-01-17T10:06:45.020Z"
   },
   {
    "duration": 409,
    "start_time": "2023-01-17T10:06:46.120Z"
   },
   {
    "duration": 23,
    "start_time": "2023-01-17T10:06:46.530Z"
   },
   {
    "duration": 45,
    "start_time": "2023-01-17T10:06:46.555Z"
   },
   {
    "duration": 168,
    "start_time": "2023-01-17T10:06:46.602Z"
   },
   {
    "duration": 95,
    "start_time": "2023-01-17T10:06:46.772Z"
   },
   {
    "duration": 4,
    "start_time": "2023-01-17T10:06:46.869Z"
   },
   {
    "duration": 24002,
    "start_time": "2023-01-24T17:49:38.073Z"
   },
   {
    "duration": 9,
    "start_time": "2023-01-24T17:50:02.077Z"
   },
   {
    "duration": 1110,
    "start_time": "2023-01-24T17:50:02.088Z"
   },
   {
    "duration": 16,
    "start_time": "2023-01-24T17:50:03.200Z"
   },
   {
    "duration": 379,
    "start_time": "2023-01-24T17:50:03.218Z"
   },
   {
    "duration": 94,
    "start_time": "2023-01-24T17:50:03.599Z"
   },
   {
    "duration": 589,
    "start_time": "2023-01-24T17:50:03.694Z"
   },
   {
    "duration": 74,
    "start_time": "2023-01-24T17:50:04.286Z"
   },
   {
    "duration": 48,
    "start_time": "2023-01-24T17:50:04.361Z"
   },
   {
    "duration": 289,
    "start_time": "2023-01-24T17:50:04.410Z"
   },
   {
    "duration": 372,
    "start_time": "2023-01-24T17:50:04.700Z"
   },
   {
    "duration": 426,
    "start_time": "2023-01-24T17:50:05.073Z"
   },
   {
    "duration": 857,
    "start_time": "2023-01-24T17:50:05.500Z"
   },
   {
    "duration": 33,
    "start_time": "2023-01-24T17:50:06.359Z"
   },
   {
    "duration": 40,
    "start_time": "2023-01-24T17:50:06.393Z"
   },
   {
    "duration": 26,
    "start_time": "2023-01-24T17:50:06.434Z"
   },
   {
    "duration": 24,
    "start_time": "2023-01-24T17:50:06.462Z"
   },
   {
    "duration": 29,
    "start_time": "2023-01-24T17:50:06.488Z"
   },
   {
    "duration": 7,
    "start_time": "2023-01-24T17:50:06.518Z"
   },
   {
    "duration": 32,
    "start_time": "2023-01-24T17:50:06.527Z"
   },
   {
    "duration": 29,
    "start_time": "2023-01-24T17:50:06.560Z"
   },
   {
    "duration": 206,
    "start_time": "2023-01-24T17:50:06.591Z"
   },
   {
    "duration": 36,
    "start_time": "2023-01-24T17:50:06.800Z"
   },
   {
    "duration": 183,
    "start_time": "2023-01-24T17:50:06.837Z"
   },
   {
    "duration": 41,
    "start_time": "2023-01-24T17:50:07.022Z"
   },
   {
    "duration": 44,
    "start_time": "2023-01-24T17:50:07.064Z"
   },
   {
    "duration": 264,
    "start_time": "2023-01-24T17:50:07.110Z"
   },
   {
    "duration": 10,
    "start_time": "2023-01-24T17:50:07.376Z"
   },
   {
    "duration": 49,
    "start_time": "2023-01-24T17:50:07.387Z"
   },
   {
    "duration": 161,
    "start_time": "2023-01-24T17:50:07.437Z"
   },
   {
    "duration": 153,
    "start_time": "2023-01-24T17:50:07.600Z"
   },
   {
    "duration": 112,
    "start_time": "2023-01-24T17:50:07.754Z"
   },
   {
    "duration": 0,
    "start_time": "2023-01-24T17:50:07.868Z"
   },
   {
    "duration": 0,
    "start_time": "2023-01-24T17:50:07.869Z"
   },
   {
    "duration": 0,
    "start_time": "2023-01-24T17:50:07.871Z"
   },
   {
    "duration": 0,
    "start_time": "2023-01-24T17:50:07.872Z"
   },
   {
    "duration": 0,
    "start_time": "2023-01-24T17:50:07.886Z"
   },
   {
    "duration": 0,
    "start_time": "2023-01-24T17:50:07.887Z"
   },
   {
    "duration": 0,
    "start_time": "2023-01-24T17:50:07.889Z"
   },
   {
    "duration": 0,
    "start_time": "2023-01-24T17:50:07.889Z"
   },
   {
    "duration": 0,
    "start_time": "2023-01-24T17:50:07.890Z"
   },
   {
    "duration": 0,
    "start_time": "2023-01-24T17:50:07.891Z"
   },
   {
    "duration": 0,
    "start_time": "2023-01-24T17:50:07.892Z"
   },
   {
    "duration": 0,
    "start_time": "2023-01-24T17:50:07.893Z"
   },
   {
    "duration": 0,
    "start_time": "2023-01-24T17:50:07.894Z"
   },
   {
    "duration": 0,
    "start_time": "2023-01-24T17:50:07.895Z"
   },
   {
    "duration": 0,
    "start_time": "2023-01-24T17:50:07.896Z"
   },
   {
    "duration": 0,
    "start_time": "2023-01-24T17:50:07.897Z"
   },
   {
    "duration": 0,
    "start_time": "2023-01-24T17:50:07.899Z"
   },
   {
    "duration": 0,
    "start_time": "2023-01-24T17:50:07.900Z"
   },
   {
    "duration": 0,
    "start_time": "2023-01-24T17:50:07.904Z"
   },
   {
    "duration": 0,
    "start_time": "2023-01-24T17:50:07.904Z"
   },
   {
    "duration": 0,
    "start_time": "2023-01-24T17:50:07.906Z"
   },
   {
    "duration": 0,
    "start_time": "2023-01-24T17:50:07.907Z"
   },
   {
    "duration": 0,
    "start_time": "2023-01-24T17:50:07.908Z"
   },
   {
    "duration": 0,
    "start_time": "2023-01-24T17:50:07.910Z"
   },
   {
    "duration": 0,
    "start_time": "2023-01-24T17:50:07.911Z"
   },
   {
    "duration": 0,
    "start_time": "2023-01-24T17:50:07.912Z"
   },
   {
    "duration": 0,
    "start_time": "2023-01-24T17:50:07.913Z"
   },
   {
    "duration": 0,
    "start_time": "2023-01-24T17:50:07.915Z"
   },
   {
    "duration": 0,
    "start_time": "2023-01-24T17:50:07.916Z"
   },
   {
    "duration": 0,
    "start_time": "2023-01-24T17:50:07.917Z"
   },
   {
    "duration": 0,
    "start_time": "2023-01-24T17:50:07.918Z"
   },
   {
    "duration": 0,
    "start_time": "2023-01-24T17:50:07.919Z"
   },
   {
    "duration": 0,
    "start_time": "2023-01-24T17:50:07.922Z"
   },
   {
    "duration": 0,
    "start_time": "2023-01-24T17:50:07.923Z"
   },
   {
    "duration": 0,
    "start_time": "2023-01-24T17:50:07.924Z"
   },
   {
    "duration": 0,
    "start_time": "2023-01-24T17:50:07.925Z"
   },
   {
    "duration": 0,
    "start_time": "2023-01-24T17:50:07.927Z"
   },
   {
    "duration": 0,
    "start_time": "2023-01-24T17:50:07.986Z"
   },
   {
    "duration": 0,
    "start_time": "2023-01-24T17:50:07.988Z"
   },
   {
    "duration": 0,
    "start_time": "2023-01-24T17:50:07.988Z"
   },
   {
    "duration": 0,
    "start_time": "2023-01-24T17:50:07.990Z"
   },
   {
    "duration": 0,
    "start_time": "2023-01-24T17:50:07.991Z"
   },
   {
    "duration": 0,
    "start_time": "2023-01-24T17:50:07.992Z"
   },
   {
    "duration": 4,
    "start_time": "2023-01-24T18:00:37.538Z"
   },
   {
    "duration": 488,
    "start_time": "2023-01-24T18:00:42.143Z"
   },
   {
    "duration": 194,
    "start_time": "2023-01-24T18:01:02.558Z"
   },
   {
    "duration": 501,
    "start_time": "2023-01-24T18:01:06.395Z"
   },
   {
    "duration": 177,
    "start_time": "2023-01-24T18:01:07.533Z"
   },
   {
    "duration": 23,
    "start_time": "2023-01-24T18:01:09.149Z"
   },
   {
    "duration": 439,
    "start_time": "2023-01-24T18:01:12.609Z"
   },
   {
    "duration": 176,
    "start_time": "2023-01-24T18:01:13.909Z"
   },
   {
    "duration": 7,
    "start_time": "2023-01-24T18:01:16.294Z"
   },
   {
    "duration": 4,
    "start_time": "2023-01-24T18:01:19.275Z"
   },
   {
    "duration": 280,
    "start_time": "2023-01-24T18:01:21.426Z"
   },
   {
    "duration": 172,
    "start_time": "2023-01-24T18:01:23.853Z"
   },
   {
    "duration": 301,
    "start_time": "2023-01-24T18:01:37.343Z"
   },
   {
    "duration": 4,
    "start_time": "2023-01-24T18:01:39.106Z"
   },
   {
    "duration": 13,
    "start_time": "2023-01-24T18:01:41.927Z"
   },
   {
    "duration": 15,
    "start_time": "2023-01-24T18:01:51.474Z"
   },
   {
    "duration": 473,
    "start_time": "2023-01-24T18:01:53.880Z"
   },
   {
    "duration": 166,
    "start_time": "2023-01-24T18:01:55.624Z"
   },
   {
    "duration": 16,
    "start_time": "2023-01-24T18:01:57.114Z"
   },
   {
    "duration": 22,
    "start_time": "2023-01-24T18:01:59.089Z"
   },
   {
    "duration": 15,
    "start_time": "2023-01-24T18:02:01.204Z"
   },
   {
    "duration": 165,
    "start_time": "2023-01-24T18:02:02.684Z"
   },
   {
    "duration": 180,
    "start_time": "2023-01-24T18:02:15.090Z"
   },
   {
    "duration": 34,
    "start_time": "2023-01-24T18:02:18.163Z"
   },
   {
    "duration": 47,
    "start_time": "2023-01-24T18:02:20.391Z"
   },
   {
    "duration": 34,
    "start_time": "2023-01-24T18:02:23.470Z"
   },
   {
    "duration": 184,
    "start_time": "2023-01-24T18:02:25.187Z"
   },
   {
    "duration": 486,
    "start_time": "2023-01-24T18:03:20.569Z"
   },
   {
    "duration": 492,
    "start_time": "2023-01-24T18:05:02.238Z"
   },
   {
    "duration": 1811,
    "start_time": "2023-01-24T18:05:17.316Z"
   },
   {
    "duration": 64,
    "start_time": "2023-01-24T18:05:35.948Z"
   },
   {
    "duration": 4,
    "start_time": "2023-01-24T18:06:59.417Z"
   },
   {
    "duration": 3746,
    "start_time": "2023-01-24T18:07:00.781Z"
   },
   {
    "duration": 104,
    "start_time": "2023-01-24T18:07:04.529Z"
   },
   {
    "duration": 4,
    "start_time": "2023-01-24T18:10:37.731Z"
   },
   {
    "duration": 32072,
    "start_time": "2023-01-24T18:10:50.684Z"
   },
   {
    "duration": 104,
    "start_time": "2023-01-24T18:11:22.758Z"
   },
   {
    "duration": 6,
    "start_time": "2023-01-24T18:11:39.358Z"
   },
   {
    "duration": 47,
    "start_time": "2023-01-24T18:28:03.409Z"
   },
   {
    "duration": 35612,
    "start_time": "2023-01-24T18:33:59.463Z"
   },
   {
    "duration": 54,
    "start_time": "2023-01-24T18:38:02.752Z"
   },
   {
    "duration": 105,
    "start_time": "2023-01-24T18:39:30.808Z"
   },
   {
    "duration": 5,
    "start_time": "2023-01-24T18:48:39.249Z"
   },
   {
    "duration": 47,
    "start_time": "2023-01-24T18:49:10.513Z"
   },
   {
    "duration": 9345,
    "start_time": "2023-01-24T18:50:42.367Z"
   },
   {
    "duration": 3,
    "start_time": "2023-01-24T18:50:51.714Z"
   },
   {
    "duration": 1168,
    "start_time": "2023-01-24T18:50:51.718Z"
   },
   {
    "duration": 12,
    "start_time": "2023-01-24T18:50:52.888Z"
   },
   {
    "duration": 311,
    "start_time": "2023-01-24T18:50:52.902Z"
   },
   {
    "duration": 90,
    "start_time": "2023-01-24T18:50:53.215Z"
   },
   {
    "duration": 606,
    "start_time": "2023-01-24T18:50:53.307Z"
   },
   {
    "duration": 84,
    "start_time": "2023-01-24T18:50:53.915Z"
   },
   {
    "duration": 45,
    "start_time": "2023-01-24T18:50:54.000Z"
   },
   {
    "duration": 295,
    "start_time": "2023-01-24T18:50:54.047Z"
   },
   {
    "duration": 413,
    "start_time": "2023-01-24T18:50:54.344Z"
   },
   {
    "duration": 459,
    "start_time": "2023-01-24T18:50:54.759Z"
   },
   {
    "duration": 923,
    "start_time": "2023-01-24T18:50:55.220Z"
   },
   {
    "duration": 27,
    "start_time": "2023-01-24T18:50:56.147Z"
   },
   {
    "duration": 42,
    "start_time": "2023-01-24T18:50:56.176Z"
   },
   {
    "duration": 44,
    "start_time": "2023-01-24T18:50:56.220Z"
   },
   {
    "duration": 7,
    "start_time": "2023-01-24T18:50:56.265Z"
   },
   {
    "duration": 29,
    "start_time": "2023-01-24T18:50:56.274Z"
   },
   {
    "duration": 23,
    "start_time": "2023-01-24T18:50:56.305Z"
   },
   {
    "duration": 48,
    "start_time": "2023-01-24T18:50:56.330Z"
   },
   {
    "duration": 20,
    "start_time": "2023-01-24T18:50:56.380Z"
   },
   {
    "duration": 214,
    "start_time": "2023-01-24T18:50:56.402Z"
   },
   {
    "duration": 52,
    "start_time": "2023-01-24T18:50:56.618Z"
   },
   {
    "duration": 224,
    "start_time": "2023-01-24T18:50:56.672Z"
   },
   {
    "duration": 58,
    "start_time": "2023-01-24T18:50:56.898Z"
   },
   {
    "duration": 31,
    "start_time": "2023-01-24T18:50:56.958Z"
   },
   {
    "duration": 294,
    "start_time": "2023-01-24T18:50:56.991Z"
   },
   {
    "duration": 9,
    "start_time": "2023-01-24T18:50:57.287Z"
   },
   {
    "duration": 60,
    "start_time": "2023-01-24T18:50:57.298Z"
   },
   {
    "duration": 156,
    "start_time": "2023-01-24T18:50:57.361Z"
   },
   {
    "duration": 191,
    "start_time": "2023-01-24T18:50:57.519Z"
   },
   {
    "duration": 53,
    "start_time": "2023-01-24T18:50:57.711Z"
   },
   {
    "duration": 0,
    "start_time": "2023-01-24T18:50:57.766Z"
   },
   {
    "duration": 0,
    "start_time": "2023-01-24T18:50:57.767Z"
   },
   {
    "duration": 0,
    "start_time": "2023-01-24T18:50:57.768Z"
   },
   {
    "duration": 0,
    "start_time": "2023-01-24T18:50:57.769Z"
   },
   {
    "duration": 0,
    "start_time": "2023-01-24T18:50:57.770Z"
   },
   {
    "duration": 0,
    "start_time": "2023-01-24T18:50:57.771Z"
   },
   {
    "duration": 0,
    "start_time": "2023-01-24T18:50:57.772Z"
   },
   {
    "duration": 0,
    "start_time": "2023-01-24T18:50:57.773Z"
   },
   {
    "duration": 0,
    "start_time": "2023-01-24T18:50:57.774Z"
   },
   {
    "duration": 0,
    "start_time": "2023-01-24T18:50:57.775Z"
   },
   {
    "duration": 0,
    "start_time": "2023-01-24T18:50:57.776Z"
   },
   {
    "duration": 0,
    "start_time": "2023-01-24T18:50:57.777Z"
   },
   {
    "duration": 0,
    "start_time": "2023-01-24T18:50:57.778Z"
   },
   {
    "duration": 0,
    "start_time": "2023-01-24T18:50:57.779Z"
   },
   {
    "duration": 0,
    "start_time": "2023-01-24T18:50:57.780Z"
   },
   {
    "duration": 0,
    "start_time": "2023-01-24T18:50:57.781Z"
   },
   {
    "duration": 0,
    "start_time": "2023-01-24T18:50:57.782Z"
   },
   {
    "duration": 0,
    "start_time": "2023-01-24T18:50:57.783Z"
   },
   {
    "duration": 0,
    "start_time": "2023-01-24T18:50:57.784Z"
   },
   {
    "duration": 0,
    "start_time": "2023-01-24T18:50:57.785Z"
   },
   {
    "duration": 0,
    "start_time": "2023-01-24T18:50:57.786Z"
   },
   {
    "duration": 0,
    "start_time": "2023-01-24T18:50:57.787Z"
   },
   {
    "duration": 0,
    "start_time": "2023-01-24T18:50:57.788Z"
   },
   {
    "duration": 0,
    "start_time": "2023-01-24T18:50:57.789Z"
   },
   {
    "duration": 0,
    "start_time": "2023-01-24T18:50:57.790Z"
   },
   {
    "duration": 0,
    "start_time": "2023-01-24T18:50:57.791Z"
   },
   {
    "duration": 0,
    "start_time": "2023-01-24T18:50:57.792Z"
   },
   {
    "duration": 0,
    "start_time": "2023-01-24T18:50:57.793Z"
   },
   {
    "duration": 1,
    "start_time": "2023-01-24T18:50:57.794Z"
   },
   {
    "duration": 0,
    "start_time": "2023-01-24T18:50:57.795Z"
   },
   {
    "duration": 0,
    "start_time": "2023-01-24T18:50:57.796Z"
   },
   {
    "duration": 0,
    "start_time": "2023-01-24T18:50:57.797Z"
   },
   {
    "duration": 0,
    "start_time": "2023-01-24T18:50:57.798Z"
   },
   {
    "duration": 0,
    "start_time": "2023-01-24T18:50:57.799Z"
   },
   {
    "duration": 0,
    "start_time": "2023-01-24T18:50:57.800Z"
   },
   {
    "duration": 0,
    "start_time": "2023-01-24T18:50:57.800Z"
   },
   {
    "duration": 0,
    "start_time": "2023-01-24T18:50:57.801Z"
   },
   {
    "duration": 0,
    "start_time": "2023-01-24T18:50:57.802Z"
   },
   {
    "duration": 0,
    "start_time": "2023-01-24T18:50:57.838Z"
   },
   {
    "duration": 0,
    "start_time": "2023-01-24T18:50:57.840Z"
   },
   {
    "duration": 0,
    "start_time": "2023-01-24T18:50:57.842Z"
   },
   {
    "duration": 0,
    "start_time": "2023-01-24T18:50:57.843Z"
   },
   {
    "duration": 0,
    "start_time": "2023-01-24T18:50:57.845Z"
   },
   {
    "duration": 9220,
    "start_time": "2023-01-24T18:51:28.970Z"
   },
   {
    "duration": 3,
    "start_time": "2023-01-24T18:51:38.192Z"
   },
   {
    "duration": 825,
    "start_time": "2023-01-24T18:51:38.196Z"
   },
   {
    "duration": 16,
    "start_time": "2023-01-24T18:51:39.023Z"
   },
   {
    "duration": 359,
    "start_time": "2023-01-24T18:51:39.045Z"
   },
   {
    "duration": 92,
    "start_time": "2023-01-24T18:51:39.405Z"
   },
   {
    "duration": 654,
    "start_time": "2023-01-24T18:51:39.499Z"
   },
   {
    "duration": 84,
    "start_time": "2023-01-24T18:51:40.155Z"
   },
   {
    "duration": 40,
    "start_time": "2023-01-24T18:51:40.241Z"
   },
   {
    "duration": 347,
    "start_time": "2023-01-24T18:51:40.282Z"
   },
   {
    "duration": 378,
    "start_time": "2023-01-24T18:51:40.631Z"
   },
   {
    "duration": 450,
    "start_time": "2023-01-24T18:51:41.011Z"
   },
   {
    "duration": 837,
    "start_time": "2023-01-24T18:51:41.463Z"
   },
   {
    "duration": 37,
    "start_time": "2023-01-24T18:51:42.303Z"
   },
   {
    "duration": 48,
    "start_time": "2023-01-24T18:51:42.341Z"
   },
   {
    "duration": 50,
    "start_time": "2023-01-24T18:51:42.391Z"
   },
   {
    "duration": 11,
    "start_time": "2023-01-24T18:51:42.445Z"
   },
   {
    "duration": 15,
    "start_time": "2023-01-24T18:51:42.458Z"
   },
   {
    "duration": 7,
    "start_time": "2023-01-24T18:51:42.475Z"
   },
   {
    "duration": 26,
    "start_time": "2023-01-24T18:51:42.484Z"
   },
   {
    "duration": 35,
    "start_time": "2023-01-24T18:51:42.512Z"
   },
   {
    "duration": 255,
    "start_time": "2023-01-24T18:51:42.549Z"
   },
   {
    "duration": 39,
    "start_time": "2023-01-24T18:51:42.806Z"
   },
   {
    "duration": 197,
    "start_time": "2023-01-24T18:51:42.847Z"
   },
   {
    "duration": 49,
    "start_time": "2023-01-24T18:51:43.046Z"
   },
   {
    "duration": 42,
    "start_time": "2023-01-24T18:51:43.096Z"
   },
   {
    "duration": 257,
    "start_time": "2023-01-24T18:51:43.141Z"
   },
   {
    "duration": 9,
    "start_time": "2023-01-24T18:51:43.400Z"
   },
   {
    "duration": 42,
    "start_time": "2023-01-24T18:51:43.410Z"
   },
   {
    "duration": 151,
    "start_time": "2023-01-24T18:51:43.453Z"
   },
   {
    "duration": 165,
    "start_time": "2023-01-24T18:51:43.605Z"
   },
   {
    "duration": 4,
    "start_time": "2023-01-24T18:51:43.772Z"
   },
   {
    "duration": 475,
    "start_time": "2023-01-24T18:51:43.778Z"
   },
   {
    "duration": 202,
    "start_time": "2023-01-24T18:51:44.255Z"
   },
   {
    "duration": 152,
    "start_time": "2023-01-24T18:51:44.459Z"
   },
   {
    "duration": 482,
    "start_time": "2023-01-24T18:51:44.612Z"
   },
   {
    "duration": 186,
    "start_time": "2023-01-24T18:51:45.096Z"
   },
   {
    "duration": 14,
    "start_time": "2023-01-24T18:51:45.284Z"
   },
   {
    "duration": 497,
    "start_time": "2023-01-24T18:51:45.299Z"
   },
   {
    "duration": 199,
    "start_time": "2023-01-24T18:51:45.797Z"
   },
   {
    "duration": 7,
    "start_time": "2023-01-24T18:51:46.002Z"
   },
   {
    "duration": 24,
    "start_time": "2023-01-24T18:51:46.010Z"
   },
   {
    "duration": 313,
    "start_time": "2023-01-24T18:51:46.036Z"
   },
   {
    "duration": 195,
    "start_time": "2023-01-24T18:51:46.351Z"
   },
   {
    "duration": 267,
    "start_time": "2023-01-24T18:51:46.548Z"
   },
   {
    "duration": 5,
    "start_time": "2023-01-24T18:51:46.817Z"
   },
   {
    "duration": 32,
    "start_time": "2023-01-24T18:51:46.824Z"
   },
   {
    "duration": 531,
    "start_time": "2023-01-24T18:51:46.858Z"
   },
   {
    "duration": 196,
    "start_time": "2023-01-24T18:51:47.391Z"
   },
   {
    "duration": 17,
    "start_time": "2023-01-24T18:51:47.589Z"
   },
   {
    "duration": 13,
    "start_time": "2023-01-24T18:51:47.608Z"
   },
   {
    "duration": 25,
    "start_time": "2023-01-24T18:51:47.637Z"
   },
   {
    "duration": 216,
    "start_time": "2023-01-24T18:51:47.664Z"
   },
   {
    "duration": 35,
    "start_time": "2023-01-24T18:51:47.881Z"
   },
   {
    "duration": 69,
    "start_time": "2023-01-24T18:51:47.917Z"
   },
   {
    "duration": 26,
    "start_time": "2023-01-24T18:51:47.987Z"
   },
   {
    "duration": 220,
    "start_time": "2023-01-24T18:51:48.015Z"
   },
   {
    "duration": 649,
    "start_time": "2023-01-24T18:51:48.238Z"
   },
   {
    "duration": 0,
    "start_time": "2023-01-24T18:51:48.888Z"
   },
   {
    "duration": 0,
    "start_time": "2023-01-24T18:51:48.890Z"
   },
   {
    "duration": 0,
    "start_time": "2023-01-24T18:51:48.891Z"
   },
   {
    "duration": 0,
    "start_time": "2023-01-24T18:51:48.893Z"
   },
   {
    "duration": 0,
    "start_time": "2023-01-24T18:51:48.894Z"
   },
   {
    "duration": 0,
    "start_time": "2023-01-24T18:51:48.895Z"
   },
   {
    "duration": 0,
    "start_time": "2023-01-24T18:51:48.896Z"
   },
   {
    "duration": 0,
    "start_time": "2023-01-24T18:51:48.897Z"
   },
   {
    "duration": 0,
    "start_time": "2023-01-24T18:51:48.897Z"
   },
   {
    "duration": 0,
    "start_time": "2023-01-24T18:51:48.898Z"
   },
   {
    "duration": 0,
    "start_time": "2023-01-24T18:51:48.899Z"
   },
   {
    "duration": 0,
    "start_time": "2023-01-24T18:51:48.900Z"
   },
   {
    "duration": 0,
    "start_time": "2023-01-24T18:51:48.901Z"
   },
   {
    "duration": 0,
    "start_time": "2023-01-24T18:51:48.902Z"
   },
   {
    "duration": 0,
    "start_time": "2023-01-24T18:51:48.903Z"
   },
   {
    "duration": 0,
    "start_time": "2023-01-24T18:51:48.904Z"
   },
   {
    "duration": 2171,
    "start_time": "2023-01-24T18:54:12.646Z"
   },
   {
    "duration": 9858,
    "start_time": "2023-01-24T18:54:23.664Z"
   },
   {
    "duration": 3,
    "start_time": "2023-01-24T18:54:33.524Z"
   },
   {
    "duration": 769,
    "start_time": "2023-01-24T18:54:33.529Z"
   },
   {
    "duration": 13,
    "start_time": "2023-01-24T18:54:34.300Z"
   },
   {
    "duration": 361,
    "start_time": "2023-01-24T18:54:34.316Z"
   },
   {
    "duration": 89,
    "start_time": "2023-01-24T18:54:34.678Z"
   },
   {
    "duration": 664,
    "start_time": "2023-01-24T18:54:34.769Z"
   },
   {
    "duration": 79,
    "start_time": "2023-01-24T18:54:35.437Z"
   },
   {
    "duration": 46,
    "start_time": "2023-01-24T18:54:35.517Z"
   },
   {
    "duration": 443,
    "start_time": "2023-01-24T18:54:35.565Z"
   },
   {
    "duration": 381,
    "start_time": "2023-01-24T18:54:36.010Z"
   },
   {
    "duration": 480,
    "start_time": "2023-01-24T18:54:36.394Z"
   },
   {
    "duration": 936,
    "start_time": "2023-01-24T18:54:36.875Z"
   },
   {
    "duration": 41,
    "start_time": "2023-01-24T18:54:37.815Z"
   },
   {
    "duration": 49,
    "start_time": "2023-01-24T18:54:37.859Z"
   },
   {
    "duration": 38,
    "start_time": "2023-01-24T18:54:37.910Z"
   },
   {
    "duration": 9,
    "start_time": "2023-01-24T18:54:37.951Z"
   },
   {
    "duration": 10,
    "start_time": "2023-01-24T18:54:37.962Z"
   },
   {
    "duration": 11,
    "start_time": "2023-01-24T18:54:37.974Z"
   },
   {
    "duration": 24,
    "start_time": "2023-01-24T18:54:37.986Z"
   },
   {
    "duration": 25,
    "start_time": "2023-01-24T18:54:38.012Z"
   },
   {
    "duration": 246,
    "start_time": "2023-01-24T18:54:38.040Z"
   },
   {
    "duration": 36,
    "start_time": "2023-01-24T18:54:38.288Z"
   },
   {
    "duration": 237,
    "start_time": "2023-01-24T18:54:38.326Z"
   },
   {
    "duration": 43,
    "start_time": "2023-01-24T18:54:38.565Z"
   },
   {
    "duration": 42,
    "start_time": "2023-01-24T18:54:38.610Z"
   },
   {
    "duration": 274,
    "start_time": "2023-01-24T18:54:38.654Z"
   },
   {
    "duration": 15,
    "start_time": "2023-01-24T18:54:38.930Z"
   },
   {
    "duration": 36,
    "start_time": "2023-01-24T18:54:38.946Z"
   },
   {
    "duration": 161,
    "start_time": "2023-01-24T18:54:38.984Z"
   },
   {
    "duration": 177,
    "start_time": "2023-01-24T18:54:39.147Z"
   },
   {
    "duration": 12,
    "start_time": "2023-01-24T18:54:39.326Z"
   },
   {
    "duration": 480,
    "start_time": "2023-01-24T18:54:39.340Z"
   },
   {
    "duration": 190,
    "start_time": "2023-01-24T18:54:39.822Z"
   },
   {
    "duration": 170,
    "start_time": "2023-01-24T18:54:40.014Z"
   },
   {
    "duration": 526,
    "start_time": "2023-01-24T18:54:40.186Z"
   },
   {
    "duration": 184,
    "start_time": "2023-01-24T18:54:40.713Z"
   },
   {
    "duration": 15,
    "start_time": "2023-01-24T18:54:40.898Z"
   },
   {
    "duration": 471,
    "start_time": "2023-01-24T18:54:40.914Z"
   },
   {
    "duration": 212,
    "start_time": "2023-01-24T18:54:41.387Z"
   },
   {
    "duration": 7,
    "start_time": "2023-01-24T18:54:41.602Z"
   },
   {
    "duration": 4,
    "start_time": "2023-01-24T18:54:41.611Z"
   },
   {
    "duration": 339,
    "start_time": "2023-01-24T18:54:41.617Z"
   },
   {
    "duration": 209,
    "start_time": "2023-01-24T18:54:41.958Z"
   },
   {
    "duration": 261,
    "start_time": "2023-01-24T18:54:42.169Z"
   },
   {
    "duration": 8,
    "start_time": "2023-01-24T18:54:42.441Z"
   },
   {
    "duration": 29,
    "start_time": "2023-01-24T18:54:42.455Z"
   },
   {
    "duration": 548,
    "start_time": "2023-01-24T18:54:42.486Z"
   },
   {
    "duration": 180,
    "start_time": "2023-01-24T18:54:43.037Z"
   },
   {
    "duration": 22,
    "start_time": "2023-01-24T18:54:43.219Z"
   },
   {
    "duration": 23,
    "start_time": "2023-01-24T18:54:43.244Z"
   },
   {
    "duration": 19,
    "start_time": "2023-01-24T18:54:43.269Z"
   },
   {
    "duration": 194,
    "start_time": "2023-01-24T18:54:43.289Z"
   },
   {
    "duration": 37,
    "start_time": "2023-01-24T18:54:43.484Z"
   },
   {
    "duration": 61,
    "start_time": "2023-01-24T18:54:43.522Z"
   },
   {
    "duration": 28,
    "start_time": "2023-01-24T18:54:43.585Z"
   },
   {
    "duration": 204,
    "start_time": "2023-01-24T18:54:43.615Z"
   },
   {
    "duration": 2024,
    "start_time": "2023-01-24T18:54:43.821Z"
   },
   {
    "duration": 4,
    "start_time": "2023-01-24T18:54:45.848Z"
   },
   {
    "duration": 3787,
    "start_time": "2023-01-24T18:54:45.854Z"
   },
   {
    "duration": 203,
    "start_time": "2023-01-24T18:54:49.643Z"
   },
   {
    "duration": 88,
    "start_time": "2023-01-24T18:54:49.850Z"
   },
   {
    "duration": 36877,
    "start_time": "2023-01-24T18:54:49.941Z"
   },
   {
    "duration": 128,
    "start_time": "2023-01-24T18:55:26.820Z"
   },
   {
    "duration": 10,
    "start_time": "2023-01-24T18:55:26.952Z"
   },
   {
    "duration": 2504076,
    "start_time": "2023-01-24T18:55:26.964Z"
   },
   {
    "duration": 3112,
    "start_time": "2023-01-24T19:37:11.046Z"
   },
   {
    "duration": 5,
    "start_time": "2023-01-24T19:37:14.160Z"
   },
   {
    "duration": 149168,
    "start_time": "2023-01-25T09:30:41.820Z"
   },
   {
    "duration": 4,
    "start_time": "2023-01-25T09:33:11.021Z"
   },
   {
    "duration": 4649,
    "start_time": "2023-01-25T09:33:11.026Z"
   },
   {
    "duration": 54,
    "start_time": "2023-01-25T09:33:15.720Z"
   },
   {
    "duration": 1003,
    "start_time": "2023-01-25T09:33:15.776Z"
   },
   {
    "duration": 447,
    "start_time": "2023-01-25T09:33:16.821Z"
   },
   {
    "duration": 1970,
    "start_time": "2023-01-25T09:33:17.269Z"
   },
   {
    "duration": 190,
    "start_time": "2023-01-25T09:33:19.241Z"
   },
   {
    "duration": 100,
    "start_time": "2023-01-25T09:33:19.433Z"
   },
   {
    "duration": 795,
    "start_time": "2023-01-25T09:33:19.536Z"
   },
   {
    "duration": 1018,
    "start_time": "2023-01-25T09:33:20.334Z"
   },
   {
    "duration": 1111,
    "start_time": "2023-01-25T09:33:21.354Z"
   },
   {
    "duration": 2444,
    "start_time": "2023-01-25T09:33:22.522Z"
   },
   {
    "duration": 103,
    "start_time": "2023-01-25T09:33:25.020Z"
   },
   {
    "duration": 105,
    "start_time": "2023-01-25T09:33:25.125Z"
   },
   {
    "duration": 33,
    "start_time": "2023-01-25T09:33:25.232Z"
   },
   {
    "duration": 9,
    "start_time": "2023-01-25T09:33:25.321Z"
   },
   {
    "duration": 16,
    "start_time": "2023-01-25T09:33:25.333Z"
   },
   {
    "duration": 9,
    "start_time": "2023-01-25T09:33:25.351Z"
   },
   {
    "duration": 113,
    "start_time": "2023-01-25T09:33:25.362Z"
   },
   {
    "duration": 94,
    "start_time": "2023-01-25T09:33:25.477Z"
   },
   {
    "duration": 697,
    "start_time": "2023-01-25T09:33:25.572Z"
   },
   {
    "duration": 103,
    "start_time": "2023-01-25T09:33:26.322Z"
   },
   {
    "duration": 894,
    "start_time": "2023-01-25T09:33:26.427Z"
   },
   {
    "duration": 127,
    "start_time": "2023-01-25T09:33:27.324Z"
   },
   {
    "duration": 101,
    "start_time": "2023-01-25T09:33:27.454Z"
   },
   {
    "duration": 888,
    "start_time": "2023-01-25T09:33:27.557Z"
   },
   {
    "duration": 12,
    "start_time": "2023-01-25T09:33:28.451Z"
   },
   {
    "duration": 103,
    "start_time": "2023-01-25T09:33:28.465Z"
   },
   {
    "duration": 484,
    "start_time": "2023-01-25T09:33:28.569Z"
   },
   {
    "duration": 509,
    "start_time": "2023-01-25T09:33:29.055Z"
   },
   {
    "duration": 59,
    "start_time": "2023-01-25T09:33:29.566Z"
   },
   {
    "duration": 1632,
    "start_time": "2023-01-25T09:33:29.626Z"
   },
   {
    "duration": 602,
    "start_time": "2023-01-25T09:33:31.261Z"
   },
   {
    "duration": 456,
    "start_time": "2023-01-25T09:33:31.865Z"
   },
   {
    "duration": 1524,
    "start_time": "2023-01-25T09:33:32.323Z"
   },
   {
    "duration": 611,
    "start_time": "2023-01-25T09:33:33.849Z"
   },
   {
    "duration": 79,
    "start_time": "2023-01-25T09:33:34.463Z"
   },
   {
    "duration": 1697,
    "start_time": "2023-01-25T09:33:34.545Z"
   },
   {
    "duration": 696,
    "start_time": "2023-01-25T09:33:36.245Z"
   },
   {
    "duration": 12,
    "start_time": "2023-01-25T09:33:36.943Z"
   },
   {
    "duration": 64,
    "start_time": "2023-01-25T09:33:36.957Z"
   },
   {
    "duration": 916,
    "start_time": "2023-01-25T09:33:37.024Z"
   },
   {
    "duration": 584,
    "start_time": "2023-01-25T09:33:37.941Z"
   },
   {
    "duration": 630,
    "start_time": "2023-01-25T09:33:38.527Z"
   },
   {
    "duration": 6,
    "start_time": "2023-01-25T09:33:39.158Z"
   },
   {
    "duration": 26,
    "start_time": "2023-01-25T09:33:39.221Z"
   },
   {
    "duration": 2591,
    "start_time": "2023-01-25T09:33:39.249Z"
   },
   {
    "duration": 997,
    "start_time": "2023-01-25T09:33:41.842Z"
   },
   {
    "duration": 100,
    "start_time": "2023-01-25T09:33:42.841Z"
   },
   {
    "duration": 85,
    "start_time": "2023-01-25T09:33:42.943Z"
   },
   {
    "duration": 99,
    "start_time": "2023-01-25T09:33:43.030Z"
   },
   {
    "duration": 895,
    "start_time": "2023-01-25T09:33:43.132Z"
   },
   {
    "duration": 115,
    "start_time": "2023-01-25T09:33:44.030Z"
   },
   {
    "duration": 226,
    "start_time": "2023-01-25T09:33:44.147Z"
   },
   {
    "duration": 95,
    "start_time": "2023-01-25T09:33:44.375Z"
   },
   {
    "duration": 735,
    "start_time": "2023-01-25T09:33:44.524Z"
   },
   {
    "duration": 6487,
    "start_time": "2023-01-25T09:33:45.261Z"
   },
   {
    "duration": 6,
    "start_time": "2023-01-25T09:33:51.750Z"
   },
   {
    "duration": 4199,
    "start_time": "2023-01-25T09:33:51.757Z"
   },
   {
    "duration": 230,
    "start_time": "2023-01-25T09:33:56.021Z"
   },
   {
    "duration": 10,
    "start_time": "2023-01-25T09:33:56.328Z"
   },
   {
    "duration": 113785,
    "start_time": "2023-01-25T09:33:56.342Z"
   },
   {
    "duration": 297,
    "start_time": "2023-01-25T09:35:50.129Z"
   },
   {
    "duration": 8,
    "start_time": "2023-01-25T09:35:50.428Z"
   }
  ],
  "kernelspec": {
   "display_name": "Python 3 (ipykernel)",
   "language": "python",
   "name": "python3"
  },
  "language_info": {
   "codemirror_mode": {
    "name": "ipython",
    "version": 3
   },
   "file_extension": ".py",
   "mimetype": "text/x-python",
   "name": "python",
   "nbconvert_exporter": "python",
   "pygments_lexer": "ipython3",
   "version": "3.9.12"
  },
  "toc": {
   "base_numbering": 1,
   "nav_menu": {
    "height": "142px",
    "width": "160px"
   },
   "number_sections": true,
   "sideBar": true,
   "skip_h1_title": true,
   "title_cell": "Table of Contents",
   "title_sidebar": "Contents",
   "toc_cell": false,
   "toc_position": {
    "height": "calc(100% - 180px)",
    "left": "10px",
    "top": "150px",
    "width": "252.6px"
   },
   "toc_section_display": true,
   "toc_window_display": true
  }
 },
 "nbformat": 4,
 "nbformat_minor": 2
}
