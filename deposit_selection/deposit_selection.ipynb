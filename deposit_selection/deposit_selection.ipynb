{
 "cells": [
  {
   "cell_type": "markdown",
   "metadata": {
    "toc": true
   },
   "source": [
    "<h1>Contents<span class=\"tocSkip\"></span></h1>\n",
    "<div class=\"toc\"><ul class=\"toc-item\"><li><span><a href=\"#Загрузка-и-подготовка-данных\" data-toc-modified-id=\"Загрузка-и-подготовка-данных-1\"><span class=\"toc-item-num\">1&nbsp;&nbsp;</span>Загрузка и подготовка данных</a></span></li><li><span><a href=\"#Обучение-и-проверка-модели\" data-toc-modified-id=\"Обучение-и-проверка-модели-2\"><span class=\"toc-item-num\">2&nbsp;&nbsp;</span>Обучение и проверка модели</a></span></li><li><span><a href=\"#Подготовка-к-расчёту-прибыли\" data-toc-modified-id=\"Подготовка-к-расчёту-прибыли-3\"><span class=\"toc-item-num\">3&nbsp;&nbsp;</span>Подготовка к расчёту прибыли</a></span></li><li><span><a href=\"#Расчёт-прибыли-и-рисков\" data-toc-modified-id=\"Расчёт-прибыли-и-рисков-4\"><span class=\"toc-item-num\">4&nbsp;&nbsp;</span>Расчёт прибыли и рисков</a></span></li><li><span><a href=\"#Выводы\" data-toc-modified-id=\"Выводы-5\"><span class=\"toc-item-num\">5&nbsp;&nbsp;</span>Выводы</a></span></li></ul></div>"
   ]
  },
  {
   "cell_type": "markdown",
   "metadata": {},
   "source": [
    "# Выбор локации для скважины"
   ]
  },
  {
   "cell_type": "markdown",
   "metadata": {},
   "source": [
    "Допустим, вы работаете в добывающей компании «ГлавРосГосНефть». Нужно решить, где бурить новую скважину.\n",
    "\n",
    "Вам предоставлены пробы нефти в трёх регионах: в каждом 10 000 месторождений, где измерили качество нефти и объём её запасов. Постройте модель машинного обучения, которая поможет определить регион, где добыча принесёт наибольшую прибыль. Проанализируйте возможную прибыль и риски техникой *Bootstrap.*\n",
    "\n",
    "Шаги для выбора локации:\n",
    "\n",
    "- В избранном регионе ищут месторождения, для каждого определяют значения признаков;\n",
    "- Строят модель и оценивают объём запасов;\n",
    "- Выбирают месторождения с самым высокими оценками значений. Количество месторождений зависит от бюджета компании и стоимости разработки одной скважины;\n",
    "- Прибыль равна суммарной прибыли отобранных месторождений."
   ]
  },
  {
   "cell_type": "markdown",
   "metadata": {},
   "source": [
    "## Загрузка и подготовка данных"
   ]
  },
  {
   "cell_type": "code",
   "execution_count": null,
   "metadata": {},
   "outputs": [],
   "source": [
    "#загружаем необходимые библиотеки\n",
    "import pandas as pd\n",
    "\n",
    "from matplotlib.pyplot import plot as plt\n",
    "\n",
    "from numpy.random import RandomState\n",
    "\n",
    "from sklearn.linear_model import LinearRegression\n",
    "from sklearn.metrics import mean_squared_error\n",
    "from sklearn.preprocessing import StandardScaler\n",
    "from sklearn.model_selection import train_test_split, GridSearchCV"
   ]
  },
  {
   "cell_type": "code",
   "execution_count": null,
   "metadata": {},
   "outputs": [],
   "source": [
    "try:\n",
    "    data_0 = pd.read_csv('/datasets/geo_data_0.csv')\n",
    "    data_1 = pd.read_csv('/datasets/geo_data_1.csv')\n",
    "    data_2 = pd.read_csv('/datasets/geo_data_2.csv')\n",
    "except:\n",
    "    data_0 = pd.read_csv('/Users/amirk/Downloads/geo_data_0.csv')\n",
    "    data_1 = pd.read_csv('/Users/amirk/Downloads/geo_data_1.csv')\n",
    "    data_2 = pd.read_csv('/Users/amirk/Downloads/geo_data_2.csv')"
   ]
  },
  {
   "cell_type": "code",
   "execution_count": null,
   "metadata": {},
   "outputs": [],
   "source": [
    "#напишем функцию для знакомства с датасетами:\n",
    "def explore_data(data):\n",
    "    display(data.head())\n",
    "    print()\n",
    "    print(data.info())\n",
    "    print()\n",
    "    print(data.describe())\n",
    "    print()\n",
    "    print('Количество полных дубликатов в данных равно ', data.duplicated().sum())\n",
    "    print('Количество дубликатов в столбце \"id\" равно ', data['id'].duplicated().sum())\n",
    "    print(data[data['id'].duplicated(keep=False)].sort_values(by='id'))\n",
    "    data.hist(grid=True, figsize=(10,7))"
   ]
  },
  {
   "cell_type": "code",
   "execution_count": null,
   "metadata": {},
   "outputs": [],
   "source": [
    "explore_data(data_0)"
   ]
  },
  {
   "cell_type": "markdown",
   "metadata": {},
   "source": [
    "В датасете `data_0` пропусков и полных дубликатов нет, выбросов в данных нет. Выявлено 10 дубликатов в столбце **id**, данные в них различаются, вероятно ошибка при сборе данных. "
   ]
  },
  {
   "cell_type": "code",
   "execution_count": null,
   "metadata": {},
   "outputs": [],
   "source": [
    "explore_data(data_1)"
   ]
  },
  {
   "cell_type": "markdown",
   "metadata": {},
   "source": [
    "В датасете `data_1` также нет пропусков и дубликатов, выбросов в данных нет."
   ]
  },
  {
   "cell_type": "code",
   "execution_count": null,
   "metadata": {},
   "outputs": [],
   "source": [
    "explore_data(data_2)"
   ]
  },
  {
   "cell_type": "markdown",
   "metadata": {},
   "source": [
    "В датасете `data_2` также нет пропусков и дубликатов, выбросов в данных нет."
   ]
  },
  {
   "cell_type": "markdown",
   "metadata": {},
   "source": [
    "Предобработка данных\n",
    "- в каждом датасете выявлены единичные дубликаты в столбце `id`. Удалим данные строки, т.к. они критически не повлияют на выборку в целом.\n",
    "- в данных присутсвует столбец `id`, который не несет в себе информации необходимой для построения моделей. Удалим его.   \n",
    "- данные количественные - семплирование проводить не нужно\n",
    "- для загрузки данных в модель линейной регрессии и получения коэффициентов (возможно понадобятся в будущем), характеризующих значимость признаков, необходимо выполнить масштабирование признаков."
   ]
  },
  {
   "cell_type": "code",
   "execution_count": null,
   "metadata": {},
   "outputs": [],
   "source": [
    "#создадим функцию для предобработки данных\n",
    "def prep_data(data):\n",
    "    data_temp = data.drop_duplicates(subset='id').drop('id', axis=1)\n",
    "    X = data_temp.drop('product', axis=1)\n",
    "    y = data_temp['product']\n",
    "    X_train, X_test, y_train, y_test = train_test_split(X, y, test_size=0.25, random_state=123)\n",
    "    scaler = StandardScaler()\n",
    "    X_train = scaler.fit_transform(X_train)\n",
    "    X_test = scaler.transform(X_test)\n",
    "    return X_train, X_test, y_train, y_test \n"
   ]
  },
  {
   "cell_type": "code",
   "execution_count": null,
   "metadata": {},
   "outputs": [],
   "source": [
    "data_0_samp = prep_data(data_0)\n",
    "data_1_samp = prep_data(data_1)\n",
    "data_2_samp = prep_data(data_2)"
   ]
  },
  {
   "cell_type": "markdown",
   "metadata": {},
   "source": [
    "## Обучение и проверка модели"
   ]
  },
  {
   "cell_type": "code",
   "execution_count": null,
   "metadata": {},
   "outputs": [],
   "source": [
    "def best_model(X_train, X_test, y_train, y_test):\n",
    "    model = LinearRegression()\n",
    "    params = {}\n",
    "    grid_model = GridSearchCV(model, \n",
    "                              params, \n",
    "                              cv=5, \n",
    "                              scoring='neg_root_mean_squared_error', \n",
    "                              error_score='raise', \n",
    "                              n_jobs=-1, \n",
    "                              verbose=1)\n",
    "    grid_model.fit(X_train, y_train)\n",
    "    y_predict = grid_model.predict(X_test)\n",
    "    print(f'Средний запас сырья на месторождении в данном регионе {y_predict.mean():.3f} тыс. баррелей')\n",
    "    print('Значение RMSE = ', mean_squared_error(y_test, y_predict, squared=False))\n",
    "    return y_predict "
   ]
  },
  {
   "cell_type": "code",
   "execution_count": null,
   "metadata": {},
   "outputs": [],
   "source": [
    "y_predict0 = best_model(data_0_samp[0], data_0_samp[1], data_0_samp[2], data_0_samp[3])"
   ]
  },
  {
   "cell_type": "code",
   "execution_count": null,
   "metadata": {},
   "outputs": [],
   "source": [
    "y_predict1 = best_model(data_1_samp[0], data_1_samp[1], data_1_samp[2], data_1_samp[3])"
   ]
  },
  {
   "cell_type": "code",
   "execution_count": null,
   "metadata": {},
   "outputs": [],
   "source": [
    "y_predict2 = best_model(data_2_samp[0], data_2_samp[1], data_2_samp[2], data_2_samp[3])"
   ]
  },
  {
   "cell_type": "markdown",
   "metadata": {},
   "source": [
    "**Промежуточные выводы**\n",
    "- в регионе 1 и 3 предполагаемые запасы сырья на одной скважине схожи, 92.681 и 94.938 тыс. баррелей соответсвенно. При этом значения RMSE очень высокие 37.596 и 40.049 тыс. баррелей соответсвенно. Модель плохо предсказывает запас сырья.\n",
    "- в регионе 2 предполагаемые запасы сырья на одной скважине 69.314 тыс. баррелей, что меньше, чем 1 и 3 регионе, однако RMSE равно 0.894 тыс. баррелей. Модель очень хорошо предсказывает данные.\n",
    "- данные различия могут повлиять на потенциальную прибыль. Проверим какая тактика будет более выигрышной, разработка скажин с меньшим количеством запасов сырья, но зато стабильно одинаково, либо регионы с большим разбросом запасов на скважине, но с большим средниим запасом."
   ]
  },
  {
   "cell_type": "markdown",
   "metadata": {},
   "source": [
    "## Подготовка к расчёту прибыли"
   ]
  },
  {
   "cell_type": "code",
   "execution_count": null,
   "metadata": {},
   "outputs": [],
   "source": [
    "# пропишем все необходимые переменные\n",
    "EXPENSE = 10_000_000_000\n",
    "EXPLORE_WELL = 500\n",
    "BEST_WELL = 200\n",
    "PROFIT = 450000 \n",
    "min_barrel_per_well = EXPENSE / BEST_WELL / PROFIT"
   ]
  },
  {
   "cell_type": "code",
   "execution_count": null,
   "metadata": {},
   "outputs": [],
   "source": [
    "print(f'Минимально количество сырья на скважине, необходимое для безубыточной добычи равно не \\\n",
    "        менее {min_barrel_per_well:.3f} тыс. баррелей.')"
   ]
  },
  {
   "cell_type": "markdown",
   "metadata": {},
   "source": [
    "Минимальное количество сырья на скважине необходимое для безубыточной добычи гораздо выше, чем среднее количество предполагаемых запасов сырья: **111.111 тыс. баррелей** против **92.634, 69.364 и 95.12 тыс. баррелей** в 1, 2 и 3 регионеах соответсвенно. При этом, учитывая высокие значения RMSE в 1 и 3 регионах, лучшие скважины могут иметь необходимый минимальный объем сырья для безубыточной добычи."
   ]
  },
  {
   "cell_type": "markdown",
   "metadata": {},
   "source": [
    "## Расчёт прибыли и рисков "
   ]
  },
  {
   "cell_type": "code",
   "execution_count": null,
   "metadata": {},
   "outputs": [],
   "source": [
    "#калькулятор для расчета прибыли\n",
    "def calc_profit(y_predict, y_test, a):\n",
    "    if a == 1:\n",
    "        y_predict = pd.Series(y_predict, index=y_test.index)\n",
    "        y_predict_best200 = y_predict.sort_values(ascending=False)[:200]\n",
    "        y_test_best200 = y_test.loc[y_predict_best200.index]\n",
    "        profit_pred = y_predict_best200.sum() * PROFIT - EXPENSE\n",
    "        profit_test =  y_test_best200.sum() * PROFIT - EXPENSE\n",
    "        print(f'Предполагаемая прибыль от 200 скважин с максимальным количеством сырья равна {profit_pred:.3f}')\n",
    "        print(f'Реальная прибыль от спрогнозированных 200 скважин с максимальным количеством сырья равна {profit_test:.3f} (расчет на тестовых данных)')\n",
    "    else:\n",
    "        y_predict_best200 = y_predict.sort_values(ascending=False)[:200]\n",
    "        y_test_best200 = y_test.loc[y_predict_best200.index]\n",
    "        profit_pred = y_test_best200.sum() * PROFIT - EXPENSE\n",
    "        return profit_pred"
   ]
  },
  {
   "cell_type": "code",
   "execution_count": null,
   "metadata": {},
   "outputs": [],
   "source": [
    "calc_profit(y_predict0, data_0_samp[3], 1)"
   ]
  },
  {
   "cell_type": "code",
   "execution_count": null,
   "metadata": {
    "scrolled": true
   },
   "outputs": [],
   "source": [
    "calc_profit(y_predict1, data_1_samp[3], 1)"
   ]
  },
  {
   "cell_type": "code",
   "execution_count": null,
   "metadata": {},
   "outputs": [],
   "source": [
    "calc_profit(y_predict2, data_2_samp[3], 1)"
   ]
  },
  {
   "cell_type": "code",
   "execution_count": null,
   "metadata": {},
   "outputs": [],
   "source": [
    "#калькулятор прибыли  после применения бутстрепа\n",
    "def bootstrap_calc(y_predict, y_test):\n",
    "    state = RandomState(123)\n",
    "    values = []\n",
    "    count = 0\n",
    "    bootstrap_samples = 1000\n",
    "    y_predict = pd.Series(y_predict, index=y_test.index)\n",
    "    for i in range(bootstrap_samples):\n",
    "        subsamples = y_predict.sample(EXPLORE_WELL, replace=True, random_state=state)\n",
    "        values.append(calc_profit(subsamples, y_test, 0))\n",
    "        if calc_profit(subsamples, y_test, 0) < 0:\n",
    "            count += 1\n",
    "    values = pd.Series(values)\n",
    "    print(f'Средняя прогнозируемая прибыль на 200 скважинах с максимальным количеством сырья равна {int(values.mean())}, 95% доверительный интервал {int(values.quantile(q=0.025))} - {int(values.quantile(q=0.975))}. Риск убытков равен {count / bootstrap_samples:.2%}')\n",
    "    return [int(values.mean()), int(values.quantile(q=0.025)), int(values.quantile(q=0.975)), format((count / bootstrap_samples), '.2%')]"
   ]
  },
  {
   "cell_type": "code",
   "execution_count": null,
   "metadata": {},
   "outputs": [],
   "source": [
    "geo1 = bootstrap_calc(y_predict0, data_0_samp[3])"
   ]
  },
  {
   "cell_type": "code",
   "execution_count": null,
   "metadata": {},
   "outputs": [],
   "source": [
    "geo2 = bootstrap_calc(y_predict1, data_1_samp[3])"
   ]
  },
  {
   "cell_type": "code",
   "execution_count": null,
   "metadata": {},
   "outputs": [],
   "source": [
    "geo3 = bootstrap_calc(y_predict2, data_2_samp[3])"
   ]
  },
  {
   "cell_type": "code",
   "execution_count": null,
   "metadata": {
    "scrolled": true
   },
   "outputs": [],
   "source": [
    "#Соберем все в одну табличку \n",
    "final_table = pd.DataFrame(columns=['Средняя прибыль (руб.)', 'Нижняя граница 95% доверительного интервала', 'Верхняя граница 95% доверительного интервала', 'Риск убытков'])\n",
    "for i in [geo1, geo2, geo3]:\n",
    "    i = pd.DataFrame([i], columns=['Средняя прибыль (руб.)', 'Нижняя граница 95% доверительного интервала', 'Верхняя граница 95% доверительного интервала', 'Риск убытков'])\n",
    "    final_table = pd.concat([final_table, i]) \n",
    "final_table.reset_index(inplace=True, drop=True)\n",
    "final_table.rename(index={0:'geo1', 1:'geo2', 2:'geo3'}, inplace=True)\n",
    "final_table.sort_values(by='Средняя прибыль (руб.)', ascending=False)"
   ]
  },
  {
   "cell_type": "markdown",
   "metadata": {},
   "source": [
    "- в регионах 1 и 3 риск убытков составил более 2.5%, поэтому для разработки они не рассматриваются.     \n",
    "    \n",
    "- наибольшая средняя прибыль выявлена в регионе 2 -  488403884\tруб.   \n",
    "\n",
    "**Таким образом, лучшим регионом для разработки является регион 2.**"
   ]
  },
  {
   "cell_type": "markdown",
   "metadata": {},
   "source": [
    "## Выводы\n",
    "\n",
    "- в ходе исследования мы ознакомились с данными, выполнили подготовку данных для их загрузки в модели\n",
    "- построили модель прогнозирования запаса сырья на отдельной скажине, посчитали прогнозируемый средний объем запаса сырья на 1 скважине в регионе.\n",
    "   - в регионе 1 и 3 предполагаемые запасы сырья на одной скважине схожи, 92.681 и 94.938 тыс. баррелей соответсвенно. При этом значения RMSE очень высокие 37.596 и 40.049 тыс. баррелей соответсвенно.\n",
    "   - в регионе 2 предполагаемые запасы сырья на одной скважине 69.314 тыс. баррелей, что меньше, чем 1 и 3 регионе, однако RMSE равно 0.894 тыс. баррелей.  \n",
    "- рассчитали минимальный объем запаса сырья на скважине, требуемый для безубыточной добычи (111.111 тыс. баррелей)\n",
    "- написали функцию для расчета предполагаемой прибыли от 200 скважин с максимальным количеством сырья.\n",
    "- методикой бутстрепа рассчитали распределение прибыли, оценили среднюю прибыль, 95% доверительный интервал для прибыли, а также рсассчитали риск убытков. \n",
    "\n",
    "| Регион | Средняя прибыль (руб.) | Нижняя граница 95% доверительного интервала | Верхняя граница 95% доверительного интервала | Риск убытков |\n",
    "|----|----|----|----|----|\n",
    "| geo2 | 488403884 | 79510951 | 883658384 |\t0.80% |\n",
    "|geo1|\t394841382|\t-131716443|\t900093498|\t6.70%|\n",
    "|geo3|\t344163677|\t-209593341|\t840262477|\t10.70%|\n",
    "\t   \n",
    "      - в регионах 1 и 3 риск убытков составил более 2.5%, поэтому для разработки они не рассматриваются.     \n",
    "      - наибольшая средняя прибыль выявлена в регионе 2 -  488403884\tруб.\n",
    "**Таким образом, лучшим регионом для разработки является регион 2.**"
   ]
  }
 ],
 "metadata": {
  "ExecuteTimeLog": [
   {
    "duration": 37369,
    "start_time": "2022-11-19T18:15:09.681Z"
   },
   {
    "duration": 5710,
    "start_time": "2022-11-19T18:19:45.893Z"
   },
   {
    "duration": 5894,
    "start_time": "2022-11-19T18:20:12.072Z"
   },
   {
    "duration": 5831,
    "start_time": "2022-11-19T18:21:37.129Z"
   },
   {
    "duration": 76,
    "start_time": "2022-11-19T18:22:04.772Z"
   },
   {
    "duration": 1879,
    "start_time": "2022-11-19T18:23:22.704Z"
   },
   {
    "duration": 17,
    "start_time": "2022-11-19T18:23:41.471Z"
   },
   {
    "duration": 19,
    "start_time": "2022-11-19T18:24:00.551Z"
   },
   {
    "duration": 82,
    "start_time": "2022-11-19T18:34:52.897Z"
   },
   {
    "duration": 77,
    "start_time": "2022-11-19T18:34:58.697Z"
   },
   {
    "duration": 4,
    "start_time": "2022-11-19T18:35:24.602Z"
   },
   {
    "duration": 62,
    "start_time": "2022-11-19T18:35:46.715Z"
   },
   {
    "duration": 4,
    "start_time": "2022-11-19T18:36:09.313Z"
   },
   {
    "duration": 73,
    "start_time": "2022-11-19T18:36:13.343Z"
   },
   {
    "duration": 5,
    "start_time": "2022-11-19T18:36:26.502Z"
   },
   {
    "duration": 52,
    "start_time": "2022-11-19T18:36:30.496Z"
   },
   {
    "duration": 5,
    "start_time": "2022-11-19T18:38:10.031Z"
   },
   {
    "duration": 49,
    "start_time": "2022-11-19T18:38:12.537Z"
   },
   {
    "duration": 4,
    "start_time": "2022-11-19T18:38:23.519Z"
   },
   {
    "duration": 47,
    "start_time": "2022-11-19T18:38:26.128Z"
   },
   {
    "duration": 4,
    "start_time": "2022-11-19T18:38:56.713Z"
   },
   {
    "duration": 4,
    "start_time": "2022-11-19T18:39:00.575Z"
   },
   {
    "duration": 62,
    "start_time": "2022-11-19T18:39:06.468Z"
   },
   {
    "duration": 4,
    "start_time": "2022-11-19T18:39:23.760Z"
   },
   {
    "duration": 61,
    "start_time": "2022-11-19T18:39:26.646Z"
   },
   {
    "duration": 4,
    "start_time": "2022-11-19T18:41:09.258Z"
   },
   {
    "duration": 1207,
    "start_time": "2022-11-19T18:41:12.746Z"
   },
   {
    "duration": 5,
    "start_time": "2022-11-19T18:42:11.408Z"
   },
   {
    "duration": 1133,
    "start_time": "2022-11-19T18:42:14.927Z"
   },
   {
    "duration": 3,
    "start_time": "2022-11-19T18:45:01.291Z"
   },
   {
    "duration": 1657,
    "start_time": "2022-11-19T18:45:03.894Z"
   },
   {
    "duration": 10,
    "start_time": "2022-11-19T18:46:20.666Z"
   },
   {
    "duration": 4,
    "start_time": "2022-11-19T18:46:25.095Z"
   },
   {
    "duration": 4,
    "start_time": "2022-11-19T18:47:06.185Z"
   },
   {
    "duration": 65,
    "start_time": "2022-11-19T18:47:09.178Z"
   },
   {
    "duration": 5,
    "start_time": "2022-11-19T18:47:22.598Z"
   },
   {
    "duration": 513,
    "start_time": "2022-11-19T18:47:25.199Z"
   },
   {
    "duration": 4,
    "start_time": "2022-11-19T18:48:21.565Z"
   },
   {
    "duration": 244,
    "start_time": "2022-11-19T18:48:24.368Z"
   },
   {
    "duration": 3,
    "start_time": "2022-11-19T18:48:38.453Z"
   },
   {
    "duration": 255,
    "start_time": "2022-11-19T18:48:40.856Z"
   },
   {
    "duration": 4,
    "start_time": "2022-11-19T18:49:51.914Z"
   },
   {
    "duration": 237,
    "start_time": "2022-11-19T18:49:54.434Z"
   },
   {
    "duration": 5,
    "start_time": "2022-11-19T18:50:43.055Z"
   },
   {
    "duration": 256,
    "start_time": "2022-11-19T18:50:45.944Z"
   },
   {
    "duration": 4,
    "start_time": "2022-11-19T18:51:08.452Z"
   },
   {
    "duration": 235,
    "start_time": "2022-11-19T18:51:13.776Z"
   },
   {
    "duration": 5,
    "start_time": "2022-11-19T18:52:29.651Z"
   },
   {
    "duration": 62,
    "start_time": "2022-11-19T18:52:39.224Z"
   },
   {
    "duration": 4,
    "start_time": "2022-11-19T18:52:56.064Z"
   },
   {
    "duration": 249,
    "start_time": "2022-11-19T18:52:59.401Z"
   },
   {
    "duration": 4,
    "start_time": "2022-11-19T18:53:20.567Z"
   },
   {
    "duration": 243,
    "start_time": "2022-11-19T18:53:23.763Z"
   },
   {
    "duration": 4,
    "start_time": "2022-11-19T18:53:45.213Z"
   },
   {
    "duration": 393,
    "start_time": "2022-11-19T18:53:47.983Z"
   },
   {
    "duration": 5,
    "start_time": "2022-11-19T19:00:31.339Z"
   },
   {
    "duration": 552,
    "start_time": "2022-11-19T19:00:34.960Z"
   },
   {
    "duration": 4,
    "start_time": "2022-11-19T19:01:24.278Z"
   },
   {
    "duration": 611,
    "start_time": "2022-11-19T19:01:26.782Z"
   },
   {
    "duration": 4,
    "start_time": "2022-11-19T19:01:53.760Z"
   },
   {
    "duration": 3,
    "start_time": "2022-11-19T19:02:02.167Z"
   },
   {
    "duration": 3,
    "start_time": "2022-11-19T19:02:35.660Z"
   },
   {
    "duration": 459,
    "start_time": "2022-11-19T19:02:38.700Z"
   },
   {
    "duration": 3,
    "start_time": "2022-11-19T19:03:09.040Z"
   },
   {
    "duration": 459,
    "start_time": "2022-11-19T19:03:11.842Z"
   },
   {
    "duration": 4,
    "start_time": "2022-11-19T19:03:28.524Z"
   },
   {
    "duration": 489,
    "start_time": "2022-11-19T19:03:31.091Z"
   },
   {
    "duration": 6,
    "start_time": "2022-11-19T19:07:12.953Z"
   },
   {
    "duration": 707,
    "start_time": "2022-11-19T19:07:16.100Z"
   },
   {
    "duration": 3,
    "start_time": "2022-11-19T19:08:36.462Z"
   },
   {
    "duration": 513,
    "start_time": "2022-11-19T19:08:41.425Z"
   },
   {
    "duration": 3,
    "start_time": "2022-11-19T19:09:19.975Z"
   },
   {
    "duration": 505,
    "start_time": "2022-11-19T19:09:22.588Z"
   },
   {
    "duration": 534,
    "start_time": "2022-11-19T19:10:24.335Z"
   },
   {
    "duration": 530,
    "start_time": "2022-11-19T19:10:54.882Z"
   },
   {
    "duration": 552,
    "start_time": "2022-11-19T19:12:26.446Z"
   },
   {
    "duration": 4944,
    "start_time": "2022-11-19T19:54:00.921Z"
   },
   {
    "duration": 4798,
    "start_time": "2022-11-19T20:01:21.713Z"
   },
   {
    "duration": 5,
    "start_time": "2022-11-19T20:11:01.747Z"
   },
   {
    "duration": 4,
    "start_time": "2022-11-19T20:13:45.923Z"
   },
   {
    "duration": 20,
    "start_time": "2022-11-19T20:14:06.109Z"
   },
   {
    "duration": 4931,
    "start_time": "2022-11-19T20:14:29.410Z"
   },
   {
    "duration": 5038,
    "start_time": "2022-11-19T20:15:10.871Z"
   },
   {
    "duration": 4823,
    "start_time": "2022-11-19T20:15:30.618Z"
   },
   {
    "duration": 46,
    "start_time": "2022-11-19T20:15:52.022Z"
   },
   {
    "duration": 4,
    "start_time": "2022-11-19T20:17:06.285Z"
   },
   {
    "duration": 91,
    "start_time": "2022-11-19T20:17:09.760Z"
   },
   {
    "duration": 158,
    "start_time": "2022-11-19T20:19:15.043Z"
   },
   {
    "duration": 20,
    "start_time": "2022-11-19T20:19:17.935Z"
   },
   {
    "duration": 4,
    "start_time": "2022-11-19T20:20:41.895Z"
   },
   {
    "duration": 29,
    "start_time": "2022-11-19T20:20:44.480Z"
   },
   {
    "duration": 18,
    "start_time": "2022-11-19T20:20:52.511Z"
   },
   {
    "duration": 20,
    "start_time": "2022-11-19T20:21:22.171Z"
   },
   {
    "duration": 5,
    "start_time": "2022-11-19T20:21:40.488Z"
   },
   {
    "duration": 20,
    "start_time": "2022-11-19T20:21:43.332Z"
   },
   {
    "duration": 27,
    "start_time": "2022-11-19T20:21:48.546Z"
   },
   {
    "duration": 4,
    "start_time": "2022-11-19T20:22:49.987Z"
   },
   {
    "duration": 22,
    "start_time": "2022-11-19T20:22:52.453Z"
   },
   {
    "duration": 6451,
    "start_time": "2022-11-19T20:23:03.531Z"
   },
   {
    "duration": 525,
    "start_time": "2022-11-19T20:23:09.987Z"
   },
   {
    "duration": 6,
    "start_time": "2022-11-19T20:23:10.514Z"
   },
   {
    "duration": 630,
    "start_time": "2022-11-19T20:23:10.522Z"
   },
   {
    "duration": 595,
    "start_time": "2022-11-19T20:23:11.155Z"
   },
   {
    "duration": 582,
    "start_time": "2022-11-19T20:23:11.752Z"
   },
   {
    "duration": 5,
    "start_time": "2022-11-19T20:23:12.336Z"
   },
   {
    "duration": 31,
    "start_time": "2022-11-19T20:23:12.342Z"
   },
   {
    "duration": 35,
    "start_time": "2022-11-19T20:23:19.852Z"
   },
   {
    "duration": 62,
    "start_time": "2022-11-19T20:27:19.227Z"
   },
   {
    "duration": 33185,
    "start_time": "2022-11-23T12:24:08.504Z"
   },
   {
    "duration": 377,
    "start_time": "2022-11-23T12:24:41.691Z"
   },
   {
    "duration": 5,
    "start_time": "2022-11-23T12:24:42.069Z"
   },
   {
    "duration": 582,
    "start_time": "2022-11-23T12:24:42.076Z"
   },
   {
    "duration": 617,
    "start_time": "2022-11-23T12:24:42.659Z"
   },
   {
    "duration": 572,
    "start_time": "2022-11-23T12:24:43.278Z"
   },
   {
    "duration": 4,
    "start_time": "2022-11-23T12:24:43.852Z"
   },
   {
    "duration": 83,
    "start_time": "2022-11-23T12:24:43.857Z"
   },
   {
    "duration": 4,
    "start_time": "2022-11-23T12:24:43.942Z"
   },
   {
    "duration": 575,
    "start_time": "2022-11-23T12:24:43.948Z"
   },
   {
    "duration": 697,
    "start_time": "2022-11-23T12:24:44.528Z"
   },
   {
    "duration": 599,
    "start_time": "2022-11-23T12:24:45.227Z"
   },
   {
    "duration": 3,
    "start_time": "2022-11-23T12:24:45.828Z"
   },
   {
    "duration": 100,
    "start_time": "2022-11-23T12:24:45.833Z"
   },
   {
    "duration": 16,
    "start_time": "2022-11-23T12:24:45.935Z"
   },
   {
    "duration": 13,
    "start_time": "2022-11-23T12:24:45.953Z"
   },
   {
    "duration": 61,
    "start_time": "2022-11-23T12:24:45.967Z"
   },
   {
    "duration": 9,
    "start_time": "2022-11-23T12:24:46.030Z"
   },
   {
    "duration": 5,
    "start_time": "2022-11-23T12:24:46.041Z"
   },
   {
    "duration": 957,
    "start_time": "2022-11-23T12:24:46.048Z"
   },
   {
    "duration": 858,
    "start_time": "2022-11-23T12:24:47.007Z"
   },
   {
    "duration": 856,
    "start_time": "2022-11-23T12:24:47.867Z"
   },
   {
    "duration": 19,
    "start_time": "2022-11-23T12:24:48.725Z"
   },
   {
    "duration": 6,
    "start_time": "2022-11-23T13:30:57.028Z"
   },
   {
    "duration": 128,
    "start_time": "2022-11-23T13:31:08.399Z"
   },
   {
    "duration": 5868,
    "start_time": "2022-11-23T13:34:21.120Z"
   },
   {
    "duration": 368,
    "start_time": "2022-11-23T13:34:26.991Z"
   },
   {
    "duration": 4,
    "start_time": "2022-11-23T13:34:27.361Z"
   },
   {
    "duration": 660,
    "start_time": "2022-11-23T13:34:27.367Z"
   },
   {
    "duration": 559,
    "start_time": "2022-11-23T13:34:28.029Z"
   },
   {
    "duration": 568,
    "start_time": "2022-11-23T13:34:28.590Z"
   },
   {
    "duration": 4,
    "start_time": "2022-11-23T13:34:29.160Z"
   },
   {
    "duration": 77,
    "start_time": "2022-11-23T13:34:29.166Z"
   },
   {
    "duration": 4,
    "start_time": "2022-11-23T13:34:29.245Z"
   },
   {
    "duration": 478,
    "start_time": "2022-11-23T13:34:29.252Z"
   },
   {
    "duration": 703,
    "start_time": "2022-11-23T13:34:29.822Z"
   },
   {
    "duration": 697,
    "start_time": "2022-11-23T13:34:30.528Z"
   },
   {
    "duration": 95,
    "start_time": "2022-11-23T13:34:31.227Z"
   },
   {
    "duration": 12,
    "start_time": "2022-11-23T13:34:31.324Z"
   },
   {
    "duration": 88,
    "start_time": "2022-11-23T13:34:31.338Z"
   },
   {
    "duration": 19,
    "start_time": "2022-11-23T13:34:31.428Z"
   },
   {
    "duration": 8,
    "start_time": "2022-11-23T13:34:31.449Z"
   },
   {
    "duration": 13,
    "start_time": "2022-11-23T13:34:31.458Z"
   },
   {
    "duration": 8,
    "start_time": "2022-11-23T13:34:31.473Z"
   },
   {
    "duration": 924,
    "start_time": "2022-11-23T13:34:31.483Z"
   },
   {
    "duration": 857,
    "start_time": "2022-11-23T13:34:32.409Z"
   },
   {
    "duration": 917,
    "start_time": "2022-11-23T13:34:33.268Z"
   },
   {
    "duration": 18,
    "start_time": "2022-11-23T13:34:34.188Z"
   },
   {
    "duration": 76,
    "start_time": "2022-11-24T16:48:49.180Z"
   },
   {
    "duration": 4,
    "start_time": "2022-11-24T16:54:19.314Z"
   },
   {
    "duration": 40,
    "start_time": "2022-11-24T16:54:23.448Z"
   },
   {
    "duration": 1431,
    "start_time": "2022-11-24T16:54:37.401Z"
   },
   {
    "duration": 2770,
    "start_time": "2022-11-24T16:54:38.833Z"
   },
   {
    "duration": 4,
    "start_time": "2022-11-24T16:54:41.605Z"
   },
   {
    "duration": 573,
    "start_time": "2022-11-24T16:54:41.611Z"
   },
   {
    "duration": 602,
    "start_time": "2022-11-24T16:54:42.186Z"
   },
   {
    "duration": 592,
    "start_time": "2022-11-24T16:54:42.789Z"
   },
   {
    "duration": 4,
    "start_time": "2022-11-24T16:54:43.382Z"
   },
   {
    "duration": 84,
    "start_time": "2022-11-24T16:54:43.387Z"
   },
   {
    "duration": 5,
    "start_time": "2022-11-24T16:54:43.472Z"
   },
   {
    "duration": 473,
    "start_time": "2022-11-24T16:54:43.479Z"
   },
   {
    "duration": 599,
    "start_time": "2022-11-24T16:54:43.954Z"
   },
   {
    "duration": 409,
    "start_time": "2022-11-24T16:54:44.555Z"
   },
   {
    "duration": 93,
    "start_time": "2022-11-24T16:54:45.058Z"
   },
   {
    "duration": 37,
    "start_time": "2022-11-24T16:54:45.153Z"
   },
   {
    "duration": 46,
    "start_time": "2022-11-24T16:54:45.193Z"
   },
   {
    "duration": 55,
    "start_time": "2022-11-24T16:54:45.241Z"
   },
   {
    "duration": 22,
    "start_time": "2022-11-24T16:54:45.298Z"
   },
   {
    "duration": 36,
    "start_time": "2022-11-24T16:54:45.322Z"
   },
   {
    "duration": 28,
    "start_time": "2022-11-24T16:54:45.360Z"
   },
   {
    "duration": 673,
    "start_time": "2022-11-24T16:54:45.389Z"
   },
   {
    "duration": 644,
    "start_time": "2022-11-24T16:54:46.064Z"
   },
   {
    "duration": 627,
    "start_time": "2022-11-24T16:54:46.710Z"
   },
   {
    "duration": 23,
    "start_time": "2022-11-24T16:54:47.339Z"
   },
   {
    "duration": 4,
    "start_time": "2022-11-24T16:57:35.932Z"
   },
   {
    "duration": 518,
    "start_time": "2022-11-24T16:57:40.215Z"
   },
   {
    "duration": 87,
    "start_time": "2022-11-24T17:00:02.828Z"
   },
   {
    "duration": 80,
    "start_time": "2022-11-24T17:00:10.248Z"
   },
   {
    "duration": 4,
    "start_time": "2022-11-24T17:00:17.439Z"
   },
   {
    "duration": 236,
    "start_time": "2022-11-24T17:00:20.951Z"
   },
   {
    "duration": 4,
    "start_time": "2022-11-24T17:00:53.769Z"
   },
   {
    "duration": 543,
    "start_time": "2022-11-24T17:00:56.973Z"
   },
   {
    "duration": 4,
    "start_time": "2022-11-24T17:02:25.707Z"
   },
   {
    "duration": 563,
    "start_time": "2022-11-24T17:02:30.662Z"
   },
   {
    "duration": 4,
    "start_time": "2022-11-24T17:04:04.656Z"
   },
   {
    "duration": 581,
    "start_time": "2022-11-24T17:04:08.434Z"
   },
   {
    "duration": 4,
    "start_time": "2022-11-24T17:04:32.912Z"
   },
   {
    "duration": 619,
    "start_time": "2022-11-24T17:04:35.863Z"
   },
   {
    "duration": 4,
    "start_time": "2022-11-24T17:05:27.013Z"
   },
   {
    "duration": 4,
    "start_time": "2022-11-24T17:06:01.999Z"
   },
   {
    "duration": 523,
    "start_time": "2022-11-24T17:06:05.836Z"
   },
   {
    "duration": 4,
    "start_time": "2022-11-24T17:06:18.653Z"
   },
   {
    "duration": 537,
    "start_time": "2022-11-24T17:06:21.976Z"
   },
   {
    "duration": 4,
    "start_time": "2022-11-24T17:10:28.292Z"
   },
   {
    "duration": 578,
    "start_time": "2022-11-24T17:10:31.988Z"
   },
   {
    "duration": 4,
    "start_time": "2022-11-24T17:11:14.045Z"
   },
   {
    "duration": 521,
    "start_time": "2022-11-24T17:11:16.785Z"
   },
   {
    "duration": 599,
    "start_time": "2022-11-24T17:29:02.964Z"
   },
   {
    "duration": 528,
    "start_time": "2022-11-24T17:29:13.274Z"
   },
   {
    "duration": 87,
    "start_time": "2022-11-24T17:31:35.110Z"
   },
   {
    "duration": 4,
    "start_time": "2022-11-24T18:21:02.282Z"
   },
   {
    "duration": 4,
    "start_time": "2022-11-24T18:21:39.503Z"
   },
   {
    "duration": 16,
    "start_time": "2022-11-24T18:21:44.759Z"
   },
   {
    "duration": 4,
    "start_time": "2022-11-24T18:21:58.192Z"
   },
   {
    "duration": 169,
    "start_time": "2022-11-24T18:22:01.985Z"
   },
   {
    "duration": 5,
    "start_time": "2022-11-24T18:22:19.052Z"
   },
   {
    "duration": 17,
    "start_time": "2022-11-24T18:22:22.665Z"
   },
   {
    "duration": 4,
    "start_time": "2022-11-24T18:24:07.609Z"
   },
   {
    "duration": 34,
    "start_time": "2022-11-24T18:24:10.600Z"
   },
   {
    "duration": 4,
    "start_time": "2022-11-24T18:24:28.997Z"
   },
   {
    "duration": 33,
    "start_time": "2022-11-24T18:24:33.921Z"
   },
   {
    "duration": 4,
    "start_time": "2022-11-24T18:24:53.085Z"
   },
   {
    "duration": 32,
    "start_time": "2022-11-24T18:24:55.909Z"
   },
   {
    "duration": 4,
    "start_time": "2022-11-24T18:25:21.212Z"
   },
   {
    "duration": 23,
    "start_time": "2022-11-24T18:25:28.736Z"
   },
   {
    "duration": 4,
    "start_time": "2022-11-24T18:26:44.452Z"
   },
   {
    "duration": 117,
    "start_time": "2022-11-24T18:26:47.544Z"
   },
   {
    "duration": 7,
    "start_time": "2022-11-24T18:28:02.949Z"
   },
   {
    "duration": 107,
    "start_time": "2022-11-24T18:28:05.486Z"
   },
   {
    "duration": 3,
    "start_time": "2022-11-24T18:31:39.258Z"
   },
   {
    "duration": 109,
    "start_time": "2022-11-24T18:31:43.339Z"
   },
   {
    "duration": 1293,
    "start_time": "2022-11-24T18:57:27.332Z"
   },
   {
    "duration": 369,
    "start_time": "2022-11-24T18:57:28.627Z"
   },
   {
    "duration": 4,
    "start_time": "2022-11-24T18:57:28.998Z"
   },
   {
    "duration": 677,
    "start_time": "2022-11-24T18:57:29.005Z"
   },
   {
    "duration": 639,
    "start_time": "2022-11-24T18:57:29.684Z"
   },
   {
    "duration": 711,
    "start_time": "2022-11-24T18:57:30.324Z"
   },
   {
    "duration": 4,
    "start_time": "2022-11-24T18:57:31.037Z"
   },
   {
    "duration": 138,
    "start_time": "2022-11-24T18:57:31.042Z"
   },
   {
    "duration": 4,
    "start_time": "2022-11-24T18:57:31.181Z"
   },
   {
    "duration": 368,
    "start_time": "2022-11-24T18:57:31.187Z"
   },
   {
    "duration": 595,
    "start_time": "2022-11-24T18:57:31.558Z"
   },
   {
    "duration": 596,
    "start_time": "2022-11-24T18:57:32.158Z"
   },
   {
    "duration": 4,
    "start_time": "2022-11-24T18:57:32.755Z"
   },
   {
    "duration": 92,
    "start_time": "2022-11-24T18:57:32.762Z"
   },
   {
    "duration": 15,
    "start_time": "2022-11-24T18:57:32.856Z"
   },
   {
    "duration": 16,
    "start_time": "2022-11-24T18:57:32.872Z"
   },
   {
    "duration": 6,
    "start_time": "2022-11-24T18:57:32.890Z"
   },
   {
    "duration": 8,
    "start_time": "2022-11-24T18:57:32.898Z"
   },
   {
    "duration": 5,
    "start_time": "2022-11-24T18:57:32.908Z"
   },
   {
    "duration": 653,
    "start_time": "2022-11-24T18:57:32.914Z"
   },
   {
    "duration": 622,
    "start_time": "2022-11-24T18:57:33.568Z"
   },
   {
    "duration": 719,
    "start_time": "2022-11-24T18:57:34.191Z"
   },
   {
    "duration": 51,
    "start_time": "2022-11-24T18:57:34.912Z"
   },
   {
    "duration": 5,
    "start_time": "2022-11-24T19:02:17.711Z"
   },
   {
    "duration": 102,
    "start_time": "2022-11-24T19:02:22.041Z"
   },
   {
    "duration": 4,
    "start_time": "2022-11-24T19:02:33.086Z"
   },
   {
    "duration": 5,
    "start_time": "2022-11-24T19:02:42.166Z"
   },
   {
    "duration": 12,
    "start_time": "2022-11-24T19:02:45.580Z"
   },
   {
    "duration": 5,
    "start_time": "2022-11-24T19:02:57.426Z"
   },
   {
    "duration": 10,
    "start_time": "2022-11-24T19:03:00.338Z"
   },
   {
    "duration": 10,
    "start_time": "2022-11-24T19:03:50.984Z"
   },
   {
    "duration": 695,
    "start_time": "2022-11-24T19:03:54.670Z"
   },
   {
    "duration": 5,
    "start_time": "2022-11-24T19:04:31.561Z"
   },
   {
    "duration": 621,
    "start_time": "2022-11-24T19:04:35.555Z"
   },
   {
    "duration": 621,
    "start_time": "2022-11-24T19:04:47.734Z"
   },
   {
    "duration": 611,
    "start_time": "2022-11-24T19:04:51.398Z"
   },
   {
    "duration": 6,
    "start_time": "2022-11-24T19:32:48.474Z"
   },
   {
    "duration": 9,
    "start_time": "2022-11-24T19:32:58.816Z"
   },
   {
    "duration": 13,
    "start_time": "2022-11-24T19:33:10.930Z"
   },
   {
    "duration": 10,
    "start_time": "2022-11-24T19:33:18.092Z"
   },
   {
    "duration": 5,
    "start_time": "2022-11-24T19:33:23.779Z"
   },
   {
    "duration": 1126,
    "start_time": "2022-11-24T19:33:28.743Z"
   },
   {
    "duration": 1086,
    "start_time": "2022-11-24T19:33:36.497Z"
   },
   {
    "duration": 1094,
    "start_time": "2022-11-24T19:33:40.579Z"
   },
   {
    "duration": 19,
    "start_time": "2022-11-24T19:39:07.459Z"
   },
   {
    "duration": 1241,
    "start_time": "2022-11-24T19:51:11.192Z"
   },
   {
    "duration": 389,
    "start_time": "2022-11-24T19:51:12.435Z"
   },
   {
    "duration": 4,
    "start_time": "2022-11-24T19:51:12.826Z"
   },
   {
    "duration": 553,
    "start_time": "2022-11-24T19:51:12.832Z"
   },
   {
    "duration": 540,
    "start_time": "2022-11-24T19:51:13.386Z"
   },
   {
    "duration": 632,
    "start_time": "2022-11-24T19:51:13.927Z"
   },
   {
    "duration": 4,
    "start_time": "2022-11-24T19:51:14.561Z"
   },
   {
    "duration": 133,
    "start_time": "2022-11-24T19:51:14.567Z"
   },
   {
    "duration": 4,
    "start_time": "2022-11-24T19:51:14.701Z"
   },
   {
    "duration": 346,
    "start_time": "2022-11-24T19:51:14.707Z"
   },
   {
    "duration": 597,
    "start_time": "2022-11-24T19:51:15.055Z"
   },
   {
    "duration": 596,
    "start_time": "2022-11-24T19:51:15.658Z"
   },
   {
    "duration": 94,
    "start_time": "2022-11-24T19:51:16.259Z"
   },
   {
    "duration": 20,
    "start_time": "2022-11-24T19:51:16.354Z"
   },
   {
    "duration": 19,
    "start_time": "2022-11-24T19:51:16.375Z"
   },
   {
    "duration": 23,
    "start_time": "2022-11-24T19:51:16.396Z"
   },
   {
    "duration": 30,
    "start_time": "2022-11-24T19:51:16.420Z"
   },
   {
    "duration": 11,
    "start_time": "2022-11-24T19:51:16.452Z"
   },
   {
    "duration": 21,
    "start_time": "2022-11-24T19:51:16.465Z"
   },
   {
    "duration": 1116,
    "start_time": "2022-11-24T19:51:16.488Z"
   },
   {
    "duration": 1131,
    "start_time": "2022-11-24T19:51:17.605Z"
   },
   {
    "duration": 1215,
    "start_time": "2022-11-24T19:51:18.739Z"
   },
   {
    "duration": 19,
    "start_time": "2022-11-24T19:51:19.956Z"
   },
   {
    "duration": 1286,
    "start_time": "2022-11-24T19:52:53.979Z"
   },
   {
    "duration": 355,
    "start_time": "2022-11-24T19:52:55.267Z"
   },
   {
    "duration": 4,
    "start_time": "2022-11-24T19:52:55.624Z"
   },
   {
    "duration": 565,
    "start_time": "2022-11-24T19:52:55.630Z"
   },
   {
    "duration": 551,
    "start_time": "2022-11-24T19:52:56.196Z"
   },
   {
    "duration": 643,
    "start_time": "2022-11-24T19:52:56.748Z"
   },
   {
    "duration": 3,
    "start_time": "2022-11-24T19:52:57.393Z"
   },
   {
    "duration": 139,
    "start_time": "2022-11-24T19:52:57.398Z"
   },
   {
    "duration": 4,
    "start_time": "2022-11-24T19:52:57.538Z"
   },
   {
    "duration": 321,
    "start_time": "2022-11-24T19:52:57.544Z"
   },
   {
    "duration": 499,
    "start_time": "2022-11-24T19:52:57.955Z"
   },
   {
    "duration": 506,
    "start_time": "2022-11-24T19:52:58.458Z"
   },
   {
    "duration": 92,
    "start_time": "2022-11-24T19:52:58.966Z"
   },
   {
    "duration": 132,
    "start_time": "2022-11-24T19:52:59.061Z"
   },
   {
    "duration": 27,
    "start_time": "2022-11-24T19:52:59.195Z"
   },
   {
    "duration": 44,
    "start_time": "2022-11-24T19:52:59.224Z"
   },
   {
    "duration": 46,
    "start_time": "2022-11-24T19:52:59.270Z"
   },
   {
    "duration": 24,
    "start_time": "2022-11-24T19:52:59.318Z"
   },
   {
    "duration": 29,
    "start_time": "2022-11-24T19:52:59.344Z"
   },
   {
    "duration": 1088,
    "start_time": "2022-11-24T19:52:59.374Z"
   },
   {
    "duration": 1072,
    "start_time": "2022-11-24T19:53:00.463Z"
   },
   {
    "duration": 1163,
    "start_time": "2022-11-24T19:53:01.536Z"
   },
   {
    "duration": 16,
    "start_time": "2022-11-24T19:53:02.700Z"
   },
   {
    "duration": 1434,
    "start_time": "2022-11-25T15:04:15.568Z"
   },
   {
    "duration": 1807,
    "start_time": "2022-11-25T15:04:17.004Z"
   },
   {
    "duration": 4,
    "start_time": "2022-11-25T15:04:18.813Z"
   },
   {
    "duration": 649,
    "start_time": "2022-11-25T15:04:18.820Z"
   },
   {
    "duration": 588,
    "start_time": "2022-11-25T15:04:19.470Z"
   },
   {
    "duration": 674,
    "start_time": "2022-11-25T15:04:20.060Z"
   },
   {
    "duration": 4,
    "start_time": "2022-11-25T15:04:20.737Z"
   },
   {
    "duration": 130,
    "start_time": "2022-11-25T15:04:20.743Z"
   },
   {
    "duration": 4,
    "start_time": "2022-11-25T15:04:20.875Z"
   },
   {
    "duration": 443,
    "start_time": "2022-11-25T15:04:20.881Z"
   },
   {
    "duration": 505,
    "start_time": "2022-11-25T15:04:21.325Z"
   },
   {
    "duration": 588,
    "start_time": "2022-11-25T15:04:21.835Z"
   },
   {
    "duration": 94,
    "start_time": "2022-11-25T15:04:22.429Z"
   },
   {
    "duration": 6,
    "start_time": "2022-11-25T15:04:22.525Z"
   },
   {
    "duration": 12,
    "start_time": "2022-11-25T15:04:22.533Z"
   },
   {
    "duration": 14,
    "start_time": "2022-11-25T15:04:22.548Z"
   },
   {
    "duration": 15,
    "start_time": "2022-11-25T15:04:22.564Z"
   },
   {
    "duration": 11,
    "start_time": "2022-11-25T15:04:22.581Z"
   },
   {
    "duration": 8,
    "start_time": "2022-11-25T15:04:22.594Z"
   },
   {
    "duration": 1185,
    "start_time": "2022-11-25T15:04:22.623Z"
   },
   {
    "duration": 1212,
    "start_time": "2022-11-25T15:04:23.810Z"
   },
   {
    "duration": 1140,
    "start_time": "2022-11-25T15:04:25.023Z"
   },
   {
    "duration": 16,
    "start_time": "2022-11-25T15:04:26.165Z"
   }
  ],
  "kernelspec": {
   "display_name": "Python 3 (ipykernel)",
   "language": "python",
   "name": "python3"
  },
  "language_info": {
   "codemirror_mode": {
    "name": "ipython",
    "version": 3
   },
   "file_extension": ".py",
   "mimetype": "text/x-python",
   "name": "python",
   "nbconvert_exporter": "python",
   "pygments_lexer": "ipython3",
   "version": "3.9.12"
  },
  "toc": {
   "base_numbering": 1,
   "nav_menu": {},
   "number_sections": true,
   "sideBar": true,
   "skip_h1_title": true,
   "title_cell": "Contents",
   "title_sidebar": "Contents",
   "toc_cell": true,
   "toc_position": {
    "height": "calc(100% - 180px)",
    "left": "10px",
    "top": "150px",
    "width": "165px"
   },
   "toc_section_display": true,
   "toc_window_display": true
  }
 },
 "nbformat": 4,
 "nbformat_minor": 2
}
