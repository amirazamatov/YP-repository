{
 "cells": [
  {
   "cell_type": "markdown",
   "metadata": {},
   "source": [
    "# Исследование объявлений о продаже квартир\n",
    "\n",
    "В вашем распоряжении данные сервиса Яндекс.Недвижимость — архив объявлений о продаже квартир в Санкт-Петербурге и соседних населённых пунктов за несколько лет. Нужно научиться определять рыночную стоимость объектов недвижимости. Ваша задача — установить параметры. Это позволит построить автоматизированную систему: она отследит аномалии и мошенническую деятельность. \n",
    "\n",
    "По каждой квартире на продажу доступны два вида данных. Первые вписаны пользователем, вторые — получены автоматически на основе картографических данных. Например, расстояние до центра, аэропорта, ближайшего парка и водоёма. "
   ]
  },
  {
   "cell_type": "markdown",
   "metadata": {},
   "source": [
    "Цель нашего исследования - установить параметры, которые помогут определить рыночную цену квартиры в автоматизированной системе \n"
   ]
  },
  {
   "cell_type": "markdown",
   "metadata": {},
   "source": [
    "**Ход исследования:**\n",
    "* оценить данные   \n",
    "* заполнить пропуски   \n",
    "* удалить дубликаты, выбросы   \n",
    "* оценить влияние показателей на стоимость квартиры\n",
    "* выбрать лучшие параметры для модели"
   ]
  },
  {
   "cell_type": "markdown",
   "metadata": {},
   "source": [
    "### Знакомство с данными"
   ]
  },
  {
   "cell_type": "code",
   "execution_count": 1,
   "metadata": {},
   "outputs": [],
   "source": [
    "#загружаем необходимые библиотеки\n",
    "import pandas as pd"
   ]
  },
  {
   "cell_type": "code",
   "execution_count": 2,
   "metadata": {},
   "outputs": [],
   "source": [
    "#загружаем датасет\n",
    "try:\n",
    "    data = pd.read_csv('/datasets/real_estate_data.csv',  sep=\"\\t\")\n",
    "except:\n",
    "    data = pd.read_csv('/Users/amirk/Downloads/real_estate_data.csv',  sep=\"\\t\")"
   ]
  },
  {
   "cell_type": "code",
   "execution_count": 3,
   "metadata": {},
   "outputs": [
    {
     "data": {
      "text/html": [
       "<div>\n",
       "<style scoped>\n",
       "    .dataframe tbody tr th:only-of-type {\n",
       "        vertical-align: middle;\n",
       "    }\n",
       "\n",
       "    .dataframe tbody tr th {\n",
       "        vertical-align: top;\n",
       "    }\n",
       "\n",
       "    .dataframe thead th {\n",
       "        text-align: right;\n",
       "    }\n",
       "</style>\n",
       "<table border=\"1\" class=\"dataframe\">\n",
       "  <thead>\n",
       "    <tr style=\"text-align: right;\">\n",
       "      <th></th>\n",
       "      <th>total_images</th>\n",
       "      <th>last_price</th>\n",
       "      <th>total_area</th>\n",
       "      <th>first_day_exposition</th>\n",
       "      <th>rooms</th>\n",
       "      <th>ceiling_height</th>\n",
       "      <th>floors_total</th>\n",
       "      <th>living_area</th>\n",
       "      <th>floor</th>\n",
       "      <th>is_apartment</th>\n",
       "      <th>...</th>\n",
       "      <th>kitchen_area</th>\n",
       "      <th>balcony</th>\n",
       "      <th>locality_name</th>\n",
       "      <th>airports_nearest</th>\n",
       "      <th>cityCenters_nearest</th>\n",
       "      <th>parks_around3000</th>\n",
       "      <th>parks_nearest</th>\n",
       "      <th>ponds_around3000</th>\n",
       "      <th>ponds_nearest</th>\n",
       "      <th>days_exposition</th>\n",
       "    </tr>\n",
       "  </thead>\n",
       "  <tbody>\n",
       "    <tr>\n",
       "      <th>0</th>\n",
       "      <td>20</td>\n",
       "      <td>13000000.0</td>\n",
       "      <td>108.0</td>\n",
       "      <td>2019-03-07T00:00:00</td>\n",
       "      <td>3</td>\n",
       "      <td>2.70</td>\n",
       "      <td>16.0</td>\n",
       "      <td>51.0</td>\n",
       "      <td>8</td>\n",
       "      <td>NaN</td>\n",
       "      <td>...</td>\n",
       "      <td>25.0</td>\n",
       "      <td>NaN</td>\n",
       "      <td>Санкт-Петербург</td>\n",
       "      <td>18863.0</td>\n",
       "      <td>16028.0</td>\n",
       "      <td>1.0</td>\n",
       "      <td>482.0</td>\n",
       "      <td>2.0</td>\n",
       "      <td>755.0</td>\n",
       "      <td>NaN</td>\n",
       "    </tr>\n",
       "    <tr>\n",
       "      <th>1</th>\n",
       "      <td>7</td>\n",
       "      <td>3350000.0</td>\n",
       "      <td>40.4</td>\n",
       "      <td>2018-12-04T00:00:00</td>\n",
       "      <td>1</td>\n",
       "      <td>NaN</td>\n",
       "      <td>11.0</td>\n",
       "      <td>18.6</td>\n",
       "      <td>1</td>\n",
       "      <td>NaN</td>\n",
       "      <td>...</td>\n",
       "      <td>11.0</td>\n",
       "      <td>2.0</td>\n",
       "      <td>посёлок Шушары</td>\n",
       "      <td>12817.0</td>\n",
       "      <td>18603.0</td>\n",
       "      <td>0.0</td>\n",
       "      <td>NaN</td>\n",
       "      <td>0.0</td>\n",
       "      <td>NaN</td>\n",
       "      <td>81.0</td>\n",
       "    </tr>\n",
       "    <tr>\n",
       "      <th>2</th>\n",
       "      <td>10</td>\n",
       "      <td>5196000.0</td>\n",
       "      <td>56.0</td>\n",
       "      <td>2015-08-20T00:00:00</td>\n",
       "      <td>2</td>\n",
       "      <td>NaN</td>\n",
       "      <td>5.0</td>\n",
       "      <td>34.3</td>\n",
       "      <td>4</td>\n",
       "      <td>NaN</td>\n",
       "      <td>...</td>\n",
       "      <td>8.3</td>\n",
       "      <td>0.0</td>\n",
       "      <td>Санкт-Петербург</td>\n",
       "      <td>21741.0</td>\n",
       "      <td>13933.0</td>\n",
       "      <td>1.0</td>\n",
       "      <td>90.0</td>\n",
       "      <td>2.0</td>\n",
       "      <td>574.0</td>\n",
       "      <td>558.0</td>\n",
       "    </tr>\n",
       "    <tr>\n",
       "      <th>3</th>\n",
       "      <td>0</td>\n",
       "      <td>64900000.0</td>\n",
       "      <td>159.0</td>\n",
       "      <td>2015-07-24T00:00:00</td>\n",
       "      <td>3</td>\n",
       "      <td>NaN</td>\n",
       "      <td>14.0</td>\n",
       "      <td>NaN</td>\n",
       "      <td>9</td>\n",
       "      <td>NaN</td>\n",
       "      <td>...</td>\n",
       "      <td>NaN</td>\n",
       "      <td>0.0</td>\n",
       "      <td>Санкт-Петербург</td>\n",
       "      <td>28098.0</td>\n",
       "      <td>6800.0</td>\n",
       "      <td>2.0</td>\n",
       "      <td>84.0</td>\n",
       "      <td>3.0</td>\n",
       "      <td>234.0</td>\n",
       "      <td>424.0</td>\n",
       "    </tr>\n",
       "    <tr>\n",
       "      <th>4</th>\n",
       "      <td>2</td>\n",
       "      <td>10000000.0</td>\n",
       "      <td>100.0</td>\n",
       "      <td>2018-06-19T00:00:00</td>\n",
       "      <td>2</td>\n",
       "      <td>3.03</td>\n",
       "      <td>14.0</td>\n",
       "      <td>32.0</td>\n",
       "      <td>13</td>\n",
       "      <td>NaN</td>\n",
       "      <td>...</td>\n",
       "      <td>41.0</td>\n",
       "      <td>NaN</td>\n",
       "      <td>Санкт-Петербург</td>\n",
       "      <td>31856.0</td>\n",
       "      <td>8098.0</td>\n",
       "      <td>2.0</td>\n",
       "      <td>112.0</td>\n",
       "      <td>1.0</td>\n",
       "      <td>48.0</td>\n",
       "      <td>121.0</td>\n",
       "    </tr>\n",
       "  </tbody>\n",
       "</table>\n",
       "<p>5 rows × 22 columns</p>\n",
       "</div>"
      ],
      "text/plain": [
       "   total_images  last_price  total_area first_day_exposition  rooms  \\\n",
       "0            20  13000000.0       108.0  2019-03-07T00:00:00      3   \n",
       "1             7   3350000.0        40.4  2018-12-04T00:00:00      1   \n",
       "2            10   5196000.0        56.0  2015-08-20T00:00:00      2   \n",
       "3             0  64900000.0       159.0  2015-07-24T00:00:00      3   \n",
       "4             2  10000000.0       100.0  2018-06-19T00:00:00      2   \n",
       "\n",
       "   ceiling_height  floors_total  living_area  floor is_apartment  ...  \\\n",
       "0            2.70          16.0         51.0      8          NaN  ...   \n",
       "1             NaN          11.0         18.6      1          NaN  ...   \n",
       "2             NaN           5.0         34.3      4          NaN  ...   \n",
       "3             NaN          14.0          NaN      9          NaN  ...   \n",
       "4            3.03          14.0         32.0     13          NaN  ...   \n",
       "\n",
       "   kitchen_area  balcony    locality_name  airports_nearest  \\\n",
       "0          25.0      NaN  Санкт-Петербург           18863.0   \n",
       "1          11.0      2.0   посёлок Шушары           12817.0   \n",
       "2           8.3      0.0  Санкт-Петербург           21741.0   \n",
       "3           NaN      0.0  Санкт-Петербург           28098.0   \n",
       "4          41.0      NaN  Санкт-Петербург           31856.0   \n",
       "\n",
       "  cityCenters_nearest  parks_around3000  parks_nearest  ponds_around3000  \\\n",
       "0             16028.0               1.0          482.0               2.0   \n",
       "1             18603.0               0.0            NaN               0.0   \n",
       "2             13933.0               1.0           90.0               2.0   \n",
       "3              6800.0               2.0           84.0               3.0   \n",
       "4              8098.0               2.0          112.0               1.0   \n",
       "\n",
       "   ponds_nearest  days_exposition  \n",
       "0          755.0              NaN  \n",
       "1            NaN             81.0  \n",
       "2          574.0            558.0  \n",
       "3          234.0            424.0  \n",
       "4           48.0            121.0  \n",
       "\n",
       "[5 rows x 22 columns]"
      ]
     },
     "execution_count": 3,
     "metadata": {},
     "output_type": "execute_result"
    }
   ],
   "source": [
    "data.head()"
   ]
  },
  {
   "cell_type": "code",
   "execution_count": 4,
   "metadata": {},
   "outputs": [
    {
     "name": "stdout",
     "output_type": "stream",
     "text": [
      "<class 'pandas.core.frame.DataFrame'>\n",
      "RangeIndex: 23699 entries, 0 to 23698\n",
      "Data columns (total 22 columns):\n",
      " #   Column                Non-Null Count  Dtype  \n",
      "---  ------                --------------  -----  \n",
      " 0   total_images          23699 non-null  int64  \n",
      " 1   last_price            23699 non-null  float64\n",
      " 2   total_area            23699 non-null  float64\n",
      " 3   first_day_exposition  23699 non-null  object \n",
      " 4   rooms                 23699 non-null  int64  \n",
      " 5   ceiling_height        14504 non-null  float64\n",
      " 6   floors_total          23613 non-null  float64\n",
      " 7   living_area           21796 non-null  float64\n",
      " 8   floor                 23699 non-null  int64  \n",
      " 9   is_apartment          2775 non-null   object \n",
      " 10  studio                23699 non-null  bool   \n",
      " 11  open_plan             23699 non-null  bool   \n",
      " 12  kitchen_area          21421 non-null  float64\n",
      " 13  balcony               12180 non-null  float64\n",
      " 14  locality_name         23650 non-null  object \n",
      " 15  airports_nearest      18157 non-null  float64\n",
      " 16  cityCenters_nearest   18180 non-null  float64\n",
      " 17  parks_around3000      18181 non-null  float64\n",
      " 18  parks_nearest         8079 non-null   float64\n",
      " 19  ponds_around3000      18181 non-null  float64\n",
      " 20  ponds_nearest         9110 non-null   float64\n",
      " 21  days_exposition       20518 non-null  float64\n",
      "dtypes: bool(2), float64(14), int64(3), object(3)\n",
      "memory usage: 3.7+ MB\n"
     ]
    }
   ],
   "source": [
    "data.info()"
   ]
  },
  {
   "cell_type": "code",
   "execution_count": 5,
   "metadata": {
    "scrolled": false
   },
   "outputs": [
    {
     "data": {
      "image/png": "[encoded data removed]",
      "text/plain": [
       "<Figure size 2000x1400 with 20 Axes>"
      ]
     },
     "metadata": {},
     "output_type": "display_data"
    }
   ],
   "source": [
    "data.hist(figsize=(20, 14));"
   ]
  },
  {
   "cell_type": "markdown",
   "metadata": {},
   "source": [
    "**Первые впечатления о данных**\n",
    "* в некоторых столбцах очень много пропусков, возможно где-то они логичны\n",
    "* гистограммы на первый взгляд достаточно логично отражают данные"
   ]
  },
  {
   "cell_type": "markdown",
   "metadata": {},
   "source": [
    "### Предобработка данных"
   ]
  },
  {
   "cell_type": "markdown",
   "metadata": {},
   "source": [
    "#### Заполнение пропусков\n",
    "**Определим в каких столбцах есть пропуски.**"
   ]
  },
  {
   "cell_type": "code",
   "execution_count": 6,
   "metadata": {},
   "outputs": [
    {
     "data": {
      "text/plain": [
       "total_images                0\n",
       "last_price                  0\n",
       "total_area                  0\n",
       "first_day_exposition        0\n",
       "rooms                       0\n",
       "ceiling_height           9195\n",
       "floors_total               86\n",
       "living_area              1903\n",
       "floor                       0\n",
       "is_apartment            20924\n",
       "studio                      0\n",
       "open_plan                   0\n",
       "kitchen_area             2278\n",
       "balcony                 11519\n",
       "locality_name              49\n",
       "airports_nearest         5542\n",
       "cityCenters_nearest      5519\n",
       "parks_around3000         5518\n",
       "parks_nearest           15620\n",
       "ponds_around3000         5518\n",
       "ponds_nearest           14589\n",
       "days_exposition          3181\n",
       "dtype: int64"
      ]
     },
     "execution_count": 6,
     "metadata": {},
     "output_type": "execute_result"
    }
   ],
   "source": [
    "data.isna().sum() "
   ]
  },
  {
   "cell_type": "markdown",
   "metadata": {},
   "source": [
    "**Начнем просматривать все подряд столбцы с пропусками и постараемся заполнить все возможные пропуски**"
   ]
  },
  {
   "cell_type": "code",
   "execution_count": 7,
   "metadata": {},
   "outputs": [
    {
     "name": "stdout",
     "output_type": "stream",
     "text": [
      "[  1.     1.2    1.75   2.     2.2    2.25   2.3    2.34   2.4    2.45\n",
      "   2.46   2.47   2.48   2.49   2.5    2.51   2.52   2.53   2.54   2.55\n",
      "   2.56   2.57   2.58   2.59   2.6    2.61   2.62   2.63   2.64   2.65\n",
      "   2.66   2.67   2.68   2.69   2.7    2.71   2.72   2.73   2.74   2.75\n",
      "   2.76   2.77   2.78   2.79   2.8    2.81   2.82   2.83   2.84   2.85\n",
      "   2.86   2.87   2.88   2.89   2.9    2.91   2.92   2.93   2.94   2.95\n",
      "   2.96   2.97   2.98   2.99   3.     3.01   3.02   3.03   3.04   3.05\n",
      "   3.06   3.07   3.08   3.09   3.1    3.11   3.12   3.13   3.14   3.15\n",
      "   3.16   3.17   3.18   3.2    3.21   3.22   3.23   3.24   3.25   3.26\n",
      "   3.27   3.28   3.29   3.3    3.31   3.32   3.33   3.34   3.35   3.36\n",
      "   3.37   3.38   3.39   3.4    3.42   3.43   3.44   3.45   3.46   3.47\n",
      "   3.48   3.49   3.5    3.51   3.52   3.53   3.54   3.55   3.56   3.57\n",
      "   3.58   3.59   3.6    3.62   3.63   3.65   3.66   3.67   3.68   3.69\n",
      "   3.7    3.75   3.76   3.78   3.8    3.82   3.83   3.84   3.85   3.86\n",
      "   3.87   3.88   3.9    3.93   3.95   3.98   4.     4.06   4.1    4.14\n",
      "   4.15   4.19   4.2    4.25   4.3    4.37   4.4    4.45   4.5    4.65\n",
      "   4.7    4.8    4.9    5.     5.2    5.3    5.5    5.6    5.8    6.\n",
      "   8.     8.3   10.3   14.    20.    22.6   24.    25.    26.    27.\n",
      "  27.5   32.   100.      nan]\n"
     ]
    },
    {
     "data": {
      "text/plain": [
       "count    14504.000000\n",
       "mean         2.771499\n",
       "std          1.261056\n",
       "min          1.000000\n",
       "25%          2.520000\n",
       "50%          2.650000\n",
       "75%          2.800000\n",
       "max        100.000000\n",
       "Name: ceiling_height, dtype: float64"
      ]
     },
     "execution_count": 7,
     "metadata": {},
     "output_type": "execute_result"
    }
   ],
   "source": [
    "print(data['ceiling_height'].sort_values().unique())\n",
    "data['ceiling_height'].describe()"
   ]
  },
  {
   "cell_type": "markdown",
   "metadata": {},
   "source": [
    "В `ceiling_height` среднее значение и медиана в целом достаточно близко друг к другу, поэтому пустые значения можно было бы заменить медианой. Также тут много неправдоподобных значений, вряд ли есть квартиры с потолками более 5 метров. Проверим, есть ли корреляция высоты потолка с каким либо значением."
   ]
  },
  {
   "cell_type": "code",
   "execution_count": 8,
   "metadata": {},
   "outputs": [
    {
     "data": {
      "text/plain": [
       "total_images          -0.001987\n",
       "last_price             0.085430\n",
       "total_area             0.095490\n",
       "rooms                  0.054457\n",
       "ceiling_height         1.000000\n",
       "floors_total          -0.028732\n",
       "living_area            0.090650\n",
       "floor                 -0.011798\n",
       "studio                 0.001674\n",
       "open_plan              0.042777\n",
       "kitchen_area           0.087641\n",
       "balcony                0.040523\n",
       "airports_nearest      -0.023947\n",
       "cityCenters_nearest   -0.091689\n",
       "parks_around3000       0.065915\n",
       "parks_nearest         -0.019167\n",
       "ponds_around3000       0.078209\n",
       "ponds_nearest         -0.059090\n",
       "days_exposition        0.019091\n",
       "Name: ceiling_height, dtype: float64"
      ]
     },
     "execution_count": 8,
     "metadata": {},
     "output_type": "execute_result"
    }
   ],
   "source": [
    "data.corr()['ceiling_height']"
   ]
  },
  {
   "cell_type": "markdown",
   "metadata": {},
   "source": [
    "**Высокий коэффициент корреляции не выявлен, поэтому заменим пропуски медианным значением по всем объявлениям.**"
   ]
  },
  {
   "cell_type": "code",
   "execution_count": 9,
   "metadata": {},
   "outputs": [
    {
     "name": "stdout",
     "output_type": "stream",
     "text": [
      "<class 'pandas.core.frame.DataFrame'>\n",
      "RangeIndex: 23699 entries, 0 to 23698\n",
      "Data columns (total 22 columns):\n",
      " #   Column                Non-Null Count  Dtype  \n",
      "---  ------                --------------  -----  \n",
      " 0   total_images          23699 non-null  int64  \n",
      " 1   last_price            23699 non-null  float64\n",
      " 2   total_area            23699 non-null  float64\n",
      " 3   first_day_exposition  23699 non-null  object \n",
      " 4   rooms                 23699 non-null  int64  \n",
      " 5   ceiling_height        23699 non-null  float64\n",
      " 6   floors_total          23613 non-null  float64\n",
      " 7   living_area           21796 non-null  float64\n",
      " 8   floor                 23699 non-null  int64  \n",
      " 9   is_apartment          2775 non-null   object \n",
      " 10  studio                23699 non-null  bool   \n",
      " 11  open_plan             23699 non-null  bool   \n",
      " 12  kitchen_area          21421 non-null  float64\n",
      " 13  balcony               12180 non-null  float64\n",
      " 14  locality_name         23650 non-null  object \n",
      " 15  airports_nearest      18157 non-null  float64\n",
      " 16  cityCenters_nearest   18180 non-null  float64\n",
      " 17  parks_around3000      18181 non-null  float64\n",
      " 18  parks_nearest         8079 non-null   float64\n",
      " 19  ponds_around3000      18181 non-null  float64\n",
      " 20  ponds_nearest         9110 non-null   float64\n",
      " 21  days_exposition       20518 non-null  float64\n",
      "dtypes: bool(2), float64(14), int64(3), object(3)\n",
      "memory usage: 3.7+ MB\n"
     ]
    }
   ],
   "source": [
    "data.loc[data['ceiling_height'].isna() == True, 'ceiling_height'] = data['ceiling_height'].median()\n",
    "data.info()"
   ]
  },
  {
   "cell_type": "code",
   "execution_count": 10,
   "metadata": {},
   "outputs": [
    {
     "name": "stdout",
     "output_type": "stream",
     "text": [
      "[ 1.  2.  3.  4.  5.  6.  7.  8.  9. 10. 11. 12. 13. 14. 15. 16. 17. 18.\n",
      " 19. 20. 21. 22. 23. 24. 25. 26. 27. 28. 29. 33. 34. 35. 36. 37. 52. 60.\n",
      " nan]\n"
     ]
    },
    {
     "data": {
      "text/plain": [
       "count    23613.000000\n",
       "mean        10.673824\n",
       "std          6.597173\n",
       "min          1.000000\n",
       "25%          5.000000\n",
       "50%          9.000000\n",
       "75%         16.000000\n",
       "max         60.000000\n",
       "Name: floors_total, dtype: float64"
      ]
     },
     "execution_count": 10,
     "metadata": {},
     "output_type": "execute_result"
    }
   ],
   "source": [
    "# посмотрим столбец floors_total\n",
    "print(data['floors_total'].sort_values().unique())\n",
    "data['floors_total'].describe()"
   ]
  },
  {
   "cell_type": "markdown",
   "metadata": {},
   "source": [
    "**Можно было бы предположить, что общее количество этажей не указано, так как всего один этаж. \n",
    "Проверим на каком этаже находятся квартиры, где не указано общее количество этажей.**"
   ]
  },
  {
   "cell_type": "code",
   "execution_count": 11,
   "metadata": {},
   "outputs": [
    {
     "data": {
      "text/plain": [
       "array([ 4,  1, 12,  8,  9, 22, 15,  6,  7,  3, 18, 13, 24, 21, 11,  2,  5,\n",
       "       19, 20, 14, 17, 23, 10], dtype=int64)"
      ]
     },
     "execution_count": 11,
     "metadata": {},
     "output_type": "execute_result"
    }
   ],
   "source": [
    "data[data['floors_total'].isna()]['floor'].unique()"
   ]
  },
  {
   "cell_type": "markdown",
   "metadata": {},
   "source": [
    "**Заменять `NaN` в `flors_total` на `1` нельзя!**"
   ]
  },
  {
   "cell_type": "code",
   "execution_count": 12,
   "metadata": {
    "scrolled": true
   },
   "outputs": [
    {
     "name": "stdout",
     "output_type": "stream",
     "text": [
      "1903\n"
     ]
    },
    {
     "data": {
      "text/plain": [
       "count    21796.000000\n",
       "mean        34.457852\n",
       "std         22.030445\n",
       "min          2.000000\n",
       "25%         18.600000\n",
       "50%         30.000000\n",
       "75%         42.300000\n",
       "max        409.700000\n",
       "Name: living_area, dtype: float64"
      ]
     },
     "execution_count": 12,
     "metadata": {},
     "output_type": "execute_result"
    }
   ],
   "source": [
    "# посмотрим столбец living_area\n",
    "print(data['living_area'].isna().sum())\n",
    "data['living_area'].describe()"
   ]
  },
  {
   "cell_type": "markdown",
   "metadata": {},
   "source": [
    "Проверим наличие корреляции между жилой площадью и другими показателями."
   ]
  },
  {
   "cell_type": "code",
   "execution_count": 13,
   "metadata": {
    "scrolled": true
   },
   "outputs": [
    {
     "data": {
      "text/plain": [
       "total_images           0.104780\n",
       "last_price             0.566492\n",
       "total_area             0.939537\n",
       "rooms                  0.845977\n",
       "ceiling_height         0.078623\n",
       "floors_total          -0.169311\n",
       "living_area            1.000000\n",
       "floor                 -0.097210\n",
       "studio                -0.056231\n",
       "open_plan             -0.033711\n",
       "kitchen_area           0.428674\n",
       "balcony                0.018849\n",
       "airports_nearest      -0.057912\n",
       "cityCenters_nearest   -0.231368\n",
       "parks_around3000       0.184453\n",
       "parks_nearest         -0.050167\n",
       "ponds_around3000       0.148933\n",
       "ponds_nearest         -0.081674\n",
       "days_exposition        0.142454\n",
       "Name: living_area, dtype: float64"
      ]
     },
     "execution_count": 13,
     "metadata": {},
     "output_type": "execute_result"
    }
   ],
   "source": [
    "data.corr()['living_area']"
   ]
  },
  {
   "cell_type": "markdown",
   "metadata": {},
   "source": [
    "**Выявлена высокая корреляционная связь с общей площадью и количеством комнат. В данном случае пропуски жилой площади можно заполнить медианными значениями в зависимости от количества комнат.**"
   ]
  },
  {
   "cell_type": "code",
   "execution_count": 14,
   "metadata": {},
   "outputs": [
    {
     "data": {
      "text/plain": [
       "0"
      ]
     },
     "execution_count": 14,
     "metadata": {},
     "output_type": "execute_result"
    }
   ],
   "source": [
    "for i in data['rooms'].unique():\n",
    "    data.loc[(data['living_area'].isna() == True) & (data['rooms'] == i), 'living_area'] = data.loc[(data['living_area'].isna() == False) & (data['rooms'] == i), 'living_area'].median()\n",
    "data['living_area'].isna().sum() "
   ]
  },
  {
   "cell_type": "markdown",
   "metadata": {},
   "source": [
    "**У нас получилось заполнить все пропуски!!!**"
   ]
  },
  {
   "cell_type": "code",
   "execution_count": 15,
   "metadata": {},
   "outputs": [
    {
     "name": "stdout",
     "output_type": "stream",
     "text": [
      "[nan False True]\n"
     ]
    }
   ],
   "source": [
    "# посмотрим столбец is_apartment\n",
    "print(data['is_apartment'].unique())\n"
   ]
  },
  {
   "cell_type": "markdown",
   "metadata": {},
   "source": [
    "Можно предположить, что пропуски возникли там где, должно было быть **False**. Можно сравнить средние площади квартир, если наше предположение верно, то площадь квартир со значениями **NaN** и **False** должны быть схожи, и в то же время меньше **True**, потому что апартаменты это жилье с большой площадью."
   ]
  },
  {
   "cell_type": "code",
   "execution_count": 16,
   "metadata": {},
   "outputs": [
    {
     "data": {
      "text/html": [
       "<div>\n",
       "<style scoped>\n",
       "    .dataframe tbody tr th:only-of-type {\n",
       "        vertical-align: middle;\n",
       "    }\n",
       "\n",
       "    .dataframe tbody tr th {\n",
       "        vertical-align: top;\n",
       "    }\n",
       "\n",
       "    .dataframe thead tr th {\n",
       "        text-align: left;\n",
       "    }\n",
       "\n",
       "    .dataframe thead tr:last-of-type th {\n",
       "        text-align: right;\n",
       "    }\n",
       "</style>\n",
       "<table border=\"1\" class=\"dataframe\">\n",
       "  <thead>\n",
       "    <tr>\n",
       "      <th></th>\n",
       "      <th colspan=\"2\" halign=\"left\">living_area</th>\n",
       "      <th colspan=\"2\" halign=\"left\">total_area</th>\n",
       "    </tr>\n",
       "    <tr>\n",
       "      <th></th>\n",
       "      <th>mean</th>\n",
       "      <th>median</th>\n",
       "      <th>mean</th>\n",
       "      <th>median</th>\n",
       "    </tr>\n",
       "    <tr>\n",
       "      <th>is_apartment</th>\n",
       "      <th></th>\n",
       "      <th></th>\n",
       "      <th></th>\n",
       "      <th></th>\n",
       "    </tr>\n",
       "  </thead>\n",
       "  <tbody>\n",
       "    <tr>\n",
       "      <th>False</th>\n",
       "      <td>34.916349</td>\n",
       "      <td>30.90</td>\n",
       "      <td>61.123761</td>\n",
       "      <td>54.0</td>\n",
       "    </tr>\n",
       "    <tr>\n",
       "      <th>True</th>\n",
       "      <td>47.536800</td>\n",
       "      <td>31.25</td>\n",
       "      <td>83.325800</td>\n",
       "      <td>64.0</td>\n",
       "    </tr>\n",
       "    <tr>\n",
       "      <th>research_group</th>\n",
       "      <td>34.212997</td>\n",
       "      <td>30.20</td>\n",
       "      <td>60.192800</td>\n",
       "      <td>52.0</td>\n",
       "    </tr>\n",
       "  </tbody>\n",
       "</table>\n",
       "</div>"
      ],
      "text/plain": [
       "               living_area        total_area       \n",
       "                      mean median       mean median\n",
       "is_apartment                                       \n",
       "False            34.916349  30.90  61.123761   54.0\n",
       "True             47.536800  31.25  83.325800   64.0\n",
       "research_group   34.212997  30.20  60.192800   52.0"
      ]
     },
     "execution_count": 16,
     "metadata": {},
     "output_type": "execute_result"
    }
   ],
   "source": [
    "data['is_apartment'] = data['is_apartment'].fillna('research_group')\n",
    "data.pivot_table(index='is_apartment', values=('total_area', 'living_area'), aggfunc=('mean', 'median'))"
   ]
  },
  {
   "cell_type": "markdown",
   "metadata": {},
   "source": [
    "Значения общей и жилой площади в подгруппах **False** и **research_group** очень похожи. Исходя из этого можем считать, что пропущенные значения означают `False`. Заполним пропущенные значения."
   ]
  },
  {
   "cell_type": "code",
   "execution_count": 17,
   "metadata": {},
   "outputs": [
    {
     "data": {
      "text/plain": [
       "array([False, True], dtype=object)"
      ]
     },
     "execution_count": 17,
     "metadata": {},
     "output_type": "execute_result"
    }
   ],
   "source": [
    "data['is_apartment'] = data['is_apartment'].where(data['is_apartment'] != 'research_group', False)\n",
    "data['is_apartment'].unique()"
   ]
  },
  {
   "cell_type": "markdown",
   "metadata": {},
   "source": [
    "**Замена произведена правильно!**"
   ]
  },
  {
   "cell_type": "code",
   "execution_count": 18,
   "metadata": {
    "scrolled": true
   },
   "outputs": [
    {
     "name": "stdout",
     "output_type": "stream",
     "text": [
      "2278\n"
     ]
    },
    {
     "data": {
      "text/plain": [
       "count    21421.000000\n",
       "mean        10.569807\n",
       "std          5.905438\n",
       "min          1.300000\n",
       "25%          7.000000\n",
       "50%          9.100000\n",
       "75%         12.000000\n",
       "max        112.000000\n",
       "Name: kitchen_area, dtype: float64"
      ]
     },
     "execution_count": 18,
     "metadata": {},
     "output_type": "execute_result"
    }
   ],
   "source": [
    "# посмотрим столбец kitchen_area\n",
    "print(data['kitchen_area'].isna().sum())\n",
    "data['kitchen_area'].describe()"
   ]
  },
  {
   "cell_type": "markdown",
   "metadata": {},
   "source": [
    "Проверим наличие корреляции между площадью кухни и другими показателями."
   ]
  },
  {
   "cell_type": "code",
   "execution_count": 19,
   "metadata": {
    "scrolled": true
   },
   "outputs": [
    {
     "data": {
      "text/plain": [
       "total_images           0.104756\n",
       "last_price             0.519869\n",
       "total_area             0.609121\n",
       "rooms                  0.269945\n",
       "ceiling_height         0.071350\n",
       "floors_total           0.163944\n",
       "living_area            0.423638\n",
       "floor                  0.135531\n",
       "studio                      NaN\n",
       "open_plan                   NaN\n",
       "kitchen_area           1.000000\n",
       "balcony                0.098634\n",
       "airports_nearest       0.008200\n",
       "cityCenters_nearest   -0.190049\n",
       "parks_around3000       0.087503\n",
       "parks_nearest          0.029641\n",
       "ponds_around3000       0.150148\n",
       "ponds_nearest         -0.105223\n",
       "days_exposition        0.100586\n",
       "Name: kitchen_area, dtype: float64"
      ]
     },
     "execution_count": 19,
     "metadata": {},
     "output_type": "execute_result"
    }
   ],
   "source": [
    "data.corr()['kitchen_area']"
   ]
  },
  {
   "cell_type": "markdown",
   "metadata": {},
   "source": [
    "**Высокой корреляционной связи мы не выявили, поэтому будем заполнять пропуски медианным значением для всех объявлений.**"
   ]
  },
  {
   "cell_type": "code",
   "execution_count": 20,
   "metadata": {},
   "outputs": [
    {
     "data": {
      "text/plain": [
       "0"
      ]
     },
     "execution_count": 20,
     "metadata": {},
     "output_type": "execute_result"
    }
   ],
   "source": [
    "data.loc[data['kitchen_area'].isna() == True, 'kitchen_area'] = data['kitchen_area'].median()\n",
    "data['kitchen_area'].isna().sum()"
   ]
  },
  {
   "cell_type": "markdown",
   "metadata": {},
   "source": [
    "**Все пропуски заменены!**"
   ]
  },
  {
   "cell_type": "code",
   "execution_count": 21,
   "metadata": {},
   "outputs": [
    {
     "name": "stdout",
     "output_type": "stream",
     "text": [
      "[ 0.  1.  2.  3.  4.  5. nan]\n"
     ]
    }
   ],
   "source": [
    "# посмотрим столбец balcony\n",
    "print(data['balcony'].sort_values().unique())"
   ]
  },
  {
   "cell_type": "markdown",
   "metadata": {},
   "source": [
    "Скорее всего пользователи забыли указать `0`, поэтому появились пропуски. "
   ]
  },
  {
   "cell_type": "code",
   "execution_count": 22,
   "metadata": {},
   "outputs": [
    {
     "data": {
      "text/plain": [
       "array([0., 1., 2., 3., 4., 5.])"
      ]
     },
     "execution_count": 22,
     "metadata": {},
     "output_type": "execute_result"
    }
   ],
   "source": [
    "data['balcony'] = data['balcony'].fillna(0)\n",
    "data['balcony'].sort_values().unique()"
   ]
  },
  {
   "cell_type": "markdown",
   "metadata": {},
   "source": [
    "**Замена произведена правильно!**"
   ]
  },
  {
   "cell_type": "code",
   "execution_count": 23,
   "metadata": {},
   "outputs": [
    {
     "name": "stdout",
     "output_type": "stream",
     "text": [
      "['Санкт-Петербург' 'посёлок Шушары' 'городской посёлок Янино-1'\n",
      " 'посёлок Парголово' 'посёлок Мурино' 'Ломоносов' 'Сертолово' 'Петергоф'\n",
      " 'Пушкин' 'деревня Кудрово' 'Коммунар' 'Колпино'\n",
      " 'поселок городского типа Красный Бор' 'Гатчина' 'поселок Мурино'\n",
      " 'деревня Фёдоровское' 'Выборг' 'Кронштадт' 'Кировск'\n",
      " 'деревня Новое Девяткино' 'посёлок Металлострой'\n",
      " 'посёлок городского типа Лебяжье' 'посёлок городского типа Сиверский'\n",
      " 'поселок Молодцово' 'поселок городского типа Кузьмоловский'\n",
      " 'садовое товарищество Новая Ропша' 'Павловск' 'деревня Пикколово'\n",
      " 'Всеволожск' 'Волхов' 'Кингисепп' 'Приозерск' 'Сестрорецк'\n",
      " 'деревня Куттузи' 'посёлок Аннино' 'поселок городского типа Ефимовский'\n",
      " 'посёлок Плодовое' 'деревня Заклинье' 'поселок Торковичи'\n",
      " 'поселок Первомайское' 'Красное Село' 'посёлок Понтонный' 'Сясьстрой'\n",
      " 'деревня Старая' 'деревня Лесколово' 'посёлок Новый Свет' 'Сланцы'\n",
      " 'село Путилово' 'Ивангород' 'Мурино' 'Шлиссельбург' 'Никольское'\n",
      " 'Зеленогорск' 'Сосновый Бор' 'поселок Новый Свет' 'деревня Оржицы'\n",
      " 'деревня Кальтино' 'Кудрово' 'поселок Романовка' 'посёлок Бугры'\n",
      " 'поселок Бугры' 'поселок городского типа Рощино' 'Кириши' 'Луга'\n",
      " 'Волосово' 'Отрадное' 'село Павлово' 'поселок Оредеж' 'село Копорье'\n",
      " 'посёлок городского типа Красный Бор' 'посёлок Молодёжное' 'Тихвин'\n",
      " 'посёлок Победа' 'деревня Нурма' 'поселок городского типа Синявино'\n",
      " 'Тосно' 'посёлок городского типа Кузьмоловский' 'посёлок Стрельна'\n",
      " 'Бокситогорск' 'посёлок Александровская' 'деревня Лопухинка' 'Пикалёво'\n",
      " 'поселок Терволово' 'поселок городского типа Советский' 'Подпорожье'\n",
      " 'посёлок Петровское' 'посёлок городского типа Токсово' 'поселок Сельцо'\n",
      " 'посёлок городского типа Вырица' 'деревня Кипень' 'деревня Келози'\n",
      " 'деревня Вартемяги' 'посёлок Тельмана' 'поселок Севастьяново'\n",
      " 'городской поселок Большая Ижора' nan 'городской посёлок Павлово'\n",
      " 'деревня Агалатово' 'посёлок Новогорелово'\n",
      " 'городской посёлок Лесогорский' 'деревня Лаголово' 'поселок Цвелодубово'\n",
      " 'поселок городского типа Рахья' 'поселок городского типа Вырица'\n",
      " 'деревня Белогорка' 'поселок Заводской' 'городской посёлок Новоселье'\n",
      " 'деревня Большие Колпаны' 'деревня Горбунки' 'деревня Батово'\n",
      " 'деревня Заневка' 'деревня Иссад' 'Приморск'\n",
      " 'городской посёлок Фёдоровское' 'деревня Мистолово' 'Новая Ладога'\n",
      " 'поселок Зимитицы' 'поселок Барышево' 'деревня Разметелево'\n",
      " 'поселок городского типа имени Свердлова' 'деревня Пеники'\n",
      " 'поселок Рябово' 'деревня Пудомяги' 'поселок станции Корнево'\n",
      " 'деревня Низино' 'деревня Бегуницы' 'посёлок Поляны'\n",
      " 'городской посёлок Мга' 'поселок Елизаветино'\n",
      " 'посёлок городского типа Кузнечное' 'деревня Колтуши'\n",
      " 'поселок Запорожское' 'посёлок городского типа Рощино'\n",
      " 'деревня Гостилицы' 'деревня Малое Карлино' 'посёлок Мичуринское'\n",
      " 'посёлок городского типа имени Морозова' 'посёлок Песочный'\n",
      " 'посёлок Сосново' 'деревня Аро' 'поселок Ильичёво'\n",
      " 'посёлок городского типа Тайцы' 'деревня Малое Верево' 'деревня Извара'\n",
      " 'поселок станции Вещево' 'село Паша' 'деревня Калитино'\n",
      " 'посёлок городского типа Ульяновка' 'деревня Чудской Бор'\n",
      " 'поселок городского типа Дубровка' 'деревня Мины' 'поселок Войсковицы'\n",
      " 'посёлок городского типа имени Свердлова' 'деревня Коркино'\n",
      " 'посёлок Ропша' 'поселок городского типа Приладожский' 'посёлок Щеглово'\n",
      " 'посёлок Гаврилово' 'Лодейное Поле' 'деревня Рабитицы'\n",
      " 'поселок городского типа Никольский' 'деревня Кузьмолово'\n",
      " 'деревня Малые Колпаны' 'поселок Тельмана' 'посёлок Петро-Славянка'\n",
      " 'городской посёлок Назия' 'посёлок Репино' 'посёлок Ильичёво'\n",
      " 'поселок Углово' 'поселок Старая Малукса' 'садовое товарищество Рахья'\n",
      " 'поселок Аннино' 'поселок Победа' 'деревня Меньково'\n",
      " 'деревня Старые Бегуницы' 'посёлок Сапёрный' 'поселок Семрино'\n",
      " 'поселок Гаврилово' 'поселок Глажево' 'поселок Кобринское'\n",
      " 'деревня Гарболово' 'деревня Юкки' 'поселок станции Приветнинское'\n",
      " 'деревня Мануйлово' 'деревня Пчева' 'поселок Поляны' 'поселок Цвылёво'\n",
      " 'поселок Мельниково' 'посёлок Пудость' 'посёлок Усть-Луга' 'Светогорск'\n",
      " 'Любань' 'поселок Селезнёво' 'поселок городского типа Рябово'\n",
      " 'Каменногорск' 'деревня Кривко' 'поселок Глебычево' 'деревня Парицы'\n",
      " 'поселок Жилпосёлок' 'посёлок городского типа Мга'\n",
      " 'городской поселок Янино-1' 'посёлок Войскорово' 'село Никольское'\n",
      " 'посёлок Терволово' 'поселок Стеклянный' 'посёлок городского типа Важины'\n",
      " 'посёлок Мыза-Ивановка' 'село Русско-Высоцкое'\n",
      " 'поселок городского типа Лебяжье' 'поселок городского типа Форносово'\n",
      " 'село Старая Ладога' 'поселок Житково' 'городской посёлок Виллози'\n",
      " 'деревня Лампово' 'деревня Шпаньково' 'деревня Лаврики' 'посёлок Сумино'\n",
      " 'посёлок Возрождение' 'деревня Старосиверская' 'посёлок Кикерино'\n",
      " 'поселок Возрождение' 'деревня Старое Хинколово' 'посёлок Пригородный'\n",
      " 'посёлок Торфяное' 'городской посёлок Будогощь' 'поселок Суходолье'\n",
      " 'поселок Красная Долина' 'деревня Хапо-Ое'\n",
      " 'поселок городского типа Дружная Горка' 'поселок Лисий Нос'\n",
      " 'деревня Яльгелево' 'посёлок Стеклянный' 'село Рождествено'\n",
      " 'деревня Старополье' 'посёлок Левашово' 'деревня Сяськелево'\n",
      " 'деревня Камышовка'\n",
      " 'садоводческое некоммерческое товарищество Лесная Поляна'\n",
      " 'деревня Хязельки' 'поселок Жилгородок' 'посёлок городского типа Павлово'\n",
      " 'деревня Ялгино' 'поселок Новый Учхоз' 'городской посёлок Рощино'\n",
      " 'поселок Гончарово' 'поселок Почап' 'посёлок Сапёрное'\n",
      " 'посёлок Платформа 69-й километр' 'поселок Каложицы' 'деревня Фалилеево'\n",
      " 'деревня Пельгора' 'поселок городского типа Лесогорский'\n",
      " 'деревня Торошковичи' 'посёлок Белоостров' 'посёлок Алексеевка'\n",
      " 'поселок Серебрянский' 'поселок Лукаши' 'поселок Петровское'\n",
      " 'деревня Щеглово' 'поселок Мичуринское' 'деревня Тарасово'\n",
      " 'поселок Кингисеппский' 'посёлок при железнодорожной станции Вещево'\n",
      " 'поселок Ушаки' 'деревня Котлы' 'деревня Сижно' 'деревня Торосово'\n",
      " 'посёлок Форт Красная Горка' 'поселок городского типа Токсово'\n",
      " 'деревня Новолисино' 'посёлок станции Громово' 'деревня Глинка'\n",
      " 'посёлок Мельниково' 'поселок городского типа Назия'\n",
      " 'деревня Старая Пустошь' 'поселок Коммунары' 'поселок Починок'\n",
      " 'посёлок городского типа Вознесенье' 'деревня Разбегаево'\n",
      " 'посёлок городского типа Рябово' 'поселок Гладкое'\n",
      " 'посёлок при железнодорожной станции Приветнинское' 'поселок Тёсово-4'\n",
      " 'посёлок Жилгородок' 'деревня Бор' 'посёлок Коробицыно'\n",
      " 'деревня Большая Вруда' 'деревня Курковицы' 'посёлок Лисий Нос'\n",
      " 'городской посёлок Советский' 'посёлок Кобралово' 'деревня Суоранда'\n",
      " 'поселок Кобралово' 'поселок городского типа Кондратьево'\n",
      " 'коттеджный поселок Счастье' 'поселок Любань' 'деревня Реброво'\n",
      " 'деревня Зимитицы' 'деревня Тойворово' 'поселок Семиозерье'\n",
      " 'поселок Лесное' 'поселок Совхозный' 'поселок Усть-Луга'\n",
      " 'посёлок Ленинское' 'посёлок Суйда' 'посёлок городского типа Форносово'\n",
      " 'деревня Нижние Осельки' 'посёлок станции Свирь' 'поселок Перово'\n",
      " 'Высоцк' 'поселок Гарболово' 'село Шум' 'поселок Котельский'\n",
      " 'поселок станции Лужайка' 'деревня Большая Пустомержа'\n",
      " 'поселок Красносельское' 'деревня Вахнова Кара' 'деревня Пижма'\n",
      " 'коттеджный поселок Кивеннапа Север' 'поселок Коробицыно'\n",
      " 'поселок Ромашки' 'посёлок Перово' 'деревня Каськово' 'деревня Куровицы'\n",
      " 'посёлок Плоское' 'поселок Сумино'\n",
      " 'поселок городского типа Большая Ижора' 'поселок Кирпичное'\n",
      " 'деревня Ям-Тесово' 'деревня Раздолье' 'деревня Терпилицы'\n",
      " 'посёлок Шугозеро' 'деревня Ваганово' 'поселок Пушное'\n",
      " 'садовое товарищество Садко' 'посёлок Усть-Ижора' 'деревня Выскатка'\n",
      " 'городской посёлок Свирьстрой' 'поселок Громово' 'деревня Кисельня'\n",
      " 'посёлок Старая Малукса' 'деревня Трубников Бор' 'поселок Калитино'\n",
      " 'посёлок Высокоключевой' 'садовое товарищество Приладожский'\n",
      " 'посёлок Пансионат Зелёный Бор' 'деревня Ненимяки'\n",
      " 'поселок Пансионат Зелёный Бор' 'деревня Снегирёвка' 'деревня Рапполово'\n",
      " 'деревня Пустынка' 'поселок Рабитицы' 'деревня Большой Сабск'\n",
      " 'деревня Русско' 'деревня Лупполово' 'деревня Большое Рейзино'\n",
      " 'деревня Малая Романовка' 'поселок Дружноселье' 'поселок Пчевжа'\n",
      " 'поселок Володарское' 'деревня Нижняя' 'коттеджный посёлок Лесное'\n",
      " 'деревня Тихковицы' 'деревня Борисова Грива' 'посёлок Дзержинского']\n",
      "Количество уникальных названий: 365\n",
      "0\n"
     ]
    }
   ],
   "source": [
    "# посмотрим столбец locality_name\n",
    "print(data['locality_name'].unique())\n",
    "print('Количество уникальных названий:', len(data['locality_name'].unique()))\n",
    "print(data.duplicated().sum())"
   ]
  },
  {
   "cell_type": "markdown",
   "metadata": {},
   "source": [
    "**Явных дубликатов** в датасете - нет!\n",
    "**Неявные дубликаты** связаны с написанием \"поселок\" и \"посёлок\", а также в различных написаниях \"поселок\" и \"поселок городского типа\". Попробуем утранить данные дубликаты."
   ]
  },
  {
   "cell_type": "code",
   "execution_count": 24,
   "metadata": {},
   "outputs": [
    {
     "name": "stdout",
     "output_type": "stream",
     "text": [
      "['Бокситогорск' 'Волосово' 'Волхов' 'Всеволожск' 'Выборг' 'Высоцк'\n",
      " 'Гатчина' 'Зеленогорск' 'Ивангород' 'Каменногорск' 'Кингисепп' 'Кириши'\n",
      " 'Кировск' 'Колпино' 'Коммунар' 'Красное Село' 'Кронштадт' 'Кудрово'\n",
      " 'Лодейное Поле' 'Ломоносов' 'Луга' 'Мурино' 'Отрадное' 'Павловск'\n",
      " 'Петергоф' 'Пикалёво' 'Подпорожье' 'Приморск' 'Приозерск' 'Пушкин'\n",
      " 'Санкт-Петербург' 'Сертолово' 'Сестрорецк' 'Сланцы' 'Сясьстрой' 'Тихвин'\n",
      " 'Тосно' 'Шлиссельбург' 'городской поселок Будогощь'\n",
      " 'городской поселок Виллози' 'городской поселок Новоселье'\n",
      " 'городской поселок Рощино' 'городской поселок Советский'\n",
      " 'городской поселок Фёдоровское' 'городской поселок Янино-1'\n",
      " 'деревня Агалатово' 'деревня Аро' 'деревня Батово' 'деревня Белогорка'\n",
      " 'деревня Большая Вруда' 'деревня Большая Пустомержа'\n",
      " 'деревня Большое Рейзино' 'деревня Большой Сабск' 'деревня Ваганово'\n",
      " 'деревня Вартемяги' 'деревня Вахнова Кара' 'деревня Выскатка'\n",
      " 'деревня Глинка' 'деревня Горбунки' 'деревня Гостилицы'\n",
      " 'деревня Заклинье' 'деревня Заневка' 'деревня Зимитицы' 'деревня Извара'\n",
      " 'деревня Иссад' 'деревня Кальтино' 'деревня Камышовка' 'деревня Каськово'\n",
      " 'деревня Келози' 'деревня Кипень' 'деревня Кисельня' 'деревня Колтуши'\n",
      " 'деревня Коркино' 'деревня Котлы' 'деревня Кривко' 'деревня Кузьмолово'\n",
      " 'деревня Курковицы' 'деревня Куровицы' 'деревня Куттузи'\n",
      " 'деревня Лаврики' 'деревня Лаголово' 'деревня Лампово'\n",
      " 'деревня Лесколово' 'деревня Лопухинка' 'деревня Лупполово'\n",
      " 'деревня Малая Романовка' 'деревня Малое Верево' 'деревня Малое Карлино'\n",
      " 'деревня Малые Колпаны' 'деревня Мануйлово' 'деревня Меньково'\n",
      " 'деревня Мины' 'деревня Мистолово' 'деревня Ненимяки'\n",
      " 'деревня Нижние Осельки' 'деревня Нижняя' 'деревня Низино'\n",
      " 'деревня Новое Девяткино' 'деревня Новолисино' 'деревня Нурма'\n",
      " 'деревня Оржицы' 'деревня Парицы' 'деревня Пельгора' 'деревня Пеники'\n",
      " 'деревня Пижма' 'деревня Пикколово' 'деревня Пудомяги' 'деревня Пустынка'\n",
      " 'деревня Пчева' 'деревня Разбегаево' 'деревня Раздолье'\n",
      " 'деревня Разметелево' 'деревня Рапполово' 'деревня Реброво'\n",
      " 'деревня Русско' 'деревня Сижно' 'деревня Снегирёвка' 'деревня Старая'\n",
      " 'деревня Старое Хинколово' 'деревня Старополье' 'деревня Старосиверская'\n",
      " 'деревня Старые Бегуницы' 'деревня Суоранда' 'деревня Сяськелево'\n",
      " 'деревня Тарасово' 'деревня Терпилицы' 'деревня Тихковицы'\n",
      " 'деревня Тойворово' 'деревня Торосово' 'деревня Торошковичи'\n",
      " 'деревня Фалилеево' 'деревня Хапо-Ое' 'деревня Хязельки'\n",
      " 'деревня Шпаньково' 'деревня Щеглово' 'деревня Юкки' 'деревня Ялгино'\n",
      " 'деревня Яльгелево' 'деревня Ям-Тесово'\n",
      " 'коттеджный поселок Кивеннапа Север' 'коттеджный поселок Лесное'\n",
      " 'коттеджный поселок Счастье' 'поселок Александровская'\n",
      " 'поселок Алексеевка' 'поселок Аннино' 'поселок Барышево'\n",
      " 'поселок Белоостров' 'поселок Бугры' 'поселок Возрождение'\n",
      " 'поселок Войсковицы' 'поселок Войскорово' 'поселок Володарское'\n",
      " 'поселок Высокоключевой' 'поселок Гаврилово' 'поселок Гарболово'\n",
      " 'поселок Гладкое' 'поселок Глажево' 'поселок Глебычево'\n",
      " 'поселок Гончарово' 'поселок Громово' 'поселок Дзержинского'\n",
      " 'поселок Дружноселье' 'поселок Елизаветино' 'поселок Жилгородок'\n",
      " 'поселок Жилпоселок' 'поселок Житково' 'поселок Заводской'\n",
      " 'поселок Запорожское' 'поселок Ильичёво' 'поселок Калитино'\n",
      " 'поселок Каложицы' 'поселок Кикерино' 'поселок Кирпичное'\n",
      " 'поселок Кобралово' 'поселок Кобринское' 'поселок Коробицыно'\n",
      " 'поселок Котельский' 'поселок Красная Долина' 'поселок Красносельское'\n",
      " 'поселок Левашово' 'поселок Ленинское' 'поселок Лисий Нос'\n",
      " 'поселок Лукаши' 'поселок Любань' 'поселок Мельниково'\n",
      " 'поселок Металлострой' 'поселок Мичуринское' 'поселок Молодцово'\n",
      " 'поселок Молодёжное' 'поселок Мыза-Ивановка' 'поселок Новогорелово'\n",
      " 'поселок Новый Свет' 'поселок Новый Учхоз' 'поселок Оредеж'\n",
      " 'поселок Пансионат Зелёный Бор' 'поселок Парголово'\n",
      " 'поселок Первомайское' 'поселок Перово' 'поселок Песочный'\n",
      " 'поселок Петро-Славянка' 'поселок Петровское'\n",
      " 'поселок Платформа 69-й километр' 'поселок Плодовое' 'поселок Плоское'\n",
      " 'поселок Победа' 'поселок Поляны' 'поселок Понтонный' 'поселок Почап'\n",
      " 'поселок Починок' 'поселок Пригородный' 'поселок Пудость'\n",
      " 'поселок Пушное' 'поселок Пчевжа' 'поселок Рабитицы' 'поселок Репино'\n",
      " 'поселок Ромашки' 'поселок Ропша' 'поселок Сапёрное' 'поселок Сапёрный'\n",
      " 'поселок Севастьяново' 'поселок Селезнёво' 'поселок Сельцо'\n",
      " 'поселок Семиозерье' 'поселок Семрино' 'поселок Серебрянский'\n",
      " 'поселок Совхозный' 'поселок Сосново' 'поселок Стеклянный'\n",
      " 'поселок Стрельна' 'поселок Суйда' 'поселок Сумино' 'поселок Суходолье'\n",
      " 'поселок Тельмана' 'поселок Терволово' 'поселок Торковичи'\n",
      " 'поселок Торфяное' 'поселок Тёсово-4' 'поселок Углово' 'поселок Ушаки'\n",
      " 'поселок Форт Красная Горка' 'поселок Цвелодубово' 'поселок Цвылёво'\n",
      " 'поселок Шугозеро' 'поселок Шушары'\n",
      " 'поселок городского типа Большая Ижора' 'поселок городского типа Важины'\n",
      " 'поселок городского типа Вознесенье' 'поселок городского типа Вырица'\n",
      " 'поселок городского типа Дубровка' 'поселок городского типа Ефимовский'\n",
      " 'поселок городского типа Кондратьево' 'поселок городского типа Кузнечное'\n",
      " 'поселок городского типа Кузьмоловский' 'поселок городского типа Лебяжье'\n",
      " 'поселок городского типа Лесогорский' 'поселок городского типа Мга'\n",
      " 'поселок городского типа Назия' 'поселок городского типа Никольский'\n",
      " 'поселок городского типа Павлово' 'поселок городского типа Рябово'\n",
      " 'поселок городского типа Сиверский' 'поселок городского типа Синявино'\n",
      " 'поселок городского типа Тайцы' 'поселок городского типа Токсово'\n",
      " 'поселок городского типа Ульяновка' 'поселок городского типа Форносово'\n",
      " 'поселок городского типа имени Морозова'\n",
      " 'поселок городского типа имени Свердлова'\n",
      " 'поселок при железнодорожной станции Вещево'\n",
      " 'поселок при железнодорожной станции Приветнинское'\n",
      " 'поселок станции Корнево' 'поселок станции Лужайка'\n",
      " 'поселок станции Свирь'\n",
      " 'садоводческое некоммерческое товарищество Лесная Поляна'\n",
      " 'садовое товарищество Приладожский' 'садовое товарищество Рахья'\n",
      " 'садовое товарищество Садко' 'село Копорье' 'село Никольское' 'село Паша'\n",
      " 'село Путилово' 'село Рождествено' 'село Старая Ладога' 'село Шум' nan]\n",
      "Количество уникальных названий: 285\n"
     ]
    }
   ],
   "source": [
    "for i in data['locality_name'].unique():\n",
    "    data.loc[data['locality_name'] == i, 'locality_name'] = str(i).replace('посёлок', 'поселок')\n",
    "for i in data['locality_name'].unique(): #пишем еще одну функцию, потому что если делать в одной, то возвращается буква Ё\n",
    "    clear_locality_name = str(i).split(sep=' ')[-1] # находим непосредственное название места, оно всегда стоит последним в названии\n",
    "    data.loc[data['locality_name'].str.contains(clear_locality_name) == True, 'locality_name'] = i\n",
    "print(data['locality_name'].sort_values().unique())\n",
    "print('Количество уникальных названий:', len(data['locality_name'].unique()))\n"
   ]
  },
  {
   "cell_type": "markdown",
   "metadata": {},
   "source": [
    "**Мы избавились от неявных дубликатов! Почти на треть сократилось количество уникальных названий населенных пунктов!!!**  "
   ]
  },
  {
   "cell_type": "code",
   "execution_count": 25,
   "metadata": {},
   "outputs": [
    {
     "name": "stdout",
     "output_type": "stream",
     "text": [
      "5542\n"
     ]
    },
    {
     "data": {
      "text/plain": [
       "count    18157.000000\n",
       "mean     28793.672193\n",
       "std      12630.880622\n",
       "min          0.000000\n",
       "25%      18585.000000\n",
       "50%      26726.000000\n",
       "75%      37273.000000\n",
       "max      84869.000000\n",
       "Name: airports_nearest, dtype: float64"
      ]
     },
     "execution_count": 25,
     "metadata": {},
     "output_type": "execute_result"
    }
   ],
   "source": [
    "# посмотрим столбец airports_nearest\n",
    "print(data['airports_nearest'].isna().sum())\n",
    "data['airports_nearest'].describe()"
   ]
  },
  {
   "cell_type": "code",
   "execution_count": 26,
   "metadata": {
    "scrolled": true
   },
   "outputs": [
    {
     "name": "stdout",
     "output_type": "stream",
     "text": [
      "                            locality_name  airports_nearest\n",
      "0                             Зеленогорск           72282.0\n",
      "1                                 Колпино           26232.0\n",
      "2                            Красное Село           25715.5\n",
      "3                               Кронштадт           67850.0\n",
      "4                               Ломоносов           48415.5\n",
      "5                                  Мурино           51553.0\n",
      "6                                Павловск           20529.5\n",
      "7                                Петергоф           39231.0\n",
      "8                                  Пушкин           15766.0\n",
      "9                         Санкт-Петербург           26757.5\n",
      "10                             Сестрорецк           56692.0\n",
      "11                        деревня Щеглово           61908.0\n",
      "12                поселок Александровская           12896.5\n",
      "13                     поселок Белоостров           57769.0\n",
      "14                       поселок Левашово           52693.0\n",
      "15                      поселок Лисий Нос           55909.0\n",
      "16                   поселок Металлострой           25758.0\n",
      "17                     поселок Молодёжное           84665.0\n",
      "18                      поселок Парголово           53426.0\n",
      "19                       поселок Песочный           54831.5\n",
      "20                 поселок Петро-Славянка           20605.0\n",
      "21                      поселок Понтонный           30642.0\n",
      "22                         поселок Репино           61797.5\n",
      "23                       поселок Сапёрный           34147.5\n",
      "24                       поселок Стрельна           28317.0\n",
      "25                         поселок Шушары           17427.0\n",
      "26  поселок городского типа Большая Ижора           26510.5\n"
     ]
    }
   ],
   "source": [
    "airports_stat = data.pivot_table(index='locality_name', values='airports_nearest', aggfunc='median').reset_index()\n",
    "print(airports_stat)"
   ]
  },
  {
   "cell_type": "markdown",
   "metadata": {},
   "source": [
    "**Видим медиану расстояния до аэропорта для некоторых населенных пунктов, для остальных данные вообще не указаны. \n",
    "Теперь можем этими значениями заполнить часть имеющихся пропусков.**"
   ]
  },
  {
   "cell_type": "code",
   "execution_count": 27,
   "metadata": {},
   "outputs": [
    {
     "name": "stdout",
     "output_type": "stream",
     "text": [
      "Количество пропусков до заполнения: 5542\n",
      "Количество пропусков после заполнения: 4820\n"
     ]
    }
   ],
   "source": [
    "locality_name_unique = airports_stat['locality_name'].unique()\n",
    "print('Количество пропусков до заполнения:', data['airports_nearest'].isna().sum())\n",
    "for i in locality_name_unique:\n",
    "    data.loc[(data['locality_name'] == i) & (data['airports_nearest'].isna() == True),'airports_nearest'] = data.loc[(data['locality_name'] == i) & (data['airports_nearest'].isna() == True),'airports_nearest'].fillna(float(airports_stat.loc[airports_stat['locality_name'] == i, 'airports_nearest']))\n",
    "print('Количество пропусков после заполнения:', data['airports_nearest'].isna().sum())"
   ]
  },
  {
   "cell_type": "markdown",
   "metadata": {},
   "source": [
    "**От части пропусков избавились! +1 к карме) Идем дальше...**"
   ]
  },
  {
   "cell_type": "code",
   "execution_count": 28,
   "metadata": {
    "scrolled": true
   },
   "outputs": [
    {
     "name": "stdout",
     "output_type": "stream",
     "text": [
      "count    18180.000000\n",
      "mean     14191.277833\n",
      "std       8608.386210\n",
      "min        181.000000\n",
      "25%       9238.000000\n",
      "50%      13098.500000\n",
      "75%      16293.000000\n",
      "max      65968.000000\n",
      "Name: city_centers_nearest, dtype: float64\n"
     ]
    },
    {
     "data": {
      "text/plain": [
       "5519"
      ]
     },
     "execution_count": 28,
     "metadata": {},
     "output_type": "execute_result"
    }
   ],
   "source": [
    "# посмотрим столбец cityCenters_nearest\n",
    "# сначала изменим его название на змеиный регистр\n",
    "data.rename(columns={'cityCenters_nearest': 'city_centers_nearest'}, inplace=True)\n",
    "print(data['city_centers_nearest'].describe())\n",
    "data['city_centers_nearest'].isna().sum()"
   ]
  },
  {
   "cell_type": "code",
   "execution_count": 29,
   "metadata": {
    "scrolled": true
   },
   "outputs": [
    {
     "name": "stdout",
     "output_type": "stream",
     "text": [
      "Количество пропусков до заполнения: 5519\n",
      "Количество пропусков после заполнения: 4820\n"
     ]
    }
   ],
   "source": [
    "#для заполнения пропусков сделаем аналогичные действия как в прошлом столбце\n",
    "centers_stat = data.pivot_table(index='locality_name', values='city_centers_nearest', aggfunc='median').reset_index()\n",
    "locality_name_unique_cent = centers_stat['locality_name'].unique()\n",
    "print('Количество пропусков до заполнения:', data['city_centers_nearest'].isna().sum())\n",
    "for i in locality_name_unique_cent:\n",
    "    data.loc[(data['locality_name'] == i) & (data['city_centers_nearest'].isna() == True),'city_centers_nearest'] = data.loc[(data['locality_name'] == i) & (data['city_centers_nearest'].isna() == True),'city_centers_nearest'].fillna(float(centers_stat.loc[centers_stat['locality_name'] == i, 'city_centers_nearest']))\n",
    "print('Количество пропусков после заполнения:', data['city_centers_nearest'].isna().sum())"
   ]
  },
  {
   "cell_type": "markdown",
   "metadata": {},
   "source": [
    "**Идем дальше! Прослеживается какая-то закономерность - отдаленность от аэропорта и до центра отсутсвует в одинаковом количестве населенных пунктов.**"
   ]
  },
  {
   "cell_type": "code",
   "execution_count": 30,
   "metadata": {},
   "outputs": [
    {
     "name": "stdout",
     "output_type": "stream",
     "text": [
      "5518\n"
     ]
    },
    {
     "data": {
      "text/plain": [
       "count    18181.000000\n",
       "mean         0.611408\n",
       "std          0.802074\n",
       "min          0.000000\n",
       "25%          0.000000\n",
       "50%          0.000000\n",
       "75%          1.000000\n",
       "max          3.000000\n",
       "Name: parks_around3000, dtype: float64"
      ]
     },
     "execution_count": 30,
     "metadata": {},
     "output_type": "execute_result"
    }
   ],
   "source": [
    "# следующий столбец parks_around3000\n",
    "print(data['parks_around3000'].isna().sum())\n",
    "data['parks_around3000'].describe()"
   ]
  },
  {
   "cell_type": "code",
   "execution_count": 31,
   "metadata": {
    "scrolled": true
   },
   "outputs": [
    {
     "name": "stdout",
     "output_type": "stream",
     "text": [
      "Количество пропусков до заполнения: 5518\n",
      "Количество пропусков после заполнения: 4820\n"
     ]
    }
   ],
   "source": [
    "#для заполнения пропусков сделаем аналогичные действия как в прошлом столбце\n",
    "parks_around_stat = data.pivot_table(index='locality_name', values='parks_around3000', aggfunc='median').reset_index()\n",
    "locality_name_unique_parks_around = parks_around_stat['locality_name'].unique()\n",
    "print('Количество пропусков до заполнения:', data['parks_around3000'].isna().sum())\n",
    "for i in locality_name_unique_parks_around:\n",
    "    data.loc[(data['locality_name'] == i) & (data['parks_around3000'].isna() == True),'parks_around3000'] = data.loc[(data['locality_name'] == i) & (data['parks_around3000'].isna() == True),'parks_around3000'].fillna(round(float(parks_around_stat.loc[parks_around_stat['locality_name'] == i, 'parks_around3000']), 0))\n",
    "print('Количество пропусков после заполнения:', data['parks_around3000'].isna().sum())"
   ]
  },
  {
   "cell_type": "markdown",
   "metadata": {},
   "source": [
    "Опять схожая цифра. Вероятно это проблема картографических данных. В небольших населенных пунктах может просто не быть центра города, аэропорта и парков. "
   ]
  },
  {
   "cell_type": "code",
   "execution_count": 32,
   "metadata": {},
   "outputs": [
    {
     "name": "stdout",
     "output_type": "stream",
     "text": [
      "15620\n"
     ]
    },
    {
     "data": {
      "text/plain": [
       "count    8079.000000\n",
       "mean      490.804555\n",
       "std       342.317995\n",
       "min         1.000000\n",
       "25%       288.000000\n",
       "50%       455.000000\n",
       "75%       612.000000\n",
       "max      3190.000000\n",
       "Name: parks_nearest, dtype: float64"
      ]
     },
     "execution_count": 32,
     "metadata": {},
     "output_type": "execute_result"
    }
   ],
   "source": [
    "# следующий столбец park_nearest\n",
    "# здесь очень много пропусков, нужно подробнее разобраться\n",
    "print(data['parks_nearest'].isna().sum())\n",
    "data['parks_nearest'].describe()"
   ]
  },
  {
   "cell_type": "code",
   "execution_count": 33,
   "metadata": {},
   "outputs": [
    {
     "name": "stdout",
     "output_type": "stream",
     "text": [
      "Количество пропусков до заполнения: 15620\n",
      "Количество пропусков после заполнения: 6032\n"
     ]
    }
   ],
   "source": [
    "#для начала заполним пропуски как и раньше\n",
    "parks_nearest_stat = data.pivot_table(index='locality_name', values='parks_nearest', aggfunc='median').reset_index()\n",
    "locality_name_unique_parks_nearest = parks_nearest_stat['locality_name'].unique()\n",
    "print('Количество пропусков до заполнения:', data['parks_nearest'].isna().sum())\n",
    "for i in locality_name_unique_parks_nearest:\n",
    "    data.loc[(data['locality_name'] == i) & (data['parks_nearest'].isna() == True),'parks_nearest'] = data.loc[(data['locality_name'] == i) & (data['parks_nearest'].isna() == True),'parks_nearest'].fillna(float(parks_nearest_stat.loc[parks_nearest_stat['locality_name'] == i, 'parks_nearest']))\n",
    "print('Количество пропусков после заполнения:', data['parks_nearest'].isna().sum())"
   ]
  },
  {
   "cell_type": "markdown",
   "metadata": {},
   "source": [
    "Количество пропусков **6032**, но мы помним, что число объявлений, где неизвестно наличие парков в радиусе 3000м, равно **4864**.\n",
    "Посмотрим, какие значения стоят для этих объявлений с столбце `parks_around300`\n",
    "\n"
   ]
  },
  {
   "cell_type": "code",
   "execution_count": 34,
   "metadata": {},
   "outputs": [
    {
     "data": {
      "text/plain": [
       "array([0.])"
      ]
     },
     "execution_count": 34,
     "metadata": {},
     "output_type": "execute_result"
    }
   ],
   "source": [
    "data.loc[(data['parks_around3000'].isna() == False) & (data['parks_nearest'].isna() == True)]['parks_around3000'].unique()"
   ]
  },
  {
   "cell_type": "markdown",
   "metadata": {},
   "source": [
    "Вот и причина. Пропуски обусловлены тем, что просто нет парков поблизости."
   ]
  },
  {
   "cell_type": "code",
   "execution_count": 35,
   "metadata": {},
   "outputs": [
    {
     "name": "stdout",
     "output_type": "stream",
     "text": [
      "5518\n"
     ]
    },
    {
     "data": {
      "text/plain": [
       "count    18181.000000\n",
       "mean         0.770255\n",
       "std          0.938346\n",
       "min          0.000000\n",
       "25%          0.000000\n",
       "50%          1.000000\n",
       "75%          1.000000\n",
       "max          3.000000\n",
       "Name: ponds_around3000, dtype: float64"
      ]
     },
     "execution_count": 35,
     "metadata": {},
     "output_type": "execute_result"
    }
   ],
   "source": [
    "# следующий столбец parks_around3000\n",
    "print(data['ponds_around3000'].isna().sum())\n",
    "data['ponds_around3000'].describe()"
   ]
  },
  {
   "cell_type": "code",
   "execution_count": 36,
   "metadata": {
    "scrolled": true
   },
   "outputs": [
    {
     "ename": "SyntaxError",
     "evalue": "invalid syntax (2719772056.py, line 6)",
     "output_type": "error",
     "traceback": [
      "\u001b[1;36m  Input \u001b[1;32mIn [36]\u001b[1;36m\u001b[0m\n\u001b[1;33m    (data.loc[(data['locality_name'] == i) & (data['ponds_around3000'].isna() == True),'ponds_around3000'] =\u001b[0m\n\u001b[1;37m                                                                                                           ^\u001b[0m\n\u001b[1;31mSyntaxError\u001b[0m\u001b[1;31m:\u001b[0m invalid syntax\n"
     ]
    }
   ],
   "source": [
    "#для заполнения пропусков сделаем аналогичные действия как в прошлом столбце\n",
    "ponds_around_stat = data.pivot_table(index='locality_name', values='ponds_around3000', aggfunc='median').reset_index()\n",
    "locality_name_unique_ponds_around = ponds_around_stat['locality_name'].unique()\n",
    "print('Количество пропусков до заполнения:', data['ponds_around3000'].isna().sum())\n",
    "for i in locality_name_unique_ponds_around:\n",
    "    (data.loc[(data['locality_name'] == i) & (data['ponds_around3000'].isna() == True),'ponds_around3000'] = \n",
    "     data.loc[(data['locality_name'] == i) & (data['ponds_around3000'].isna() == True),'ponds_around3000']\n",
    "     .fillna(round(float(ponds_around_stat.loc[ponds_around_stat['locality_name'] == i, 'ponds_around3000']), 0)))\n",
    "print('Количество пропусков после заполнения:', data['ponds_around3000'].isna().sum())"
   ]
  },
  {
   "cell_type": "code",
   "execution_count": null,
   "metadata": {
    "scrolled": true
   },
   "outputs": [],
   "source": [
    "# следующий столбец ponds_nearest\n",
    "# скорее всего логика появления пропусков будет такая же, как в 'park_nearest'. Проверим.\n",
    "print(data['ponds_nearest'].isna().sum())\n",
    "data['ponds_nearest'].describe()"
   ]
  },
  {
   "cell_type": "code",
   "execution_count": null,
   "metadata": {},
   "outputs": [],
   "source": [
    "#заполним пропуски как и раньше\n",
    "ponds_nearest_stat = data.pivot_table(index='locality_name', values='ponds_nearest', aggfunc='median').reset_index()\n",
    "locality_name_unique_ponds_nearest = ponds_nearest_stat['locality_name'].unique()\n",
    "print('Количество пропусков до заполнения:', data['ponds_nearest'].isna().sum())\n",
    "for i in locality_name_unique_ponds_nearest:\n",
    "    data.loc[(data['locality_name'] == i) & (data['ponds_nearest'].isna() == True),'ponds_nearest'] = data.loc[(data['locality_name'] == i) & (data['ponds_nearest'].isna() == True),'ponds_nearest'].fillna(float(ponds_nearest_stat.loc[ponds_nearest_stat['locality_name'] == i, 'ponds_nearest']))\n",
    "print('Количество пропусков после заполнения:', data['ponds_nearest'].isna().sum())"
   ]
  },
  {
   "cell_type": "code",
   "execution_count": null,
   "metadata": {},
   "outputs": [],
   "source": [
    "data.loc[(data['ponds_around3000'].isna() == False) & (data['ponds_nearest'].isna() == True)]['ponds_around3000'].unique()"
   ]
  },
  {
   "cell_type": "markdown",
   "metadata": {},
   "source": [
    "**Пропуски так же обусловлены тем, что нет прудов поблизости.**"
   ]
  },
  {
   "cell_type": "code",
   "execution_count": null,
   "metadata": {},
   "outputs": [],
   "source": [
    "# следующий столбец days_exposition\n",
    "print(data['days_exposition'].isna().sum())\n",
    "data['days_exposition'].describe()"
   ]
  },
  {
   "cell_type": "markdown",
   "metadata": {},
   "source": [
    "**Данный показатель скорее всего считается автоматически. Поэтому ошибок быть не должно. Скорее всего данные объявления на день выгрузки датасета еще были активными. День выгрузки данных мы не знаем, поэтому заполнить эти данные вряд ли получится. Но можно попробовать посмотреть корреляцю с другими показателями и попробовать заполнить медианными значениями в зависимости от выявленных связей**"
   ]
  },
  {
   "cell_type": "code",
   "execution_count": null,
   "metadata": {},
   "outputs": [],
   "source": [
    "data.corr()['days_exposition']"
   ]
  },
  {
   "cell_type": "markdown",
   "metadata": {},
   "source": [
    "**Никаких корреляционных связей мы не нашли, среднее и медиана очень различаются, поэтому пропуски заполнить не получится**"
   ]
  },
  {
   "cell_type": "markdown",
   "metadata": {},
   "source": [
    "**Проверим сколько пропусков данных в датасете сейчас**"
   ]
  },
  {
   "cell_type": "code",
   "execution_count": null,
   "metadata": {},
   "outputs": [],
   "source": [
    "data.isna().sum()"
   ]
  },
  {
   "cell_type": "markdown",
   "metadata": {},
   "source": [
    "**Небольшие промежуточные выводы**\n",
    "* Удалость избавиться от части пропусков\n",
    "* Пропуски возникали как по вине пользователей, так и картографических сервисов.\n",
    "* Часть пропусков можно заполнить, запросив информацию у заказчика."
   ]
  },
  {
   "cell_type": "markdown",
   "metadata": {},
   "source": [
    "#### Изменение типов данных"
   ]
  },
  {
   "cell_type": "code",
   "execution_count": null,
   "metadata": {},
   "outputs": [],
   "source": [
    "data.info()"
   ]
  },
  {
   "cell_type": "markdown",
   "metadata": {},
   "source": [
    "**Вызывают вопрос следующие столбцы:**\n",
    "* first_day_exposition - показывает время (datetime)\n",
    "* floors_total - целое число\n",
    "* is_apartment - булевое значение\n",
    "* balcony - целое число\n",
    "* parks_around3000 - целое число\n",
    "* ponds_around3000 - целое число\n",
    "* days_exposition - целое число\n",
    "\n",
    "**Приступим к смене типов данных в указанных столбцах**"
   ]
  },
  {
   "cell_type": "code",
   "execution_count": null,
   "metadata": {},
   "outputs": [],
   "source": [
    "# напишем функцию для перевода значений в столбце в тип 'int'\n",
    "def change_type_num(column): \n",
    "    data.loc[data[column].isna() == True, column] = -1 \n",
    "    data[column] = data[column].astype('int') \n",
    "    data.loc[data[column] == -1, column] = pd.NA \n",
    "    data[column] = data[column].astype('Int64') #данный формат int может содержать NaN\n",
    "\n",
    "for column in ['last_price','floors_total', 'balcony', 'parks_around3000', 'ponds_around3000', 'days_exposition']:\n",
    "    change_type_num(column)\n",
    "\n",
    "# теперь изменим формат first_day_exposition\n",
    "data['first_day_exposition'] = pd.to_datetime(data['first_day_exposition'], format='%Y-%m-%dT%H:%M:%S')\n",
    "\n",
    "# и наконец изменим столбец is_apartment на булевые значения\n",
    "data['is_apartment'] = data['is_apartment'].astype('bool')\n",
    "data.info()\n"
   ]
  },
  {
   "cell_type": "markdown",
   "metadata": {},
   "source": [
    "**Все наши запланированные изменения типов данных выполнены!**\n",
    "Нам необходимо было изменить типы данных, чтобы дальнейшие рассчеты с целыми числами были правильными, ячейка с датой и временем необходимы для возможности работы в датой и временем."
   ]
  },
  {
   "cell_type": "markdown",
   "metadata": {},
   "source": [
    "#### Выбросы в данных\n",
    "Начнем перебирать все столбцы подряд (кроме булевых и строковых) и оценивать редкие значения и выбросы.\n"
   ]
  },
  {
   "cell_type": "code",
   "execution_count": null,
   "metadata": {},
   "outputs": [],
   "source": [
    "data['total_images'].hist(bins=100)\n",
    "data['total_images'].describe()"
   ]
  },
  {
   "cell_type": "markdown",
   "metadata": {},
   "source": [
    "Видно, что значения более 20 встречаются крайне редко. Можем их принять за редкие и удалить"
   ]
  },
  {
   "cell_type": "code",
   "execution_count": null,
   "metadata": {},
   "outputs": [],
   "source": [
    "good_data = data.query('total_images <= 20')"
   ]
  },
  {
   "cell_type": "code",
   "execution_count": null,
   "metadata": {},
   "outputs": [],
   "source": [
    "(data['last_price'] / 1000).hist(bins=100) #уменьшим цену в 1000 раз для лучшего восприятия цифр\n",
    "(data['last_price'] / 1000).describe()"
   ]
  },
  {
   "cell_type": "markdown",
   "metadata": {},
   "source": [
    "Видно, что значения более 20 млн встречаются крайне редко, однако могут вносить изменения в среднее. Можем их принять за редкие и удалить"
   ]
  },
  {
   "cell_type": "code",
   "execution_count": null,
   "metadata": {},
   "outputs": [],
   "source": [
    "good_data = data.query('last_price <= 20000000')"
   ]
  },
  {
   "cell_type": "code",
   "execution_count": null,
   "metadata": {
    "scrolled": false
   },
   "outputs": [],
   "source": [
    "data['total_area'].hist(bins=100)\n",
    "data['total_area'].describe()"
   ]
  },
  {
   "cell_type": "markdown",
   "metadata": {},
   "source": [
    "Квартиры общей площадью более 200 метров встречаются к очень редко, удалим их из базы"
   ]
  },
  {
   "cell_type": "code",
   "execution_count": null,
   "metadata": {},
   "outputs": [],
   "source": [
    "good_data = good_data.query('total_area <= 200')"
   ]
  },
  {
   "cell_type": "code",
   "execution_count": null,
   "metadata": {},
   "outputs": [],
   "source": [
    "data['rooms'].hist(bins=10)\n",
    "data['rooms'].describe()"
   ]
  },
  {
   "cell_type": "markdown",
   "metadata": {},
   "source": [
    "Квартиры с количеством комнат более 6 встречаются к очень редко, удалим их из базы"
   ]
  },
  {
   "cell_type": "code",
   "execution_count": null,
   "metadata": {},
   "outputs": [],
   "source": [
    "good_data = good_data.query('rooms <= 6')"
   ]
  },
  {
   "cell_type": "code",
   "execution_count": null,
   "metadata": {},
   "outputs": [],
   "source": [
    "data['ceiling_height'].hist(bins=50)\n",
    "data['ceiling_height'].sort_values().unique()"
   ]
  },
  {
   "cell_type": "markdown",
   "metadata": {},
   "source": [
    "Высота потолков вряд ли может быть менее 2.2 и более 4 метров, поэтому удалим данные значения. Так же видно, что в данных прослеживается явные аномальные значения, увеличенные в 10 раз. Исправим данные ошибки."
   ]
  },
  {
   "cell_type": "code",
   "execution_count": null,
   "metadata": {
    "scrolled": false
   },
   "outputs": [],
   "source": [
    "good_data.loc[good_data['ceiling_height'] > 10, 'ceiling_height'] = good_data.loc[good_data['ceiling_height'] > 10, 'ceiling_height'] / 10\n",
    "good_data = good_data.query('2.2 <= ceiling_height <= 4')\n",
    "good_data['ceiling_height'].hist()"
   ]
  },
  {
   "cell_type": "code",
   "execution_count": null,
   "metadata": {},
   "outputs": [],
   "source": [
    "data['floors_total'].hist(bins=10)\n",
    "print(data['floors_total'].sort_values().unique())\n",
    "print('Количество пропусков в данном столбце:', data['floors_total'].isna().sum())"
   ]
  },
  {
   "cell_type": "markdown",
   "metadata": {},
   "source": [
    "Количество объявлений, где количество этажей больше 30 очень мало, поэтому удалим эти редкие значения. 86 пропусков тоже удалим."
   ]
  },
  {
   "cell_type": "code",
   "execution_count": null,
   "metadata": {},
   "outputs": [],
   "source": [
    "good_data = good_data.query('floors_total <= 30')\n",
    "good_data = good_data.dropna(subset=['floors_total'])\n",
    "good_data['floors_total'].hist(bins=10)"
   ]
  },
  {
   "cell_type": "code",
   "execution_count": null,
   "metadata": {},
   "outputs": [],
   "source": [
    "data['living_area'].hist(bins=100)\n",
    "data['living_area'].describe()"
   ]
  },
  {
   "cell_type": "markdown",
   "metadata": {},
   "source": [
    "Квартиры с жилой площадью более 100 метров встречаются редко, поэтому удалим данные значения"
   ]
  },
  {
   "cell_type": "code",
   "execution_count": null,
   "metadata": {},
   "outputs": [],
   "source": [
    "good_data = good_data.query('living_area <= 100')\n",
    "good_data['living_area'].hist(bins=100)"
   ]
  },
  {
   "cell_type": "code",
   "execution_count": null,
   "metadata": {
    "scrolled": true
   },
   "outputs": [],
   "source": [
    "data['floor'].hist(bins=10)\n",
    "data['floor'].describe()"
   ]
  },
  {
   "cell_type": "markdown",
   "metadata": {},
   "source": [
    "Квартиры выше, чем на 25 этаже встречаются очень редко, удалим квартиры, которые выше."
   ]
  },
  {
   "cell_type": "code",
   "execution_count": null,
   "metadata": {
    "scrolled": true
   },
   "outputs": [],
   "source": [
    "good_data = good_data.query('floor <= 25')\n",
    "good_data['floor'].hist(bins=10)"
   ]
  },
  {
   "cell_type": "code",
   "execution_count": null,
   "metadata": {
    "scrolled": true
   },
   "outputs": [],
   "source": [
    "data['kitchen_area'].hist(bins=50)\n",
    "data['kitchen_area'].describe()"
   ]
  },
  {
   "cell_type": "markdown",
   "metadata": {},
   "source": [
    "Квартиры с кухней более 30 м встречаются очень редко, удалим квартиры, где площадь кухни больше."
   ]
  },
  {
   "cell_type": "code",
   "execution_count": null,
   "metadata": {
    "scrolled": true
   },
   "outputs": [],
   "source": [
    "good_data = good_data.query('kitchen_area <= 30')\n",
    "good_data['kitchen_area'].hist(bins=10)"
   ]
  },
  {
   "cell_type": "code",
   "execution_count": null,
   "metadata": {
    "scrolled": true
   },
   "outputs": [],
   "source": [
    "data['balcony'].hist(bins=50)\n",
    "data['balcony'].describe()"
   ]
  },
  {
   "cell_type": "markdown",
   "metadata": {},
   "source": [
    "В данном столбце данные удалять не будем, все распределено достаточно логично."
   ]
  },
  {
   "cell_type": "code",
   "execution_count": null,
   "metadata": {},
   "outputs": [],
   "source": [
    "data['airports_nearest'].hist(bins=50)\n",
    "data['airports_nearest'].describe()"
   ]
  },
  {
   "cell_type": "markdown",
   "metadata": {},
   "source": [
    "Данные менять не будем!Пик на графике в районе 50 км вероятно обусловлен тем, что на данном растоянии от аэропорта находится крупный город с большим количеством объявлений."
   ]
  },
  {
   "cell_type": "code",
   "execution_count": null,
   "metadata": {},
   "outputs": [],
   "source": [
    "data['city_centers_nearest'].hist(bins=50)\n",
    "data['city_centers_nearest'].describe()"
   ]
  },
  {
   "cell_type": "markdown",
   "metadata": {},
   "source": [
    "Значения более 55000 м встречаются крайне редко, удалим их. Пропуски пока оставим!"
   ]
  },
  {
   "cell_type": "code",
   "execution_count": null,
   "metadata": {},
   "outputs": [],
   "source": [
    "good_data = good_data.query('(city_centers_nearest <= 55000) | (city_centers_nearest.isna() == True)')\n",
    "good_data['city_centers_nearest'].hist(bins=50)"
   ]
  },
  {
   "cell_type": "code",
   "execution_count": null,
   "metadata": {},
   "outputs": [],
   "source": [
    "data['parks_around3000'].hist(bins=10)\n",
    "data['parks_around3000'].describe()"
   ]
  },
  {
   "cell_type": "markdown",
   "metadata": {},
   "source": [
    "Все выглядит правильно, удалять ничего не будем."
   ]
  },
  {
   "cell_type": "code",
   "execution_count": null,
   "metadata": {},
   "outputs": [],
   "source": [
    "data['parks_nearest'].hist(bins=100)\n",
    "data['parks_nearest'].describe()"
   ]
  },
  {
   "cell_type": "markdown",
   "metadata": {},
   "source": [
    "Значения более 750м стречаются крайне редко, удалим их."
   ]
  },
  {
   "cell_type": "code",
   "execution_count": null,
   "metadata": {
    "scrolled": true
   },
   "outputs": [],
   "source": [
    "good_data = good_data.query('(parks_nearest <= 750) | (parks_nearest.isna() == True)')\n",
    "good_data['parks_nearest'].hist(bins=10)"
   ]
  },
  {
   "cell_type": "markdown",
   "metadata": {},
   "source": [
    "Нужно проверить предположение, что в некоторых объявлениях, где количество парков в радиусе 3000м равно 0, данный показатель тоже могли оченить как 0. Если это так, то нужно удалить нулевые значения, где количество парков в радиусе 3000м равно 0."
   ]
  },
  {
   "cell_type": "code",
   "execution_count": null,
   "metadata": {},
   "outputs": [],
   "source": [
    "good_data.loc[(good_data['parks_around3000'] == 0) & (good_data['parks_nearest'] == 0), 'parks_around3000'].count()"
   ]
  },
  {
   "cell_type": "markdown",
   "metadata": {},
   "source": [
    "Таких объявлений нет, все в порядке!"
   ]
  },
  {
   "cell_type": "code",
   "execution_count": null,
   "metadata": {},
   "outputs": [],
   "source": [
    "data['ponds_around3000'].hist(bins=10)\n",
    "data['ponds_around3000'].describe()"
   ]
  },
  {
   "cell_type": "markdown",
   "metadata": {},
   "source": [
    "Все выглядит правильно, удалять ничего не будем."
   ]
  },
  {
   "cell_type": "code",
   "execution_count": null,
   "metadata": {},
   "outputs": [],
   "source": [
    "data['ponds_nearest'].hist(bins=100)\n",
    "data['ponds_nearest'].describe()"
   ]
  },
  {
   "cell_type": "markdown",
   "metadata": {},
   "source": [
    "Значения более 1000м стречаются крайне редко, удалим их."
   ]
  },
  {
   "cell_type": "code",
   "execution_count": null,
   "metadata": {},
   "outputs": [],
   "source": [
    "good_data = good_data.query('(ponds_nearest <= 1000) | (ponds_nearest.isna() == True)')\n",
    "good_data['ponds_nearest'].hist(bins=10)"
   ]
  },
  {
   "cell_type": "code",
   "execution_count": null,
   "metadata": {},
   "outputs": [],
   "source": [
    "data['days_exposition'].hist(bins=100)\n",
    "data['days_exposition'].describe()"
   ]
  },
  {
   "cell_type": "markdown",
   "metadata": {},
   "source": [
    "Значения более 800 всречаются редко, поэтому удалим их."
   ]
  },
  {
   "cell_type": "code",
   "execution_count": null,
   "metadata": {},
   "outputs": [],
   "source": [
    "good_data = good_data.query('(days_exposition <= 800) | (days_exposition.isna() == True)')\n",
    "good_data['days_exposition'].hist(bins=100)"
   ]
  },
  {
   "cell_type": "markdown",
   "metadata": {},
   "source": [
    "**Проверим, что теперь стало с нашим обновленным датасетом**"
   ]
  },
  {
   "cell_type": "code",
   "execution_count": null,
   "metadata": {
    "scrolled": true
   },
   "outputs": [],
   "source": [
    "good_data.info()\n",
    "good_data.isna().sum()"
   ]
  },
  {
   "cell_type": "markdown",
   "metadata": {},
   "source": [
    "**Промежуточные выводы**\n",
    "* Данные очищены от большого количества пропусков, возникших из-за ошибок пользователей. Остались пропуски в картографических данных, которые можно запросить у заказчика, для получения более точных результатов.\n",
    "* Мы избавились от невных дубликатов в столбце с названиями населенных пунктов\n",
    "* Мы очистили данные от выбросов и явных ошибок"
   ]
  },
  {
   "cell_type": "markdown",
   "metadata": {},
   "source": [
    "### Добавление новых столбцов"
   ]
  },
  {
   "cell_type": "markdown",
   "metadata": {},
   "source": [
    "Добавим новые столбцы в таблицу согласно инструкции"
   ]
  },
  {
   "cell_type": "code",
   "execution_count": null,
   "metadata": {
    "scrolled": true
   },
   "outputs": [],
   "source": [
    "#цена одного квадратного метра\n",
    "good_data['sq_meter_price'] = (good_data['last_price'] / good_data['total_area'])\n",
    "\n",
    "#день недели публикации объявления \n",
    "good_data['week_day'] = good_data['first_day_exposition'].dt.weekday\n",
    "\n",
    "#месяц публикации объявления\n",
    "good_data['month'] = good_data['first_day_exposition'].dt.month\n",
    "\n",
    "#год публикации объявления\n",
    "good_data['year'] = good_data['first_day_exposition'].dt.year\n",
    "\n",
    "#тип этажа квартиры (значения — «первый», «последний», «другой»)\n",
    "def floor_type(row):\n",
    "    try:\n",
    "        if row['floor'] == 1:\n",
    "            return 'первый'\n",
    "        if 1 < row['floor'] < row['floors_total']:\n",
    "            return 'другой'\n",
    "        if row['floor'] == row['floors_total']:\n",
    "            return 'последний'\n",
    "    except:\n",
    "        pass\n",
    "good_data['floor_type'] = good_data.apply(floor_type, axis=1)\n",
    "\n",
    "#расстояние до центра города в километрах\n",
    "good_data['city_centers_nearest_km'] = (good_data['city_centers_nearest'] / 1000).round(0)\n",
    "\n",
    "good_data.head()"
   ]
  },
  {
   "cell_type": "markdown",
   "metadata": {},
   "source": [
    "**Все необходимые столбцы добавлены!**"
   ]
  },
  {
   "cell_type": "code",
   "execution_count": null,
   "metadata": {},
   "outputs": [],
   "source": [
    "good_data['city_centers_nearest_km']\n"
   ]
  },
  {
   "cell_type": "markdown",
   "metadata": {},
   "source": [
    "### Исследовательский анализ данных"
   ]
  },
  {
   "cell_type": "markdown",
   "metadata": {},
   "source": [
    "#### Изучим некоторые параметры объектов \n",
    "- общая площадь;\n",
    "- жилая площадь;\n",
    "- площадь кухни;\n",
    "- цена объекта;\n",
    "- количество комнат;\n",
    "- высота потолков;\n",
    "- этаж квартиры;\n",
    "- тип этажа квартиры («первый», «последний», «другой»);\n",
    "- общее количество этажей в доме;\n",
    "- расстояние до центра города в метрах;\n",
    "- расстояние до ближайшего аэропорта;\n",
    "- расстояние до ближайшего парка."
   ]
  },
  {
   "cell_type": "code",
   "execution_count": null,
   "metadata": {
    "scrolled": false
   },
   "outputs": [],
   "source": [
    "#общая площадь\n",
    "good_data['total_area'].hist(bins=50)\n",
    "good_data['total_area'].describe()"
   ]
  },
  {
   "cell_type": "code",
   "execution_count": null,
   "metadata": {
    "scrolled": true
   },
   "outputs": [],
   "source": [
    "#жилая площадь\n",
    "good_data['living_area'].hist(bins=50)\n",
    "good_data['living_area'].describe()"
   ]
  },
  {
   "cell_type": "code",
   "execution_count": null,
   "metadata": {},
   "outputs": [],
   "source": [
    "#площадь кухни\n",
    "good_data['kitchen_area'].hist(bins=50)\n",
    "good_data['kitchen_area'].describe()"
   ]
  },
  {
   "cell_type": "code",
   "execution_count": null,
   "metadata": {
    "scrolled": true
   },
   "outputs": [],
   "source": [
    "#цена объекта\n",
    "(good_data['last_price'] / 1000).hist(bins=50) #уменьшим на 1000 для лучшего восприятия цифры\n",
    "(good_data['last_price'] / 1000).describe()"
   ]
  },
  {
   "cell_type": "code",
   "execution_count": null,
   "metadata": {},
   "outputs": [],
   "source": [
    "#количество комнат\n",
    "good_data['rooms'].hist(bins=50)\n",
    "good_data['rooms'].describe()"
   ]
  },
  {
   "cell_type": "code",
   "execution_count": null,
   "metadata": {},
   "outputs": [],
   "source": [
    "#высота потолков\n",
    "good_data['ceiling_height'].hist(bins=50)\n",
    "good_data['ceiling_height'].describe()"
   ]
  },
  {
   "cell_type": "code",
   "execution_count": null,
   "metadata": {
    "scrolled": true
   },
   "outputs": [],
   "source": [
    "#этаж квартиры\n",
    "good_data['floor'].hist(bins=50)\n",
    "good_data['floor'].describe()"
   ]
  },
  {
   "cell_type": "code",
   "execution_count": null,
   "metadata": {
    "scrolled": false
   },
   "outputs": [],
   "source": [
    "#тип этажа\n",
    "good_data['floor_type'].hist(bins=3)\n",
    "good_data['floor_type'].describe()"
   ]
  },
  {
   "cell_type": "code",
   "execution_count": null,
   "metadata": {},
   "outputs": [],
   "source": [
    "#общее количество этажей\n",
    "good_data['floors_total'].hist(bins=30)\n",
    "good_data['floors_total'].describe()"
   ]
  },
  {
   "cell_type": "code",
   "execution_count": null,
   "metadata": {},
   "outputs": [],
   "source": [
    "#расстояние до центра города\n",
    "good_data['city_centers_nearest'].hist(bins=50)\n",
    "good_data['city_centers_nearest'].describe()"
   ]
  },
  {
   "cell_type": "code",
   "execution_count": null,
   "metadata": {
    "scrolled": false
   },
   "outputs": [],
   "source": [
    "#расстояние до ближайшего аэропорта\n",
    "good_data['airports_nearest'].hist(bins=50)\n",
    "good_data['airports_nearest'].describe()"
   ]
  },
  {
   "cell_type": "code",
   "execution_count": null,
   "metadata": {},
   "outputs": [],
   "source": [
    "#расстояние до ближайшего парка\n",
    "good_data['parks_nearest'].hist(bins=50)\n",
    "good_data['parks_nearest'].describe()"
   ]
  },
  {
   "cell_type": "code",
   "execution_count": null,
   "metadata": {
    "scrolled": false
   },
   "outputs": [],
   "source": [
    "#месяцы\n",
    "good_data['month'].hist(bins=12)\n",
    "good_data['month'].describe()"
   ]
  },
  {
   "cell_type": "code",
   "execution_count": null,
   "metadata": {},
   "outputs": [],
   "source": [
    "#месяцы\n",
    "good_data['year'].hist(bins=15)\n",
    "good_data['year'].describe()"
   ]
  },
  {
   "cell_type": "markdown",
   "metadata": {},
   "source": [
    "**Общая площадь квартир**   \n",
    "Средняя площадь квартир около 56 м<sup>2</sup>, медиана чуть меньше - 50 м<sup>2</sup>, что связано с большим количеством небольших квартир. Половина выставленных на продажу квартир имеют площадь от 39 до 66 м<sup>2</sup>.   \n",
    "\n",
    "**Жилая площадь квартир**   \n",
    "Средняя жилая площадь квартир около 32 м<sup>2</sup>, медиана чуть меньше - 30 м<sup>2</sup>. На гистограмме мы видим несколько пиков 18, 30 и 42<sup>2</sup>, что вероятно связано с типовыми проектными решениями при строительстве квартир.  \n",
    "\n",
    "**Площадь кухни**   \n",
    "Средняя площадь кухни около 9 м<sup>2</sup> (среднее и медиана практически равны). Половина выставленных на продажу квартир имеют площадь кухни от 7 до 11 м<sup>2</sup> (так же стандартное проектное решение при строительстве квартир).   \n",
    "\n",
    "**Цена объекта**   \n",
    "Средняя цена объекта около 5,2 млн, медиана 4,5 млн, что достаточно логично, потому что дорогого жилья продается гораздо меньше, поэтому медиана смещена в меньшую сторону, где находится большинство объявлений. Распределение цен выглядит практически как нормальное. Половина выставленных на продажу квартир имеют стоимость от 3,3 до 6,3 млн.    \n",
    "\n",
    "**Количество комнат**\n",
    "Больше всего продают 1-, 2- и 3-х комнатные квартиры. Это связано с их большей распространенностью при типовом строительстве домов.    \n",
    "\n",
    "**Высота потолков**\n",
    "Самая частая высота потолков 2,65 м - это наиболее частый стандарт высоты при строительстве домов. Есть пики на 2,5 и 2,75 м. Встречаются редкие случаи, где высота потолков более 3 метров. Скорее свего это дома сталинской постройки.    \n",
    "\n",
    "**Этаж квартиры**\n",
    "На графике видно несколько групп с 1 по 5 этаж, с 5 по 10 и больше 10.   \n",
    "Чаще всего продают квартиры на этажах с 1 по 5 этажи, а среди этой подгруппы самые частые продажи на 2 этаже.   \n",
    "С 5 по 10 этаж квартиры продают практически в 2 раза реже (этих домов в целом меньше).   \n",
    "В подгруппе больше 10 этажа квартир становится все меньше и меньше. Интересная особенность: квартиры на 13 этаже практически не продают.   \n",
    "\n",
    "**Тип этажа**   \n",
    "Почти 75% квартир имеют тип этажа **\"другой\"**. Квартиры на **\"первом\"** и на **\"последнем\"** этажах продают практически одинаково часто.    \n",
    "\n",
    "**Общее количество этажей**   \n",
    "Среднее количество этажей 10, медиана 9. При этом мы видим несколько пиков, чаще всего покупают квартиры в домах, где 5 этажей, затем 9. Это 2 самых частых варианта постройки многоквартирных домов в России. Также есть пики 12, 17 и 25 этажей.   \n",
    "\n",
    "**Расстояние до центра города**   \n",
    "Среднее расстояние до центра города около 15 км, медиана 13,6 км. Половина домов из объявлений находятся на расстоянии от 10 до 17 км от центра города. Пики на 22, 30, 40 и 50 км вероятно связаны с тем, что там расположены крупные микрорайоны или другие населенные пункты.   \n",
    "\n",
    "**Расстояние до ближайшего аэропорта**\n",
    "Среднее расстояние до аэропорта 29,8 км, медиана 27,8 км. Однако самое частое расположение от эаропорта 50 км, вроятно эта большое количество объявлений из Санкт-Петербурга.    \n",
    "\n",
    "**Расстояние до ближайшего парка**   \n",
    "Почти в половине всех объявлений расстояние до ближайшего парка 450 м, что очень здорово, парк в пешей доступности. Остальные значения встречаются гораздо реже.    \n",
    "\n",
    "**Месяц**  \n",
    "К весне и лету отмечается некоторый спад продаж.   \n",
    "\n",
    "**Год**   \n",
    "C каждым годом объявлений становится все больше. Видимо это связано с развитием самого сервиса. А в 2019г представлены данные не за весь год (вероятнее всего зависит от даты выгрузки датасета), либо с сервисом что-то не так, клиенты уходят.  \n",
    " \n",
    "\n"
   ]
  },
  {
   "cell_type": "markdown",
   "metadata": {},
   "source": [
    "#### Как быстро продавались квартиры "
   ]
  },
  {
   "cell_type": "code",
   "execution_count": null,
   "metadata": {
    "scrolled": false
   },
   "outputs": [],
   "source": [
    "good_data['days_exposition'].hist(bins=100)\n",
    "print(good_data['days_exposition'].value_counts().head())\n",
    "print(good_data['days_exposition'].describe())"
   ]
  },
  {
   "cell_type": "code",
   "execution_count": null,
   "metadata": {},
   "outputs": [],
   "source": [
    "good_data.boxplot(column='days_exposition');"
   ]
  },
  {
   "cell_type": "markdown",
   "metadata": {},
   "source": [
    "Среднее количество дней, за которое продавалась квартира, 153 дня. Медиана 90 дней. Пуассоновское распределение значений. Видны очень яркие пики на 45, 60, 90 днях, это очень похоже на какие-то стандартные значения (возможно объявление автоматически удалялось в архив, или заканчивалось платное размещение объявления).    \n",
    "Половина объявлений закрывалось в период от 43 до 206 дней.\n",
    "Очень долгим объявление можно считать примерно после 450 дней размещения. Все быстрые продажи укладывались в \"ус\" боксплота и значимых выбросов не было. Поэтому все что меньше 43 дней можно считать достаточно быстрым. "
   ]
  },
  {
   "cell_type": "markdown",
   "metadata": {},
   "source": [
    "#### От чего зависит цена? \n",
    "Оценим корреляцию цены со всеми данными, а затем подробно изучим взаимосвязь с:   \n",
    "- общей площадью;\n",
    "- жилой площадью;\n",
    "- площадью кухни;\n",
    "- количеством комнат;\n",
    "- этажом, на котором расположена квартира (первый, последний, другой);\n",
    "- датой размещения (день недели, месяц, год)."
   ]
  },
  {
   "cell_type": "code",
   "execution_count": null,
   "metadata": {},
   "outputs": [],
   "source": [
    "good_data.corr()['last_price'].sort_values(ascending=False)"
   ]
  },
  {
   "cell_type": "markdown",
   "metadata": {},
   "source": [
    "Мы видим явную положительную корреляционную связь цены с общей площадью, ценой квардатного метра, жилой площадью, площадью кухни и количеством комнат(но уже гораздо слабее), а также отрицательную связь с расстоянием до центра города."
   ]
  },
  {
   "cell_type": "markdown",
   "metadata": {},
   "source": [
    "Построим графики зависимости цены от выбранных параметров"
   ]
  },
  {
   "cell_type": "code",
   "execution_count": null,
   "metadata": {
    "scrolled": false
   },
   "outputs": [],
   "source": [
    "column_list = ['total_area', 'living_area', 'kitchen_area', 'rooms', 'floor_type', 'week_day', 'month', 'year']\n",
    "for i in column_list:\n",
    "    good_data.plot(x=i, y='last_price', kind='scatter', alpha=0.005)"
   ]
  },
  {
   "cell_type": "markdown",
   "metadata": {},
   "source": [
    "Полученные графики подтверждают рассчитанные цифровые данные корреляции. \n",
    "- с общей площадью квартиры отмечается самая лучшая корреляция, затем с жилой площадью и площадью кухни\n",
    "- с количеством комнат отмечается взаимосвязь, однако если в квртире более 3 комнат, то связь пропадает (возможно нелинейная зависимость)\n",
    "- взаимосвязь с типом этажа имеет нелинейную форму (парабола ветви вниз), если провести аналогию первый - 1, другой - 2, последний - 3. Первый и последний этажи дешевле\n",
    "- с днем недели и месяцем зависимости никакой нет. В любой месяц и день недели цены остаются приблизительно одинаковыми.\n",
    "- с годом подачи объявления также нет никакой связи, при этом мы видим, что свежих объявлений больше."
   ]
  },
  {
   "cell_type": "markdown",
   "metadata": {},
   "source": [
    "#### Посчитаем среднюю цену одного квадратного метра в 10 населённых пунктах с наибольшим числом объявлений."
   ]
  },
  {
   "cell_type": "code",
   "execution_count": null,
   "metadata": {
    "scrolled": true
   },
   "outputs": [],
   "source": [
    "data.groupby('locality_name').agg({'balcony':'count', 'last_price':'median'}) \\\n",
    "    .sort_values(by = 'balcony', ascending = False) \\\n",
    "    .head(10)"
   ]
  },
  {
   "cell_type": "code",
   "execution_count": null,
   "metadata": {},
   "outputs": [],
   "source": [
    "print('Средняя цена квадратного метра в ТОП-10 районах по количеству объявлений:', (good_data.pivot_table(index='locality_name', values='sq_meter_price', aggfunc='mean')\n",
    " .sort_values(by='sq_meter_price', ascending=False).head(10))['sq_meter_price'].mean().round(1), 'рублей.')"
   ]
  },
  {
   "cell_type": "markdown",
   "metadata": {},
   "source": [
    "Топ-10 населенных пунктов с самым дорогим жильем"
   ]
  },
  {
   "cell_type": "code",
   "execution_count": null,
   "metadata": {},
   "outputs": [],
   "source": [
    "(good_data.pivot_table(index='locality_name', values='sq_meter_price', aggfunc='mean')\n",
    " .sort_values(by='sq_meter_price', ascending=False).head(10))"
   ]
  },
  {
   "cell_type": "markdown",
   "metadata": {},
   "source": [
    "**Самые дорогие квартиры не в Санкт-Петербурге! Даже в поселке Лисий Нос дороже!**"
   ]
  },
  {
   "cell_type": "markdown",
   "metadata": {},
   "source": [
    "Топ-10 населенных пунктов с самым дешевым жильем"
   ]
  },
  {
   "cell_type": "code",
   "execution_count": null,
   "metadata": {},
   "outputs": [],
   "source": [
    "(good_data.pivot_table(index='locality_name', values='sq_meter_price', aggfunc='mean')\n",
    ".sort_values(by='sq_meter_price', ascending=False).tail(10))"
   ]
  },
  {
   "cell_type": "markdown",
   "metadata": {},
   "source": [
    "Самое дешевое жилье в деревне Старополье. 11 тыс. рублей за м<sup>2</sup>!"
   ]
  },
  {
   "cell_type": "markdown",
   "metadata": {},
   "source": [
    "#### Рассчитаем цену 1 километра в Санкт-Петербурге."
   ]
  },
  {
   "cell_type": "code",
   "execution_count": null,
   "metadata": {
    "scrolled": true
   },
   "outputs": [],
   "source": [
    "print('Средняя цена 1 км в Санкт-Петербурге равна', \n",
    "      (good_data.loc[good_data['locality_name'] == 'Санкт-Петербург', 'last_price'].mean() /\n",
    "       good_data.loc[good_data['locality_name'] == 'Санкт-Петербург', 'city_centers_nearest_km']\n",
    "       .mean()).round(1), 'рублей.')\n",
    "print('Корреляция между ценой и расстоянием до центра города в километрах в Санкт-Петербурге', \n",
    "      (good_data.loc[good_data['locality_name'] == 'Санкт-Петербург', 'last_price']\n",
    "       .astype('float').corr(good_data.loc[good_data['locality_name'] == 'Санкт-Петербург', 'city_centers_nearest_km']))\n",
    "       .round(2))\n",
    "print('Корреляция между ценой и расстоянием до центра города в километрах общая', \n",
    "      good_data['last_price'].astype('float').corr(good_data['city_centers_nearest_km']).round(2))\n"
   ]
  },
  {
   "cell_type": "markdown",
   "metadata": {},
   "source": [
    "Мы обнаружили очень интересную закономерность - выявляется отрицательная корреляционная зависимость! Цена квартиры уменьшается при увеличении расстояния до центра города."
   ]
  },
  {
   "cell_type": "code",
   "execution_count": null,
   "metadata": {
    "scrolled": false
   },
   "outputs": [],
   "source": [
    "good_data_spb = good_data.query('locality_name == \"Санкт-Петербург\"')\n",
    "spb_km_price = good_data_spb.pivot_table(index='city_centers_nearest_km', values='last_price', aggfunc='mean')['last_price'].astype('float').round(1).reset_index()\n",
    "display(spb_km_price)\n",
    "spb_km_price['last_price'] = spb_km_price['last_price'] / 1000 # уменьшим цену на 1000 для простоты восприятия\n",
    "spb_km_price.plot(x='километры (от центра города)', y='цена квартиры', grid = True, title = 'Стоимость жилья в зависимости от удаленности от центра города');"
   ]
  },
  {
   "cell_type": "markdown",
   "metadata": {},
   "source": [
    "**Видим четкую зависимость: чем дальше от центра города, тем дешевле жилье!**"
   ]
  },
  {
   "cell_type": "markdown",
   "metadata": {},
   "source": [
    "### Общий вывод   \n",
    "В ходе проведенного исследования мы выполнили:\n",
    "- избавились от части пропусков. Пропуски возникали как в данных от пользователей, так и из картографических сервисов (эту часть проусков можно заполнить, запросив информацию у заказчика).\n",
    "- заменили типы данных. Нам необходимо было изменить типы данных, чтобы дальнейшие рассчеты с целыми числами были правильными, тип `datetime` необходим для возможности работы в датой и временем.\n",
    "- избавились от невных дубликатов в столбце с названиями населенных пунктов (было не легко).\n",
    "- очистили данные от выбросов и явных ошибок.   \n",
    "\n",
    "Анализ данных показал, что большинство объявлений описывают типовые варианты квартир и домов, построенных в советское время.\n",
    "- Средняя площадь квартир около 56 м<sup>2</sup>.\n",
    "- Средняя жилая площадь квартир около 32 м<sup>2</sup>. \n",
    "- Средняя площадь кухни около 9 м<sup>2</sup>. \n",
    "- Средняя цена объекта около 5,2 млн, медиана 4,5 млн.\n",
    "- Больше всего продают 1-, 2- и 3-х комнатные квартиры. \n",
    "- Самая частая высота потолков 2,65 м - это наиболее частый стандарт высоты при строительстве домов. Есть пики на 2,5 и 2,75 м. \n",
    "- Этаж квартиры На графике видно несколько групп с 1 по 5 этаж, с 5 по 10 и больше 10.Чаще всего продают квартиры на этажах с 1 по 5 этажи, а среди этой подгруппы самые частые продажи на 2 этаже. С 5 по 10 этаж квартиры продают практически в 2 раза реже (этих домов в целом меньше). В подгруппе больше 10 этажа квартир становится все меньше и меньше. Интересная особенность: квартиры на 13 этаже практически не продают.\n",
    "- Почти 75% квартир имеют тип этажа \"другой\". Квартиры на \"первом\" и на \"последнем\" этажах продают практически одинаково часто.\n",
    "- Среднее количество этажей 10, медиана 9. При этом мы видим несколько пиков, чаще всего покупают квартиры в домах, где 5 этажей, затем 9. Это 2 самых частых варианта постройки многоквартирных домов в России. Также есть пики 12, 17 и 25 этажей.\n",
    "- Среднее расстояние до центра города около 15 км, медиана 13,6 км. \n",
    "- Среднее расстояние до аэропорта 29,8 км, медиана 27,8 км. \n",
    "- Почти в половине всех объявлений расстояние до ближайшего парка 450 м, что очень здорово, парк в пешей доступности. \n",
    "- Среднее количество дней, за которое продавалась квартира, 153 дня. Медиана 90 дней. Пуассоновское распределение значений. Видны очень яркие пики на 45, 60, 90 днях, это очень похоже на какие-то стандартные значения (возможно объявление автоматически удалялось в архив или заканчивалось платное размещение объявления, нужно уточнить у заказчика).\n",
    "- Половина объявлений закрывалось в период от 43 до 206 дней. Очень долгим объявление можно считать примерно после 450 дней размещения. Все продажи ранее 43 дней можно считать достаточно быстрыми.   \n",
    "\n",
    "При рассчете взаимосвязей параметров мы обнаружили явную положительную корреляционную связь цены квартиры с общей площадью, ценой квардатного метра, жилой площадью, площадью кухни и количеством комнат(но уже гораздо слабее), а также отрицательную связь с расстоянием до центра города.\n",
    "Построенные графики корреляции подтверждают рассчитанные цифровые данные.   \n",
    "- с общей площадью квартиры отмечается самая лучшая корреляция, затем с жилой площадью и площадью кухни.   \n",
    "- с количеством комнат отмечается взаимосвязь, однако если в квртире более 3 комнат, то связь пропадает (возможно нелинейная зависимость)\n",
    "- взаимосвязь с типом этажа имеет нелинейную форму (парабола ветви вниз), если провести аналогию первый - 1, другой - 2, последний - 3. Первый и последний этажи дешевле.\n",
    "- с днем недели и месяцем зависимости никакой нет. В любой месяц и день недели цены остаются приблизительно одинаковыми.\n",
    "- с годом подачи объявления также нет никакой связи, при этом мы видим, что свежих объявлений больше.   \n",
    "Самые дорогие квартиры оказались в Зеленогорске, поселке Лисий Нос, а Санкт-Петербург лишь на 3 месте.   \n",
    "Мы обнаружили очень интересную закономерность - выявляется отрицательная корреляционная зависимость! Цена квартиры уменьшается при увеличении расстояния до центра города.   \n",
    "\n",
    "В целом, если рассматривать полученные результаты, то в автоматическую систему оценки рыночной стоимости квартиры скорее всего войдут следующие параметры: \n",
    "- общая площадь \n",
    "- жилая площадь\n",
    "- площадь кухни \n",
    "- количество комнат\n",
    "- расстояние до центра города."
   ]
  }
 ],
 "metadata": {
  "ExecuteTimeLog": [
   {
    "duration": 1143,
    "start_time": "2022-09-13T17:41:36.452Z"
   },
   {
    "duration": 101,
    "start_time": "2022-09-13T17:45:19.202Z"
   },
   {
    "duration": 50,
    "start_time": "2022-09-13T17:45:50.472Z"
   },
   {
    "duration": 97,
    "start_time": "2022-09-13T17:46:09.339Z"
   },
   {
    "duration": 1433,
    "start_time": "2022-09-13T17:46:21.876Z"
   },
   {
    "duration": 1120,
    "start_time": "2022-09-13T17:50:40.782Z"
   },
   {
    "duration": 1171,
    "start_time": "2022-09-13T17:50:55.757Z"
   },
   {
    "duration": 1215,
    "start_time": "2022-09-13T17:51:13.280Z"
   },
   {
    "duration": 1276,
    "start_time": "2022-09-13T17:51:32.888Z"
   },
   {
    "duration": 1728,
    "start_time": "2022-09-13T17:51:56.709Z"
   },
   {
    "duration": 81,
    "start_time": "2022-09-14T10:55:18.133Z"
   },
   {
    "duration": 3350,
    "start_time": "2022-09-14T10:55:24.022Z"
   },
   {
    "duration": 33,
    "start_time": "2022-09-14T10:55:33.494Z"
   },
   {
    "duration": 11,
    "start_time": "2022-09-14T10:55:55.875Z"
   },
   {
    "duration": 9,
    "start_time": "2022-09-14T10:56:15.163Z"
   },
   {
    "duration": 14,
    "start_time": "2022-09-14T10:59:20.671Z"
   },
   {
    "duration": 93,
    "start_time": "2022-09-14T11:01:49.510Z"
   },
   {
    "duration": 9,
    "start_time": "2022-09-14T11:03:57.475Z"
   },
   {
    "duration": 1288,
    "start_time": "2022-09-14T11:08:18.358Z"
   },
   {
    "duration": 6,
    "start_time": "2022-09-14T11:08:34.242Z"
   },
   {
    "duration": 141,
    "start_time": "2022-09-14T11:10:04.925Z"
   },
   {
    "duration": 258,
    "start_time": "2022-09-14T11:10:13.112Z"
   },
   {
    "duration": 6,
    "start_time": "2022-09-14T11:10:47.720Z"
   },
   {
    "duration": 8,
    "start_time": "2022-09-14T11:11:57.806Z"
   },
   {
    "duration": 9,
    "start_time": "2022-09-14T11:12:06.495Z"
   },
   {
    "duration": 9,
    "start_time": "2022-09-14T11:12:28.936Z"
   },
   {
    "duration": 7,
    "start_time": "2022-09-14T11:12:51.661Z"
   },
   {
    "duration": 11,
    "start_time": "2022-09-14T11:13:23.834Z"
   },
   {
    "duration": 8,
    "start_time": "2022-09-14T11:13:48.645Z"
   },
   {
    "duration": 7,
    "start_time": "2022-09-14T11:13:59.184Z"
   },
   {
    "duration": 10,
    "start_time": "2022-09-14T11:16:02.114Z"
   },
   {
    "duration": 14,
    "start_time": "2022-09-14T11:16:51.347Z"
   },
   {
    "duration": 16,
    "start_time": "2022-09-14T11:23:00.855Z"
   },
   {
    "duration": 48,
    "start_time": "2022-09-14T11:25:46.717Z"
   },
   {
    "duration": 8,
    "start_time": "2022-09-14T11:26:35.402Z"
   },
   {
    "duration": 3110,
    "start_time": "2022-09-15T16:17:29.799Z"
   },
   {
    "duration": 11,
    "start_time": "2022-09-15T16:17:32.911Z"
   },
   {
    "duration": 20,
    "start_time": "2022-09-15T16:17:32.924Z"
   },
   {
    "duration": 14,
    "start_time": "2022-09-15T16:17:32.946Z"
   },
   {
    "duration": 7,
    "start_time": "2022-09-15T16:17:32.962Z"
   },
   {
    "duration": 14,
    "start_time": "2022-09-15T16:19:54.187Z"
   },
   {
    "duration": 73,
    "start_time": "2022-09-15T16:24:22.388Z"
   },
   {
    "duration": 13,
    "start_time": "2022-09-15T16:24:36.193Z"
   },
   {
    "duration": 10,
    "start_time": "2022-09-15T16:24:47.653Z"
   },
   {
    "duration": 14,
    "start_time": "2022-09-15T16:25:28.085Z"
   },
   {
    "duration": 94,
    "start_time": "2022-09-15T16:25:43.862Z"
   },
   {
    "duration": 14,
    "start_time": "2022-09-15T16:26:02.740Z"
   },
   {
    "duration": 5,
    "start_time": "2022-09-15T16:29:21.271Z"
   },
   {
    "duration": 6,
    "start_time": "2022-09-15T16:29:38.327Z"
   },
   {
    "duration": 20,
    "start_time": "2022-09-15T16:38:47.355Z"
   },
   {
    "duration": 7,
    "start_time": "2022-09-15T16:40:18.756Z"
   },
   {
    "duration": 9,
    "start_time": "2022-09-15T16:40:42.647Z"
   },
   {
    "duration": 26,
    "start_time": "2022-09-15T16:40:53.376Z"
   },
   {
    "duration": 26,
    "start_time": "2022-09-15T16:41:42.335Z"
   },
   {
    "duration": 2683,
    "start_time": "2022-09-15T16:42:06.590Z"
   },
   {
    "duration": 9,
    "start_time": "2022-09-15T16:42:09.275Z"
   },
   {
    "duration": 16,
    "start_time": "2022-09-15T16:42:09.286Z"
   },
   {
    "duration": 13,
    "start_time": "2022-09-15T16:42:09.304Z"
   },
   {
    "duration": 6,
    "start_time": "2022-09-15T16:42:09.319Z"
   },
   {
    "duration": 15,
    "start_time": "2022-09-15T16:42:09.326Z"
   },
   {
    "duration": 5,
    "start_time": "2022-09-15T16:42:09.342Z"
   },
   {
    "duration": 63,
    "start_time": "2022-09-15T16:42:09.348Z"
   },
   {
    "duration": 98,
    "start_time": "2022-09-15T16:43:50.915Z"
   },
   {
    "duration": 30,
    "start_time": "2022-09-15T16:44:55.056Z"
   },
   {
    "duration": 29,
    "start_time": "2022-09-15T16:45:09.348Z"
   },
   {
    "duration": 18,
    "start_time": "2022-09-15T16:45:19.768Z"
   },
   {
    "duration": 22,
    "start_time": "2022-09-15T16:46:58.585Z"
   },
   {
    "duration": 19,
    "start_time": "2022-09-15T16:47:13.914Z"
   },
   {
    "duration": 20,
    "start_time": "2022-09-15T16:47:35.837Z"
   },
   {
    "duration": 43,
    "start_time": "2022-09-15T16:49:59.351Z"
   },
   {
    "duration": 34,
    "start_time": "2022-09-15T16:53:44.474Z"
   },
   {
    "duration": 21,
    "start_time": "2022-09-15T16:56:36.583Z"
   },
   {
    "duration": 2678,
    "start_time": "2022-09-15T16:56:52.315Z"
   },
   {
    "duration": 11,
    "start_time": "2022-09-15T16:56:54.995Z"
   },
   {
    "duration": 16,
    "start_time": "2022-09-15T16:56:55.008Z"
   },
   {
    "duration": 13,
    "start_time": "2022-09-15T16:56:55.027Z"
   },
   {
    "duration": 5,
    "start_time": "2022-09-15T16:56:55.042Z"
   },
   {
    "duration": 47,
    "start_time": "2022-09-15T16:56:55.049Z"
   },
   {
    "duration": 4,
    "start_time": "2022-09-15T16:56:55.098Z"
   },
   {
    "duration": 23,
    "start_time": "2022-09-15T16:56:55.104Z"
   },
   {
    "duration": 24,
    "start_time": "2022-09-15T16:58:41.503Z"
   },
   {
    "duration": 1402,
    "start_time": "2022-09-15T17:12:44.831Z"
   },
   {
    "duration": 7,
    "start_time": "2022-09-15T17:12:57.179Z"
   },
   {
    "duration": 13,
    "start_time": "2022-09-15T17:15:12.277Z"
   },
   {
    "duration": 8,
    "start_time": "2022-09-15T17:15:28.241Z"
   },
   {
    "duration": 9,
    "start_time": "2022-09-15T17:15:55.038Z"
   },
   {
    "duration": 84,
    "start_time": "2022-09-15T17:18:42.002Z"
   },
   {
    "duration": 13,
    "start_time": "2022-09-15T17:20:00.533Z"
   },
   {
    "duration": 11,
    "start_time": "2022-09-15T17:20:24.295Z"
   },
   {
    "duration": 78,
    "start_time": "2022-09-15T17:25:00.917Z"
   },
   {
    "duration": 7,
    "start_time": "2022-09-15T17:25:06.997Z"
   },
   {
    "duration": 7,
    "start_time": "2022-09-15T17:26:10.938Z"
   },
   {
    "duration": 7,
    "start_time": "2022-09-15T17:27:04.037Z"
   },
   {
    "duration": 7,
    "start_time": "2022-09-15T17:27:16.280Z"
   },
   {
    "duration": 14,
    "start_time": "2022-09-15T17:30:48.290Z"
   },
   {
    "duration": 9,
    "start_time": "2022-09-15T17:31:47.818Z"
   },
   {
    "duration": 6,
    "start_time": "2022-09-15T17:44:10.682Z"
   },
   {
    "duration": 7,
    "start_time": "2022-09-15T17:45:01.704Z"
   },
   {
    "duration": 5,
    "start_time": "2022-09-15T17:45:23.517Z"
   },
   {
    "duration": 9,
    "start_time": "2022-09-15T17:52:32.025Z"
   },
   {
    "duration": 8,
    "start_time": "2022-09-15T17:52:45.357Z"
   },
   {
    "duration": 9,
    "start_time": "2022-09-15T17:52:49.786Z"
   },
   {
    "duration": 9,
    "start_time": "2022-09-15T17:56:46.562Z"
   },
   {
    "duration": 6,
    "start_time": "2022-09-15T17:56:54.941Z"
   },
   {
    "duration": 5,
    "start_time": "2022-09-15T17:58:44.424Z"
   },
   {
    "duration": 10,
    "start_time": "2022-09-15T18:02:36.200Z"
   },
   {
    "duration": 54,
    "start_time": "2022-09-16T10:17:42.699Z"
   },
   {
    "duration": 2645,
    "start_time": "2022-09-16T10:17:54.751Z"
   },
   {
    "duration": 9,
    "start_time": "2022-09-16T10:17:57.398Z"
   },
   {
    "duration": 11,
    "start_time": "2022-09-16T10:17:57.408Z"
   },
   {
    "duration": 12,
    "start_time": "2022-09-16T10:17:57.420Z"
   },
   {
    "duration": 11,
    "start_time": "2022-09-16T10:17:57.434Z"
   },
   {
    "duration": 14,
    "start_time": "2022-09-16T10:17:57.447Z"
   },
   {
    "duration": 3,
    "start_time": "2022-09-16T10:17:57.465Z"
   },
   {
    "duration": 24,
    "start_time": "2022-09-16T10:17:57.470Z"
   },
   {
    "duration": 27,
    "start_time": "2022-09-16T10:17:57.495Z"
   },
   {
    "duration": 6,
    "start_time": "2022-09-16T10:17:57.525Z"
   },
   {
    "duration": 10,
    "start_time": "2022-09-16T10:17:57.532Z"
   },
   {
    "duration": 9,
    "start_time": "2022-09-16T10:17:57.544Z"
   },
   {
    "duration": 22,
    "start_time": "2022-09-16T10:17:57.554Z"
   },
   {
    "duration": 7,
    "start_time": "2022-09-16T10:17:57.578Z"
   },
   {
    "duration": 36,
    "start_time": "2022-09-16T10:17:57.586Z"
   },
   {
    "duration": 69,
    "start_time": "2022-09-16T10:25:37.137Z"
   },
   {
    "duration": 9,
    "start_time": "2022-09-16T10:28:15.601Z"
   },
   {
    "duration": 1697,
    "start_time": "2022-09-16T10:28:36.763Z"
   },
   {
    "duration": 1232,
    "start_time": "2022-09-16T10:29:45.963Z"
   },
   {
    "duration": 1166,
    "start_time": "2022-09-16T10:30:21.798Z"
   },
   {
    "duration": 298,
    "start_time": "2022-09-16T10:30:47.501Z"
   },
   {
    "duration": 10,
    "start_time": "2022-09-16T10:31:00.400Z"
   },
   {
    "duration": 486,
    "start_time": "2022-09-16T10:32:05.763Z"
   },
   {
    "duration": 10157,
    "start_time": "2022-09-16T10:33:10.477Z"
   },
   {
    "duration": 2538,
    "start_time": "2022-09-16T10:37:06.322Z"
   },
   {
    "duration": 8,
    "start_time": "2022-09-16T10:37:08.862Z"
   },
   {
    "duration": 12,
    "start_time": "2022-09-16T10:37:08.871Z"
   },
   {
    "duration": 9,
    "start_time": "2022-09-16T10:37:08.884Z"
   },
   {
    "duration": 5,
    "start_time": "2022-09-16T10:37:08.894Z"
   },
   {
    "duration": 12,
    "start_time": "2022-09-16T10:37:08.900Z"
   },
   {
    "duration": 11,
    "start_time": "2022-09-16T10:37:08.914Z"
   },
   {
    "duration": 34,
    "start_time": "2022-09-16T10:37:08.926Z"
   },
   {
    "duration": 7,
    "start_time": "2022-09-16T10:37:08.961Z"
   },
   {
    "duration": 12,
    "start_time": "2022-09-16T10:37:08.969Z"
   },
   {
    "duration": 7,
    "start_time": "2022-09-16T10:37:08.983Z"
   },
   {
    "duration": 5,
    "start_time": "2022-09-16T10:37:08.991Z"
   },
   {
    "duration": 15,
    "start_time": "2022-09-16T10:37:08.997Z"
   },
   {
    "duration": 26,
    "start_time": "2022-09-16T10:37:09.014Z"
   },
   {
    "duration": 10,
    "start_time": "2022-09-16T10:37:09.043Z"
   },
   {
    "duration": 10174,
    "start_time": "2022-09-16T10:38:17.721Z"
   },
   {
    "duration": 10337,
    "start_time": "2022-09-16T10:39:16.162Z"
   },
   {
    "duration": 7,
    "start_time": "2022-09-16T10:42:59.712Z"
   },
   {
    "duration": 6,
    "start_time": "2022-09-16T10:43:18.188Z"
   },
   {
    "duration": 6,
    "start_time": "2022-09-16T10:43:30.717Z"
   },
   {
    "duration": 32,
    "start_time": "2022-09-16T10:44:07.526Z"
   },
   {
    "duration": 10623,
    "start_time": "2022-09-16T10:57:33.750Z"
   },
   {
    "duration": 208414,
    "start_time": "2022-09-16T10:59:48.123Z"
   },
   {
    "duration": 296,
    "start_time": "2022-09-16T11:35:19.382Z"
   },
   {
    "duration": 3088,
    "start_time": "2022-09-16T11:36:28.675Z"
   },
   {
    "duration": 123,
    "start_time": "2022-09-16T11:38:47.764Z"
   },
   {
    "duration": 2128,
    "start_time": "2022-09-16T11:38:58.865Z"
   },
   {
    "duration": 1590,
    "start_time": "2022-09-16T11:39:49.197Z"
   },
   {
    "duration": 8,
    "start_time": "2022-09-16T11:51:11.310Z"
   },
   {
    "duration": 10,
    "start_time": "2022-09-16T12:00:30.565Z"
   },
   {
    "duration": 11,
    "start_time": "2022-09-16T12:00:39.663Z"
   },
   {
    "duration": 15,
    "start_time": "2022-09-16T12:00:57.655Z"
   },
   {
    "duration": 13,
    "start_time": "2022-09-16T12:01:03.891Z"
   },
   {
    "duration": 13,
    "start_time": "2022-09-16T12:10:19.924Z"
   },
   {
    "duration": 9,
    "start_time": "2022-09-16T12:10:29.175Z"
   },
   {
    "duration": 11,
    "start_time": "2022-09-16T12:10:43.346Z"
   },
   {
    "duration": 10,
    "start_time": "2022-09-16T12:10:50.933Z"
   },
   {
    "duration": 197,
    "start_time": "2022-09-16T16:20:22.299Z"
   },
   {
    "duration": 136,
    "start_time": "2022-09-16T16:20:35.655Z"
   },
   {
    "duration": 270,
    "start_time": "2022-09-16T16:20:48.601Z"
   },
   {
    "duration": 158,
    "start_time": "2022-09-16T16:21:21.533Z"
   },
   {
    "duration": 353,
    "start_time": "2022-09-16T16:21:40.989Z"
   },
   {
    "duration": 612,
    "start_time": "2022-09-16T16:21:51.163Z"
   },
   {
    "duration": 210,
    "start_time": "2022-09-16T16:22:09.572Z"
   },
   {
    "duration": 156,
    "start_time": "2022-09-16T16:22:29.232Z"
   },
   {
    "duration": 116,
    "start_time": "2022-09-16T16:22:45.283Z"
   },
   {
    "duration": 73,
    "start_time": "2022-09-16T16:23:51.583Z"
   },
   {
    "duration": 3946,
    "start_time": "2022-09-16T16:24:03.880Z"
   },
   {
    "duration": 28,
    "start_time": "2022-09-16T16:24:07.831Z"
   },
   {
    "duration": 44,
    "start_time": "2022-09-16T16:24:07.866Z"
   },
   {
    "duration": 81,
    "start_time": "2022-09-16T16:24:07.912Z"
   },
   {
    "duration": 79,
    "start_time": "2022-09-16T16:24:07.998Z"
   },
   {
    "duration": 35,
    "start_time": "2022-09-16T16:24:08.079Z"
   },
   {
    "duration": 29,
    "start_time": "2022-09-16T16:24:08.116Z"
   },
   {
    "duration": 112,
    "start_time": "2022-09-16T16:24:08.147Z"
   },
   {
    "duration": 13,
    "start_time": "2022-09-16T16:24:08.274Z"
   },
   {
    "duration": 38,
    "start_time": "2022-09-16T16:24:08.289Z"
   },
   {
    "duration": 62,
    "start_time": "2022-09-16T16:24:08.332Z"
   },
   {
    "duration": 61,
    "start_time": "2022-09-16T16:24:08.395Z"
   },
   {
    "duration": 13456,
    "start_time": "2022-09-16T16:24:08.458Z"
   },
   {
    "duration": 13,
    "start_time": "2022-09-16T16:24:21.917Z"
   },
   {
    "duration": 60,
    "start_time": "2022-09-16T16:24:21.931Z"
   },
   {
    "duration": 3016,
    "start_time": "2022-09-16T16:24:21.993Z"
   },
   {
    "duration": 0,
    "start_time": "2022-09-16T16:24:25.011Z"
   },
   {
    "duration": 32,
    "start_time": "2022-09-16T16:26:07.532Z"
   },
   {
    "duration": 23,
    "start_time": "2022-09-16T16:28:38.706Z"
   },
   {
    "duration": 27,
    "start_time": "2022-09-16T16:28:58.269Z"
   },
   {
    "duration": 2245,
    "start_time": "2022-09-16T16:29:05.558Z"
   },
   {
    "duration": 1382,
    "start_time": "2022-09-16T16:29:24.645Z"
   },
   {
    "duration": 1504,
    "start_time": "2022-09-16T17:33:24.723Z"
   },
   {
    "duration": 9,
    "start_time": "2022-09-16T17:37:04.094Z"
   },
   {
    "duration": 7,
    "start_time": "2022-09-16T17:37:46.143Z"
   },
   {
    "duration": 27,
    "start_time": "2022-09-16T17:38:18.823Z"
   },
   {
    "duration": 9,
    "start_time": "2022-09-16T17:38:52.192Z"
   },
   {
    "duration": 9,
    "start_time": "2022-09-16T17:38:59.581Z"
   },
   {
    "duration": 2984,
    "start_time": "2022-09-16T17:39:12.161Z"
   },
   {
    "duration": 13,
    "start_time": "2022-09-16T17:39:15.148Z"
   },
   {
    "duration": 16,
    "start_time": "2022-09-16T17:39:15.162Z"
   },
   {
    "duration": 16,
    "start_time": "2022-09-16T17:39:15.180Z"
   },
   {
    "duration": 14,
    "start_time": "2022-09-16T17:39:15.198Z"
   },
   {
    "duration": 52,
    "start_time": "2022-09-16T17:39:15.214Z"
   },
   {
    "duration": 6,
    "start_time": "2022-09-16T17:39:15.268Z"
   },
   {
    "duration": 42,
    "start_time": "2022-09-16T17:39:15.276Z"
   },
   {
    "duration": 10,
    "start_time": "2022-09-16T17:39:15.321Z"
   },
   {
    "duration": 32,
    "start_time": "2022-09-16T17:39:15.334Z"
   },
   {
    "duration": 16,
    "start_time": "2022-09-16T17:39:15.368Z"
   },
   {
    "duration": 46,
    "start_time": "2022-09-16T17:39:15.386Z"
   },
   {
    "duration": 12893,
    "start_time": "2022-09-16T17:39:15.434Z"
   },
   {
    "duration": 25,
    "start_time": "2022-09-16T17:39:28.336Z"
   },
   {
    "duration": 47,
    "start_time": "2022-09-16T17:39:28.375Z"
   },
   {
    "duration": 1333,
    "start_time": "2022-09-16T17:39:28.424Z"
   },
   {
    "duration": 22,
    "start_time": "2022-09-16T17:39:29.759Z"
   },
   {
    "duration": 150,
    "start_time": "2022-09-16T17:55:19.399Z"
   },
   {
    "duration": 34,
    "start_time": "2022-09-16T17:56:26.341Z"
   },
   {
    "duration": 20,
    "start_time": "2022-09-16T17:56:46.692Z"
   },
   {
    "duration": 4335,
    "start_time": "2022-09-16T17:58:33.651Z"
   },
   {
    "duration": 16,
    "start_time": "2022-09-16T17:58:37.992Z"
   },
   {
    "duration": 131,
    "start_time": "2022-09-16T17:58:38.015Z"
   },
   {
    "duration": 202,
    "start_time": "2022-09-16T17:58:38.152Z"
   },
   {
    "duration": 102,
    "start_time": "2022-09-16T17:58:38.372Z"
   },
   {
    "duration": 91,
    "start_time": "2022-09-16T17:58:38.491Z"
   },
   {
    "duration": 75,
    "start_time": "2022-09-16T17:58:38.587Z"
   },
   {
    "duration": 105,
    "start_time": "2022-09-16T17:58:38.666Z"
   },
   {
    "duration": 70,
    "start_time": "2022-09-16T17:58:38.773Z"
   },
   {
    "duration": 52,
    "start_time": "2022-09-16T17:58:38.847Z"
   },
   {
    "duration": 43,
    "start_time": "2022-09-16T17:58:38.910Z"
   },
   {
    "duration": 97,
    "start_time": "2022-09-16T17:58:38.960Z"
   },
   {
    "duration": 16744,
    "start_time": "2022-09-16T17:58:39.061Z"
   },
   {
    "duration": 19,
    "start_time": "2022-09-16T17:58:55.809Z"
   },
   {
    "duration": 179,
    "start_time": "2022-09-16T17:58:55.831Z"
   },
   {
    "duration": 1637,
    "start_time": "2022-09-16T17:58:56.016Z"
   },
   {
    "duration": 3546,
    "start_time": "2022-09-16T17:58:57.660Z"
   },
   {
    "duration": 2814,
    "start_time": "2022-09-16T17:59:44.653Z"
   },
   {
    "duration": 26,
    "start_time": "2022-09-16T18:00:04.411Z"
   },
   {
    "duration": 31,
    "start_time": "2022-09-16T18:00:45.191Z"
   },
   {
    "duration": 1245,
    "start_time": "2022-09-16T18:06:47.465Z"
   },
   {
    "duration": 1435,
    "start_time": "2022-09-16T18:11:19.222Z"
   },
   {
    "duration": 2202,
    "start_time": "2022-09-16T18:12:15.351Z"
   },
   {
    "duration": 1731,
    "start_time": "2022-09-16T18:13:31.961Z"
   },
   {
    "duration": 1283,
    "start_time": "2022-09-16T18:14:54.913Z"
   },
   {
    "duration": 1298,
    "start_time": "2022-09-16T18:15:58.099Z"
   },
   {
    "duration": 1124,
    "start_time": "2022-09-16T18:16:05.630Z"
   },
   {
    "duration": 36,
    "start_time": "2022-09-16T18:17:55.424Z"
   },
   {
    "duration": 27,
    "start_time": "2022-09-16T18:19:26.758Z"
   },
   {
    "duration": 25,
    "start_time": "2022-09-16T18:19:48.574Z"
   },
   {
    "duration": 1853,
    "start_time": "2022-09-16T18:20:18.359Z"
   },
   {
    "duration": 122,
    "start_time": "2022-09-16T18:21:43.143Z"
   },
   {
    "duration": 1969,
    "start_time": "2022-09-16T18:22:38.488Z"
   },
   {
    "duration": 1939,
    "start_time": "2022-09-16T18:23:02.781Z"
   },
   {
    "duration": 3374,
    "start_time": "2022-09-16T18:23:29.830Z"
   },
   {
    "duration": 14,
    "start_time": "2022-09-16T18:23:33.209Z"
   },
   {
    "duration": 58,
    "start_time": "2022-09-16T18:23:33.225Z"
   },
   {
    "duration": 16,
    "start_time": "2022-09-16T18:23:33.284Z"
   },
   {
    "duration": 16,
    "start_time": "2022-09-16T18:23:33.303Z"
   },
   {
    "duration": 44,
    "start_time": "2022-09-16T18:23:33.323Z"
   },
   {
    "duration": 11,
    "start_time": "2022-09-16T18:23:33.368Z"
   },
   {
    "duration": 49,
    "start_time": "2022-09-16T18:23:33.381Z"
   },
   {
    "duration": 10,
    "start_time": "2022-09-16T18:23:33.433Z"
   },
   {
    "duration": 32,
    "start_time": "2022-09-16T18:23:33.445Z"
   },
   {
    "duration": 9,
    "start_time": "2022-09-16T18:23:33.480Z"
   },
   {
    "duration": 47,
    "start_time": "2022-09-16T18:23:33.491Z"
   },
   {
    "duration": 13405,
    "start_time": "2022-09-16T18:23:33.547Z"
   },
   {
    "duration": 12,
    "start_time": "2022-09-16T18:23:46.960Z"
   },
   {
    "duration": 16,
    "start_time": "2022-09-16T18:23:46.974Z"
   },
   {
    "duration": 2127,
    "start_time": "2022-09-16T18:23:46.992Z"
   },
   {
    "duration": 20,
    "start_time": "2022-09-16T18:23:49.121Z"
   },
   {
    "duration": 1225,
    "start_time": "2022-09-16T18:23:49.145Z"
   },
   {
    "duration": 170,
    "start_time": "2022-09-16T18:24:37.719Z"
   },
   {
    "duration": 137,
    "start_time": "2022-09-16T18:25:03.475Z"
   },
   {
    "duration": 51,
    "start_time": "2022-09-16T18:25:54.343Z"
   },
   {
    "duration": 144,
    "start_time": "2022-09-16T18:27:09.204Z"
   },
   {
    "duration": 31,
    "start_time": "2022-09-16T18:27:27.563Z"
   },
   {
    "duration": 36,
    "start_time": "2022-09-16T18:28:12.631Z"
   },
   {
    "duration": 2840,
    "start_time": "2022-09-16T18:29:26.842Z"
   },
   {
    "duration": 2682,
    "start_time": "2022-09-16T18:31:37.046Z"
   },
   {
    "duration": 2381,
    "start_time": "2022-09-16T18:32:20.087Z"
   },
   {
    "duration": 21,
    "start_time": "2022-09-16T18:34:30.080Z"
   },
   {
    "duration": 17,
    "start_time": "2022-09-16T18:35:00.676Z"
   },
   {
    "duration": 2746,
    "start_time": "2022-09-16T18:35:51.836Z"
   },
   {
    "duration": 2214,
    "start_time": "2022-09-16T18:36:28.432Z"
   },
   {
    "duration": 1961,
    "start_time": "2022-09-16T18:37:07.981Z"
   },
   {
    "duration": 2072,
    "start_time": "2022-09-16T18:38:02.675Z"
   },
   {
    "duration": 2264,
    "start_time": "2022-09-16T18:38:25.367Z"
   },
   {
    "duration": 2336,
    "start_time": "2022-09-16T18:38:41.268Z"
   },
   {
    "duration": 64,
    "start_time": "2022-09-16T18:40:50.259Z"
   },
   {
    "duration": 34,
    "start_time": "2022-09-16T18:42:19.440Z"
   },
   {
    "duration": 83,
    "start_time": "2022-09-16T18:42:32.811Z"
   },
   {
    "duration": 2638,
    "start_time": "2022-09-16T18:44:11.095Z"
   },
   {
    "duration": 2306,
    "start_time": "2022-09-16T18:44:51.024Z"
   },
   {
    "duration": 2455,
    "start_time": "2022-09-16T18:45:02.907Z"
   },
   {
    "duration": 2278,
    "start_time": "2022-09-16T18:46:04.197Z"
   },
   {
    "duration": 11,
    "start_time": "2022-09-16T18:52:34.879Z"
   },
   {
    "duration": 99,
    "start_time": "2022-09-16T18:52:46.427Z"
   },
   {
    "duration": 3310,
    "start_time": "2022-09-16T18:54:59.280Z"
   },
   {
    "duration": 3137,
    "start_time": "2022-09-16T18:57:15.946Z"
   },
   {
    "duration": 3987,
    "start_time": "2022-09-16T18:59:36.677Z"
   },
   {
    "duration": 2637,
    "start_time": "2022-09-16T18:59:49.431Z"
   },
   {
    "duration": 2633,
    "start_time": "2022-09-16T19:01:12.060Z"
   },
   {
    "duration": 2771,
    "start_time": "2022-09-16T19:01:54.059Z"
   },
   {
    "duration": 3587,
    "start_time": "2022-09-16T19:02:54.803Z"
   },
   {
    "duration": 4075,
    "start_time": "2022-09-16T19:04:02.859Z"
   },
   {
    "duration": 31,
    "start_time": "2022-09-16T19:04:06.935Z"
   },
   {
    "duration": 127,
    "start_time": "2022-09-16T19:04:06.971Z"
   },
   {
    "duration": 50,
    "start_time": "2022-09-16T19:04:07.100Z"
   },
   {
    "duration": 40,
    "start_time": "2022-09-16T19:04:07.162Z"
   },
   {
    "duration": 114,
    "start_time": "2022-09-16T19:04:07.205Z"
   },
   {
    "duration": 54,
    "start_time": "2022-09-16T19:04:07.327Z"
   },
   {
    "duration": 136,
    "start_time": "2022-09-16T19:04:07.383Z"
   },
   {
    "duration": 71,
    "start_time": "2022-09-16T19:04:07.521Z"
   },
   {
    "duration": 28,
    "start_time": "2022-09-16T19:04:07.594Z"
   },
   {
    "duration": 73,
    "start_time": "2022-09-16T19:04:07.624Z"
   },
   {
    "duration": 151,
    "start_time": "2022-09-16T19:04:07.699Z"
   },
   {
    "duration": 14189,
    "start_time": "2022-09-16T19:04:07.859Z"
   },
   {
    "duration": 20,
    "start_time": "2022-09-16T19:04:22.060Z"
   },
   {
    "duration": 17,
    "start_time": "2022-09-16T19:04:22.082Z"
   },
   {
    "duration": 3337,
    "start_time": "2022-09-16T19:04:22.101Z"
   },
   {
    "duration": 26,
    "start_time": "2022-09-16T19:04:25.440Z"
   },
   {
    "duration": 27,
    "start_time": "2022-09-16T19:04:25.474Z"
   },
   {
    "duration": 1339,
    "start_time": "2022-09-16T19:04:25.503Z"
   },
   {
    "duration": 3084,
    "start_time": "2022-09-16T19:06:38.986Z"
   },
   {
    "duration": 3572,
    "start_time": "2022-09-16T19:07:07.078Z"
   },
   {
    "duration": 14,
    "start_time": "2022-09-16T19:07:10.655Z"
   },
   {
    "duration": 19,
    "start_time": "2022-09-16T19:07:10.670Z"
   },
   {
    "duration": 19,
    "start_time": "2022-09-16T19:07:10.692Z"
   },
   {
    "duration": 65,
    "start_time": "2022-09-16T19:07:10.712Z"
   },
   {
    "duration": 16,
    "start_time": "2022-09-16T19:07:10.778Z"
   },
   {
    "duration": 4,
    "start_time": "2022-09-16T19:07:10.796Z"
   },
   {
    "duration": 88,
    "start_time": "2022-09-16T19:07:10.802Z"
   },
   {
    "duration": 11,
    "start_time": "2022-09-16T19:07:10.892Z"
   },
   {
    "duration": 67,
    "start_time": "2022-09-16T19:07:10.906Z"
   },
   {
    "duration": 14,
    "start_time": "2022-09-16T19:07:10.975Z"
   },
   {
    "duration": 48,
    "start_time": "2022-09-16T19:07:10.991Z"
   },
   {
    "duration": 14813,
    "start_time": "2022-09-16T19:07:11.041Z"
   },
   {
    "duration": 23,
    "start_time": "2022-09-16T19:07:25.855Z"
   },
   {
    "duration": 122,
    "start_time": "2022-09-16T19:07:25.880Z"
   },
   {
    "duration": 3978,
    "start_time": "2022-09-16T19:07:26.004Z"
   },
   {
    "duration": 14,
    "start_time": "2022-09-16T19:07:29.996Z"
   },
   {
    "duration": 72,
    "start_time": "2022-09-16T19:07:30.017Z"
   },
   {
    "duration": 1503,
    "start_time": "2022-09-16T19:07:30.091Z"
   },
   {
    "duration": 4361,
    "start_time": "2022-09-16T19:07:56.694Z"
   },
   {
    "duration": 589,
    "start_time": "2022-09-16T19:08:58.837Z"
   },
   {
    "duration": 455,
    "start_time": "2022-09-16T19:10:45.631Z"
   },
   {
    "duration": 163,
    "start_time": "2022-09-16T19:17:09.193Z"
   },
   {
    "duration": 121,
    "start_time": "2022-09-16T19:17:18.981Z"
   },
   {
    "duration": 112,
    "start_time": "2022-09-16T19:17:40.951Z"
   },
   {
    "duration": 1850,
    "start_time": "2022-09-16T19:18:12.189Z"
   },
   {
    "duration": 1843,
    "start_time": "2022-09-16T19:18:36.364Z"
   },
   {
    "duration": 3038,
    "start_time": "2022-09-16T19:19:07.996Z"
   },
   {
    "duration": 13,
    "start_time": "2022-09-16T19:19:11.036Z"
   },
   {
    "duration": 15,
    "start_time": "2022-09-16T19:19:11.051Z"
   },
   {
    "duration": 12,
    "start_time": "2022-09-16T19:19:11.068Z"
   },
   {
    "duration": 5,
    "start_time": "2022-09-16T19:19:11.082Z"
   },
   {
    "duration": 12,
    "start_time": "2022-09-16T19:19:11.088Z"
   },
   {
    "duration": 13,
    "start_time": "2022-09-16T19:19:11.112Z"
   },
   {
    "duration": 53,
    "start_time": "2022-09-16T19:19:11.126Z"
   },
   {
    "duration": 8,
    "start_time": "2022-09-16T19:19:11.180Z"
   },
   {
    "duration": 7,
    "start_time": "2022-09-16T19:19:11.189Z"
   },
   {
    "duration": 7,
    "start_time": "2022-09-16T19:19:11.197Z"
   },
   {
    "duration": 55,
    "start_time": "2022-09-16T19:19:11.213Z"
   },
   {
    "duration": 11365,
    "start_time": "2022-09-16T19:19:11.269Z"
   },
   {
    "duration": 14,
    "start_time": "2022-09-16T19:19:22.647Z"
   },
   {
    "duration": 22,
    "start_time": "2022-09-16T19:19:22.663Z"
   },
   {
    "duration": 1860,
    "start_time": "2022-09-16T19:19:22.687Z"
   },
   {
    "duration": 15,
    "start_time": "2022-09-16T19:19:24.552Z"
   },
   {
    "duration": 15,
    "start_time": "2022-09-16T19:19:24.568Z"
   },
   {
    "duration": 1043,
    "start_time": "2022-09-16T19:19:24.584Z"
   },
   {
    "duration": 2455,
    "start_time": "2022-09-16T19:21:07.138Z"
   },
   {
    "duration": 2196,
    "start_time": "2022-09-16T19:21:30.723Z"
   },
   {
    "duration": 3151,
    "start_time": "2022-09-16T19:21:51.250Z"
   },
   {
    "duration": 2477,
    "start_time": "2022-09-16T19:22:22.429Z"
   },
   {
    "duration": 33,
    "start_time": "2022-09-16T19:24:59.884Z"
   },
   {
    "duration": 3652,
    "start_time": "2022-09-16T19:25:27.533Z"
   },
   {
    "duration": 2729,
    "start_time": "2022-09-16T19:26:37.991Z"
   },
   {
    "duration": 2902,
    "start_time": "2022-09-16T19:27:51.830Z"
   },
   {
    "duration": 2951,
    "start_time": "2022-09-16T19:33:09.309Z"
   },
   {
    "duration": 2845,
    "start_time": "2022-09-16T19:34:21.854Z"
   },
   {
    "duration": 3248,
    "start_time": "2022-09-16T19:34:42.844Z"
   },
   {
    "duration": 12,
    "start_time": "2022-09-16T19:34:46.094Z"
   },
   {
    "duration": 42,
    "start_time": "2022-09-16T19:34:46.110Z"
   },
   {
    "duration": 38,
    "start_time": "2022-09-16T19:34:46.158Z"
   },
   {
    "duration": 46,
    "start_time": "2022-09-16T19:34:46.199Z"
   },
   {
    "duration": 30,
    "start_time": "2022-09-16T19:34:46.263Z"
   },
   {
    "duration": 4,
    "start_time": "2022-09-16T19:34:46.294Z"
   },
   {
    "duration": 74,
    "start_time": "2022-09-16T19:34:46.300Z"
   },
   {
    "duration": 11,
    "start_time": "2022-09-16T19:34:46.382Z"
   },
   {
    "duration": 6,
    "start_time": "2022-09-16T19:34:46.396Z"
   },
   {
    "duration": 38,
    "start_time": "2022-09-16T19:34:46.404Z"
   },
   {
    "duration": 78,
    "start_time": "2022-09-16T19:34:46.444Z"
   },
   {
    "duration": 12982,
    "start_time": "2022-09-16T19:34:46.523Z"
   },
   {
    "duration": 12,
    "start_time": "2022-09-16T19:34:59.509Z"
   },
   {
    "duration": 43,
    "start_time": "2022-09-16T19:34:59.523Z"
   },
   {
    "duration": 3094,
    "start_time": "2022-09-16T19:34:59.568Z"
   },
   {
    "duration": 15,
    "start_time": "2022-09-16T19:35:02.667Z"
   },
   {
    "duration": 10,
    "start_time": "2022-09-16T19:35:02.683Z"
   },
   {
    "duration": 1063,
    "start_time": "2022-09-16T19:35:02.708Z"
   },
   {
    "duration": 3447,
    "start_time": "2022-09-16T19:35:36.657Z"
   },
   {
    "duration": 24,
    "start_time": "2022-09-16T19:35:40.106Z"
   },
   {
    "duration": 41,
    "start_time": "2022-09-16T19:35:40.133Z"
   },
   {
    "duration": 11,
    "start_time": "2022-09-16T19:35:40.176Z"
   },
   {
    "duration": 5,
    "start_time": "2022-09-16T19:35:40.189Z"
   },
   {
    "duration": 20,
    "start_time": "2022-09-16T19:35:40.196Z"
   },
   {
    "duration": 7,
    "start_time": "2022-09-16T19:35:40.218Z"
   },
   {
    "duration": 43,
    "start_time": "2022-09-16T19:35:40.240Z"
   },
   {
    "duration": 10,
    "start_time": "2022-09-16T19:35:40.285Z"
   },
   {
    "duration": 13,
    "start_time": "2022-09-16T19:35:40.297Z"
   },
   {
    "duration": 50,
    "start_time": "2022-09-16T19:35:40.313Z"
   },
   {
    "duration": 33,
    "start_time": "2022-09-16T19:35:40.365Z"
   },
   {
    "duration": 12937,
    "start_time": "2022-09-16T19:35:40.400Z"
   },
   {
    "duration": 15,
    "start_time": "2022-09-16T19:35:53.344Z"
   },
   {
    "duration": 57,
    "start_time": "2022-09-16T19:35:53.361Z"
   },
   {
    "duration": 2672,
    "start_time": "2022-09-16T19:35:53.420Z"
   },
   {
    "duration": 27,
    "start_time": "2022-09-16T19:35:56.094Z"
   },
   {
    "duration": 47,
    "start_time": "2022-09-16T19:35:56.122Z"
   },
   {
    "duration": 1160,
    "start_time": "2022-09-16T19:35:56.172Z"
   },
   {
    "duration": 2254,
    "start_time": "2022-09-16T19:36:43.134Z"
   },
   {
    "duration": 339,
    "start_time": "2022-09-16T19:38:07.401Z"
   },
   {
    "duration": 233,
    "start_time": "2022-09-16T19:38:29.402Z"
   },
   {
    "duration": 3442,
    "start_time": "2022-09-16T19:39:07.726Z"
   },
   {
    "duration": 16,
    "start_time": "2022-09-16T19:39:11.174Z"
   },
   {
    "duration": 40,
    "start_time": "2022-09-16T19:39:11.192Z"
   },
   {
    "duration": 36,
    "start_time": "2022-09-16T19:39:11.239Z"
   },
   {
    "duration": 15,
    "start_time": "2022-09-16T19:39:11.279Z"
   },
   {
    "duration": 31,
    "start_time": "2022-09-16T19:39:11.296Z"
   },
   {
    "duration": 59,
    "start_time": "2022-09-16T19:39:11.329Z"
   },
   {
    "duration": 52,
    "start_time": "2022-09-16T19:39:11.390Z"
   },
   {
    "duration": 14,
    "start_time": "2022-09-16T19:39:11.444Z"
   },
   {
    "duration": 22,
    "start_time": "2022-09-16T19:39:11.461Z"
   },
   {
    "duration": 10,
    "start_time": "2022-09-16T19:39:11.485Z"
   },
   {
    "duration": 83,
    "start_time": "2022-09-16T19:39:11.498Z"
   },
   {
    "duration": 11720,
    "start_time": "2022-09-16T19:39:11.584Z"
   },
   {
    "duration": 14,
    "start_time": "2022-09-16T19:39:23.306Z"
   },
   {
    "duration": 59,
    "start_time": "2022-09-16T19:39:23.322Z"
   },
   {
    "duration": 203,
    "start_time": "2022-09-16T19:39:23.383Z"
   },
   {
    "duration": 33,
    "start_time": "2022-09-16T19:39:23.588Z"
   },
   {
    "duration": 14,
    "start_time": "2022-09-16T19:39:23.625Z"
   },
   {
    "duration": 113,
    "start_time": "2022-09-16T19:39:23.647Z"
   },
   {
    "duration": 3130,
    "start_time": "2022-09-16T19:40:05.166Z"
   },
   {
    "duration": 18,
    "start_time": "2022-09-16T19:40:08.298Z"
   },
   {
    "duration": 20,
    "start_time": "2022-09-16T19:40:08.318Z"
   },
   {
    "duration": 27,
    "start_time": "2022-09-16T19:40:08.340Z"
   },
   {
    "duration": 5,
    "start_time": "2022-09-16T19:40:08.370Z"
   },
   {
    "duration": 13,
    "start_time": "2022-09-16T19:40:08.377Z"
   },
   {
    "duration": 6,
    "start_time": "2022-09-16T19:40:08.392Z"
   },
   {
    "duration": 39,
    "start_time": "2022-09-16T19:40:08.405Z"
   },
   {
    "duration": 12,
    "start_time": "2022-09-16T19:40:08.452Z"
   },
   {
    "duration": 7,
    "start_time": "2022-09-16T19:40:08.466Z"
   },
   {
    "duration": 7,
    "start_time": "2022-09-16T19:40:08.474Z"
   },
   {
    "duration": 42,
    "start_time": "2022-09-16T19:40:08.483Z"
   },
   {
    "duration": 11753,
    "start_time": "2022-09-16T19:40:08.527Z"
   },
   {
    "duration": 11,
    "start_time": "2022-09-16T19:40:20.282Z"
   },
   {
    "duration": 44,
    "start_time": "2022-09-16T19:40:20.294Z"
   },
   {
    "duration": 257,
    "start_time": "2022-09-16T19:40:20.340Z"
   },
   {
    "duration": 20,
    "start_time": "2022-09-16T19:40:20.598Z"
   },
   {
    "duration": 39,
    "start_time": "2022-09-16T19:40:20.624Z"
   },
   {
    "duration": 100,
    "start_time": "2022-09-16T19:40:20.666Z"
   },
   {
    "duration": 2158,
    "start_time": "2022-09-16T19:42:53.472Z"
   },
   {
    "duration": 22,
    "start_time": "2022-09-16T19:43:09.056Z"
   },
   {
    "duration": 118,
    "start_time": "2022-09-16T19:43:37.057Z"
   },
   {
    "duration": 27,
    "start_time": "2022-09-16T19:43:52.741Z"
   },
   {
    "duration": 206,
    "start_time": "2022-09-16T19:44:30.743Z"
   },
   {
    "duration": 3241,
    "start_time": "2022-09-16T19:44:54.139Z"
   },
   {
    "duration": 14,
    "start_time": "2022-09-16T19:44:57.383Z"
   },
   {
    "duration": 20,
    "start_time": "2022-09-16T19:44:57.399Z"
   },
   {
    "duration": 53,
    "start_time": "2022-09-16T19:44:57.420Z"
   },
   {
    "duration": 7,
    "start_time": "2022-09-16T19:44:57.476Z"
   },
   {
    "duration": 37,
    "start_time": "2022-09-16T19:44:57.485Z"
   },
   {
    "duration": 34,
    "start_time": "2022-09-16T19:44:57.531Z"
   },
   {
    "duration": 75,
    "start_time": "2022-09-16T19:44:57.571Z"
   },
   {
    "duration": 12,
    "start_time": "2022-09-16T19:44:57.659Z"
   },
   {
    "duration": 13,
    "start_time": "2022-09-16T19:44:57.673Z"
   },
   {
    "duration": 34,
    "start_time": "2022-09-16T19:44:57.688Z"
   },
   {
    "duration": 84,
    "start_time": "2022-09-16T19:44:57.724Z"
   },
   {
    "duration": 11934,
    "start_time": "2022-09-16T19:44:57.814Z"
   },
   {
    "duration": 21,
    "start_time": "2022-09-16T19:45:09.752Z"
   },
   {
    "duration": 17,
    "start_time": "2022-09-16T19:45:09.776Z"
   },
   {
    "duration": 149,
    "start_time": "2022-09-16T19:45:09.795Z"
   },
   {
    "duration": 16,
    "start_time": "2022-09-16T19:45:09.947Z"
   },
   {
    "duration": 28,
    "start_time": "2022-09-16T19:45:09.968Z"
   },
   {
    "duration": 164,
    "start_time": "2022-09-16T19:45:09.998Z"
   },
   {
    "duration": 181,
    "start_time": "2022-09-16T19:45:45.204Z"
   },
   {
    "duration": 15,
    "start_time": "2022-09-16T19:46:13.701Z"
   },
   {
    "duration": 15,
    "start_time": "2022-09-16T19:46:55.552Z"
   },
   {
    "duration": 110,
    "start_time": "2022-09-16T19:50:17.469Z"
   },
   {
    "duration": 83,
    "start_time": "2022-09-16T19:50:33.928Z"
   },
   {
    "duration": 121,
    "start_time": "2022-09-16T19:51:18.526Z"
   },
   {
    "duration": 83,
    "start_time": "2022-09-16T19:51:55.217Z"
   },
   {
    "duration": 91,
    "start_time": "2022-09-16T19:52:18.081Z"
   },
   {
    "duration": 88,
    "start_time": "2022-09-16T19:52:50.583Z"
   },
   {
    "duration": 77,
    "start_time": "2022-09-16T19:53:10.828Z"
   },
   {
    "duration": 206,
    "start_time": "2022-09-16T19:53:37.347Z"
   },
   {
    "duration": 1571,
    "start_time": "2022-09-16T19:55:35.590Z"
   },
   {
    "duration": 165,
    "start_time": "2022-09-16T19:56:51.257Z"
   },
   {
    "duration": 229,
    "start_time": "2022-09-16T19:57:27.234Z"
   },
   {
    "duration": 15,
    "start_time": "2022-09-16T19:58:23.420Z"
   },
   {
    "duration": 3634,
    "start_time": "2022-09-16T19:58:51.564Z"
   },
   {
    "duration": 19,
    "start_time": "2022-09-16T19:58:55.201Z"
   },
   {
    "duration": 31,
    "start_time": "2022-09-16T19:58:55.222Z"
   },
   {
    "duration": 16,
    "start_time": "2022-09-16T19:58:55.256Z"
   },
   {
    "duration": 15,
    "start_time": "2022-09-16T19:58:55.275Z"
   },
   {
    "duration": 25,
    "start_time": "2022-09-16T19:58:55.292Z"
   },
   {
    "duration": 26,
    "start_time": "2022-09-16T19:58:55.319Z"
   },
   {
    "duration": 41,
    "start_time": "2022-09-16T19:58:55.347Z"
   },
   {
    "duration": 10,
    "start_time": "2022-09-16T19:58:55.390Z"
   },
   {
    "duration": 24,
    "start_time": "2022-09-16T19:58:55.403Z"
   },
   {
    "duration": 18,
    "start_time": "2022-09-16T19:58:55.434Z"
   },
   {
    "duration": 48,
    "start_time": "2022-09-16T19:58:55.454Z"
   },
   {
    "duration": 12288,
    "start_time": "2022-09-16T19:58:55.504Z"
   },
   {
    "duration": 26,
    "start_time": "2022-09-16T19:59:07.795Z"
   },
   {
    "duration": 52,
    "start_time": "2022-09-16T19:59:07.826Z"
   },
   {
    "duration": 164,
    "start_time": "2022-09-16T19:59:07.880Z"
   },
   {
    "duration": 18,
    "start_time": "2022-09-16T19:59:08.046Z"
   },
   {
    "duration": 177,
    "start_time": "2022-09-16T19:59:08.067Z"
   },
   {
    "duration": 153,
    "start_time": "2022-09-16T20:00:16.811Z"
   },
   {
    "duration": 14,
    "start_time": "2022-09-16T20:06:03.666Z"
   },
   {
    "duration": 15,
    "start_time": "2022-09-16T20:06:32.835Z"
   },
   {
    "duration": 3297,
    "start_time": "2022-09-16T20:09:40.318Z"
   },
   {
    "duration": 16,
    "start_time": "2022-09-16T20:09:43.625Z"
   },
   {
    "duration": 26,
    "start_time": "2022-09-16T20:09:43.644Z"
   },
   {
    "duration": 16,
    "start_time": "2022-09-16T20:09:43.673Z"
   },
   {
    "duration": 7,
    "start_time": "2022-09-16T20:09:43.691Z"
   },
   {
    "duration": 28,
    "start_time": "2022-09-16T20:09:43.700Z"
   },
   {
    "duration": 29,
    "start_time": "2022-09-16T20:09:43.734Z"
   },
   {
    "duration": 29,
    "start_time": "2022-09-16T20:09:43.765Z"
   },
   {
    "duration": 18,
    "start_time": "2022-09-16T20:09:43.796Z"
   },
   {
    "duration": 25,
    "start_time": "2022-09-16T20:09:43.823Z"
   },
   {
    "duration": 17,
    "start_time": "2022-09-16T20:09:43.850Z"
   },
   {
    "duration": 43,
    "start_time": "2022-09-16T20:09:43.869Z"
   },
   {
    "duration": 11527,
    "start_time": "2022-09-16T20:09:43.919Z"
   },
   {
    "duration": 14,
    "start_time": "2022-09-16T20:09:55.447Z"
   },
   {
    "duration": 21,
    "start_time": "2022-09-16T20:09:55.463Z"
   },
   {
    "duration": 214,
    "start_time": "2022-09-16T20:09:55.487Z"
   },
   {
    "duration": 25,
    "start_time": "2022-09-16T20:09:55.707Z"
   },
   {
    "duration": 224,
    "start_time": "2022-09-16T20:09:55.739Z"
   },
   {
    "duration": 13,
    "start_time": "2022-09-16T20:09:55.966Z"
   },
   {
    "duration": 176,
    "start_time": "2022-09-16T20:09:55.982Z"
   },
   {
    "duration": 1522,
    "start_time": "2022-09-16T20:12:52.179Z"
   },
   {
    "duration": 1928,
    "start_time": "2022-09-16T20:13:36.272Z"
   },
   {
    "duration": 143,
    "start_time": "2022-09-16T20:14:03.025Z"
   },
   {
    "duration": 2939,
    "start_time": "2022-09-16T20:14:19.128Z"
   },
   {
    "duration": 9,
    "start_time": "2022-09-16T20:14:22.070Z"
   },
   {
    "duration": 20,
    "start_time": "2022-09-16T20:14:22.081Z"
   },
   {
    "duration": 20,
    "start_time": "2022-09-16T20:14:22.103Z"
   },
   {
    "duration": 29,
    "start_time": "2022-09-16T20:14:22.126Z"
   },
   {
    "duration": 19,
    "start_time": "2022-09-16T20:14:22.157Z"
   },
   {
    "duration": 4,
    "start_time": "2022-09-16T20:14:22.179Z"
   },
   {
    "duration": 36,
    "start_time": "2022-09-16T20:14:22.185Z"
   },
   {
    "duration": 21,
    "start_time": "2022-09-16T20:14:22.222Z"
   },
   {
    "duration": 11,
    "start_time": "2022-09-16T20:14:22.246Z"
   },
   {
    "duration": 7,
    "start_time": "2022-09-16T20:14:22.260Z"
   },
   {
    "duration": 48,
    "start_time": "2022-09-16T20:14:22.269Z"
   },
   {
    "duration": 11325,
    "start_time": "2022-09-16T20:14:22.320Z"
   },
   {
    "duration": 12,
    "start_time": "2022-09-16T20:14:33.648Z"
   },
   {
    "duration": 17,
    "start_time": "2022-09-16T20:14:33.662Z"
   },
   {
    "duration": 170,
    "start_time": "2022-09-16T20:14:33.681Z"
   },
   {
    "duration": 12,
    "start_time": "2022-09-16T20:14:33.852Z"
   },
   {
    "duration": 169,
    "start_time": "2022-09-16T20:14:33.865Z"
   },
   {
    "duration": 13,
    "start_time": "2022-09-16T20:14:34.035Z"
   },
   {
    "duration": 150,
    "start_time": "2022-09-16T20:14:34.050Z"
   },
   {
    "duration": 118,
    "start_time": "2022-09-16T20:32:16.802Z"
   },
   {
    "duration": 188,
    "start_time": "2022-09-16T20:32:47.873Z"
   },
   {
    "duration": 14,
    "start_time": "2022-09-16T20:33:08.358Z"
   },
   {
    "duration": 125,
    "start_time": "2022-09-16T20:39:00.230Z"
   },
   {
    "duration": 86,
    "start_time": "2022-09-16T20:46:22.344Z"
   },
   {
    "duration": 10,
    "start_time": "2022-09-16T20:53:48.458Z"
   },
   {
    "duration": 27,
    "start_time": "2022-09-16T20:54:08.885Z"
   },
   {
    "duration": 17,
    "start_time": "2022-09-16T20:56:07.087Z"
   },
   {
    "duration": 20,
    "start_time": "2022-09-16T20:57:36.033Z"
   },
   {
    "duration": 14,
    "start_time": "2022-09-16T20:58:50.434Z"
   },
   {
    "duration": 8,
    "start_time": "2022-09-16T20:59:59.871Z"
   },
   {
    "duration": 10,
    "start_time": "2022-09-16T21:02:20.528Z"
   },
   {
    "duration": 5,
    "start_time": "2022-09-16T21:03:09.152Z"
   },
   {
    "duration": 21,
    "start_time": "2022-09-16T21:04:05.850Z"
   },
   {
    "duration": 9,
    "start_time": "2022-09-16T21:04:45.941Z"
   },
   {
    "duration": 16,
    "start_time": "2022-09-16T21:06:01.532Z"
   },
   {
    "duration": 23,
    "start_time": "2022-09-16T21:07:10.344Z"
   },
   {
    "duration": 92,
    "start_time": "2022-09-16T21:07:47.388Z"
   },
   {
    "duration": 99,
    "start_time": "2022-09-16T21:07:54.438Z"
   },
   {
    "duration": 53,
    "start_time": "2022-09-16T21:08:01.896Z"
   },
   {
    "duration": 20,
    "start_time": "2022-09-16T21:09:04.026Z"
   },
   {
    "duration": 9,
    "start_time": "2022-09-16T21:09:28.340Z"
   },
   {
    "duration": 17,
    "start_time": "2022-09-16T21:11:00.034Z"
   },
   {
    "duration": 23,
    "start_time": "2022-09-16T21:11:12.540Z"
   },
   {
    "duration": 9,
    "start_time": "2022-09-16T21:13:33.570Z"
   },
   {
    "duration": 9,
    "start_time": "2022-09-16T21:13:54.873Z"
   },
   {
    "duration": 19,
    "start_time": "2022-09-16T21:14:29.097Z"
   },
   {
    "duration": 25,
    "start_time": "2022-09-16T21:14:38.547Z"
   },
   {
    "duration": 6,
    "start_time": "2022-09-16T21:15:10.594Z"
   },
   {
    "duration": 44,
    "start_time": "2022-09-17T13:54:44.053Z"
   },
   {
    "duration": 2645,
    "start_time": "2022-09-17T13:55:00.087Z"
   },
   {
    "duration": 9,
    "start_time": "2022-09-17T13:55:02.734Z"
   },
   {
    "duration": 17,
    "start_time": "2022-09-17T13:55:02.745Z"
   },
   {
    "duration": 10,
    "start_time": "2022-09-17T13:55:02.764Z"
   },
   {
    "duration": 5,
    "start_time": "2022-09-17T13:55:02.776Z"
   },
   {
    "duration": 24,
    "start_time": "2022-09-17T13:55:02.783Z"
   },
   {
    "duration": 4,
    "start_time": "2022-09-17T13:55:02.808Z"
   },
   {
    "duration": 32,
    "start_time": "2022-09-17T13:55:02.821Z"
   },
   {
    "duration": 6,
    "start_time": "2022-09-17T13:55:02.855Z"
   },
   {
    "duration": 12,
    "start_time": "2022-09-17T13:55:02.863Z"
   },
   {
    "duration": 20,
    "start_time": "2022-09-17T13:55:02.877Z"
   },
   {
    "duration": 31,
    "start_time": "2022-09-17T13:55:02.899Z"
   },
   {
    "duration": 9597,
    "start_time": "2022-09-17T13:55:02.931Z"
   },
   {
    "duration": 9,
    "start_time": "2022-09-17T13:55:12.530Z"
   },
   {
    "duration": 13,
    "start_time": "2022-09-17T13:55:12.541Z"
   },
   {
    "duration": 129,
    "start_time": "2022-09-17T13:55:12.555Z"
   },
   {
    "duration": 9,
    "start_time": "2022-09-17T13:55:12.686Z"
   },
   {
    "duration": 132,
    "start_time": "2022-09-17T13:55:12.696Z"
   },
   {
    "duration": 8,
    "start_time": "2022-09-17T13:55:12.830Z"
   },
   {
    "duration": 135,
    "start_time": "2022-09-17T13:55:12.839Z"
   },
   {
    "duration": 9,
    "start_time": "2022-09-17T13:55:12.976Z"
   },
   {
    "duration": 83,
    "start_time": "2022-09-17T13:55:12.986Z"
   },
   {
    "duration": 75,
    "start_time": "2022-09-17T13:55:13.071Z"
   },
   {
    "duration": 21,
    "start_time": "2022-09-17T13:56:40.600Z"
   },
   {
    "duration": 22,
    "start_time": "2022-09-17T13:56:50.021Z"
   },
   {
    "duration": 14,
    "start_time": "2022-09-17T13:57:04.870Z"
   },
   {
    "duration": 14,
    "start_time": "2022-09-17T13:57:14.580Z"
   },
   {
    "duration": 18,
    "start_time": "2022-09-17T14:13:40.879Z"
   },
   {
    "duration": 16,
    "start_time": "2022-09-17T14:15:23.990Z"
   },
   {
    "duration": 19,
    "start_time": "2022-09-17T14:15:35.131Z"
   },
   {
    "duration": 28,
    "start_time": "2022-09-17T14:15:52.118Z"
   },
   {
    "duration": 22,
    "start_time": "2022-09-17T14:18:59.217Z"
   },
   {
    "duration": 17,
    "start_time": "2022-09-17T14:19:21.673Z"
   },
   {
    "duration": 15,
    "start_time": "2022-09-17T14:21:02.258Z"
   },
   {
    "duration": 18,
    "start_time": "2022-09-17T14:21:11.737Z"
   },
   {
    "duration": 15,
    "start_time": "2022-09-17T14:21:36.305Z"
   },
   {
    "duration": 39,
    "start_time": "2022-09-17T14:22:03.436Z"
   },
   {
    "duration": 8,
    "start_time": "2022-09-17T14:23:40.018Z"
   },
   {
    "duration": 8,
    "start_time": "2022-09-17T15:43:19.488Z"
   },
   {
    "duration": 10,
    "start_time": "2022-09-17T15:51:24.223Z"
   },
   {
    "duration": 115,
    "start_time": "2022-09-17T15:57:33.653Z"
   },
   {
    "duration": 11,
    "start_time": "2022-09-17T16:00:38.782Z"
   },
   {
    "duration": 9,
    "start_time": "2022-09-17T16:01:02.733Z"
   },
   {
    "duration": 22,
    "start_time": "2022-09-17T16:04:17.122Z"
   },
   {
    "duration": 87,
    "start_time": "2022-09-17T16:04:37.500Z"
   },
   {
    "duration": 7,
    "start_time": "2022-09-17T16:05:48.881Z"
   },
   {
    "duration": 13,
    "start_time": "2022-09-17T16:08:56.114Z"
   },
   {
    "duration": 13,
    "start_time": "2022-09-17T16:32:21.857Z"
   },
   {
    "duration": 14,
    "start_time": "2022-09-17T16:45:21.629Z"
   },
   {
    "duration": 6,
    "start_time": "2022-09-17T16:46:56.307Z"
   },
   {
    "duration": 13,
    "start_time": "2022-09-17T16:47:21.789Z"
   },
   {
    "duration": 16,
    "start_time": "2022-09-17T16:48:26.898Z"
   },
   {
    "duration": 16,
    "start_time": "2022-09-17T16:49:22.907Z"
   },
   {
    "duration": 22,
    "start_time": "2022-09-17T16:49:46.807Z"
   },
   {
    "duration": 15,
    "start_time": "2022-09-17T16:49:55.679Z"
   },
   {
    "duration": 83,
    "start_time": "2022-09-17T16:50:48.199Z"
   },
   {
    "duration": 18,
    "start_time": "2022-09-17T16:51:28.278Z"
   },
   {
    "duration": 17,
    "start_time": "2022-09-17T16:54:35.379Z"
   },
   {
    "duration": 49,
    "start_time": "2022-09-17T17:47:49.893Z"
   },
   {
    "duration": 8,
    "start_time": "2022-09-17T17:48:48.588Z"
   },
   {
    "duration": 10,
    "start_time": "2022-09-17T17:49:13.299Z"
   },
   {
    "duration": 2607,
    "start_time": "2022-09-17T17:49:23.941Z"
   },
   {
    "duration": 9,
    "start_time": "2022-09-17T17:49:26.550Z"
   },
   {
    "duration": 12,
    "start_time": "2022-09-17T17:49:26.560Z"
   },
   {
    "duration": 9,
    "start_time": "2022-09-17T17:49:26.574Z"
   },
   {
    "duration": 5,
    "start_time": "2022-09-17T17:49:26.585Z"
   },
   {
    "duration": 12,
    "start_time": "2022-09-17T17:49:26.591Z"
   },
   {
    "duration": 4,
    "start_time": "2022-09-17T17:49:26.604Z"
   },
   {
    "duration": 37,
    "start_time": "2022-09-17T17:49:26.609Z"
   },
   {
    "duration": 7,
    "start_time": "2022-09-17T17:49:26.648Z"
   },
   {
    "duration": 6,
    "start_time": "2022-09-17T17:49:26.656Z"
   },
   {
    "duration": 6,
    "start_time": "2022-09-17T17:49:26.663Z"
   },
   {
    "duration": 23,
    "start_time": "2022-09-17T17:49:26.671Z"
   },
   {
    "duration": 9823,
    "start_time": "2022-09-17T17:49:26.696Z"
   },
   {
    "duration": 16,
    "start_time": "2022-09-17T17:49:36.522Z"
   },
   {
    "duration": 15,
    "start_time": "2022-09-17T17:49:36.540Z"
   },
   {
    "duration": 128,
    "start_time": "2022-09-17T17:49:36.557Z"
   },
   {
    "duration": 10,
    "start_time": "2022-09-17T17:49:36.688Z"
   },
   {
    "duration": 140,
    "start_time": "2022-09-17T17:49:36.699Z"
   },
   {
    "duration": 10,
    "start_time": "2022-09-17T17:49:36.841Z"
   },
   {
    "duration": 147,
    "start_time": "2022-09-17T17:49:36.853Z"
   },
   {
    "duration": 9,
    "start_time": "2022-09-17T17:49:37.001Z"
   },
   {
    "duration": 77,
    "start_time": "2022-09-17T17:49:37.011Z"
   },
   {
    "duration": 7,
    "start_time": "2022-09-17T17:49:37.089Z"
   },
   {
    "duration": 26,
    "start_time": "2022-09-17T17:49:37.097Z"
   },
   {
    "duration": 130,
    "start_time": "2022-09-17T17:49:37.124Z"
   },
   {
    "duration": 10,
    "start_time": "2022-09-17T17:49:37.255Z"
   },
   {
    "duration": 111,
    "start_time": "2022-09-17T17:49:37.266Z"
   },
   {
    "duration": 6,
    "start_time": "2022-09-17T17:49:37.379Z"
   },
   {
    "duration": 14,
    "start_time": "2022-09-17T17:49:37.387Z"
   },
   {
    "duration": 37,
    "start_time": "2022-09-17T17:49:37.402Z"
   },
   {
    "duration": 14,
    "start_time": "2022-09-17T17:49:37.441Z"
   },
   {
    "duration": 9,
    "start_time": "2022-09-17T17:50:10.468Z"
   },
   {
    "duration": 9,
    "start_time": "2022-09-17T17:51:36.878Z"
   },
   {
    "duration": 47,
    "start_time": "2022-09-17T17:51:43.099Z"
   },
   {
    "duration": 48,
    "start_time": "2022-09-17T17:52:10.088Z"
   },
   {
    "duration": 39,
    "start_time": "2022-09-17T17:53:50.578Z"
   },
   {
    "duration": 39,
    "start_time": "2022-09-17T17:54:25.957Z"
   },
   {
    "duration": 36,
    "start_time": "2022-09-17T17:54:38.448Z"
   },
   {
    "duration": 1188,
    "start_time": "2022-09-17T17:55:11.095Z"
   },
   {
    "duration": 51,
    "start_time": "2022-09-17T17:55:20.239Z"
   },
   {
    "duration": 4,
    "start_time": "2022-09-17T17:56:11.994Z"
   },
   {
    "duration": 42,
    "start_time": "2022-09-17T17:56:19.743Z"
   },
   {
    "duration": 37,
    "start_time": "2022-09-17T17:56:34.247Z"
   },
   {
    "duration": 39,
    "start_time": "2022-09-17T17:58:13.058Z"
   },
   {
    "duration": 57,
    "start_time": "2022-09-17T17:59:50.551Z"
   },
   {
    "duration": 36,
    "start_time": "2022-09-17T18:02:57.135Z"
   },
   {
    "duration": 1229,
    "start_time": "2022-09-17T18:03:57.779Z"
   },
   {
    "duration": 46,
    "start_time": "2022-09-17T18:04:17.082Z"
   },
   {
    "duration": 11,
    "start_time": "2022-09-17T18:05:15.569Z"
   },
   {
    "duration": 43,
    "start_time": "2022-09-17T18:09:28.375Z"
   },
   {
    "duration": 38,
    "start_time": "2022-09-17T18:10:49.497Z"
   },
   {
    "duration": 17,
    "start_time": "2022-09-17T18:11:24.946Z"
   },
   {
    "duration": 27,
    "start_time": "2022-09-17T18:18:48.433Z"
   },
   {
    "duration": 50,
    "start_time": "2022-09-17T18:25:10.543Z"
   },
   {
    "duration": 54,
    "start_time": "2022-09-17T18:27:47.464Z"
   },
   {
    "duration": 28,
    "start_time": "2022-09-17T18:27:59.112Z"
   },
   {
    "duration": 35,
    "start_time": "2022-09-17T18:30:30.747Z"
   },
   {
    "duration": 29,
    "start_time": "2022-09-17T18:32:01.552Z"
   },
   {
    "duration": 84,
    "start_time": "2022-09-17T18:38:59.015Z"
   },
   {
    "duration": 3877,
    "start_time": "2022-09-17T18:39:04.094Z"
   },
   {
    "duration": 13,
    "start_time": "2022-09-17T18:46:01.833Z"
   },
   {
    "duration": 662,
    "start_time": "2022-09-17T18:46:13.065Z"
   },
   {
    "duration": 12,
    "start_time": "2022-09-17T18:48:48.096Z"
   },
   {
    "duration": 8,
    "start_time": "2022-09-17T18:49:21.648Z"
   },
   {
    "duration": 4,
    "start_time": "2022-09-17T18:50:25.895Z"
   },
   {
    "duration": 9,
    "start_time": "2022-09-17T18:50:36.904Z"
   },
   {
    "duration": 8,
    "start_time": "2022-09-17T18:50:59.942Z"
   },
   {
    "duration": 16,
    "start_time": "2022-09-17T18:51:12.550Z"
   },
   {
    "duration": 152,
    "start_time": "2022-09-17T18:52:23.388Z"
   },
   {
    "duration": 104,
    "start_time": "2022-09-17T18:53:44.383Z"
   },
   {
    "duration": 121,
    "start_time": "2022-09-17T18:54:15.254Z"
   },
   {
    "duration": 237,
    "start_time": "2022-09-17T18:54:33.096Z"
   },
   {
    "duration": 444,
    "start_time": "2022-09-17T18:55:18.352Z"
   },
   {
    "duration": 171,
    "start_time": "2022-09-17T18:55:46.575Z"
   },
   {
    "duration": 197,
    "start_time": "2022-09-17T18:58:24.255Z"
   },
   {
    "duration": 244,
    "start_time": "2022-09-17T18:59:14.654Z"
   },
   {
    "duration": 92,
    "start_time": "2022-09-17T19:15:10.383Z"
   },
   {
    "duration": 67,
    "start_time": "2022-09-17T19:15:27.536Z"
   },
   {
    "duration": 27,
    "start_time": "2022-09-17T19:15:49.860Z"
   },
   {
    "duration": 234,
    "start_time": "2022-09-17T19:17:05.276Z"
   },
   {
    "duration": 123,
    "start_time": "2022-09-17T19:19:26.534Z"
   },
   {
    "duration": 169,
    "start_time": "2022-09-17T19:20:06.195Z"
   },
   {
    "duration": 125,
    "start_time": "2022-09-17T19:20:25.079Z"
   },
   {
    "duration": 125,
    "start_time": "2022-09-17T19:20:47.109Z"
   },
   {
    "duration": 19,
    "start_time": "2022-09-17T19:23:16.940Z"
   },
   {
    "duration": 1504,
    "start_time": "2022-09-17T19:23:32.142Z"
   },
   {
    "duration": 147,
    "start_time": "2022-09-17T19:23:46.869Z"
   },
   {
    "duration": 105,
    "start_time": "2022-09-17T19:25:24.146Z"
   },
   {
    "duration": 251,
    "start_time": "2022-09-17T19:25:50.936Z"
   },
   {
    "duration": 263,
    "start_time": "2022-09-17T19:30:17.018Z"
   },
   {
    "duration": 10,
    "start_time": "2022-09-17T19:31:55.797Z"
   },
   {
    "duration": 8,
    "start_time": "2022-09-17T19:32:07.848Z"
   },
   {
    "duration": 134,
    "start_time": "2022-09-17T19:33:27.046Z"
   },
   {
    "duration": 8,
    "start_time": "2022-09-17T19:34:55.051Z"
   },
   {
    "duration": 243,
    "start_time": "2022-09-17T19:36:16.476Z"
   },
   {
    "duration": 138,
    "start_time": "2022-09-17T19:36:35.416Z"
   },
   {
    "duration": 8,
    "start_time": "2022-09-17T19:39:38.265Z"
   },
   {
    "duration": 21,
    "start_time": "2022-09-17T19:40:08.644Z"
   },
   {
    "duration": 12,
    "start_time": "2022-09-17T19:44:28.480Z"
   },
   {
    "duration": 5,
    "start_time": "2022-09-17T19:44:52.442Z"
   },
   {
    "duration": 120,
    "start_time": "2022-09-17T19:45:24.559Z"
   },
   {
    "duration": 47,
    "start_time": "2022-09-17T19:46:08.138Z"
   },
   {
    "duration": 6,
    "start_time": "2022-09-17T19:51:48.443Z"
   },
   {
    "duration": 15,
    "start_time": "2022-09-17T19:52:05.756Z"
   },
   {
    "duration": 15,
    "start_time": "2022-09-17T19:52:57.942Z"
   },
   {
    "duration": 2694,
    "start_time": "2022-09-17T19:53:17.406Z"
   },
   {
    "duration": 9,
    "start_time": "2022-09-17T19:53:20.102Z"
   },
   {
    "duration": 24,
    "start_time": "2022-09-17T19:53:20.113Z"
   },
   {
    "duration": 67,
    "start_time": "2022-09-17T19:53:20.139Z"
   },
   {
    "duration": 17,
    "start_time": "2022-09-17T19:53:20.208Z"
   },
   {
    "duration": 11,
    "start_time": "2022-09-17T19:53:20.236Z"
   },
   {
    "duration": 5,
    "start_time": "2022-09-17T19:53:20.249Z"
   },
   {
    "duration": 15,
    "start_time": "2022-09-17T19:53:20.255Z"
   },
   {
    "duration": 4,
    "start_time": "2022-09-17T19:53:20.272Z"
   },
   {
    "duration": 31,
    "start_time": "2022-09-17T19:53:20.277Z"
   },
   {
    "duration": 12,
    "start_time": "2022-09-17T19:53:20.324Z"
   },
   {
    "duration": 9,
    "start_time": "2022-09-17T19:53:20.338Z"
   },
   {
    "duration": 7,
    "start_time": "2022-09-17T19:53:20.348Z"
   },
   {
    "duration": 33,
    "start_time": "2022-09-17T19:53:20.359Z"
   },
   {
    "duration": 9613,
    "start_time": "2022-09-17T19:53:20.394Z"
   },
   {
    "duration": 27,
    "start_time": "2022-09-17T19:53:30.009Z"
   },
   {
    "duration": 22,
    "start_time": "2022-09-17T19:53:30.038Z"
   },
   {
    "duration": 114,
    "start_time": "2022-09-17T19:53:30.062Z"
   },
   {
    "duration": 11,
    "start_time": "2022-09-17T19:53:30.178Z"
   },
   {
    "duration": 157,
    "start_time": "2022-09-17T19:53:30.190Z"
   },
   {
    "duration": 10,
    "start_time": "2022-09-17T19:53:30.350Z"
   },
   {
    "duration": 171,
    "start_time": "2022-09-17T19:53:30.362Z"
   },
   {
    "duration": 11,
    "start_time": "2022-09-17T19:53:30.536Z"
   },
   {
    "duration": 86,
    "start_time": "2022-09-17T19:53:30.549Z"
   },
   {
    "duration": 26,
    "start_time": "2022-09-17T19:53:30.637Z"
   },
   {
    "duration": 32,
    "start_time": "2022-09-17T19:53:30.665Z"
   },
   {
    "duration": 141,
    "start_time": "2022-09-17T19:53:30.699Z"
   },
   {
    "duration": 9,
    "start_time": "2022-09-17T19:53:30.842Z"
   },
   {
    "duration": 122,
    "start_time": "2022-09-17T19:53:30.853Z"
   },
   {
    "duration": 7,
    "start_time": "2022-09-17T19:53:30.976Z"
   },
   {
    "duration": 23,
    "start_time": "2022-09-17T19:53:30.984Z"
   },
   {
    "duration": 50,
    "start_time": "2022-09-17T19:53:31.010Z"
   },
   {
    "duration": 37,
    "start_time": "2022-09-17T19:53:31.062Z"
   },
   {
    "duration": 284,
    "start_time": "2022-09-17T19:53:31.101Z"
   },
   {
    "duration": 19,
    "start_time": "2022-09-17T19:53:31.387Z"
   },
   {
    "duration": 253,
    "start_time": "2022-09-17T19:53:31.408Z"
   },
   {
    "duration": 9,
    "start_time": "2022-09-17T19:53:31.663Z"
   },
   {
    "duration": 165,
    "start_time": "2022-09-17T19:53:31.674Z"
   },
   {
    "duration": 18,
    "start_time": "2022-09-17T19:53:31.841Z"
   },
   {
    "duration": 192,
    "start_time": "2022-09-17T19:54:42.776Z"
   },
   {
    "duration": 182,
    "start_time": "2022-09-17T19:54:54.014Z"
   },
   {
    "duration": 175,
    "start_time": "2022-09-17T19:57:40.988Z"
   },
   {
    "duration": 80,
    "start_time": "2022-09-17T19:58:11.916Z"
   },
   {
    "duration": 172,
    "start_time": "2022-09-17T19:58:18.733Z"
   },
   {
    "duration": 6,
    "start_time": "2022-09-17T20:04:16.950Z"
   },
   {
    "duration": 147,
    "start_time": "2022-09-17T20:06:28.645Z"
   },
   {
    "duration": 186,
    "start_time": "2022-09-17T20:07:19.327Z"
   },
   {
    "duration": 138,
    "start_time": "2022-09-17T20:08:10.762Z"
   },
   {
    "duration": 130,
    "start_time": "2022-09-17T20:09:37.456Z"
   },
   {
    "duration": 130,
    "start_time": "2022-09-17T20:10:47.887Z"
   },
   {
    "duration": 36,
    "start_time": "2022-09-17T20:17:18.164Z"
   },
   {
    "duration": 154,
    "start_time": "2022-09-17T20:17:45.377Z"
   },
   {
    "duration": 224,
    "start_time": "2022-09-17T20:18:21.944Z"
   },
   {
    "duration": 118,
    "start_time": "2022-09-17T20:18:35.375Z"
   },
   {
    "duration": 117,
    "start_time": "2022-09-17T20:19:04.265Z"
   },
   {
    "duration": 2901,
    "start_time": "2022-09-17T20:19:14.963Z"
   },
   {
    "duration": 10,
    "start_time": "2022-09-17T20:19:17.867Z"
   },
   {
    "duration": 14,
    "start_time": "2022-09-17T20:19:17.880Z"
   },
   {
    "duration": 55,
    "start_time": "2022-09-17T20:19:17.896Z"
   },
   {
    "duration": 16,
    "start_time": "2022-09-17T20:19:17.953Z"
   },
   {
    "duration": 11,
    "start_time": "2022-09-17T20:19:17.970Z"
   },
   {
    "duration": 5,
    "start_time": "2022-09-17T20:19:17.982Z"
   },
   {
    "duration": 43,
    "start_time": "2022-09-17T20:19:17.989Z"
   },
   {
    "duration": 4,
    "start_time": "2022-09-17T20:19:18.036Z"
   },
   {
    "duration": 36,
    "start_time": "2022-09-17T20:19:18.043Z"
   },
   {
    "duration": 9,
    "start_time": "2022-09-17T20:19:18.080Z"
   },
   {
    "duration": 6,
    "start_time": "2022-09-17T20:19:18.091Z"
   },
   {
    "duration": 7,
    "start_time": "2022-09-17T20:19:18.099Z"
   },
   {
    "duration": 39,
    "start_time": "2022-09-17T20:19:18.108Z"
   },
   {
    "duration": 9928,
    "start_time": "2022-09-17T20:19:18.149Z"
   },
   {
    "duration": 9,
    "start_time": "2022-09-17T20:19:28.079Z"
   },
   {
    "duration": 12,
    "start_time": "2022-09-17T20:19:28.089Z"
   },
   {
    "duration": 144,
    "start_time": "2022-09-17T20:19:28.102Z"
   },
   {
    "duration": 9,
    "start_time": "2022-09-17T20:19:28.248Z"
   },
   {
    "duration": 130,
    "start_time": "2022-09-17T20:19:28.258Z"
   },
   {
    "duration": 9,
    "start_time": "2022-09-17T20:19:28.390Z"
   },
   {
    "duration": 140,
    "start_time": "2022-09-17T20:19:28.400Z"
   },
   {
    "duration": 8,
    "start_time": "2022-09-17T20:19:28.542Z"
   },
   {
    "duration": 83,
    "start_time": "2022-09-17T20:19:28.552Z"
   },
   {
    "duration": 7,
    "start_time": "2022-09-17T20:19:28.636Z"
   },
   {
    "duration": 11,
    "start_time": "2022-09-17T20:19:28.644Z"
   },
   {
    "duration": 123,
    "start_time": "2022-09-17T20:19:28.656Z"
   },
   {
    "duration": 9,
    "start_time": "2022-09-17T20:19:28.782Z"
   },
   {
    "duration": 107,
    "start_time": "2022-09-17T20:19:28.792Z"
   },
   {
    "duration": 6,
    "start_time": "2022-09-17T20:19:28.900Z"
   },
   {
    "duration": 23,
    "start_time": "2022-09-17T20:19:28.907Z"
   },
   {
    "duration": 14,
    "start_time": "2022-09-17T20:19:28.931Z"
   },
   {
    "duration": 33,
    "start_time": "2022-09-17T20:19:28.946Z"
   },
   {
    "duration": 228,
    "start_time": "2022-09-17T20:19:28.981Z"
   },
   {
    "duration": 30,
    "start_time": "2022-09-17T20:19:29.211Z"
   },
   {
    "duration": 238,
    "start_time": "2022-09-17T20:19:29.242Z"
   },
   {
    "duration": 11,
    "start_time": "2022-09-17T20:19:29.482Z"
   },
   {
    "duration": 146,
    "start_time": "2022-09-17T20:19:29.494Z"
   },
   {
    "duration": 19,
    "start_time": "2022-09-17T20:19:29.642Z"
   },
   {
    "duration": 246,
    "start_time": "2022-09-17T20:19:29.663Z"
   },
   {
    "duration": 143,
    "start_time": "2022-09-17T20:19:29.911Z"
   },
   {
    "duration": 139,
    "start_time": "2022-09-17T20:19:30.055Z"
   },
   {
    "duration": 109,
    "start_time": "2022-09-17T20:20:12.141Z"
   },
   {
    "duration": 67,
    "start_time": "2022-09-17T20:23:04.250Z"
   },
   {
    "duration": 39,
    "start_time": "2022-09-17T20:23:19.556Z"
   },
   {
    "duration": 3235,
    "start_time": "2022-09-18T07:34:14.510Z"
   },
   {
    "duration": 10,
    "start_time": "2022-09-18T07:34:17.747Z"
   },
   {
    "duration": 19,
    "start_time": "2022-09-18T07:34:17.758Z"
   },
   {
    "duration": 53,
    "start_time": "2022-09-18T07:34:17.779Z"
   },
   {
    "duration": 19,
    "start_time": "2022-09-18T07:34:17.834Z"
   },
   {
    "duration": 12,
    "start_time": "2022-09-18T07:34:17.854Z"
   },
   {
    "duration": 6,
    "start_time": "2022-09-18T07:34:17.868Z"
   },
   {
    "duration": 13,
    "start_time": "2022-09-18T07:34:17.895Z"
   },
   {
    "duration": 4,
    "start_time": "2022-09-18T07:34:17.910Z"
   },
   {
    "duration": 30,
    "start_time": "2022-09-18T07:34:17.917Z"
   },
   {
    "duration": 8,
    "start_time": "2022-09-18T07:34:17.949Z"
   },
   {
    "duration": 40,
    "start_time": "2022-09-18T07:34:17.959Z"
   },
   {
    "duration": 12,
    "start_time": "2022-09-18T07:34:18.001Z"
   },
   {
    "duration": 32,
    "start_time": "2022-09-18T07:34:18.015Z"
   },
   {
    "duration": 10650,
    "start_time": "2022-09-18T07:34:18.049Z"
   },
   {
    "duration": 11,
    "start_time": "2022-09-18T07:34:28.700Z"
   },
   {
    "duration": 15,
    "start_time": "2022-09-18T07:34:28.712Z"
   },
   {
    "duration": 147,
    "start_time": "2022-09-18T07:34:28.728Z"
   },
   {
    "duration": 19,
    "start_time": "2022-09-18T07:34:28.877Z"
   },
   {
    "duration": 141,
    "start_time": "2022-09-18T07:34:28.897Z"
   },
   {
    "duration": 11,
    "start_time": "2022-09-18T07:34:29.039Z"
   },
   {
    "duration": 157,
    "start_time": "2022-09-18T07:34:29.051Z"
   },
   {
    "duration": 11,
    "start_time": "2022-09-18T07:34:29.210Z"
   },
   {
    "duration": 89,
    "start_time": "2022-09-18T07:34:29.223Z"
   },
   {
    "duration": 7,
    "start_time": "2022-09-18T07:34:29.314Z"
   },
   {
    "duration": 12,
    "start_time": "2022-09-18T07:34:29.322Z"
   },
   {
    "duration": 160,
    "start_time": "2022-09-18T07:34:29.335Z"
   },
   {
    "duration": 11,
    "start_time": "2022-09-18T07:34:29.498Z"
   },
   {
    "duration": 118,
    "start_time": "2022-09-18T07:34:29.511Z"
   },
   {
    "duration": 7,
    "start_time": "2022-09-18T07:34:29.631Z"
   },
   {
    "duration": 11,
    "start_time": "2022-09-18T07:34:29.640Z"
   },
   {
    "duration": 13,
    "start_time": "2022-09-18T07:34:29.653Z"
   },
   {
    "duration": 65,
    "start_time": "2022-09-18T07:34:29.667Z"
   },
   {
    "duration": 247,
    "start_time": "2022-09-18T07:34:29.734Z"
   },
   {
    "duration": 32,
    "start_time": "2022-09-18T07:34:29.983Z"
   },
   {
    "duration": 248,
    "start_time": "2022-09-18T07:34:30.017Z"
   },
   {
    "duration": 9,
    "start_time": "2022-09-18T07:34:30.267Z"
   },
   {
    "duration": 245,
    "start_time": "2022-09-18T07:34:30.278Z"
   },
   {
    "duration": 23,
    "start_time": "2022-09-18T07:34:30.524Z"
   },
   {
    "duration": 198,
    "start_time": "2022-09-18T07:34:30.549Z"
   },
   {
    "duration": 164,
    "start_time": "2022-09-18T07:34:30.749Z"
   },
   {
    "duration": 164,
    "start_time": "2022-09-18T07:34:30.915Z"
   },
   {
    "duration": 55,
    "start_time": "2022-09-18T07:35:04.633Z"
   },
   {
    "duration": 38,
    "start_time": "2022-09-18T07:37:09.235Z"
   },
   {
    "duration": 51,
    "start_time": "2022-09-18T07:37:22.671Z"
   },
   {
    "duration": 37,
    "start_time": "2022-09-18T07:37:48.689Z"
   },
   {
    "duration": 63,
    "start_time": "2022-09-18T07:39:58.921Z"
   },
   {
    "duration": 115,
    "start_time": "2022-09-18T07:41:04.142Z"
   },
   {
    "duration": 2783,
    "start_time": "2022-09-18T07:41:46.549Z"
   },
   {
    "duration": 9,
    "start_time": "2022-09-18T07:41:49.334Z"
   },
   {
    "duration": 16,
    "start_time": "2022-09-18T07:41:49.345Z"
   },
   {
    "duration": 56,
    "start_time": "2022-09-18T07:41:49.363Z"
   },
   {
    "duration": 18,
    "start_time": "2022-09-18T07:41:49.421Z"
   },
   {
    "duration": 11,
    "start_time": "2022-09-18T07:41:49.440Z"
   },
   {
    "duration": 5,
    "start_time": "2022-09-18T07:41:49.452Z"
   },
   {
    "duration": 42,
    "start_time": "2022-09-18T07:41:49.459Z"
   },
   {
    "duration": 4,
    "start_time": "2022-09-18T07:41:49.503Z"
   },
   {
    "duration": 28,
    "start_time": "2022-09-18T07:41:49.508Z"
   },
   {
    "duration": 8,
    "start_time": "2022-09-18T07:41:49.537Z"
   },
   {
    "duration": 8,
    "start_time": "2022-09-18T07:41:49.546Z"
   },
   {
    "duration": 6,
    "start_time": "2022-09-18T07:41:49.556Z"
   },
   {
    "duration": 52,
    "start_time": "2022-09-18T07:41:49.565Z"
   },
   {
    "duration": 10554,
    "start_time": "2022-09-18T07:41:49.619Z"
   },
   {
    "duration": 20,
    "start_time": "2022-09-18T07:42:00.175Z"
   },
   {
    "duration": 15,
    "start_time": "2022-09-18T07:42:00.197Z"
   },
   {
    "duration": 129,
    "start_time": "2022-09-18T07:42:00.214Z"
   },
   {
    "duration": 10,
    "start_time": "2022-09-18T07:42:00.345Z"
   },
   {
    "duration": 146,
    "start_time": "2022-09-18T07:42:00.357Z"
   },
   {
    "duration": 11,
    "start_time": "2022-09-18T07:42:00.505Z"
   },
   {
    "duration": 147,
    "start_time": "2022-09-18T07:42:00.517Z"
   },
   {
    "duration": 10,
    "start_time": "2022-09-18T07:42:00.666Z"
   },
   {
    "duration": 84,
    "start_time": "2022-09-18T07:42:00.678Z"
   },
   {
    "duration": 7,
    "start_time": "2022-09-18T07:42:00.764Z"
   },
   {
    "duration": 28,
    "start_time": "2022-09-18T07:42:00.772Z"
   },
   {
    "duration": 148,
    "start_time": "2022-09-18T07:42:00.801Z"
   },
   {
    "duration": 13,
    "start_time": "2022-09-18T07:42:00.950Z"
   },
   {
    "duration": 116,
    "start_time": "2022-09-18T07:42:00.965Z"
   },
   {
    "duration": 14,
    "start_time": "2022-09-18T07:42:01.082Z"
   },
   {
    "duration": 16,
    "start_time": "2022-09-18T07:42:01.098Z"
   },
   {
    "duration": 20,
    "start_time": "2022-09-18T07:42:01.116Z"
   },
   {
    "duration": 100,
    "start_time": "2022-09-18T07:42:01.138Z"
   },
   {
    "duration": 0,
    "start_time": "2022-09-18T07:42:01.240Z"
   },
   {
    "duration": 0,
    "start_time": "2022-09-18T07:42:01.241Z"
   },
   {
    "duration": 1,
    "start_time": "2022-09-18T07:42:01.242Z"
   },
   {
    "duration": 0,
    "start_time": "2022-09-18T07:42:01.244Z"
   },
   {
    "duration": 0,
    "start_time": "2022-09-18T07:42:01.245Z"
   },
   {
    "duration": 0,
    "start_time": "2022-09-18T07:42:01.246Z"
   },
   {
    "duration": 0,
    "start_time": "2022-09-18T07:42:01.247Z"
   },
   {
    "duration": 0,
    "start_time": "2022-09-18T07:42:01.248Z"
   },
   {
    "duration": 0,
    "start_time": "2022-09-18T07:42:01.249Z"
   },
   {
    "duration": 2840,
    "start_time": "2022-09-18T07:44:17.612Z"
   },
   {
    "duration": 11,
    "start_time": "2022-09-18T07:44:20.455Z"
   },
   {
    "duration": 15,
    "start_time": "2022-09-18T07:44:20.468Z"
   },
   {
    "duration": 55,
    "start_time": "2022-09-18T07:44:20.494Z"
   },
   {
    "duration": 19,
    "start_time": "2022-09-18T07:44:20.551Z"
   },
   {
    "duration": 32,
    "start_time": "2022-09-18T07:44:20.572Z"
   },
   {
    "duration": 6,
    "start_time": "2022-09-18T07:44:20.605Z"
   },
   {
    "duration": 22,
    "start_time": "2022-09-18T07:44:20.612Z"
   },
   {
    "duration": 6,
    "start_time": "2022-09-18T07:44:20.636Z"
   },
   {
    "duration": 53,
    "start_time": "2022-09-18T07:44:20.645Z"
   },
   {
    "duration": 8,
    "start_time": "2022-09-18T07:44:20.700Z"
   },
   {
    "duration": 8,
    "start_time": "2022-09-18T07:44:20.709Z"
   },
   {
    "duration": 9,
    "start_time": "2022-09-18T07:44:20.719Z"
   },
   {
    "duration": 26,
    "start_time": "2022-09-18T07:44:20.730Z"
   },
   {
    "duration": 10550,
    "start_time": "2022-09-18T07:44:20.758Z"
   },
   {
    "duration": 11,
    "start_time": "2022-09-18T07:44:31.310Z"
   },
   {
    "duration": 15,
    "start_time": "2022-09-18T07:44:31.322Z"
   },
   {
    "duration": 149,
    "start_time": "2022-09-18T07:44:31.338Z"
   },
   {
    "duration": 13,
    "start_time": "2022-09-18T07:44:31.496Z"
   },
   {
    "duration": 154,
    "start_time": "2022-09-18T07:44:31.511Z"
   },
   {
    "duration": 10,
    "start_time": "2022-09-18T07:44:31.666Z"
   },
   {
    "duration": 153,
    "start_time": "2022-09-18T07:44:31.677Z"
   },
   {
    "duration": 10,
    "start_time": "2022-09-18T07:44:31.831Z"
   },
   {
    "duration": 91,
    "start_time": "2022-09-18T07:44:31.843Z"
   },
   {
    "duration": 8,
    "start_time": "2022-09-18T07:44:31.935Z"
   },
   {
    "duration": 13,
    "start_time": "2022-09-18T07:44:31.945Z"
   },
   {
    "duration": 160,
    "start_time": "2022-09-18T07:44:31.959Z"
   },
   {
    "duration": 11,
    "start_time": "2022-09-18T07:44:32.123Z"
   },
   {
    "duration": 130,
    "start_time": "2022-09-18T07:44:32.136Z"
   },
   {
    "duration": 8,
    "start_time": "2022-09-18T07:44:32.267Z"
   },
   {
    "duration": 25,
    "start_time": "2022-09-18T07:44:32.276Z"
   },
   {
    "duration": 14,
    "start_time": "2022-09-18T07:44:32.303Z"
   },
   {
    "duration": 112,
    "start_time": "2022-09-18T07:44:32.319Z"
   },
   {
    "duration": 0,
    "start_time": "2022-09-18T07:44:32.432Z"
   },
   {
    "duration": 0,
    "start_time": "2022-09-18T07:44:32.434Z"
   },
   {
    "duration": 0,
    "start_time": "2022-09-18T07:44:32.435Z"
   },
   {
    "duration": 0,
    "start_time": "2022-09-18T07:44:32.436Z"
   },
   {
    "duration": 0,
    "start_time": "2022-09-18T07:44:32.437Z"
   },
   {
    "duration": 0,
    "start_time": "2022-09-18T07:44:32.438Z"
   },
   {
    "duration": 0,
    "start_time": "2022-09-18T07:44:32.439Z"
   },
   {
    "duration": 0,
    "start_time": "2022-09-18T07:44:32.440Z"
   },
   {
    "duration": 0,
    "start_time": "2022-09-18T07:44:32.441Z"
   },
   {
    "duration": 30,
    "start_time": "2022-09-18T07:45:11.501Z"
   },
   {
    "duration": 38,
    "start_time": "2022-09-18T07:45:22.342Z"
   },
   {
    "duration": 79,
    "start_time": "2022-09-18T07:45:52.791Z"
   },
   {
    "duration": 2718,
    "start_time": "2022-09-18T07:46:08.443Z"
   },
   {
    "duration": 11,
    "start_time": "2022-09-18T07:46:11.163Z"
   },
   {
    "duration": 15,
    "start_time": "2022-09-18T07:46:11.176Z"
   },
   {
    "duration": 55,
    "start_time": "2022-09-18T07:46:11.195Z"
   },
   {
    "duration": 19,
    "start_time": "2022-09-18T07:46:11.252Z"
   },
   {
    "duration": 33,
    "start_time": "2022-09-18T07:46:11.273Z"
   },
   {
    "duration": 5,
    "start_time": "2022-09-18T07:46:11.308Z"
   },
   {
    "duration": 16,
    "start_time": "2022-09-18T07:46:11.314Z"
   },
   {
    "duration": 4,
    "start_time": "2022-09-18T07:46:11.331Z"
   },
   {
    "duration": 27,
    "start_time": "2022-09-18T07:46:11.337Z"
   },
   {
    "duration": 36,
    "start_time": "2022-09-18T07:46:11.366Z"
   },
   {
    "duration": 8,
    "start_time": "2022-09-18T07:46:11.404Z"
   },
   {
    "duration": 9,
    "start_time": "2022-09-18T07:46:11.413Z"
   },
   {
    "duration": 26,
    "start_time": "2022-09-18T07:46:11.424Z"
   },
   {
    "duration": 10643,
    "start_time": "2022-09-18T07:46:11.452Z"
   },
   {
    "duration": 10,
    "start_time": "2022-09-18T07:46:22.097Z"
   },
   {
    "duration": 15,
    "start_time": "2022-09-18T07:46:22.109Z"
   },
   {
    "duration": 153,
    "start_time": "2022-09-18T07:46:22.125Z"
   },
   {
    "duration": 19,
    "start_time": "2022-09-18T07:46:22.280Z"
   },
   {
    "duration": 147,
    "start_time": "2022-09-18T07:46:22.301Z"
   },
   {
    "duration": 11,
    "start_time": "2022-09-18T07:46:22.450Z"
   },
   {
    "duration": 176,
    "start_time": "2022-09-18T07:46:22.462Z"
   },
   {
    "duration": 11,
    "start_time": "2022-09-18T07:46:22.641Z"
   },
   {
    "duration": 99,
    "start_time": "2022-09-18T07:46:22.655Z"
   },
   {
    "duration": 10,
    "start_time": "2022-09-18T07:46:22.756Z"
   },
   {
    "duration": 28,
    "start_time": "2022-09-18T07:46:22.768Z"
   },
   {
    "duration": 182,
    "start_time": "2022-09-18T07:46:22.798Z"
   },
   {
    "duration": 18,
    "start_time": "2022-09-18T07:46:22.982Z"
   },
   {
    "duration": 120,
    "start_time": "2022-09-18T07:46:23.001Z"
   },
   {
    "duration": 7,
    "start_time": "2022-09-18T07:46:23.123Z"
   },
   {
    "duration": 10,
    "start_time": "2022-09-18T07:46:23.132Z"
   },
   {
    "duration": 15,
    "start_time": "2022-09-18T07:46:23.144Z"
   },
   {
    "duration": 87,
    "start_time": "2022-09-18T07:46:23.160Z"
   },
   {
    "duration": 270,
    "start_time": "2022-09-18T07:46:23.248Z"
   },
   {
    "duration": 20,
    "start_time": "2022-09-18T07:46:23.520Z"
   },
   {
    "duration": 257,
    "start_time": "2022-09-18T07:46:23.541Z"
   },
   {
    "duration": 10,
    "start_time": "2022-09-18T07:46:23.799Z"
   },
   {
    "duration": 162,
    "start_time": "2022-09-18T07:46:23.811Z"
   },
   {
    "duration": 31,
    "start_time": "2022-09-18T07:46:23.974Z"
   },
   {
    "duration": 290,
    "start_time": "2022-09-18T07:46:24.007Z"
   },
   {
    "duration": 160,
    "start_time": "2022-09-18T07:46:24.301Z"
   },
   {
    "duration": 138,
    "start_time": "2022-09-18T07:46:24.463Z"
   },
   {
    "duration": 144,
    "start_time": "2022-09-18T07:47:27.990Z"
   },
   {
    "duration": 137,
    "start_time": "2022-09-18T07:47:58.447Z"
   },
   {
    "duration": 169,
    "start_time": "2022-09-18T07:48:15.499Z"
   },
   {
    "duration": 134,
    "start_time": "2022-09-18T07:49:50.116Z"
   },
   {
    "duration": 97,
    "start_time": "2022-09-18T07:57:31.908Z"
   },
   {
    "duration": 21,
    "start_time": "2022-09-18T07:58:36.451Z"
   },
   {
    "duration": 33,
    "start_time": "2022-09-18T08:01:52.709Z"
   },
   {
    "duration": 39,
    "start_time": "2022-09-18T08:03:17.446Z"
   },
   {
    "duration": 153,
    "start_time": "2022-09-18T08:03:35.459Z"
   },
   {
    "duration": 129,
    "start_time": "2022-09-18T08:04:23.548Z"
   },
   {
    "duration": 131,
    "start_time": "2022-09-18T08:04:34.805Z"
   },
   {
    "duration": 124,
    "start_time": "2022-09-18T08:04:59.707Z"
   },
   {
    "duration": 2973,
    "start_time": "2022-09-18T08:05:35.455Z"
   },
   {
    "duration": 10,
    "start_time": "2022-09-18T08:05:38.431Z"
   },
   {
    "duration": 15,
    "start_time": "2022-09-18T08:05:38.442Z"
   },
   {
    "duration": 63,
    "start_time": "2022-09-18T08:05:38.458Z"
   },
   {
    "duration": 19,
    "start_time": "2022-09-18T08:05:38.523Z"
   },
   {
    "duration": 12,
    "start_time": "2022-09-18T08:05:38.543Z"
   },
   {
    "duration": 6,
    "start_time": "2022-09-18T08:05:38.556Z"
   },
   {
    "duration": 38,
    "start_time": "2022-09-18T08:05:38.564Z"
   },
   {
    "duration": 4,
    "start_time": "2022-09-18T08:05:38.604Z"
   },
   {
    "duration": 31,
    "start_time": "2022-09-18T08:05:38.610Z"
   },
   {
    "duration": 9,
    "start_time": "2022-09-18T08:05:38.642Z"
   },
   {
    "duration": 10,
    "start_time": "2022-09-18T08:05:38.652Z"
   },
   {
    "duration": 36,
    "start_time": "2022-09-18T08:05:38.663Z"
   },
   {
    "duration": 28,
    "start_time": "2022-09-18T08:05:38.702Z"
   },
   {
    "duration": 11045,
    "start_time": "2022-09-18T08:05:38.732Z"
   },
   {
    "duration": 19,
    "start_time": "2022-09-18T08:05:49.779Z"
   },
   {
    "duration": 16,
    "start_time": "2022-09-18T08:05:49.800Z"
   },
   {
    "duration": 146,
    "start_time": "2022-09-18T08:05:49.817Z"
   },
   {
    "duration": 11,
    "start_time": "2022-09-18T08:05:49.965Z"
   },
   {
    "duration": 153,
    "start_time": "2022-09-18T08:05:49.977Z"
   },
   {
    "duration": 11,
    "start_time": "2022-09-18T08:05:50.132Z"
   },
   {
    "duration": 152,
    "start_time": "2022-09-18T08:05:50.145Z"
   },
   {
    "duration": 11,
    "start_time": "2022-09-18T08:05:50.299Z"
   },
   {
    "duration": 95,
    "start_time": "2022-09-18T08:05:50.312Z"
   },
   {
    "duration": 6,
    "start_time": "2022-09-18T08:05:50.409Z"
   },
   {
    "duration": 14,
    "start_time": "2022-09-18T08:05:50.417Z"
   },
   {
    "duration": 151,
    "start_time": "2022-09-18T08:05:50.433Z"
   },
   {
    "duration": 17,
    "start_time": "2022-09-18T08:05:50.586Z"
   },
   {
    "duration": 114,
    "start_time": "2022-09-18T08:05:50.604Z"
   },
   {
    "duration": 6,
    "start_time": "2022-09-18T08:05:50.719Z"
   },
   {
    "duration": 13,
    "start_time": "2022-09-18T08:05:50.727Z"
   },
   {
    "duration": 17,
    "start_time": "2022-09-18T08:05:50.742Z"
   },
   {
    "duration": 87,
    "start_time": "2022-09-18T08:05:50.761Z"
   },
   {
    "duration": 267,
    "start_time": "2022-09-18T08:05:50.850Z"
   },
   {
    "duration": 20,
    "start_time": "2022-09-18T08:05:51.118Z"
   },
   {
    "duration": 259,
    "start_time": "2022-09-18T08:05:51.140Z"
   },
   {
    "duration": 10,
    "start_time": "2022-09-18T08:05:51.401Z"
   },
   {
    "duration": 173,
    "start_time": "2022-09-18T08:05:51.412Z"
   },
   {
    "duration": 25,
    "start_time": "2022-09-18T08:05:51.587Z"
   },
   {
    "duration": 296,
    "start_time": "2022-09-18T08:05:51.613Z"
   },
   {
    "duration": 170,
    "start_time": "2022-09-18T08:05:51.913Z"
   },
   {
    "duration": 139,
    "start_time": "2022-09-18T08:05:52.085Z"
   },
   {
    "duration": 170,
    "start_time": "2022-09-18T08:05:52.225Z"
   },
   {
    "duration": 129,
    "start_time": "2022-09-18T08:06:29.692Z"
   },
   {
    "duration": 128,
    "start_time": "2022-09-18T08:06:40.624Z"
   },
   {
    "duration": 83,
    "start_time": "2022-09-18T08:07:20.230Z"
   },
   {
    "duration": 15,
    "start_time": "2022-09-18T08:07:50.069Z"
   },
   {
    "duration": 15,
    "start_time": "2022-09-18T08:09:05.938Z"
   },
   {
    "duration": 16,
    "start_time": "2022-09-18T08:10:16.447Z"
   },
   {
    "duration": 165,
    "start_time": "2022-09-18T08:11:01.157Z"
   },
   {
    "duration": 159,
    "start_time": "2022-09-18T08:11:12.209Z"
   },
   {
    "duration": 172,
    "start_time": "2022-09-18T08:11:50.712Z"
   },
   {
    "duration": 164,
    "start_time": "2022-09-18T08:12:49.502Z"
   },
   {
    "duration": 8,
    "start_time": "2022-09-18T08:16:25.995Z"
   },
   {
    "duration": 9,
    "start_time": "2022-09-18T08:16:43.156Z"
   },
   {
    "duration": 12,
    "start_time": "2022-09-18T08:19:17.557Z"
   },
   {
    "duration": 10,
    "start_time": "2022-09-18T08:19:28.325Z"
   },
   {
    "duration": 1261,
    "start_time": "2022-09-18T08:20:55.404Z"
   },
   {
    "duration": 5,
    "start_time": "2022-09-18T08:21:10.912Z"
   },
   {
    "duration": 1243,
    "start_time": "2022-09-18T08:22:14.676Z"
   },
   {
    "duration": 10,
    "start_time": "2022-09-18T08:24:31.509Z"
   },
   {
    "duration": 8,
    "start_time": "2022-09-18T08:26:03.629Z"
   },
   {
    "duration": 191,
    "start_time": "2022-09-18T08:26:21.429Z"
   },
   {
    "duration": 66,
    "start_time": "2022-09-18T08:26:57.249Z"
   },
   {
    "duration": 34,
    "start_time": "2022-09-18T08:30:26.184Z"
   },
   {
    "duration": 9,
    "start_time": "2022-09-18T08:38:55.262Z"
   },
   {
    "duration": 76,
    "start_time": "2022-09-18T08:39:10.123Z"
   },
   {
    "duration": 78,
    "start_time": "2022-09-18T08:40:13.657Z"
   },
   {
    "duration": 2863,
    "start_time": "2022-09-18T09:55:32.873Z"
   },
   {
    "duration": 9,
    "start_time": "2022-09-18T09:55:35.739Z"
   },
   {
    "duration": 14,
    "start_time": "2022-09-18T09:55:35.750Z"
   },
   {
    "duration": 52,
    "start_time": "2022-09-18T09:55:35.766Z"
   },
   {
    "duration": 17,
    "start_time": "2022-09-18T09:55:35.820Z"
   },
   {
    "duration": 11,
    "start_time": "2022-09-18T09:55:35.839Z"
   },
   {
    "duration": 8,
    "start_time": "2022-09-18T09:55:35.852Z"
   },
   {
    "duration": 40,
    "start_time": "2022-09-18T09:55:35.862Z"
   },
   {
    "duration": 31,
    "start_time": "2022-09-18T09:55:35.903Z"
   },
   {
    "duration": 59,
    "start_time": "2022-09-18T09:55:35.937Z"
   },
   {
    "duration": 5,
    "start_time": "2022-09-18T09:55:35.998Z"
   },
   {
    "duration": 30,
    "start_time": "2022-09-18T09:55:36.005Z"
   },
   {
    "duration": 9,
    "start_time": "2022-09-18T09:55:36.037Z"
   },
   {
    "duration": 11,
    "start_time": "2022-09-18T09:55:36.047Z"
   },
   {
    "duration": 8,
    "start_time": "2022-09-18T09:55:36.060Z"
   },
   {
    "duration": 26,
    "start_time": "2022-09-18T09:55:36.096Z"
   },
   {
    "duration": 11014,
    "start_time": "2022-09-18T09:55:36.123Z"
   },
   {
    "duration": 11,
    "start_time": "2022-09-18T09:55:47.138Z"
   },
   {
    "duration": 14,
    "start_time": "2022-09-18T09:55:47.151Z"
   },
   {
    "duration": 154,
    "start_time": "2022-09-18T09:55:47.167Z"
   },
   {
    "duration": 12,
    "start_time": "2022-09-18T09:55:47.322Z"
   },
   {
    "duration": 164,
    "start_time": "2022-09-18T09:55:47.336Z"
   },
   {
    "duration": 12,
    "start_time": "2022-09-18T09:55:47.501Z"
   },
   {
    "duration": 174,
    "start_time": "2022-09-18T09:55:47.515Z"
   },
   {
    "duration": 13,
    "start_time": "2022-09-18T09:55:47.696Z"
   },
   {
    "duration": 120,
    "start_time": "2022-09-18T09:55:47.711Z"
   },
   {
    "duration": 7,
    "start_time": "2022-09-18T09:55:47.833Z"
   },
   {
    "duration": 11,
    "start_time": "2022-09-18T09:55:47.843Z"
   },
   {
    "duration": 163,
    "start_time": "2022-09-18T09:55:47.856Z"
   },
   {
    "duration": 13,
    "start_time": "2022-09-18T09:55:48.021Z"
   },
   {
    "duration": 140,
    "start_time": "2022-09-18T09:55:48.036Z"
   },
   {
    "duration": 7,
    "start_time": "2022-09-18T09:55:48.178Z"
   },
   {
    "duration": 11,
    "start_time": "2022-09-18T09:55:48.195Z"
   },
   {
    "duration": 14,
    "start_time": "2022-09-18T09:55:48.208Z"
   },
   {
    "duration": 79,
    "start_time": "2022-09-18T09:55:48.224Z"
   },
   {
    "duration": 264,
    "start_time": "2022-09-18T09:55:48.305Z"
   },
   {
    "duration": 28,
    "start_time": "2022-09-18T09:55:48.570Z"
   },
   {
    "duration": 256,
    "start_time": "2022-09-18T09:55:48.600Z"
   },
   {
    "duration": 12,
    "start_time": "2022-09-18T09:55:48.858Z"
   },
   {
    "duration": 177,
    "start_time": "2022-09-18T09:55:48.872Z"
   },
   {
    "duration": 20,
    "start_time": "2022-09-18T09:55:49.051Z"
   },
   {
    "duration": 308,
    "start_time": "2022-09-18T09:55:49.073Z"
   },
   {
    "duration": 169,
    "start_time": "2022-09-18T09:55:49.382Z"
   },
   {
    "duration": 181,
    "start_time": "2022-09-18T09:55:49.552Z"
   },
   {
    "duration": 188,
    "start_time": "2022-09-18T09:55:49.735Z"
   },
   {
    "duration": 37,
    "start_time": "2022-09-18T10:06:02.747Z"
   },
   {
    "duration": 98,
    "start_time": "2022-09-18T10:08:05.024Z"
   },
   {
    "duration": 17,
    "start_time": "2022-09-18T10:08:21.665Z"
   },
   {
    "duration": 13,
    "start_time": "2022-09-18T10:16:15.987Z"
   },
   {
    "duration": 12,
    "start_time": "2022-09-18T10:16:58.279Z"
   },
   {
    "duration": 11,
    "start_time": "2022-09-18T10:18:04.430Z"
   },
   {
    "duration": 15,
    "start_time": "2022-09-18T10:18:51.866Z"
   },
   {
    "duration": 35,
    "start_time": "2022-09-18T10:20:37.758Z"
   },
   {
    "duration": 7,
    "start_time": "2022-09-18T10:26:12.174Z"
   },
   {
    "duration": 112,
    "start_time": "2022-09-18T10:36:36.076Z"
   },
   {
    "duration": 1158,
    "start_time": "2022-09-18T10:37:44.630Z"
   },
   {
    "duration": 1436,
    "start_time": "2022-09-18T10:39:25.710Z"
   },
   {
    "duration": 1557,
    "start_time": "2022-09-18T10:39:38.342Z"
   },
   {
    "duration": 624,
    "start_time": "2022-09-18T10:40:47.713Z"
   },
   {
    "duration": 2898,
    "start_time": "2022-09-18T10:41:01.955Z"
   },
   {
    "duration": 9,
    "start_time": "2022-09-18T10:41:04.855Z"
   },
   {
    "duration": 14,
    "start_time": "2022-09-18T10:41:04.866Z"
   },
   {
    "duration": 34,
    "start_time": "2022-09-18T10:41:04.882Z"
   },
   {
    "duration": 18,
    "start_time": "2022-09-18T10:41:04.918Z"
   },
   {
    "duration": 12,
    "start_time": "2022-09-18T10:41:04.937Z"
   },
   {
    "duration": 6,
    "start_time": "2022-09-18T10:41:04.950Z"
   },
   {
    "duration": 40,
    "start_time": "2022-09-18T10:41:04.957Z"
   },
   {
    "duration": 33,
    "start_time": "2022-09-18T10:41:04.999Z"
   },
   {
    "duration": 62,
    "start_time": "2022-09-18T10:41:05.034Z"
   },
   {
    "duration": 5,
    "start_time": "2022-09-18T10:41:05.098Z"
   },
   {
    "duration": 30,
    "start_time": "2022-09-18T10:41:05.104Z"
   },
   {
    "duration": 7,
    "start_time": "2022-09-18T10:41:05.136Z"
   },
   {
    "duration": 15,
    "start_time": "2022-09-18T10:41:05.145Z"
   },
   {
    "duration": 56,
    "start_time": "2022-09-18T10:41:05.161Z"
   },
   {
    "duration": 7,
    "start_time": "2022-09-18T10:41:05.219Z"
   },
   {
    "duration": 5,
    "start_time": "2022-09-18T10:41:05.228Z"
   },
   {
    "duration": 9,
    "start_time": "2022-09-18T10:41:05.235Z"
   },
   {
    "duration": 49,
    "start_time": "2022-09-18T10:41:05.246Z"
   },
   {
    "duration": 263,
    "start_time": "2022-09-18T10:41:05.297Z"
   },
   {
    "duration": 0,
    "start_time": "2022-09-18T10:41:05.562Z"
   },
   {
    "duration": 0,
    "start_time": "2022-09-18T10:41:05.564Z"
   },
   {
    "duration": 0,
    "start_time": "2022-09-18T10:41:05.565Z"
   },
   {
    "duration": 0,
    "start_time": "2022-09-18T10:41:05.566Z"
   },
   {
    "duration": 0,
    "start_time": "2022-09-18T10:41:05.567Z"
   },
   {
    "duration": 0,
    "start_time": "2022-09-18T10:41:05.568Z"
   },
   {
    "duration": 0,
    "start_time": "2022-09-18T10:41:05.569Z"
   },
   {
    "duration": 0,
    "start_time": "2022-09-18T10:41:05.570Z"
   },
   {
    "duration": 0,
    "start_time": "2022-09-18T10:41:05.571Z"
   },
   {
    "duration": 0,
    "start_time": "2022-09-18T10:41:05.571Z"
   },
   {
    "duration": 0,
    "start_time": "2022-09-18T10:41:05.572Z"
   },
   {
    "duration": 0,
    "start_time": "2022-09-18T10:41:05.573Z"
   },
   {
    "duration": 0,
    "start_time": "2022-09-18T10:41:05.595Z"
   },
   {
    "duration": 0,
    "start_time": "2022-09-18T10:41:05.596Z"
   },
   {
    "duration": 0,
    "start_time": "2022-09-18T10:41:05.598Z"
   },
   {
    "duration": 0,
    "start_time": "2022-09-18T10:41:05.600Z"
   },
   {
    "duration": 0,
    "start_time": "2022-09-18T10:41:05.602Z"
   },
   {
    "duration": 0,
    "start_time": "2022-09-18T10:41:05.603Z"
   },
   {
    "duration": 0,
    "start_time": "2022-09-18T10:41:05.605Z"
   },
   {
    "duration": 0,
    "start_time": "2022-09-18T10:41:05.606Z"
   },
   {
    "duration": 0,
    "start_time": "2022-09-18T10:41:05.607Z"
   },
   {
    "duration": 0,
    "start_time": "2022-09-18T10:41:05.609Z"
   },
   {
    "duration": 0,
    "start_time": "2022-09-18T10:41:05.610Z"
   },
   {
    "duration": 0,
    "start_time": "2022-09-18T10:41:05.612Z"
   },
   {
    "duration": 0,
    "start_time": "2022-09-18T10:41:05.613Z"
   },
   {
    "duration": 0,
    "start_time": "2022-09-18T10:41:05.614Z"
   },
   {
    "duration": 0,
    "start_time": "2022-09-18T10:41:05.616Z"
   },
   {
    "duration": 0,
    "start_time": "2022-09-18T10:41:05.617Z"
   },
   {
    "duration": 180,
    "start_time": "2022-09-18T10:42:04.353Z"
   },
   {
    "duration": 10,
    "start_time": "2022-09-18T10:42:43.378Z"
   },
   {
    "duration": 15,
    "start_time": "2022-09-18T10:42:56.770Z"
   },
   {
    "duration": 631,
    "start_time": "2022-09-18T10:43:43.198Z"
   },
   {
    "duration": 667,
    "start_time": "2022-09-18T10:49:37.514Z"
   },
   {
    "duration": 34,
    "start_time": "2022-09-18T10:57:00.248Z"
   },
   {
    "duration": 3982,
    "start_time": "2022-09-18T10:57:24.716Z"
   },
   {
    "duration": 12,
    "start_time": "2022-09-18T10:59:58.655Z"
   },
   {
    "duration": 13,
    "start_time": "2022-09-18T11:00:12.401Z"
   },
   {
    "duration": 110,
    "start_time": "2022-09-18T11:00:33.745Z"
   },
   {
    "duration": 26,
    "start_time": "2022-09-18T11:00:37.725Z"
   },
   {
    "duration": 25,
    "start_time": "2022-09-18T11:01:01.911Z"
   },
   {
    "duration": 3847,
    "start_time": "2022-09-18T11:02:03.109Z"
   },
   {
    "duration": 2840,
    "start_time": "2022-09-18T11:02:43.705Z"
   },
   {
    "duration": 14,
    "start_time": "2022-09-18T11:02:46.549Z"
   },
   {
    "duration": 30,
    "start_time": "2022-09-18T11:02:46.565Z"
   },
   {
    "duration": 52,
    "start_time": "2022-09-18T11:02:46.597Z"
   },
   {
    "duration": 23,
    "start_time": "2022-09-18T11:02:46.652Z"
   },
   {
    "duration": 27,
    "start_time": "2022-09-18T11:02:46.677Z"
   },
   {
    "duration": 9,
    "start_time": "2022-09-18T11:02:46.706Z"
   },
   {
    "duration": 29,
    "start_time": "2022-09-18T11:02:46.716Z"
   },
   {
    "duration": 39,
    "start_time": "2022-09-18T11:02:46.749Z"
   },
   {
    "duration": 49,
    "start_time": "2022-09-18T11:02:46.794Z"
   },
   {
    "duration": 15,
    "start_time": "2022-09-18T11:02:46.845Z"
   },
   {
    "duration": 42,
    "start_time": "2022-09-18T11:02:46.862Z"
   },
   {
    "duration": 12,
    "start_time": "2022-09-18T11:02:46.905Z"
   },
   {
    "duration": 31,
    "start_time": "2022-09-18T11:02:46.919Z"
   },
   {
    "duration": 35,
    "start_time": "2022-09-18T11:02:46.952Z"
   },
   {
    "duration": 13,
    "start_time": "2022-09-18T11:02:46.989Z"
   },
   {
    "duration": 6,
    "start_time": "2022-09-18T11:02:47.004Z"
   },
   {
    "duration": 10,
    "start_time": "2022-09-18T11:02:47.011Z"
   },
   {
    "duration": 28,
    "start_time": "2022-09-18T11:02:47.023Z"
   },
   {
    "duration": 4320,
    "start_time": "2022-09-18T11:02:47.052Z"
   },
   {
    "duration": 10,
    "start_time": "2022-09-18T11:02:51.373Z"
   },
   {
    "duration": 23,
    "start_time": "2022-09-18T11:02:51.385Z"
   },
   {
    "duration": 136,
    "start_time": "2022-09-18T11:02:51.409Z"
   },
   {
    "duration": 11,
    "start_time": "2022-09-18T11:02:51.547Z"
   },
   {
    "duration": 152,
    "start_time": "2022-09-18T11:02:51.560Z"
   },
   {
    "duration": 11,
    "start_time": "2022-09-18T11:02:51.713Z"
   },
   {
    "duration": 147,
    "start_time": "2022-09-18T11:02:51.728Z"
   },
   {
    "duration": 19,
    "start_time": "2022-09-18T11:02:51.877Z"
   },
   {
    "duration": 66,
    "start_time": "2022-09-18T11:02:51.897Z"
   },
   {
    "duration": 7,
    "start_time": "2022-09-18T11:02:51.965Z"
   },
   {
    "duration": 29,
    "start_time": "2022-09-18T11:02:51.973Z"
   },
   {
    "duration": 146,
    "start_time": "2022-09-18T11:02:52.004Z"
   },
   {
    "duration": 11,
    "start_time": "2022-09-18T11:02:52.152Z"
   },
   {
    "duration": 116,
    "start_time": "2022-09-18T11:02:52.164Z"
   },
   {
    "duration": 14,
    "start_time": "2022-09-18T11:02:52.282Z"
   },
   {
    "duration": 11,
    "start_time": "2022-09-18T11:02:52.298Z"
   },
   {
    "duration": 14,
    "start_time": "2022-09-18T11:02:52.310Z"
   },
   {
    "duration": 75,
    "start_time": "2022-09-18T11:02:52.326Z"
   },
   {
    "duration": 255,
    "start_time": "2022-09-18T11:02:52.403Z"
   },
   {
    "duration": 18,
    "start_time": "2022-09-18T11:02:52.660Z"
   },
   {
    "duration": 275,
    "start_time": "2022-09-18T11:02:52.680Z"
   },
   {
    "duration": 10,
    "start_time": "2022-09-18T11:02:52.956Z"
   },
   {
    "duration": 156,
    "start_time": "2022-09-18T11:02:52.968Z"
   },
   {
    "duration": 18,
    "start_time": "2022-09-18T11:02:53.126Z"
   },
   {
    "duration": 300,
    "start_time": "2022-09-18T11:02:53.146Z"
   },
   {
    "duration": 181,
    "start_time": "2022-09-18T11:02:53.448Z"
   },
   {
    "duration": 145,
    "start_time": "2022-09-18T11:02:53.631Z"
   },
   {
    "duration": 175,
    "start_time": "2022-09-18T11:02:53.777Z"
   },
   {
    "duration": 128,
    "start_time": "2022-09-18T11:40:35.244Z"
   },
   {
    "duration": 36,
    "start_time": "2022-09-18T11:45:23.573Z"
   },
   {
    "duration": 9,
    "start_time": "2022-09-18T11:51:51.250Z"
   },
   {
    "duration": 3558,
    "start_time": "2022-09-18T17:57:35.145Z"
   },
   {
    "duration": 12,
    "start_time": "2022-09-18T17:57:38.705Z"
   },
   {
    "duration": 31,
    "start_time": "2022-09-18T17:57:38.718Z"
   },
   {
    "duration": 38,
    "start_time": "2022-09-18T17:57:38.751Z"
   },
   {
    "duration": 33,
    "start_time": "2022-09-18T17:57:38.792Z"
   },
   {
    "duration": 14,
    "start_time": "2022-09-18T17:57:38.830Z"
   },
   {
    "duration": 19,
    "start_time": "2022-09-18T17:57:38.845Z"
   },
   {
    "duration": 35,
    "start_time": "2022-09-18T17:57:38.866Z"
   },
   {
    "duration": 54,
    "start_time": "2022-09-18T17:57:38.903Z"
   },
   {
    "duration": 68,
    "start_time": "2022-09-18T17:57:38.959Z"
   },
   {
    "duration": 13,
    "start_time": "2022-09-18T17:57:39.028Z"
   },
   {
    "duration": 50,
    "start_time": "2022-09-18T17:57:39.043Z"
   },
   {
    "duration": 10,
    "start_time": "2022-09-18T17:57:39.096Z"
   },
   {
    "duration": 59,
    "start_time": "2022-09-18T17:57:39.111Z"
   },
   {
    "duration": 45,
    "start_time": "2022-09-18T17:57:39.172Z"
   },
   {
    "duration": 16,
    "start_time": "2022-09-18T17:57:39.219Z"
   },
   {
    "duration": 45,
    "start_time": "2022-09-18T17:57:39.236Z"
   },
   {
    "duration": 10,
    "start_time": "2022-09-18T17:57:39.283Z"
   },
   {
    "duration": 43,
    "start_time": "2022-09-18T17:57:39.296Z"
   },
   {
    "duration": 5335,
    "start_time": "2022-09-18T17:57:39.347Z"
   },
   {
    "duration": 11,
    "start_time": "2022-09-18T17:57:44.683Z"
   },
   {
    "duration": 35,
    "start_time": "2022-09-18T17:57:44.696Z"
   },
   {
    "duration": 152,
    "start_time": "2022-09-18T17:57:44.732Z"
   },
   {
    "duration": 11,
    "start_time": "2022-09-18T17:57:44.886Z"
   },
   {
    "duration": 164,
    "start_time": "2022-09-18T17:57:44.898Z"
   },
   {
    "duration": 10,
    "start_time": "2022-09-18T17:57:45.064Z"
   },
   {
    "duration": 173,
    "start_time": "2022-09-18T17:57:45.075Z"
   },
   {
    "duration": 10,
    "start_time": "2022-09-18T17:57:45.250Z"
   },
   {
    "duration": 92,
    "start_time": "2022-09-18T17:57:45.262Z"
   },
   {
    "duration": 7,
    "start_time": "2022-09-18T17:57:45.356Z"
   },
   {
    "duration": 13,
    "start_time": "2022-09-18T17:57:45.365Z"
   },
   {
    "duration": 171,
    "start_time": "2022-09-18T17:57:45.380Z"
   },
   {
    "duration": 10,
    "start_time": "2022-09-18T17:57:45.553Z"
   },
   {
    "duration": 122,
    "start_time": "2022-09-18T17:57:45.564Z"
   },
   {
    "duration": 7,
    "start_time": "2022-09-18T17:57:45.688Z"
   },
   {
    "duration": 32,
    "start_time": "2022-09-18T17:57:45.697Z"
   },
   {
    "duration": 37,
    "start_time": "2022-09-18T17:57:45.739Z"
   },
   {
    "duration": 9,
    "start_time": "2022-09-18T17:57:45.777Z"
   },
   {
    "duration": 13,
    "start_time": "2022-09-18T17:57:45.788Z"
   },
   {
    "duration": 82,
    "start_time": "2022-09-18T17:57:45.802Z"
   },
   {
    "duration": 312,
    "start_time": "2022-09-18T17:57:45.888Z"
   },
   {
    "duration": 43,
    "start_time": "2022-09-18T17:57:46.201Z"
   },
   {
    "duration": 260,
    "start_time": "2022-09-18T17:57:46.246Z"
   },
   {
    "duration": 27,
    "start_time": "2022-09-18T17:57:46.508Z"
   },
   {
    "duration": 266,
    "start_time": "2022-09-18T17:57:46.540Z"
   },
   {
    "duration": 28,
    "start_time": "2022-09-18T17:57:46.808Z"
   },
   {
    "duration": 233,
    "start_time": "2022-09-18T17:57:46.840Z"
   },
   {
    "duration": 184,
    "start_time": "2022-09-18T17:57:47.075Z"
   },
   {
    "duration": 152,
    "start_time": "2022-09-18T17:57:47.261Z"
   },
   {
    "duration": 189,
    "start_time": "2022-09-18T17:57:47.414Z"
   },
   {
    "duration": 11,
    "start_time": "2022-09-18T18:03:39.245Z"
   },
   {
    "duration": 10,
    "start_time": "2022-09-18T18:06:24.398Z"
   },
   {
    "duration": 177,
    "start_time": "2022-09-18T18:10:55.568Z"
   },
   {
    "duration": 175,
    "start_time": "2022-09-18T18:11:19.560Z"
   },
   {
    "duration": 193,
    "start_time": "2022-09-18T18:12:38.864Z"
   },
   {
    "duration": 173,
    "start_time": "2022-09-18T18:14:07.072Z"
   },
   {
    "duration": 397,
    "start_time": "2022-09-18T18:14:36.981Z"
   },
   {
    "duration": 302,
    "start_time": "2022-09-18T18:18:35.952Z"
   },
   {
    "duration": 339,
    "start_time": "2022-09-18T18:19:00.865Z"
   },
   {
    "duration": 134,
    "start_time": "2022-09-18T18:23:20.137Z"
   },
   {
    "duration": 165,
    "start_time": "2022-09-18T18:27:30.308Z"
   },
   {
    "duration": 178,
    "start_time": "2022-09-18T18:27:49.634Z"
   },
   {
    "duration": 81,
    "start_time": "2022-09-18T18:30:52.240Z"
   },
   {
    "duration": 94,
    "start_time": "2022-09-18T18:30:57.047Z"
   },
   {
    "duration": 178,
    "start_time": "2022-09-18T18:31:07.992Z"
   },
   {
    "duration": 230,
    "start_time": "2022-09-18T18:32:31.118Z"
   },
   {
    "duration": 188,
    "start_time": "2022-09-18T18:35:15.115Z"
   },
   {
    "duration": 346,
    "start_time": "2022-09-18T18:41:02.538Z"
   },
   {
    "duration": 3085,
    "start_time": "2022-09-19T07:58:50.456Z"
   },
   {
    "duration": 10,
    "start_time": "2022-09-19T07:58:53.543Z"
   },
   {
    "duration": 13,
    "start_time": "2022-09-19T07:58:53.555Z"
   },
   {
    "duration": 45,
    "start_time": "2022-09-19T07:58:53.570Z"
   },
   {
    "duration": 19,
    "start_time": "2022-09-19T07:58:53.617Z"
   },
   {
    "duration": 12,
    "start_time": "2022-09-19T07:58:53.637Z"
   },
   {
    "duration": 21,
    "start_time": "2022-09-19T07:58:53.650Z"
   },
   {
    "duration": 33,
    "start_time": "2022-09-19T07:58:53.673Z"
   },
   {
    "duration": 65,
    "start_time": "2022-09-19T07:58:53.708Z"
   },
   {
    "duration": 38,
    "start_time": "2022-09-19T07:58:53.776Z"
   },
   {
    "duration": 18,
    "start_time": "2022-09-19T07:58:53.815Z"
   },
   {
    "duration": 55,
    "start_time": "2022-09-19T07:58:53.835Z"
   },
   {
    "duration": 28,
    "start_time": "2022-09-19T07:58:53.892Z"
   },
   {
    "duration": 26,
    "start_time": "2022-09-19T07:58:53.922Z"
   },
   {
    "duration": 48,
    "start_time": "2022-09-19T07:58:53.950Z"
   },
   {
    "duration": 7,
    "start_time": "2022-09-19T07:58:54.000Z"
   },
   {
    "duration": 16,
    "start_time": "2022-09-19T07:58:54.009Z"
   },
   {
    "duration": 21,
    "start_time": "2022-09-19T07:58:54.026Z"
   },
   {
    "duration": 46,
    "start_time": "2022-09-19T07:58:54.049Z"
   },
   {
    "duration": 4501,
    "start_time": "2022-09-19T07:58:54.096Z"
   },
   {
    "duration": 18,
    "start_time": "2022-09-19T07:58:58.598Z"
   },
   {
    "duration": 13,
    "start_time": "2022-09-19T07:58:58.617Z"
   },
   {
    "duration": 142,
    "start_time": "2022-09-19T07:58:58.632Z"
   },
   {
    "duration": 12,
    "start_time": "2022-09-19T07:58:58.776Z"
   },
   {
    "duration": 213,
    "start_time": "2022-09-19T07:58:58.789Z"
   },
   {
    "duration": 13,
    "start_time": "2022-09-19T07:58:59.009Z"
   },
   {
    "duration": 136,
    "start_time": "2022-09-19T07:58:59.023Z"
   },
   {
    "duration": 10,
    "start_time": "2022-09-19T07:58:59.162Z"
   },
   {
    "duration": 85,
    "start_time": "2022-09-19T07:58:59.174Z"
   },
   {
    "duration": 7,
    "start_time": "2022-09-19T07:58:59.261Z"
   },
   {
    "duration": 11,
    "start_time": "2022-09-19T07:58:59.269Z"
   },
   {
    "duration": 152,
    "start_time": "2022-09-19T07:58:59.282Z"
   },
   {
    "duration": 9,
    "start_time": "2022-09-19T07:58:59.436Z"
   },
   {
    "duration": 116,
    "start_time": "2022-09-19T07:58:59.447Z"
   },
   {
    "duration": 7,
    "start_time": "2022-09-19T07:58:59.565Z"
   },
   {
    "duration": 14,
    "start_time": "2022-09-19T07:58:59.574Z"
   },
   {
    "duration": 44,
    "start_time": "2022-09-19T07:58:59.590Z"
   },
   {
    "duration": 8,
    "start_time": "2022-09-19T07:58:59.636Z"
   },
   {
    "duration": 15,
    "start_time": "2022-09-19T07:58:59.646Z"
   },
   {
    "duration": 77,
    "start_time": "2022-09-19T07:58:59.663Z"
   },
   {
    "duration": 235,
    "start_time": "2022-09-19T07:58:59.742Z"
   },
   {
    "duration": 10,
    "start_time": "2022-09-19T07:58:59.979Z"
   },
   {
    "duration": 250,
    "start_time": "2022-09-19T07:58:59.991Z"
   },
   {
    "duration": 11,
    "start_time": "2022-09-19T07:59:00.243Z"
   },
   {
    "duration": 209,
    "start_time": "2022-09-19T07:59:00.256Z"
   },
   {
    "duration": 9,
    "start_time": "2022-09-19T07:59:00.467Z"
   },
   {
    "duration": 197,
    "start_time": "2022-09-19T07:59:00.478Z"
   },
   {
    "duration": 152,
    "start_time": "2022-09-19T07:59:00.677Z"
   },
   {
    "duration": 158,
    "start_time": "2022-09-19T07:59:00.832Z"
   },
   {
    "duration": 163,
    "start_time": "2022-09-19T07:59:00.992Z"
   },
   {
    "duration": 229,
    "start_time": "2022-09-19T07:59:01.156Z"
   },
   {
    "duration": 233,
    "start_time": "2022-09-19T07:59:01.387Z"
   },
   {
    "duration": 148,
    "start_time": "2022-09-19T07:59:01.622Z"
   },
   {
    "duration": 61,
    "start_time": "2022-09-19T07:59:01.772Z"
   },
   {
    "duration": 0,
    "start_time": "2022-09-19T07:59:01.835Z"
   },
   {
    "duration": 0,
    "start_time": "2022-09-19T07:59:01.836Z"
   },
   {
    "duration": 0,
    "start_time": "2022-09-19T07:59:01.837Z"
   },
   {
    "duration": 0,
    "start_time": "2022-09-19T07:59:01.838Z"
   },
   {
    "duration": 0,
    "start_time": "2022-09-19T07:59:01.839Z"
   },
   {
    "duration": 114,
    "start_time": "2022-09-19T07:59:13.233Z"
   },
   {
    "duration": 197,
    "start_time": "2022-09-19T07:59:30.913Z"
   },
   {
    "duration": 166,
    "start_time": "2022-09-19T07:59:34.103Z"
   },
   {
    "duration": 127,
    "start_time": "2022-09-19T07:59:37.518Z"
   },
   {
    "duration": 184,
    "start_time": "2022-09-19T07:59:40.719Z"
   },
   {
    "duration": 145,
    "start_time": "2022-09-19T07:59:47.321Z"
   },
   {
    "duration": 170,
    "start_time": "2022-09-19T08:00:36.187Z"
   },
   {
    "duration": 180,
    "start_time": "2022-09-19T08:02:22.395Z"
   },
   {
    "duration": 181,
    "start_time": "2022-09-19T08:04:08.104Z"
   },
   {
    "duration": 204,
    "start_time": "2022-09-19T08:04:32.463Z"
   },
   {
    "duration": 156,
    "start_time": "2022-09-19T08:07:27.031Z"
   },
   {
    "duration": 209,
    "start_time": "2022-09-19T08:08:15.130Z"
   },
   {
    "duration": 218,
    "start_time": "2022-09-19T08:08:23.194Z"
   },
   {
    "duration": 161,
    "start_time": "2022-09-19T08:10:12.596Z"
   },
   {
    "duration": 134,
    "start_time": "2022-09-19T08:10:26.691Z"
   },
   {
    "duration": 6,
    "start_time": "2022-09-19T08:17:58.717Z"
   },
   {
    "duration": 6,
    "start_time": "2022-09-19T08:18:13.791Z"
   },
   {
    "duration": 214,
    "start_time": "2022-09-19T08:20:03.091Z"
   },
   {
    "duration": 233,
    "start_time": "2022-09-19T08:21:15.980Z"
   },
   {
    "duration": 115,
    "start_time": "2022-09-19T08:23:03.534Z"
   },
   {
    "duration": 307,
    "start_time": "2022-09-19T08:24:10.259Z"
   },
   {
    "duration": 234,
    "start_time": "2022-09-19T08:26:13.952Z"
   },
   {
    "duration": 261,
    "start_time": "2022-09-19T08:26:21.032Z"
   },
   {
    "duration": 21,
    "start_time": "2022-09-19T08:28:39.198Z"
   },
   {
    "duration": 167,
    "start_time": "2022-09-19T08:35:53.039Z"
   },
   {
    "duration": 142,
    "start_time": "2022-09-19T08:37:06.484Z"
   },
   {
    "duration": 240,
    "start_time": "2022-09-19T08:39:11.793Z"
   },
   {
    "duration": 2624,
    "start_time": "2022-09-19T08:39:17.629Z"
   },
   {
    "duration": 9,
    "start_time": "2022-09-19T08:39:20.255Z"
   },
   {
    "duration": 19,
    "start_time": "2022-09-19T08:39:20.265Z"
   },
   {
    "duration": 38,
    "start_time": "2022-09-19T08:39:20.286Z"
   },
   {
    "duration": 16,
    "start_time": "2022-09-19T08:39:20.326Z"
   },
   {
    "duration": 10,
    "start_time": "2022-09-19T08:39:20.343Z"
   },
   {
    "duration": 5,
    "start_time": "2022-09-19T08:39:20.354Z"
   },
   {
    "duration": 10,
    "start_time": "2022-09-19T08:39:20.361Z"
   },
   {
    "duration": 35,
    "start_time": "2022-09-19T08:39:20.412Z"
   },
   {
    "duration": 35,
    "start_time": "2022-09-19T08:39:20.450Z"
   },
   {
    "duration": 32,
    "start_time": "2022-09-19T08:39:20.487Z"
   },
   {
    "duration": 27,
    "start_time": "2022-09-19T08:39:20.525Z"
   },
   {
    "duration": 8,
    "start_time": "2022-09-19T08:39:20.554Z"
   },
   {
    "duration": 17,
    "start_time": "2022-09-19T08:39:20.564Z"
   },
   {
    "duration": 50,
    "start_time": "2022-09-19T08:39:20.583Z"
   },
   {
    "duration": 7,
    "start_time": "2022-09-19T08:39:20.635Z"
   },
   {
    "duration": 6,
    "start_time": "2022-09-19T08:39:20.644Z"
   },
   {
    "duration": 10,
    "start_time": "2022-09-19T08:39:20.652Z"
   },
   {
    "duration": 61,
    "start_time": "2022-09-19T08:39:20.663Z"
   },
   {
    "duration": 4751,
    "start_time": "2022-09-19T08:39:20.728Z"
   },
   {
    "duration": 9,
    "start_time": "2022-09-19T08:39:25.481Z"
   },
   {
    "duration": 40,
    "start_time": "2022-09-19T08:39:25.491Z"
   },
   {
    "duration": 121,
    "start_time": "2022-09-19T08:39:25.534Z"
   },
   {
    "duration": 9,
    "start_time": "2022-09-19T08:39:25.657Z"
   },
   {
    "duration": 155,
    "start_time": "2022-09-19T08:39:25.668Z"
   },
   {
    "duration": 10,
    "start_time": "2022-09-19T08:39:25.825Z"
   },
   {
    "duration": 149,
    "start_time": "2022-09-19T08:39:25.836Z"
   },
   {
    "duration": 31,
    "start_time": "2022-09-19T08:39:25.994Z"
   },
   {
    "duration": 58,
    "start_time": "2022-09-19T08:39:26.027Z"
   },
   {
    "duration": 6,
    "start_time": "2022-09-19T08:39:26.087Z"
   },
   {
    "duration": 25,
    "start_time": "2022-09-19T08:39:26.094Z"
   },
   {
    "duration": 124,
    "start_time": "2022-09-19T08:39:26.123Z"
   },
   {
    "duration": 10,
    "start_time": "2022-09-19T08:39:26.249Z"
   },
   {
    "duration": 111,
    "start_time": "2022-09-19T08:39:26.261Z"
   },
   {
    "duration": 7,
    "start_time": "2022-09-19T08:39:26.374Z"
   },
   {
    "duration": 12,
    "start_time": "2022-09-19T08:39:26.383Z"
   },
   {
    "duration": 46,
    "start_time": "2022-09-19T08:39:26.396Z"
   },
   {
    "duration": 8,
    "start_time": "2022-09-19T08:39:26.444Z"
   },
   {
    "duration": 18,
    "start_time": "2022-09-19T08:39:26.453Z"
   },
   {
    "duration": 77,
    "start_time": "2022-09-19T08:39:26.473Z"
   },
   {
    "duration": 228,
    "start_time": "2022-09-19T08:39:26.552Z"
   },
   {
    "duration": 8,
    "start_time": "2022-09-19T08:39:26.782Z"
   },
   {
    "duration": 244,
    "start_time": "2022-09-19T08:39:26.791Z"
   },
   {
    "duration": 10,
    "start_time": "2022-09-19T08:39:27.037Z"
   },
   {
    "duration": 150,
    "start_time": "2022-09-19T08:39:27.049Z"
   },
   {
    "duration": 20,
    "start_time": "2022-09-19T08:39:27.201Z"
   },
   {
    "duration": 233,
    "start_time": "2022-09-19T08:39:27.225Z"
   },
   {
    "duration": 143,
    "start_time": "2022-09-19T08:39:27.459Z"
   },
   {
    "duration": 121,
    "start_time": "2022-09-19T08:39:27.616Z"
   },
   {
    "duration": 144,
    "start_time": "2022-09-19T08:39:27.739Z"
   },
   {
    "duration": 242,
    "start_time": "2022-09-19T08:39:27.885Z"
   },
   {
    "duration": 226,
    "start_time": "2022-09-19T08:39:28.129Z"
   },
   {
    "duration": 132,
    "start_time": "2022-09-19T08:39:28.357Z"
   },
   {
    "duration": 136,
    "start_time": "2022-09-19T08:39:28.491Z"
   },
   {
    "duration": 152,
    "start_time": "2022-09-19T08:39:28.629Z"
   },
   {
    "duration": 216,
    "start_time": "2022-09-19T08:39:28.783Z"
   },
   {
    "duration": 199,
    "start_time": "2022-09-19T08:39:29.000Z"
   },
   {
    "duration": 166,
    "start_time": "2022-09-19T08:39:29.201Z"
   },
   {
    "duration": 192,
    "start_time": "2022-09-19T08:39:29.368Z"
   },
   {
    "duration": 170,
    "start_time": "2022-09-19T08:39:29.562Z"
   },
   {
    "duration": 152,
    "start_time": "2022-09-19T08:39:29.734Z"
   },
   {
    "duration": 236,
    "start_time": "2022-09-19T08:39:29.887Z"
   },
   {
    "duration": 120,
    "start_time": "2022-09-19T08:39:30.125Z"
   },
   {
    "duration": 6,
    "start_time": "2022-09-19T08:39:30.247Z"
   },
   {
    "duration": 155,
    "start_time": "2022-09-19T08:39:30.254Z"
   },
   {
    "duration": 319,
    "start_time": "2022-09-19T08:39:30.411Z"
   },
   {
    "duration": 120,
    "start_time": "2022-09-19T08:39:30.732Z"
   },
   {
    "duration": 244,
    "start_time": "2022-09-19T08:39:30.854Z"
   },
   {
    "duration": 280,
    "start_time": "2022-09-19T08:39:31.100Z"
   },
   {
    "duration": 16,
    "start_time": "2022-09-19T08:39:31.381Z"
   },
   {
    "duration": 198,
    "start_time": "2022-09-19T08:44:49.625Z"
   },
   {
    "duration": 2747,
    "start_time": "2022-09-19T08:45:01.022Z"
   },
   {
    "duration": 9,
    "start_time": "2022-09-19T08:45:03.770Z"
   },
   {
    "duration": 20,
    "start_time": "2022-09-19T08:45:03.781Z"
   },
   {
    "duration": 43,
    "start_time": "2022-09-19T08:45:03.804Z"
   },
   {
    "duration": 17,
    "start_time": "2022-09-19T08:45:03.849Z"
   },
   {
    "duration": 11,
    "start_time": "2022-09-19T08:45:03.868Z"
   },
   {
    "duration": 16,
    "start_time": "2022-09-19T08:45:03.881Z"
   },
   {
    "duration": 33,
    "start_time": "2022-09-19T08:45:03.911Z"
   },
   {
    "duration": 38,
    "start_time": "2022-09-19T08:45:03.946Z"
   },
   {
    "duration": 45,
    "start_time": "2022-09-19T08:45:03.987Z"
   },
   {
    "duration": 4,
    "start_time": "2022-09-19T08:45:04.034Z"
   },
   {
    "duration": 42,
    "start_time": "2022-09-19T08:45:04.039Z"
   },
   {
    "duration": 9,
    "start_time": "2022-09-19T08:45:04.082Z"
   },
   {
    "duration": 29,
    "start_time": "2022-09-19T08:45:04.093Z"
   },
   {
    "duration": 40,
    "start_time": "2022-09-19T08:45:04.125Z"
   },
   {
    "duration": 8,
    "start_time": "2022-09-19T08:45:04.167Z"
   },
   {
    "duration": 21,
    "start_time": "2022-09-19T08:45:04.176Z"
   },
   {
    "duration": 32,
    "start_time": "2022-09-19T08:45:04.200Z"
   },
   {
    "duration": 63,
    "start_time": "2022-09-19T08:45:04.234Z"
   },
   {
    "duration": 4671,
    "start_time": "2022-09-19T08:45:04.300Z"
   },
   {
    "duration": 10,
    "start_time": "2022-09-19T08:45:08.974Z"
   },
   {
    "duration": 39,
    "start_time": "2022-09-19T08:45:08.985Z"
   },
   {
    "duration": 118,
    "start_time": "2022-09-19T08:45:09.026Z"
   },
   {
    "duration": 10,
    "start_time": "2022-09-19T08:45:09.146Z"
   },
   {
    "duration": 136,
    "start_time": "2022-09-19T08:45:09.158Z"
   },
   {
    "duration": 16,
    "start_time": "2022-09-19T08:45:09.296Z"
   },
   {
    "duration": 129,
    "start_time": "2022-09-19T08:45:09.321Z"
   },
   {
    "duration": 10,
    "start_time": "2022-09-19T08:45:09.453Z"
   },
   {
    "duration": 100,
    "start_time": "2022-09-19T08:45:09.465Z"
   },
   {
    "duration": 6,
    "start_time": "2022-09-19T08:45:09.567Z"
   },
   {
    "duration": 10,
    "start_time": "2022-09-19T08:45:09.574Z"
   },
   {
    "duration": 151,
    "start_time": "2022-09-19T08:45:09.586Z"
   },
   {
    "duration": 9,
    "start_time": "2022-09-19T08:45:09.739Z"
   },
   {
    "duration": 108,
    "start_time": "2022-09-19T08:45:09.750Z"
   },
   {
    "duration": 6,
    "start_time": "2022-09-19T08:45:09.859Z"
   },
   {
    "duration": 11,
    "start_time": "2022-09-19T08:45:09.866Z"
   },
   {
    "duration": 60,
    "start_time": "2022-09-19T08:45:09.878Z"
   },
   {
    "duration": 8,
    "start_time": "2022-09-19T08:45:09.940Z"
   },
   {
    "duration": 15,
    "start_time": "2022-09-19T08:45:09.949Z"
   },
   {
    "duration": 83,
    "start_time": "2022-09-19T08:45:09.965Z"
   },
   {
    "duration": 228,
    "start_time": "2022-09-19T08:45:10.050Z"
   },
   {
    "duration": 9,
    "start_time": "2022-09-19T08:45:10.280Z"
   },
   {
    "duration": 234,
    "start_time": "2022-09-19T08:45:10.290Z"
   },
   {
    "duration": 18,
    "start_time": "2022-09-19T08:45:10.526Z"
   },
   {
    "duration": 147,
    "start_time": "2022-09-19T08:45:10.546Z"
   },
   {
    "duration": 26,
    "start_time": "2022-09-19T08:45:10.694Z"
   },
   {
    "duration": 256,
    "start_time": "2022-09-19T08:45:10.722Z"
   },
   {
    "duration": 166,
    "start_time": "2022-09-19T08:45:10.980Z"
   },
   {
    "duration": 128,
    "start_time": "2022-09-19T08:45:11.147Z"
   },
   {
    "duration": 162,
    "start_time": "2022-09-19T08:45:11.276Z"
   },
   {
    "duration": 287,
    "start_time": "2022-09-19T08:45:11.439Z"
   },
   {
    "duration": 234,
    "start_time": "2022-09-19T08:45:11.728Z"
   },
   {
    "duration": 151,
    "start_time": "2022-09-19T08:45:11.964Z"
   },
   {
    "duration": 133,
    "start_time": "2022-09-19T08:45:12.125Z"
   },
   {
    "duration": 164,
    "start_time": "2022-09-19T08:45:12.260Z"
   },
   {
    "duration": 240,
    "start_time": "2022-09-19T08:45:12.426Z"
   },
   {
    "duration": 258,
    "start_time": "2022-09-19T08:45:12.668Z"
   },
   {
    "duration": 198,
    "start_time": "2022-09-19T08:45:12.928Z"
   },
   {
    "duration": 197,
    "start_time": "2022-09-19T08:45:13.128Z"
   },
   {
    "duration": 174,
    "start_time": "2022-09-19T08:45:13.327Z"
   },
   {
    "duration": 138,
    "start_time": "2022-09-19T08:45:13.503Z"
   },
   {
    "duration": 269,
    "start_time": "2022-09-19T08:45:13.643Z"
   },
   {
    "duration": 133,
    "start_time": "2022-09-19T08:45:13.914Z"
   },
   {
    "duration": 7,
    "start_time": "2022-09-19T08:45:14.048Z"
   },
   {
    "duration": 168,
    "start_time": "2022-09-19T08:45:14.056Z"
   },
   {
    "duration": 323,
    "start_time": "2022-09-19T08:45:14.225Z"
   },
   {
    "duration": 144,
    "start_time": "2022-09-19T08:45:14.549Z"
   },
   {
    "duration": 245,
    "start_time": "2022-09-19T08:45:14.695Z"
   },
   {
    "duration": 251,
    "start_time": "2022-09-19T08:45:14.941Z"
   },
   {
    "duration": 31,
    "start_time": "2022-09-19T08:45:15.194Z"
   },
   {
    "duration": 203,
    "start_time": "2022-09-19T08:45:53.354Z"
   },
   {
    "duration": 159,
    "start_time": "2022-09-19T08:46:38.291Z"
   },
   {
    "duration": 2558,
    "start_time": "2022-09-19T08:46:46.643Z"
   },
   {
    "duration": 9,
    "start_time": "2022-09-19T08:46:49.204Z"
   },
   {
    "duration": 31,
    "start_time": "2022-09-19T08:46:49.214Z"
   },
   {
    "duration": 35,
    "start_time": "2022-09-19T08:46:49.247Z"
   },
   {
    "duration": 34,
    "start_time": "2022-09-19T08:46:49.284Z"
   },
   {
    "duration": 13,
    "start_time": "2022-09-19T08:46:49.324Z"
   },
   {
    "duration": 5,
    "start_time": "2022-09-19T08:46:49.338Z"
   },
   {
    "duration": 13,
    "start_time": "2022-09-19T08:46:49.345Z"
   },
   {
    "duration": 34,
    "start_time": "2022-09-19T08:46:49.359Z"
   },
   {
    "duration": 54,
    "start_time": "2022-09-19T08:46:49.395Z"
   },
   {
    "duration": 5,
    "start_time": "2022-09-19T08:46:49.451Z"
   },
   {
    "duration": 25,
    "start_time": "2022-09-19T08:46:49.458Z"
   },
   {
    "duration": 35,
    "start_time": "2022-09-19T08:46:49.484Z"
   },
   {
    "duration": 16,
    "start_time": "2022-09-19T08:46:49.520Z"
   },
   {
    "duration": 33,
    "start_time": "2022-09-19T08:46:49.538Z"
   },
   {
    "duration": 6,
    "start_time": "2022-09-19T08:46:49.573Z"
   },
   {
    "duration": 5,
    "start_time": "2022-09-19T08:46:49.581Z"
   },
   {
    "duration": 28,
    "start_time": "2022-09-19T08:46:49.587Z"
   },
   {
    "duration": 30,
    "start_time": "2022-09-19T08:46:49.616Z"
   },
   {
    "duration": 4672,
    "start_time": "2022-09-19T08:46:49.648Z"
   },
   {
    "duration": 11,
    "start_time": "2022-09-19T08:46:54.322Z"
   },
   {
    "duration": 13,
    "start_time": "2022-09-19T08:46:54.334Z"
   },
   {
    "duration": 149,
    "start_time": "2022-09-19T08:46:54.350Z"
   },
   {
    "duration": 24,
    "start_time": "2022-09-19T08:46:54.501Z"
   },
   {
    "duration": 118,
    "start_time": "2022-09-19T08:46:54.527Z"
   },
   {
    "duration": 9,
    "start_time": "2022-09-19T08:46:54.646Z"
   },
   {
    "duration": 136,
    "start_time": "2022-09-19T08:46:54.657Z"
   },
   {
    "duration": 26,
    "start_time": "2022-09-19T08:46:54.797Z"
   },
   {
    "duration": 64,
    "start_time": "2022-09-19T08:46:54.825Z"
   },
   {
    "duration": 32,
    "start_time": "2022-09-19T08:46:54.890Z"
   },
   {
    "duration": 16,
    "start_time": "2022-09-19T08:46:54.923Z"
   },
   {
    "duration": 143,
    "start_time": "2022-09-19T08:46:54.941Z"
   },
   {
    "duration": 12,
    "start_time": "2022-09-19T08:46:55.087Z"
   },
   {
    "duration": 89,
    "start_time": "2022-09-19T08:46:55.111Z"
   },
   {
    "duration": 13,
    "start_time": "2022-09-19T08:46:55.202Z"
   },
   {
    "duration": 12,
    "start_time": "2022-09-19T08:46:55.219Z"
   },
   {
    "duration": 32,
    "start_time": "2022-09-19T08:46:55.232Z"
   },
   {
    "duration": 8,
    "start_time": "2022-09-19T08:46:55.265Z"
   },
   {
    "duration": 62,
    "start_time": "2022-09-19T08:46:55.274Z"
   },
   {
    "duration": 57,
    "start_time": "2022-09-19T08:46:55.339Z"
   },
   {
    "duration": 232,
    "start_time": "2022-09-19T08:46:55.397Z"
   },
   {
    "duration": 8,
    "start_time": "2022-09-19T08:46:55.631Z"
   },
   {
    "duration": 222,
    "start_time": "2022-09-19T08:46:55.640Z"
   },
   {
    "duration": 11,
    "start_time": "2022-09-19T08:46:55.863Z"
   },
   {
    "duration": 152,
    "start_time": "2022-09-19T08:46:55.875Z"
   },
   {
    "duration": 9,
    "start_time": "2022-09-19T08:46:56.029Z"
   },
   {
    "duration": 246,
    "start_time": "2022-09-19T08:46:56.039Z"
   },
   {
    "duration": 144,
    "start_time": "2022-09-19T08:46:56.286Z"
   },
   {
    "duration": 131,
    "start_time": "2022-09-19T08:46:56.431Z"
   },
   {
    "duration": 165,
    "start_time": "2022-09-19T08:46:56.564Z"
   },
   {
    "duration": 229,
    "start_time": "2022-09-19T08:46:56.731Z"
   },
   {
    "duration": 231,
    "start_time": "2022-09-19T08:46:56.961Z"
   },
   {
    "duration": 144,
    "start_time": "2022-09-19T08:46:57.194Z"
   },
   {
    "duration": 122,
    "start_time": "2022-09-19T08:46:57.340Z"
   },
   {
    "duration": 166,
    "start_time": "2022-09-19T08:46:57.464Z"
   },
   {
    "duration": 222,
    "start_time": "2022-09-19T08:46:57.632Z"
   },
   {
    "duration": 195,
    "start_time": "2022-09-19T08:46:57.856Z"
   },
   {
    "duration": 181,
    "start_time": "2022-09-19T08:46:58.053Z"
   },
   {
    "duration": 193,
    "start_time": "2022-09-19T08:46:58.236Z"
   },
   {
    "duration": 176,
    "start_time": "2022-09-19T08:46:58.431Z"
   },
   {
    "duration": 154,
    "start_time": "2022-09-19T08:46:58.608Z"
   },
   {
    "duration": 264,
    "start_time": "2022-09-19T08:46:58.763Z"
   },
   {
    "duration": 152,
    "start_time": "2022-09-19T08:46:59.029Z"
   },
   {
    "duration": 7,
    "start_time": "2022-09-19T08:46:59.182Z"
   },
   {
    "duration": 238,
    "start_time": "2022-09-19T08:46:59.192Z"
   },
   {
    "duration": 239,
    "start_time": "2022-09-19T08:46:59.432Z"
   },
   {
    "duration": 120,
    "start_time": "2022-09-19T08:46:59.672Z"
   },
   {
    "duration": 241,
    "start_time": "2022-09-19T08:46:59.793Z"
   },
   {
    "duration": 248,
    "start_time": "2022-09-19T08:47:00.036Z"
   },
   {
    "duration": 38,
    "start_time": "2022-09-19T08:47:00.285Z"
   },
   {
    "duration": 275,
    "start_time": "2022-09-19T08:48:15.283Z"
   },
   {
    "duration": 2595,
    "start_time": "2022-09-19T08:48:23.298Z"
   },
   {
    "duration": 23,
    "start_time": "2022-09-19T08:48:25.896Z"
   },
   {
    "duration": 13,
    "start_time": "2022-09-19T08:48:25.922Z"
   },
   {
    "duration": 34,
    "start_time": "2022-09-19T08:48:25.937Z"
   },
   {
    "duration": 16,
    "start_time": "2022-09-19T08:48:25.974Z"
   },
   {
    "duration": 27,
    "start_time": "2022-09-19T08:48:25.991Z"
   },
   {
    "duration": 6,
    "start_time": "2022-09-19T08:48:26.025Z"
   },
   {
    "duration": 10,
    "start_time": "2022-09-19T08:48:26.032Z"
   },
   {
    "duration": 34,
    "start_time": "2022-09-19T08:48:26.043Z"
   },
   {
    "duration": 71,
    "start_time": "2022-09-19T08:48:26.079Z"
   },
   {
    "duration": 4,
    "start_time": "2022-09-19T08:48:26.152Z"
   },
   {
    "duration": 27,
    "start_time": "2022-09-19T08:48:26.158Z"
   },
   {
    "duration": 7,
    "start_time": "2022-09-19T08:48:26.187Z"
   },
   {
    "duration": 18,
    "start_time": "2022-09-19T08:48:26.211Z"
   },
   {
    "duration": 33,
    "start_time": "2022-09-19T08:48:26.231Z"
   },
   {
    "duration": 7,
    "start_time": "2022-09-19T08:48:26.266Z"
   },
   {
    "duration": 7,
    "start_time": "2022-09-19T08:48:26.274Z"
   },
   {
    "duration": 43,
    "start_time": "2022-09-19T08:48:26.283Z"
   },
   {
    "duration": 30,
    "start_time": "2022-09-19T08:48:26.328Z"
   },
   {
    "duration": 4446,
    "start_time": "2022-09-19T08:48:26.360Z"
   },
   {
    "duration": 15,
    "start_time": "2022-09-19T08:48:30.808Z"
   },
   {
    "duration": 36,
    "start_time": "2022-09-19T08:48:30.828Z"
   },
   {
    "duration": 118,
    "start_time": "2022-09-19T08:48:30.866Z"
   },
   {
    "duration": 9,
    "start_time": "2022-09-19T08:48:30.986Z"
   },
   {
    "duration": 141,
    "start_time": "2022-09-19T08:48:31.008Z"
   },
   {
    "duration": 9,
    "start_time": "2022-09-19T08:48:31.151Z"
   },
   {
    "duration": 162,
    "start_time": "2022-09-19T08:48:31.161Z"
   },
   {
    "duration": 11,
    "start_time": "2022-09-19T08:48:31.325Z"
   },
   {
    "duration": 102,
    "start_time": "2022-09-19T08:48:31.337Z"
   },
   {
    "duration": 6,
    "start_time": "2022-09-19T08:48:31.441Z"
   },
   {
    "duration": 41,
    "start_time": "2022-09-19T08:48:31.448Z"
   },
   {
    "duration": 139,
    "start_time": "2022-09-19T08:48:31.491Z"
   },
   {
    "duration": 10,
    "start_time": "2022-09-19T08:48:31.631Z"
   },
   {
    "duration": 115,
    "start_time": "2022-09-19T08:48:31.642Z"
   },
   {
    "duration": 6,
    "start_time": "2022-09-19T08:48:31.759Z"
   },
   {
    "duration": 13,
    "start_time": "2022-09-19T08:48:31.766Z"
   },
   {
    "duration": 49,
    "start_time": "2022-09-19T08:48:31.781Z"
   },
   {
    "duration": 9,
    "start_time": "2022-09-19T08:48:31.832Z"
   },
   {
    "duration": 25,
    "start_time": "2022-09-19T08:48:31.842Z"
   },
   {
    "duration": 66,
    "start_time": "2022-09-19T08:48:31.869Z"
   },
   {
    "duration": 231,
    "start_time": "2022-09-19T08:48:31.940Z"
   },
   {
    "duration": 10,
    "start_time": "2022-09-19T08:48:32.173Z"
   },
   {
    "duration": 238,
    "start_time": "2022-09-19T08:48:32.185Z"
   },
   {
    "duration": 10,
    "start_time": "2022-09-19T08:48:32.425Z"
   },
   {
    "duration": 160,
    "start_time": "2022-09-19T08:48:32.436Z"
   },
   {
    "duration": 21,
    "start_time": "2022-09-19T08:48:32.599Z"
   },
   {
    "duration": 278,
    "start_time": "2022-09-19T08:48:32.625Z"
   },
   {
    "duration": 156,
    "start_time": "2022-09-19T08:48:32.905Z"
   },
   {
    "duration": 127,
    "start_time": "2022-09-19T08:48:33.063Z"
   },
   {
    "duration": 162,
    "start_time": "2022-09-19T08:48:33.192Z"
   },
   {
    "duration": 241,
    "start_time": "2022-09-19T08:48:33.356Z"
   },
   {
    "duration": 239,
    "start_time": "2022-09-19T08:48:33.599Z"
   },
   {
    "duration": 135,
    "start_time": "2022-09-19T08:48:33.840Z"
   },
   {
    "duration": 127,
    "start_time": "2022-09-19T08:48:33.976Z"
   },
   {
    "duration": 162,
    "start_time": "2022-09-19T08:48:34.104Z"
   },
   {
    "duration": 229,
    "start_time": "2022-09-19T08:48:34.267Z"
   },
   {
    "duration": 195,
    "start_time": "2022-09-19T08:48:34.498Z"
   },
   {
    "duration": 178,
    "start_time": "2022-09-19T08:48:34.695Z"
   },
   {
    "duration": 209,
    "start_time": "2022-09-19T08:48:34.876Z"
   },
   {
    "duration": 210,
    "start_time": "2022-09-19T08:48:35.086Z"
   },
   {
    "duration": 155,
    "start_time": "2022-09-19T08:48:35.299Z"
   },
   {
    "duration": 223,
    "start_time": "2022-09-19T08:48:35.456Z"
   },
   {
    "duration": 144,
    "start_time": "2022-09-19T08:48:35.681Z"
   },
   {
    "duration": 6,
    "start_time": "2022-09-19T08:48:35.827Z"
   },
   {
    "duration": 147,
    "start_time": "2022-09-19T08:48:35.835Z"
   },
   {
    "duration": 324,
    "start_time": "2022-09-19T08:48:35.984Z"
   },
   {
    "duration": 119,
    "start_time": "2022-09-19T08:48:36.316Z"
   },
   {
    "duration": 240,
    "start_time": "2022-09-19T08:48:36.437Z"
   },
   {
    "duration": 257,
    "start_time": "2022-09-19T08:48:36.678Z"
   },
   {
    "duration": 18,
    "start_time": "2022-09-19T08:48:36.937Z"
   },
   {
    "duration": 2805,
    "start_time": "2022-09-19T09:53:31.184Z"
   },
   {
    "duration": 12,
    "start_time": "2022-09-19T09:53:33.991Z"
   },
   {
    "duration": 17,
    "start_time": "2022-09-19T09:53:34.005Z"
   },
   {
    "duration": 35,
    "start_time": "2022-09-19T09:53:34.025Z"
   },
   {
    "duration": 16,
    "start_time": "2022-09-19T09:53:34.062Z"
   },
   {
    "duration": 30,
    "start_time": "2022-09-19T09:53:34.080Z"
   },
   {
    "duration": 6,
    "start_time": "2022-09-19T09:53:34.112Z"
   },
   {
    "duration": 21,
    "start_time": "2022-09-19T09:53:34.120Z"
   },
   {
    "duration": 43,
    "start_time": "2022-09-19T09:53:34.143Z"
   },
   {
    "duration": 58,
    "start_time": "2022-09-19T09:53:34.208Z"
   },
   {
    "duration": 5,
    "start_time": "2022-09-19T09:53:34.268Z"
   },
   {
    "duration": 41,
    "start_time": "2022-09-19T09:53:34.274Z"
   },
   {
    "duration": 7,
    "start_time": "2022-09-19T09:53:34.317Z"
   },
   {
    "duration": 21,
    "start_time": "2022-09-19T09:53:34.326Z"
   },
   {
    "duration": 42,
    "start_time": "2022-09-19T09:53:34.348Z"
   },
   {
    "duration": 17,
    "start_time": "2022-09-19T09:53:34.392Z"
   },
   {
    "duration": 6,
    "start_time": "2022-09-19T09:53:34.410Z"
   },
   {
    "duration": 9,
    "start_time": "2022-09-19T09:53:34.417Z"
   },
   {
    "duration": 32,
    "start_time": "2022-09-19T09:53:34.428Z"
   },
   {
    "duration": 4461,
    "start_time": "2022-09-19T09:53:34.462Z"
   },
   {
    "duration": 9,
    "start_time": "2022-09-19T09:53:38.925Z"
   },
   {
    "duration": 12,
    "start_time": "2022-09-19T09:53:38.936Z"
   },
   {
    "duration": 126,
    "start_time": "2022-09-19T09:53:38.949Z"
   },
   {
    "duration": 10,
    "start_time": "2022-09-19T09:53:39.077Z"
   },
   {
    "duration": 128,
    "start_time": "2022-09-19T09:53:39.088Z"
   },
   {
    "duration": 9,
    "start_time": "2022-09-19T09:53:39.218Z"
   },
   {
    "duration": 135,
    "start_time": "2022-09-19T09:53:39.229Z"
   },
   {
    "duration": 11,
    "start_time": "2022-09-19T09:53:39.369Z"
   },
   {
    "duration": 107,
    "start_time": "2022-09-19T09:53:39.382Z"
   },
   {
    "duration": 19,
    "start_time": "2022-09-19T09:53:39.491Z"
   },
   {
    "duration": 13,
    "start_time": "2022-09-19T09:53:39.511Z"
   },
   {
    "duration": 139,
    "start_time": "2022-09-19T09:53:39.526Z"
   },
   {
    "duration": 11,
    "start_time": "2022-09-19T09:53:39.667Z"
   },
   {
    "duration": 109,
    "start_time": "2022-09-19T09:53:39.680Z"
   },
   {
    "duration": 18,
    "start_time": "2022-09-19T09:53:39.791Z"
   },
   {
    "duration": 10,
    "start_time": "2022-09-19T09:53:39.811Z"
   },
   {
    "duration": 35,
    "start_time": "2022-09-19T09:53:39.822Z"
   },
   {
    "duration": 9,
    "start_time": "2022-09-19T09:53:39.858Z"
   },
   {
    "duration": 16,
    "start_time": "2022-09-19T09:53:39.869Z"
   },
   {
    "duration": 64,
    "start_time": "2022-09-19T09:53:39.909Z"
   },
   {
    "duration": 244,
    "start_time": "2022-09-19T09:53:39.975Z"
   },
   {
    "duration": 10,
    "start_time": "2022-09-19T09:53:40.220Z"
   },
   {
    "duration": 214,
    "start_time": "2022-09-19T09:53:40.232Z"
   },
   {
    "duration": 9,
    "start_time": "2022-09-19T09:53:40.447Z"
   },
   {
    "duration": 151,
    "start_time": "2022-09-19T09:53:40.458Z"
   },
   {
    "duration": 9,
    "start_time": "2022-09-19T09:53:40.610Z"
   },
   {
    "duration": 245,
    "start_time": "2022-09-19T09:53:40.620Z"
   },
   {
    "duration": 156,
    "start_time": "2022-09-19T09:53:40.867Z"
   },
   {
    "duration": 126,
    "start_time": "2022-09-19T09:53:41.025Z"
   },
   {
    "duration": 150,
    "start_time": "2022-09-19T09:53:41.153Z"
   },
   {
    "duration": 242,
    "start_time": "2022-09-19T09:53:41.305Z"
   },
   {
    "duration": 293,
    "start_time": "2022-09-19T09:53:41.549Z"
   },
   {
    "duration": 129,
    "start_time": "2022-09-19T09:53:41.844Z"
   },
   {
    "duration": 145,
    "start_time": "2022-09-19T09:53:41.974Z"
   },
   {
    "duration": 160,
    "start_time": "2022-09-19T09:53:42.121Z"
   },
   {
    "duration": 209,
    "start_time": "2022-09-19T09:53:42.283Z"
   },
   {
    "duration": 254,
    "start_time": "2022-09-19T09:53:42.494Z"
   },
   {
    "duration": 176,
    "start_time": "2022-09-19T09:53:42.750Z"
   },
   {
    "duration": 179,
    "start_time": "2022-09-19T09:53:42.928Z"
   },
   {
    "duration": 173,
    "start_time": "2022-09-19T09:53:43.109Z"
   },
   {
    "duration": 148,
    "start_time": "2022-09-19T09:53:43.283Z"
   },
   {
    "duration": 206,
    "start_time": "2022-09-19T09:53:43.432Z"
   },
   {
    "duration": 136,
    "start_time": "2022-09-19T09:53:43.640Z"
   },
   {
    "duration": 6,
    "start_time": "2022-09-19T09:53:43.777Z"
   },
   {
    "duration": 231,
    "start_time": "2022-09-19T09:53:43.785Z"
   },
   {
    "duration": 266,
    "start_time": "2022-09-19T09:53:44.017Z"
   },
   {
    "duration": 126,
    "start_time": "2022-09-19T09:53:44.285Z"
   },
   {
    "duration": 229,
    "start_time": "2022-09-19T09:53:44.413Z"
   },
   {
    "duration": 251,
    "start_time": "2022-09-19T09:53:44.644Z"
   },
   {
    "duration": 21,
    "start_time": "2022-09-19T09:53:44.897Z"
   },
   {
    "duration": 62,
    "start_time": "2022-09-19T10:27:10.228Z"
   },
   {
    "duration": 1318,
    "start_time": "2022-09-19T10:27:17.960Z"
   },
   {
    "duration": 872,
    "start_time": "2022-09-19T10:28:09.454Z"
   },
   {
    "duration": 1245,
    "start_time": "2022-09-19T10:28:44.855Z"
   },
   {
    "duration": 34,
    "start_time": "2022-09-19T10:32:54.569Z"
   },
   {
    "duration": 14,
    "start_time": "2022-09-19T10:34:46.264Z"
   },
   {
    "duration": 32,
    "start_time": "2022-09-19T10:34:52.387Z"
   },
   {
    "duration": 16,
    "start_time": "2022-09-19T10:49:48.014Z"
   },
   {
    "duration": 20,
    "start_time": "2022-09-19T10:50:39.734Z"
   },
   {
    "duration": 402,
    "start_time": "2022-09-19T10:51:25.427Z"
   },
   {
    "duration": 1656,
    "start_time": "2022-09-19T10:51:44.827Z"
   },
   {
    "duration": 1113,
    "start_time": "2022-09-19T10:51:59.832Z"
   },
   {
    "duration": 1243,
    "start_time": "2022-09-19T10:53:07.227Z"
   },
   {
    "duration": 731,
    "start_time": "2022-09-19T10:53:35.248Z"
   },
   {
    "duration": 1687,
    "start_time": "2022-09-19T10:54:28.516Z"
   },
   {
    "duration": 870,
    "start_time": "2022-09-19T10:54:49.383Z"
   },
   {
    "duration": 638,
    "start_time": "2022-09-19T10:54:57.339Z"
   },
   {
    "duration": 18,
    "start_time": "2022-09-19T10:55:26.059Z"
   },
   {
    "duration": 19,
    "start_time": "2022-09-19T10:55:36.919Z"
   },
   {
    "duration": 18,
    "start_time": "2022-09-19T10:55:59.099Z"
   },
   {
    "duration": 1389,
    "start_time": "2022-09-19T10:56:30.898Z"
   },
   {
    "duration": 23,
    "start_time": "2022-09-19T10:58:16.644Z"
   },
   {
    "duration": 911,
    "start_time": "2022-09-19T10:58:38.688Z"
   },
   {
    "duration": 18,
    "start_time": "2022-09-19T10:59:48.112Z"
   },
   {
    "duration": 848,
    "start_time": "2022-09-19T11:00:46.850Z"
   },
   {
    "duration": 23,
    "start_time": "2022-09-19T11:00:56.498Z"
   },
   {
    "duration": 18,
    "start_time": "2022-09-19T11:01:40.764Z"
   },
   {
    "duration": 32,
    "start_time": "2022-09-19T11:02:51.179Z"
   },
   {
    "duration": 1978,
    "start_time": "2022-09-19T11:03:34.820Z"
   },
   {
    "duration": 32,
    "start_time": "2022-09-19T11:03:56.275Z"
   },
   {
    "duration": 1686,
    "start_time": "2022-09-19T11:04:52.980Z"
   },
   {
    "duration": 32,
    "start_time": "2022-09-19T11:05:33.994Z"
   },
   {
    "duration": 1884,
    "start_time": "2022-09-19T11:06:31.473Z"
   },
   {
    "duration": 1521,
    "start_time": "2022-09-19T11:07:16.286Z"
   },
   {
    "duration": 19,
    "start_time": "2022-09-19T11:07:46.466Z"
   },
   {
    "duration": 19,
    "start_time": "2022-09-19T11:12:39.649Z"
   },
   {
    "duration": 20,
    "start_time": "2022-09-19T11:13:10.287Z"
   },
   {
    "duration": 49,
    "start_time": "2022-09-19T11:18:51.405Z"
   },
   {
    "duration": 53,
    "start_time": "2022-09-19T11:19:08.715Z"
   },
   {
    "duration": 448,
    "start_time": "2022-09-19T11:23:55.713Z"
   },
   {
    "duration": 368,
    "start_time": "2022-09-19T11:25:43.297Z"
   },
   {
    "duration": 130,
    "start_time": "2022-09-19T11:32:41.712Z"
   },
   {
    "duration": 118,
    "start_time": "2022-09-19T11:32:52.068Z"
   },
   {
    "duration": 213,
    "start_time": "2022-09-19T11:33:16.476Z"
   },
   {
    "duration": 158,
    "start_time": "2022-09-19T11:33:43.161Z"
   },
   {
    "duration": 2939,
    "start_time": "2022-09-19T11:46:08.931Z"
   },
   {
    "duration": 158,
    "start_time": "2022-09-19T11:46:59.519Z"
   },
   {
    "duration": 151,
    "start_time": "2022-09-19T11:47:38.617Z"
   },
   {
    "duration": 157,
    "start_time": "2022-09-19T11:59:08.809Z"
   },
   {
    "duration": 196,
    "start_time": "2022-09-19T11:59:42.464Z"
   },
   {
    "duration": 178,
    "start_time": "2022-09-19T12:07:13.709Z"
   },
   {
    "duration": 352,
    "start_time": "2022-09-19T12:08:02.057Z"
   },
   {
    "duration": 156,
    "start_time": "2022-09-19T12:08:46.602Z"
   },
   {
    "duration": 2506,
    "start_time": "2022-09-19T12:09:24.975Z"
   },
   {
    "duration": 9,
    "start_time": "2022-09-19T12:09:27.482Z"
   },
   {
    "duration": 12,
    "start_time": "2022-09-19T12:09:27.493Z"
   },
   {
    "duration": 33,
    "start_time": "2022-09-19T12:09:27.507Z"
   },
   {
    "duration": 16,
    "start_time": "2022-09-19T12:09:27.542Z"
   },
   {
    "duration": 10,
    "start_time": "2022-09-19T12:09:27.559Z"
   },
   {
    "duration": 4,
    "start_time": "2022-09-19T12:09:27.571Z"
   },
   {
    "duration": 34,
    "start_time": "2022-09-19T12:09:27.576Z"
   },
   {
    "duration": 31,
    "start_time": "2022-09-19T12:09:27.611Z"
   },
   {
    "duration": 33,
    "start_time": "2022-09-19T12:09:27.644Z"
   },
   {
    "duration": 3,
    "start_time": "2022-09-19T12:09:27.679Z"
   },
   {
    "duration": 47,
    "start_time": "2022-09-19T12:09:27.684Z"
   },
   {
    "duration": 7,
    "start_time": "2022-09-19T12:09:27.732Z"
   },
   {
    "duration": 11,
    "start_time": "2022-09-19T12:09:27.741Z"
   },
   {
    "duration": 36,
    "start_time": "2022-09-19T12:09:27.753Z"
   },
   {
    "duration": 19,
    "start_time": "2022-09-19T12:09:27.790Z"
   },
   {
    "duration": 6,
    "start_time": "2022-09-19T12:09:27.810Z"
   },
   {
    "duration": 8,
    "start_time": "2022-09-19T12:09:27.817Z"
   },
   {
    "duration": 25,
    "start_time": "2022-09-19T12:09:27.826Z"
   },
   {
    "duration": 4223,
    "start_time": "2022-09-19T12:09:27.852Z"
   },
   {
    "duration": 9,
    "start_time": "2022-09-19T12:09:32.077Z"
   },
   {
    "duration": 25,
    "start_time": "2022-09-19T12:09:32.088Z"
   },
   {
    "duration": 114,
    "start_time": "2022-09-19T12:09:32.114Z"
   },
   {
    "duration": 9,
    "start_time": "2022-09-19T12:09:32.230Z"
   },
   {
    "duration": 127,
    "start_time": "2022-09-19T12:09:32.241Z"
   },
   {
    "duration": 10,
    "start_time": "2022-09-19T12:09:32.370Z"
   },
   {
    "duration": 144,
    "start_time": "2022-09-19T12:09:32.381Z"
   },
   {
    "duration": 12,
    "start_time": "2022-09-19T12:09:32.530Z"
   },
   {
    "duration": 102,
    "start_time": "2022-09-19T12:09:32.544Z"
   },
   {
    "duration": 7,
    "start_time": "2022-09-19T12:09:32.649Z"
   },
   {
    "duration": 37,
    "start_time": "2022-09-19T12:09:32.659Z"
   },
   {
    "duration": 154,
    "start_time": "2022-09-19T12:09:32.697Z"
   },
   {
    "duration": 10,
    "start_time": "2022-09-19T12:09:32.853Z"
   },
   {
    "duration": 102,
    "start_time": "2022-09-19T12:09:32.865Z"
   },
   {
    "duration": 7,
    "start_time": "2022-09-19T12:09:32.969Z"
   },
   {
    "duration": 15,
    "start_time": "2022-09-19T12:09:32.978Z"
   },
   {
    "duration": 44,
    "start_time": "2022-09-19T12:09:32.995Z"
   },
   {
    "duration": 9,
    "start_time": "2022-09-19T12:09:33.041Z"
   },
   {
    "duration": 19,
    "start_time": "2022-09-19T12:09:33.052Z"
   },
   {
    "duration": 72,
    "start_time": "2022-09-19T12:09:33.072Z"
   },
   {
    "duration": 215,
    "start_time": "2022-09-19T12:09:33.146Z"
   },
   {
    "duration": 9,
    "start_time": "2022-09-19T12:09:33.362Z"
   },
   {
    "duration": 220,
    "start_time": "2022-09-19T12:09:33.373Z"
   },
   {
    "duration": 19,
    "start_time": "2022-09-19T12:09:33.595Z"
   },
   {
    "duration": 141,
    "start_time": "2022-09-19T12:09:33.616Z"
   },
   {
    "duration": 9,
    "start_time": "2022-09-19T12:09:33.759Z"
   },
   {
    "duration": 251,
    "start_time": "2022-09-19T12:09:33.769Z"
   },
   {
    "duration": 152,
    "start_time": "2022-09-19T12:09:34.021Z"
   },
   {
    "duration": 125,
    "start_time": "2022-09-19T12:09:34.174Z"
   },
   {
    "duration": 147,
    "start_time": "2022-09-19T12:09:34.300Z"
   },
   {
    "duration": 219,
    "start_time": "2022-09-19T12:09:34.449Z"
   },
   {
    "duration": 243,
    "start_time": "2022-09-19T12:09:34.670Z"
   },
   {
    "duration": 146,
    "start_time": "2022-09-19T12:09:34.915Z"
   },
   {
    "duration": 117,
    "start_time": "2022-09-19T12:09:35.062Z"
   },
   {
    "duration": 162,
    "start_time": "2022-09-19T12:09:35.180Z"
   },
   {
    "duration": 214,
    "start_time": "2022-09-19T12:09:35.343Z"
   },
   {
    "duration": 186,
    "start_time": "2022-09-19T12:09:35.558Z"
   },
   {
    "duration": 157,
    "start_time": "2022-09-19T12:09:35.745Z"
   },
   {
    "duration": 174,
    "start_time": "2022-09-19T12:09:35.908Z"
   },
   {
    "duration": 173,
    "start_time": "2022-09-19T12:09:36.083Z"
   },
   {
    "duration": 137,
    "start_time": "2022-09-19T12:09:36.258Z"
   },
   {
    "duration": 218,
    "start_time": "2022-09-19T12:09:36.396Z"
   },
   {
    "duration": 134,
    "start_time": "2022-09-19T12:09:36.616Z"
   },
   {
    "duration": 5,
    "start_time": "2022-09-19T12:09:36.752Z"
   },
   {
    "duration": 143,
    "start_time": "2022-09-19T12:09:36.758Z"
   },
   {
    "duration": 343,
    "start_time": "2022-09-19T12:09:36.908Z"
   },
   {
    "duration": 125,
    "start_time": "2022-09-19T12:09:37.252Z"
   },
   {
    "duration": 260,
    "start_time": "2022-09-19T12:09:37.379Z"
   },
   {
    "duration": 235,
    "start_time": "2022-09-19T12:09:37.641Z"
   },
   {
    "duration": 18,
    "start_time": "2022-09-19T12:09:37.877Z"
   },
   {
    "duration": 346,
    "start_time": "2022-09-19T12:09:37.909Z"
   },
   {
    "duration": 160,
    "start_time": "2022-09-19T12:09:38.257Z"
   },
   {
    "duration": 254,
    "start_time": "2022-09-19T12:09:38.419Z"
   },
   {
    "duration": 167,
    "start_time": "2022-09-19T12:09:38.674Z"
   },
   {
    "duration": 176,
    "start_time": "2022-09-19T12:09:38.843Z"
   },
   {
    "duration": 218,
    "start_time": "2022-09-19T12:14:55.168Z"
   },
   {
    "duration": 161,
    "start_time": "2022-09-19T12:15:11.966Z"
   },
   {
    "duration": 124,
    "start_time": "2022-09-19T12:15:25.946Z"
   },
   {
    "duration": 234,
    "start_time": "2022-09-19T12:16:03.929Z"
   },
   {
    "duration": 8,
    "start_time": "2022-09-19T12:18:58.061Z"
   },
   {
    "duration": 2588,
    "start_time": "2022-09-19T12:19:03.729Z"
   },
   {
    "duration": 8,
    "start_time": "2022-09-19T12:19:06.319Z"
   },
   {
    "duration": 13,
    "start_time": "2022-09-19T12:19:06.329Z"
   },
   {
    "duration": 35,
    "start_time": "2022-09-19T12:19:06.344Z"
   },
   {
    "duration": 39,
    "start_time": "2022-09-19T12:19:06.381Z"
   },
   {
    "duration": 11,
    "start_time": "2022-09-19T12:19:06.421Z"
   },
   {
    "duration": 5,
    "start_time": "2022-09-19T12:19:06.434Z"
   },
   {
    "duration": 11,
    "start_time": "2022-09-19T12:19:06.440Z"
   },
   {
    "duration": 61,
    "start_time": "2022-09-19T12:19:06.452Z"
   },
   {
    "duration": 36,
    "start_time": "2022-09-19T12:19:06.515Z"
   },
   {
    "duration": 4,
    "start_time": "2022-09-19T12:19:06.553Z"
   },
   {
    "duration": 27,
    "start_time": "2022-09-19T12:19:06.558Z"
   },
   {
    "duration": 26,
    "start_time": "2022-09-19T12:19:06.587Z"
   },
   {
    "duration": 12,
    "start_time": "2022-09-19T12:19:06.615Z"
   },
   {
    "duration": 34,
    "start_time": "2022-09-19T12:19:06.629Z"
   },
   {
    "duration": 6,
    "start_time": "2022-09-19T12:19:06.665Z"
   },
   {
    "duration": 8,
    "start_time": "2022-09-19T12:19:06.672Z"
   },
   {
    "duration": 7,
    "start_time": "2022-09-19T12:19:06.710Z"
   },
   {
    "duration": 28,
    "start_time": "2022-09-19T12:19:06.719Z"
   },
   {
    "duration": 4292,
    "start_time": "2022-09-19T12:19:06.748Z"
   },
   {
    "duration": 10,
    "start_time": "2022-09-19T12:19:11.041Z"
   },
   {
    "duration": 17,
    "start_time": "2022-09-19T12:19:11.052Z"
   },
   {
    "duration": 124,
    "start_time": "2022-09-19T12:19:11.071Z"
   },
   {
    "duration": 14,
    "start_time": "2022-09-19T12:19:11.197Z"
   },
   {
    "duration": 124,
    "start_time": "2022-09-19T12:19:11.212Z"
   },
   {
    "duration": 9,
    "start_time": "2022-09-19T12:19:11.337Z"
   },
   {
    "duration": 139,
    "start_time": "2022-09-19T12:19:11.347Z"
   },
   {
    "duration": 9,
    "start_time": "2022-09-19T12:19:11.489Z"
   },
   {
    "duration": 71,
    "start_time": "2022-09-19T12:19:11.500Z"
   },
   {
    "duration": 7,
    "start_time": "2022-09-19T12:19:11.573Z"
   },
   {
    "duration": 38,
    "start_time": "2022-09-19T12:19:11.583Z"
   },
   {
    "duration": 143,
    "start_time": "2022-09-19T12:19:11.624Z"
   },
   {
    "duration": 11,
    "start_time": "2022-09-19T12:19:11.768Z"
   },
   {
    "duration": 132,
    "start_time": "2022-09-19T12:19:11.780Z"
   },
   {
    "duration": 6,
    "start_time": "2022-09-19T12:19:11.913Z"
   },
   {
    "duration": 30,
    "start_time": "2022-09-19T12:19:11.920Z"
   },
   {
    "duration": 67,
    "start_time": "2022-09-19T12:19:11.952Z"
   },
   {
    "duration": 13,
    "start_time": "2022-09-19T12:19:12.021Z"
   },
   {
    "duration": 21,
    "start_time": "2022-09-19T12:19:12.036Z"
   },
   {
    "duration": 61,
    "start_time": "2022-09-19T12:19:12.059Z"
   },
   {
    "duration": 226,
    "start_time": "2022-09-19T12:19:12.122Z"
   },
   {
    "duration": 9,
    "start_time": "2022-09-19T12:19:12.349Z"
   },
   {
    "duration": 283,
    "start_time": "2022-09-19T12:19:12.359Z"
   },
   {
    "duration": 12,
    "start_time": "2022-09-19T12:19:12.644Z"
   },
   {
    "duration": 343,
    "start_time": "2022-09-19T12:19:12.659Z"
   },
   {
    "duration": 13,
    "start_time": "2022-09-19T12:19:13.003Z"
   },
   {
    "duration": 148,
    "start_time": "2022-09-19T12:19:13.017Z"
   },
   {
    "duration": 9,
    "start_time": "2022-09-19T12:19:13.166Z"
   },
   {
    "duration": 210,
    "start_time": "2022-09-19T12:19:13.177Z"
   },
   {
    "duration": 151,
    "start_time": "2022-09-19T12:19:13.389Z"
   },
   {
    "duration": 137,
    "start_time": "2022-09-19T12:19:13.541Z"
   },
   {
    "duration": 157,
    "start_time": "2022-09-19T12:19:13.679Z"
   },
   {
    "duration": 257,
    "start_time": "2022-09-19T12:19:13.838Z"
   },
   {
    "duration": 280,
    "start_time": "2022-09-19T12:19:14.097Z"
   },
   {
    "duration": 143,
    "start_time": "2022-09-19T12:19:14.378Z"
   },
   {
    "duration": 213,
    "start_time": "2022-09-19T12:19:14.523Z"
   },
   {
    "duration": 174,
    "start_time": "2022-09-19T12:19:14.737Z"
   },
   {
    "duration": 161,
    "start_time": "2022-09-19T12:19:14.913Z"
   },
   {
    "duration": 226,
    "start_time": "2022-09-19T12:19:15.076Z"
   },
   {
    "duration": 180,
    "start_time": "2022-09-19T12:19:15.304Z"
   },
   {
    "duration": 183,
    "start_time": "2022-09-19T12:19:15.486Z"
   },
   {
    "duration": 190,
    "start_time": "2022-09-19T12:19:15.670Z"
   },
   {
    "duration": 153,
    "start_time": "2022-09-19T12:19:15.862Z"
   },
   {
    "duration": 237,
    "start_time": "2022-09-19T12:19:16.017Z"
   },
   {
    "duration": 220,
    "start_time": "2022-09-19T12:19:16.255Z"
   },
   {
    "duration": 6,
    "start_time": "2022-09-19T12:19:16.476Z"
   },
   {
    "duration": 152,
    "start_time": "2022-09-19T12:19:16.483Z"
   },
   {
    "duration": 252,
    "start_time": "2022-09-19T12:19:16.637Z"
   },
   {
    "duration": 129,
    "start_time": "2022-09-19T12:19:16.892Z"
   },
   {
    "duration": 252,
    "start_time": "2022-09-19T12:19:17.023Z"
   },
   {
    "duration": 239,
    "start_time": "2022-09-19T12:19:17.277Z"
   },
   {
    "duration": 16,
    "start_time": "2022-09-19T12:19:17.519Z"
   },
   {
    "duration": 458,
    "start_time": "2022-09-19T12:19:17.537Z"
   },
   {
    "duration": 189,
    "start_time": "2022-09-19T12:19:17.996Z"
   },
   {
    "duration": 171,
    "start_time": "2022-09-19T12:19:18.187Z"
   },
   {
    "duration": 179,
    "start_time": "2022-09-19T12:19:18.360Z"
   },
   {
    "duration": 198,
    "start_time": "2022-09-19T12:19:18.541Z"
   },
   {
    "duration": 2816,
    "start_time": "2022-09-19T17:16:10.463Z"
   },
   {
    "duration": 9,
    "start_time": "2022-09-19T17:16:13.282Z"
   },
   {
    "duration": 13,
    "start_time": "2022-09-19T17:16:13.293Z"
   },
   {
    "duration": 30,
    "start_time": "2022-09-19T17:16:13.307Z"
   },
   {
    "duration": 16,
    "start_time": "2022-09-19T17:16:13.338Z"
   },
   {
    "duration": 10,
    "start_time": "2022-09-19T17:16:13.355Z"
   },
   {
    "duration": 5,
    "start_time": "2022-09-19T17:16:13.367Z"
   },
   {
    "duration": 34,
    "start_time": "2022-09-19T17:16:13.373Z"
   },
   {
    "duration": 31,
    "start_time": "2022-09-19T17:16:13.409Z"
   },
   {
    "duration": 58,
    "start_time": "2022-09-19T17:16:13.442Z"
   },
   {
    "duration": 4,
    "start_time": "2022-09-19T17:16:13.502Z"
   },
   {
    "duration": 28,
    "start_time": "2022-09-19T17:16:13.507Z"
   },
   {
    "duration": 7,
    "start_time": "2022-09-19T17:16:13.536Z"
   },
   {
    "duration": 11,
    "start_time": "2022-09-19T17:16:13.544Z"
   },
   {
    "duration": 54,
    "start_time": "2022-09-19T17:16:13.556Z"
   },
   {
    "duration": 6,
    "start_time": "2022-09-19T17:16:13.611Z"
   },
   {
    "duration": 4,
    "start_time": "2022-09-19T17:16:13.619Z"
   },
   {
    "duration": 8,
    "start_time": "2022-09-19T17:16:13.624Z"
   },
   {
    "duration": 23,
    "start_time": "2022-09-19T17:16:13.633Z"
   },
   {
    "duration": 3872,
    "start_time": "2022-09-19T17:16:13.658Z"
   },
   {
    "duration": 9,
    "start_time": "2022-09-19T17:16:17.531Z"
   },
   {
    "duration": 16,
    "start_time": "2022-09-19T17:16:17.541Z"
   },
   {
    "duration": 124,
    "start_time": "2022-09-19T17:16:17.558Z"
   },
   {
    "duration": 17,
    "start_time": "2022-09-19T17:16:17.684Z"
   },
   {
    "duration": 121,
    "start_time": "2022-09-19T17:16:17.703Z"
   },
   {
    "duration": 9,
    "start_time": "2022-09-19T17:16:17.826Z"
   },
   {
    "duration": 136,
    "start_time": "2022-09-19T17:16:17.837Z"
   },
   {
    "duration": 9,
    "start_time": "2022-09-19T17:16:17.977Z"
   },
   {
    "duration": 59,
    "start_time": "2022-09-19T17:16:18.000Z"
   },
   {
    "duration": 6,
    "start_time": "2022-09-19T17:16:18.060Z"
   },
   {
    "duration": 17,
    "start_time": "2022-09-19T17:16:18.067Z"
   },
   {
    "duration": 130,
    "start_time": "2022-09-19T17:16:18.099Z"
   },
   {
    "duration": 9,
    "start_time": "2022-09-19T17:16:18.231Z"
   },
   {
    "duration": 106,
    "start_time": "2022-09-19T17:16:18.242Z"
   },
   {
    "duration": 6,
    "start_time": "2022-09-19T17:16:18.350Z"
   },
   {
    "duration": 9,
    "start_time": "2022-09-19T17:16:18.358Z"
   },
   {
    "duration": 49,
    "start_time": "2022-09-19T17:16:18.369Z"
   },
   {
    "duration": 8,
    "start_time": "2022-09-19T17:16:18.420Z"
   },
   {
    "duration": 13,
    "start_time": "2022-09-19T17:16:18.429Z"
   },
   {
    "duration": 70,
    "start_time": "2022-09-19T17:16:18.443Z"
   },
   {
    "duration": 237,
    "start_time": "2022-09-19T17:16:18.515Z"
   },
   {
    "duration": 7,
    "start_time": "2022-09-19T17:16:18.754Z"
   },
   {
    "duration": 259,
    "start_time": "2022-09-19T17:16:18.762Z"
   },
   {
    "duration": 9,
    "start_time": "2022-09-19T17:16:19.022Z"
   },
   {
    "duration": 297,
    "start_time": "2022-09-19T17:16:19.032Z"
   },
   {
    "duration": 8,
    "start_time": "2022-09-19T17:16:19.331Z"
   },
   {
    "duration": 151,
    "start_time": "2022-09-19T17:16:19.340Z"
   },
   {
    "duration": 11,
    "start_time": "2022-09-19T17:16:19.492Z"
   },
   {
    "duration": 180,
    "start_time": "2022-09-19T17:16:19.504Z"
   },
   {
    "duration": 141,
    "start_time": "2022-09-19T17:16:19.685Z"
   },
   {
    "duration": 120,
    "start_time": "2022-09-19T17:16:19.827Z"
   },
   {
    "duration": 143,
    "start_time": "2022-09-19T17:16:19.948Z"
   },
   {
    "duration": 219,
    "start_time": "2022-09-19T17:16:20.092Z"
   },
   {
    "duration": 221,
    "start_time": "2022-09-19T17:16:20.313Z"
   },
   {
    "duration": 219,
    "start_time": "2022-09-19T17:16:20.536Z"
   },
   {
    "duration": 114,
    "start_time": "2022-09-19T17:16:20.756Z"
   },
   {
    "duration": 163,
    "start_time": "2022-09-19T17:16:20.871Z"
   },
   {
    "duration": 132,
    "start_time": "2022-09-19T17:16:21.036Z"
   },
   {
    "duration": 188,
    "start_time": "2022-09-19T17:16:21.170Z"
   },
   {
    "duration": 177,
    "start_time": "2022-09-19T17:16:21.360Z"
   },
   {
    "duration": 181,
    "start_time": "2022-09-19T17:16:21.539Z"
   },
   {
    "duration": 181,
    "start_time": "2022-09-19T17:16:21.721Z"
   },
   {
    "duration": 134,
    "start_time": "2022-09-19T17:16:21.903Z"
   },
   {
    "duration": 315,
    "start_time": "2022-09-19T17:16:22.039Z"
   },
   {
    "duration": 129,
    "start_time": "2022-09-19T17:16:22.356Z"
   },
   {
    "duration": 6,
    "start_time": "2022-09-19T17:16:22.486Z"
   },
   {
    "duration": 131,
    "start_time": "2022-09-19T17:16:22.500Z"
   },
   {
    "duration": 231,
    "start_time": "2022-09-19T17:16:22.633Z"
   },
   {
    "duration": 116,
    "start_time": "2022-09-19T17:16:22.865Z"
   },
   {
    "duration": 243,
    "start_time": "2022-09-19T17:16:22.983Z"
   },
   {
    "duration": 237,
    "start_time": "2022-09-19T17:16:23.228Z"
   },
   {
    "duration": 16,
    "start_time": "2022-09-19T17:16:23.467Z"
   },
   {
    "duration": 424,
    "start_time": "2022-09-19T17:16:23.484Z"
   },
   {
    "duration": 179,
    "start_time": "2022-09-19T17:16:23.909Z"
   },
   {
    "duration": 182,
    "start_time": "2022-09-19T17:16:24.099Z"
   },
   {
    "duration": 240,
    "start_time": "2022-09-19T17:16:24.283Z"
   },
   {
    "duration": 224,
    "start_time": "2022-09-19T17:16:24.525Z"
   },
   {
    "duration": 173,
    "start_time": "2022-09-19T17:25:27.135Z"
   },
   {
    "duration": 214,
    "start_time": "2022-09-19T17:26:33.981Z"
   },
   {
    "duration": 169,
    "start_time": "2022-09-19T17:26:47.839Z"
   },
   {
    "duration": 1800,
    "start_time": "2022-09-19T17:32:18.377Z"
   },
   {
    "duration": 162,
    "start_time": "2022-09-19T17:32:39.482Z"
   },
   {
    "duration": 297,
    "start_time": "2022-09-19T17:37:45.347Z"
   },
   {
    "duration": 160,
    "start_time": "2022-09-19T17:45:52.879Z"
   },
   {
    "duration": 111,
    "start_time": "2022-09-19T17:45:58.900Z"
   },
   {
    "duration": 119,
    "start_time": "2022-09-19T17:50:29.177Z"
   },
   {
    "duration": 147,
    "start_time": "2022-09-19T17:50:38.229Z"
   },
   {
    "duration": 1010,
    "start_time": "2022-09-19T17:58:18.579Z"
   },
   {
    "duration": 143,
    "start_time": "2022-09-19T17:59:06.895Z"
   },
   {
    "duration": 179,
    "start_time": "2022-09-19T17:59:35.437Z"
   },
   {
    "duration": 1585,
    "start_time": "2022-09-19T18:04:51.197Z"
   },
   {
    "duration": 179,
    "start_time": "2022-09-19T18:05:03.144Z"
   },
   {
    "duration": 204,
    "start_time": "2022-09-19T18:10:06.674Z"
   },
   {
    "duration": 179,
    "start_time": "2022-09-19T18:15:07.613Z"
   },
   {
    "duration": 390,
    "start_time": "2022-09-19T18:15:41.022Z"
   },
   {
    "duration": 278,
    "start_time": "2022-09-19T18:18:56.377Z"
   },
   {
    "duration": 285,
    "start_time": "2022-09-19T18:26:25.096Z"
   },
   {
    "duration": 264,
    "start_time": "2022-09-19T18:26:44.625Z"
   },
   {
    "duration": 282,
    "start_time": "2022-09-19T18:28:00.469Z"
   },
   {
    "duration": 220,
    "start_time": "2022-09-19T18:28:12.754Z"
   },
   {
    "duration": 373,
    "start_time": "2022-09-19T18:28:46.847Z"
   },
   {
    "duration": 285,
    "start_time": "2022-09-19T18:29:00.125Z"
   },
   {
    "duration": 273,
    "start_time": "2022-09-19T18:29:05.220Z"
   },
   {
    "duration": 255,
    "start_time": "2022-09-19T18:29:37.126Z"
   },
   {
    "duration": 253,
    "start_time": "2022-09-19T18:30:06.030Z"
   },
   {
    "duration": 404,
    "start_time": "2022-09-19T18:30:23.161Z"
   },
   {
    "duration": 261,
    "start_time": "2022-09-19T18:31:06.391Z"
   },
   {
    "duration": 248,
    "start_time": "2022-09-19T18:31:26.712Z"
   },
   {
    "duration": 259,
    "start_time": "2022-09-19T18:31:56.792Z"
   },
   {
    "duration": 298,
    "start_time": "2022-09-19T18:32:11.236Z"
   },
   {
    "duration": 237,
    "start_time": "2022-09-19T18:34:48.810Z"
   },
   {
    "duration": 234,
    "start_time": "2022-09-19T18:34:59.526Z"
   },
   {
    "duration": 40,
    "start_time": "2022-09-19T18:48:15.055Z"
   },
   {
    "duration": 43,
    "start_time": "2022-09-19T18:50:00.612Z"
   },
   {
    "duration": 42,
    "start_time": "2022-09-19T18:50:15.759Z"
   },
   {
    "duration": 43,
    "start_time": "2022-09-19T18:50:26.850Z"
   },
   {
    "duration": 40,
    "start_time": "2022-09-19T18:50:33.380Z"
   },
   {
    "duration": 49,
    "start_time": "2022-09-19T18:50:38.917Z"
   },
   {
    "duration": 8,
    "start_time": "2022-09-19T19:00:21.175Z"
   },
   {
    "duration": 7,
    "start_time": "2022-09-19T19:00:28.127Z"
   },
   {
    "duration": 26496,
    "start_time": "2022-09-19T19:01:01.816Z"
   },
   {
    "duration": 432,
    "start_time": "2022-09-19T19:02:26.310Z"
   },
   {
    "duration": 429,
    "start_time": "2022-09-19T19:03:17.847Z"
   },
   {
    "duration": 8,
    "start_time": "2022-09-19T19:09:05.144Z"
   },
   {
    "duration": 185,
    "start_time": "2022-09-19T19:09:17.778Z"
   },
   {
    "duration": 264,
    "start_time": "2022-09-19T19:10:30.109Z"
   },
   {
    "duration": 122,
    "start_time": "2022-09-19T19:11:09.112Z"
   },
   {
    "duration": 191,
    "start_time": "2022-09-19T19:11:21.512Z"
   },
   {
    "duration": 216,
    "start_time": "2022-09-19T19:11:27.853Z"
   },
   {
    "duration": 213,
    "start_time": "2022-09-19T19:11:33.451Z"
   },
   {
    "duration": 200,
    "start_time": "2022-09-19T19:11:43.292Z"
   },
   {
    "duration": 194,
    "start_time": "2022-09-19T19:11:50.557Z"
   },
   {
    "duration": 7,
    "start_time": "2022-09-19T19:12:27.861Z"
   },
   {
    "duration": 216,
    "start_time": "2022-09-19T19:12:42.967Z"
   },
   {
    "duration": 1476,
    "start_time": "2022-09-19T19:24:01.926Z"
   },
   {
    "duration": 1569,
    "start_time": "2022-09-19T19:25:54.563Z"
   },
   {
    "duration": 1283,
    "start_time": "2022-09-19T19:32:57.547Z"
   },
   {
    "duration": 7,
    "start_time": "2022-09-19T19:58:11.986Z"
   },
   {
    "duration": 9,
    "start_time": "2022-09-19T20:02:16.478Z"
   },
   {
    "duration": 16,
    "start_time": "2022-09-19T20:02:46.288Z"
   },
   {
    "duration": 15,
    "start_time": "2022-09-19T20:03:33.060Z"
   },
   {
    "duration": 13,
    "start_time": "2022-09-19T20:04:04.252Z"
   },
   {
    "duration": 54,
    "start_time": "2022-09-19T20:04:37.407Z"
   },
   {
    "duration": 13,
    "start_time": "2022-09-19T20:04:48.626Z"
   },
   {
    "duration": 14,
    "start_time": "2022-09-19T20:04:57.111Z"
   },
   {
    "duration": 20,
    "start_time": "2022-09-19T20:05:10.074Z"
   },
   {
    "duration": 448,
    "start_time": "2022-09-19T20:09:01.662Z"
   },
   {
    "duration": 15,
    "start_time": "2022-09-19T20:10:18.977Z"
   },
   {
    "duration": 2561,
    "start_time": "2022-09-19T20:10:30.762Z"
   },
   {
    "duration": 9,
    "start_time": "2022-09-19T20:10:33.325Z"
   },
   {
    "duration": 34,
    "start_time": "2022-09-19T20:10:33.335Z"
   },
   {
    "duration": 38,
    "start_time": "2022-09-19T20:10:33.371Z"
   },
   {
    "duration": 16,
    "start_time": "2022-09-19T20:10:33.411Z"
   },
   {
    "duration": 13,
    "start_time": "2022-09-19T20:10:33.428Z"
   },
   {
    "duration": 21,
    "start_time": "2022-09-19T20:10:33.443Z"
   },
   {
    "duration": 27,
    "start_time": "2022-09-19T20:10:33.465Z"
   },
   {
    "duration": 51,
    "start_time": "2022-09-19T20:10:33.493Z"
   },
   {
    "duration": 37,
    "start_time": "2022-09-19T20:10:33.546Z"
   },
   {
    "duration": 4,
    "start_time": "2022-09-19T20:10:33.585Z"
   },
   {
    "duration": 39,
    "start_time": "2022-09-19T20:10:33.590Z"
   },
   {
    "duration": 32,
    "start_time": "2022-09-19T20:10:33.631Z"
   },
   {
    "duration": 30,
    "start_time": "2022-09-19T20:10:33.665Z"
   },
   {
    "duration": 57,
    "start_time": "2022-09-19T20:10:33.697Z"
   },
   {
    "duration": 6,
    "start_time": "2022-09-19T20:10:33.755Z"
   },
   {
    "duration": 23,
    "start_time": "2022-09-19T20:10:33.762Z"
   },
   {
    "duration": 24,
    "start_time": "2022-09-19T20:10:33.786Z"
   },
   {
    "duration": 39,
    "start_time": "2022-09-19T20:10:33.811Z"
   },
   {
    "duration": 657,
    "start_time": "2022-09-19T20:10:33.852Z"
   },
   {
    "duration": 11,
    "start_time": "2022-09-19T20:10:34.511Z"
   },
   {
    "duration": 34,
    "start_time": "2022-09-19T20:10:34.524Z"
   },
   {
    "duration": 151,
    "start_time": "2022-09-19T20:10:34.559Z"
   },
   {
    "duration": 11,
    "start_time": "2022-09-19T20:10:34.712Z"
   },
   {
    "duration": 136,
    "start_time": "2022-09-19T20:10:34.724Z"
   },
   {
    "duration": 11,
    "start_time": "2022-09-19T20:10:34.862Z"
   },
   {
    "duration": 145,
    "start_time": "2022-09-19T20:10:34.875Z"
   },
   {
    "duration": 10,
    "start_time": "2022-09-19T20:10:35.024Z"
   },
   {
    "duration": 74,
    "start_time": "2022-09-19T20:10:35.036Z"
   },
   {
    "duration": 6,
    "start_time": "2022-09-19T20:10:35.113Z"
   },
   {
    "duration": 28,
    "start_time": "2022-09-19T20:10:35.121Z"
   },
   {
    "duration": 117,
    "start_time": "2022-09-19T20:10:35.150Z"
   },
   {
    "duration": 10,
    "start_time": "2022-09-19T20:10:35.269Z"
   },
   {
    "duration": 132,
    "start_time": "2022-09-19T20:10:35.281Z"
   },
   {
    "duration": 8,
    "start_time": "2022-09-19T20:10:35.414Z"
   },
   {
    "duration": 25,
    "start_time": "2022-09-19T20:10:35.424Z"
   },
   {
    "duration": 33,
    "start_time": "2022-09-19T20:10:35.450Z"
   },
   {
    "duration": 22,
    "start_time": "2022-09-19T20:10:35.484Z"
   },
   {
    "duration": 14,
    "start_time": "2022-09-19T20:10:35.508Z"
   },
   {
    "duration": 47,
    "start_time": "2022-09-19T20:10:35.523Z"
   },
   {
    "duration": 240,
    "start_time": "2022-09-19T20:10:35.572Z"
   },
   {
    "duration": 8,
    "start_time": "2022-09-19T20:10:35.814Z"
   },
   {
    "duration": 243,
    "start_time": "2022-09-19T20:10:35.824Z"
   },
   {
    "duration": 11,
    "start_time": "2022-09-19T20:10:36.068Z"
   },
   {
    "duration": 304,
    "start_time": "2022-09-19T20:10:36.080Z"
   },
   {
    "duration": 9,
    "start_time": "2022-09-19T20:10:36.385Z"
   },
   {
    "duration": 154,
    "start_time": "2022-09-19T20:10:36.395Z"
   },
   {
    "duration": 8,
    "start_time": "2022-09-19T20:10:36.551Z"
   },
   {
    "duration": 180,
    "start_time": "2022-09-19T20:10:36.561Z"
   },
   {
    "duration": 158,
    "start_time": "2022-09-19T20:10:36.743Z"
   },
   {
    "duration": 128,
    "start_time": "2022-09-19T20:10:36.903Z"
   },
   {
    "duration": 146,
    "start_time": "2022-09-19T20:10:37.032Z"
   },
   {
    "duration": 236,
    "start_time": "2022-09-19T20:10:37.180Z"
   },
   {
    "duration": 233,
    "start_time": "2022-09-19T20:10:37.417Z"
   },
   {
    "duration": 131,
    "start_time": "2022-09-19T20:10:37.652Z"
   },
   {
    "duration": 231,
    "start_time": "2022-09-19T20:10:37.785Z"
   },
   {
    "duration": 157,
    "start_time": "2022-09-19T20:10:38.017Z"
   },
   {
    "duration": 152,
    "start_time": "2022-09-19T20:10:38.176Z"
   },
   {
    "duration": 195,
    "start_time": "2022-09-19T20:10:38.330Z"
   },
   {
    "duration": 174,
    "start_time": "2022-09-19T20:10:38.527Z"
   },
   {
    "duration": 205,
    "start_time": "2022-09-19T20:10:38.703Z"
   },
   {
    "duration": 210,
    "start_time": "2022-09-19T20:10:38.910Z"
   },
   {
    "duration": 159,
    "start_time": "2022-09-19T20:10:39.122Z"
   },
   {
    "duration": 344,
    "start_time": "2022-09-19T20:10:39.283Z"
   },
   {
    "duration": 135,
    "start_time": "2022-09-19T20:10:39.628Z"
   },
   {
    "duration": 7,
    "start_time": "2022-09-19T20:10:39.765Z"
   },
   {
    "duration": 146,
    "start_time": "2022-09-19T20:10:39.774Z"
   },
   {
    "duration": 266,
    "start_time": "2022-09-19T20:10:39.922Z"
   },
   {
    "duration": 125,
    "start_time": "2022-09-19T20:10:40.189Z"
   },
   {
    "duration": 240,
    "start_time": "2022-09-19T20:10:40.315Z"
   },
   {
    "duration": 235,
    "start_time": "2022-09-19T20:10:40.557Z"
   },
   {
    "duration": 19,
    "start_time": "2022-09-19T20:10:40.794Z"
   },
   {
    "duration": 426,
    "start_time": "2022-09-19T20:10:40.814Z"
   },
   {
    "duration": 180,
    "start_time": "2022-09-19T20:10:41.242Z"
   },
   {
    "duration": 195,
    "start_time": "2022-09-19T20:10:41.424Z"
   },
   {
    "duration": 209,
    "start_time": "2022-09-19T20:10:41.621Z"
   },
   {
    "duration": 188,
    "start_time": "2022-09-19T20:10:41.831Z"
   },
   {
    "duration": 175,
    "start_time": "2022-09-19T20:10:42.020Z"
   },
   {
    "duration": 168,
    "start_time": "2022-09-19T20:10:42.199Z"
   },
   {
    "duration": 164,
    "start_time": "2022-09-19T20:10:42.368Z"
   },
   {
    "duration": 124,
    "start_time": "2022-09-19T20:10:42.534Z"
   },
   {
    "duration": 286,
    "start_time": "2022-09-19T20:10:42.662Z"
   },
   {
    "duration": 202,
    "start_time": "2022-09-19T20:10:42.950Z"
   },
   {
    "duration": 165,
    "start_time": "2022-09-19T20:10:43.154Z"
   },
   {
    "duration": 199,
    "start_time": "2022-09-19T20:10:43.320Z"
   },
   {
    "duration": 259,
    "start_time": "2022-09-19T20:10:43.520Z"
   },
   {
    "duration": 119,
    "start_time": "2022-09-19T20:10:43.781Z"
   },
   {
    "duration": 38,
    "start_time": "2022-09-19T20:10:43.902Z"
   },
   {
    "duration": 1553,
    "start_time": "2022-09-19T20:10:43.942Z"
   },
   {
    "duration": 18,
    "start_time": "2022-09-19T20:10:45.497Z"
   },
   {
    "duration": 3516,
    "start_time": "2022-09-19T20:11:35.359Z"
   },
   {
    "duration": 2559,
    "start_time": "2022-09-19T20:11:55.568Z"
   },
   {
    "duration": 13,
    "start_time": "2022-09-19T20:11:58.130Z"
   },
   {
    "duration": 16,
    "start_time": "2022-09-19T20:11:58.145Z"
   },
   {
    "duration": 29,
    "start_time": "2022-09-19T20:11:58.162Z"
   },
   {
    "duration": 15,
    "start_time": "2022-09-19T20:11:58.193Z"
   },
   {
    "duration": 10,
    "start_time": "2022-09-19T20:11:58.209Z"
   },
   {
    "duration": 5,
    "start_time": "2022-09-19T20:11:58.220Z"
   },
   {
    "duration": 15,
    "start_time": "2022-09-19T20:11:58.226Z"
   },
   {
    "duration": 28,
    "start_time": "2022-09-19T20:11:58.242Z"
   },
   {
    "duration": 62,
    "start_time": "2022-09-19T20:11:58.272Z"
   },
   {
    "duration": 5,
    "start_time": "2022-09-19T20:11:58.335Z"
   },
   {
    "duration": 31,
    "start_time": "2022-09-19T20:11:58.341Z"
   },
   {
    "duration": 26,
    "start_time": "2022-09-19T20:11:58.379Z"
   },
   {
    "duration": 11,
    "start_time": "2022-09-19T20:11:58.408Z"
   },
   {
    "duration": 32,
    "start_time": "2022-09-19T20:11:58.420Z"
   },
   {
    "duration": 7,
    "start_time": "2022-09-19T20:11:58.454Z"
   },
   {
    "duration": 41,
    "start_time": "2022-09-19T20:11:58.463Z"
   },
   {
    "duration": 8,
    "start_time": "2022-09-19T20:11:58.506Z"
   },
   {
    "duration": 29,
    "start_time": "2022-09-19T20:11:58.516Z"
   },
   {
    "duration": 4149,
    "start_time": "2022-09-19T20:11:58.546Z"
   },
   {
    "duration": 12,
    "start_time": "2022-09-19T20:12:02.697Z"
   },
   {
    "duration": 12,
    "start_time": "2022-09-19T20:12:02.711Z"
   },
   {
    "duration": 125,
    "start_time": "2022-09-19T20:12:02.725Z"
   },
   {
    "duration": 10,
    "start_time": "2022-09-19T20:12:02.851Z"
   },
   {
    "duration": 140,
    "start_time": "2022-09-19T20:12:02.862Z"
   },
   {
    "duration": 10,
    "start_time": "2022-09-19T20:12:03.003Z"
   },
   {
    "duration": 143,
    "start_time": "2022-09-19T20:12:03.014Z"
   },
   {
    "duration": 11,
    "start_time": "2022-09-19T20:12:03.159Z"
   },
   {
    "duration": 87,
    "start_time": "2022-09-19T20:12:03.171Z"
   },
   {
    "duration": 8,
    "start_time": "2022-09-19T20:12:03.259Z"
   },
   {
    "duration": 13,
    "start_time": "2022-09-19T20:12:03.268Z"
   },
   {
    "duration": 146,
    "start_time": "2022-09-19T20:12:03.301Z"
   },
   {
    "duration": 10,
    "start_time": "2022-09-19T20:12:03.449Z"
   },
   {
    "duration": 106,
    "start_time": "2022-09-19T20:12:03.460Z"
   },
   {
    "duration": 7,
    "start_time": "2022-09-19T20:12:03.567Z"
   },
   {
    "duration": 26,
    "start_time": "2022-09-19T20:12:03.576Z"
   },
   {
    "duration": 28,
    "start_time": "2022-09-19T20:12:03.603Z"
   },
   {
    "duration": 8,
    "start_time": "2022-09-19T20:12:03.632Z"
   },
   {
    "duration": 20,
    "start_time": "2022-09-19T20:12:03.641Z"
   },
   {
    "duration": 79,
    "start_time": "2022-09-19T20:12:03.663Z"
   },
   {
    "duration": 231,
    "start_time": "2022-09-19T20:12:03.746Z"
   },
   {
    "duration": 8,
    "start_time": "2022-09-19T20:12:03.978Z"
   },
   {
    "duration": 284,
    "start_time": "2022-09-19T20:12:03.988Z"
   },
   {
    "duration": 10,
    "start_time": "2022-09-19T20:12:04.274Z"
   },
   {
    "duration": 368,
    "start_time": "2022-09-19T20:12:04.286Z"
   },
   {
    "duration": 8,
    "start_time": "2022-09-19T20:12:04.655Z"
   },
   {
    "duration": 143,
    "start_time": "2022-09-19T20:12:04.665Z"
   },
   {
    "duration": 9,
    "start_time": "2022-09-19T20:12:04.810Z"
   },
   {
    "duration": 212,
    "start_time": "2022-09-19T20:12:04.820Z"
   },
   {
    "duration": 154,
    "start_time": "2022-09-19T20:12:05.034Z"
   },
   {
    "duration": 202,
    "start_time": "2022-09-19T20:12:05.190Z"
   },
   {
    "duration": 218,
    "start_time": "2022-09-19T20:12:05.395Z"
   },
   {
    "duration": 231,
    "start_time": "2022-09-19T20:12:05.615Z"
   },
   {
    "duration": 234,
    "start_time": "2022-09-19T20:12:05.848Z"
   },
   {
    "duration": 152,
    "start_time": "2022-09-19T20:12:06.084Z"
   },
   {
    "duration": 242,
    "start_time": "2022-09-19T20:12:06.238Z"
   },
   {
    "duration": 187,
    "start_time": "2022-09-19T20:12:06.482Z"
   },
   {
    "duration": 134,
    "start_time": "2022-09-19T20:12:06.671Z"
   },
   {
    "duration": 184,
    "start_time": "2022-09-19T20:12:06.807Z"
   },
   {
    "duration": 164,
    "start_time": "2022-09-19T20:12:06.992Z"
   },
   {
    "duration": 189,
    "start_time": "2022-09-19T20:12:07.158Z"
   },
   {
    "duration": 203,
    "start_time": "2022-09-19T20:12:07.349Z"
   },
   {
    "duration": 168,
    "start_time": "2022-09-19T20:12:07.554Z"
   },
   {
    "duration": 213,
    "start_time": "2022-09-19T20:12:07.723Z"
   },
   {
    "duration": 233,
    "start_time": "2022-09-19T20:12:07.938Z"
   },
   {
    "duration": 5,
    "start_time": "2022-09-19T20:12:08.173Z"
   },
   {
    "duration": 148,
    "start_time": "2022-09-19T20:12:08.180Z"
   },
   {
    "duration": 253,
    "start_time": "2022-09-19T20:12:08.329Z"
   },
   {
    "duration": 128,
    "start_time": "2022-09-19T20:12:08.584Z"
   },
   {
    "duration": 247,
    "start_time": "2022-09-19T20:12:08.714Z"
   },
   {
    "duration": 242,
    "start_time": "2022-09-19T20:12:08.963Z"
   },
   {
    "duration": 16,
    "start_time": "2022-09-19T20:12:09.207Z"
   },
   {
    "duration": 427,
    "start_time": "2022-09-19T20:12:09.224Z"
   },
   {
    "duration": 177,
    "start_time": "2022-09-19T20:12:09.653Z"
   },
   {
    "duration": 170,
    "start_time": "2022-09-19T20:12:09.832Z"
   },
   {
    "duration": 174,
    "start_time": "2022-09-19T20:12:10.004Z"
   },
   {
    "duration": 188,
    "start_time": "2022-09-19T20:12:10.180Z"
   },
   {
    "duration": 181,
    "start_time": "2022-09-19T20:12:10.369Z"
   },
   {
    "duration": 172,
    "start_time": "2022-09-19T20:12:10.552Z"
   },
   {
    "duration": 162,
    "start_time": "2022-09-19T20:12:10.725Z"
   },
   {
    "duration": 120,
    "start_time": "2022-09-19T20:12:10.888Z"
   },
   {
    "duration": 163,
    "start_time": "2022-09-19T20:12:11.009Z"
   },
   {
    "duration": 189,
    "start_time": "2022-09-19T20:12:11.174Z"
   },
   {
    "duration": 343,
    "start_time": "2022-09-19T20:12:11.364Z"
   },
   {
    "duration": 228,
    "start_time": "2022-09-19T20:12:11.709Z"
   },
   {
    "duration": 254,
    "start_time": "2022-09-19T20:12:11.939Z"
   },
   {
    "duration": 128,
    "start_time": "2022-09-19T20:12:12.200Z"
   },
   {
    "duration": 42,
    "start_time": "2022-09-19T20:12:12.330Z"
   },
   {
    "duration": 1365,
    "start_time": "2022-09-19T20:12:12.374Z"
   },
   {
    "duration": 17,
    "start_time": "2022-09-19T20:12:13.740Z"
   },
   {
    "duration": 3153,
    "start_time": "2022-09-19T20:15:03.860Z"
   },
   {
    "duration": 2490,
    "start_time": "2022-09-19T20:15:18.849Z"
   },
   {
    "duration": 9,
    "start_time": "2022-09-19T20:15:21.341Z"
   },
   {
    "duration": 13,
    "start_time": "2022-09-19T20:15:21.351Z"
   },
   {
    "duration": 34,
    "start_time": "2022-09-19T20:15:21.366Z"
   },
   {
    "duration": 16,
    "start_time": "2022-09-19T20:15:21.403Z"
   },
   {
    "duration": 12,
    "start_time": "2022-09-19T20:15:21.421Z"
   },
   {
    "duration": 5,
    "start_time": "2022-09-19T20:15:21.434Z"
   },
   {
    "duration": 11,
    "start_time": "2022-09-19T20:15:21.441Z"
   },
   {
    "duration": 63,
    "start_time": "2022-09-19T20:15:21.454Z"
   },
   {
    "duration": 38,
    "start_time": "2022-09-19T20:15:21.519Z"
   },
   {
    "duration": 4,
    "start_time": "2022-09-19T20:15:21.559Z"
   },
   {
    "duration": 37,
    "start_time": "2022-09-19T20:15:21.564Z"
   },
   {
    "duration": 8,
    "start_time": "2022-09-19T20:15:21.602Z"
   },
   {
    "duration": 10,
    "start_time": "2022-09-19T20:15:21.612Z"
   },
   {
    "duration": 26,
    "start_time": "2022-09-19T20:15:21.623Z"
   },
   {
    "duration": 6,
    "start_time": "2022-09-19T20:15:21.651Z"
   },
   {
    "duration": 6,
    "start_time": "2022-09-19T20:15:21.658Z"
   },
   {
    "duration": 39,
    "start_time": "2022-09-19T20:15:21.665Z"
   },
   {
    "duration": 25,
    "start_time": "2022-09-19T20:15:21.706Z"
   },
   {
    "duration": 3644,
    "start_time": "2022-09-19T20:15:21.733Z"
   },
   {
    "duration": 10,
    "start_time": "2022-09-19T20:15:25.379Z"
   },
   {
    "duration": 16,
    "start_time": "2022-09-19T20:15:25.400Z"
   },
   {
    "duration": 127,
    "start_time": "2022-09-19T20:15:25.418Z"
   },
   {
    "duration": 11,
    "start_time": "2022-09-19T20:15:25.547Z"
   },
   {
    "duration": 133,
    "start_time": "2022-09-19T20:15:25.560Z"
   },
   {
    "duration": 12,
    "start_time": "2022-09-19T20:15:25.695Z"
   },
   {
    "duration": 123,
    "start_time": "2022-09-19T20:15:25.708Z"
   },
   {
    "duration": 9,
    "start_time": "2022-09-19T20:15:25.832Z"
   },
   {
    "duration": 83,
    "start_time": "2022-09-19T20:15:25.843Z"
   },
   {
    "duration": 7,
    "start_time": "2022-09-19T20:15:25.927Z"
   },
   {
    "duration": 15,
    "start_time": "2022-09-19T20:15:25.935Z"
   },
   {
    "duration": 129,
    "start_time": "2022-09-19T20:15:25.952Z"
   },
   {
    "duration": 20,
    "start_time": "2022-09-19T20:15:26.083Z"
   },
   {
    "duration": 105,
    "start_time": "2022-09-19T20:15:26.105Z"
   },
   {
    "duration": 6,
    "start_time": "2022-09-19T20:15:26.212Z"
   },
   {
    "duration": 12,
    "start_time": "2022-09-19T20:15:26.219Z"
   },
   {
    "duration": 28,
    "start_time": "2022-09-19T20:15:26.232Z"
   },
   {
    "duration": 8,
    "start_time": "2022-09-19T20:15:26.261Z"
   },
   {
    "duration": 37,
    "start_time": "2022-09-19T20:15:26.271Z"
   },
   {
    "duration": 56,
    "start_time": "2022-09-19T20:15:26.309Z"
   },
   {
    "duration": 278,
    "start_time": "2022-09-19T20:15:26.370Z"
   },
   {
    "duration": 9,
    "start_time": "2022-09-19T20:15:26.650Z"
   },
   {
    "duration": 250,
    "start_time": "2022-09-19T20:15:26.661Z"
   },
   {
    "duration": 11,
    "start_time": "2022-09-19T20:15:26.912Z"
   },
   {
    "duration": 300,
    "start_time": "2022-09-19T20:15:26.924Z"
   },
   {
    "duration": 8,
    "start_time": "2022-09-19T20:15:27.225Z"
   },
   {
    "duration": 152,
    "start_time": "2022-09-19T20:15:27.235Z"
   },
   {
    "duration": 14,
    "start_time": "2022-09-19T20:15:27.389Z"
   },
   {
    "duration": 199,
    "start_time": "2022-09-19T20:15:27.405Z"
   },
   {
    "duration": 155,
    "start_time": "2022-09-19T20:15:27.607Z"
   },
   {
    "duration": 139,
    "start_time": "2022-09-19T20:15:27.763Z"
   },
   {
    "duration": 172,
    "start_time": "2022-09-19T20:15:27.903Z"
   },
   {
    "duration": 231,
    "start_time": "2022-09-19T20:15:28.077Z"
   },
   {
    "duration": 228,
    "start_time": "2022-09-19T20:15:28.309Z"
   },
   {
    "duration": 133,
    "start_time": "2022-09-19T20:15:28.539Z"
   },
   {
    "duration": 219,
    "start_time": "2022-09-19T20:15:28.674Z"
   },
   {
    "duration": 176,
    "start_time": "2022-09-19T20:15:28.895Z"
   },
   {
    "duration": 140,
    "start_time": "2022-09-19T20:15:29.072Z"
   },
   {
    "duration": 189,
    "start_time": "2022-09-19T20:15:29.213Z"
   },
   {
    "duration": 163,
    "start_time": "2022-09-19T20:15:29.404Z"
   },
   {
    "duration": 197,
    "start_time": "2022-09-19T20:15:29.568Z"
   },
   {
    "duration": 177,
    "start_time": "2022-09-19T20:15:29.767Z"
   },
   {
    "duration": 158,
    "start_time": "2022-09-19T20:15:29.946Z"
   },
   {
    "duration": 335,
    "start_time": "2022-09-19T20:15:30.106Z"
   },
   {
    "duration": 131,
    "start_time": "2022-09-19T20:15:30.443Z"
   },
   {
    "duration": 7,
    "start_time": "2022-09-19T20:15:30.576Z"
   },
   {
    "duration": 233,
    "start_time": "2022-09-19T20:15:30.585Z"
   },
   {
    "duration": 245,
    "start_time": "2022-09-19T20:15:30.819Z"
   },
   {
    "duration": 124,
    "start_time": "2022-09-19T20:15:31.066Z"
   },
   {
    "duration": 261,
    "start_time": "2022-09-19T20:15:31.200Z"
   },
   {
    "duration": 253,
    "start_time": "2022-09-19T20:15:31.464Z"
   },
   {
    "duration": 18,
    "start_time": "2022-09-19T20:15:31.719Z"
   },
   {
    "duration": 421,
    "start_time": "2022-09-19T20:15:31.739Z"
   },
   {
    "duration": 178,
    "start_time": "2022-09-19T20:15:32.162Z"
   },
   {
    "duration": 164,
    "start_time": "2022-09-19T20:15:32.342Z"
   },
   {
    "duration": 175,
    "start_time": "2022-09-19T20:15:32.508Z"
   },
   {
    "duration": 189,
    "start_time": "2022-09-19T20:15:32.685Z"
   },
   {
    "duration": 179,
    "start_time": "2022-09-19T20:15:32.875Z"
   },
   {
    "duration": 177,
    "start_time": "2022-09-19T20:15:33.055Z"
   },
   {
    "duration": 180,
    "start_time": "2022-09-19T20:15:33.233Z"
   },
   {
    "duration": 136,
    "start_time": "2022-09-19T20:15:33.415Z"
   },
   {
    "duration": 296,
    "start_time": "2022-09-19T20:15:33.552Z"
   },
   {
    "duration": 194,
    "start_time": "2022-09-19T20:15:33.849Z"
   },
   {
    "duration": 197,
    "start_time": "2022-09-19T20:15:34.044Z"
   },
   {
    "duration": 209,
    "start_time": "2022-09-19T20:15:34.243Z"
   },
   {
    "duration": 311,
    "start_time": "2022-09-19T20:15:34.454Z"
   },
   {
    "duration": 121,
    "start_time": "2022-09-19T20:15:34.767Z"
   },
   {
    "duration": 50,
    "start_time": "2022-09-19T20:15:34.890Z"
   },
   {
    "duration": 1430,
    "start_time": "2022-09-19T20:15:34.941Z"
   },
   {
    "duration": 16,
    "start_time": "2022-09-19T20:15:36.373Z"
   },
   {
    "duration": 18,
    "start_time": "2022-09-19T20:16:34.437Z"
   },
   {
    "duration": 9,
    "start_time": "2022-09-19T20:26:05.585Z"
   },
   {
    "duration": 10,
    "start_time": "2022-09-19T20:26:46.715Z"
   },
   {
    "duration": 9,
    "start_time": "2022-09-19T20:27:18.746Z"
   },
   {
    "duration": 8,
    "start_time": "2022-09-19T20:30:01.805Z"
   },
   {
    "duration": 8,
    "start_time": "2022-09-19T20:30:25.783Z"
   },
   {
    "duration": 14,
    "start_time": "2022-09-19T20:32:03.674Z"
   },
   {
    "duration": 15,
    "start_time": "2022-09-19T20:32:28.021Z"
   },
   {
    "duration": 43,
    "start_time": "2022-09-19T20:33:42.214Z"
   },
   {
    "duration": 13,
    "start_time": "2022-09-19T20:34:11.667Z"
   },
   {
    "duration": 65,
    "start_time": "2022-09-19T20:35:44.441Z"
   },
   {
    "duration": 423,
    "start_time": "2022-09-19T20:36:11.746Z"
   },
   {
    "duration": 31,
    "start_time": "2022-09-19T20:36:35.306Z"
   },
   {
    "duration": 376,
    "start_time": "2022-09-19T20:37:09.422Z"
   },
   {
    "duration": 807,
    "start_time": "2022-09-19T20:38:32.744Z"
   },
   {
    "duration": 28,
    "start_time": "2022-09-19T20:39:25.040Z"
   },
   {
    "duration": 21,
    "start_time": "2022-09-19T20:39:54.882Z"
   },
   {
    "duration": 341,
    "start_time": "2022-09-19T20:40:17.579Z"
   },
   {
    "duration": 403,
    "start_time": "2022-09-19T20:41:20.012Z"
   },
   {
    "duration": 597,
    "start_time": "2022-09-19T20:42:05.419Z"
   },
   {
    "duration": 14,
    "start_time": "2022-09-19T20:42:25.235Z"
   },
   {
    "duration": 14,
    "start_time": "2022-09-19T20:42:48.354Z"
   },
   {
    "duration": 13,
    "start_time": "2022-09-19T20:43:05.861Z"
   },
   {
    "duration": 17,
    "start_time": "2022-09-19T20:44:35.191Z"
   },
   {
    "duration": 19,
    "start_time": "2022-09-19T20:45:19.066Z"
   },
   {
    "duration": 28,
    "start_time": "2022-09-19T20:46:11.951Z"
   },
   {
    "duration": 19,
    "start_time": "2022-09-19T20:46:20.735Z"
   },
   {
    "duration": 21,
    "start_time": "2022-09-19T20:46:37.370Z"
   },
   {
    "duration": 2654,
    "start_time": "2022-09-19T21:28:13.845Z"
   },
   {
    "duration": 10,
    "start_time": "2022-09-19T21:28:16.502Z"
   },
   {
    "duration": 14,
    "start_time": "2022-09-19T21:28:16.514Z"
   },
   {
    "duration": 30,
    "start_time": "2022-09-19T21:28:16.531Z"
   },
   {
    "duration": 43,
    "start_time": "2022-09-19T21:28:16.563Z"
   },
   {
    "duration": 33,
    "start_time": "2022-09-19T21:28:16.608Z"
   },
   {
    "duration": 9,
    "start_time": "2022-09-19T21:28:16.642Z"
   },
   {
    "duration": 16,
    "start_time": "2022-09-19T21:28:16.652Z"
   },
   {
    "duration": 35,
    "start_time": "2022-09-19T21:28:16.669Z"
   },
   {
    "duration": 35,
    "start_time": "2022-09-19T21:28:16.707Z"
   },
   {
    "duration": 3,
    "start_time": "2022-09-19T21:28:16.744Z"
   },
   {
    "duration": 48,
    "start_time": "2022-09-19T21:28:16.749Z"
   },
   {
    "duration": 7,
    "start_time": "2022-09-19T21:28:16.798Z"
   },
   {
    "duration": 27,
    "start_time": "2022-09-19T21:28:16.806Z"
   },
   {
    "duration": 39,
    "start_time": "2022-09-19T21:28:16.834Z"
   },
   {
    "duration": 6,
    "start_time": "2022-09-19T21:28:16.875Z"
   },
   {
    "duration": 21,
    "start_time": "2022-09-19T21:28:16.882Z"
   },
   {
    "duration": 9,
    "start_time": "2022-09-19T21:28:16.904Z"
   },
   {
    "duration": 37,
    "start_time": "2022-09-19T21:28:16.914Z"
   },
   {
    "duration": 3508,
    "start_time": "2022-09-19T21:28:16.953Z"
   },
   {
    "duration": 9,
    "start_time": "2022-09-19T21:28:20.462Z"
   },
   {
    "duration": 13,
    "start_time": "2022-09-19T21:28:20.472Z"
   },
   {
    "duration": 131,
    "start_time": "2022-09-19T21:28:20.486Z"
   },
   {
    "duration": 9,
    "start_time": "2022-09-19T21:28:20.619Z"
   },
   {
    "duration": 120,
    "start_time": "2022-09-19T21:28:20.629Z"
   },
   {
    "duration": 8,
    "start_time": "2022-09-19T21:28:20.751Z"
   },
   {
    "duration": 127,
    "start_time": "2022-09-19T21:28:20.761Z"
   },
   {
    "duration": 15,
    "start_time": "2022-09-19T21:28:20.892Z"
   },
   {
    "duration": 58,
    "start_time": "2022-09-19T21:28:20.908Z"
   },
   {
    "duration": 6,
    "start_time": "2022-09-19T21:28:20.967Z"
   },
   {
    "duration": 32,
    "start_time": "2022-09-19T21:28:20.974Z"
   },
   {
    "duration": 115,
    "start_time": "2022-09-19T21:28:21.008Z"
   },
   {
    "duration": 10,
    "start_time": "2022-09-19T21:28:21.125Z"
   },
   {
    "duration": 102,
    "start_time": "2022-09-19T21:28:21.136Z"
   },
   {
    "duration": 6,
    "start_time": "2022-09-19T21:28:21.239Z"
   },
   {
    "duration": 13,
    "start_time": "2022-09-19T21:28:21.247Z"
   },
   {
    "duration": 40,
    "start_time": "2022-09-19T21:28:21.261Z"
   },
   {
    "duration": 8,
    "start_time": "2022-09-19T21:28:21.302Z"
   },
   {
    "duration": 18,
    "start_time": "2022-09-19T21:28:21.311Z"
   },
   {
    "duration": 46,
    "start_time": "2022-09-19T21:28:21.331Z"
   },
   {
    "duration": 234,
    "start_time": "2022-09-19T21:28:21.378Z"
   },
   {
    "duration": 9,
    "start_time": "2022-09-19T21:28:21.613Z"
   },
   {
    "duration": 233,
    "start_time": "2022-09-19T21:28:21.623Z"
   },
   {
    "duration": 9,
    "start_time": "2022-09-19T21:28:21.858Z"
   },
   {
    "duration": 286,
    "start_time": "2022-09-19T21:28:21.868Z"
   },
   {
    "duration": 9,
    "start_time": "2022-09-19T21:28:22.155Z"
   },
   {
    "duration": 138,
    "start_time": "2022-09-19T21:28:22.165Z"
   },
   {
    "duration": 7,
    "start_time": "2022-09-19T21:28:22.305Z"
   },
   {
    "duration": 168,
    "start_time": "2022-09-19T21:28:22.314Z"
   },
   {
    "duration": 162,
    "start_time": "2022-09-19T21:28:22.483Z"
   },
   {
    "duration": 133,
    "start_time": "2022-09-19T21:28:22.646Z"
   },
   {
    "duration": 163,
    "start_time": "2022-09-19T21:28:22.780Z"
   },
   {
    "duration": 246,
    "start_time": "2022-09-19T21:28:22.945Z"
   },
   {
    "duration": 238,
    "start_time": "2022-09-19T21:28:23.192Z"
   },
   {
    "duration": 149,
    "start_time": "2022-09-19T21:28:23.432Z"
   },
   {
    "duration": 226,
    "start_time": "2022-09-19T21:28:23.583Z"
   },
   {
    "duration": 167,
    "start_time": "2022-09-19T21:28:23.810Z"
   },
   {
    "duration": 155,
    "start_time": "2022-09-19T21:28:23.979Z"
   },
   {
    "duration": 211,
    "start_time": "2022-09-19T21:28:24.135Z"
   },
   {
    "duration": 209,
    "start_time": "2022-09-19T21:28:24.348Z"
   },
   {
    "duration": 216,
    "start_time": "2022-09-19T21:28:24.559Z"
   },
   {
    "duration": 175,
    "start_time": "2022-09-19T21:28:24.777Z"
   },
   {
    "duration": 140,
    "start_time": "2022-09-19T21:28:24.954Z"
   },
   {
    "duration": 307,
    "start_time": "2022-09-19T21:28:25.096Z"
   },
   {
    "duration": 135,
    "start_time": "2022-09-19T21:28:25.405Z"
   },
   {
    "duration": 5,
    "start_time": "2022-09-19T21:28:25.542Z"
   },
   {
    "duration": 132,
    "start_time": "2022-09-19T21:28:25.548Z"
   },
   {
    "duration": 252,
    "start_time": "2022-09-19T21:28:25.682Z"
   },
   {
    "duration": 127,
    "start_time": "2022-09-19T21:28:25.936Z"
   },
   {
    "duration": 248,
    "start_time": "2022-09-19T21:28:26.065Z"
   },
   {
    "duration": 243,
    "start_time": "2022-09-19T21:28:26.315Z"
   },
   {
    "duration": 17,
    "start_time": "2022-09-19T21:28:26.560Z"
   },
   {
    "duration": 415,
    "start_time": "2022-09-19T21:28:26.578Z"
   },
   {
    "duration": 166,
    "start_time": "2022-09-19T21:28:26.994Z"
   },
   {
    "duration": 166,
    "start_time": "2022-09-19T21:28:27.162Z"
   },
   {
    "duration": 192,
    "start_time": "2022-09-19T21:28:27.330Z"
   },
   {
    "duration": 190,
    "start_time": "2022-09-19T21:28:27.524Z"
   },
   {
    "duration": 172,
    "start_time": "2022-09-19T21:28:27.716Z"
   },
   {
    "duration": 174,
    "start_time": "2022-09-19T21:28:27.890Z"
   },
   {
    "duration": 168,
    "start_time": "2022-09-19T21:28:28.065Z"
   },
   {
    "duration": 116,
    "start_time": "2022-09-19T21:28:28.234Z"
   },
   {
    "duration": 270,
    "start_time": "2022-09-19T21:28:28.355Z"
   },
   {
    "duration": 177,
    "start_time": "2022-09-19T21:28:28.626Z"
   },
   {
    "duration": 174,
    "start_time": "2022-09-19T21:28:28.804Z"
   },
   {
    "duration": 181,
    "start_time": "2022-09-19T21:28:28.979Z"
   },
   {
    "duration": 245,
    "start_time": "2022-09-19T21:28:29.162Z"
   },
   {
    "duration": 150,
    "start_time": "2022-09-19T21:28:29.408Z"
   },
   {
    "duration": 53,
    "start_time": "2022-09-19T21:28:29.559Z"
   },
   {
    "duration": 1409,
    "start_time": "2022-09-19T21:28:29.614Z"
   },
   {
    "duration": 15,
    "start_time": "2022-09-19T21:28:31.024Z"
   },
   {
    "duration": 13,
    "start_time": "2022-09-19T21:28:31.041Z"
   },
   {
    "duration": 17,
    "start_time": "2022-09-19T21:28:31.056Z"
   },
   {
    "duration": 2410,
    "start_time": "2022-09-19T21:34:24.434Z"
   },
   {
    "duration": 10,
    "start_time": "2022-09-19T21:34:26.846Z"
   },
   {
    "duration": 28,
    "start_time": "2022-09-19T21:34:26.858Z"
   },
   {
    "duration": 30,
    "start_time": "2022-09-19T21:34:26.888Z"
   },
   {
    "duration": 18,
    "start_time": "2022-09-19T21:34:26.919Z"
   },
   {
    "duration": 11,
    "start_time": "2022-09-19T21:34:26.938Z"
   },
   {
    "duration": 5,
    "start_time": "2022-09-19T21:34:26.977Z"
   },
   {
    "duration": 10,
    "start_time": "2022-09-19T21:34:26.984Z"
   },
   {
    "duration": 28,
    "start_time": "2022-09-19T21:34:26.996Z"
   },
   {
    "duration": 59,
    "start_time": "2022-09-19T21:34:27.026Z"
   },
   {
    "duration": 5,
    "start_time": "2022-09-19T21:34:27.086Z"
   },
   {
    "duration": 30,
    "start_time": "2022-09-19T21:34:27.092Z"
   },
   {
    "duration": 6,
    "start_time": "2022-09-19T21:34:27.124Z"
   },
   {
    "duration": 13,
    "start_time": "2022-09-19T21:34:27.132Z"
   },
   {
    "duration": 56,
    "start_time": "2022-09-19T21:34:27.146Z"
   },
   {
    "duration": 7,
    "start_time": "2022-09-19T21:34:27.203Z"
   },
   {
    "duration": 5,
    "start_time": "2022-09-19T21:34:27.212Z"
   },
   {
    "duration": 7,
    "start_time": "2022-09-19T21:34:27.218Z"
   },
   {
    "duration": 52,
    "start_time": "2022-09-19T21:34:27.226Z"
   },
   {
    "duration": 3323,
    "start_time": "2022-09-19T21:34:27.280Z"
   },
   {
    "duration": 9,
    "start_time": "2022-09-19T21:34:30.604Z"
   },
   {
    "duration": 27,
    "start_time": "2022-09-19T21:34:30.615Z"
   },
   {
    "duration": 107,
    "start_time": "2022-09-19T21:34:30.644Z"
   },
   {
    "duration": 10,
    "start_time": "2022-09-19T21:34:30.753Z"
   },
   {
    "duration": 128,
    "start_time": "2022-09-19T21:34:30.765Z"
   },
   {
    "duration": 9,
    "start_time": "2022-09-19T21:34:30.894Z"
   },
   {
    "duration": 123,
    "start_time": "2022-09-19T21:34:30.904Z"
   },
   {
    "duration": 9,
    "start_time": "2022-09-19T21:34:31.031Z"
   },
   {
    "duration": 66,
    "start_time": "2022-09-19T21:34:31.041Z"
   },
   {
    "duration": 6,
    "start_time": "2022-09-19T21:34:31.108Z"
   },
   {
    "duration": 17,
    "start_time": "2022-09-19T21:34:31.115Z"
   },
   {
    "duration": 123,
    "start_time": "2022-09-19T21:34:31.133Z"
   },
   {
    "duration": 9,
    "start_time": "2022-09-19T21:34:31.258Z"
   },
   {
    "duration": 81,
    "start_time": "2022-09-19T21:34:31.277Z"
   },
   {
    "duration": 18,
    "start_time": "2022-09-19T21:34:31.360Z"
   },
   {
    "duration": 10,
    "start_time": "2022-09-19T21:34:31.379Z"
   },
   {
    "duration": 26,
    "start_time": "2022-09-19T21:34:31.390Z"
   },
   {
    "duration": 8,
    "start_time": "2022-09-19T21:34:31.418Z"
   },
   {
    "duration": 14,
    "start_time": "2022-09-19T21:34:31.428Z"
   },
   {
    "duration": 76,
    "start_time": "2022-09-19T21:34:31.443Z"
   },
   {
    "duration": 219,
    "start_time": "2022-09-19T21:34:31.521Z"
   },
   {
    "duration": 9,
    "start_time": "2022-09-19T21:34:31.741Z"
   },
   {
    "duration": 234,
    "start_time": "2022-09-19T21:34:31.752Z"
   },
   {
    "duration": 10,
    "start_time": "2022-09-19T21:34:31.988Z"
   },
   {
    "duration": 282,
    "start_time": "2022-09-19T21:34:32.000Z"
   },
   {
    "duration": 9,
    "start_time": "2022-09-19T21:34:32.284Z"
   },
   {
    "duration": 137,
    "start_time": "2022-09-19T21:34:32.294Z"
   },
   {
    "duration": 8,
    "start_time": "2022-09-19T21:34:32.433Z"
   },
   {
    "duration": 163,
    "start_time": "2022-09-19T21:34:32.443Z"
   },
   {
    "duration": 155,
    "start_time": "2022-09-19T21:34:32.608Z"
   },
   {
    "duration": 118,
    "start_time": "2022-09-19T21:34:32.765Z"
   },
   {
    "duration": 138,
    "start_time": "2022-09-19T21:34:32.885Z"
   },
   {
    "duration": 209,
    "start_time": "2022-09-19T21:34:33.025Z"
   },
   {
    "duration": 209,
    "start_time": "2022-09-19T21:34:33.235Z"
   },
   {
    "duration": 115,
    "start_time": "2022-09-19T21:34:33.446Z"
   },
   {
    "duration": 194,
    "start_time": "2022-09-19T21:34:33.562Z"
   },
   {
    "duration": 162,
    "start_time": "2022-09-19T21:34:33.757Z"
   },
   {
    "duration": 130,
    "start_time": "2022-09-19T21:34:33.920Z"
   },
   {
    "duration": 178,
    "start_time": "2022-09-19T21:34:34.051Z"
   },
   {
    "duration": 152,
    "start_time": "2022-09-19T21:34:34.230Z"
   },
   {
    "duration": 173,
    "start_time": "2022-09-19T21:34:34.383Z"
   },
   {
    "duration": 160,
    "start_time": "2022-09-19T21:34:34.558Z"
   },
   {
    "duration": 124,
    "start_time": "2022-09-19T21:34:34.720Z"
   },
   {
    "duration": 294,
    "start_time": "2022-09-19T21:34:34.845Z"
   },
   {
    "duration": 117,
    "start_time": "2022-09-19T21:34:35.140Z"
   },
   {
    "duration": 5,
    "start_time": "2022-09-19T21:34:35.259Z"
   },
   {
    "duration": 130,
    "start_time": "2022-09-19T21:34:35.265Z"
   },
   {
    "duration": 216,
    "start_time": "2022-09-19T21:34:35.396Z"
   },
   {
    "duration": 106,
    "start_time": "2022-09-19T21:34:35.614Z"
   },
   {
    "duration": 221,
    "start_time": "2022-09-19T21:34:35.722Z"
   },
   {
    "duration": 219,
    "start_time": "2022-09-19T21:34:35.944Z"
   },
   {
    "duration": 17,
    "start_time": "2022-09-19T21:34:36.165Z"
   },
   {
    "duration": 395,
    "start_time": "2022-09-19T21:34:36.183Z"
   },
   {
    "duration": 154,
    "start_time": "2022-09-19T21:34:36.579Z"
   },
   {
    "duration": 153,
    "start_time": "2022-09-19T21:34:36.734Z"
   },
   {
    "duration": 164,
    "start_time": "2022-09-19T21:34:36.888Z"
   },
   {
    "duration": 173,
    "start_time": "2022-09-19T21:34:37.054Z"
   },
   {
    "duration": 167,
    "start_time": "2022-09-19T21:34:37.229Z"
   },
   {
    "duration": 158,
    "start_time": "2022-09-19T21:34:37.397Z"
   },
   {
    "duration": 172,
    "start_time": "2022-09-19T21:34:37.556Z"
   },
   {
    "duration": 116,
    "start_time": "2022-09-19T21:34:37.729Z"
   },
   {
    "duration": 271,
    "start_time": "2022-09-19T21:34:37.849Z"
   },
   {
    "duration": 163,
    "start_time": "2022-09-19T21:34:38.121Z"
   },
   {
    "duration": 156,
    "start_time": "2022-09-19T21:34:38.286Z"
   },
   {
    "duration": 171,
    "start_time": "2022-09-19T21:34:38.443Z"
   },
   {
    "duration": 232,
    "start_time": "2022-09-19T21:34:38.615Z"
   },
   {
    "duration": 111,
    "start_time": "2022-09-19T21:34:38.848Z"
   },
   {
    "duration": 45,
    "start_time": "2022-09-19T21:34:38.960Z"
   },
   {
    "duration": 1321,
    "start_time": "2022-09-19T21:34:39.006Z"
   },
   {
    "duration": 15,
    "start_time": "2022-09-19T21:34:40.329Z"
   },
   {
    "duration": 14,
    "start_time": "2022-09-19T21:34:40.345Z"
   },
   {
    "duration": 33,
    "start_time": "2022-09-19T21:34:40.360Z"
   },
   {
    "duration": 46,
    "start_time": "2022-09-19T21:38:58.638Z"
   },
   {
    "duration": 4,
    "start_time": "2022-09-19T21:43:14.222Z"
   },
   {
    "duration": 5,
    "start_time": "2022-09-19T21:43:29.023Z"
   },
   {
    "duration": 3549,
    "start_time": "2022-09-20T07:16:38.462Z"
   },
   {
    "duration": 106,
    "start_time": "2022-09-20T07:25:10.696Z"
   },
   {
    "duration": 80,
    "start_time": "2022-09-20T07:31:12.828Z"
   },
   {
    "duration": 2990,
    "start_time": "2022-09-20T07:31:29.257Z"
   },
   {
    "duration": 12,
    "start_time": "2022-09-20T07:31:32.249Z"
   },
   {
    "duration": 19,
    "start_time": "2022-09-20T07:31:32.263Z"
   },
   {
    "duration": 42,
    "start_time": "2022-09-20T07:31:32.284Z"
   },
   {
    "duration": 28,
    "start_time": "2022-09-20T07:31:32.328Z"
   },
   {
    "duration": 13,
    "start_time": "2022-09-20T07:31:32.359Z"
   },
   {
    "duration": 6,
    "start_time": "2022-09-20T07:31:32.374Z"
   },
   {
    "duration": 20,
    "start_time": "2022-09-20T07:31:32.382Z"
   },
   {
    "duration": 37,
    "start_time": "2022-09-20T07:31:32.420Z"
   },
   {
    "duration": 46,
    "start_time": "2022-09-20T07:31:32.459Z"
   },
   {
    "duration": 6,
    "start_time": "2022-09-20T07:31:32.521Z"
   },
   {
    "duration": 46,
    "start_time": "2022-09-20T07:31:32.528Z"
   },
   {
    "duration": 9,
    "start_time": "2022-09-20T07:31:32.575Z"
   },
   {
    "duration": 13,
    "start_time": "2022-09-20T07:31:32.586Z"
   },
   {
    "duration": 58,
    "start_time": "2022-09-20T07:31:32.601Z"
   },
   {
    "duration": 8,
    "start_time": "2022-09-20T07:31:32.661Z"
   },
   {
    "duration": 16,
    "start_time": "2022-09-20T07:31:32.671Z"
   },
   {
    "duration": 7,
    "start_time": "2022-09-20T07:31:32.689Z"
   },
   {
    "duration": 59,
    "start_time": "2022-09-20T07:31:32.699Z"
   },
   {
    "duration": 4391,
    "start_time": "2022-09-20T07:31:32.759Z"
   },
   {
    "duration": 11,
    "start_time": "2022-09-20T07:31:37.151Z"
   },
   {
    "duration": 18,
    "start_time": "2022-09-20T07:31:37.164Z"
   },
   {
    "duration": 163,
    "start_time": "2022-09-20T07:31:37.184Z"
   },
   {
    "duration": 13,
    "start_time": "2022-09-20T07:31:37.349Z"
   },
   {
    "duration": 159,
    "start_time": "2022-09-20T07:31:37.364Z"
   },
   {
    "duration": 12,
    "start_time": "2022-09-20T07:31:37.525Z"
   },
   {
    "duration": 159,
    "start_time": "2022-09-20T07:31:37.539Z"
   },
   {
    "duration": 21,
    "start_time": "2022-09-20T07:31:37.702Z"
   },
   {
    "duration": 72,
    "start_time": "2022-09-20T07:31:37.725Z"
   },
   {
    "duration": 25,
    "start_time": "2022-09-20T07:31:37.798Z"
   },
   {
    "duration": 28,
    "start_time": "2022-09-20T07:31:37.830Z"
   },
   {
    "duration": 150,
    "start_time": "2022-09-20T07:31:37.860Z"
   },
   {
    "duration": 17,
    "start_time": "2022-09-20T07:31:38.012Z"
   },
   {
    "duration": 121,
    "start_time": "2022-09-20T07:31:38.032Z"
   },
   {
    "duration": 7,
    "start_time": "2022-09-20T07:31:38.154Z"
   },
   {
    "duration": 17,
    "start_time": "2022-09-20T07:31:38.163Z"
   },
   {
    "duration": 48,
    "start_time": "2022-09-20T07:31:38.182Z"
   },
   {
    "duration": 12,
    "start_time": "2022-09-20T07:31:38.232Z"
   },
   {
    "duration": 19,
    "start_time": "2022-09-20T07:31:38.245Z"
   },
   {
    "duration": 90,
    "start_time": "2022-09-20T07:31:38.266Z"
   },
   {
    "duration": 293,
    "start_time": "2022-09-20T07:31:38.358Z"
   },
   {
    "duration": 10,
    "start_time": "2022-09-20T07:31:38.652Z"
   },
   {
    "duration": 779,
    "start_time": "2022-09-20T07:31:38.664Z"
   },
   {
    "duration": 11,
    "start_time": "2022-09-20T07:31:39.445Z"
   },
   {
    "duration": 895,
    "start_time": "2022-09-20T07:31:39.458Z"
   },
   {
    "duration": 9,
    "start_time": "2022-09-20T07:31:40.355Z"
   },
   {
    "duration": 371,
    "start_time": "2022-09-20T07:31:40.365Z"
   },
   {
    "duration": 9,
    "start_time": "2022-09-20T07:31:40.738Z"
   },
   {
    "duration": 302,
    "start_time": "2022-09-20T07:31:40.749Z"
   },
   {
    "duration": 171,
    "start_time": "2022-09-20T07:31:41.053Z"
   },
   {
    "duration": 159,
    "start_time": "2022-09-20T07:31:41.226Z"
   },
   {
    "duration": 176,
    "start_time": "2022-09-20T07:31:41.386Z"
   },
   {
    "duration": 310,
    "start_time": "2022-09-20T07:31:41.564Z"
   },
   {
    "duration": 319,
    "start_time": "2022-09-20T07:31:41.878Z"
   },
   {
    "duration": 165,
    "start_time": "2022-09-20T07:31:42.199Z"
   },
   {
    "duration": 282,
    "start_time": "2022-09-20T07:31:42.367Z"
   },
   {
    "duration": 240,
    "start_time": "2022-09-20T07:31:42.651Z"
   },
   {
    "duration": 200,
    "start_time": "2022-09-20T07:31:42.893Z"
   },
   {
    "duration": 239,
    "start_time": "2022-09-20T07:31:43.095Z"
   },
   {
    "duration": 217,
    "start_time": "2022-09-20T07:31:43.336Z"
   },
   {
    "duration": 247,
    "start_time": "2022-09-20T07:31:43.554Z"
   },
   {
    "duration": 222,
    "start_time": "2022-09-20T07:31:43.803Z"
   },
   {
    "duration": 175,
    "start_time": "2022-09-20T07:31:44.027Z"
   },
   {
    "duration": 286,
    "start_time": "2022-09-20T07:31:44.203Z"
   },
   {
    "duration": 249,
    "start_time": "2022-09-20T07:31:44.491Z"
   },
   {
    "duration": 7,
    "start_time": "2022-09-20T07:31:44.742Z"
   },
   {
    "duration": 188,
    "start_time": "2022-09-20T07:31:44.750Z"
   },
   {
    "duration": 296,
    "start_time": "2022-09-20T07:31:44.940Z"
   },
   {
    "duration": 147,
    "start_time": "2022-09-20T07:31:45.238Z"
   },
   {
    "duration": 306,
    "start_time": "2022-09-20T07:31:45.387Z"
   },
   {
    "duration": 306,
    "start_time": "2022-09-20T07:31:45.695Z"
   },
   {
    "duration": 35,
    "start_time": "2022-09-20T07:31:46.003Z"
   },
   {
    "duration": 95,
    "start_time": "2022-09-20T07:31:46.040Z"
   },
   {
    "duration": 0,
    "start_time": "2022-09-20T07:31:46.139Z"
   },
   {
    "duration": 0,
    "start_time": "2022-09-20T07:31:46.140Z"
   },
   {
    "duration": 0,
    "start_time": "2022-09-20T07:31:46.141Z"
   },
   {
    "duration": 0,
    "start_time": "2022-09-20T07:31:46.142Z"
   },
   {
    "duration": 0,
    "start_time": "2022-09-20T07:31:46.143Z"
   },
   {
    "duration": 0,
    "start_time": "2022-09-20T07:31:46.145Z"
   },
   {
    "duration": 0,
    "start_time": "2022-09-20T07:31:46.146Z"
   },
   {
    "duration": 0,
    "start_time": "2022-09-20T07:31:46.147Z"
   },
   {
    "duration": 0,
    "start_time": "2022-09-20T07:31:46.148Z"
   },
   {
    "duration": 0,
    "start_time": "2022-09-20T07:31:46.149Z"
   },
   {
    "duration": 0,
    "start_time": "2022-09-20T07:31:46.150Z"
   },
   {
    "duration": 0,
    "start_time": "2022-09-20T07:31:46.151Z"
   },
   {
    "duration": 0,
    "start_time": "2022-09-20T07:31:46.152Z"
   },
   {
    "duration": 0,
    "start_time": "2022-09-20T07:31:46.153Z"
   },
   {
    "duration": 0,
    "start_time": "2022-09-20T07:31:46.154Z"
   },
   {
    "duration": 0,
    "start_time": "2022-09-20T07:31:46.155Z"
   },
   {
    "duration": 0,
    "start_time": "2022-09-20T07:31:46.157Z"
   },
   {
    "duration": 0,
    "start_time": "2022-09-20T07:31:46.158Z"
   },
   {
    "duration": 0,
    "start_time": "2022-09-20T07:31:46.159Z"
   },
   {
    "duration": 0,
    "start_time": "2022-09-20T07:31:46.160Z"
   },
   {
    "duration": 12,
    "start_time": "2022-09-20T07:32:34.238Z"
   },
   {
    "duration": 466,
    "start_time": "2022-09-20T07:33:49.679Z"
   },
   {
    "duration": 367,
    "start_time": "2022-09-20T07:35:35.042Z"
   },
   {
    "duration": 7,
    "start_time": "2022-09-20T07:35:39.842Z"
   },
   {
    "duration": 424,
    "start_time": "2022-09-20T07:36:41.488Z"
   },
   {
    "duration": 3148,
    "start_time": "2022-09-20T07:38:47.887Z"
   },
   {
    "duration": 13,
    "start_time": "2022-09-20T07:38:51.038Z"
   },
   {
    "duration": 19,
    "start_time": "2022-09-20T07:38:51.053Z"
   },
   {
    "duration": 52,
    "start_time": "2022-09-20T07:38:51.074Z"
   },
   {
    "duration": 21,
    "start_time": "2022-09-20T07:38:51.128Z"
   },
   {
    "duration": 14,
    "start_time": "2022-09-20T07:38:51.151Z"
   },
   {
    "duration": 7,
    "start_time": "2022-09-20T07:38:51.167Z"
   },
   {
    "duration": 23,
    "start_time": "2022-09-20T07:38:51.176Z"
   },
   {
    "duration": 53,
    "start_time": "2022-09-20T07:38:51.201Z"
   },
   {
    "duration": 43,
    "start_time": "2022-09-20T07:38:51.257Z"
   },
   {
    "duration": 6,
    "start_time": "2022-09-20T07:38:51.321Z"
   },
   {
    "duration": 45,
    "start_time": "2022-09-20T07:38:51.329Z"
   },
   {
    "duration": 8,
    "start_time": "2022-09-20T07:38:51.376Z"
   },
   {
    "duration": 16,
    "start_time": "2022-09-20T07:38:51.386Z"
   },
   {
    "duration": 48,
    "start_time": "2022-09-20T07:38:51.403Z"
   },
   {
    "duration": 7,
    "start_time": "2022-09-20T07:38:51.453Z"
   },
   {
    "duration": 7,
    "start_time": "2022-09-20T07:38:51.462Z"
   },
   {
    "duration": 11,
    "start_time": "2022-09-20T07:38:51.471Z"
   },
   {
    "duration": 64,
    "start_time": "2022-09-20T07:38:51.483Z"
   },
   {
    "duration": 4425,
    "start_time": "2022-09-20T07:38:51.549Z"
   },
   {
    "duration": 13,
    "start_time": "2022-09-20T07:38:55.976Z"
   },
   {
    "duration": 35,
    "start_time": "2022-09-20T07:38:55.991Z"
   },
   {
    "duration": 138,
    "start_time": "2022-09-20T07:38:56.028Z"
   },
   {
    "duration": 13,
    "start_time": "2022-09-20T07:38:56.168Z"
   },
   {
    "duration": 167,
    "start_time": "2022-09-20T07:38:56.182Z"
   },
   {
    "duration": 12,
    "start_time": "2022-09-20T07:38:56.351Z"
   },
   {
    "duration": 161,
    "start_time": "2022-09-20T07:38:56.365Z"
   },
   {
    "duration": 12,
    "start_time": "2022-09-20T07:38:56.534Z"
   },
   {
    "duration": 109,
    "start_time": "2022-09-20T07:38:56.548Z"
   },
   {
    "duration": 9,
    "start_time": "2022-09-20T07:38:56.659Z"
   },
   {
    "duration": 22,
    "start_time": "2022-09-20T07:38:56.670Z"
   },
   {
    "duration": 173,
    "start_time": "2022-09-20T07:38:56.695Z"
   },
   {
    "duration": 11,
    "start_time": "2022-09-20T07:38:56.870Z"
   },
   {
    "duration": 126,
    "start_time": "2022-09-20T07:38:56.883Z"
   },
   {
    "duration": 14,
    "start_time": "2022-09-20T07:38:57.011Z"
   },
   {
    "duration": 28,
    "start_time": "2022-09-20T07:38:57.027Z"
   },
   {
    "duration": 33,
    "start_time": "2022-09-20T07:38:57.058Z"
   },
   {
    "duration": 10,
    "start_time": "2022-09-20T07:38:57.093Z"
   },
   {
    "duration": 34,
    "start_time": "2022-09-20T07:38:57.104Z"
   },
   {
    "duration": 64,
    "start_time": "2022-09-20T07:38:57.140Z"
   },
   {
    "duration": 307,
    "start_time": "2022-09-20T07:38:57.224Z"
   },
   {
    "duration": 9,
    "start_time": "2022-09-20T07:38:57.536Z"
   },
   {
    "duration": 320,
    "start_time": "2022-09-20T07:38:57.546Z"
   },
   {
    "duration": 13,
    "start_time": "2022-09-20T07:38:57.868Z"
   },
   {
    "duration": 378,
    "start_time": "2022-09-20T07:38:57.882Z"
   },
   {
    "duration": 10,
    "start_time": "2022-09-20T07:38:58.262Z"
   },
   {
    "duration": 190,
    "start_time": "2022-09-20T07:38:58.273Z"
   },
   {
    "duration": 10,
    "start_time": "2022-09-20T07:38:58.464Z"
   },
   {
    "duration": 233,
    "start_time": "2022-09-20T07:38:58.476Z"
   },
   {
    "duration": 201,
    "start_time": "2022-09-20T07:38:58.711Z"
   },
   {
    "duration": 189,
    "start_time": "2022-09-20T07:38:58.914Z"
   },
   {
    "duration": 233,
    "start_time": "2022-09-20T07:38:59.105Z"
   },
   {
    "duration": 291,
    "start_time": "2022-09-20T07:38:59.342Z"
   },
   {
    "duration": 289,
    "start_time": "2022-09-20T07:38:59.636Z"
   },
   {
    "duration": 166,
    "start_time": "2022-09-20T07:38:59.928Z"
   },
   {
    "duration": 234,
    "start_time": "2022-09-20T07:39:00.096Z"
   },
   {
    "duration": 208,
    "start_time": "2022-09-20T07:39:00.332Z"
   },
   {
    "duration": 171,
    "start_time": "2022-09-20T07:39:00.543Z"
   },
   {
    "duration": 243,
    "start_time": "2022-09-20T07:39:00.716Z"
   },
   {
    "duration": 202,
    "start_time": "2022-09-20T07:39:00.960Z"
   },
   {
    "duration": 231,
    "start_time": "2022-09-20T07:39:01.164Z"
   },
   {
    "duration": 238,
    "start_time": "2022-09-20T07:39:01.397Z"
   },
   {
    "duration": 189,
    "start_time": "2022-09-20T07:39:01.637Z"
   },
   {
    "duration": 298,
    "start_time": "2022-09-20T07:39:01.828Z"
   },
   {
    "duration": 248,
    "start_time": "2022-09-20T07:39:02.128Z"
   },
   {
    "duration": 6,
    "start_time": "2022-09-20T07:39:02.378Z"
   },
   {
    "duration": 175,
    "start_time": "2022-09-20T07:39:02.386Z"
   },
   {
    "duration": 320,
    "start_time": "2022-09-20T07:39:02.563Z"
   },
   {
    "duration": 155,
    "start_time": "2022-09-20T07:39:02.885Z"
   },
   {
    "duration": 309,
    "start_time": "2022-09-20T07:39:03.042Z"
   },
   {
    "duration": 302,
    "start_time": "2022-09-20T07:39:03.353Z"
   },
   {
    "duration": 21,
    "start_time": "2022-09-20T07:39:03.656Z"
   },
   {
    "duration": 497,
    "start_time": "2022-09-20T07:39:03.678Z"
   },
   {
    "duration": 6,
    "start_time": "2022-09-20T07:39:04.177Z"
   },
   {
    "duration": 249,
    "start_time": "2022-09-20T07:39:04.185Z"
   },
   {
    "duration": 231,
    "start_time": "2022-09-20T07:39:04.436Z"
   },
   {
    "duration": 236,
    "start_time": "2022-09-20T07:39:04.669Z"
   },
   {
    "duration": 247,
    "start_time": "2022-09-20T07:39:04.908Z"
   },
   {
    "duration": 217,
    "start_time": "2022-09-20T07:39:05.157Z"
   },
   {
    "duration": 220,
    "start_time": "2022-09-20T07:39:05.375Z"
   },
   {
    "duration": 211,
    "start_time": "2022-09-20T07:39:05.597Z"
   },
   {
    "duration": 156,
    "start_time": "2022-09-20T07:39:05.823Z"
   },
   {
    "duration": 205,
    "start_time": "2022-09-20T07:39:05.981Z"
   },
   {
    "duration": 332,
    "start_time": "2022-09-20T07:39:06.188Z"
   },
   {
    "duration": 200,
    "start_time": "2022-09-20T07:39:06.530Z"
   },
   {
    "duration": 237,
    "start_time": "2022-09-20T07:39:06.732Z"
   },
   {
    "duration": 327,
    "start_time": "2022-09-20T07:39:06.971Z"
   },
   {
    "duration": 148,
    "start_time": "2022-09-20T07:39:07.300Z"
   },
   {
    "duration": 47,
    "start_time": "2022-09-20T07:39:07.450Z"
   },
   {
    "duration": 1686,
    "start_time": "2022-09-20T07:39:07.499Z"
   },
   {
    "duration": 113,
    "start_time": "2022-09-20T07:39:09.190Z"
   },
   {
    "duration": 0,
    "start_time": "2022-09-20T07:39:09.305Z"
   },
   {
    "duration": 0,
    "start_time": "2022-09-20T07:39:09.307Z"
   },
   {
    "duration": 291,
    "start_time": "2022-09-20T07:40:51.213Z"
   },
   {
    "duration": 170,
    "start_time": "2022-09-20T07:45:37.938Z"
   },
   {
    "duration": 23,
    "start_time": "2022-09-20T07:50:50.195Z"
   },
   {
    "duration": 13,
    "start_time": "2022-09-20T07:55:45.034Z"
   },
   {
    "duration": 15,
    "start_time": "2022-09-20T07:56:54.434Z"
   },
   {
    "duration": 14,
    "start_time": "2022-09-20T07:57:08.424Z"
   },
   {
    "duration": 13,
    "start_time": "2022-09-20T07:57:32.775Z"
   },
   {
    "duration": 51,
    "start_time": "2022-09-20T07:58:49.886Z"
   },
   {
    "duration": 17,
    "start_time": "2022-09-20T07:58:57.919Z"
   },
   {
    "duration": 20,
    "start_time": "2022-09-20T07:59:12.634Z"
   },
   {
    "duration": 16,
    "start_time": "2022-09-20T07:59:33.577Z"
   },
   {
    "duration": 13,
    "start_time": "2022-09-20T07:59:39.730Z"
   },
   {
    "duration": 21,
    "start_time": "2022-09-20T08:00:37.054Z"
   },
   {
    "duration": 20,
    "start_time": "2022-09-20T08:00:49.050Z"
   },
   {
    "duration": 16,
    "start_time": "2022-09-20T08:01:14.529Z"
   },
   {
    "duration": 228,
    "start_time": "2022-09-20T08:01:21.003Z"
   },
   {
    "duration": 61,
    "start_time": "2022-09-20T08:01:53.900Z"
   },
   {
    "duration": 366,
    "start_time": "2022-09-20T08:02:01.950Z"
   },
   {
    "duration": 2902,
    "start_time": "2022-09-20T08:03:14.909Z"
   },
   {
    "duration": 11,
    "start_time": "2022-09-20T08:03:17.814Z"
   },
   {
    "duration": 22,
    "start_time": "2022-09-20T08:03:17.827Z"
   },
   {
    "duration": 57,
    "start_time": "2022-09-20T08:03:17.852Z"
   },
   {
    "duration": 25,
    "start_time": "2022-09-20T08:03:17.911Z"
   },
   {
    "duration": 12,
    "start_time": "2022-09-20T08:03:17.938Z"
   },
   {
    "duration": 6,
    "start_time": "2022-09-20T08:03:17.952Z"
   },
   {
    "duration": 15,
    "start_time": "2022-09-20T08:03:17.959Z"
   },
   {
    "duration": 60,
    "start_time": "2022-09-20T08:03:17.976Z"
   },
   {
    "duration": 44,
    "start_time": "2022-09-20T08:03:18.039Z"
   },
   {
    "duration": 5,
    "start_time": "2022-09-20T08:03:18.084Z"
   },
   {
    "duration": 52,
    "start_time": "2022-09-20T08:03:18.091Z"
   },
   {
    "duration": 9,
    "start_time": "2022-09-20T08:03:18.144Z"
   },
   {
    "duration": 11,
    "start_time": "2022-09-20T08:03:18.155Z"
   },
   {
    "duration": 54,
    "start_time": "2022-09-20T08:03:18.168Z"
   },
   {
    "duration": 9,
    "start_time": "2022-09-20T08:03:18.224Z"
   },
   {
    "duration": 9,
    "start_time": "2022-09-20T08:03:18.235Z"
   },
   {
    "duration": 17,
    "start_time": "2022-09-20T08:03:18.245Z"
   },
   {
    "duration": 29,
    "start_time": "2022-09-20T08:03:18.264Z"
   },
   {
    "duration": 4474,
    "start_time": "2022-09-20T08:03:18.295Z"
   },
   {
    "duration": 11,
    "start_time": "2022-09-20T08:03:22.771Z"
   },
   {
    "duration": 15,
    "start_time": "2022-09-20T08:03:22.784Z"
   },
   {
    "duration": 152,
    "start_time": "2022-09-20T08:03:22.820Z"
   },
   {
    "duration": 13,
    "start_time": "2022-09-20T08:03:22.974Z"
   },
   {
    "duration": 169,
    "start_time": "2022-09-20T08:03:22.989Z"
   },
   {
    "duration": 12,
    "start_time": "2022-09-20T08:03:23.160Z"
   },
   {
    "duration": 169,
    "start_time": "2022-09-20T08:03:23.174Z"
   },
   {
    "duration": 11,
    "start_time": "2022-09-20T08:03:23.347Z"
   },
   {
    "duration": 92,
    "start_time": "2022-09-20T08:03:23.360Z"
   },
   {
    "duration": 8,
    "start_time": "2022-09-20T08:03:23.455Z"
   },
   {
    "duration": 42,
    "start_time": "2022-09-20T08:03:23.465Z"
   },
   {
    "duration": 161,
    "start_time": "2022-09-20T08:03:23.510Z"
   },
   {
    "duration": 11,
    "start_time": "2022-09-20T08:03:23.672Z"
   },
   {
    "duration": 137,
    "start_time": "2022-09-20T08:03:23.685Z"
   },
   {
    "duration": 15,
    "start_time": "2022-09-20T08:03:23.825Z"
   },
   {
    "duration": 36,
    "start_time": "2022-09-20T08:03:23.843Z"
   },
   {
    "duration": 50,
    "start_time": "2022-09-20T08:03:23.881Z"
   },
   {
    "duration": 11,
    "start_time": "2022-09-20T08:03:23.933Z"
   },
   {
    "duration": 26,
    "start_time": "2022-09-20T08:03:23.946Z"
   },
   {
    "duration": 77,
    "start_time": "2022-09-20T08:03:23.974Z"
   },
   {
    "duration": 313,
    "start_time": "2022-09-20T08:03:24.052Z"
   },
   {
    "duration": 12,
    "start_time": "2022-09-20T08:03:24.367Z"
   },
   {
    "duration": 340,
    "start_time": "2022-09-20T08:03:24.380Z"
   },
   {
    "duration": 12,
    "start_time": "2022-09-20T08:03:24.722Z"
   },
   {
    "duration": 371,
    "start_time": "2022-09-20T08:03:24.735Z"
   },
   {
    "duration": 17,
    "start_time": "2022-09-20T08:03:25.108Z"
   },
   {
    "duration": 181,
    "start_time": "2022-09-20T08:03:25.127Z"
   },
   {
    "duration": 19,
    "start_time": "2022-09-20T08:03:25.310Z"
   },
   {
    "duration": 210,
    "start_time": "2022-09-20T08:03:25.331Z"
   },
   {
    "duration": 169,
    "start_time": "2022-09-20T08:03:25.544Z"
   },
   {
    "duration": 146,
    "start_time": "2022-09-20T08:03:25.721Z"
   },
   {
    "duration": 177,
    "start_time": "2022-09-20T08:03:25.869Z"
   },
   {
    "duration": 278,
    "start_time": "2022-09-20T08:03:26.048Z"
   },
   {
    "duration": 277,
    "start_time": "2022-09-20T08:03:26.328Z"
   },
   {
    "duration": 162,
    "start_time": "2022-09-20T08:03:26.607Z"
   },
   {
    "duration": 239,
    "start_time": "2022-09-20T08:03:26.771Z"
   },
   {
    "duration": 197,
    "start_time": "2022-09-20T08:03:27.020Z"
   },
   {
    "duration": 173,
    "start_time": "2022-09-20T08:03:27.219Z"
   },
   {
    "duration": 221,
    "start_time": "2022-09-20T08:03:27.393Z"
   },
   {
    "duration": 191,
    "start_time": "2022-09-20T08:03:27.620Z"
   },
   {
    "duration": 239,
    "start_time": "2022-09-20T08:03:27.813Z"
   },
   {
    "duration": 212,
    "start_time": "2022-09-20T08:03:28.054Z"
   },
   {
    "duration": 174,
    "start_time": "2022-09-20T08:03:28.268Z"
   },
   {
    "duration": 256,
    "start_time": "2022-09-20T08:03:28.444Z"
   },
   {
    "duration": 287,
    "start_time": "2022-09-20T08:03:28.702Z"
   },
   {
    "duration": 8,
    "start_time": "2022-09-20T08:03:28.992Z"
   },
   {
    "duration": 231,
    "start_time": "2022-09-20T08:03:29.004Z"
   },
   {
    "duration": 331,
    "start_time": "2022-09-20T08:03:29.238Z"
   },
   {
    "duration": 142,
    "start_time": "2022-09-20T08:03:29.571Z"
   },
   {
    "duration": 287,
    "start_time": "2022-09-20T08:03:29.721Z"
   },
   {
    "duration": 295,
    "start_time": "2022-09-20T08:03:30.010Z"
   },
   {
    "duration": 33,
    "start_time": "2022-09-20T08:03:30.307Z"
   },
   {
    "duration": 472,
    "start_time": "2022-09-20T08:03:30.342Z"
   },
   {
    "duration": 6,
    "start_time": "2022-09-20T08:03:30.820Z"
   },
   {
    "duration": 219,
    "start_time": "2022-09-20T08:03:30.829Z"
   },
   {
    "duration": 209,
    "start_time": "2022-09-20T08:03:31.050Z"
   },
   {
    "duration": 215,
    "start_time": "2022-09-20T08:03:31.261Z"
   },
   {
    "duration": 235,
    "start_time": "2022-09-20T08:03:31.479Z"
   },
   {
    "duration": 209,
    "start_time": "2022-09-20T08:03:31.721Z"
   },
   {
    "duration": 210,
    "start_time": "2022-09-20T08:03:31.932Z"
   },
   {
    "duration": 203,
    "start_time": "2022-09-20T08:03:32.144Z"
   },
   {
    "duration": 146,
    "start_time": "2022-09-20T08:03:32.353Z"
   },
   {
    "duration": 229,
    "start_time": "2022-09-20T08:03:32.501Z"
   },
   {
    "duration": 334,
    "start_time": "2022-09-20T08:03:32.733Z"
   },
   {
    "duration": 197,
    "start_time": "2022-09-20T08:03:33.069Z"
   },
   {
    "duration": 220,
    "start_time": "2022-09-20T08:03:33.268Z"
   },
   {
    "duration": 172,
    "start_time": "2022-09-20T08:03:33.490Z"
   },
   {
    "duration": 167,
    "start_time": "2022-09-20T08:03:33.664Z"
   },
   {
    "duration": 317,
    "start_time": "2022-09-20T08:03:33.834Z"
   },
   {
    "duration": 159,
    "start_time": "2022-09-20T08:03:34.154Z"
   },
   {
    "duration": 47,
    "start_time": "2022-09-20T08:03:34.321Z"
   },
   {
    "duration": 1703,
    "start_time": "2022-09-20T08:03:34.371Z"
   },
   {
    "duration": 17,
    "start_time": "2022-09-20T08:03:36.076Z"
   },
   {
    "duration": 35,
    "start_time": "2022-09-20T08:03:36.095Z"
   },
   {
    "duration": 13,
    "start_time": "2022-09-20T08:03:36.132Z"
   },
   {
    "duration": 346,
    "start_time": "2022-09-20T08:03:36.147Z"
   },
   {
    "duration": 26,
    "start_time": "2022-09-20T09:00:29.788Z"
   },
   {
    "duration": 21,
    "start_time": "2022-09-20T09:01:11.783Z"
   },
   {
    "duration": 17,
    "start_time": "2022-09-20T09:21:07.595Z"
   },
   {
    "duration": 26,
    "start_time": "2022-09-20T09:21:19.107Z"
   },
   {
    "duration": 15,
    "start_time": "2022-09-20T09:21:58.210Z"
   },
   {
    "duration": 756,
    "start_time": "2022-09-20T09:22:28.819Z"
   },
   {
    "duration": 15,
    "start_time": "2022-09-20T09:24:47.495Z"
   },
   {
    "duration": 51,
    "start_time": "2022-09-20T09:27:54.736Z"
   },
   {
    "duration": 337,
    "start_time": "2022-09-20T09:31:10.912Z"
   },
   {
    "duration": 251,
    "start_time": "2022-09-20T09:31:40.547Z"
   },
   {
    "duration": 10,
    "start_time": "2022-09-20T09:32:45.915Z"
   },
   {
    "duration": 228,
    "start_time": "2022-09-20T09:33:28.295Z"
   },
   {
    "duration": 275,
    "start_time": "2022-09-20T09:34:28.499Z"
   },
   {
    "duration": 15,
    "start_time": "2022-09-20T09:35:09.421Z"
   },
   {
    "duration": 611,
    "start_time": "2022-09-20T09:37:01.022Z"
   },
   {
    "duration": 488,
    "start_time": "2022-09-20T09:37:24.009Z"
   },
   {
    "duration": 24,
    "start_time": "2022-09-20T09:38:17.882Z"
   },
   {
    "duration": 2939,
    "start_time": "2022-09-20T14:18:33.042Z"
   },
   {
    "duration": 14,
    "start_time": "2022-09-20T14:18:35.983Z"
   },
   {
    "duration": 22,
    "start_time": "2022-09-20T14:18:35.999Z"
   },
   {
    "duration": 47,
    "start_time": "2022-09-20T14:18:36.023Z"
   },
   {
    "duration": 21,
    "start_time": "2022-09-20T14:18:36.072Z"
   },
   {
    "duration": 37,
    "start_time": "2022-09-20T14:18:36.095Z"
   },
   {
    "duration": 12,
    "start_time": "2022-09-20T14:18:36.133Z"
   },
   {
    "duration": 28,
    "start_time": "2022-09-20T14:18:36.146Z"
   },
   {
    "duration": 45,
    "start_time": "2022-09-20T14:18:36.176Z"
   },
   {
    "duration": 54,
    "start_time": "2022-09-20T14:18:36.224Z"
   },
   {
    "duration": 6,
    "start_time": "2022-09-20T14:18:36.280Z"
   },
   {
    "duration": 58,
    "start_time": "2022-09-20T14:18:36.288Z"
   },
   {
    "duration": 11,
    "start_time": "2022-09-20T14:18:36.348Z"
   },
   {
    "duration": 13,
    "start_time": "2022-09-20T14:18:36.360Z"
   },
   {
    "duration": 50,
    "start_time": "2022-09-20T14:18:36.375Z"
   },
   {
    "duration": 11,
    "start_time": "2022-09-20T14:18:36.436Z"
   },
   {
    "duration": 6,
    "start_time": "2022-09-20T14:18:36.449Z"
   },
   {
    "duration": 11,
    "start_time": "2022-09-20T14:18:36.457Z"
   },
   {
    "duration": 30,
    "start_time": "2022-09-20T14:18:36.470Z"
   },
   {
    "duration": 3980,
    "start_time": "2022-09-20T14:18:36.502Z"
   },
   {
    "duration": 11,
    "start_time": "2022-09-20T14:18:40.484Z"
   },
   {
    "duration": 33,
    "start_time": "2022-09-20T14:18:40.497Z"
   },
   {
    "duration": 124,
    "start_time": "2022-09-20T14:18:40.532Z"
   },
   {
    "duration": 12,
    "start_time": "2022-09-20T14:18:40.659Z"
   },
   {
    "duration": 134,
    "start_time": "2022-09-20T14:18:40.673Z"
   },
   {
    "duration": 29,
    "start_time": "2022-09-20T14:18:40.808Z"
   },
   {
    "duration": 119,
    "start_time": "2022-09-20T14:18:40.838Z"
   },
   {
    "duration": 10,
    "start_time": "2022-09-20T14:18:40.961Z"
   },
   {
    "duration": 92,
    "start_time": "2022-09-20T14:18:40.972Z"
   },
   {
    "duration": 8,
    "start_time": "2022-09-20T14:18:41.065Z"
   },
   {
    "duration": 18,
    "start_time": "2022-09-20T14:18:41.074Z"
   },
   {
    "duration": 144,
    "start_time": "2022-09-20T14:18:41.093Z"
   },
   {
    "duration": 11,
    "start_time": "2022-09-20T14:18:41.239Z"
   },
   {
    "duration": 121,
    "start_time": "2022-09-20T14:18:41.252Z"
   },
   {
    "duration": 8,
    "start_time": "2022-09-20T14:18:41.375Z"
   },
   {
    "duration": 15,
    "start_time": "2022-09-20T14:18:41.384Z"
   },
   {
    "duration": 46,
    "start_time": "2022-09-20T14:18:41.400Z"
   },
   {
    "duration": 9,
    "start_time": "2022-09-20T14:18:41.448Z"
   },
   {
    "duration": 36,
    "start_time": "2022-09-20T14:18:41.459Z"
   },
   {
    "duration": 74,
    "start_time": "2022-09-20T14:18:41.497Z"
   },
   {
    "duration": 301,
    "start_time": "2022-09-20T14:18:41.574Z"
   },
   {
    "duration": 10,
    "start_time": "2022-09-20T14:18:41.876Z"
   },
   {
    "duration": 295,
    "start_time": "2022-09-20T14:18:41.888Z"
   },
   {
    "duration": 9,
    "start_time": "2022-09-20T14:18:42.185Z"
   },
   {
    "duration": 340,
    "start_time": "2022-09-20T14:18:42.195Z"
   },
   {
    "duration": 10,
    "start_time": "2022-09-20T14:18:42.542Z"
   },
   {
    "duration": 140,
    "start_time": "2022-09-20T14:18:42.553Z"
   },
   {
    "duration": 9,
    "start_time": "2022-09-20T14:18:42.695Z"
   },
   {
    "duration": 191,
    "start_time": "2022-09-20T14:18:42.706Z"
   },
   {
    "duration": 186,
    "start_time": "2022-09-20T14:18:42.899Z"
   },
   {
    "duration": 149,
    "start_time": "2022-09-20T14:18:43.087Z"
   },
   {
    "duration": 164,
    "start_time": "2022-09-20T14:18:43.239Z"
   },
   {
    "duration": 293,
    "start_time": "2022-09-20T14:18:43.405Z"
   },
   {
    "duration": 269,
    "start_time": "2022-09-20T14:18:43.700Z"
   },
   {
    "duration": 226,
    "start_time": "2022-09-20T14:18:43.970Z"
   },
   {
    "duration": 143,
    "start_time": "2022-09-20T14:18:44.198Z"
   },
   {
    "duration": 205,
    "start_time": "2022-09-20T14:18:44.343Z"
   },
   {
    "duration": 161,
    "start_time": "2022-09-20T14:18:44.549Z"
   },
   {
    "duration": 226,
    "start_time": "2022-09-20T14:18:44.712Z"
   },
   {
    "duration": 206,
    "start_time": "2022-09-20T14:18:44.940Z"
   },
   {
    "duration": 215,
    "start_time": "2022-09-20T14:18:45.148Z"
   },
   {
    "duration": 201,
    "start_time": "2022-09-20T14:18:45.364Z"
   },
   {
    "duration": 172,
    "start_time": "2022-09-20T14:18:45.566Z"
   },
   {
    "duration": 414,
    "start_time": "2022-09-20T14:18:45.740Z"
   },
   {
    "duration": 190,
    "start_time": "2022-09-20T14:18:46.155Z"
   },
   {
    "duration": 9,
    "start_time": "2022-09-20T14:18:46.347Z"
   },
   {
    "duration": 195,
    "start_time": "2022-09-20T14:18:46.358Z"
   },
   {
    "duration": 315,
    "start_time": "2022-09-20T14:18:46.557Z"
   },
   {
    "duration": 129,
    "start_time": "2022-09-20T14:18:46.873Z"
   },
   {
    "duration": 273,
    "start_time": "2022-09-20T14:18:47.004Z"
   },
   {
    "duration": 307,
    "start_time": "2022-09-20T14:18:47.279Z"
   },
   {
    "duration": 25,
    "start_time": "2022-09-20T14:18:47.588Z"
   },
   {
    "duration": 468,
    "start_time": "2022-09-20T14:18:47.622Z"
   },
   {
    "duration": 5,
    "start_time": "2022-09-20T14:18:48.092Z"
   },
   {
    "duration": 195,
    "start_time": "2022-09-20T14:18:48.098Z"
   },
   {
    "duration": 187,
    "start_time": "2022-09-20T14:18:48.295Z"
   },
   {
    "duration": 214,
    "start_time": "2022-09-20T14:18:48.483Z"
   },
   {
    "duration": 214,
    "start_time": "2022-09-20T14:18:48.699Z"
   },
   {
    "duration": 189,
    "start_time": "2022-09-20T14:18:48.915Z"
   },
   {
    "duration": 182,
    "start_time": "2022-09-20T14:18:49.106Z"
   },
   {
    "duration": 184,
    "start_time": "2022-09-20T14:18:49.290Z"
   },
   {
    "duration": 120,
    "start_time": "2022-09-20T14:18:49.479Z"
   },
   {
    "duration": 296,
    "start_time": "2022-09-20T14:18:49.600Z"
   },
   {
    "duration": 222,
    "start_time": "2022-09-20T14:18:49.897Z"
   },
   {
    "duration": 179,
    "start_time": "2022-09-20T14:18:50.122Z"
   },
   {
    "duration": 230,
    "start_time": "2022-09-20T14:18:50.303Z"
   },
   {
    "duration": 147,
    "start_time": "2022-09-20T14:18:50.542Z"
   },
   {
    "duration": 155,
    "start_time": "2022-09-20T14:18:50.690Z"
   },
   {
    "duration": 278,
    "start_time": "2022-09-20T14:18:50.847Z"
   },
   {
    "duration": 117,
    "start_time": "2022-09-20T14:18:51.128Z"
   },
   {
    "duration": 39,
    "start_time": "2022-09-20T14:18:51.246Z"
   },
   {
    "duration": 1487,
    "start_time": "2022-09-20T14:18:51.286Z"
   },
   {
    "duration": 18,
    "start_time": "2022-09-20T14:18:52.775Z"
   },
   {
    "duration": 31,
    "start_time": "2022-09-20T14:18:52.795Z"
   },
   {
    "duration": 16,
    "start_time": "2022-09-20T14:18:52.828Z"
   },
   {
    "duration": 22,
    "start_time": "2022-09-20T14:18:52.845Z"
   },
   {
    "duration": 90,
    "start_time": "2022-09-20T14:18:52.868Z"
   },
   {
    "duration": 75,
    "start_time": "2022-09-20T14:22:04.886Z"
   },
   {
    "duration": 1834,
    "start_time": "2022-09-20T14:34:02.353Z"
   },
   {
    "duration": 15,
    "start_time": "2022-09-20T14:34:16.662Z"
   },
   {
    "duration": 16,
    "start_time": "2022-09-20T14:35:15.343Z"
   },
   {
    "duration": 102,
    "start_time": "2022-09-20T14:41:05.634Z"
   },
   {
    "duration": 13,
    "start_time": "2022-09-20T14:41:37.001Z"
   },
   {
    "duration": 12,
    "start_time": "2022-09-20T14:41:48.214Z"
   },
   {
    "duration": 26,
    "start_time": "2022-09-20T14:42:11.223Z"
   },
   {
    "duration": 47,
    "start_time": "2022-09-20T14:52:36.785Z"
   },
   {
    "duration": 300,
    "start_time": "2022-09-20T14:54:40.504Z"
   },
   {
    "duration": 88,
    "start_time": "2022-09-20T14:55:04.958Z"
   },
   {
    "duration": 27,
    "start_time": "2022-09-20T14:55:12.342Z"
   },
   {
    "duration": 18,
    "start_time": "2022-09-20T14:56:45.855Z"
   },
   {
    "duration": 19,
    "start_time": "2022-09-20T14:56:58.561Z"
   },
   {
    "duration": 22,
    "start_time": "2022-09-20T14:57:31.463Z"
   },
   {
    "duration": 18,
    "start_time": "2022-09-20T14:57:51.840Z"
   },
   {
    "duration": 18,
    "start_time": "2022-09-20T14:58:23.217Z"
   },
   {
    "duration": 137,
    "start_time": "2022-09-20T14:59:09.421Z"
   },
   {
    "duration": 17,
    "start_time": "2022-09-20T14:59:32.603Z"
   },
   {
    "duration": 15,
    "start_time": "2022-09-20T14:59:53.701Z"
   },
   {
    "duration": 173,
    "start_time": "2022-09-20T15:02:43.912Z"
   },
   {
    "duration": 188,
    "start_time": "2022-09-20T15:03:58.594Z"
   },
   {
    "duration": 19,
    "start_time": "2022-09-20T15:04:14.536Z"
   },
   {
    "duration": 21,
    "start_time": "2022-09-20T15:04:23.435Z"
   },
   {
    "duration": 20,
    "start_time": "2022-09-20T15:04:56.401Z"
   },
   {
    "duration": 28,
    "start_time": "2022-09-20T15:06:42.782Z"
   },
   {
    "duration": 17,
    "start_time": "2022-09-20T15:09:20.519Z"
   },
   {
    "duration": 21,
    "start_time": "2022-09-20T15:10:52.363Z"
   },
   {
    "duration": 157,
    "start_time": "2022-09-20T15:11:22.709Z"
   },
   {
    "duration": 18,
    "start_time": "2022-09-20T15:12:18.398Z"
   },
   {
    "duration": 114,
    "start_time": "2022-09-20T15:12:46.687Z"
   },
   {
    "duration": 20,
    "start_time": "2022-09-20T15:13:40.643Z"
   },
   {
    "duration": 236,
    "start_time": "2022-09-20T15:14:27.751Z"
   },
   {
    "duration": 14,
    "start_time": "2022-09-20T15:15:21.383Z"
   },
   {
    "duration": 131,
    "start_time": "2022-09-20T15:16:07.069Z"
   },
   {
    "duration": 128,
    "start_time": "2022-09-20T15:16:34.240Z"
   },
   {
    "duration": 155,
    "start_time": "2022-09-20T15:24:21.563Z"
   },
   {
    "duration": 2459,
    "start_time": "2022-09-20T15:27:06.989Z"
   },
   {
    "duration": 10,
    "start_time": "2022-09-20T15:27:09.450Z"
   },
   {
    "duration": 17,
    "start_time": "2022-09-20T15:27:09.462Z"
   },
   {
    "duration": 35,
    "start_time": "2022-09-20T15:27:09.481Z"
   },
   {
    "duration": 20,
    "start_time": "2022-09-20T15:27:09.517Z"
   },
   {
    "duration": 11,
    "start_time": "2022-09-20T15:27:09.539Z"
   },
   {
    "duration": 7,
    "start_time": "2022-09-20T15:27:09.552Z"
   },
   {
    "duration": 10,
    "start_time": "2022-09-20T15:27:09.561Z"
   },
   {
    "duration": 58,
    "start_time": "2022-09-20T15:27:09.572Z"
   },
   {
    "duration": 45,
    "start_time": "2022-09-20T15:27:09.633Z"
   },
   {
    "duration": 5,
    "start_time": "2022-09-20T15:27:09.679Z"
   },
   {
    "duration": 45,
    "start_time": "2022-09-20T15:27:09.685Z"
   },
   {
    "duration": 9,
    "start_time": "2022-09-20T15:27:09.732Z"
   },
   {
    "duration": 15,
    "start_time": "2022-09-20T15:27:09.743Z"
   },
   {
    "duration": 27,
    "start_time": "2022-09-20T15:27:09.759Z"
   },
   {
    "duration": 8,
    "start_time": "2022-09-20T15:27:09.788Z"
   },
   {
    "duration": 6,
    "start_time": "2022-09-20T15:27:09.822Z"
   },
   {
    "duration": 7,
    "start_time": "2022-09-20T15:27:09.830Z"
   },
   {
    "duration": 27,
    "start_time": "2022-09-20T15:27:09.839Z"
   },
   {
    "duration": 3705,
    "start_time": "2022-09-20T15:27:09.868Z"
   },
   {
    "duration": 11,
    "start_time": "2022-09-20T15:27:13.575Z"
   },
   {
    "duration": 13,
    "start_time": "2022-09-20T15:27:13.588Z"
   },
   {
    "duration": 129,
    "start_time": "2022-09-20T15:27:13.621Z"
   },
   {
    "duration": 12,
    "start_time": "2022-09-20T15:27:13.752Z"
   },
   {
    "duration": 148,
    "start_time": "2022-09-20T15:27:13.766Z"
   },
   {
    "duration": 10,
    "start_time": "2022-09-20T15:27:13.921Z"
   },
   {
    "duration": 132,
    "start_time": "2022-09-20T15:27:13.932Z"
   },
   {
    "duration": 11,
    "start_time": "2022-09-20T15:27:14.067Z"
   },
   {
    "duration": 76,
    "start_time": "2022-09-20T15:27:14.079Z"
   },
   {
    "duration": 7,
    "start_time": "2022-09-20T15:27:14.156Z"
   },
   {
    "duration": 13,
    "start_time": "2022-09-20T15:27:14.164Z"
   },
   {
    "duration": 134,
    "start_time": "2022-09-20T15:27:14.178Z"
   },
   {
    "duration": 16,
    "start_time": "2022-09-20T15:27:14.314Z"
   },
   {
    "duration": 105,
    "start_time": "2022-09-20T15:27:14.331Z"
   },
   {
    "duration": 7,
    "start_time": "2022-09-20T15:27:14.437Z"
   },
   {
    "duration": 12,
    "start_time": "2022-09-20T15:27:14.445Z"
   },
   {
    "duration": 26,
    "start_time": "2022-09-20T15:27:14.458Z"
   },
   {
    "duration": 7,
    "start_time": "2022-09-20T15:27:14.486Z"
   },
   {
    "duration": 39,
    "start_time": "2022-09-20T15:27:14.494Z"
   },
   {
    "duration": 52,
    "start_time": "2022-09-20T15:27:14.534Z"
   },
   {
    "duration": 233,
    "start_time": "2022-09-20T15:27:14.588Z"
   },
   {
    "duration": 8,
    "start_time": "2022-09-20T15:27:14.823Z"
   },
   {
    "duration": 256,
    "start_time": "2022-09-20T15:27:14.833Z"
   },
   {
    "duration": 9,
    "start_time": "2022-09-20T15:27:15.090Z"
   },
   {
    "duration": 331,
    "start_time": "2022-09-20T15:27:15.101Z"
   },
   {
    "duration": 12,
    "start_time": "2022-09-20T15:27:15.433Z"
   },
   {
    "duration": 158,
    "start_time": "2022-09-20T15:27:15.447Z"
   },
   {
    "duration": 8,
    "start_time": "2022-09-20T15:27:15.607Z"
   },
   {
    "duration": 177,
    "start_time": "2022-09-20T15:27:15.622Z"
   },
   {
    "duration": 156,
    "start_time": "2022-09-20T15:27:15.800Z"
   },
   {
    "duration": 164,
    "start_time": "2022-09-20T15:27:15.958Z"
   },
   {
    "duration": 176,
    "start_time": "2022-09-20T15:27:16.124Z"
   },
   {
    "duration": 240,
    "start_time": "2022-09-20T15:27:16.302Z"
   },
   {
    "duration": 230,
    "start_time": "2022-09-20T15:27:16.544Z"
   },
   {
    "duration": 129,
    "start_time": "2022-09-20T15:27:16.775Z"
   },
   {
    "duration": 215,
    "start_time": "2022-09-20T15:27:16.907Z"
   },
   {
    "duration": 180,
    "start_time": "2022-09-20T15:27:17.123Z"
   },
   {
    "duration": 154,
    "start_time": "2022-09-20T15:27:17.304Z"
   },
   {
    "duration": 194,
    "start_time": "2022-09-20T15:27:17.460Z"
   },
   {
    "duration": 169,
    "start_time": "2022-09-20T15:27:17.656Z"
   },
   {
    "duration": 192,
    "start_time": "2022-09-20T15:27:17.827Z"
   },
   {
    "duration": 180,
    "start_time": "2022-09-20T15:27:18.022Z"
   },
   {
    "duration": 152,
    "start_time": "2022-09-20T15:27:18.203Z"
   },
   {
    "duration": 216,
    "start_time": "2022-09-20T15:27:18.356Z"
   },
   {
    "duration": 200,
    "start_time": "2022-09-20T15:27:18.574Z"
   },
   {
    "duration": 6,
    "start_time": "2022-09-20T15:27:18.775Z"
   },
   {
    "duration": 128,
    "start_time": "2022-09-20T15:27:18.782Z"
   },
   {
    "duration": 269,
    "start_time": "2022-09-20T15:27:18.912Z"
   },
   {
    "duration": 113,
    "start_time": "2022-09-20T15:27:19.183Z"
   },
   {
    "duration": 238,
    "start_time": "2022-09-20T15:27:19.298Z"
   },
   {
    "duration": 223,
    "start_time": "2022-09-20T15:27:19.537Z"
   },
   {
    "duration": 23,
    "start_time": "2022-09-20T15:27:19.762Z"
   },
   {
    "duration": 401,
    "start_time": "2022-09-20T15:27:19.787Z"
   },
   {
    "duration": 5,
    "start_time": "2022-09-20T15:27:20.190Z"
   },
   {
    "duration": 163,
    "start_time": "2022-09-20T15:27:20.197Z"
   },
   {
    "duration": 164,
    "start_time": "2022-09-20T15:27:20.362Z"
   },
   {
    "duration": 177,
    "start_time": "2022-09-20T15:27:20.527Z"
   },
   {
    "duration": 217,
    "start_time": "2022-09-20T15:27:20.706Z"
   },
   {
    "duration": 209,
    "start_time": "2022-09-20T15:27:20.924Z"
   },
   {
    "duration": 193,
    "start_time": "2022-09-20T15:27:21.134Z"
   },
   {
    "duration": 198,
    "start_time": "2022-09-20T15:27:21.328Z"
   },
   {
    "duration": 132,
    "start_time": "2022-09-20T15:27:21.532Z"
   },
   {
    "duration": 174,
    "start_time": "2022-09-20T15:27:21.665Z"
   },
   {
    "duration": 299,
    "start_time": "2022-09-20T15:27:21.841Z"
   },
   {
    "duration": 186,
    "start_time": "2022-09-20T15:27:22.142Z"
   },
   {
    "duration": 206,
    "start_time": "2022-09-20T15:27:22.330Z"
   },
   {
    "duration": 156,
    "start_time": "2022-09-20T15:27:22.538Z"
   },
   {
    "duration": 185,
    "start_time": "2022-09-20T15:27:22.696Z"
   },
   {
    "duration": 295,
    "start_time": "2022-09-20T15:27:22.883Z"
   },
   {
    "duration": 126,
    "start_time": "2022-09-20T15:27:23.180Z"
   },
   {
    "duration": 69,
    "start_time": "2022-09-20T15:27:23.307Z"
   },
   {
    "duration": 1523,
    "start_time": "2022-09-20T15:27:23.378Z"
   },
   {
    "duration": 22,
    "start_time": "2022-09-20T15:27:24.903Z"
   },
   {
    "duration": 13,
    "start_time": "2022-09-20T15:27:24.926Z"
   },
   {
    "duration": 11,
    "start_time": "2022-09-20T15:27:24.941Z"
   },
   {
    "duration": 30,
    "start_time": "2022-09-20T15:27:24.954Z"
   },
   {
    "duration": 172,
    "start_time": "2022-09-20T15:27:24.985Z"
   },
   {
    "duration": 150,
    "start_time": "2022-09-20T15:36:52.555Z"
   },
   {
    "duration": 147,
    "start_time": "2022-09-20T15:37:20.087Z"
   },
   {
    "duration": 2534,
    "start_time": "2022-09-20T16:25:09.231Z"
   },
   {
    "duration": 9,
    "start_time": "2022-09-20T16:25:11.768Z"
   },
   {
    "duration": 26,
    "start_time": "2022-09-20T16:25:11.778Z"
   },
   {
    "duration": 28,
    "start_time": "2022-09-20T16:25:11.806Z"
   },
   {
    "duration": 21,
    "start_time": "2022-09-20T16:25:11.835Z"
   },
   {
    "duration": 10,
    "start_time": "2022-09-20T16:25:11.858Z"
   },
   {
    "duration": 5,
    "start_time": "2022-09-20T16:25:11.870Z"
   },
   {
    "duration": 8,
    "start_time": "2022-09-20T16:25:11.900Z"
   },
   {
    "duration": 26,
    "start_time": "2022-09-20T16:25:11.910Z"
   },
   {
    "duration": 37,
    "start_time": "2022-09-20T16:25:11.939Z"
   },
   {
    "duration": 4,
    "start_time": "2022-09-20T16:25:12.000Z"
   },
   {
    "duration": 30,
    "start_time": "2022-09-20T16:25:12.006Z"
   },
   {
    "duration": 7,
    "start_time": "2022-09-20T16:25:12.037Z"
   },
   {
    "duration": 11,
    "start_time": "2022-09-20T16:25:12.045Z"
   },
   {
    "duration": 53,
    "start_time": "2022-09-20T16:25:12.058Z"
   },
   {
    "duration": 7,
    "start_time": "2022-09-20T16:25:12.112Z"
   },
   {
    "duration": 5,
    "start_time": "2022-09-20T16:25:12.120Z"
   },
   {
    "duration": 7,
    "start_time": "2022-09-20T16:25:12.126Z"
   },
   {
    "duration": 25,
    "start_time": "2022-09-20T16:25:12.135Z"
   },
   {
    "duration": 3668,
    "start_time": "2022-09-20T16:25:12.161Z"
   },
   {
    "duration": 9,
    "start_time": "2022-09-20T16:25:15.830Z"
   },
   {
    "duration": 14,
    "start_time": "2022-09-20T16:25:15.841Z"
   },
   {
    "duration": 145,
    "start_time": "2022-09-20T16:25:15.857Z"
   },
   {
    "duration": 10,
    "start_time": "2022-09-20T16:25:16.004Z"
   },
   {
    "duration": 126,
    "start_time": "2022-09-20T16:25:16.015Z"
   },
   {
    "duration": 9,
    "start_time": "2022-09-20T16:25:16.142Z"
   },
   {
    "duration": 129,
    "start_time": "2022-09-20T16:25:16.152Z"
   },
   {
    "duration": 16,
    "start_time": "2022-09-20T16:25:16.285Z"
   },
   {
    "duration": 63,
    "start_time": "2022-09-20T16:25:16.302Z"
   },
   {
    "duration": 7,
    "start_time": "2022-09-20T16:25:16.367Z"
   },
   {
    "duration": 32,
    "start_time": "2022-09-20T16:25:16.375Z"
   },
   {
    "duration": 123,
    "start_time": "2022-09-20T16:25:16.408Z"
   },
   {
    "duration": 9,
    "start_time": "2022-09-20T16:25:16.533Z"
   },
   {
    "duration": 119,
    "start_time": "2022-09-20T16:25:16.544Z"
   },
   {
    "duration": 6,
    "start_time": "2022-09-20T16:25:16.665Z"
   },
   {
    "duration": 14,
    "start_time": "2022-09-20T16:25:16.673Z"
   },
   {
    "duration": 28,
    "start_time": "2022-09-20T16:25:16.701Z"
   },
   {
    "duration": 10,
    "start_time": "2022-09-20T16:25:16.731Z"
   },
   {
    "duration": 16,
    "start_time": "2022-09-20T16:25:16.743Z"
   },
   {
    "duration": 82,
    "start_time": "2022-09-20T16:25:16.760Z"
   },
   {
    "duration": 236,
    "start_time": "2022-09-20T16:25:16.844Z"
   },
   {
    "duration": 19,
    "start_time": "2022-09-20T16:25:17.082Z"
   },
   {
    "duration": 262,
    "start_time": "2022-09-20T16:25:17.103Z"
   },
   {
    "duration": 12,
    "start_time": "2022-09-20T16:25:17.367Z"
   },
   {
    "duration": 320,
    "start_time": "2022-09-20T16:25:17.380Z"
   },
   {
    "duration": 7,
    "start_time": "2022-09-20T16:25:17.702Z"
   },
   {
    "duration": 146,
    "start_time": "2022-09-20T16:25:17.711Z"
   },
   {
    "duration": 8,
    "start_time": "2022-09-20T16:25:17.859Z"
   },
   {
    "duration": 185,
    "start_time": "2022-09-20T16:25:17.868Z"
   },
   {
    "duration": 138,
    "start_time": "2022-09-20T16:25:18.054Z"
   },
   {
    "duration": 118,
    "start_time": "2022-09-20T16:25:18.200Z"
   },
   {
    "duration": 152,
    "start_time": "2022-09-20T16:25:18.319Z"
   },
   {
    "duration": 243,
    "start_time": "2022-09-20T16:25:18.473Z"
   },
   {
    "duration": 223,
    "start_time": "2022-09-20T16:25:18.718Z"
   },
   {
    "duration": 124,
    "start_time": "2022-09-20T16:25:18.943Z"
   },
   {
    "duration": 188,
    "start_time": "2022-09-20T16:25:19.068Z"
   },
   {
    "duration": 165,
    "start_time": "2022-09-20T16:25:19.258Z"
   },
   {
    "duration": 157,
    "start_time": "2022-09-20T16:25:19.424Z"
   },
   {
    "duration": 195,
    "start_time": "2022-09-20T16:25:19.582Z"
   },
   {
    "duration": 178,
    "start_time": "2022-09-20T16:25:19.779Z"
   },
   {
    "duration": 185,
    "start_time": "2022-09-20T16:25:19.959Z"
   },
   {
    "duration": 193,
    "start_time": "2022-09-20T16:25:20.145Z"
   },
   {
    "duration": 165,
    "start_time": "2022-09-20T16:25:20.339Z"
   },
   {
    "duration": 239,
    "start_time": "2022-09-20T16:25:20.506Z"
   },
   {
    "duration": 216,
    "start_time": "2022-09-20T16:25:20.746Z"
   },
   {
    "duration": 6,
    "start_time": "2022-09-20T16:25:20.964Z"
   },
   {
    "duration": 148,
    "start_time": "2022-09-20T16:25:20.971Z"
   },
   {
    "duration": 238,
    "start_time": "2022-09-20T16:25:21.120Z"
   },
   {
    "duration": 116,
    "start_time": "2022-09-20T16:25:21.359Z"
   },
   {
    "duration": 231,
    "start_time": "2022-09-20T16:25:21.477Z"
   },
   {
    "duration": 223,
    "start_time": "2022-09-20T16:25:21.709Z"
   },
   {
    "duration": 17,
    "start_time": "2022-09-20T16:25:21.933Z"
   },
   {
    "duration": 370,
    "start_time": "2022-09-20T16:25:21.952Z"
   },
   {
    "duration": 4,
    "start_time": "2022-09-20T16:25:22.324Z"
   },
   {
    "duration": 166,
    "start_time": "2022-09-20T16:25:22.330Z"
   },
   {
    "duration": 175,
    "start_time": "2022-09-20T16:25:22.497Z"
   },
   {
    "duration": 190,
    "start_time": "2022-09-20T16:25:22.674Z"
   },
   {
    "duration": 203,
    "start_time": "2022-09-20T16:25:22.865Z"
   },
   {
    "duration": 176,
    "start_time": "2022-09-20T16:25:23.069Z"
   },
   {
    "duration": 175,
    "start_time": "2022-09-20T16:25:23.246Z"
   },
   {
    "duration": 185,
    "start_time": "2022-09-20T16:25:23.423Z"
   },
   {
    "duration": 136,
    "start_time": "2022-09-20T16:25:23.614Z"
   },
   {
    "duration": 171,
    "start_time": "2022-09-20T16:25:23.752Z"
   },
   {
    "duration": 301,
    "start_time": "2022-09-20T16:25:23.924Z"
   },
   {
    "duration": 178,
    "start_time": "2022-09-20T16:25:24.227Z"
   },
   {
    "duration": 247,
    "start_time": "2022-09-20T16:25:24.407Z"
   },
   {
    "duration": 132,
    "start_time": "2022-09-20T16:25:24.656Z"
   },
   {
    "duration": 140,
    "start_time": "2022-09-20T16:25:24.790Z"
   },
   {
    "duration": 260,
    "start_time": "2022-09-20T16:25:24.932Z"
   },
   {
    "duration": 122,
    "start_time": "2022-09-20T16:25:25.193Z"
   },
   {
    "duration": 44,
    "start_time": "2022-09-20T16:25:25.318Z"
   },
   {
    "duration": 1345,
    "start_time": "2022-09-20T16:25:25.364Z"
   },
   {
    "duration": 15,
    "start_time": "2022-09-20T16:25:26.710Z"
   },
   {
    "duration": 12,
    "start_time": "2022-09-20T16:25:26.727Z"
   },
   {
    "duration": 9,
    "start_time": "2022-09-20T16:25:26.740Z"
   },
   {
    "duration": 23,
    "start_time": "2022-09-20T16:25:26.750Z"
   },
   {
    "duration": 165,
    "start_time": "2022-09-20T16:25:26.800Z"
   },
   {
    "duration": 16,
    "start_time": "2022-09-20T16:28:17.431Z"
   },
   {
    "duration": 159,
    "start_time": "2022-09-20T16:29:36.303Z"
   },
   {
    "duration": 187,
    "start_time": "2022-09-20T16:29:43.089Z"
   }
  ],
  "kernelspec": {
   "display_name": "Python 3 (ipykernel)",
   "language": "python",
   "name": "python3"
  },
  "language_info": {
   "codemirror_mode": {
    "name": "ipython",
    "version": 3
   },
   "file_extension": ".py",
   "mimetype": "text/x-python",
   "name": "python",
   "nbconvert_exporter": "python",
   "pygments_lexer": "ipython3",
   "version": "3.9.12"
  },
  "toc": {
   "base_numbering": 1,
   "nav_menu": {},
   "number_sections": true,
   "sideBar": true,
   "skip_h1_title": true,
   "title_cell": "Table of Contents",
   "title_sidebar": "Contents",
   "toc_cell": false,
   "toc_position": {
    "height": "calc(100% - 180px)",
    "left": "10px",
    "top": "150px",
    "width": "307.2px"
   },
   "toc_section_display": true,
   "toc_window_display": true
  }
 },
 "nbformat": 4,
 "nbformat_minor": 2
}
