{
 "cells": [
  {
   "cell_type": "markdown",
   "metadata": {
    "toc": true
   },
   "source": [
    "<h1>Содержание<span class=\"tocSkip\"></span></h1>\n",
    "<div class=\"toc\"><ul class=\"toc-item\"><li><span><a href=\"#Подготовка-данных\" data-toc-modified-id=\"Подготовка-данных-1\"><span class=\"toc-item-num\">1&nbsp;&nbsp;</span>Подготовка данных</a></span></li><li><span><a href=\"#Исследование-задачи\" data-toc-modified-id=\"Исследование-задачи-2\"><span class=\"toc-item-num\">2&nbsp;&nbsp;</span>Исследование задачи</a></span><ul class=\"toc-item\"><li><span><a href=\"#Исследование-баланса-классов\" data-toc-modified-id=\"Исследование-баланса-классов-2.1\"><span class=\"toc-item-num\">2.1&nbsp;&nbsp;</span>Исследование баланса классов</a></span></li><li><span><a href=\"#Построение-моделей-без-учета-дисбаланса\" data-toc-modified-id=\"Построение-моделей-без-учета-дисбаланса-2.2\"><span class=\"toc-item-num\">2.2&nbsp;&nbsp;</span>Построение моделей без учета дисбаланса</a></span><ul class=\"toc-item\"><li><span><a href=\"#Дерево-решений\" data-toc-modified-id=\"Дерево-решений-2.2.1\"><span class=\"toc-item-num\">2.2.1&nbsp;&nbsp;</span>Дерево решений</a></span></li><li><span><a href=\"#Случайный-лес\" data-toc-modified-id=\"Случайный-лес-2.2.2\"><span class=\"toc-item-num\">2.2.2&nbsp;&nbsp;</span>Случайный лес</a></span></li><li><span><a href=\"#Логистическая-регрессия\" data-toc-modified-id=\"Логистическая-регрессия-2.2.3\"><span class=\"toc-item-num\">2.2.3&nbsp;&nbsp;</span>Логистическая регрессия</a></span></li></ul></li></ul></li><li><span><a href=\"#Борьба-с-дисбалансом\" data-toc-modified-id=\"Борьба-с-дисбалансом-3\"><span class=\"toc-item-num\">3&nbsp;&nbsp;</span>Борьба с дисбалансом</a></span><ul class=\"toc-item\"><li><span><a href=\"#RandomOverSampler\" data-toc-modified-id=\"RandomOverSampler-3.1\"><span class=\"toc-item-num\">3.1&nbsp;&nbsp;</span>RandomOverSampler</a></span><ul class=\"toc-item\"><li><span><a href=\"#Дерево-решений\" data-toc-modified-id=\"Дерево-решений-3.1.1\"><span class=\"toc-item-num\">3.1.1&nbsp;&nbsp;</span>Дерево решений</a></span></li><li><span><a href=\"#Случайный-лес\" data-toc-modified-id=\"Случайный-лес-3.1.2\"><span class=\"toc-item-num\">3.1.2&nbsp;&nbsp;</span>Случайный лес</a></span></li><li><span><a href=\"#Логистическая-регрессия\" data-toc-modified-id=\"Логистическая-регрессия-3.1.3\"><span class=\"toc-item-num\">3.1.3&nbsp;&nbsp;</span>Логистическая регрессия</a></span></li></ul></li><li><span><a href=\"#SMOTE\" data-toc-modified-id=\"SMOTE-3.2\"><span class=\"toc-item-num\">3.2&nbsp;&nbsp;</span>SMOTE</a></span><ul class=\"toc-item\"><li><span><a href=\"#Дерево-решений\" data-toc-modified-id=\"Дерево-решений-3.2.1\"><span class=\"toc-item-num\">3.2.1&nbsp;&nbsp;</span>Дерево решений</a></span></li><li><span><a href=\"#Случайный-лес\" data-toc-modified-id=\"Случайный-лес-3.2.2\"><span class=\"toc-item-num\">3.2.2&nbsp;&nbsp;</span>Случайный лес</a></span></li><li><span><a href=\"#Логистическая-регрессия\" data-toc-modified-id=\"Логистическая-регрессия-3.2.3\"><span class=\"toc-item-num\">3.2.3&nbsp;&nbsp;</span>Логистическая регрессия</a></span></li></ul></li><li><span><a href=\"#ADASYN\" data-toc-modified-id=\"ADASYN-3.3\"><span class=\"toc-item-num\">3.3&nbsp;&nbsp;</span>ADASYN</a></span><ul class=\"toc-item\"><li><span><a href=\"#Дерево-решений\" data-toc-modified-id=\"Дерево-решений-3.3.1\"><span class=\"toc-item-num\">3.3.1&nbsp;&nbsp;</span>Дерево решений</a></span></li><li><span><a href=\"#Случайный-лес\" data-toc-modified-id=\"Случайный-лес-3.3.2\"><span class=\"toc-item-num\">3.3.2&nbsp;&nbsp;</span>Случайный лес</a></span></li><li><span><a href=\"#Логистическая-регрессия\" data-toc-modified-id=\"Логистическая-регрессия-3.3.3\"><span class=\"toc-item-num\">3.3.3&nbsp;&nbsp;</span>Логистическая регрессия</a></span></li></ul></li></ul></li><li><span><a href=\"#Тестирование-модели\" data-toc-modified-id=\"Тестирование-модели-4\"><span class=\"toc-item-num\">4&nbsp;&nbsp;</span>Тестирование модели</a></span></li><li><span><a href=\"#Выводы\" data-toc-modified-id=\"Выводы-5\"><span class=\"toc-item-num\">5&nbsp;&nbsp;</span>Выводы</a></span></li></ul></div>"
   ]
  },
  {
   "cell_type": "markdown",
   "metadata": {},
   "source": [
    "# Отток клиентов"
   ]
  },
  {
   "cell_type": "markdown",
   "metadata": {},
   "source": [
    "Из «Бета-Банка» стали уходить клиенты. Каждый месяц. Немного, но заметно. Банковские маркетологи посчитали: сохранять текущих клиентов дешевле, чем привлекать новых.Hам предоставлены исторические данные о поведении клиентов и расторжении договоров с банком. \n",
    "\n",
    "**Цель** - необходимо построить модель, которая будет прогнозировать, уйдёт клиент из банка в ближайшее время или нет. \n",
    "\n",
    "В качестве метрики качества необходимо использовать *F1*-меру. По тех.заданию нужно получить метрику не менее 0.59. \n",
    "\n",
    "Дополнительно необходимо измерить *AUC-ROC*, сравнить её значение с *F1*-мерой."
   ]
  },
  {
   "cell_type": "markdown",
   "metadata": {},
   "source": [
    "## Подготовка данных"
   ]
  },
  {
   "cell_type": "code",
   "execution_count": 1,
   "metadata": {
    "collapsed": true
   },
   "outputs": [
    {
     "name": "stdout",
     "output_type": "stream",
     "text": [
      "Requirement already satisfied: imbalanced-learn in d:\\anaconda\\lib\\site-packages (0.9.1)"
     ]
    },
    {
     "name": "stderr",
     "output_type": "stream",
     "text": [
      "WARNING: Ignoring invalid distribution -umpy (d:\\anaconda\\lib\\site-packages)\n",
      "WARNING: Ignoring invalid distribution -umpy (d:\\anaconda\\lib\\site-packages)\n",
      "WARNING: Ignoring invalid distribution -umpy (d:\\anaconda\\lib\\site-packages)\n",
      "WARNING: Ignoring invalid distribution -umpy (d:\\anaconda\\lib\\site-packages)\n",
      "WARNING: Ignoring invalid distribution -umpy (d:\\anaconda\\lib\\site-packages)\n",
      "WARNING: Ignoring invalid distribution -umpy (d:\\anaconda\\lib\\site-packages)\n"
     ]
    },
    {
     "name": "stdout",
     "output_type": "stream",
     "text": [
      "\n",
      "Requirement already satisfied: scipy>=1.3.2 in d:\\anaconda\\lib\\site-packages (from imbalanced-learn) (1.10.1)\n",
      "Requirement already satisfied: threadpoolctl>=2.0.0 in d:\\anaconda\\lib\\site-packages (from imbalanced-learn) (2.2.0)\n",
      "Requirement already satisfied: joblib>=1.0.0 in d:\\anaconda\\lib\\site-packages (from imbalanced-learn) (1.1.1)\n",
      "Requirement already satisfied: scikit-learn>=1.1.0 in d:\\anaconda\\lib\\site-packages (from imbalanced-learn) (1.1.3)\n",
      "Requirement already satisfied: numpy>=1.17.3 in d:\\anaconda\\lib\\site-packages (from imbalanced-learn) (1.23.5)\n",
      "Requirement already satisfied: skimpy in d:\\anaconda\\lib\\site-packages (0.0.6)\n",
      "Requirement already satisfied: rich<13.0,>=10.9 in d:\\anaconda\\lib\\site-packages (from skimpy) (12.6.0)\n",
      "Requirement already satisfied: pandas<2.0.0,>=1.3.2 in d:\\anaconda\\lib\\site-packages (from skimpy) (1.4.2)\n",
      "Requirement already satisfied: Pygments<3.0.0,>=2.10.0 in d:\\anaconda\\lib\\site-packages (from skimpy) (2.11.2)\n",
      "Requirement already satisfied: numpy<2.0.0,>=1.22.2 in d:\\anaconda\\lib\\site-packages (from skimpy) (1.23.5)\n",
      "Requirement already satisfied: black<23.0.0,>=22.3.0 in d:\\anaconda\\lib\\site-packages (from skimpy) (22.10.0)\n",
      "Requirement already satisfied: ipykernel<7.0.0,>=6.7.0 in d:\\anaconda\\lib\\site-packages (from skimpy) (6.9.1)\n",
      "Requirement already satisfied: jupyter<2.0.0,>=1.0.0 in d:\\anaconda\\lib\\site-packages (from skimpy) (1.0.0)\n",
      "Requirement already satisfied: typeguard<3.0.0,>=2.12.1 in d:\\anaconda\\lib\\site-packages (from skimpy) (2.13.3)\n",
      "Requirement already satisfied: click<9.0.0,>=8.1.3 in d:\\anaconda\\lib\\site-packages (from skimpy) (8.1.3)\n",
      "Requirement already satisfied: mypy-extensions>=0.4.3 in d:\\anaconda\\lib\\site-packages (from black<23.0.0,>=22.3.0->skimpy) (0.4.3)\n",
      "Requirement already satisfied: platformdirs>=2 in d:\\anaconda\\lib\\site-packages (from black<23.0.0,>=22.3.0->skimpy) (2.5.2)\n",
      "Requirement already satisfied: typing-extensions>=3.10.0.0 in d:\\anaconda\\lib\\site-packages (from black<23.0.0,>=22.3.0->skimpy) (4.4.0)\n",
      "Requirement already satisfied: pathspec>=0.9.0 in d:\\anaconda\\lib\\site-packages (from black<23.0.0,>=22.3.0->skimpy) (0.10.3)\n",
      "Requirement already satisfied: tomli>=1.1.0 in d:\\anaconda\\lib\\site-packages (from black<23.0.0,>=22.3.0->skimpy) (2.0.1)\n",
      "Requirement already satisfied: colorama in d:\\anaconda\\lib\\site-packages (from click<9.0.0,>=8.1.3->skimpy) (0.4.6)\n",
      "Requirement already satisfied: debugpy<2.0,>=1.0.0 in d:\\anaconda\\lib\\site-packages (from ipykernel<7.0.0,>=6.7.0->skimpy) (1.5.1)\n",
      "Requirement already satisfied: jupyter-client<8.0 in d:\\anaconda\\lib\\site-packages (from ipykernel<7.0.0,>=6.7.0->skimpy) (6.1.12)\n",
      "Requirement already satisfied: nest-asyncio in d:\\anaconda\\lib\\site-packages (from ipykernel<7.0.0,>=6.7.0->skimpy) (1.5.6)\n",
      "Requirement already satisfied: matplotlib-inline<0.2.0,>=0.1.0 in d:\\anaconda\\lib\\site-packages (from ipykernel<7.0.0,>=6.7.0->skimpy) (0.1.6)\n",
      "Requirement already satisfied: ipython>=7.23.1 in d:\\anaconda\\lib\\site-packages (from ipykernel<7.0.0,>=6.7.0->skimpy) (8.2.0)\n",
      "Requirement already satisfied: tornado<7.0,>=4.2 in d:\\anaconda\\lib\\site-packages (from ipykernel<7.0.0,>=6.7.0->skimpy) (6.2)\n",
      "Requirement already satisfied: traitlets<6.0,>=5.1.0 in d:\\anaconda\\lib\\site-packages (from ipykernel<7.0.0,>=6.7.0->skimpy) (5.7.1)\n",
      "Requirement already satisfied: notebook in d:\\anaconda\\lib\\site-packages (from jupyter<2.0.0,>=1.0.0->skimpy) (6.4.8)\n",
      "Requirement already satisfied: ipywidgets in d:\\anaconda\\lib\\site-packages (from jupyter<2.0.0,>=1.0.0->skimpy) (7.6.5)\n",
      "Requirement already satisfied: nbconvert in d:\\anaconda\\lib\\site-packages (from jupyter<2.0.0,>=1.0.0->skimpy) (6.4.4)\n",
      "Requirement already satisfied: qtconsole in d:\\anaconda\\lib\\site-packages (from jupyter<2.0.0,>=1.0.0->skimpy) (5.3.0)\n",
      "Requirement already satisfied: jupyter-console in d:\\anaconda\\lib\\site-packages (from jupyter<2.0.0,>=1.0.0->skimpy) (6.4.0)\n",
      "Requirement already satisfied: pytz>=2020.1 in d:\\anaconda\\lib\\site-packages (from pandas<2.0.0,>=1.3.2->skimpy) (2022.7)\n",
      "Requirement already satisfied: python-dateutil>=2.8.1 in d:\\anaconda\\lib\\site-packages (from pandas<2.0.0,>=1.3.2->skimpy) (2.8.2)\n",
      "Requirement already satisfied: commonmark<0.10.0,>=0.9.0 in d:\\anaconda\\lib\\site-packages (from rich<13.0,>=10.9->skimpy) (0.9.1)\n",
      "Requirement already satisfied: decorator in d:\\anaconda\\lib\\site-packages (from ipython>=7.23.1->ipykernel<7.0.0,>=6.7.0->skimpy) (5.1.1)\n",
      "Requirement already satisfied: prompt-toolkit!=3.0.0,!=3.0.1,<3.1.0,>=2.0.0 in d:\\anaconda\\lib\\site-packages (from ipython>=7.23.1->ipykernel<7.0.0,>=6.7.0->skimpy) (3.0.36)\n",
      "Requirement already satisfied: pickleshare in d:\\anaconda\\lib\\site-packages (from ipython>=7.23.1->ipykernel<7.0.0,>=6.7.0->skimpy) (0.7.5)\n",
      "Requirement already satisfied: setuptools>=18.5 in d:\\anaconda\\lib\\site-packages (from ipython>=7.23.1->ipykernel<7.0.0,>=6.7.0->skimpy) (66.0.0)\n",
      "Requirement already satisfied: stack-data in d:\\anaconda\\lib\\site-packages (from ipython>=7.23.1->ipykernel<7.0.0,>=6.7.0->skimpy) (0.2.0)\n",
      "Requirement already satisfied: jedi>=0.16 in d:\\anaconda\\lib\\site-packages (from ipython>=7.23.1->ipykernel<7.0.0,>=6.7.0->skimpy) (0.18.1)\n",
      "Requirement already satisfied: backcall in d:\\anaconda\\lib\\site-packages (from ipython>=7.23.1->ipykernel<7.0.0,>=6.7.0->skimpy) (0.2.0)\n",
      "Requirement already satisfied: jupyter-core>=4.6.0 in d:\\anaconda\\lib\\site-packages (from jupyter-client<8.0->ipykernel<7.0.0,>=6.7.0->skimpy) (5.3.0)\n",
      "Requirement already satisfied: pyzmq>=13 in d:\\anaconda\\lib\\site-packages (from jupyter-client<8.0->ipykernel<7.0.0,>=6.7.0->skimpy) (23.2.0)\n",
      "Requirement already satisfied: six>=1.5 in d:\\anaconda\\lib\\site-packages (from python-dateutil>=2.8.1->pandas<2.0.0,>=1.3.2->skimpy) (1.16.0)\n",
      "Requirement already satisfied: nbformat>=4.2.0 in d:\\anaconda\\lib\\site-packages (from ipywidgets->jupyter<2.0.0,>=1.0.0->skimpy) (5.7.0)\n",
      "Requirement already satisfied: widgetsnbextension~=3.5.0 in d:\\anaconda\\lib\\site-packages (from ipywidgets->jupyter<2.0.0,>=1.0.0->skimpy) (3.5.2)\n",
      "Requirement already satisfied: jupyterlab-widgets>=1.0.0 in d:\\anaconda\\lib\\site-packages (from ipywidgets->jupyter<2.0.0,>=1.0.0->skimpy) (3.0.5)\n",
      "Requirement already satisfied: ipython-genutils~=0.2.0 in d:\\anaconda\\lib\\site-packages (from ipywidgets->jupyter<2.0.0,>=1.0.0->skimpy) (0.2.0)\n",
      "Requirement already satisfied: testpath in d:\\anaconda\\lib\\site-packages (from nbconvert->jupyter<2.0.0,>=1.0.0->skimpy) (0.6.0)\n",
      "Requirement already satisfied: nbclient<0.6.0,>=0.5.0 in d:\\anaconda\\lib\\site-packages (from nbconvert->jupyter<2.0.0,>=1.0.0->skimpy) (0.5.13)\n",
      "Requirement already satisfied: jinja2>=2.4 in d:\\anaconda\\lib\\site-packages (from nbconvert->jupyter<2.0.0,>=1.0.0->skimpy) (2.11.3)\n",
      "Requirement already satisfied: defusedxml in d:\\anaconda\\lib\\site-packages (from nbconvert->jupyter<2.0.0,>=1.0.0->skimpy) (0.7.1)\n",
      "Requirement already satisfied: pandocfilters>=1.4.1 in d:\\anaconda\\lib\\site-packages (from nbconvert->jupyter<2.0.0,>=1.0.0->skimpy) (1.5.0)\n",
      "Requirement already satisfied: beautifulsoup4 in d:\\anaconda\\lib\\site-packages (from nbconvert->jupyter<2.0.0,>=1.0.0->skimpy) (4.12.2)\n",
      "Requirement already satisfied: jupyterlab-pygments in d:\\anaconda\\lib\\site-packages (from nbconvert->jupyter<2.0.0,>=1.0.0->skimpy) (0.1.2)\n",
      "Requirement already satisfied: entrypoints>=0.2.2 in d:\\anaconda\\lib\\site-packages (from nbconvert->jupyter<2.0.0,>=1.0.0->skimpy) (0.4)\n",
      "Requirement already satisfied: bleach in d:\\anaconda\\lib\\site-packages (from nbconvert->jupyter<2.0.0,>=1.0.0->skimpy) (4.1.0)\n",
      "Requirement already satisfied: mistune<2,>=0.8.1 in d:\\anaconda\\lib\\site-packages (from nbconvert->jupyter<2.0.0,>=1.0.0->skimpy) (0.8.4)\n",
      "Requirement already satisfied: terminado>=0.8.3 in d:\\anaconda\\lib\\site-packages (from notebook->jupyter<2.0.0,>=1.0.0->skimpy) (0.17.1)\n",
      "Requirement already satisfied: prometheus-client in d:\\anaconda\\lib\\site-packages (from notebook->jupyter<2.0.0,>=1.0.0->skimpy) (0.14.1)\n",
      "Requirement already satisfied: argon2-cffi in d:\\anaconda\\lib\\site-packages (from notebook->jupyter<2.0.0,>=1.0.0->skimpy) (21.3.0)\n",
      "Requirement already satisfied: Send2Trash>=1.8.0 in d:\\anaconda\\lib\\site-packages (from notebook->jupyter<2.0.0,>=1.0.0->skimpy) (1.8.0)\n",
      "Requirement already satisfied: qtpy>=2.0.1 in d:\\anaconda\\lib\\site-packages (from qtconsole->jupyter<2.0.0,>=1.0.0->skimpy) (2.2.0)\n",
      "Requirement already satisfied: parso<0.9.0,>=0.8.0 in d:\\anaconda\\lib\\site-packages (from jedi>=0.16->ipython>=7.23.1->ipykernel<7.0.0,>=6.7.0->skimpy) (0.8.3)\n",
      "Requirement already satisfied: MarkupSafe>=0.23 in d:\\anaconda\\lib\\site-packages (from jinja2>=2.4->nbconvert->jupyter<2.0.0,>=1.0.0->skimpy) (2.0.1)\n",
      "Requirement already satisfied: pywin32>=300 in d:\\anaconda\\lib\\site-packages (from jupyter-core>=4.6.0->jupyter-client<8.0->ipykernel<7.0.0,>=6.7.0->skimpy) (305.1)\n",
      "Requirement already satisfied: jsonschema>=2.6 in d:\\anaconda\\lib\\site-packages (from nbformat>=4.2.0->ipywidgets->jupyter<2.0.0,>=1.0.0->skimpy) (4.17.3)\n",
      "Requirement already satisfied: fastjsonschema in d:\\anaconda\\lib\\site-packages (from nbformat>=4.2.0->ipywidgets->jupyter<2.0.0,>=1.0.0->skimpy) (2.16.2)\n",
      "Requirement already satisfied: wcwidth in d:\\anaconda\\lib\\site-packages (from prompt-toolkit!=3.0.0,!=3.0.1,<3.1.0,>=2.0.0->ipython>=7.23.1->ipykernel<7.0.0,>=6.7.0->skimpy) (0.2.5)\n",
      "Requirement already satisfied: packaging in d:\\anaconda\\lib\\site-packages (from qtpy>=2.0.1->qtconsole->jupyter<2.0.0,>=1.0.0->skimpy) (23.0)\n",
      "Requirement already satisfied: pywinpty>=1.1.0 in d:\\anaconda\\lib\\site-packages (from terminado>=0.8.3->notebook->jupyter<2.0.0,>=1.0.0->skimpy) (2.0.10)\n",
      "Requirement already satisfied: argon2-cffi-bindings in d:\\anaconda\\lib\\site-packages (from argon2-cffi->notebook->jupyter<2.0.0,>=1.0.0->skimpy) (21.2.0)\n",
      "Requirement already satisfied: soupsieve>1.2 in d:\\anaconda\\lib\\site-packages (from beautifulsoup4->nbconvert->jupyter<2.0.0,>=1.0.0->skimpy) (2.4)\n",
      "Requirement already satisfied: webencodings in d:\\anaconda\\lib\\site-packages (from bleach->nbconvert->jupyter<2.0.0,>=1.0.0->skimpy) (0.5.1)\n",
      "Requirement already satisfied: asttokens in d:\\anaconda\\lib\\site-packages (from stack-data->ipython>=7.23.1->ipykernel<7.0.0,>=6.7.0->skimpy) (2.0.5)\n",
      "Requirement already satisfied: pure-eval in d:\\anaconda\\lib\\site-packages (from stack-data->ipython>=7.23.1->ipykernel<7.0.0,>=6.7.0->skimpy) (0.2.2)\n",
      "Requirement already satisfied: executing in d:\\anaconda\\lib\\site-packages (from stack-data->ipython>=7.23.1->ipykernel<7.0.0,>=6.7.0->skimpy) (0.8.3)\n",
      "Requirement already satisfied: attrs>=17.4.0 in d:\\anaconda\\lib\\site-packages (from jsonschema>=2.6->nbformat>=4.2.0->ipywidgets->jupyter<2.0.0,>=1.0.0->skimpy) (22.1.0)\n",
      "Requirement already satisfied: pyrsistent!=0.17.0,!=0.17.1,!=0.17.2,>=0.14.0 in d:\\anaconda\\lib\\site-packages (from jsonschema>=2.6->nbformat>=4.2.0->ipywidgets->jupyter<2.0.0,>=1.0.0->skimpy) (0.18.0)\n",
      "Requirement already satisfied: cffi>=1.0.1 in d:\\anaconda\\lib\\site-packages (from argon2-cffi-bindings->argon2-cffi->notebook->jupyter<2.0.0,>=1.0.0->skimpy) (1.15.1)\n",
      "Requirement already satisfied: pycparser in d:\\anaconda\\lib\\site-packages (from cffi>=1.0.1->argon2-cffi-bindings->argon2-cffi->notebook->jupyter<2.0.0,>=1.0.0->skimpy) (2.21)\n"
     ]
    },
    {
     "name": "stderr",
     "output_type": "stream",
     "text": [
      "WARNING: Ignoring invalid distribution -umpy (d:\\anaconda\\lib\\site-packages)\n",
      "WARNING: Ignoring invalid distribution -umpy (d:\\anaconda\\lib\\site-packages)\n",
      "WARNING: Ignoring invalid distribution -umpy (d:\\anaconda\\lib\\site-packages)\n",
      "WARNING: Ignoring invalid distribution -umpy (d:\\anaconda\\lib\\site-packages)\n",
      "WARNING: Ignoring invalid distribution -umpy (d:\\anaconda\\lib\\site-packages)\n",
      "WARNING: Ignoring invalid distribution -umpy (d:\\anaconda\\lib\\site-packages)\n"
     ]
    }
   ],
   "source": [
    "# загружаем необходимые библиотеки\n",
    "!pip install imbalanced-learn\n",
    "!pip install skimpy\n",
    "\n",
    "import pandas as pd\n",
    "import matplotlib.pyplot as plt\n",
    "\n",
    "from sklearn.tree import DecisionTreeClassifier\n",
    "from sklearn.ensemble import RandomForestClassifier\n",
    "from sklearn.linear_model import LogisticRegression\n",
    "from sklearn.metrics import f1_score, roc_curve, roc_auc_score\n",
    "from sklearn.model_selection import train_test_split\n",
    "from sklearn.utils import shuffle\n",
    "from sklearn.preprocessing import OneHotEncoder, StandardScaler\n",
    "from sklearn.model_selection import GridSearchCV\n",
    "\n",
    "from collections import Counter\n",
    "\n",
    "from imblearn.over_sampling import RandomOverSampler, ADASYN, SMOTE\n",
    "\n",
    "from skimpy import clean_columns"
   ]
  },
  {
   "cell_type": "code",
   "execution_count": 2,
   "metadata": {
    "scrolled": true
   },
   "outputs": [],
   "source": [
    "#загружаем датасет\n",
    "try:\n",
    "    df = pd.read_csv('/Users/amirk/Downloads/Churn.csv')\n",
    "    df.head()\n",
    "except:\n",
    "    df = pd.read_csv('/datasets/Churn.csv')\n",
    "    df.head()\n",
    "    "
   ]
  },
  {
   "cell_type": "code",
   "execution_count": 3,
   "metadata": {
    "scrolled": true
   },
   "outputs": [
    {
     "data": {
      "text/html": [
       "<pre style=\"white-space:pre;overflow-x:auto;line-height:normal;font-family:Menlo,'DejaVu Sans Mono',consolas,'Courier New',monospace\"><span style=\"color: #008080; text-decoration-color: #008080; font-weight: bold\">14</span> column names have been cleaned\n",
       "</pre>\n"
      ],
      "text/plain": [
       "\u001b[1;36m14\u001b[0m column names have been cleaned\n"
      ]
     },
     "metadata": {},
     "output_type": "display_data"
    },
    {
     "data": {
      "text/html": [
       "<div>\n",
       "<style scoped>\n",
       "    .dataframe tbody tr th:only-of-type {\n",
       "        vertical-align: middle;\n",
       "    }\n",
       "\n",
       "    .dataframe tbody tr th {\n",
       "        vertical-align: top;\n",
       "    }\n",
       "\n",
       "    .dataframe thead th {\n",
       "        text-align: right;\n",
       "    }\n",
       "</style>\n",
       "<table border=\"1\" class=\"dataframe\">\n",
       "  <thead>\n",
       "    <tr style=\"text-align: right;\">\n",
       "      <th></th>\n",
       "      <th>row_number</th>\n",
       "      <th>customer_id</th>\n",
       "      <th>surname</th>\n",
       "      <th>credit_score</th>\n",
       "      <th>geography</th>\n",
       "      <th>gender</th>\n",
       "      <th>age</th>\n",
       "      <th>tenure</th>\n",
       "      <th>balance</th>\n",
       "      <th>num_of_products</th>\n",
       "      <th>has_cr_card</th>\n",
       "      <th>is_active_member</th>\n",
       "      <th>estimated_salary</th>\n",
       "      <th>exited</th>\n",
       "    </tr>\n",
       "  </thead>\n",
       "  <tbody>\n",
       "    <tr>\n",
       "      <th>0</th>\n",
       "      <td>1</td>\n",
       "      <td>15634602</td>\n",
       "      <td>Hargrave</td>\n",
       "      <td>619</td>\n",
       "      <td>France</td>\n",
       "      <td>Female</td>\n",
       "      <td>42</td>\n",
       "      <td>2.0</td>\n",
       "      <td>0.00</td>\n",
       "      <td>1</td>\n",
       "      <td>1</td>\n",
       "      <td>1</td>\n",
       "      <td>101348.88</td>\n",
       "      <td>1</td>\n",
       "    </tr>\n",
       "    <tr>\n",
       "      <th>1</th>\n",
       "      <td>2</td>\n",
       "      <td>15647311</td>\n",
       "      <td>Hill</td>\n",
       "      <td>608</td>\n",
       "      <td>Spain</td>\n",
       "      <td>Female</td>\n",
       "      <td>41</td>\n",
       "      <td>1.0</td>\n",
       "      <td>83807.86</td>\n",
       "      <td>1</td>\n",
       "      <td>0</td>\n",
       "      <td>1</td>\n",
       "      <td>112542.58</td>\n",
       "      <td>0</td>\n",
       "    </tr>\n",
       "    <tr>\n",
       "      <th>2</th>\n",
       "      <td>3</td>\n",
       "      <td>15619304</td>\n",
       "      <td>Onio</td>\n",
       "      <td>502</td>\n",
       "      <td>France</td>\n",
       "      <td>Female</td>\n",
       "      <td>42</td>\n",
       "      <td>8.0</td>\n",
       "      <td>159660.80</td>\n",
       "      <td>3</td>\n",
       "      <td>1</td>\n",
       "      <td>0</td>\n",
       "      <td>113931.57</td>\n",
       "      <td>1</td>\n",
       "    </tr>\n",
       "    <tr>\n",
       "      <th>3</th>\n",
       "      <td>4</td>\n",
       "      <td>15701354</td>\n",
       "      <td>Boni</td>\n",
       "      <td>699</td>\n",
       "      <td>France</td>\n",
       "      <td>Female</td>\n",
       "      <td>39</td>\n",
       "      <td>1.0</td>\n",
       "      <td>0.00</td>\n",
       "      <td>2</td>\n",
       "      <td>0</td>\n",
       "      <td>0</td>\n",
       "      <td>93826.63</td>\n",
       "      <td>0</td>\n",
       "    </tr>\n",
       "    <tr>\n",
       "      <th>4</th>\n",
       "      <td>5</td>\n",
       "      <td>15737888</td>\n",
       "      <td>Mitchell</td>\n",
       "      <td>850</td>\n",
       "      <td>Spain</td>\n",
       "      <td>Female</td>\n",
       "      <td>43</td>\n",
       "      <td>2.0</td>\n",
       "      <td>125510.82</td>\n",
       "      <td>1</td>\n",
       "      <td>1</td>\n",
       "      <td>1</td>\n",
       "      <td>79084.10</td>\n",
       "      <td>0</td>\n",
       "    </tr>\n",
       "  </tbody>\n",
       "</table>\n",
       "</div>"
      ],
      "text/plain": [
       "   row_number  customer_id   surname  credit_score geography  gender  age  \\\n",
       "0           1     15634602  Hargrave           619    France  Female   42   \n",
       "1           2     15647311      Hill           608     Spain  Female   41   \n",
       "2           3     15619304      Onio           502    France  Female   42   \n",
       "3           4     15701354      Boni           699    France  Female   39   \n",
       "4           5     15737888  Mitchell           850     Spain  Female   43   \n",
       "\n",
       "   tenure    balance  num_of_products  has_cr_card  is_active_member  \\\n",
       "0     2.0       0.00                1            1                 1   \n",
       "1     1.0   83807.86                1            0                 1   \n",
       "2     8.0  159660.80                3            1                 0   \n",
       "3     1.0       0.00                2            0                 0   \n",
       "4     2.0  125510.82                1            1                 1   \n",
       "\n",
       "   estimated_salary  exited  \n",
       "0         101348.88       1  \n",
       "1         112542.58       0  \n",
       "2         113931.57       1  \n",
       "3          93826.63       0  \n",
       "4          79084.10       0  "
      ]
     },
     "execution_count": 3,
     "metadata": {},
     "output_type": "execute_result"
    }
   ],
   "source": [
    "# поправим названия столбцов\n",
    "df = clean_columns(df)\n",
    "df.head()"
   ]
  },
  {
   "cell_type": "code",
   "execution_count": 4,
   "metadata": {},
   "outputs": [
    {
     "name": "stdout",
     "output_type": "stream",
     "text": [
      "<class 'pandas.core.frame.DataFrame'>\n",
      "RangeIndex: 10000 entries, 0 to 9999\n",
      "Data columns (total 14 columns):\n",
      " #   Column            Non-Null Count  Dtype  \n",
      "---  ------            --------------  -----  \n",
      " 0   row_number        10000 non-null  int64  \n",
      " 1   customer_id       10000 non-null  int64  \n",
      " 2   surname           10000 non-null  object \n",
      " 3   credit_score      10000 non-null  int64  \n",
      " 4   geography         10000 non-null  object \n",
      " 5   gender            10000 non-null  object \n",
      " 6   age               10000 non-null  int64  \n",
      " 7   tenure            9091 non-null   float64\n",
      " 8   balance           10000 non-null  float64\n",
      " 9   num_of_products   10000 non-null  int64  \n",
      " 10  has_cr_card       10000 non-null  int64  \n",
      " 11  is_active_member  10000 non-null  int64  \n",
      " 12  estimated_salary  10000 non-null  float64\n",
      " 13  exited            10000 non-null  int64  \n",
      "dtypes: float64(3), int64(8), object(3)\n",
      "memory usage: 1.1+ MB\n"
     ]
    }
   ],
   "source": [
    "# познакомимся с данными\n",
    "df.info()"
   ]
  },
  {
   "cell_type": "markdown",
   "metadata": {},
   "source": [
    "- Данные распределены достаточно правдоподобно. В столбце `tenure` выявлено 909 пропусков, это 9% от всей выборки, удалим данные строки, так-так нет уверенности, что там были нули, например.     \n",
    "- В столбцах `has_credit_card` и `is_active_member` бинарные категориальные данные, поэтому дополнительная кодировка данных не требуется.\n",
    "- Дубликатов в данных нет\n",
    "- Строки `row_number`, `customer_id` и `surname` не несут в себе важной информации для построения моделей, удалим их.\n",
    "- Строки `gender` и `geography` имеют тип данных **object**, выполним кодировку данных столбцов\n",
    "- Выополним масштабирование количественных признаков в столбцах `credit_score`, `age`, `tenure`, `balance`, `num_of_products`, `estimated_salary` после разделения на тренировочную и тестовую выборки.\n"
   ]
  },
  {
   "cell_type": "code",
   "execution_count": 5,
   "metadata": {
    "scrolled": true
   },
   "outputs": [
    {
     "name": "stdout",
     "output_type": "stream",
     "text": [
      "<class 'pandas.core.frame.DataFrame'>\n",
      "Int64Index: 9091 entries, 0 to 9998\n",
      "Data columns (total 12 columns):\n",
      " #   Column             Non-Null Count  Dtype  \n",
      "---  ------             --------------  -----  \n",
      " 0   credit_score       9091 non-null   int64  \n",
      " 1   age                9091 non-null   int64  \n",
      " 2   tenure             9091 non-null   float64\n",
      " 3   balance            9091 non-null   float64\n",
      " 4   num_of_products    9091 non-null   int64  \n",
      " 5   has_cr_card        9091 non-null   int64  \n",
      " 6   is_active_member   9091 non-null   int64  \n",
      " 7   estimated_salary   9091 non-null   float64\n",
      " 8   exited             9091 non-null   int64  \n",
      " 9   geography_Germany  9091 non-null   float64\n",
      " 10  geography_Spain    9091 non-null   float64\n",
      " 11  gender_Male        9091 non-null   float64\n",
      "dtypes: float64(6), int64(6)\n",
      "memory usage: 923.3 KB\n"
     ]
    }
   ],
   "source": [
    "# удаляем ненужные строки\n",
    "df_final = df.drop(['row_number', 'customer_id', 'surname'], axis=1)\n",
    "\n",
    "# кодируем данные\n",
    "obj_columns = df_final.select_dtypes('object').columns\n",
    "\n",
    "ohe = OneHotEncoder(sparse=False, drop='first')\n",
    "df_ohe = ohe.fit_transform(df_final[obj_columns])\n",
    "df_final[ohe.get_feature_names_out()] = pd.DataFrame(df_ohe, columns=ohe.get_feature_names_out())\n",
    "df_final.drop(obj_columns, axis=1, inplace=True)\n",
    "\n",
    "#удаляем пропуски в tenure\n",
    "df_final.dropna(inplace=True)\n",
    "df_final.info()"
   ]
  },
  {
   "cell_type": "code",
   "execution_count": 6,
   "metadata": {},
   "outputs": [
    {
     "name": "stdout",
     "output_type": "stream",
     "text": [
      "(9091, 11) (9091,)\n",
      "(6818, 11) (2273, 11) (6818,) (2273,)\n"
     ]
    }
   ],
   "source": [
    "# разделим данные на параметры и целевой признак, а затем на тренировочную и тестовую выборки\n",
    " \n",
    "X = df_final.drop('exited', axis=1)\n",
    "y = df_final['exited']\n",
    "\n",
    "X_train, X_test, y_train, y_test = train_test_split(X, y, test_size=0.25, random_state=123)\n",
    "\n",
    "print(X.shape, y.shape)\n",
    "print(X_train.shape, X_test.shape, y_train.shape, y_test.shape)"
   ]
  },
  {
   "cell_type": "code",
   "execution_count": 7,
   "metadata": {},
   "outputs": [
    {
     "data": {
      "text/html": [
       "<div>\n",
       "<style scoped>\n",
       "    .dataframe tbody tr th:only-of-type {\n",
       "        vertical-align: middle;\n",
       "    }\n",
       "\n",
       "    .dataframe tbody tr th {\n",
       "        vertical-align: top;\n",
       "    }\n",
       "\n",
       "    .dataframe thead th {\n",
       "        text-align: right;\n",
       "    }\n",
       "</style>\n",
       "<table border=\"1\" class=\"dataframe\">\n",
       "  <thead>\n",
       "    <tr style=\"text-align: right;\">\n",
       "      <th></th>\n",
       "      <th>credit_score</th>\n",
       "      <th>age</th>\n",
       "      <th>tenure</th>\n",
       "      <th>balance</th>\n",
       "      <th>num_of_products</th>\n",
       "      <th>has_cr_card</th>\n",
       "      <th>is_active_member</th>\n",
       "      <th>estimated_salary</th>\n",
       "      <th>geography_Germany</th>\n",
       "      <th>geography_Spain</th>\n",
       "      <th>gender_Male</th>\n",
       "    </tr>\n",
       "  </thead>\n",
       "  <tbody>\n",
       "    <tr>\n",
       "      <th>1529</th>\n",
       "      <td>-0.758136</td>\n",
       "      <td>-1.505822</td>\n",
       "      <td>1.035484</td>\n",
       "      <td>-1.229833</td>\n",
       "      <td>0.788837</td>\n",
       "      <td>1</td>\n",
       "      <td>0</td>\n",
       "      <td>0.193903</td>\n",
       "      <td>0.0</td>\n",
       "      <td>1.0</td>\n",
       "      <td>1.0</td>\n",
       "    </tr>\n",
       "    <tr>\n",
       "      <th>2194</th>\n",
       "      <td>2.076359</td>\n",
       "      <td>-0.469039</td>\n",
       "      <td>-1.033562</td>\n",
       "      <td>-1.229833</td>\n",
       "      <td>0.788837</td>\n",
       "      <td>1</td>\n",
       "      <td>1</td>\n",
       "      <td>1.231263</td>\n",
       "      <td>0.0</td>\n",
       "      <td>0.0</td>\n",
       "      <td>0.0</td>\n",
       "    </tr>\n",
       "    <tr>\n",
       "      <th>4881</th>\n",
       "      <td>-0.747715</td>\n",
       "      <td>-0.751798</td>\n",
       "      <td>0.345802</td>\n",
       "      <td>-1.229833</td>\n",
       "      <td>0.788837</td>\n",
       "      <td>1</td>\n",
       "      <td>0</td>\n",
       "      <td>-1.302997</td>\n",
       "      <td>0.0</td>\n",
       "      <td>0.0</td>\n",
       "      <td>1.0</td>\n",
       "    </tr>\n",
       "    <tr>\n",
       "      <th>5482</th>\n",
       "      <td>-0.497613</td>\n",
       "      <td>0.661997</td>\n",
       "      <td>-1.033562</td>\n",
       "      <td>-1.229833</td>\n",
       "      <td>0.788837</td>\n",
       "      <td>1</td>\n",
       "      <td>0</td>\n",
       "      <td>1.279524</td>\n",
       "      <td>0.0</td>\n",
       "      <td>1.0</td>\n",
       "      <td>1.0</td>\n",
       "    </tr>\n",
       "    <tr>\n",
       "      <th>7853</th>\n",
       "      <td>0.825846</td>\n",
       "      <td>0.756250</td>\n",
       "      <td>0.690643</td>\n",
       "      <td>-1.229833</td>\n",
       "      <td>-0.914771</td>\n",
       "      <td>1</td>\n",
       "      <td>0</td>\n",
       "      <td>-1.177222</td>\n",
       "      <td>0.0</td>\n",
       "      <td>0.0</td>\n",
       "      <td>0.0</td>\n",
       "    </tr>\n",
       "  </tbody>\n",
       "</table>\n",
       "</div>"
      ],
      "text/plain": [
       "      credit_score       age    tenure   balance  num_of_products  \\\n",
       "1529     -0.758136 -1.505822  1.035484 -1.229833         0.788837   \n",
       "2194      2.076359 -0.469039 -1.033562 -1.229833         0.788837   \n",
       "4881     -0.747715 -0.751798  0.345802 -1.229833         0.788837   \n",
       "5482     -0.497613  0.661997 -1.033562 -1.229833         0.788837   \n",
       "7853      0.825846  0.756250  0.690643 -1.229833        -0.914771   \n",
       "\n",
       "      has_cr_card  is_active_member  estimated_salary  geography_Germany  \\\n",
       "1529            1                 0          0.193903                0.0   \n",
       "2194            1                 1          1.231263                0.0   \n",
       "4881            1                 0         -1.302997                0.0   \n",
       "5482            1                 0          1.279524                0.0   \n",
       "7853            1                 0         -1.177222                0.0   \n",
       "\n",
       "      geography_Spain  gender_Male  \n",
       "1529              1.0          1.0  \n",
       "2194              0.0          0.0  \n",
       "4881              0.0          1.0  \n",
       "5482              1.0          1.0  \n",
       "7853              0.0          0.0  "
      ]
     },
     "metadata": {},
     "output_type": "display_data"
    },
    {
     "data": {
      "text/html": [
       "<div>\n",
       "<style scoped>\n",
       "    .dataframe tbody tr th:only-of-type {\n",
       "        vertical-align: middle;\n",
       "    }\n",
       "\n",
       "    .dataframe tbody tr th {\n",
       "        vertical-align: top;\n",
       "    }\n",
       "\n",
       "    .dataframe thead th {\n",
       "        text-align: right;\n",
       "    }\n",
       "</style>\n",
       "<table border=\"1\" class=\"dataframe\">\n",
       "  <thead>\n",
       "    <tr style=\"text-align: right;\">\n",
       "      <th></th>\n",
       "      <th>credit_score</th>\n",
       "      <th>age</th>\n",
       "      <th>tenure</th>\n",
       "      <th>balance</th>\n",
       "      <th>num_of_products</th>\n",
       "      <th>has_cr_card</th>\n",
       "      <th>is_active_member</th>\n",
       "      <th>estimated_salary</th>\n",
       "      <th>geography_Germany</th>\n",
       "      <th>geography_Spain</th>\n",
       "      <th>gender_Male</th>\n",
       "    </tr>\n",
       "  </thead>\n",
       "  <tbody>\n",
       "    <tr>\n",
       "      <th>7176</th>\n",
       "      <td>-1.623074</td>\n",
       "      <td>0.002226</td>\n",
       "      <td>1.035484</td>\n",
       "      <td>0.696527</td>\n",
       "      <td>0.788837</td>\n",
       "      <td>1</td>\n",
       "      <td>1</td>\n",
       "      <td>-1.581378</td>\n",
       "      <td>1.0</td>\n",
       "      <td>0.0</td>\n",
       "      <td>1.0</td>\n",
       "    </tr>\n",
       "    <tr>\n",
       "      <th>5276</th>\n",
       "      <td>-0.789399</td>\n",
       "      <td>-0.940304</td>\n",
       "      <td>-0.343880</td>\n",
       "      <td>0.721700</td>\n",
       "      <td>0.788837</td>\n",
       "      <td>1</td>\n",
       "      <td>1</td>\n",
       "      <td>-0.881316</td>\n",
       "      <td>0.0</td>\n",
       "      <td>0.0</td>\n",
       "      <td>1.0</td>\n",
       "    </tr>\n",
       "    <tr>\n",
       "      <th>2281</th>\n",
       "      <td>2.055517</td>\n",
       "      <td>0.096479</td>\n",
       "      <td>0.000961</td>\n",
       "      <td>1.148972</td>\n",
       "      <td>-0.914771</td>\n",
       "      <td>0</td>\n",
       "      <td>0</td>\n",
       "      <td>1.007489</td>\n",
       "      <td>1.0</td>\n",
       "      <td>0.0</td>\n",
       "      <td>0.0</td>\n",
       "    </tr>\n",
       "    <tr>\n",
       "      <th>3054</th>\n",
       "      <td>-1.154132</td>\n",
       "      <td>2.641310</td>\n",
       "      <td>-1.378403</td>\n",
       "      <td>0.185990</td>\n",
       "      <td>-0.914771</td>\n",
       "      <td>0</td>\n",
       "      <td>1</td>\n",
       "      <td>-0.723085</td>\n",
       "      <td>0.0</td>\n",
       "      <td>1.0</td>\n",
       "      <td>1.0</td>\n",
       "    </tr>\n",
       "    <tr>\n",
       "      <th>9692</th>\n",
       "      <td>-0.799820</td>\n",
       "      <td>1.227515</td>\n",
       "      <td>0.690643</td>\n",
       "      <td>0.620924</td>\n",
       "      <td>-0.914771</td>\n",
       "      <td>1</td>\n",
       "      <td>0</td>\n",
       "      <td>1.658714</td>\n",
       "      <td>0.0</td>\n",
       "      <td>1.0</td>\n",
       "      <td>1.0</td>\n",
       "    </tr>\n",
       "  </tbody>\n",
       "</table>\n",
       "</div>"
      ],
      "text/plain": [
       "      credit_score       age    tenure   balance  num_of_products  \\\n",
       "7176     -1.623074  0.002226  1.035484  0.696527         0.788837   \n",
       "5276     -0.789399 -0.940304 -0.343880  0.721700         0.788837   \n",
       "2281      2.055517  0.096479  0.000961  1.148972        -0.914771   \n",
       "3054     -1.154132  2.641310 -1.378403  0.185990        -0.914771   \n",
       "9692     -0.799820  1.227515  0.690643  0.620924        -0.914771   \n",
       "\n",
       "      has_cr_card  is_active_member  estimated_salary  geography_Germany  \\\n",
       "7176            1                 1         -1.581378                1.0   \n",
       "5276            1                 1         -0.881316                0.0   \n",
       "2281            0                 0          1.007489                1.0   \n",
       "3054            0                 1         -0.723085                0.0   \n",
       "9692            1                 0          1.658714                0.0   \n",
       "\n",
       "      geography_Spain  gender_Male  \n",
       "7176              0.0          1.0  \n",
       "5276              0.0          1.0  \n",
       "2281              0.0          0.0  \n",
       "3054              1.0          1.0  \n",
       "9692              1.0          1.0  "
      ]
     },
     "metadata": {},
     "output_type": "display_data"
    }
   ],
   "source": [
    "# масштабирем данные\n",
    "num_columns = ['credit_score', 'age', 'tenure', 'balance', 'num_of_products', 'estimated_salary']\n",
    "scaler = StandardScaler()\n",
    "X_train[num_columns] = scaler.fit_transform(X_train[num_columns])\n",
    "X_test[num_columns] = scaler.transform(X_test[num_columns])\n",
    "display(X_train.head())\n",
    "display(X_test.head())"
   ]
  },
  {
   "cell_type": "markdown",
   "metadata": {},
   "source": [
    "## Исследование задачи"
   ]
  },
  {
   "cell_type": "markdown",
   "metadata": {},
   "source": [
    "### Исследование баланса классов"
   ]
  },
  {
   "cell_type": "code",
   "execution_count": 8,
   "metadata": {},
   "outputs": [
    {
     "data": {
      "text/plain": [
       "[(0, 7237), (1, 1854)]"
      ]
     },
     "execution_count": 8,
     "metadata": {},
     "output_type": "execute_result"
    }
   ],
   "source": [
    "sorted(Counter(y).items())"
   ]
  },
  {
   "cell_type": "markdown",
   "metadata": {},
   "source": [
    "В данных имеется дисбаланс классов."
   ]
  },
  {
   "cell_type": "markdown",
   "metadata": {},
   "source": [
    "### Построение моделей без учета дисбаланса\n",
    "\n",
    "#### Дерево решений"
   ]
  },
  {
   "cell_type": "code",
   "execution_count": 9,
   "metadata": {
    "scrolled": true
   },
   "outputs": [],
   "source": [
    "def best_model_dtc(X_train, y_train):\n",
    "    model = DecisionTreeClassifier(random_state=123)\n",
    "    params = {'max_depth':range(1,20), \n",
    "              'min_samples_split':range(2,10), \n",
    "              'min_samples_leaf':range(1,10)}\n",
    "    grid_model = GridSearchCV(model, \n",
    "                              params, \n",
    "                              cv=5, \n",
    "                              scoring=['f1', 'roc_auc'], \n",
    "                              refit='f1', \n",
    "                              error_score='raise', \n",
    "                              n_jobs=-1, \n",
    "                              verbose=1)\n",
    "    grid_model.fit(X_train, y_train)\n",
    "    print('Значение F1-score = ', grid_model.best_score_)\n",
    "    print('Значение ROC-AUC = ', grid_model.cv_results_['mean_test_roc_auc'].mean())\n",
    "    print('Лучшие параметры модели:', grid_model.best_params_)\n",
    "    return grid_model"
   ]
  },
  {
   "cell_type": "code",
   "execution_count": 10,
   "metadata": {},
   "outputs": [
    {
     "name": "stdout",
     "output_type": "stream",
     "text": [
      "Fitting 5 folds for each of 1368 candidates, totalling 6840 fits\n",
      "Значение F1-score =  0.5558629920157794\n",
      "Значение ROC-AUC =  0.7691352279843282\n",
      "Лучшие параметры модели: {'max_depth': 7, 'min_samples_leaf': 7, 'min_samples_split': 2}\n"
     ]
    }
   ],
   "source": [
    "best_model_dtc_dis = best_model_dtc(X_train, y_train)"
   ]
  },
  {
   "cell_type": "markdown",
   "metadata": {},
   "source": [
    "#### Случайный лес"
   ]
  },
  {
   "cell_type": "code",
   "execution_count": 11,
   "metadata": {},
   "outputs": [],
   "source": [
    "# Для начала найдем лучшие параметры модели на небольшом количестве деревьев \n",
    "#с целью экономии времени обучения, а в целом можно и нужно количество деревьев сразу смотреть.\n",
    "# Затем подберем такой гиперпараметр как количество деревьев\n",
    "def best_model_rfc(X_train, y_train):\n",
    "    model = RandomForestClassifier(random_state=123, n_estimators=20)\n",
    "    params = {'max_depth':range(1,20), \n",
    "              'min_samples_split':range(2,10), \n",
    "              'min_samples_leaf':range(1,10)}\n",
    "    grid_model = GridSearchCV(model, \n",
    "                              params, \n",
    "                              cv=5, \n",
    "                              scoring=['f1', 'roc_auc'], \n",
    "                              refit='f1', \n",
    "                              error_score='raise', \n",
    "                              n_jobs=-1, \n",
    "                              verbose=1)\n",
    "    grid_model.fit(X_train, y_train)\n",
    "    model = RandomForestClassifier(random_state=123)\n",
    "    params = {'n_estimators':range(20,350,10), \n",
    "              'max_depth':[grid_model.best_params_['max_depth']],\n",
    "              'min_samples_split':[grid_model.best_params_['min_samples_split']],\n",
    "              'min_samples_leaf':[grid_model.best_params_['min_samples_leaf']]}\n",
    "    grid_model = GridSearchCV(model, \n",
    "                              params, \n",
    "                              cv=5, \n",
    "                              scoring=['f1', 'roc_auc'], \n",
    "                              refit='f1', \n",
    "                              error_score='raise', \n",
    "                              n_jobs=-1, \n",
    "                              verbose=1)\n",
    "    grid_model.fit(X_train, y_train)\n",
    "    print('Значение F1-score = ', grid_model.best_score_)\n",
    "    print('Значение ROC-AUC = ', grid_model.cv_results_['mean_test_roc_auc'].mean())\n",
    "    print('Лучшие параметры модели:', grid_model.best_params_)\n",
    "    return grid_model"
   ]
  },
  {
   "cell_type": "code",
   "execution_count": 12,
   "metadata": {
    "scrolled": true
   },
   "outputs": [
    {
     "name": "stdout",
     "output_type": "stream",
     "text": [
      "Fitting 5 folds for each of 1368 candidates, totalling 6840 fits\n",
      "Fitting 5 folds for each of 33 candidates, totalling 165 fits\n",
      "Значение F1-score =  0.5804889396696881\n",
      "Значение ROC-AUC =  0.8557447193252888\n",
      "Лучшие параметры модели: {'max_depth': 18, 'min_samples_leaf': 3, 'min_samples_split': 2, 'n_estimators': 60}\n"
     ]
    }
   ],
   "source": [
    "best_model_rfc_dis = best_model_rfc(X_train, y_train)"
   ]
  },
  {
   "cell_type": "markdown",
   "metadata": {},
   "source": [
    "#### Логистическая регрессия"
   ]
  },
  {
   "cell_type": "code",
   "execution_count": 13,
   "metadata": {},
   "outputs": [],
   "source": [
    "def best_model_lr(X_train, y_train):\n",
    "    model = LogisticRegression(random_state=123, class_weight='balanced')\n",
    "    params = {'solver':['newton-cg', 'lbfgs', 'liblinear', 'sag', 'saga'], \n",
    "              'max_iter':range(100,1000,100), \n",
    "              'C':[1, 10, 100, 1000]}\n",
    "    grid_model = GridSearchCV(model, \n",
    "                              params, \n",
    "                              cv=5, \n",
    "                              scoring=['f1', 'roc_auc'], \n",
    "                              refit='f1', \n",
    "                              error_score='raise', \n",
    "                              n_jobs=-1, \n",
    "                              verbose=1)\n",
    "    grid_model.fit(X_train, y_train)\n",
    "    print('Значение F1-score = ', grid_model.best_score_)\n",
    "    print('Значение ROC-AUC = ', grid_model.cv_results_['mean_test_roc_auc'].mean())\n",
    "    print('Лучшие параметры модели:', grid_model.best_params_)\n",
    "    return grid_model "
   ]
  },
  {
   "cell_type": "code",
   "execution_count": 14,
   "metadata": {
    "scrolled": true
   },
   "outputs": [
    {
     "name": "stdout",
     "output_type": "stream",
     "text": [
      "Fitting 5 folds for each of 180 candidates, totalling 900 fits\n",
      "Значение F1-score =  0.4977726603059809\n",
      "Значение ROC-AUC =  0.7709287338988858\n",
      "Лучшие параметры модели: {'C': 10, 'max_iter': 100, 'solver': 'newton-cg'}\n"
     ]
    }
   ],
   "source": [
    "best_madel_lr_dis = best_model_lr(X_train, y_train)"
   ]
  },
  {
   "cell_type": "markdown",
   "metadata": {},
   "source": [
    "Без учета баланса классов лучшей моделью прогнозирования стала модель типа `RandomForest`. Модель имела следующие параметры: \n",
    "- **max_depth = 18**,\n",
    "- **min_samples_leaf = 3**,\n",
    "- **min_samples_split = 2**,\n",
    "- **n_estimators = 60**\n",
    "\n",
    "**F1 score = 0.580**   \n",
    "**ROC_AUC = 0.856**"
   ]
  },
  {
   "cell_type": "markdown",
   "metadata": {},
   "source": [
    "## Борьба с дисбалансом"
   ]
  },
  {
   "cell_type": "markdown",
   "metadata": {},
   "source": [
    "### RandomOverSampler"
   ]
  },
  {
   "cell_type": "code",
   "execution_count": 15,
   "metadata": {},
   "outputs": [
    {
     "name": "stdout",
     "output_type": "stream",
     "text": [
      "Original dataset: [(0, 5427), (1, 1391)]\n",
      "ROS-sampled dataset: [(0, 5427), (1, 5427)]\n"
     ]
    }
   ],
   "source": [
    "X_ros, y_ros = RandomOverSampler(random_state=123).fit_resample(X_train, y_train)\n",
    "\n",
    "print(\"Original dataset:\", sorted(Counter(y_train).items()))\n",
    "\n",
    "print(\"ROS-sampled dataset:\", sorted(Counter(y_ros).items()))"
   ]
  },
  {
   "cell_type": "markdown",
   "metadata": {},
   "source": [
    "#### Дерево решений "
   ]
  },
  {
   "cell_type": "code",
   "execution_count": 16,
   "metadata": {},
   "outputs": [
    {
     "name": "stdout",
     "output_type": "stream",
     "text": [
      "Fitting 5 folds for each of 1368 candidates, totalling 6840 fits\n",
      "Значение F1-score =  0.9234786524181084\n",
      "Значение ROC-AUC =  0.8692277853316248\n",
      "Лучшие параметры модели: {'max_depth': 19, 'min_samples_leaf': 1, 'min_samples_split': 2}\n"
     ]
    }
   ],
   "source": [
    "best_model_dtc_ros = best_model_dtc(X_ros, y_ros)"
   ]
  },
  {
   "cell_type": "markdown",
   "metadata": {},
   "source": [
    "#### Случайный лес"
   ]
  },
  {
   "cell_type": "code",
   "execution_count": 17,
   "metadata": {},
   "outputs": [
    {
     "name": "stdout",
     "output_type": "stream",
     "text": [
      "Fitting 5 folds for each of 1368 candidates, totalling 6840 fits\n",
      "Fitting 5 folds for each of 33 candidates, totalling 165 fits\n",
      "Значение F1-score =  0.9576403295596382\n",
      "Значение ROC-AUC =  0.9946876598431369\n",
      "Лучшие параметры модели: {'max_depth': 19, 'min_samples_leaf': 1, 'min_samples_split': 2, 'n_estimators': 290}\n"
     ]
    }
   ],
   "source": [
    "best_model_rfc_ros = best_model_rfc(X_ros, y_ros)"
   ]
  },
  {
   "cell_type": "markdown",
   "metadata": {},
   "source": [
    "#### Логистическая регрессия"
   ]
  },
  {
   "cell_type": "code",
   "execution_count": 18,
   "metadata": {
    "scrolled": false
   },
   "outputs": [
    {
     "name": "stdout",
     "output_type": "stream",
     "text": [
      "Fitting 5 folds for each of 180 candidates, totalling 900 fits\n",
      "Значение F1-score =  0.7058996011780503\n",
      "Значение ROC-AUC =  0.7710281113538889\n",
      "Лучшие параметры модели: {'C': 1, 'max_iter': 100, 'solver': 'newton-cg'}\n"
     ]
    }
   ],
   "source": [
    "best_model_lr_ros = best_model_lr(X_ros, y_ros)"
   ]
  },
  {
   "cell_type": "markdown",
   "metadata": {},
   "source": [
    "Данный метод балансировки не самый лучший, так как дает отличные данные на тренировочных данных, модель переобучается, поэтому плохо работает на тестовых данных. Попробуем другие методы балансировки классов!"
   ]
  },
  {
   "cell_type": "markdown",
   "metadata": {},
   "source": [
    "### SMOTE"
   ]
  },
  {
   "cell_type": "code",
   "execution_count": 19,
   "metadata": {},
   "outputs": [
    {
     "name": "stdout",
     "output_type": "stream",
     "text": [
      "Original dataset: [(0, 5427), (1, 1391)]\n",
      "SMOTE-sampled dataset: [(0, 5427), (1, 5427)]\n"
     ]
    }
   ],
   "source": [
    "X_smote, y_smote = SMOTE(random_state=123).fit_resample(X_train, y_train)\n",
    "\n",
    "print(\"Original dataset:\", sorted(Counter(y_train).items()))\n",
    "print(\"SMOTE-sampled dataset:\", sorted(Counter(y_ros).items()))"
   ]
  },
  {
   "cell_type": "markdown",
   "metadata": {},
   "source": [
    "#### Дерево решений"
   ]
  },
  {
   "cell_type": "code",
   "execution_count": 20,
   "metadata": {},
   "outputs": [
    {
     "name": "stdout",
     "output_type": "stream",
     "text": [
      "Fitting 5 folds for each of 1368 candidates, totalling 6840 fits\n",
      "Значение F1-score =  0.8303317154575043\n",
      "Значение ROC-AUC =  0.8550201050785374\n",
      "Лучшие параметры модели: {'max_depth': 18, 'min_samples_leaf': 1, 'min_samples_split': 2}\n"
     ]
    }
   ],
   "source": [
    "best_model_dtc_smote = best_model_dtc(X_smote, y_smote)"
   ]
  },
  {
   "cell_type": "markdown",
   "metadata": {},
   "source": [
    "#### Случайный лес"
   ]
  },
  {
   "cell_type": "code",
   "execution_count": 21,
   "metadata": {},
   "outputs": [
    {
     "name": "stdout",
     "output_type": "stream",
     "text": [
      "Fitting 5 folds for each of 1368 candidates, totalling 6840 fits\n",
      "Fitting 5 folds for each of 33 candidates, totalling 165 fits\n",
      "Значение F1-score =  0.9033760569588116\n",
      "Значение ROC-AUC =  0.9654146610637555\n",
      "Лучшие параметры модели: {'max_depth': 17, 'min_samples_leaf': 1, 'min_samples_split': 2, 'n_estimators': 330}\n"
     ]
    }
   ],
   "source": [
    "best_model_rfc_smote = best_model_rfc(X_smote, y_smote)"
   ]
  },
  {
   "cell_type": "markdown",
   "metadata": {},
   "source": [
    "#### Логистическая регрессия"
   ]
  },
  {
   "cell_type": "code",
   "execution_count": 23,
   "metadata": {},
   "outputs": [
    {
     "name": "stdout",
     "output_type": "stream",
     "text": [
      "Fitting 5 folds for each of 180 candidates, totalling 900 fits\n",
      "Значение F1-score =  0.7274696958787252\n",
      "Значение ROC-AUC =  0.8001325383964933\n",
      "Лучшие параметры модели: {'C': 1, 'max_iter': 100, 'solver': 'sag'}\n"
     ]
    }
   ],
   "source": [
    "best_model_lr_smote = best_model_lr(X_smote, y_smote)"
   ]
  },
  {
   "cell_type": "markdown",
   "metadata": {},
   "source": [
    "Данный метод балансировки лучше, чем RandomOverSampler, так как не дублирует существующие объекты, а добавляет новые со схожими показателями. Модель гораздо меньше переобучается и дает на тестовой выборке результат лучше."
   ]
  },
  {
   "cell_type": "markdown",
   "metadata": {},
   "source": [
    "### ADASYN "
   ]
  },
  {
   "cell_type": "code",
   "execution_count": 24,
   "metadata": {},
   "outputs": [
    {
     "name": "stdout",
     "output_type": "stream",
     "text": [
      "Original dataset: [(0, 5427), (1, 1391)]\n",
      "SMOTE-sampled dataset: [(0, 5427), (1, 5193)]\n"
     ]
    }
   ],
   "source": [
    "X_adasyn, y_adasyn = ADASYN(random_state=123).fit_resample(X_train, y_train)\n",
    "\n",
    "print(\"Original dataset:\", sorted(Counter(y_train).items()))\n",
    "print(\"SMOTE-sampled dataset:\", sorted(Counter(y_adasyn).items()))"
   ]
  },
  {
   "cell_type": "markdown",
   "metadata": {},
   "source": [
    "#### Дерево решений"
   ]
  },
  {
   "cell_type": "code",
   "execution_count": 25,
   "metadata": {},
   "outputs": [
    {
     "name": "stdout",
     "output_type": "stream",
     "text": [
      "Fitting 5 folds for each of 1368 candidates, totalling 6840 fits\n",
      "Значение F1-score =  0.8059426527991509\n",
      "Значение ROC-AUC =  0.8268292226709435\n",
      "Лучшие параметры модели: {'max_depth': 19, 'min_samples_leaf': 1, 'min_samples_split': 2}\n"
     ]
    }
   ],
   "source": [
    "best_model_dtc_adasyn = best_model_dtc(X_adasyn, y_adasyn) "
   ]
  },
  {
   "cell_type": "markdown",
   "metadata": {},
   "source": [
    "#### Случайный лес"
   ]
  },
  {
   "cell_type": "code",
   "execution_count": 26,
   "metadata": {},
   "outputs": [
    {
     "name": "stdout",
     "output_type": "stream",
     "text": [
      "Fitting 5 folds for each of 1368 candidates, totalling 6840 fits\n",
      "Fitting 5 folds for each of 33 candidates, totalling 165 fits\n",
      "Значение F1-score =  0.8899499051554389\n",
      "Значение ROC-AUC =  0.9577290694486591\n",
      "Лучшие параметры модели: {'max_depth': 17, 'min_samples_leaf': 1, 'min_samples_split': 2, 'n_estimators': 260}\n"
     ]
    }
   ],
   "source": [
    "best_model_rfc_adasyn = best_model_rfc(X_adasyn, y_adasyn) "
   ]
  },
  {
   "cell_type": "markdown",
   "metadata": {},
   "source": [
    "#### Логистическая регрессия"
   ]
  },
  {
   "cell_type": "code",
   "execution_count": 27,
   "metadata": {},
   "outputs": [
    {
     "name": "stdout",
     "output_type": "stream",
     "text": [
      "Fitting 5 folds for each of 180 candidates, totalling 900 fits\n",
      "Значение F1-score =  0.6948741234387951\n",
      "Значение ROC-AUC =  0.764986584000353\n",
      "Лучшие параметры модели: {'C': 1, 'max_iter': 100, 'solver': 'lbfgs'}\n"
     ]
    }
   ],
   "source": [
    "best_model_lr_adasyn = best_model_lr(X_adasyn, y_adasyn)"
   ]
  },
  {
   "cell_type": "markdown",
   "metadata": {},
   "source": [
    "Данный метод балансировки лучше, чем RandomOverSampler. Добавляются новые обекты с показателями расположенными между 2 классами. Так модель начинает лучше понимать сложные случаи, где разделение на классы произвести достаточно сложно."
   ]
  },
  {
   "cell_type": "markdown",
   "metadata": {},
   "source": [
    "По итогам исследования наилучшие метрики набрала модель `RandomForest` при истользовании для балансировки классов метода **RandomOverSampler**: значение **F1-score = 0.957**, значение **ROC-AUC = 0.994**. Однако учитывая существующие недостатки данного метода семплирования (переобучение), в качестве наулучшей выбрана модель `RandomForest`, обученная на данных просемплированных методом **SMOTE**: значение **F1-score = 0.903**, значение **ROC-AUC = 0.965**. Проверим данную модель на тестовых данных!"
   ]
  },
  {
   "cell_type": "markdown",
   "metadata": {},
   "source": [
    "## Тестирование модели"
   ]
  },
  {
   "cell_type": "code",
   "execution_count": 28,
   "metadata": {},
   "outputs": [
    {
     "data": {
      "text/plain": [
       "0.5991189427312776"
      ]
     },
     "execution_count": 28,
     "metadata": {},
     "output_type": "execute_result"
    }
   ],
   "source": [
    "f1_score(y_test, best_model_rfc_smote.predict(X_test))"
   ]
  },
  {
   "cell_type": "code",
   "execution_count": 33,
   "metadata": {},
   "outputs": [
    {
     "data": {
      "text/plain": [
       "0.8485442048614011"
      ]
     },
     "execution_count": 33,
     "metadata": {},
     "output_type": "execute_result"
    }
   ],
   "source": [
    "roc_auc_score(y_test, best_model_rfc_smote.predict_proba(X_test)[:,1])"
   ]
  },
  {
   "cell_type": "markdown",
   "metadata": {},
   "source": [
    "## Выводы\n",
    "\n",
    "Перед нами стояла задача разработки модели, которая могла бы прогнозировать уход клиента из банка в ближайшее время. Модель должна была иметь метрику качества **F1** не меньше 0.59.\n",
    "\n",
    "В ходе проведенного исследования было выполнено:\n",
    "- подготовка данных к моделированию (удалены пропуски в данных, категориальные данные закодированы, числовые данные масштабированы, выделены тренировочная и тестовая выборки);\n",
    "- построены модели без учета баланса классов (DecisionTreeClassifier, RandomForestClassifier, LogisticRegression);\n",
    "- применены различные методы балансировки данных (RandomOverSampler, SMOTE, ADASYN);\n",
    "- построены модели с учетом баланса классов   \n",
    "\n",
    "Наулучшей выбрана модель **RandomForest** с гиперпараметрами `max_depth` = 17, `min_samples_leaf` = 1, `min_samples_split` = 2, `n_estimators` = 330/ Обученние проходило на данных просемплированных методом **SMOTE**.   \n",
    "На тестовой выборке значение **F1-score = 0.599**, значение **ROC-AUC = 0.849**."
   ]
  }
 ],
 "metadata": {
  "ExecuteTimeLog": [
   {
    "duration": 57,
    "start_time": "2022-11-08T10:46:05.460Z"
   },
   {
    "duration": 6860,
    "start_time": "2022-11-08T10:46:09.869Z"
   },
   {
    "duration": 2903,
    "start_time": "2022-11-08T10:46:39.007Z"
   },
   {
    "duration": 1980,
    "start_time": "2022-11-08T10:47:01.569Z"
   },
   {
    "duration": 1912,
    "start_time": "2022-11-08T10:47:26.801Z"
   },
   {
    "duration": 2087,
    "start_time": "2022-11-08T10:47:54.559Z"
   },
   {
    "duration": 170,
    "start_time": "2022-11-08T10:48:04.246Z"
   },
   {
    "duration": 28856,
    "start_time": "2022-11-08T18:29:25.145Z"
   },
   {
    "duration": 188,
    "start_time": "2022-11-08T18:29:54.004Z"
   },
   {
    "duration": 137,
    "start_time": "2022-11-08T18:29:54.196Z"
   },
   {
    "duration": 37,
    "start_time": "2022-11-08T18:31:40.998Z"
   },
   {
    "duration": 19,
    "start_time": "2022-11-08T18:32:04.156Z"
   },
   {
    "duration": 16,
    "start_time": "2022-11-08T18:32:45.587Z"
   },
   {
    "duration": 44,
    "start_time": "2022-11-08T18:38:19.307Z"
   },
   {
    "duration": 13,
    "start_time": "2022-11-08T18:48:03.924Z"
   },
   {
    "duration": 9,
    "start_time": "2022-11-08T18:48:22.132Z"
   },
   {
    "duration": 13,
    "start_time": "2022-11-08T19:08:57.075Z"
   },
   {
    "duration": 13,
    "start_time": "2022-11-08T19:09:28.835Z"
   },
   {
    "duration": 18,
    "start_time": "2022-11-08T19:09:40.874Z"
   },
   {
    "duration": 10,
    "start_time": "2022-11-08T19:09:50.964Z"
   },
   {
    "duration": 727,
    "start_time": "2022-11-08T19:10:56.846Z"
   },
   {
    "duration": 6,
    "start_time": "2022-11-08T19:11:04.792Z"
   },
   {
    "duration": 12,
    "start_time": "2022-11-08T19:11:13.743Z"
   },
   {
    "duration": 14,
    "start_time": "2022-11-08T19:16:31.944Z"
   },
   {
    "duration": 20,
    "start_time": "2022-11-08T19:16:41.045Z"
   },
   {
    "duration": 11,
    "start_time": "2022-11-08T19:16:52.576Z"
   },
   {
    "duration": 5,
    "start_time": "2022-11-08T19:24:20.040Z"
   },
   {
    "duration": 7,
    "start_time": "2022-11-08T19:24:59.851Z"
   },
   {
    "duration": 9,
    "start_time": "2022-11-08T19:25:14.470Z"
   },
   {
    "duration": 13,
    "start_time": "2022-11-08T19:27:41.716Z"
   },
   {
    "duration": 10,
    "start_time": "2022-11-08T19:29:44.949Z"
   },
   {
    "duration": 21,
    "start_time": "2022-11-08T19:29:49.619Z"
   },
   {
    "duration": 13,
    "start_time": "2022-11-08T19:30:30.050Z"
   },
   {
    "duration": 11,
    "start_time": "2022-11-08T19:30:34.361Z"
   },
   {
    "duration": 5,
    "start_time": "2022-11-08T19:30:40.197Z"
   },
   {
    "duration": 4875,
    "start_time": "2022-11-08T19:44:44.340Z"
   },
   {
    "duration": 4719,
    "start_time": "2022-11-08T19:46:39.548Z"
   },
   {
    "duration": 62,
    "start_time": "2022-11-08T19:59:32.909Z"
   },
   {
    "duration": 4,
    "start_time": "2022-11-08T19:59:41.164Z"
   },
   {
    "duration": 16,
    "start_time": "2022-11-08T20:03:12.563Z"
   },
   {
    "duration": 3,
    "start_time": "2022-11-08T20:03:19.585Z"
   },
   {
    "duration": 58,
    "start_time": "2022-11-08T20:07:07.029Z"
   },
   {
    "duration": 17,
    "start_time": "2022-11-08T20:07:15.343Z"
   },
   {
    "duration": 10,
    "start_time": "2022-11-08T20:07:28.212Z"
   },
   {
    "duration": 21962,
    "start_time": "2022-11-08T20:08:27.449Z"
   },
   {
    "duration": 17,
    "start_time": "2022-11-08T20:10:23.746Z"
   },
   {
    "duration": 14,
    "start_time": "2022-11-08T20:10:47.066Z"
   },
   {
    "duration": 355,
    "start_time": "2022-11-08T20:11:30.505Z"
   },
   {
    "duration": 21,
    "start_time": "2022-11-08T20:11:46.573Z"
   },
   {
    "duration": 25,
    "start_time": "2022-11-08T20:13:26.958Z"
   },
   {
    "duration": 18,
    "start_time": "2022-11-08T20:14:04.104Z"
   },
   {
    "duration": 404,
    "start_time": "2022-11-08T20:14:36.232Z"
   },
   {
    "duration": 362,
    "start_time": "2022-11-08T20:15:02.380Z"
   },
   {
    "duration": 10,
    "start_time": "2022-11-08T20:15:41.687Z"
   },
   {
    "duration": 452,
    "start_time": "2022-11-08T20:16:46.675Z"
   },
   {
    "duration": 31,
    "start_time": "2022-11-08T20:18:05.643Z"
   },
   {
    "duration": 11,
    "start_time": "2022-11-08T20:22:11.971Z"
   },
   {
    "duration": 9,
    "start_time": "2022-11-08T20:22:27.585Z"
   },
   {
    "duration": 10,
    "start_time": "2022-11-08T20:23:24.297Z"
   },
   {
    "duration": 6,
    "start_time": "2022-11-08T20:23:28.465Z"
   },
   {
    "duration": 7,
    "start_time": "2022-11-08T20:23:39.047Z"
   },
   {
    "duration": 12,
    "start_time": "2022-11-08T20:24:27.479Z"
   },
   {
    "duration": 14,
    "start_time": "2022-11-08T20:24:44.911Z"
   },
   {
    "duration": 9,
    "start_time": "2022-11-08T20:24:57.380Z"
   },
   {
    "duration": 19,
    "start_time": "2022-11-08T20:25:03.395Z"
   },
   {
    "duration": 9,
    "start_time": "2022-11-08T20:25:27.402Z"
   },
   {
    "duration": 7,
    "start_time": "2022-11-08T20:25:54.664Z"
   },
   {
    "duration": 25344,
    "start_time": "2022-11-10T19:21:07.384Z"
   },
   {
    "duration": 89,
    "start_time": "2022-11-10T19:21:32.730Z"
   },
   {
    "duration": 19,
    "start_time": "2022-11-10T19:21:32.821Z"
   },
   {
    "duration": 12,
    "start_time": "2022-11-10T19:21:32.841Z"
   },
   {
    "duration": 5,
    "start_time": "2022-11-10T19:21:32.855Z"
   },
   {
    "duration": 15,
    "start_time": "2022-11-10T19:21:32.862Z"
   },
   {
    "duration": 10,
    "start_time": "2022-11-10T19:21:32.879Z"
   },
   {
    "duration": 127,
    "start_time": "2022-11-10T19:21:32.890Z"
   },
   {
    "duration": 0,
    "start_time": "2022-11-10T19:21:33.019Z"
   },
   {
    "duration": 0,
    "start_time": "2022-11-10T19:21:33.020Z"
   },
   {
    "duration": 0,
    "start_time": "2022-11-10T19:21:33.021Z"
   },
   {
    "duration": 0,
    "start_time": "2022-11-10T19:21:33.022Z"
   },
   {
    "duration": 9,
    "start_time": "2022-11-10T19:21:49.096Z"
   },
   {
    "duration": 9,
    "start_time": "2022-11-10T19:22:12.023Z"
   },
   {
    "duration": 16,
    "start_time": "2022-11-10T19:25:34.082Z"
   },
   {
    "duration": 15,
    "start_time": "2022-11-10T19:25:51.795Z"
   },
   {
    "duration": 431,
    "start_time": "2022-11-10T19:26:02.536Z"
   },
   {
    "duration": 361,
    "start_time": "2022-11-10T19:26:54.798Z"
   },
   {
    "duration": 15,
    "start_time": "2022-11-10T19:28:26.950Z"
   },
   {
    "duration": 340,
    "start_time": "2022-11-10T19:28:29.233Z"
   },
   {
    "duration": 10,
    "start_time": "2022-11-10T19:29:17.177Z"
   },
   {
    "duration": 11,
    "start_time": "2022-11-10T19:29:27.075Z"
   },
   {
    "duration": 456,
    "start_time": "2022-11-10T19:30:11.091Z"
   },
   {
    "duration": 346,
    "start_time": "2022-11-10T19:31:46.146Z"
   },
   {
    "duration": 17,
    "start_time": "2022-11-10T19:31:52.716Z"
   },
   {
    "duration": 331,
    "start_time": "2022-11-10T19:32:39.102Z"
   },
   {
    "duration": 364,
    "start_time": "2022-11-10T19:33:19.816Z"
   },
   {
    "duration": 441,
    "start_time": "2022-11-10T19:35:36.517Z"
   },
   {
    "duration": 12,
    "start_time": "2022-11-10T19:36:18.435Z"
   },
   {
    "duration": 12,
    "start_time": "2022-11-10T19:36:53.394Z"
   },
   {
    "duration": 14,
    "start_time": "2022-11-10T19:41:01.703Z"
   },
   {
    "duration": 393,
    "start_time": "2022-11-10T19:41:18.996Z"
   },
   {
    "duration": 19,
    "start_time": "2022-11-10T19:42:24.494Z"
   },
   {
    "duration": 332,
    "start_time": "2022-11-10T19:42:41.929Z"
   },
   {
    "duration": 443,
    "start_time": "2022-11-10T19:43:12.693Z"
   },
   {
    "duration": 21,
    "start_time": "2022-11-10T19:44:42.051Z"
   },
   {
    "duration": 354,
    "start_time": "2022-11-10T19:45:11.530Z"
   },
   {
    "duration": 343,
    "start_time": "2022-11-10T19:45:40.459Z"
   },
   {
    "duration": 486,
    "start_time": "2022-11-10T19:46:04.718Z"
   },
   {
    "duration": 16,
    "start_time": "2022-11-10T19:46:33.543Z"
   },
   {
    "duration": 360,
    "start_time": "2022-11-10T19:47:35.283Z"
   },
   {
    "duration": 5377,
    "start_time": "2022-11-10T19:47:43.314Z"
   },
   {
    "duration": 119,
    "start_time": "2022-11-10T19:47:48.694Z"
   },
   {
    "duration": 19,
    "start_time": "2022-11-10T19:47:48.815Z"
   },
   {
    "duration": 26,
    "start_time": "2022-11-10T19:47:48.836Z"
   },
   {
    "duration": 8,
    "start_time": "2022-11-10T19:47:48.863Z"
   },
   {
    "duration": 15,
    "start_time": "2022-11-10T19:47:48.873Z"
   },
   {
    "duration": 10,
    "start_time": "2022-11-10T19:47:48.890Z"
   },
   {
    "duration": 136,
    "start_time": "2022-11-10T19:47:48.901Z"
   },
   {
    "duration": 0,
    "start_time": "2022-11-10T19:47:49.039Z"
   },
   {
    "duration": 0,
    "start_time": "2022-11-10T19:47:49.040Z"
   },
   {
    "duration": 0,
    "start_time": "2022-11-10T19:47:49.052Z"
   },
   {
    "duration": 0,
    "start_time": "2022-11-10T19:47:49.052Z"
   },
   {
    "duration": 0,
    "start_time": "2022-11-10T19:47:49.054Z"
   },
   {
    "duration": 336,
    "start_time": "2022-11-10T19:48:03.854Z"
   },
   {
    "duration": 339,
    "start_time": "2022-11-10T19:48:27.928Z"
   },
   {
    "duration": 19,
    "start_time": "2022-11-10T19:49:28.731Z"
   },
   {
    "duration": 10,
    "start_time": "2022-11-10T19:51:00.597Z"
   },
   {
    "duration": 11,
    "start_time": "2022-11-10T19:51:30.878Z"
   },
   {
    "duration": 351,
    "start_time": "2022-11-10T19:52:19.312Z"
   },
   {
    "duration": 446,
    "start_time": "2022-11-10T19:52:31.811Z"
   },
   {
    "duration": 407,
    "start_time": "2022-11-10T19:52:42.166Z"
   },
   {
    "duration": 15,
    "start_time": "2022-11-10T19:54:58.661Z"
   },
   {
    "duration": 16,
    "start_time": "2022-11-10T19:55:30.578Z"
   },
   {
    "duration": 38,
    "start_time": "2022-11-10T19:56:48.700Z"
   },
   {
    "duration": 28,
    "start_time": "2022-11-10T19:57:52.072Z"
   },
   {
    "duration": 8,
    "start_time": "2022-11-10T20:00:47.727Z"
   },
   {
    "duration": 11,
    "start_time": "2022-11-10T20:01:24.235Z"
   },
   {
    "duration": 10,
    "start_time": "2022-11-10T20:01:52.488Z"
   },
   {
    "duration": 12,
    "start_time": "2022-11-10T20:02:10.118Z"
   },
   {
    "duration": 17,
    "start_time": "2022-11-10T20:02:13.492Z"
   },
   {
    "duration": 10,
    "start_time": "2022-11-10T20:03:06.395Z"
   },
   {
    "duration": 25,
    "start_time": "2022-11-10T20:03:09.559Z"
   },
   {
    "duration": 10,
    "start_time": "2022-11-10T20:03:39.220Z"
   },
   {
    "duration": 1058,
    "start_time": "2022-11-10T20:05:02.848Z"
   },
   {
    "duration": 6,
    "start_time": "2022-11-10T20:05:14.417Z"
   },
   {
    "duration": 14,
    "start_time": "2022-11-10T20:05:44.317Z"
   },
   {
    "duration": 9,
    "start_time": "2022-11-10T20:06:06.651Z"
   },
   {
    "duration": 10,
    "start_time": "2022-11-10T20:06:39.251Z"
   },
   {
    "duration": 9,
    "start_time": "2022-11-10T20:22:04.360Z"
   },
   {
    "duration": 8,
    "start_time": "2022-11-10T20:22:07.162Z"
   },
   {
    "duration": 18,
    "start_time": "2022-11-10T20:22:18.082Z"
   },
   {
    "duration": 1108,
    "start_time": "2022-11-10T20:23:01.582Z"
   },
   {
    "duration": 10,
    "start_time": "2022-11-10T20:23:12.260Z"
   },
   {
    "duration": 6,
    "start_time": "2022-11-10T20:23:14.481Z"
   },
   {
    "duration": 18,
    "start_time": "2022-11-10T20:23:46.298Z"
   },
   {
    "duration": 10,
    "start_time": "2022-11-10T20:24:05.347Z"
   },
   {
    "duration": 10,
    "start_time": "2022-11-10T20:24:17.202Z"
   },
   {
    "duration": 34,
    "start_time": "2022-11-10T20:24:20.071Z"
   },
   {
    "duration": 19,
    "start_time": "2022-11-10T20:24:35.390Z"
   },
   {
    "duration": 21,
    "start_time": "2022-11-10T20:25:58.891Z"
   },
   {
    "duration": 21,
    "start_time": "2022-11-10T20:26:29.050Z"
   },
   {
    "duration": 18,
    "start_time": "2022-11-10T20:27:11.673Z"
   },
   {
    "duration": 11,
    "start_time": "2022-11-10T20:28:25.816Z"
   },
   {
    "duration": 19,
    "start_time": "2022-11-10T20:28:28.865Z"
   },
   {
    "duration": 15,
    "start_time": "2022-11-10T20:29:14.251Z"
   },
   {
    "duration": 11,
    "start_time": "2022-11-10T20:29:32.789Z"
   },
   {
    "duration": 19,
    "start_time": "2022-11-10T20:29:35.211Z"
   },
   {
    "duration": 18,
    "start_time": "2022-11-10T20:29:56.035Z"
   },
   {
    "duration": 12,
    "start_time": "2022-11-10T20:30:14.420Z"
   },
   {
    "duration": 11,
    "start_time": "2022-11-10T20:30:20.295Z"
   },
   {
    "duration": 25,
    "start_time": "2022-11-10T20:30:26.799Z"
   },
   {
    "duration": 10,
    "start_time": "2022-11-10T20:30:40.255Z"
   },
   {
    "duration": 19,
    "start_time": "2022-11-10T20:30:43.632Z"
   },
   {
    "duration": 10,
    "start_time": "2022-11-10T20:31:21.202Z"
   },
   {
    "duration": 18,
    "start_time": "2022-11-10T20:31:24.495Z"
   },
   {
    "duration": 17,
    "start_time": "2022-11-10T20:32:47.973Z"
   },
   {
    "duration": 20,
    "start_time": "2022-11-10T20:32:56.944Z"
   },
   {
    "duration": 20,
    "start_time": "2022-11-10T20:33:08.070Z"
   },
   {
    "duration": 43,
    "start_time": "2022-11-10T20:33:29.283Z"
   },
   {
    "duration": 17,
    "start_time": "2022-11-10T20:33:32.231Z"
   },
   {
    "duration": 14,
    "start_time": "2022-11-10T20:33:35.761Z"
   },
   {
    "duration": 20,
    "start_time": "2022-11-10T20:33:43.103Z"
   },
   {
    "duration": 24,
    "start_time": "2022-11-10T20:34:28.631Z"
   },
   {
    "duration": 19,
    "start_time": "2022-11-10T20:34:46.852Z"
   },
   {
    "duration": 5454,
    "start_time": "2022-11-10T20:36:01.653Z"
   },
   {
    "duration": 129,
    "start_time": "2022-11-10T20:36:07.110Z"
   },
   {
    "duration": 23,
    "start_time": "2022-11-10T20:36:07.240Z"
   },
   {
    "duration": 12,
    "start_time": "2022-11-10T20:36:07.265Z"
   },
   {
    "duration": 12,
    "start_time": "2022-11-10T20:36:07.279Z"
   },
   {
    "duration": 22,
    "start_time": "2022-11-10T20:36:07.292Z"
   },
   {
    "duration": 3921,
    "start_time": "2022-11-10T20:36:07.315Z"
   },
   {
    "duration": 544,
    "start_time": "2022-11-10T20:36:11.238Z"
   },
   {
    "duration": 5,
    "start_time": "2022-11-10T20:36:11.783Z"
   },
   {
    "duration": 1060,
    "start_time": "2022-11-10T20:36:11.790Z"
   },
   {
    "duration": 0,
    "start_time": "2022-11-10T20:36:12.852Z"
   },
   {
    "duration": 5201,
    "start_time": "2022-11-10T20:37:35.390Z"
   },
   {
    "duration": 126,
    "start_time": "2022-11-10T20:37:40.594Z"
   },
   {
    "duration": 19,
    "start_time": "2022-11-10T20:37:40.722Z"
   },
   {
    "duration": 19,
    "start_time": "2022-11-10T20:37:40.743Z"
   },
   {
    "duration": 9,
    "start_time": "2022-11-10T20:37:40.764Z"
   },
   {
    "duration": 15,
    "start_time": "2022-11-10T20:37:40.775Z"
   },
   {
    "duration": 18,
    "start_time": "2022-11-10T20:37:40.791Z"
   },
   {
    "duration": 8,
    "start_time": "2022-11-10T20:37:40.811Z"
   },
   {
    "duration": 36,
    "start_time": "2022-11-10T20:37:40.820Z"
   },
   {
    "duration": 148,
    "start_time": "2022-11-10T20:37:40.859Z"
   },
   {
    "duration": 0,
    "start_time": "2022-11-10T20:37:41.009Z"
   },
   {
    "duration": 14,
    "start_time": "2022-11-10T20:40:04.874Z"
   },
   {
    "duration": 31,
    "start_time": "2022-11-10T20:40:41.109Z"
   },
   {
    "duration": 30,
    "start_time": "2022-11-10T20:40:48.855Z"
   },
   {
    "duration": 8,
    "start_time": "2022-11-10T20:41:10.962Z"
   },
   {
    "duration": 5509,
    "start_time": "2022-11-10T20:41:57.947Z"
   },
   {
    "duration": 126,
    "start_time": "2022-11-10T20:42:03.459Z"
   },
   {
    "duration": 19,
    "start_time": "2022-11-10T20:42:03.587Z"
   },
   {
    "duration": 12,
    "start_time": "2022-11-10T20:42:03.608Z"
   },
   {
    "duration": 8,
    "start_time": "2022-11-10T20:42:03.622Z"
   },
   {
    "duration": 5,
    "start_time": "2022-11-10T20:42:03.653Z"
   },
   {
    "duration": 31,
    "start_time": "2022-11-10T20:42:03.659Z"
   },
   {
    "duration": 9,
    "start_time": "2022-11-10T20:42:03.692Z"
   },
   {
    "duration": 5,
    "start_time": "2022-11-10T20:42:03.702Z"
   },
   {
    "duration": 160,
    "start_time": "2022-11-10T20:42:03.710Z"
   },
   {
    "duration": 0,
    "start_time": "2022-11-10T20:42:03.872Z"
   },
   {
    "duration": 27,
    "start_time": "2022-11-10T20:42:26.070Z"
   },
   {
    "duration": 26,
    "start_time": "2022-11-10T20:43:49.907Z"
   },
   {
    "duration": 5469,
    "start_time": "2022-11-10T20:44:07.378Z"
   },
   {
    "duration": 131,
    "start_time": "2022-11-10T20:44:12.849Z"
   },
   {
    "duration": 19,
    "start_time": "2022-11-10T20:44:12.982Z"
   },
   {
    "duration": 13,
    "start_time": "2022-11-10T20:44:13.003Z"
   },
   {
    "duration": 35,
    "start_time": "2022-11-10T20:44:13.018Z"
   },
   {
    "duration": 4,
    "start_time": "2022-11-10T20:44:13.055Z"
   },
   {
    "duration": 26,
    "start_time": "2022-11-10T20:44:13.061Z"
   },
   {
    "duration": 7,
    "start_time": "2022-11-10T20:44:13.089Z"
   },
   {
    "duration": 7,
    "start_time": "2022-11-10T20:44:13.097Z"
   },
   {
    "duration": 166,
    "start_time": "2022-11-10T20:44:13.106Z"
   },
   {
    "duration": 0,
    "start_time": "2022-11-10T20:44:13.274Z"
   },
   {
    "duration": 5706,
    "start_time": "2022-11-10T20:48:20.074Z"
   },
   {
    "duration": 120,
    "start_time": "2022-11-10T20:48:25.782Z"
   },
   {
    "duration": 20,
    "start_time": "2022-11-10T20:48:25.904Z"
   },
   {
    "duration": 26,
    "start_time": "2022-11-10T20:48:25.926Z"
   },
   {
    "duration": 8,
    "start_time": "2022-11-10T20:48:25.954Z"
   },
   {
    "duration": 27,
    "start_time": "2022-11-10T20:48:25.963Z"
   },
   {
    "duration": 8,
    "start_time": "2022-11-10T20:48:25.991Z"
   },
   {
    "duration": 11,
    "start_time": "2022-11-10T20:48:26.001Z"
   },
   {
    "duration": 159,
    "start_time": "2022-11-10T20:48:26.014Z"
   },
   {
    "duration": 0,
    "start_time": "2022-11-10T20:48:26.175Z"
   },
   {
    "duration": 33,
    "start_time": "2022-11-10T20:49:02.515Z"
   },
   {
    "duration": 9,
    "start_time": "2022-11-10T20:49:07.285Z"
   },
   {
    "duration": 6,
    "start_time": "2022-11-10T20:49:12.388Z"
   },
   {
    "duration": 1723,
    "start_time": "2022-11-10T20:49:15.812Z"
   },
   {
    "duration": 5,
    "start_time": "2022-11-10T20:49:31.507Z"
   },
   {
    "duration": 1815,
    "start_time": "2022-11-10T20:49:46.060Z"
   },
   {
    "duration": 4,
    "start_time": "2022-11-10T20:49:50.777Z"
   },
   {
    "duration": 89531,
    "start_time": "2022-11-10T20:50:21.457Z"
   },
   {
    "duration": 85,
    "start_time": "2022-11-10T20:52:01.399Z"
   },
   {
    "duration": 0,
    "start_time": "2022-11-10T20:53:28.689Z"
   },
   {
    "duration": 138019,
    "start_time": "2022-11-10T20:53:34.051Z"
   },
   {
    "duration": 5,
    "start_time": "2022-11-10T20:55:57.471Z"
   },
   {
    "duration": 4,
    "start_time": "2022-11-10T21:00:45.702Z"
   },
   {
    "duration": 16,
    "start_time": "2022-11-10T21:01:25.784Z"
   },
   {
    "duration": 157241,
    "start_time": "2022-11-10T21:01:36.104Z"
   },
   {
    "duration": 12,
    "start_time": "2022-11-10T21:05:21.118Z"
   },
   {
    "duration": 9,
    "start_time": "2022-11-10T21:05:29.872Z"
   },
   {
    "duration": 4473,
    "start_time": "2022-11-10T21:06:04.858Z"
   },
   {
    "duration": 157595,
    "start_time": "2022-11-10T21:07:02.520Z"
   },
   {
    "duration": 4,
    "start_time": "2022-11-10T21:09:48.392Z"
   },
   {
    "duration": 4,
    "start_time": "2022-11-10T21:09:51.723Z"
   },
   {
    "duration": 4,
    "start_time": "2022-11-10T21:10:03.053Z"
   },
   {
    "duration": 103,
    "start_time": "2022-11-10T21:13:22.994Z"
   },
   {
    "duration": 27,
    "start_time": "2022-11-10T21:13:30.538Z"
   },
   {
    "duration": 13,
    "start_time": "2022-11-10T21:13:44.433Z"
   },
   {
    "duration": 33071,
    "start_time": "2022-11-14T16:22:06.426Z"
   },
   {
    "duration": 141,
    "start_time": "2022-11-14T16:22:39.500Z"
   },
   {
    "duration": 11,
    "start_time": "2022-11-14T16:23:34.911Z"
   },
   {
    "duration": 78,
    "start_time": "2022-11-14T16:24:34.313Z"
   },
   {
    "duration": 26,
    "start_time": "2022-11-14T16:24:35.345Z"
   },
   {
    "duration": 17,
    "start_time": "2022-11-14T16:24:36.311Z"
   },
   {
    "duration": 13,
    "start_time": "2022-11-14T16:26:52.964Z"
   },
   {
    "duration": 10,
    "start_time": "2022-11-14T16:26:53.374Z"
   },
   {
    "duration": 58,
    "start_time": "2022-11-14T17:45:34.109Z"
   },
   {
    "duration": 35035,
    "start_time": "2022-11-14T17:45:51.154Z"
   },
   {
    "duration": 94,
    "start_time": "2022-11-14T17:46:26.191Z"
   },
   {
    "duration": 6918,
    "start_time": "2022-11-14T18:19:25.575Z"
   },
   {
    "duration": 127,
    "start_time": "2022-11-14T18:19:32.496Z"
   },
   {
    "duration": 35,
    "start_time": "2022-11-14T18:19:32.625Z"
   },
   {
    "duration": 15,
    "start_time": "2022-11-14T18:19:32.662Z"
   },
   {
    "duration": 35,
    "start_time": "2022-11-14T18:19:32.679Z"
   },
   {
    "duration": 12,
    "start_time": "2022-11-14T18:19:32.716Z"
   },
   {
    "duration": 51,
    "start_time": "2022-11-14T18:19:32.729Z"
   },
   {
    "duration": 7,
    "start_time": "2022-11-14T18:19:32.782Z"
   },
   {
    "duration": 19,
    "start_time": "2022-11-14T18:19:32.791Z"
   },
   {
    "duration": 177761,
    "start_time": "2022-11-14T18:19:32.813Z"
   },
   {
    "duration": 7,
    "start_time": "2022-11-14T18:22:30.576Z"
   },
   {
    "duration": 1040258,
    "start_time": "2022-11-14T18:22:30.586Z"
   },
   {
    "duration": 5,
    "start_time": "2022-11-14T18:39:50.850Z"
   },
   {
    "duration": 32903,
    "start_time": "2022-11-15T14:33:30.798Z"
   },
   {
    "duration": 172,
    "start_time": "2022-11-15T14:34:03.703Z"
   },
   {
    "duration": 28,
    "start_time": "2022-11-15T14:34:03.877Z"
   },
   {
    "duration": 14,
    "start_time": "2022-11-15T14:34:03.907Z"
   },
   {
    "duration": 27,
    "start_time": "2022-11-15T14:34:03.923Z"
   },
   {
    "duration": 8,
    "start_time": "2022-11-15T14:34:03.952Z"
   },
   {
    "duration": 55,
    "start_time": "2022-11-15T14:34:03.961Z"
   },
   {
    "duration": 5,
    "start_time": "2022-11-15T14:34:04.018Z"
   },
   {
    "duration": 7,
    "start_time": "2022-11-15T14:34:04.025Z"
   },
   {
    "duration": 169714,
    "start_time": "2022-11-15T14:34:04.034Z"
   },
   {
    "duration": 7,
    "start_time": "2022-11-15T14:36:53.750Z"
   }
  ],
  "kernelspec": {
   "display_name": "Python 3 (ipykernel)",
   "language": "python",
   "name": "python3"
  },
  "language_info": {
   "codemirror_mode": {
    "name": "ipython",
    "version": 3
   },
   "file_extension": ".py",
   "mimetype": "text/x-python",
   "name": "python",
   "nbconvert_exporter": "python",
   "pygments_lexer": "ipython3",
   "version": "3.9.12"
  },
  "toc": {
   "base_numbering": 1,
   "nav_menu": {},
   "number_sections": true,
   "sideBar": true,
   "skip_h1_title": true,
   "title_cell": "Содержание",
   "title_sidebar": "Contents",
   "toc_cell": true,
   "toc_position": {
    "height": "calc(100% - 180px)",
    "left": "10px",
    "top": "150px",
    "width": "307.2px"
   },
   "toc_section_display": true,
   "toc_window_display": true
  }
 },
 "nbformat": 4,
 "nbformat_minor": 2
}
