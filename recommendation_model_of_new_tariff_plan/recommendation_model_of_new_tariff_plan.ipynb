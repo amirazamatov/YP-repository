{
 "cells": [
  {
   "attachments": {},
   "cell_type": "markdown",
   "metadata": {
    "toc": true
   },
   "source": [
    "<h1>Contents<span class=\"tocSkip\"></span></h1>\n",
    "<div class=\"toc\"><ul class=\"toc-item\"><li><span><a href=\"#Знакомство-с-данными\" data-toc-modified-id=\"Знакомство-с-данными-1\"><span class=\"toc-item-num\">1&nbsp;&nbsp;</span>Знакомство с данными</a></span></li><li><span><a href=\"#Разделение-данных-на-выборки\" data-toc-modified-id=\"Разделение-данных-на-выборки-2\"><span class=\"toc-item-num\">2&nbsp;&nbsp;</span>Разделение данных на выборки</a></span></li><li><span><a href=\"#Построение-моделей\" data-toc-modified-id=\"Построение-моделей-3\"><span class=\"toc-item-num\">3&nbsp;&nbsp;</span>Построение моделей</a></span><ul class=\"toc-item\"><li><span><a href=\"#Модель-&quot;дерево-решений&quot;\" data-toc-modified-id=\"Модель-&quot;дерево-решений&quot;-3.1\"><span class=\"toc-item-num\">3.1&nbsp;&nbsp;</span>Модель \"дерево решений\"</a></span></li><li><span><a href=\"#Модель-&quot;случайный-лес&quot;\" data-toc-modified-id=\"Модель-&quot;случайный-лес&quot;-3.2\"><span class=\"toc-item-num\">3.2&nbsp;&nbsp;</span>Модель \"случайный лес\"</a></span></li><li><span><a href=\"#Модель-логистической-регрессии\" data-toc-modified-id=\"Модель-логистической-регрессии-3.3\"><span class=\"toc-item-num\">3.3&nbsp;&nbsp;</span>Модель логистической регрессии</a></span></li></ul></li><li><span><a href=\"#Проверка-модели-на-тестовой-выборке\" data-toc-modified-id=\"Проверка-модели-на-тестовой-выборке-4\"><span class=\"toc-item-num\">4&nbsp;&nbsp;</span>Проверка модели на тестовой выборке</a></span></li><li><span><a href=\"#Проверка-модели-на-адекватность\" data-toc-modified-id=\"Проверка-модели-на-адекватность-5\"><span class=\"toc-item-num\">5&nbsp;&nbsp;</span>Проверка модели на адекватность</a></span></li><li><span><a href=\"#Выводы\" data-toc-modified-id=\"Выводы-6\"><span class=\"toc-item-num\">6&nbsp;&nbsp;</span>Выводы</a></span></li></ul></div>"
   ]
  },
  {
   "attachments": {},
   "cell_type": "markdown",
   "metadata": {},
   "source": [
    "# Рекомендация тарифов"
   ]
  },
  {
   "attachments": {},
   "cell_type": "markdown",
   "metadata": {},
   "source": [
    "В компании оператора связи произошло обновление тарифов, старые тарифы переводятся в архив и больше использоваться не будут. Компании необходим инструмент, который будет рекомендовать для каждого пользователя новый тариф, основываясь на особенностях его использования тарифных опций в прошлом. В нашем распоряжении данные о поведении клиентов, которые уже перешли на новые тарифные планы. \n",
    "\n",
    "**Цель** - построить модель для задачи классификации, которая выберет подходящий тариф для пользователя. \n",
    "\n",
    "Необходимо построить модель с максимально большим значением *accuracy*, по техническому заданию не менее 0.75. Предобработка данных уже проведена."
   ]
  },
  {
   "attachments": {},
   "cell_type": "markdown",
   "metadata": {},
   "source": [
    "## Знакомство с данными"
   ]
  },
  {
   "cell_type": "code",
   "execution_count": 1,
   "metadata": {},
   "outputs": [],
   "source": [
    "# загружаем необходимые библиотеки\n",
    "import pandas as pd\n",
    "\n",
    "from sklearn.tree import DecisionTreeClassifier\n",
    "from sklearn.ensemble import RandomForestClassifier\n",
    "from sklearn.linear_model import LogisticRegression\n",
    "from sklearn.model_selection import train_test_split\n",
    "from sklearn.metrics import accuracy_score \n",
    "from sklearn.dummy import DummyClassifier\n"
   ]
  },
  {
   "cell_type": "code",
   "execution_count": 2,
   "metadata": {},
   "outputs": [
    {
     "data": {
      "text/html": [
       "<div>\n",
       "<style scoped>\n",
       "    .dataframe tbody tr th:only-of-type {\n",
       "        vertical-align: middle;\n",
       "    }\n",
       "\n",
       "    .dataframe tbody tr th {\n",
       "        vertical-align: top;\n",
       "    }\n",
       "\n",
       "    .dataframe thead th {\n",
       "        text-align: right;\n",
       "    }\n",
       "</style>\n",
       "<table border=\"1\" class=\"dataframe\">\n",
       "  <thead>\n",
       "    <tr style=\"text-align: right;\">\n",
       "      <th></th>\n",
       "      <th>calls</th>\n",
       "      <th>minutes</th>\n",
       "      <th>messages</th>\n",
       "      <th>mb_used</th>\n",
       "      <th>is_ultra</th>\n",
       "    </tr>\n",
       "  </thead>\n",
       "  <tbody>\n",
       "    <tr>\n",
       "      <th>0</th>\n",
       "      <td>40.0</td>\n",
       "      <td>311.90</td>\n",
       "      <td>83.0</td>\n",
       "      <td>19915.42</td>\n",
       "      <td>0</td>\n",
       "    </tr>\n",
       "    <tr>\n",
       "      <th>1</th>\n",
       "      <td>85.0</td>\n",
       "      <td>516.75</td>\n",
       "      <td>56.0</td>\n",
       "      <td>22696.96</td>\n",
       "      <td>0</td>\n",
       "    </tr>\n",
       "    <tr>\n",
       "      <th>2</th>\n",
       "      <td>77.0</td>\n",
       "      <td>467.66</td>\n",
       "      <td>86.0</td>\n",
       "      <td>21060.45</td>\n",
       "      <td>0</td>\n",
       "    </tr>\n",
       "    <tr>\n",
       "      <th>3</th>\n",
       "      <td>106.0</td>\n",
       "      <td>745.53</td>\n",
       "      <td>81.0</td>\n",
       "      <td>8437.39</td>\n",
       "      <td>1</td>\n",
       "    </tr>\n",
       "    <tr>\n",
       "      <th>4</th>\n",
       "      <td>66.0</td>\n",
       "      <td>418.74</td>\n",
       "      <td>1.0</td>\n",
       "      <td>14502.75</td>\n",
       "      <td>0</td>\n",
       "    </tr>\n",
       "  </tbody>\n",
       "</table>\n",
       "</div>"
      ],
      "text/plain": [
       "   calls  minutes  messages   mb_used  is_ultra\n",
       "0   40.0   311.90      83.0  19915.42         0\n",
       "1   85.0   516.75      56.0  22696.96         0\n",
       "2   77.0   467.66      86.0  21060.45         0\n",
       "3  106.0   745.53      81.0   8437.39         1\n",
       "4   66.0   418.74       1.0  14502.75         0"
      ]
     },
     "execution_count": 2,
     "metadata": {},
     "output_type": "execute_result"
    }
   ],
   "source": [
    "# загружаем датасет\n",
    "try:\n",
    "    df = pd.read_csv('/Users/amirk/Downloads/users_behavior.csv')\n",
    "except:\n",
    "    df = pd.read_csv('/datasets/users_behavior.csv')\n",
    "\n",
    "df.head()"
   ]
  },
  {
   "cell_type": "code",
   "execution_count": 3,
   "metadata": {},
   "outputs": [
    {
     "name": "stdout",
     "output_type": "stream",
     "text": [
      "<class 'pandas.core.frame.DataFrame'>\n",
      "RangeIndex: 3214 entries, 0 to 3213\n",
      "Data columns (total 5 columns):\n",
      " #   Column    Non-Null Count  Dtype  \n",
      "---  ------    --------------  -----  \n",
      " 0   calls     3214 non-null   float64\n",
      " 1   minutes   3214 non-null   float64\n",
      " 2   messages  3214 non-null   float64\n",
      " 3   mb_used   3214 non-null   float64\n",
      " 4   is_ultra  3214 non-null   int64  \n",
      "dtypes: float64(4), int64(1)\n",
      "memory usage: 125.7 KB\n"
     ]
    }
   ],
   "source": [
    "# изучим датафрейм\n",
    "df.info()"
   ]
  },
  {
   "cell_type": "code",
   "execution_count": 4,
   "metadata": {},
   "outputs": [
    {
     "data": {
      "text/html": [
       "<div>\n",
       "<style scoped>\n",
       "    .dataframe tbody tr th:only-of-type {\n",
       "        vertical-align: middle;\n",
       "    }\n",
       "\n",
       "    .dataframe tbody tr th {\n",
       "        vertical-align: top;\n",
       "    }\n",
       "\n",
       "    .dataframe thead th {\n",
       "        text-align: right;\n",
       "    }\n",
       "</style>\n",
       "<table border=\"1\" class=\"dataframe\">\n",
       "  <thead>\n",
       "    <tr style=\"text-align: right;\">\n",
       "      <th></th>\n",
       "      <th>calls</th>\n",
       "      <th>minutes</th>\n",
       "      <th>messages</th>\n",
       "      <th>mb_used</th>\n",
       "      <th>is_ultra</th>\n",
       "    </tr>\n",
       "  </thead>\n",
       "  <tbody>\n",
       "    <tr>\n",
       "      <th>count</th>\n",
       "      <td>3214.000000</td>\n",
       "      <td>3214.000000</td>\n",
       "      <td>3214.000000</td>\n",
       "      <td>3214.000000</td>\n",
       "      <td>3214.000000</td>\n",
       "    </tr>\n",
       "    <tr>\n",
       "      <th>mean</th>\n",
       "      <td>63.038892</td>\n",
       "      <td>438.208787</td>\n",
       "      <td>38.281269</td>\n",
       "      <td>17207.673836</td>\n",
       "      <td>0.306472</td>\n",
       "    </tr>\n",
       "    <tr>\n",
       "      <th>std</th>\n",
       "      <td>33.236368</td>\n",
       "      <td>234.569872</td>\n",
       "      <td>36.148326</td>\n",
       "      <td>7570.968246</td>\n",
       "      <td>0.461100</td>\n",
       "    </tr>\n",
       "    <tr>\n",
       "      <th>min</th>\n",
       "      <td>0.000000</td>\n",
       "      <td>0.000000</td>\n",
       "      <td>0.000000</td>\n",
       "      <td>0.000000</td>\n",
       "      <td>0.000000</td>\n",
       "    </tr>\n",
       "    <tr>\n",
       "      <th>25%</th>\n",
       "      <td>40.000000</td>\n",
       "      <td>274.575000</td>\n",
       "      <td>9.000000</td>\n",
       "      <td>12491.902500</td>\n",
       "      <td>0.000000</td>\n",
       "    </tr>\n",
       "    <tr>\n",
       "      <th>50%</th>\n",
       "      <td>62.000000</td>\n",
       "      <td>430.600000</td>\n",
       "      <td>30.000000</td>\n",
       "      <td>16943.235000</td>\n",
       "      <td>0.000000</td>\n",
       "    </tr>\n",
       "    <tr>\n",
       "      <th>75%</th>\n",
       "      <td>82.000000</td>\n",
       "      <td>571.927500</td>\n",
       "      <td>57.000000</td>\n",
       "      <td>21424.700000</td>\n",
       "      <td>1.000000</td>\n",
       "    </tr>\n",
       "    <tr>\n",
       "      <th>max</th>\n",
       "      <td>244.000000</td>\n",
       "      <td>1632.060000</td>\n",
       "      <td>224.000000</td>\n",
       "      <td>49745.730000</td>\n",
       "      <td>1.000000</td>\n",
       "    </tr>\n",
       "  </tbody>\n",
       "</table>\n",
       "</div>"
      ],
      "text/plain": [
       "             calls      minutes     messages       mb_used     is_ultra\n",
       "count  3214.000000  3214.000000  3214.000000   3214.000000  3214.000000\n",
       "mean     63.038892   438.208787    38.281269  17207.673836     0.306472\n",
       "std      33.236368   234.569872    36.148326   7570.968246     0.461100\n",
       "min       0.000000     0.000000     0.000000      0.000000     0.000000\n",
       "25%      40.000000   274.575000     9.000000  12491.902500     0.000000\n",
       "50%      62.000000   430.600000    30.000000  16943.235000     0.000000\n",
       "75%      82.000000   571.927500    57.000000  21424.700000     1.000000\n",
       "max     244.000000  1632.060000   224.000000  49745.730000     1.000000"
      ]
     },
     "execution_count": 4,
     "metadata": {},
     "output_type": "execute_result"
    }
   ],
   "source": [
    "df.describe()"
   ]
  },
  {
   "attachments": {},
   "cell_type": "markdown",
   "metadata": {},
   "source": [
    "Датасет загружен, в данных нет пропусков, тип данных соответсвует описываемому параметру."
   ]
  },
  {
   "attachments": {},
   "cell_type": "markdown",
   "metadata": {},
   "source": [
    "## Разделение данных на выборки"
   ]
  },
  {
   "cell_type": "code",
   "execution_count": 5,
   "metadata": {},
   "outputs": [],
   "source": [
    "# выделим целевой показатель и параметры\n",
    "\n",
    "features = df.drop('is_ultra', axis=1)\n",
    "target = df['is_ultra']"
   ]
  },
  {
   "cell_type": "code",
   "execution_count": 6,
   "metadata": {},
   "outputs": [],
   "source": [
    "# разобьем данные на 3 выборки: обучающую, валидационную и тестовую (60%, 20%, 20%).\n",
    "\n",
    "features_train, features_test, target_train, target_test = train_test_split(features, target, test_size=0.25, random_state=123)\n",
    "features_train, features_valid, target_train, target_valid = train_test_split(features_train, target_train, test_size=0.25, random_state=123)"
   ]
  },
  {
   "attachments": {},
   "cell_type": "markdown",
   "metadata": {},
   "source": [
    "## Построение моделей"
   ]
  },
  {
   "attachments": {},
   "cell_type": "markdown",
   "metadata": {},
   "source": [
    "### Модель \"дерево решений\""
   ]
  },
  {
   "cell_type": "code",
   "execution_count": 7,
   "metadata": {},
   "outputs": [
    {
     "name": "stdout",
     "output_type": "stream",
     "text": [
      "Лучшая модель \"дерево решений\" имеет accuracy = 0.7778, max_depth = 10, min_sample_split = 2.\n"
     ]
    }
   ],
   "source": [
    "best_tree_model = None\n",
    "best_accuracy_tree = 0\n",
    "best_max_depth_tree = 1\n",
    "best_min_sample_split_tree = 2\n",
    "for depth in range(1,15):\n",
    "    for sample_split in range(2,5):\n",
    "        model_tree = DecisionTreeClassifier(max_depth=depth, min_samples_split=sample_split, random_state=123)\n",
    "        model_tree.fit(features_train, target_train)\n",
    "        predictions_valid_tree = model_tree.predict(features_valid)\n",
    "        accuracy_tree = accuracy_score(target_valid, predictions_valid_tree)\n",
    "        if best_accuracy_tree < accuracy_tree:\n",
    "            best_accuracy_tree = accuracy_tree\n",
    "            best_tree_model = model_tree\n",
    "            best_max_depth_tree = depth\n",
    "            best_min_sample_split_tree = sample_split\n",
    "print (f'Лучшая модель \"дерево решений\" имеет accuracy = {best_accuracy_tree:.4f}, max_depth = {best_max_depth_tree}, min_sample_split = {best_min_sample_split_tree}.')"
   ]
  },
  {
   "attachments": {},
   "cell_type": "markdown",
   "metadata": {},
   "source": [
    "### Модель \"случайный лес\""
   ]
  },
  {
   "cell_type": "code",
   "execution_count": 8,
   "metadata": {},
   "outputs": [
    {
     "name": "stdout",
     "output_type": "stream",
     "text": [
      "Лучшая модель \"случайный лес\" имеет accuracy = 0.7960, max_depth = 9, min_sample_split = 4, n_estimators = 15.\n"
     ]
    }
   ],
   "source": [
    "best_forest_model = None\n",
    "best_accuracy_forest = 0\n",
    "best_max_depth_forest = 1\n",
    "best_min_sample_split_forest = 2\n",
    "best_n_estimators = 1\n",
    "for depth in range(1, 10):\n",
    "    for min_sample in range(2,5):\n",
    "        for est in range(5,50,5):\n",
    "            model_forest = RandomForestClassifier(max_depth=depth, \n",
    "                                                  min_samples_split=min_sample, \n",
    "                                                  n_estimators=est, \n",
    "                                                  random_state=123)\n",
    "            model_forest.fit(features_train, target_train)\n",
    "            predictions_valid_forest = model_forest.predict(features_valid)\n",
    "            accuracy_forest = accuracy_score(target_valid, predictions_valid_forest)\n",
    "            if best_accuracy_forest < accuracy_forest:\n",
    "                best_accuracy_forest = accuracy_forest\n",
    "                best_forest_model = model_forest\n",
    "                best_max_depth_forest = depth\n",
    "                best_min_sample_split_forest = sample_split\n",
    "                best_n_estimators = est\n",
    "print (f'Лучшая модель \"случайный лес\" имеет accuracy = {best_accuracy_forest:.4f}, max_depth = {best_max_depth_forest}, min_sample_split = {best_min_sample_split_forest}, n_estimators = {best_n_estimators}.')"
   ]
  },
  {
   "attachments": {},
   "cell_type": "markdown",
   "metadata": {},
   "source": [
    "### Модель логистической регрессии"
   ]
  },
  {
   "cell_type": "code",
   "execution_count": 9,
   "metadata": {},
   "outputs": [
    {
     "name": "stdout",
     "output_type": "stream",
     "text": [
      "Лучшая модель логистической регрессии имеет accuracy = 0.7247, max_iter = 100.\n"
     ]
    }
   ],
   "source": [
    "best_reg_model = None\n",
    "best_accuracy_reg = 0\n",
    "best_solver = None\n",
    "best_max_iter = 0\n",
    "for m_iter in range(100,1100,100):\n",
    "    model_reg = LogisticRegression(random_state=123, solver='lbfgs', max_iter=m_iter)\n",
    "    model_reg.fit(features_train, target_train)\n",
    "    predictions_valid_reg = model_reg.predict(features_valid)\n",
    "    accuracy_reg = accuracy_score(target_valid, predictions_valid_reg)\n",
    "    if accuracy_reg > best_accuracy_reg:\n",
    "        best_accuracy_reg = accuracy_reg\n",
    "        best_reg_model = model_reg\n",
    "        best_max_iter = m_iter\n",
    "print (f'Лучшая модель логистической регрессии имеет accuracy = {best_accuracy_reg:.4f}, max_iter = {best_max_iter}.')"
   ]
  },
  {
   "cell_type": "code",
   "execution_count": 10,
   "metadata": {},
   "outputs": [
    {
     "name": "stdout",
     "output_type": "stream",
     "text": [
      "Лучшая модель логистической регрессии имеет accuracy = 0.7247, max_iter = 100, C = 1.\n"
     ]
    }
   ],
   "source": [
    "best_reg_model = None\n",
    "best_accuracy_reg = 0\n",
    "best_solver = None\n",
    "best_max_iter = 0\n",
    "best_C = 0\n",
    "for m_iter in range(100,1100,100):\n",
    "    for c in [1, 10, 100, 1000]:\n",
    "        model_reg = LogisticRegression(random_state=123, solver='lbfgs', max_iter=m_iter, C=c)\n",
    "        model_reg.fit(features_train, target_train)\n",
    "        predictions_valid_reg = model_reg.predict(features_valid)\n",
    "        accuracy_reg = accuracy_score(target_valid, predictions_valid_reg)\n",
    "        if accuracy_reg > best_accuracy_reg:\n",
    "            best_accuracy_reg = accuracy_reg\n",
    "            best_reg_model = model_reg\n",
    "            best_max_iter = m_iter\n",
    "            best_C = c\n",
    "print (f'Лучшая модель логистической регрессии имеет accuracy = {best_accuracy_reg:.4f}, max_iter = {best_max_iter}, C = {best_C}.')"
   ]
  },
  {
   "attachments": {},
   "cell_type": "markdown",
   "metadata": {},
   "source": [
    "# Выбор лучшей модели   \n",
    "\n",
    "В ходе исследования мы построили 3 модели для задачи классификации, где основным параметром качества модели являлось значение **accuracy**.\n",
    "\n",
    "Лучшая `модель \"дерево решений\"` имеет **accuracy = 0.7778**, max_depth = 10, min_sample_split = 2.   \n",
    "Лучшая `модель \"случайный лес\"` имеет **accuracy = 0.7960**, max_depth = 9, min_sample_split = 4, n_estimators = 15.   \n",
    "Лучшая `модель логистической регрессии` имеет **accuracy = 0.7247**, max_iter = 100.   \n",
    "\n",
    "**Таким образом, при построении и обучении моделей на данном датасете, лучшей моделью стала** `модель \"случайный лес\"`**.**"
   ]
  },
  {
   "attachments": {},
   "cell_type": "markdown",
   "metadata": {},
   "source": [
    "## Проверка модели на тестовой выборке"
   ]
  },
  {
   "cell_type": "code",
   "execution_count": 11,
   "metadata": {},
   "outputs": [
    {
     "name": "stdout",
     "output_type": "stream",
     "text": [
      "Модель \"случайный лес\" на тестовых данных имеет accuracy = 0.8035\n"
     ]
    }
   ],
   "source": [
    "# проверяем модель\"случайный лес\" на тестовой выборке\n",
    "predictions_test_forest = best_forest_model.predict(features_test)\n",
    "accuracy_forest = accuracy_score(target_test, predictions_test_forest)\n",
    "print (f'Модель \"случайный лес\" на тестовых данных имеет accuracy = {accuracy_forest:.4f}')"
   ]
  },
  {
   "attachments": {},
   "cell_type": "markdown",
   "metadata": {},
   "source": [
    "**Лучшая обученная модель (\"случайный лес\") на тестовых данных получила accuracy = 0.8035.**"
   ]
  },
  {
   "attachments": {},
   "cell_type": "markdown",
   "metadata": {},
   "source": [
    "## Проверка модели на адекватность"
   ]
  },
  {
   "attachments": {},
   "cell_type": "markdown",
   "metadata": {},
   "source": [
    "Для проверки адекватности модели классификации необходимо сравнить ее со случайной моделью."
   ]
  },
  {
   "cell_type": "code",
   "execution_count": 12,
   "metadata": {},
   "outputs": [
    {
     "name": "stdout",
     "output_type": "stream",
     "text": [
      "Случайная модель на валидационных данных имеет accuracy = 0.4826\n",
      "Случайная модель на тестовых данных имеет accuracy = 0.5050\n"
     ]
    }
   ],
   "source": [
    "model_random = DummyClassifier(strategy='uniform', random_state=123)\n",
    "model_random.fit(features_train, target_train)\n",
    "predictions_random_val = model_random.predict(features_valid)\n",
    "predictions_random_test = model_random.predict(features_test)\n",
    "\n",
    "accuracy_random_val = accuracy_score(target_valid, predictions_random_val)\n",
    "accuracy_random_test = accuracy_score(target_test, predictions_random_test)\n",
    "print (f'Случайная модель на валидационных данных имеет accuracy = {accuracy_random_val:.4f}')\n",
    "print (f'Случайная модель на тестовых данных имеет accuracy = {accuracy_random_test:.4f}')"
   ]
  },
  {
   "attachments": {},
   "cell_type": "markdown",
   "metadata": {},
   "source": [
    "**Accuracy** `случайной модели` на тестовых данных равна **0.5050**. Это значительно меньше выбранной лучшей модели (`\"случайный лес\"`- **accuracy = 0.8035**). Однако необходимо проверить, есть ли между данными значениями статистически значимые различия.   \n",
    "Нам необходимо сравнить 2 выборки **predictions_random_test** и **predictions_test_forest** с категориальным типом данных. Для этого применяют хи-квадрат Пирсона. Рассчитаем р-value!\n"
   ]
  },
  {
   "cell_type": "code",
   "execution_count": 13,
   "metadata": {},
   "outputs": [
    {
     "name": "stdout",
     "output_type": "stream",
     "text": [
      "Выбранная модель адекватна, статистически значимые различия со случайной выборкой выявлены, p-value = 0.000\n"
     ]
    }
   ],
   "source": [
    "from scipy.stats import chi2_contingency\n",
    "import numpy as np\n",
    "data = np.array([[predictions_random_test.sum(), (len(predictions_random_test) - predictions_random_test.sum())],\n",
    "                [predictions_test_forest.sum(), (len(predictions_test_forest) - predictions_test_forest.sum())]])\n",
    "statistics = chi2_contingency(data)\n",
    "if statistics[1] > 0.05:\n",
    "    print(f'Выбранная модель не адекватна, статистически значимых различий со случайной выборкой нет, p-value = {statistics[1]:.3f}')\n",
    "else:\n",
    "    print(f'Выбранная модель адекватна, статистически значимые различия со случайной выборкой выявлены, p-value = {statistics[1]:.3f}')\n"
   ]
  },
  {
   "attachments": {},
   "cell_type": "markdown",
   "metadata": {},
   "source": [
    "## Выводы\n",
    "В ходе исследования мы построили 3 модели для задачи классификации (распределение пользователей по типам тарифов), где основным параметром качества модели являлось значение **accuracy**.   \n",
    "\n",
    "`Модель \"дерево решений\"` имеет **accuracy = 0.7778**, max_depth = 10, min_sample_split = 2.   \n",
    "`Модель \"случайный лес\"` имеет **accuracy = 0.7960**, max_depth = 9, min_sample_split = 4, n_estimators = 15.   \n",
    "`Модель логистической регрессии` имеет **accuracy = 0.7247**, max_iter = 100.   \n",
    "\n",
    "Таким образом, при построении и обучении моделей на данном датасете, лучшей моделью стала `модель \"случайный лес\"`.   \n",
    "\n",
    "Лучшая обученная модель (`\"случайный лес\"`) на тестовых данных также показала лучшие результаты! Accuracy данной модели на тестовой выборке = 0.8035.   \n",
    "\n",
    "При оценке адекватности разработанной модели проведено ее сранение со случайной моделью. Наша модель показала статистически значимо более высокие результаты качества, р-value = 0.000."
   ]
  }
 ],
 "metadata": {
  "ExecuteTimeLog": [
   {
    "duration": 1132,
    "start_time": "2022-10-22T18:05:33.910Z"
   },
   {
    "duration": 11,
    "start_time": "2022-10-22T18:06:22.100Z"
   },
   {
    "duration": 53,
    "start_time": "2022-10-22T18:07:41.649Z"
   },
   {
    "duration": 10,
    "start_time": "2022-10-22T18:08:56.918Z"
   },
   {
    "duration": 3,
    "start_time": "2022-10-22T18:27:29.022Z"
   },
   {
    "duration": 6,
    "start_time": "2022-10-22T18:31:37.734Z"
   },
   {
    "duration": 1051,
    "start_time": "2022-10-23T19:04:06.558Z"
   },
   {
    "duration": 49,
    "start_time": "2022-10-23T19:04:07.611Z"
   },
   {
    "duration": 10,
    "start_time": "2022-10-23T19:04:07.661Z"
   },
   {
    "duration": 5,
    "start_time": "2022-10-23T19:04:07.673Z"
   },
   {
    "duration": 7,
    "start_time": "2022-10-23T19:04:07.679Z"
   },
   {
    "duration": 4,
    "start_time": "2022-10-23T19:31:57.076Z"
   },
   {
    "duration": 77,
    "start_time": "2022-10-23T19:44:11.810Z"
   },
   {
    "duration": 93,
    "start_time": "2022-10-23T19:45:09.499Z"
   },
   {
    "duration": 10,
    "start_time": "2022-10-23T19:45:47.220Z"
   },
   {
    "duration": 11,
    "start_time": "2022-10-23T19:50:20.268Z"
   },
   {
    "duration": 11,
    "start_time": "2022-10-23T19:51:34.984Z"
   },
   {
    "duration": 13,
    "start_time": "2022-10-23T19:52:29.805Z"
   },
   {
    "duration": 168,
    "start_time": "2022-10-23T19:52:55.912Z"
   },
   {
    "duration": 271,
    "start_time": "2022-10-23T19:53:33.009Z"
   },
   {
    "duration": 282,
    "start_time": "2022-10-23T19:53:47.425Z"
   },
   {
    "duration": 123,
    "start_time": "2022-10-23T19:54:02.744Z"
   },
   {
    "duration": 167,
    "start_time": "2022-10-23T19:54:19.894Z"
   },
   {
    "duration": 2633,
    "start_time": "2022-10-23T19:54:25.995Z"
   },
   {
    "duration": 310,
    "start_time": "2022-10-23T19:54:41.245Z"
   },
   {
    "duration": 264,
    "start_time": "2022-10-23T20:02:43.648Z"
   },
   {
    "duration": 269,
    "start_time": "2022-10-23T20:03:00.728Z"
   },
   {
    "duration": 260,
    "start_time": "2022-10-23T20:03:12.528Z"
   },
   {
    "duration": 273,
    "start_time": "2022-10-23T20:03:15.719Z"
   },
   {
    "duration": 1023,
    "start_time": "2022-10-23T20:03:24.769Z"
   },
   {
    "duration": 30,
    "start_time": "2022-10-23T20:03:25.794Z"
   },
   {
    "duration": 11,
    "start_time": "2022-10-23T20:03:25.825Z"
   },
   {
    "duration": 5,
    "start_time": "2022-10-23T20:03:25.837Z"
   },
   {
    "duration": 8,
    "start_time": "2022-10-23T20:03:25.845Z"
   },
   {
    "duration": 120,
    "start_time": "2022-10-23T20:03:25.854Z"
   },
   {
    "duration": 309,
    "start_time": "2022-10-23T20:03:48.950Z"
   },
   {
    "duration": 181,
    "start_time": "2022-10-23T20:07:40.268Z"
   },
   {
    "duration": 267,
    "start_time": "2022-10-23T20:07:51.322Z"
   },
   {
    "duration": 40,
    "start_time": "2022-10-23T20:19:33.280Z"
   },
   {
    "duration": 12,
    "start_time": "2022-10-23T20:20:10.252Z"
   },
   {
    "duration": 23,
    "start_time": "2022-10-23T20:20:30.559Z"
   },
   {
    "duration": 22,
    "start_time": "2022-10-23T20:21:43.178Z"
   },
   {
    "duration": 22,
    "start_time": "2022-10-23T20:21:54.889Z"
   },
   {
    "duration": 21,
    "start_time": "2022-10-23T20:22:20.215Z"
   },
   {
    "duration": 13441,
    "start_time": "2022-10-23T20:23:18.006Z"
   },
   {
    "duration": 13449,
    "start_time": "2022-10-23T20:24:32.796Z"
   },
   {
    "duration": 1052,
    "start_time": "2022-10-24T06:30:41.525Z"
   },
   {
    "duration": 140,
    "start_time": "2022-10-24T06:30:42.579Z"
   },
   {
    "duration": 12,
    "start_time": "2022-10-24T06:30:42.720Z"
   },
   {
    "duration": 3,
    "start_time": "2022-10-24T06:30:42.734Z"
   },
   {
    "duration": 7,
    "start_time": "2022-10-24T06:30:42.740Z"
   },
   {
    "duration": 277,
    "start_time": "2022-10-24T06:30:42.749Z"
   },
   {
    "duration": 12522,
    "start_time": "2022-10-24T06:30:43.027Z"
   },
   {
    "duration": 212,
    "start_time": "2022-10-24T06:54:31.412Z"
   },
   {
    "duration": 3204,
    "start_time": "2022-10-24T06:55:09.169Z"
   },
   {
    "duration": 3274,
    "start_time": "2022-10-24T06:55:49.599Z"
   },
   {
    "duration": 18,
    "start_time": "2022-10-24T06:57:23.692Z"
   },
   {
    "duration": 66,
    "start_time": "2022-10-24T06:58:58.129Z"
   },
   {
    "duration": 195,
    "start_time": "2022-10-24T06:59:31.417Z"
   },
   {
    "duration": 259,
    "start_time": "2022-10-24T06:59:47.207Z"
   },
   {
    "duration": 238,
    "start_time": "2022-10-24T06:59:56.960Z"
   },
   {
    "duration": 148,
    "start_time": "2022-10-24T07:00:11.523Z"
   },
   {
    "duration": 213,
    "start_time": "2022-10-24T07:02:49.408Z"
   },
   {
    "duration": 72,
    "start_time": "2022-10-24T07:20:47.096Z"
   },
   {
    "duration": 88,
    "start_time": "2022-10-24T07:20:53.463Z"
   },
   {
    "duration": 9,
    "start_time": "2022-10-24T07:21:09.150Z"
   },
   {
    "duration": 9,
    "start_time": "2022-10-24T07:21:39.676Z"
   },
   {
    "duration": 10,
    "start_time": "2022-10-24T07:22:38.194Z"
   },
   {
    "duration": 11,
    "start_time": "2022-10-24T07:22:39.329Z"
   },
   {
    "duration": 1027,
    "start_time": "2022-10-24T17:30:15.616Z"
   },
   {
    "duration": 135,
    "start_time": "2022-10-24T17:30:16.646Z"
   },
   {
    "duration": 11,
    "start_time": "2022-10-24T17:30:16.782Z"
   },
   {
    "duration": 19,
    "start_time": "2022-10-24T17:30:16.795Z"
   },
   {
    "duration": 25,
    "start_time": "2022-10-24T17:30:16.815Z"
   },
   {
    "duration": 284,
    "start_time": "2022-10-24T17:30:16.842Z"
   },
   {
    "duration": 14220,
    "start_time": "2022-10-24T17:30:17.128Z"
   },
   {
    "duration": 315,
    "start_time": "2022-10-24T17:30:31.350Z"
   },
   {
    "duration": 11,
    "start_time": "2022-10-24T17:30:31.667Z"
   },
   {
    "duration": 97,
    "start_time": "2022-10-24T17:35:03.465Z"
   },
   {
    "duration": 275,
    "start_time": "2022-10-24T17:36:15.868Z"
   },
   {
    "duration": 7,
    "start_time": "2022-10-24T17:36:24.670Z"
   },
   {
    "duration": 9,
    "start_time": "2022-10-24T17:40:17.420Z"
   },
   {
    "duration": 7,
    "start_time": "2022-10-24T17:41:36.960Z"
   },
   {
    "duration": 6,
    "start_time": "2022-10-24T17:42:28.079Z"
   },
   {
    "duration": 11,
    "start_time": "2022-10-24T18:41:33.885Z"
   },
   {
    "duration": 14,
    "start_time": "2022-10-24T18:41:57.870Z"
   },
   {
    "duration": 9,
    "start_time": "2022-10-24T18:42:08.589Z"
   },
   {
    "duration": 10,
    "start_time": "2022-10-24T18:58:26.503Z"
   },
   {
    "duration": 65,
    "start_time": "2022-10-24T19:00:35.220Z"
   },
   {
    "duration": 7,
    "start_time": "2022-10-24T19:00:57.238Z"
   },
   {
    "duration": 10,
    "start_time": "2022-10-24T19:01:46.171Z"
   },
   {
    "duration": 6,
    "start_time": "2022-10-24T19:02:28.707Z"
   },
   {
    "duration": 6,
    "start_time": "2022-10-24T19:03:02.081Z"
   },
   {
    "duration": 14,
    "start_time": "2022-10-24T19:04:12.326Z"
   },
   {
    "duration": 6,
    "start_time": "2022-10-24T19:10:39.786Z"
   },
   {
    "duration": 5,
    "start_time": "2022-10-24T19:11:49.593Z"
   },
   {
    "duration": 12,
    "start_time": "2022-10-24T19:12:22.395Z"
   },
   {
    "duration": 6,
    "start_time": "2022-10-24T19:13:30.337Z"
   },
   {
    "duration": 6,
    "start_time": "2022-10-24T19:14:00.702Z"
   },
   {
    "duration": 7,
    "start_time": "2022-10-24T19:14:44.402Z"
   },
   {
    "duration": 44,
    "start_time": "2022-10-24T19:19:53.297Z"
   },
   {
    "duration": 7,
    "start_time": "2022-10-24T19:20:07.496Z"
   },
   {
    "duration": 6,
    "start_time": "2022-10-24T19:20:30.785Z"
   },
   {
    "duration": 8,
    "start_time": "2022-10-24T19:20:41.763Z"
   },
   {
    "duration": 7,
    "start_time": "2022-10-24T19:20:52.767Z"
   },
   {
    "duration": 1187,
    "start_time": "2022-10-24T19:33:42.076Z"
   },
   {
    "duration": 47,
    "start_time": "2022-10-24T19:33:43.265Z"
   },
   {
    "duration": 11,
    "start_time": "2022-10-24T19:33:43.314Z"
   },
   {
    "duration": 10,
    "start_time": "2022-10-24T19:33:43.327Z"
   },
   {
    "duration": 12,
    "start_time": "2022-10-24T19:33:43.340Z"
   },
   {
    "duration": 335,
    "start_time": "2022-10-24T19:33:43.354Z"
   },
   {
    "duration": 14949,
    "start_time": "2022-10-24T19:33:43.691Z"
   },
   {
    "duration": 270,
    "start_time": "2022-10-24T19:33:58.642Z"
   },
   {
    "duration": 13,
    "start_time": "2022-10-24T19:33:58.914Z"
   },
   {
    "duration": 26,
    "start_time": "2022-10-24T19:33:58.929Z"
   },
   {
    "duration": 7,
    "start_time": "2022-10-24T19:33:58.957Z"
   },
   {
    "duration": 10,
    "start_time": "2022-10-24T19:33:58.966Z"
   },
   {
    "duration": 9,
    "start_time": "2022-10-24T19:33:58.977Z"
   },
   {
    "duration": 46,
    "start_time": "2022-10-26T17:41:18.528Z"
   },
   {
    "duration": 1108,
    "start_time": "2022-10-26T17:41:28.600Z"
   },
   {
    "duration": 129,
    "start_time": "2022-10-26T17:41:29.710Z"
   },
   {
    "duration": 10,
    "start_time": "2022-10-26T17:41:29.841Z"
   },
   {
    "duration": 6,
    "start_time": "2022-10-26T17:41:29.853Z"
   },
   {
    "duration": 21,
    "start_time": "2022-10-26T17:41:29.862Z"
   },
   {
    "duration": 264,
    "start_time": "2022-10-26T17:41:29.884Z"
   },
   {
    "duration": 12932,
    "start_time": "2022-10-26T17:41:30.149Z"
   },
   {
    "duration": 120027,
    "start_time": "2022-10-26T17:41:43.083Z"
   },
   {
    "duration": 216,
    "start_time": "2022-10-26T17:43:43.111Z"
   },
   {
    "duration": 28,
    "start_time": "2022-10-26T17:43:43.329Z"
   },
   {
    "duration": 5,
    "start_time": "2022-10-26T17:43:43.359Z"
   },
   {
    "duration": 10,
    "start_time": "2022-10-26T17:43:43.366Z"
   },
   {
    "duration": 9,
    "start_time": "2022-10-26T17:43:43.377Z"
   },
   {
    "duration": 6,
    "start_time": "2022-10-26T17:43:43.387Z"
   },
   {
    "duration": 97,
    "start_time": "2022-10-26T17:56:47.036Z"
   },
   {
    "duration": 21,
    "start_time": "2022-10-26T17:57:03.201Z"
   },
   {
    "duration": 1873,
    "start_time": "2022-10-26T17:57:23.023Z"
   },
   {
    "duration": 10,
    "start_time": "2022-10-26T17:57:48.279Z"
   },
   {
    "duration": 10,
    "start_time": "2022-10-26T17:58:44.307Z"
   },
   {
    "duration": 1863,
    "start_time": "2022-10-26T17:58:51.162Z"
   },
   {
    "duration": 66,
    "start_time": "2022-10-26T18:00:13.189Z"
   },
   {
    "duration": 4,
    "start_time": "2022-10-26T18:01:58.786Z"
   },
   {
    "duration": 1025,
    "start_time": "2022-10-26T18:11:48.458Z"
   },
   {
    "duration": 44,
    "start_time": "2022-10-26T18:11:49.485Z"
   },
   {
    "duration": 9,
    "start_time": "2022-10-26T18:11:49.531Z"
   },
   {
    "duration": 12,
    "start_time": "2022-10-26T18:11:49.542Z"
   },
   {
    "duration": 8,
    "start_time": "2022-10-26T18:11:49.556Z"
   },
   {
    "duration": 273,
    "start_time": "2022-10-26T18:11:49.565Z"
   },
   {
    "duration": 12990,
    "start_time": "2022-10-26T18:11:49.839Z"
   },
   {
    "duration": 228,
    "start_time": "2022-10-26T18:12:02.830Z"
   },
   {
    "duration": 1917,
    "start_time": "2022-10-26T18:12:03.060Z"
   },
   {
    "duration": 9,
    "start_time": "2022-10-26T18:12:04.980Z"
   },
   {
    "duration": 11,
    "start_time": "2022-10-26T18:12:04.990Z"
   },
   {
    "duration": 13,
    "start_time": "2022-10-26T18:12:05.003Z"
   },
   {
    "duration": 20,
    "start_time": "2022-10-26T18:12:05.022Z"
   },
   {
    "duration": 48,
    "start_time": "2022-10-26T18:12:05.043Z"
   },
   {
    "duration": 993,
    "start_time": "2022-10-28T13:45:40.858Z"
   },
   {
    "duration": 124,
    "start_time": "2022-10-28T13:45:41.853Z"
   },
   {
    "duration": 9,
    "start_time": "2022-10-28T13:45:41.979Z"
   },
   {
    "duration": 3,
    "start_time": "2022-10-28T13:45:41.989Z"
   },
   {
    "duration": 7,
    "start_time": "2022-10-28T13:45:41.994Z"
   },
   {
    "duration": 253,
    "start_time": "2022-10-28T13:45:42.002Z"
   },
   {
    "duration": 12538,
    "start_time": "2022-10-28T13:45:42.257Z"
   },
   {
    "duration": 202,
    "start_time": "2022-10-28T13:45:54.799Z"
   },
   {
    "duration": 1771,
    "start_time": "2022-10-28T13:45:55.003Z"
   },
   {
    "duration": 7,
    "start_time": "2022-10-28T13:45:56.776Z"
   },
   {
    "duration": 16,
    "start_time": "2022-10-28T13:45:56.785Z"
   },
   {
    "duration": 5,
    "start_time": "2022-10-28T13:45:56.802Z"
   },
   {
    "duration": 17,
    "start_time": "2022-10-28T13:45:56.808Z"
   },
   {
    "duration": 8,
    "start_time": "2022-10-28T13:45:56.826Z"
   },
   {
    "duration": 97,
    "start_time": "2022-10-28T13:48:13.275Z"
   },
   {
    "duration": 20,
    "start_time": "2022-10-28T13:49:00.770Z"
   },
   {
    "duration": 812,
    "start_time": "2022-10-28T13:49:14.155Z"
   },
   {
    "duration": 56,
    "start_time": "2022-10-28T13:50:17.450Z"
   }
  ],
  "kernelspec": {
   "display_name": "Python 3 (ipykernel)",
   "language": "python",
   "name": "python3"
  },
  "language_info": {
   "codemirror_mode": {
    "name": "ipython",
    "version": 3
   },
   "file_extension": ".py",
   "mimetype": "text/x-python",
   "name": "python",
   "nbconvert_exporter": "python",
   "pygments_lexer": "ipython3",
   "version": "3.9.12"
  },
  "toc": {
   "base_numbering": 1,
   "nav_menu": {},
   "number_sections": true,
   "sideBar": true,
   "skip_h1_title": true,
   "title_cell": "Contents",
   "title_sidebar": "Contents",
   "toc_cell": true,
   "toc_position": {
    "height": "calc(100% - 180px)",
    "left": "10px",
    "top": "150px",
    "width": "307.2px"
   },
   "toc_section_display": true,
   "toc_window_display": true
  }
 },
 "nbformat": 4,
 "nbformat_minor": 2
}
