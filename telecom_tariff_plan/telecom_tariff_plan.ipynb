{
 "cells": [
  {
   "cell_type": "markdown",
   "metadata": {
    "toc": true
   },
   "source": [
    "<h1>Contents<span class=\"tocSkip\"></span></h1>\n",
    "<div class=\"toc\"><ul class=\"toc-item\"><li><span><a href=\"#Откройте-файл-с-данными-и-изучите-общую-информацию\" data-toc-modified-id=\"Откройте-файл-с-данными-и-изучите-общую-информацию-1\"><span class=\"toc-item-num\">1&nbsp;&nbsp;</span>Откройте файл с данными и изучите общую информацию</a></span></li><li><span><a href=\"#Подготовьте-данные\" data-toc-modified-id=\"Подготовьте-данные-2\"><span class=\"toc-item-num\">2&nbsp;&nbsp;</span>Подготовьте данные</a></span></li><li><span><a href=\"#Анализ-данных-и-подсчёт-выручки\" data-toc-modified-id=\"Анализ-данных-и-подсчёт-выручки-3\"><span class=\"toc-item-num\">3&nbsp;&nbsp;</span>Анализ данных и подсчёт выручки</a></span></li><li><span><a href=\"#Проверка-гипотез\" data-toc-modified-id=\"Проверка-гипотез-4\"><span class=\"toc-item-num\">4&nbsp;&nbsp;</span>Проверка гипотез</a></span></li></ul></div>"
   ]
  },
  {
   "cell_type": "code",
   "execution_count": null,
   "metadata": {
    "deletable": false
   },
   "outputs": [],
   "source": [
    "import pandas as pd"
   ]
  },
  {
   "cell_type": "markdown",
   "metadata": {
    "deletable": false,
    "editable": false
   },
   "source": [
    "### Откройте файл с данными и изучите общую информацию"
   ]
  },
  {
   "cell_type": "markdown",
   "metadata": {
    "deletable": false,
    "editable": false,
    "tags": [
     "start_task"
    ]
   },
   "source": [
    "**Задание 1.** Откройте файл `/datasets/calls.csv`, сохраните датафрейм в переменную `calls`."
   ]
  },
  {
   "cell_type": "code",
   "execution_count": null,
   "metadata": {
    "deletable": false
   },
   "outputs": [],
   "source": [
    "try:\n",
    "    calls = pd.read_csv('/datasets/calls.csv', index_col=0)\n",
    "except:\n",
    "    calls = pd.read_csv('/Users/amirk/Downloads/calls.csv', index_col=0)"
   ]
  },
  {
   "cell_type": "markdown",
   "metadata": {
    "deletable": false,
    "editable": false,
    "tags": [
     "start_task"
    ]
   },
   "source": [
    "**Задание 2.** Выведите первые 5 строк датафрейма `calls`."
   ]
  },
  {
   "cell_type": "code",
   "execution_count": null,
   "metadata": {
    "deletable": false
   },
   "outputs": [],
   "source": [
    "calls.head()"
   ]
  },
  {
   "cell_type": "markdown",
   "metadata": {
    "deletable": false,
    "editable": false,
    "tags": [
     "start_task"
    ]
   },
   "source": [
    "**Задание 3.** Выведите основную информацию для датафрейма `calls` с помощью метода `info()`."
   ]
  },
  {
   "cell_type": "code",
   "execution_count": null,
   "metadata": {
    "deletable": false
   },
   "outputs": [],
   "source": [
    "calls.info()"
   ]
  },
  {
   "cell_type": "markdown",
   "metadata": {
    "deletable": false,
    "editable": false,
    "tags": [
     "start_task"
    ]
   },
   "source": [
    "**Задание 4.** С помощью метода `hist()` выведите гистограмму для столбца с продолжительностью звонков. Подумайте о том, как распределены данные."
   ]
  },
  {
   "cell_type": "code",
   "execution_count": null,
   "metadata": {
    "deletable": false
   },
   "outputs": [],
   "source": [
    "calls['duration'].hist()"
   ]
  },
  {
   "cell_type": "markdown",
   "metadata": {
    "deletable": false,
    "editable": false,
    "tags": [
     "start_task"
    ]
   },
   "source": [
    "**Задание 5.** Откройте файл `/datasets/internet.csv`, сохраните датафрейм в переменную `sessions`."
   ]
  },
  {
   "cell_type": "code",
   "execution_count": null,
   "metadata": {
    "deletable": false
   },
   "outputs": [],
   "source": [
    "#sessions = pd.read_csv('/datasets/internet.csv')\n",
    "try:\n",
    "    sessions = pd.read_csv('/datasets/internet.csv')\n",
    "except:\n",
    "    sessions = pd.read_csv('/Users/amirk/Downloads/internet.csv')"
   ]
  },
  {
   "cell_type": "markdown",
   "metadata": {
    "deletable": false,
    "editable": false,
    "tags": [
     "start_task"
    ]
   },
   "source": [
    "**Задание 6.** Выведите первые 5 строк датафрейма `sessions`."
   ]
  },
  {
   "cell_type": "code",
   "execution_count": null,
   "metadata": {
    "deletable": false
   },
   "outputs": [],
   "source": [
    "sessions.head()"
   ]
  },
  {
   "cell_type": "markdown",
   "metadata": {
    "deletable": false,
    "editable": false,
    "tags": [
     "start_task"
    ]
   },
   "source": [
    "**Задание 7.** Выведите основную информацию для датафрейма sessions с помощью метода `info()`. "
   ]
  },
  {
   "cell_type": "code",
   "execution_count": null,
   "metadata": {
    "deletable": false
   },
   "outputs": [],
   "source": [
    "sessions.info()"
   ]
  },
  {
   "cell_type": "markdown",
   "metadata": {
    "deletable": false,
    "editable": false,
    "tags": [
     "start_task"
    ]
   },
   "source": [
    "**Задание 8.** С помощью метода `hist()` выведите гистограмму для столбца с количеством потраченных мегабайт."
   ]
  },
  {
   "cell_type": "code",
   "execution_count": null,
   "metadata": {
    "deletable": false
   },
   "outputs": [],
   "source": [
    "sessions['mb_used'].hist()"
   ]
  },
  {
   "cell_type": "markdown",
   "metadata": {
    "deletable": false,
    "editable": false,
    "tags": [
     "start_task"
    ]
   },
   "source": [
    "**Задание 9.** Откройте файл `/datasets/messages.csv`, сохраните датафрейм в переменную `messages`."
   ]
  },
  {
   "cell_type": "code",
   "execution_count": null,
   "metadata": {
    "deletable": false
   },
   "outputs": [],
   "source": [
    "#messages = pd.read_csv('/datasets/messages.csv')\n",
    "try:\n",
    "    messages = pd.read_csv('/datasets/messages.csv', index_col=0)\n",
    "except:\n",
    "    messages = pd.read_csv('/Users/amirk/Downloads/messages.csv', index_col=0)"
   ]
  },
  {
   "cell_type": "markdown",
   "metadata": {
    "deletable": false,
    "editable": false,
    "tags": [
     "start_task"
    ]
   },
   "source": [
    "**Задание 10.** Выведите первые 5 строк датафрейма `messages`."
   ]
  },
  {
   "cell_type": "code",
   "execution_count": null,
   "metadata": {
    "deletable": false
   },
   "outputs": [],
   "source": [
    "messages.head()"
   ]
  },
  {
   "cell_type": "markdown",
   "metadata": {
    "deletable": false,
    "editable": false,
    "tags": [
     "start_task"
    ]
   },
   "source": [
    "**Задание 11.** Выведите основную информацию для датафрейма `messages` с помощью метода `info()`. "
   ]
  },
  {
   "cell_type": "code",
   "execution_count": null,
   "metadata": {
    "deletable": false
   },
   "outputs": [],
   "source": [
    "messages.info()"
   ]
  },
  {
   "cell_type": "markdown",
   "metadata": {
    "deletable": false,
    "editable": false,
    "tags": [
     "start_task"
    ]
   },
   "source": [
    "**Задание 12.** Откройте файл `/datasets/tariffs.csv`, сохраните датафрейм в переменную `tariffs`."
   ]
  },
  {
   "cell_type": "code",
   "execution_count": null,
   "metadata": {
    "deletable": false
   },
   "outputs": [],
   "source": [
    "#tariffs = pd.read_csv('/datasets/tariffs.csv')\n",
    "try:\n",
    "    tariffs = pd.read_csv('/datasets/tariffs.csv', index_col=0)\n",
    "except:\n",
    "    tariffs = pd.read_csv('/Users/amirk/Downloads/tariffs.csv', index_col=0)"
   ]
  },
  {
   "cell_type": "markdown",
   "metadata": {
    "deletable": false,
    "editable": false,
    "tags": [
     "start_task"
    ]
   },
   "source": [
    "**Задание 13.** Выведите весь датафрейм `tariffs`."
   ]
  },
  {
   "cell_type": "code",
   "execution_count": null,
   "metadata": {
    "deletable": false
   },
   "outputs": [],
   "source": [
    "tariffs"
   ]
  },
  {
   "cell_type": "markdown",
   "metadata": {
    "deletable": false,
    "editable": false,
    "tags": [
     "start_task"
    ]
   },
   "source": [
    "**Задание 14.** Выведите основную информацию для датафрейма `tariffs` с помощью метода `info()`."
   ]
  },
  {
   "cell_type": "code",
   "execution_count": null,
   "metadata": {
    "deletable": false
   },
   "outputs": [],
   "source": [
    "tariffs.info()"
   ]
  },
  {
   "cell_type": "markdown",
   "metadata": {
    "deletable": false,
    "editable": false,
    "tags": [
     "start_task"
    ]
   },
   "source": [
    "**Задание 15.** Откройте файл `/datasets/users.csv`, сохраните датафрейм в переменную `users`."
   ]
  },
  {
   "cell_type": "code",
   "execution_count": null,
   "metadata": {
    "deletable": false
   },
   "outputs": [],
   "source": [
    "#users = pd.read_csv('/datasets/users.csv')\n",
    "try:\n",
    "    users = pd.read_csv('/datasets/users.csv', index_col=0)\n",
    "except:\n",
    "    users = pd.read_csv('/Users/amirk/Downloads/users.csv', index_col=0)"
   ]
  },
  {
   "cell_type": "markdown",
   "metadata": {
    "deletable": false,
    "editable": false,
    "tags": [
     "start_task"
    ]
   },
   "source": [
    "**Задание 16.** Выведите первые 5 строк датафрейма `users`."
   ]
  },
  {
   "cell_type": "code",
   "execution_count": null,
   "metadata": {
    "deletable": false
   },
   "outputs": [],
   "source": [
    "users.head()"
   ]
  },
  {
   "cell_type": "markdown",
   "metadata": {
    "deletable": false,
    "editable": false,
    "tags": [
     "start_task"
    ]
   },
   "source": [
    "**Задание 17.** Выведите основную информацию для датафрейма `users` с помощью метода `info()`."
   ]
  },
  {
   "cell_type": "code",
   "execution_count": null,
   "metadata": {
    "deletable": false
   },
   "outputs": [],
   "source": [
    "users.info()"
   ]
  },
  {
   "cell_type": "markdown",
   "metadata": {
    "deletable": false,
    "editable": false
   },
   "source": [
    "### Подготовьте данные"
   ]
  },
  {
   "cell_type": "markdown",
   "metadata": {
    "deletable": false,
    "editable": false,
    "tags": [
     "start_task"
    ]
   },
   "source": [
    "**Задание 18.**  Приведите столбцы\n",
    "\n",
    "- `reg_date` из таблицы `users`\n",
    "- `churn_date` из таблицы `users`\n",
    "- `call_date` из таблицы `calls`\n",
    "- `message_date` из таблицы `messages`\n",
    "- `session_date` из таблицы `sessions`\n",
    "\n",
    "к новому типу с помощью метода `to_datetime()`."
   ]
  },
  {
   "cell_type": "code",
   "execution_count": null,
   "metadata": {
    "deletable": false
   },
   "outputs": [],
   "source": [
    "# обработка столбца reg_date\n",
    "users['reg_date'] = pd.to_datetime(users['reg_date'], format='%Y-%m-%d')\n",
    "# обработка столбца churn_date\n",
    "users['churn_date'] = pd.to_datetime(users['churn_date'], format='%Y-%m-%d')\n",
    "\n",
    "# обработка столбца call_date\n",
    "calls['call_date'] = pd.to_datetime(calls['call_date'], format='%Y-%m-%d')\n",
    "\n",
    "# обработка столбца message_date\n",
    "messages['message_date'] = pd.to_datetime(messages['message_date'], format='%Y-%m-%d')\n",
    "# обработка столбца session_date\n",
    "sessions['session_date'] = pd.to_datetime(sessions['session_date'], format='%Y-%m-%d')"
   ]
  },
  {
   "cell_type": "markdown",
   "metadata": {
    "deletable": false,
    "editable": false,
    "tags": [
     "start_task"
    ]
   },
   "source": [
    "**Задание 19.** В данных вы найдёте звонки с нулевой продолжительностью. Это не ошибка: нулями обозначены пропущенные звонки, поэтому их не нужно удалять.\n",
    "\n",
    "Однако в столбце `duration` датафрейма `calls` значения дробные. Округлите значения столбца `duration` вверх с помощью метода `numpy.ceil()` и приведите столбец `duration` к типу `int`."
   ]
  },
  {
   "cell_type": "code",
   "execution_count": null,
   "metadata": {
    "deletable": false
   },
   "outputs": [],
   "source": [
    "import numpy as np\n",
    "\n",
    "calls['duration'] = np.ceil(calls['duration']).astype(int)\n",
    "# округление значений столбца duration с помощью np.ceil() и приведение типа к int"
   ]
  },
  {
   "cell_type": "markdown",
   "metadata": {
    "deletable": false,
    "editable": false,
    "tags": [
     "start_task"
    ]
   },
   "source": [
    "**Задание 20.** Удалите столбец `Unnamed: 0` из датафрейма `sessions`. Столбец с таким названием возникает, когда данные сохраняют с указанием индекса (`df.to_csv(..., index=column)`). Он сейчас не понадобится."
   ]
  },
  {
   "cell_type": "code",
   "execution_count": null,
   "metadata": {
    "deletable": false
   },
   "outputs": [],
   "source": [
    "sessions.drop(columns='Unnamed: 0', inplace=True)\n"
   ]
  },
  {
   "cell_type": "markdown",
   "metadata": {
    "deletable": false,
    "editable": false,
    "tags": [
     "start_task"
    ]
   },
   "source": [
    "**Задание 21.** Создайте столбец `month` в датафрейме `calls` с номером месяца из столбца `call_date`."
   ]
  },
  {
   "cell_type": "code",
   "execution_count": null,
   "metadata": {
    "deletable": false
   },
   "outputs": [],
   "source": [
    "calls['month'] = calls['call_date'].dt.month\n"
   ]
  },
  {
   "cell_type": "markdown",
   "metadata": {
    "deletable": false,
    "editable": false,
    "tags": [
     "start_task"
    ]
   },
   "source": [
    "**Задание 22.** Создайте столбец `month` в датафрейме `messages` с номером месяца из столбца `message_date`."
   ]
  },
  {
   "cell_type": "code",
   "execution_count": null,
   "metadata": {
    "deletable": false
   },
   "outputs": [],
   "source": [
    "messages['month'] = messages['message_date'].dt.month\n",
    "messages"
   ]
  },
  {
   "cell_type": "markdown",
   "metadata": {
    "deletable": false,
    "editable": false,
    "tags": [
     "start_task"
    ]
   },
   "source": [
    "**Задание 23.** Создайте столбец `month` в датафрейме `sessions` с номером месяца из столбца `session_date`."
   ]
  },
  {
   "cell_type": "code",
   "execution_count": null,
   "metadata": {
    "deletable": false
   },
   "outputs": [],
   "source": [
    "sessions['month'] = sessions['session_date'].dt.month"
   ]
  },
  {
   "cell_type": "markdown",
   "metadata": {
    "deletable": false,
    "editable": false,
    "tags": [
     "start_task"
    ]
   },
   "source": [
    "**Задание 24.** Посчитайте количество сделанных звонков разговора для каждого пользователя по месяцам."
   ]
  },
  {
   "cell_type": "code",
   "execution_count": null,
   "metadata": {
    "deletable": false
   },
   "outputs": [],
   "source": [
    "calls_per_month = calls.groupby(by=['user_id', 'month']).agg(calls=('duration', 'count'))"
   ]
  },
  {
   "cell_type": "code",
   "execution_count": null,
   "metadata": {
    "deletable": false
   },
   "outputs": [],
   "source": [
    "calls_per_month.head(30)# вывод 30 первых строк на экран"
   ]
  },
  {
   "cell_type": "markdown",
   "metadata": {
    "deletable": false,
    "editable": false,
    "tags": [
     "start_task"
    ]
   },
   "source": [
    "**Задание 25.** Посчитайте количество израсходованных минут разговора для каждого пользователя по месяцам и сохраните в переменную `minutes_per_month`. Вам понадобится\n",
    "\n",
    "- сгруппировать датафрейм с информацией о звонках по двум столбцам — с идентификаторами пользователей и номерами месяцев;\n",
    "- после группировки выбрать столбец `duration`\n",
    "- затем применить метод для подсчёта суммы.\n",
    "\n",
    "Выведите первые 30 строчек `minutes_per_month`."
   ]
  },
  {
   "cell_type": "code",
   "execution_count": null,
   "metadata": {
    "deletable": false
   },
   "outputs": [],
   "source": [
    "minutes_per_month = calls.groupby(by=['user_id', 'month']).agg(minutes=('duration', 'sum')) # подсчёт израсходованных минут для каждого пользователя по месяцам"
   ]
  },
  {
   "cell_type": "code",
   "execution_count": null,
   "metadata": {
    "deletable": false
   },
   "outputs": [],
   "source": [
    "minutes_per_month.head(30)# вывод первых 30 строк на экран"
   ]
  },
  {
   "cell_type": "markdown",
   "metadata": {
    "deletable": false,
    "editable": false,
    "tags": [
     "start_task"
    ]
   },
   "source": [
    "**Задание 26.** Посчитайте количество отправленных сообщений по месяцам для каждого пользователя и сохраните в переменную `messages_per_month`. Вам понадобится\n",
    "\n",
    "- сгруппировать датафрейм с информацией о сообщениях по двум столбцам — с идентификаторами пользователей и номерами месяцев;\n",
    "- после группировки выбрать столбец `message_date`;\n",
    "- затем применить метод для подсчёта количества.\n",
    "\n",
    "Выведите первые 30 строчек `messages_per_month`."
   ]
  },
  {
   "cell_type": "code",
   "execution_count": null,
   "metadata": {
    "deletable": false
   },
   "outputs": [],
   "source": [
    "messages_per_month = messages.groupby(by=['user_id', 'month']).agg(messages=('message_date', 'count')) #ёт количества отправленных сообщений для каждого пользователя по месяцам"
   ]
  },
  {
   "cell_type": "code",
   "execution_count": null,
   "metadata": {
    "deletable": false
   },
   "outputs": [],
   "source": [
    "messages_per_month.head(30) # вывод первых 30 строк на экран"
   ]
  },
  {
   "cell_type": "markdown",
   "metadata": {
    "deletable": false,
    "editable": false,
    "tags": [
     "start_task"
    ]
   },
   "source": [
    "**Задание 27.** Посчитайте количество потраченных мегабайт по месяцам для каждого пользователя и сохраните в переменную `sessions_per_month`. Вам понадобится\n",
    "\n",
    "- сгруппировать датафрейм с информацией о сообщениях по двум столбцам — с идентификаторами пользователей и номерами месяцев;\n",
    "- затем применить метод для подсчёта суммы: `.agg({'mb_used': 'sum'})`"
   ]
  },
  {
   "cell_type": "code",
   "execution_count": null,
   "metadata": {
    "deletable": false
   },
   "outputs": [],
   "source": [
    "sessions_per_month = sessions.groupby(by=['user_id', 'month']).agg({'mb_used': 'sum'}) # подсчёт потраченных мегабайт для каждого пользователя по месяцам"
   ]
  },
  {
   "cell_type": "code",
   "execution_count": null,
   "metadata": {
    "deletable": false
   },
   "outputs": [],
   "source": [
    "sessions_per_month.head(30)# вывод первых 30 строк на экран"
   ]
  },
  {
   "cell_type": "markdown",
   "metadata": {
    "deletable": false,
    "editable": false
   },
   "source": [
    "### Анализ данных и подсчёт выручки"
   ]
  },
  {
   "cell_type": "markdown",
   "metadata": {
    "deletable": false,
    "editable": false
   },
   "source": [
    "Объединяем все посчитанные выше значения в один датафрейм `user_behavior`.\n",
    "Для каждой пары \"пользователь - месяц\" будут доступны информация о тарифе, количестве звонков, сообщений и потраченных мегабайтах."
   ]
  },
  {
   "cell_type": "code",
   "execution_count": null,
   "metadata": {
    "deletable": false
   },
   "outputs": [],
   "source": [
    "users['churn_date'].count() / users['churn_date'].shape[0] * 100"
   ]
  },
  {
   "cell_type": "markdown",
   "metadata": {
    "deletable": false,
    "editable": false
   },
   "source": [
    "Расторгли договор 7.6% клиентов из датасета"
   ]
  },
  {
   "cell_type": "code",
   "execution_count": null,
   "metadata": {
    "deletable": false
   },
   "outputs": [],
   "source": [
    "user_behavior = calls_per_month\\\n",
    "    .merge(messages_per_month, left_index=True, right_index=True, how='outer')\\\n",
    "    .merge(sessions_per_month, left_index=True, right_index=True, how='outer')\\\n",
    "    .merge(minutes_per_month, left_index=True, right_index=True, how='outer')\\\n",
    "    .reset_index()\\\n",
    "    .merge(users, how='left', left_on='user_id', right_on='user_id')\\\n",
    "\n",
    "user_behavior.head()"
   ]
  },
  {
   "cell_type": "markdown",
   "metadata": {
    "deletable": false,
    "editable": false
   },
   "source": [
    "Проверим пропуски в таблице `user_behavior` после объединения:"
   ]
  },
  {
   "cell_type": "code",
   "execution_count": null,
   "metadata": {
    "deletable": false
   },
   "outputs": [],
   "source": [
    "user_behavior.isna().sum()"
   ]
  },
  {
   "cell_type": "markdown",
   "metadata": {
    "deletable": false,
    "editable": false
   },
   "source": [
    "Заполним образовавшиеся пропуски в данных:"
   ]
  },
  {
   "cell_type": "code",
   "execution_count": null,
   "metadata": {
    "deletable": false
   },
   "outputs": [],
   "source": [
    "user_behavior['calls'] = user_behavior['calls'].fillna(0)\n",
    "user_behavior['minutes'] = user_behavior['minutes'].fillna(0)\n",
    "user_behavior['messages'] = user_behavior['messages'].fillna(0)\n",
    "user_behavior['mb_used'] = user_behavior['mb_used'].fillna(0)"
   ]
  },
  {
   "cell_type": "markdown",
   "metadata": {
    "deletable": false,
    "editable": false
   },
   "source": [
    "Присоединяем информацию о тарифах"
   ]
  },
  {
   "cell_type": "code",
   "execution_count": null,
   "metadata": {
    "deletable": false
   },
   "outputs": [],
   "source": [
    "# переименование столбца tariff_name на более простое tariff\n",
    "\n",
    "tariffs = tariffs.rename(\n",
    "    columns={\n",
    "        'tariff_name': 'tariff'\n",
    "    }\n",
    ")"
   ]
  },
  {
   "cell_type": "code",
   "execution_count": null,
   "metadata": {
    "deletable": false
   },
   "outputs": [],
   "source": [
    "user_behavior = user_behavior.merge(tariffs, on='tariff')\n",
    "user_behavior"
   ]
  },
  {
   "cell_type": "markdown",
   "metadata": {
    "deletable": false,
    "editable": false
   },
   "source": [
    "Считаем количество минут разговора, сообщений и мегабайт, превышающих включенные в тариф\n"
   ]
  },
  {
   "cell_type": "code",
   "execution_count": null,
   "metadata": {
    "deletable": false
   },
   "outputs": [],
   "source": [
    "user_behavior['paid_minutes'] = user_behavior['minutes'] - user_behavior['minutes_included']\n",
    "user_behavior['paid_mb'] = user_behavior['mb_used'] - user_behavior['mb_per_month_included']\n",
    "\n",
    "for col in ['paid_minutes', 'paid_mb']:\n",
    "    user_behavior.loc[user_behavior[col] < 0, col] = 0"
   ]
  },
  {
   "cell_type": "markdown",
   "metadata": {
    "deletable": false,
    "editable": false
   },
   "source": [
    "Переводим превышающие тариф мегабайты в гигабайты и сохраняем в столбец `paid_gb`"
   ]
  },
  {
   "cell_type": "code",
   "execution_count": null,
   "metadata": {
    "deletable": false
   },
   "outputs": [],
   "source": [
    "user_behavior['paid_gb'] = np.ceil(user_behavior['paid_mb'] / 1024).astype(int)"
   ]
  },
  {
   "cell_type": "markdown",
   "metadata": {
    "deletable": false,
    "editable": false
   },
   "source": [
    "Считаем выручку за минуты разговора, сообщения и интернет"
   ]
  },
  {
   "cell_type": "code",
   "execution_count": null,
   "metadata": {
    "deletable": false
   },
   "outputs": [],
   "source": [
    "user_behavior['cost_minutes'] = user_behavior['paid_minutes'] * user_behavior['rub_per_minute']\n",
    "user_behavior['cost_gb'] = user_behavior['paid_gb'] * user_behavior['rub_per_gb']"
   ]
  },
  {
   "cell_type": "markdown",
   "metadata": {
    "deletable": false,
    "editable": false
   },
   "source": [
    "Считаем помесячную выручку с каждого пользователя, она будет храниться в столбец `total_cost`"
   ]
  },
  {
   "cell_type": "code",
   "execution_count": null,
   "metadata": {
    "deletable": false
   },
   "outputs": [],
   "source": [
    "user_behavior['total_cost'] = \\\n",
    "      user_behavior['rub_monthly_fee']\\\n",
    "    + user_behavior['cost_minutes']\\\n",
    "    + user_behavior['cost_gb']"
   ]
  },
  {
   "cell_type": "markdown",
   "metadata": {
    "deletable": false,
    "editable": false
   },
   "source": [
    "Датафрейм `stats_df` для каждой пары \"месяц-тариф\" будет хранить основные характеристики"
   ]
  },
  {
   "cell_type": "code",
   "execution_count": null,
   "metadata": {
    "deletable": false
   },
   "outputs": [],
   "source": [
    "# сохранение статистических метрик для каждой пары месяц-тариф\n",
    "# в одной таблице stats_df (среднее значение, стандартное отклонение, медиана)\n",
    "\n",
    "stats_df = user_behavior.pivot_table(\n",
    "            index=['month', 'tariff'],\\\n",
    "            values=['calls', 'minutes', 'messages', 'mb_used'],\\\n",
    "            aggfunc=['mean', 'std', 'median']\\\n",
    ").round(2).reset_index()\n",
    "\n",
    "stats_df.columns=['month', 'tariff', 'calls_mean', 'sessions_mean', 'messages_mean', 'minutes_mean',\n",
    "                                     'calls_std',  'sessions_std', 'messages_std', 'minutes_std', \n",
    "                                     'calls_median', 'sessions_median', 'messages_median',  'minutes_median']\n",
    "\n",
    "stats_df.head(10)"
   ]
  },
  {
   "cell_type": "markdown",
   "metadata": {
    "deletable": false,
    "editable": false
   },
   "source": [
    "Распределение среднего количества звонков по видам тарифов и месяцам"
   ]
  },
  {
   "cell_type": "code",
   "execution_count": null,
   "metadata": {
    "deletable": false
   },
   "outputs": [],
   "source": [
    "import seaborn as sns\n",
    "\n",
    "ax = sns.barplot(x='month',\n",
    "                y='calls_mean',\n",
    "                hue=\"tariff\",\n",
    "                data=stats_df,\n",
    "                palette=['lightblue', 'blue'])\n",
    "\n",
    "ax.set_title('Распределение количества звонков по видам тарифов и месяцам')\n",
    "ax.set(xlabel='Номер месяца', ylabel='Среднее количество звонков');"
   ]
  },
  {
   "cell_type": "code",
   "execution_count": null,
   "metadata": {
    "deletable": false
   },
   "outputs": [],
   "source": [
    "import matplotlib.pyplot as plt\n",
    "\n",
    "user_behavior.groupby('tariff')['calls'].plot(kind='hist', bins=35, alpha=0.5)\n",
    "plt.legend(['Smart', 'Ultra'])\n",
    "plt.xlabel('Количество звонков')\n",
    "plt.ylabel('Количество клиентов')\n",
    "plt.title('Распределение клиентов в зависимости от количества звонков на различных тарифных планах')\n",
    "plt.show()"
   ]
  },
  {
   "cell_type": "markdown",
   "metadata": {
    "deletable": false,
    "editable": false
   },
   "source": [
    "Распределение средней продолжительности звонков по видам тарифов и месяцам"
   ]
  },
  {
   "cell_type": "code",
   "execution_count": null,
   "metadata": {
    "deletable": false
   },
   "outputs": [],
   "source": [
    "ax = sns.barplot(x='month',\n",
    "            y='minutes_mean',\n",
    "            hue=\"tariff\",\n",
    "            data=stats_df,\n",
    "            palette=['lightblue', 'blue'])\n",
    "\n",
    "ax.set_title('Распределение продолжительности звонков по видам тарифов и месяцам')\n",
    "ax.set(xlabel='Номер месяца', ylabel='Средняя продолжительность звонков');"
   ]
  },
  {
   "cell_type": "code",
   "execution_count": null,
   "metadata": {
    "deletable": false
   },
   "outputs": [],
   "source": [
    "user_behavior.groupby('tariff')['minutes'].plot(kind='hist', bins=35, alpha=0.5)\n",
    "plt.legend(['Smart', 'Ultra'])\n",
    "plt.xlabel('Количество минут')\n",
    "plt.ylabel('Количество клиентов')\n",
    "plt.title('Распределение клиентов в зависимости от количества минут разговора на различных тарифных планах')\n",
    "plt.show()"
   ]
  },
  {
   "cell_type": "markdown",
   "metadata": {
    "deletable": false,
    "editable": false
   },
   "source": [
    "Средняя длительность разговоров у абонентов тарифа Ultra больше, чем у абонентов тарифа Smart. В течение года пользователи обоих тарифов увеличивают среднюю продолжительность своих разговоров. Рост средней длительности разговоров у абонентов тарифа Smart равномерный в течение года. Пользователи тарифа Ultra не проявляют подобной линейной стабильности. Стоит отметить, что феврале у абонентов обоих тарифных планов наблюдались самые низкие показатели."
   ]
  },
  {
   "cell_type": "markdown",
   "metadata": {
    "deletable": false,
    "editable": false
   },
   "source": [
    "Распределение среднего количества сообщений по видам тарифов и месяцам"
   ]
  },
  {
   "cell_type": "code",
   "execution_count": null,
   "metadata": {
    "deletable": false
   },
   "outputs": [],
   "source": [
    "ax = sns.barplot(x='month',\n",
    "            y='messages_mean',\n",
    "            hue=\"tariff\",\n",
    "            data=stats_df,\n",
    "            palette=['lightblue', 'blue']\n",
    ")\n",
    "\n",
    "ax.set_title('Распределение количества сообщений по видам тарифов и месяцам')\n",
    "ax.set(xlabel='Номер месяца', ylabel='Среднее количество сообщений');"
   ]
  },
  {
   "cell_type": "code",
   "execution_count": null,
   "metadata": {
    "deletable": false
   },
   "outputs": [],
   "source": [
    "user_behavior.groupby('tariff')['messages'].plot(kind='hist', bins=35, alpha=0.5)\n",
    "plt.legend(['Smart', 'Ultra'])\n",
    "plt.xlabel('Количество сообщений')\n",
    "plt.ylabel('Количество клиентов')\n",
    "plt.title('Распределение клиентов в зависимости от количества сообщений на различных тарифных планах')\n",
    "plt.show()"
   ]
  },
  {
   "cell_type": "markdown",
   "metadata": {},
   "source": [
    "В среднем количество сообщений пользователи тарифа Ultra отправляют больше - почти на 20 сообщений больше, чем пользователи тарифа Smart. Количество сообщений в течение года на обоих тарифак растет. Динамика по отправке сообщений схожа с тенденциями по длительности разговоров: в феврале отмечено наименьшее количество сообщений за год и пользователи тарифа Ultra также проявляют нелинейную положительную динамику."
   ]
  },
  {
   "cell_type": "code",
   "execution_count": null,
   "metadata": {
    "deletable": false
   },
   "outputs": [],
   "source": [
    "ax = sns.barplot(x='month',\n",
    "            y='sessions_mean',\n",
    "            hue=\"tariff\",\n",
    "            data=stats_df,\n",
    "            palette=['lightblue', 'blue']\n",
    ")\n",
    "\n",
    "ax.set_title('Распределение количества потраченного трафика (Мб) по видам тарифов и месяцам')\n",
    "ax.set(xlabel='Номер месяца', ylabel='Среднее количество мегабайт');"
   ]
  },
  {
   "cell_type": "markdown",
   "metadata": {
    "deletable": false,
    "editable": false
   },
   "source": [
    "Сравнение потраченных мегабайт среди пользователей тарифов Smart и Ultra"
   ]
  },
  {
   "cell_type": "code",
   "execution_count": null,
   "metadata": {
    "deletable": false
   },
   "outputs": [],
   "source": [
    "user_behavior.groupby('tariff')['mb_used'].plot(kind='hist', bins=35, alpha=0.5)\n",
    "plt.legend(['Smart', 'Ultra'])\n",
    "plt.xlabel('Количество мегабайт интернета')\n",
    "plt.ylabel('Количество клиентов')\n",
    "plt.title('Распределение клиентов в зависимости от интернет трафика на различных тарифных планах')\n",
    "plt.show()"
   ]
  },
  {
   "cell_type": "markdown",
   "metadata": {
    "deletable": false,
    "editable": false
   },
   "source": [
    "Меньше всего пользователи использовали интернет в январе, феврале и апреле. Чаще всего абоненты тарифа Smart тратят 15-17 Гб, а абоненты тарифного плана Ultra - 19-21 ГБ."
   ]
  },
  {
   "cell_type": "markdown",
   "metadata": {
    "deletable": false,
    "editable": false
   },
   "source": [
    "### Проверка гипотез"
   ]
  },
  {
   "cell_type": "markdown",
   "metadata": {
    "deletable": false,
    "editable": false,
    "tags": [
     "start_task"
    ]
   },
   "source": [
    "**Задание 28.** Проверка гипотезы: средняя выручка пользователей тарифов «Ультра» и «Смарт» различаются;\n",
    "\n",
    "```\n",
    "H_0: Выручка (total_cost) пользователей \"Ультра\" = выручка (total_cost) пользователей \"Смарт\"`\n",
    "H_a: Выручка (total_cost) пользователей \"Ультра\" ≠ выручка (total_cost) пользователей \"Смарт\"`\n",
    "alpha = 0.05\n",
    "```"
   ]
  },
  {
   "cell_type": "code",
   "execution_count": null,
   "metadata": {
    "deletable": false
   },
   "outputs": [],
   "source": [
    "from scipy import stats as st"
   ]
  },
  {
   "cell_type": "code",
   "execution_count": null,
   "metadata": {
    "deletable": false
   },
   "outputs": [],
   "source": [
    "results = st.ttest_ind(user_behavior[user_behavior['tariff'] == 'ultra']['total_cost'], \n",
    "                       user_behavior[user_behavior['tariff'] == 'smart']['total_cost'],\n",
    "                       equal_var=False) # results = вызов метода для проверки гипотезы\n",
    "\n",
    "alpha = .05 # alpha = задайте значение уровня значимости\n",
    "\n",
    "print(results.pvalue)\n",
    "if results.pvalue < alpha:\n",
    "    print('Отвергаем нулевую гипотезу')\n",
    "else:\n",
    "    print('Не получилось отвергнуть нулевую гипотезу') # вывод значения p-value на экран \n",
    "# условный оператор с выводом строки с ответом"
   ]
  },
  {
   "cell_type": "markdown",
   "metadata": {
    "deletable": false,
    "editable": false,
    "tags": [
     "start_task"
    ]
   },
   "source": [
    "**Задание 29.** Проверка гипотезы: пользователи из Москвы приносят больше выручки, чем пользователи из других городов;\n",
    "\n",
    "```\n",
    "H_0: Выручка (total_cost) пользователей из Москвы = выручка (total_cost) пользователей не из Москвы`\n",
    "H_1: Выручка (total_cost) пользователей из Москвы ≠ выручка (total_cost) пользователей не из Москвы`\n",
    "alpha = 0.05\n",
    "```"
   ]
  },
  {
   "cell_type": "code",
   "execution_count": null,
   "metadata": {
    "deletable": false
   },
   "outputs": [],
   "source": [
    "# results = вызов метода для проверки гипотезы\n",
    "results = st.ttest_ind(user_behavior[user_behavior['city'] == 'Москва']['total_cost'],\n",
    "                       user_behavior[user_behavior['city'] != 'Москва']['total_cost'],\n",
    "                       equal_var=False)\n",
    "# alpha = задайте значение уровня значимости\n",
    "alpha = .05\n",
    "# вывод значения p-value на экран \n",
    "print(results.pvalue)\n",
    "# условный оператор с выводом строки с ответом\n",
    "if results.pvalue < alpha:\n",
    "    print('Отвергаем нулевую гипотезу')\n",
    "else:\n",
    "    print('Не получилось отвергнуть нулевую гипотезу')"
   ]
  }
 ],
 "metadata": {
  "ExecuteTimeLog": [
   {
    "duration": 51,
    "start_time": "2022-10-01T19:37:48.538Z"
   },
   {
    "duration": 8,
    "start_time": "2022-10-01T19:38:01.663Z"
   },
   {
    "duration": 394,
    "start_time": "2022-10-01T19:38:08.697Z"
   },
   {
    "duration": 519,
    "start_time": "2022-10-01T19:38:12.810Z"
   },
   {
    "duration": 16,
    "start_time": "2022-10-01T19:38:52.629Z"
   },
   {
    "duration": 9,
    "start_time": "2022-10-01T19:39:25.980Z"
   },
   {
    "duration": 27,
    "start_time": "2022-10-01T19:39:58.589Z"
   },
   {
    "duration": 560,
    "start_time": "2022-10-01T19:41:28.931Z"
   },
   {
    "duration": 151,
    "start_time": "2022-10-01T19:42:51.046Z"
   },
   {
    "duration": 425,
    "start_time": "2022-10-01T19:43:45.396Z"
   },
   {
    "duration": 9,
    "start_time": "2022-10-01T19:44:19.143Z"
   },
   {
    "duration": 26,
    "start_time": "2022-10-01T19:45:10.765Z"
   },
   {
    "duration": 1447,
    "start_time": "2022-10-01T19:46:13.117Z"
   },
   {
    "duration": 171,
    "start_time": "2022-10-01T19:46:21.255Z"
   },
   {
    "duration": 181,
    "start_time": "2022-10-01T19:47:40.651Z"
   },
   {
    "duration": 9,
    "start_time": "2022-10-01T19:48:10.800Z"
   },
   {
    "duration": 20,
    "start_time": "2022-10-01T19:49:15.954Z"
   },
   {
    "duration": 59,
    "start_time": "2022-10-01T19:50:23.327Z"
   },
   {
    "duration": 14,
    "start_time": "2022-10-01T19:50:46.596Z"
   },
   {
    "duration": 15,
    "start_time": "2022-10-01T19:52:54.001Z"
   },
   {
    "duration": 82,
    "start_time": "2022-10-01T19:54:07.902Z"
   },
   {
    "duration": 17,
    "start_time": "2022-10-01T19:54:42.014Z"
   },
   {
    "duration": 11,
    "start_time": "2022-10-01T19:55:46.630Z"
   },
   {
    "duration": 1172,
    "start_time": "2022-10-01T19:59:07.608Z"
   },
   {
    "duration": 16,
    "start_time": "2022-10-01T19:59:21.289Z"
   },
   {
    "duration": 17,
    "start_time": "2022-10-01T20:00:04.177Z"
   },
   {
    "duration": 91,
    "start_time": "2022-10-01T20:01:38.166Z"
   },
   {
    "duration": 91,
    "start_time": "2022-10-01T20:01:54.038Z"
   },
   {
    "duration": 949,
    "start_time": "2022-10-01T20:02:09.335Z"
   },
   {
    "duration": 5,
    "start_time": "2022-10-01T20:02:31.841Z"
   },
   {
    "duration": 1373,
    "start_time": "2022-10-01T20:03:58.110Z"
   },
   {
    "duration": 1432,
    "start_time": "2022-10-01T20:04:19.736Z"
   },
   {
    "duration": 6,
    "start_time": "2022-10-01T20:04:37.164Z"
   },
   {
    "duration": 47,
    "start_time": "2022-10-01T20:08:31.505Z"
   },
   {
    "duration": 143,
    "start_time": "2022-10-01T20:10:05.326Z"
   },
   {
    "duration": 403,
    "start_time": "2022-10-02T14:05:54.228Z"
   },
   {
    "duration": 242,
    "start_time": "2022-10-02T14:05:54.633Z"
   },
   {
    "duration": 14,
    "start_time": "2022-10-02T14:05:54.877Z"
   },
   {
    "duration": 32,
    "start_time": "2022-10-02T14:05:54.893Z"
   },
   {
    "duration": 576,
    "start_time": "2022-10-02T14:05:54.928Z"
   },
   {
    "duration": 300,
    "start_time": "2022-10-02T14:05:55.506Z"
   },
   {
    "duration": 11,
    "start_time": "2022-10-02T14:05:55.808Z"
   },
   {
    "duration": 20,
    "start_time": "2022-10-02T14:05:55.820Z"
   },
   {
    "duration": 150,
    "start_time": "2022-10-02T14:05:55.842Z"
   },
   {
    "duration": 315,
    "start_time": "2022-10-02T14:05:55.994Z"
   },
   {
    "duration": 8,
    "start_time": "2022-10-02T14:05:56.311Z"
   },
   {
    "duration": 21,
    "start_time": "2022-10-02T14:05:56.321Z"
   },
   {
    "duration": 57,
    "start_time": "2022-10-02T14:05:56.344Z"
   },
   {
    "duration": 9,
    "start_time": "2022-10-02T14:05:56.404Z"
   },
   {
    "duration": 19,
    "start_time": "2022-10-02T14:05:56.414Z"
   },
   {
    "duration": 58,
    "start_time": "2022-10-02T14:05:56.434Z"
   },
   {
    "duration": 14,
    "start_time": "2022-10-02T14:05:56.493Z"
   },
   {
    "duration": 17,
    "start_time": "2022-10-02T14:05:56.508Z"
   },
   {
    "duration": 71,
    "start_time": "2022-10-02T14:05:56.527Z"
   },
   {
    "duration": 2,
    "start_time": "2022-10-02T14:05:56.600Z"
   },
   {
    "duration": 14,
    "start_time": "2022-10-02T14:05:56.606Z"
   },
   {
    "duration": 10,
    "start_time": "2022-10-02T14:05:56.622Z"
   },
   {
    "duration": 7,
    "start_time": "2022-10-02T14:05:56.634Z"
   },
   {
    "duration": 5,
    "start_time": "2022-10-02T14:05:56.643Z"
   },
   {
    "duration": 6,
    "start_time": "2022-10-02T14:05:56.649Z"
   },
   {
    "duration": 6,
    "start_time": "2022-10-02T14:05:56.656Z"
   },
   {
    "duration": 6,
    "start_time": "2022-10-02T14:05:56.663Z"
   },
   {
    "duration": 8,
    "start_time": "2022-10-02T14:05:56.670Z"
   },
   {
    "duration": 7,
    "start_time": "2022-10-02T14:05:56.679Z"
   },
   {
    "duration": 76,
    "start_time": "2022-10-02T14:05:56.687Z"
   },
   {
    "duration": 0,
    "start_time": "2022-10-02T14:05:56.765Z"
   },
   {
    "duration": 0,
    "start_time": "2022-10-02T14:05:56.766Z"
   },
   {
    "duration": 0,
    "start_time": "2022-10-02T14:05:56.767Z"
   },
   {
    "duration": 0,
    "start_time": "2022-10-02T14:05:56.768Z"
   },
   {
    "duration": 0,
    "start_time": "2022-10-02T14:05:56.769Z"
   },
   {
    "duration": 0,
    "start_time": "2022-10-02T14:05:56.770Z"
   },
   {
    "duration": 0,
    "start_time": "2022-10-02T14:05:56.771Z"
   },
   {
    "duration": 0,
    "start_time": "2022-10-02T14:05:56.772Z"
   },
   {
    "duration": 0,
    "start_time": "2022-10-02T14:05:56.772Z"
   },
   {
    "duration": 0,
    "start_time": "2022-10-02T14:05:56.773Z"
   },
   {
    "duration": 0,
    "start_time": "2022-10-02T14:05:56.774Z"
   },
   {
    "duration": 0,
    "start_time": "2022-10-02T14:05:56.775Z"
   },
   {
    "duration": 0,
    "start_time": "2022-10-02T14:05:56.776Z"
   },
   {
    "duration": 0,
    "start_time": "2022-10-02T14:05:56.777Z"
   },
   {
    "duration": 0,
    "start_time": "2022-10-02T14:05:56.777Z"
   },
   {
    "duration": 0,
    "start_time": "2022-10-02T14:05:56.778Z"
   },
   {
    "duration": 0,
    "start_time": "2022-10-02T14:05:56.779Z"
   },
   {
    "duration": 0,
    "start_time": "2022-10-02T14:05:56.806Z"
   },
   {
    "duration": 0,
    "start_time": "2022-10-02T14:05:56.808Z"
   },
   {
    "duration": 0,
    "start_time": "2022-10-02T14:05:56.809Z"
   },
   {
    "duration": 1311,
    "start_time": "2022-10-02T14:08:03.371Z"
   },
   {
    "duration": 11,
    "start_time": "2022-10-02T14:08:15.041Z"
   },
   {
    "duration": 10,
    "start_time": "2022-10-02T14:08:41.650Z"
   },
   {
    "duration": 6,
    "start_time": "2022-10-02T14:10:17.629Z"
   },
   {
    "duration": 21,
    "start_time": "2022-10-02T14:14:29.340Z"
   },
   {
    "duration": 18,
    "start_time": "2022-10-02T14:14:46.567Z"
   },
   {
    "duration": 14,
    "start_time": "2022-10-02T14:15:04.149Z"
   },
   {
    "duration": 8,
    "start_time": "2022-10-02T14:17:50.859Z"
   },
   {
    "duration": 6,
    "start_time": "2022-10-02T14:18:04.967Z"
   },
   {
    "duration": 9,
    "start_time": "2022-10-02T14:18:20.915Z"
   },
   {
    "duration": 20,
    "start_time": "2022-10-02T14:28:44.039Z"
   },
   {
    "duration": 35,
    "start_time": "2022-10-02T14:28:51.586Z"
   },
   {
    "duration": 29,
    "start_time": "2022-10-02T14:29:33.818Z"
   },
   {
    "duration": 14,
    "start_time": "2022-10-02T14:38:40.440Z"
   },
   {
    "duration": 18,
    "start_time": "2022-10-02T14:39:09.898Z"
   },
   {
    "duration": 16,
    "start_time": "2022-10-02T14:39:17.733Z"
   },
   {
    "duration": 19,
    "start_time": "2022-10-02T14:40:19.809Z"
   },
   {
    "duration": 7,
    "start_time": "2022-10-02T14:43:26.370Z"
   },
   {
    "duration": 21,
    "start_time": "2022-10-02T14:43:35.322Z"
   },
   {
    "duration": 19,
    "start_time": "2022-10-02T14:43:53.669Z"
   },
   {
    "duration": 9,
    "start_time": "2022-10-02T14:47:06.869Z"
   },
   {
    "duration": 21,
    "start_time": "2022-10-02T14:47:15.749Z"
   },
   {
    "duration": 11,
    "start_time": "2022-10-02T14:47:44.109Z"
   },
   {
    "duration": 7,
    "start_time": "2022-10-02T14:50:35.738Z"
   },
   {
    "duration": 27,
    "start_time": "2022-10-02T14:55:45.186Z"
   },
   {
    "duration": 8,
    "start_time": "2022-10-02T14:56:09.453Z"
   },
   {
    "duration": 22,
    "start_time": "2022-10-02T15:09:11.361Z"
   },
   {
    "duration": 44,
    "start_time": "2022-10-02T15:10:19.297Z"
   },
   {
    "duration": 28,
    "start_time": "2022-10-02T15:10:25.897Z"
   },
   {
    "duration": 31,
    "start_time": "2022-10-02T15:10:41.925Z"
   },
   {
    "duration": 42,
    "start_time": "2022-10-02T15:13:09.445Z"
   },
   {
    "duration": 15,
    "start_time": "2022-10-02T15:14:19.530Z"
   },
   {
    "duration": 11,
    "start_time": "2022-10-02T15:14:31.788Z"
   },
   {
    "duration": 8,
    "start_time": "2022-10-02T15:15:13.884Z"
   },
   {
    "duration": 107,
    "start_time": "2022-10-02T15:24:37.485Z"
   },
   {
    "duration": 10,
    "start_time": "2022-10-02T15:24:59.205Z"
   },
   {
    "duration": 9,
    "start_time": "2022-10-02T15:25:19.462Z"
   },
   {
    "duration": 11,
    "start_time": "2022-10-02T15:26:07.317Z"
   },
   {
    "duration": 13,
    "start_time": "2022-10-02T15:26:46.021Z"
   },
   {
    "duration": 8,
    "start_time": "2022-10-02T15:26:50.337Z"
   },
   {
    "duration": 10,
    "start_time": "2022-10-02T15:27:46.111Z"
   },
   {
    "duration": 9,
    "start_time": "2022-10-02T15:27:49.333Z"
   },
   {
    "duration": 71,
    "start_time": "2022-10-02T15:41:42.153Z"
   },
   {
    "duration": 6,
    "start_time": "2022-10-02T15:45:24.748Z"
   },
   {
    "duration": 3,
    "start_time": "2022-10-02T15:48:11.120Z"
   },
   {
    "duration": 8,
    "start_time": "2022-10-02T15:48:14.239Z"
   },
   {
    "duration": 5,
    "start_time": "2022-10-02T15:48:19.630Z"
   },
   {
    "duration": 3,
    "start_time": "2022-10-02T15:48:26.558Z"
   },
   {
    "duration": 8,
    "start_time": "2022-10-02T15:48:30.830Z"
   },
   {
    "duration": 29,
    "start_time": "2022-10-02T15:49:29.905Z"
   },
   {
    "duration": 29,
    "start_time": "2022-10-02T15:51:08.995Z"
   },
   {
    "duration": 1035,
    "start_time": "2022-10-02T15:51:12.071Z"
   },
   {
    "duration": 352,
    "start_time": "2022-10-02T15:51:31.750Z"
   },
   {
    "duration": 142,
    "start_time": "2022-10-02T15:51:32.104Z"
   },
   {
    "duration": 15,
    "start_time": "2022-10-02T15:51:32.247Z"
   },
   {
    "duration": 21,
    "start_time": "2022-10-02T15:51:32.263Z"
   },
   {
    "duration": 444,
    "start_time": "2022-10-02T15:51:32.286Z"
   },
   {
    "duration": 112,
    "start_time": "2022-10-02T15:51:32.732Z"
   },
   {
    "duration": 9,
    "start_time": "2022-10-02T15:51:32.845Z"
   },
   {
    "duration": 19,
    "start_time": "2022-10-02T15:51:32.855Z"
   },
   {
    "duration": 147,
    "start_time": "2022-10-02T15:51:32.876Z"
   },
   {
    "duration": 84,
    "start_time": "2022-10-02T15:51:33.027Z"
   },
   {
    "duration": 8,
    "start_time": "2022-10-02T15:51:33.112Z"
   },
   {
    "duration": 16,
    "start_time": "2022-10-02T15:51:33.122Z"
   },
   {
    "duration": 27,
    "start_time": "2022-10-02T15:51:33.139Z"
   },
   {
    "duration": 7,
    "start_time": "2022-10-02T15:51:33.167Z"
   },
   {
    "duration": 10,
    "start_time": "2022-10-02T15:51:33.176Z"
   },
   {
    "duration": 32,
    "start_time": "2022-10-02T15:51:33.188Z"
   },
   {
    "duration": 9,
    "start_time": "2022-10-02T15:51:33.222Z"
   },
   {
    "duration": 12,
    "start_time": "2022-10-02T15:51:33.232Z"
   },
   {
    "duration": 67,
    "start_time": "2022-10-02T15:51:33.245Z"
   },
   {
    "duration": 6,
    "start_time": "2022-10-02T15:51:33.313Z"
   },
   {
    "duration": 8,
    "start_time": "2022-10-02T15:51:33.321Z"
   },
   {
    "duration": 24,
    "start_time": "2022-10-02T15:51:33.331Z"
   },
   {
    "duration": 21,
    "start_time": "2022-10-02T15:51:33.356Z"
   },
   {
    "duration": 33,
    "start_time": "2022-10-02T15:51:33.378Z"
   },
   {
    "duration": 21,
    "start_time": "2022-10-02T15:51:33.413Z"
   },
   {
    "duration": 7,
    "start_time": "2022-10-02T15:51:33.436Z"
   },
   {
    "duration": 24,
    "start_time": "2022-10-02T15:51:33.445Z"
   },
   {
    "duration": 6,
    "start_time": "2022-10-02T15:51:33.473Z"
   },
   {
    "duration": 15,
    "start_time": "2022-10-02T15:51:33.500Z"
   },
   {
    "duration": 7,
    "start_time": "2022-10-02T15:51:33.516Z"
   },
   {
    "duration": 15,
    "start_time": "2022-10-02T15:51:33.524Z"
   },
   {
    "duration": 8,
    "start_time": "2022-10-02T15:51:33.541Z"
   },
   {
    "duration": 5,
    "start_time": "2022-10-02T15:51:33.550Z"
   },
   {
    "duration": 57,
    "start_time": "2022-10-02T15:51:33.557Z"
   },
   {
    "duration": 7,
    "start_time": "2022-10-02T15:51:33.616Z"
   },
   {
    "duration": 15,
    "start_time": "2022-10-02T15:51:33.624Z"
   },
   {
    "duration": 5,
    "start_time": "2022-10-02T15:51:33.640Z"
   },
   {
    "duration": 31,
    "start_time": "2022-10-02T15:51:33.647Z"
   },
   {
    "duration": 8,
    "start_time": "2022-10-02T15:51:33.679Z"
   },
   {
    "duration": 12,
    "start_time": "2022-10-02T15:51:33.689Z"
   },
   {
    "duration": 8,
    "start_time": "2022-10-02T15:51:33.702Z"
   },
   {
    "duration": 5,
    "start_time": "2022-10-02T15:51:33.711Z"
   },
   {
    "duration": 43,
    "start_time": "2022-10-02T15:51:33.717Z"
   },
   {
    "duration": 809,
    "start_time": "2022-10-02T15:51:33.761Z"
   },
   {
    "duration": 244,
    "start_time": "2022-10-02T15:51:34.572Z"
   },
   {
    "duration": 269,
    "start_time": "2022-10-02T15:51:34.817Z"
   },
   {
    "duration": 264,
    "start_time": "2022-10-02T15:51:35.088Z"
   },
   {
    "duration": 241,
    "start_time": "2022-10-02T15:51:35.354Z"
   },
   {
    "duration": 199,
    "start_time": "2022-10-02T15:51:35.597Z"
   },
   {
    "duration": 278,
    "start_time": "2022-10-02T15:51:35.800Z"
   },
   {
    "duration": 190,
    "start_time": "2022-10-02T15:51:36.080Z"
   },
   {
    "duration": 2,
    "start_time": "2022-10-02T15:51:36.272Z"
   },
   {
    "duration": 6,
    "start_time": "2022-10-02T15:51:36.275Z"
   },
   {
    "duration": 5,
    "start_time": "2022-10-02T15:51:36.282Z"
   },
   {
    "duration": 439,
    "start_time": "2022-10-02T19:00:17.581Z"
   },
   {
    "duration": 513,
    "start_time": "2022-10-02T19:00:18.022Z"
   },
   {
    "duration": 15,
    "start_time": "2022-10-02T19:00:18.537Z"
   },
   {
    "duration": 22,
    "start_time": "2022-10-02T19:00:18.553Z"
   },
   {
    "duration": 543,
    "start_time": "2022-10-02T19:00:18.577Z"
   },
   {
    "duration": 672,
    "start_time": "2022-10-02T19:00:19.121Z"
   },
   {
    "duration": 10,
    "start_time": "2022-10-02T19:00:19.794Z"
   },
   {
    "duration": 29,
    "start_time": "2022-10-02T19:00:19.805Z"
   },
   {
    "duration": 175,
    "start_time": "2022-10-02T19:00:19.836Z"
   },
   {
    "duration": 147,
    "start_time": "2022-10-02T19:00:20.013Z"
   },
   {
    "duration": 8,
    "start_time": "2022-10-02T19:00:20.162Z"
   },
   {
    "duration": 24,
    "start_time": "2022-10-02T19:00:20.171Z"
   },
   {
    "duration": 61,
    "start_time": "2022-10-02T19:00:20.197Z"
   },
   {
    "duration": 17,
    "start_time": "2022-10-02T19:00:20.262Z"
   },
   {
    "duration": 15,
    "start_time": "2022-10-02T19:00:20.281Z"
   },
   {
    "duration": 71,
    "start_time": "2022-10-02T19:00:20.298Z"
   },
   {
    "duration": 11,
    "start_time": "2022-10-02T19:00:20.371Z"
   },
   {
    "duration": 22,
    "start_time": "2022-10-02T19:00:20.384Z"
   },
   {
    "duration": 89,
    "start_time": "2022-10-02T19:00:20.409Z"
   },
   {
    "duration": 6,
    "start_time": "2022-10-02T19:00:20.500Z"
   },
   {
    "duration": 14,
    "start_time": "2022-10-02T19:00:20.507Z"
   },
   {
    "duration": 29,
    "start_time": "2022-10-02T19:00:20.522Z"
   },
   {
    "duration": 24,
    "start_time": "2022-10-02T19:00:20.553Z"
   },
   {
    "duration": 35,
    "start_time": "2022-10-02T19:00:20.578Z"
   },
   {
    "duration": 26,
    "start_time": "2022-10-02T19:00:20.614Z"
   },
   {
    "duration": 9,
    "start_time": "2022-10-02T19:00:20.641Z"
   },
   {
    "duration": 48,
    "start_time": "2022-10-02T19:00:20.651Z"
   },
   {
    "duration": 10,
    "start_time": "2022-10-02T19:00:20.701Z"
   },
   {
    "duration": 23,
    "start_time": "2022-10-02T19:00:20.713Z"
   },
   {
    "duration": 8,
    "start_time": "2022-10-02T19:00:20.737Z"
   },
   {
    "duration": 19,
    "start_time": "2022-10-02T19:00:20.747Z"
   },
   {
    "duration": 32,
    "start_time": "2022-10-02T19:00:20.768Z"
   },
   {
    "duration": 6,
    "start_time": "2022-10-02T19:00:20.802Z"
   },
   {
    "duration": 109,
    "start_time": "2022-10-02T19:00:20.810Z"
   },
   {
    "duration": 9,
    "start_time": "2022-10-02T19:00:20.921Z"
   },
   {
    "duration": 6,
    "start_time": "2022-10-02T19:00:20.932Z"
   },
   {
    "duration": 12,
    "start_time": "2022-10-02T19:00:20.939Z"
   },
   {
    "duration": 55,
    "start_time": "2022-10-02T19:00:20.953Z"
   },
   {
    "duration": 9,
    "start_time": "2022-10-02T19:00:21.010Z"
   },
   {
    "duration": 10,
    "start_time": "2022-10-02T19:00:21.021Z"
   },
   {
    "duration": 7,
    "start_time": "2022-10-02T19:00:21.034Z"
   },
   {
    "duration": 9,
    "start_time": "2022-10-02T19:00:21.042Z"
   },
   {
    "duration": 75,
    "start_time": "2022-10-02T19:00:21.053Z"
   },
   {
    "duration": 913,
    "start_time": "2022-10-02T19:00:21.130Z"
   },
   {
    "duration": 314,
    "start_time": "2022-10-02T19:00:22.045Z"
   },
   {
    "duration": 466,
    "start_time": "2022-10-02T19:00:22.361Z"
   },
   {
    "duration": 291,
    "start_time": "2022-10-02T19:00:22.830Z"
   },
   {
    "duration": 301,
    "start_time": "2022-10-02T19:00:23.123Z"
   },
   {
    "duration": 262,
    "start_time": "2022-10-02T19:00:23.425Z"
   },
   {
    "duration": 335,
    "start_time": "2022-10-02T19:00:23.689Z"
   },
   {
    "duration": 242,
    "start_time": "2022-10-02T19:00:24.026Z"
   },
   {
    "duration": 4,
    "start_time": "2022-10-02T19:00:24.270Z"
   },
   {
    "duration": 17,
    "start_time": "2022-10-02T19:00:24.278Z"
   },
   {
    "duration": 7,
    "start_time": "2022-10-02T19:00:24.297Z"
   },
   {
    "duration": 729,
    "start_time": "2022-10-02T19:20:58.853Z"
   },
   {
    "duration": 9,
    "start_time": "2022-10-02T19:21:49.583Z"
   },
   {
    "duration": 76,
    "start_time": "2022-10-02T19:22:30.033Z"
   },
   {
    "duration": 8,
    "start_time": "2022-10-02T19:22:38.892Z"
   },
   {
    "duration": 9,
    "start_time": "2022-10-02T19:23:01.303Z"
   },
   {
    "duration": 8,
    "start_time": "2022-10-02T19:23:31.453Z"
   },
   {
    "duration": 7,
    "start_time": "2022-10-02T19:25:49.058Z"
   },
   {
    "duration": 7,
    "start_time": "2022-10-02T19:26:04.043Z"
   },
   {
    "duration": 13,
    "start_time": "2022-10-02T19:29:08.857Z"
   },
   {
    "duration": 14,
    "start_time": "2022-10-02T19:29:22.090Z"
   },
   {
    "duration": 8,
    "start_time": "2022-10-02T19:29:33.530Z"
   },
   {
    "duration": 10,
    "start_time": "2022-10-02T19:30:51.339Z"
   },
   {
    "duration": 10,
    "start_time": "2022-10-02T19:37:59.596Z"
   },
   {
    "duration": 9,
    "start_time": "2022-10-02T19:41:20.019Z"
   }
  ],
  "kernelspec": {
   "display_name": "Python 3 (ipykernel)",
   "language": "python",
   "name": "python3"
  },
  "language_info": {
   "codemirror_mode": {
    "name": "ipython",
    "version": 3
   },
   "file_extension": ".py",
   "mimetype": "text/x-python",
   "name": "python",
   "nbconvert_exporter": "python",
   "pygments_lexer": "ipython3",
   "version": "3.9.12"
  },
  "toc": {
   "base_numbering": 1,
   "nav_menu": {},
   "number_sections": true,
   "sideBar": true,
   "skip_h1_title": true,
   "title_cell": "Contents",
   "title_sidebar": "Contents",
   "toc_cell": true,
   "toc_position": {
    "height": "calc(100% - 180px)",
    "left": "10px",
    "top": "150px",
    "width": "307.2px"
   },
   "toc_section_display": true,
   "toc_window_display": true
  }
 },
 "nbformat": 4,
 "nbformat_minor": 2
}
