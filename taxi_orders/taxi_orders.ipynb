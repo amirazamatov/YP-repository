{
 "cells": [
  {
   "cell_type": "markdown",
   "metadata": {
    "direction": "ltr",
    "toc": true
   },
   "source": [
    "<h1>Содержание<span class=\"tocSkip\"></span></h1>\n",
    "<div class=\"toc\"><ul class=\"toc-item\"><li><span><a href=\"#Подготовка-данных\" data-toc-modified-id=\"Подготовка-данных-1\"><span class=\"toc-item-num\">1&nbsp;&nbsp;</span>Подготовка данных</a></span></li><li><span><a href=\"#Анализ\" data-toc-modified-id=\"Анализ-2\"><span class=\"toc-item-num\">2&nbsp;&nbsp;</span>Анализ</a></span></li><li><span><a href=\"#Обучение\" data-toc-modified-id=\"Обучение-3\"><span class=\"toc-item-num\">3&nbsp;&nbsp;</span>Обучение</a></span><ul class=\"toc-item\"><li><span><a href=\"#LinearRegression\" data-toc-modified-id=\"LinearRegression-3.1\"><span class=\"toc-item-num\">3.1&nbsp;&nbsp;</span>LinearRegression</a></span></li><li><span><a href=\"#DecisionTree\" data-toc-modified-id=\"DecisionTree-3.2\"><span class=\"toc-item-num\">3.2&nbsp;&nbsp;</span>DecisionTree</a></span></li><li><span><a href=\"#RandomForest\" data-toc-modified-id=\"RandomForest-3.3\"><span class=\"toc-item-num\">3.3&nbsp;&nbsp;</span>RandomForest</a></span></li><li><span><a href=\"#LGBMRegressor\" data-toc-modified-id=\"LGBMRegressor-3.4\"><span class=\"toc-item-num\">3.4&nbsp;&nbsp;</span>LGBMRegressor</a></span></li><li><span><a href=\"#CastBoostRegressor\" data-toc-modified-id=\"CastBoostRegressor-3.5\"><span class=\"toc-item-num\">3.5&nbsp;&nbsp;</span>CastBoostRegressor</a></span></li></ul></li><li><span><a href=\"#Тестирование\" data-toc-modified-id=\"Тестирование-4\"><span class=\"toc-item-num\">4&nbsp;&nbsp;</span>Тестирование</a></span></li><li><span><a href=\"#Выводы\" data-toc-modified-id=\"Выводы-5\"><span class=\"toc-item-num\">5&nbsp;&nbsp;</span>Выводы</a></span></li></ul></div>"
   ]
  },
  {
   "cell_type": "markdown",
   "metadata": {},
   "source": [
    "#  Прогнозирование заказов такси"
   ]
  },
  {
   "cell_type": "markdown",
   "metadata": {},
   "source": [
    "Онлайн сервис заказа такси собрал исторические данные о заказах такси в аэропортах. Чтобы привлекать больше водителей в период пиковой нагрузки, нужно спрогнозировать количество заказов такси на следующий час. \n",
    "\n",
    "**Цель** - построить модель прогнозирования количества заказов такси на следующий час.\n",
    "\n",
    "По техническому заданию значение метрики *RMSE* на тестовой выборке должно быть не больше 48. В качестве тестовой выборки использовать 10% от исходных данных."
   ]
  },
  {
   "cell_type": "markdown",
   "metadata": {},
   "source": [
    "## Подготовка данных"
   ]
  },
  {
   "cell_type": "code",
   "execution_count": null,
   "metadata": {},
   "outputs": [],
   "source": [
    "# загружаем необходимые библиотеки\n",
    "!pip install catboost\n",
    "!pip install lightgbm\n",
    "\n",
    "import pandas as pd\n",
    "import matplotlib.pyplot as plt\n",
    "import warnings\n",
    "\n",
    "from sklearn.tree import DecisionTreeRegressor\n",
    "from sklearn.ensemble import RandomForestRegressor\n",
    "from sklearn.linear_model import LinearRegression\n",
    "from sklearn.metrics import mean_squared_error\n",
    "from sklearn.model_selection import train_test_split, RandomizedSearchCV, TimeSeriesSplit, cross_val_score\n",
    "\n",
    "from statsmodels.tsa.seasonal import seasonal_decompose\n",
    "\n",
    "from lightgbm import LGBMRegressor\n",
    "\n",
    "from catboost import CatBoostRegressor"
   ]
  },
  {
   "cell_type": "code",
   "execution_count": null,
   "metadata": {},
   "outputs": [],
   "source": [
    "RANDOM = 123\n",
    "\n",
    "warnings.filterwarnings('ignore')\n",
    "\n",
    "model_list = []\n",
    "rmse_score_list = []\n",
    "best_params = []"
   ]
  },
  {
   "cell_type": "code",
   "execution_count": null,
   "metadata": {},
   "outputs": [],
   "source": [
    "#загружаем датасет\n",
    "try:\n",
    "    data = pd.read_csv('/datasets/taxi.csv')\n",
    "except:\n",
    "    data = pd.read_csv('/Users/amirk/Downloads/taxi.csv')"
   ]
  },
  {
   "cell_type": "code",
   "execution_count": null,
   "metadata": {},
   "outputs": [],
   "source": [
    "data"
   ]
  },
  {
   "cell_type": "code",
   "execution_count": null,
   "metadata": {},
   "outputs": [],
   "source": [
    "data.info()"
   ]
  },
  {
   "cell_type": "code",
   "execution_count": null,
   "metadata": {},
   "outputs": [],
   "source": [
    "# столбец с датой переведем в формат datetime\n",
    "data['datetime'] = pd.to_datetime(data['datetime'])"
   ]
  },
  {
   "cell_type": "code",
   "execution_count": null,
   "metadata": {},
   "outputs": [],
   "source": [
    "# заменим индекс на столбец datetime\n",
    "data.rename(index=data['datetime'], inplace=True, copy=False)"
   ]
  },
  {
   "cell_type": "code",
   "execution_count": null,
   "metadata": {},
   "outputs": [],
   "source": [
    "# удалим столбец datetime\n",
    "data.drop('datetime', axis=1, inplace=True)"
   ]
  },
  {
   "cell_type": "code",
   "execution_count": null,
   "metadata": {},
   "outputs": [],
   "source": [
    "data"
   ]
  },
  {
   "cell_type": "markdown",
   "metadata": {},
   "source": [
    "Данные загружены, пропусков нет! Ресемплируем данные по периоду 1 час. Нам важно знать количество заказов за час, а в данных заказы за 10 минут, поэтому применим функцию **sum()**."
   ]
  },
  {
   "cell_type": "code",
   "execution_count": null,
   "metadata": {},
   "outputs": [],
   "source": [
    "data = data.resample('1H').sum()"
   ]
  },
  {
   "cell_type": "code",
   "execution_count": null,
   "metadata": {},
   "outputs": [],
   "source": [
    "data"
   ]
  },
  {
   "cell_type": "code",
   "execution_count": null,
   "metadata": {},
   "outputs": [],
   "source": [
    "data.index.is_monotonic"
   ]
  },
  {
   "cell_type": "markdown",
   "metadata": {},
   "source": [
    "Данные располложены в хронологическом порядке.    \n",
    "Данные подготовлены к анализу!"
   ]
  },
  {
   "cell_type": "markdown",
   "metadata": {},
   "source": [
    "## Анализ"
   ]
  },
  {
   "cell_type": "code",
   "execution_count": null,
   "metadata": {},
   "outputs": [],
   "source": [
    "decomposed = seasonal_decompose(data)"
   ]
  },
  {
   "cell_type": "code",
   "execution_count": null,
   "metadata": {},
   "outputs": [],
   "source": [
    "plt.plot(decomposed.seasonal['2018-03-01':'2018-03-05'])\n",
    "plt.title('Ежедневные колебания частоты заказов')\n",
    "plt.xlabel('Дата')\n",
    "plt.ylabel('Условный уровень количества заказов')\n",
    "plt.show"
   ]
  },
  {
   "cell_type": "markdown",
   "metadata": {},
   "source": [
    "Видно четкую внутридневную зависимость изменения числа заказов. Рассмотрим более подробно внутридневные колебания. "
   ]
  },
  {
   "cell_type": "code",
   "execution_count": null,
   "metadata": {},
   "outputs": [],
   "source": [
    "plt.figure(figsize=[20,5])\n",
    "plt.plot(decomposed.seasonal['2018-03-01'])\n",
    "plt.title('Внутридневные колебания частоты заказов')\n",
    "plt.xlabel('Дата')\n",
    "plt.ylabel('Условный уровень количества заказов')\n",
    "plt.show"
   ]
  },
  {
   "cell_type": "markdown",
   "metadata": {},
   "source": [
    "Выявлены достаточно логичные зависимости. Пики заказов такси приходятся на полночь, когда прибывает большое количесвто рейсов, общественный транспорт прекращает свою работу. Затем количество заказов такси снижается, что вероятно связано с уменьшением количества прибывающий рейсов, и минимальное количество заказов приходится на 6 утра. Затем в течение суток отмечается постепенное нарастание количества заказов такси с формированием нескольких пиков в 10ч, 16-17ч и вновь полночь. Добавим данный параметр для прогнозирования"
   ]
  },
  {
   "cell_type": "code",
   "execution_count": null,
   "metadata": {},
   "outputs": [],
   "source": [
    "plt.plot(decomposed.trend)\n",
    "plt.title('Трендовая линия частоты заказов такси')\n",
    "plt.xlabel('Дата')\n",
    "plt.ylabel('Количество заказов')\n",
    "plt.show"
   ]
  },
  {
   "cell_type": "markdown",
   "metadata": {},
   "source": [
    "Общий тренд заказов такси указывает на более чем 3х кратное увеличение заказов такчи в период с марта по август 2018г, что может быть связано как с отпускным периодом, так и в целом с увеличением популярности сервиса заказа такси. Данный параметр будет полезной фичей для прогнозирования."
   ]
  },
  {
   "cell_type": "code",
   "execution_count": null,
   "metadata": {},
   "outputs": [],
   "source": [
    "plt.plot(decomposed.resid)"
   ]
  },
  {
   "cell_type": "markdown",
   "metadata": {},
   "source": [
    "Видны отдельные выбросы, возможно связанные с каким-либо праздниками."
   ]
  },
  {
   "cell_type": "markdown",
   "metadata": {},
   "source": [
    "Напишем функцию для добавления фичей для прогнозирования."
   ]
  },
  {
   "cell_type": "code",
   "execution_count": null,
   "metadata": {},
   "outputs": [],
   "source": [
    "def make_features(data, shift_len, roll_len):    \n",
    "    for i in range(1, shift_len):\n",
    "        data['shift_{}'.format(i)] = data['num_orders'].shift(i)\n",
    "    for i in range(2, roll_len):\n",
    "        data['roll_{}'.format(i)] = data['num_orders'].shift(1).rolling(i).mean()\n",
    "    data['day_of_week'] = data.index.dayofweek\n",
    "    #data['month'] = data.index.month\n",
    "    data['trend'] = decomposed.trend\n",
    "    data['season'] = decomposed.seasonal\n",
    "    data.dropna(inplace=True)\n",
    "    return data"
   ]
  },
  {
   "cell_type": "code",
   "execution_count": null,
   "metadata": {},
   "outputs": [],
   "source": [
    "data = make_features(data, 5, 3)"
   ]
  },
  {
   "cell_type": "code",
   "execution_count": null,
   "metadata": {},
   "outputs": [],
   "source": [
    "data"
   ]
  },
  {
   "cell_type": "markdown",
   "metadata": {},
   "source": [
    "## Обучение"
   ]
  },
  {
   "cell_type": "markdown",
   "metadata": {},
   "source": [
    "Подготовим данные к загрузке в модель."
   ]
  },
  {
   "cell_type": "code",
   "execution_count": null,
   "metadata": {},
   "outputs": [],
   "source": [
    "X = data.drop('num_orders', axis=1)\n",
    "y = data['num_orders']\n",
    "\n",
    "X_train, X_test, y_train, y_test = train_test_split(X, y, test_size=0.1, shuffle=False)"
   ]
  },
  {
   "cell_type": "markdown",
   "metadata": {},
   "source": [
    "### LinearRegression"
   ]
  },
  {
   "cell_type": "code",
   "execution_count": null,
   "metadata": {},
   "outputs": [],
   "source": [
    "def best_model_lr(X_train, y_train):\n",
    "    model = LinearRegression()\n",
    "    model.fit(X_train, y_train)\n",
    "    model_list.append(model.__class__.__name__)\n",
    "    rmse_score_list.append(abs(cross_val_score(model,X_train, y_train, \n",
    "                           cv = TimeSeriesSplit(n_splits=8), \n",
    "                           n_jobs = -1, \n",
    "                           scoring = 'neg_root_mean_squared_error').mean()))\n",
    "    best_params.append(model.get_params)\n",
    "    print('Значение RMSE = ', abs(cross_val_score(model,X_train, y_train, \n",
    "                                               cv = TimeSeriesSplit(n_splits=8), \n",
    "                                               n_jobs = -1, \n",
    "                                               scoring = 'neg_root_mean_squared_error').mean()))\n",
    "    return model "
   ]
  },
  {
   "cell_type": "code",
   "execution_count": null,
   "metadata": {},
   "outputs": [],
   "source": [
    "lr = best_model_lr(X_train, y_train)"
   ]
  },
  {
   "cell_type": "code",
   "execution_count": null,
   "metadata": {},
   "outputs": [],
   "source": [
    "lr.predict(X_train)"
   ]
  },
  {
   "cell_type": "code",
   "execution_count": null,
   "metadata": {},
   "outputs": [],
   "source": [
    "y_train"
   ]
  },
  {
   "cell_type": "code",
   "execution_count": null,
   "metadata": {},
   "outputs": [],
   "source": [
    "def make_pict(model, y_train):    \n",
    "    fig, ax1 = plt.subplots(figsize=(20,5))\n",
    "    plt.plot(y_train['2018-03-01':'2018-03-03'], label='Реальные')\n",
    "    plt.plot(pd.DataFrame(model.predict(X_train), index=y_train.index)['2018-03-01':'2018-03-03'], label='Предсказанные')\n",
    "    plt.xlabel('Количество заказов', fontsize=16)\n",
    "    plt.ylabel('Время', fontsize=16)\n",
    "    plt.title('Количество заказов за 3 дня', fontsize=16)\n",
    "    plt.legend(fontsize=16)\n",
    "    plt.show()"
   ]
  },
  {
   "cell_type": "code",
   "execution_count": null,
   "metadata": {},
   "outputs": [],
   "source": [
    "make_pict(lr, y_train)"
   ]
  },
  {
   "cell_type": "markdown",
   "metadata": {},
   "source": [
    "### DecisionTree"
   ]
  },
  {
   "cell_type": "code",
   "execution_count": null,
   "metadata": {},
   "outputs": [],
   "source": [
    "def best_model_dtr(X_train, y_train):\n",
    "    model = DecisionTreeRegressor()\n",
    "    params = {'max_depth':range(1,10), 'min_samples_split':range(2,10), 'min_samples_leaf':range(1,10)}\n",
    "    grid_model = RandomizedSearchCV(model, \n",
    "                                    params, \n",
    "                                    cv=TimeSeriesSplit(n_splits=8), \n",
    "                                    scoring='neg_root_mean_squared_error', \n",
    "                                    n_jobs=-1, \n",
    "                                    verbose=1, \n",
    "                                    random_state=RANDOM)\n",
    "    grid_model.fit(X_train, y_train)\n",
    "    model_list.append(model.__class__.__name__)\n",
    "    rmse_score_list.append(abs(grid_model.best_score_))\n",
    "    best_params.append(grid_model.best_params_)\n",
    "    print('Значение RMSE = ', abs(grid_model.best_score_))\n",
    "    print('Лучшие параметры модели:', grid_model.best_params_)\n",
    "    return grid_model"
   ]
  },
  {
   "cell_type": "code",
   "execution_count": null,
   "metadata": {},
   "outputs": [],
   "source": [
    "dtr = best_model_dtr(X_train, y_train)"
   ]
  },
  {
   "cell_type": "code",
   "execution_count": null,
   "metadata": {},
   "outputs": [],
   "source": [
    "make_pict(dtr, y_train)"
   ]
  },
  {
   "cell_type": "markdown",
   "metadata": {},
   "source": [
    "### RandomForest"
   ]
  },
  {
   "cell_type": "code",
   "execution_count": null,
   "metadata": {},
   "outputs": [],
   "source": [
    "# Для начала найдем лучшие параметры модели на небольшом количестве деревьев \n",
    "#с целью экономии времени обучения, а в целом можно и нужно количество деревьев сразу смотреть.\n",
    "# Затем подберем такой гиперпараметр как количество деревьев\n",
    "def best_model_rfc(X_train, y_train):\n",
    "    model = RandomForestRegressor(random_state=RANDOM, n_estimators=10)\n",
    "    params = {'max_depth':range(1,10), 'min_samples_split':range(2,10), 'min_samples_leaf':range(1,10)}\n",
    "    grid_model = RandomizedSearchCV(model, \n",
    "                                    params, \n",
    "                                    cv=TimeSeriesSplit(n_splits=8), \n",
    "                                    scoring='neg_root_mean_squared_error', \n",
    "                                    n_jobs=-1, \n",
    "                                    verbose=1, \n",
    "                                    random_state=RANDOM)\n",
    "    grid_model.fit(X_train, y_train)\n",
    "    model = RandomForestRegressor(random_state=RANDOM)\n",
    "    params = {'n_estimators':range(20,300,20), \n",
    "              'max_depth':[grid_model.best_params_['max_depth']],\n",
    "              'min_samples_split':[grid_model.best_params_['min_samples_split']],\n",
    "              'min_samples_leaf':[grid_model.best_params_['min_samples_leaf']]}\n",
    "    grid_model = RandomizedSearchCV(model, \n",
    "                                    params, \n",
    "                                    cv=TimeSeriesSplit(n_splits=8), \n",
    "                                    scoring='neg_root_mean_squared_error', \n",
    "                                    n_jobs=-1, \n",
    "                                    verbose=1, \n",
    "                                    random_state=RANDOM)\n",
    "    grid_model.fit(X_train, y_train)\n",
    "    model_list.append(model.__class__.__name__)\n",
    "    rmse_score_list.append(abs(grid_model.best_score_))\n",
    "    best_params.append(grid_model.best_params_)\n",
    "    print('Значение RMSE = ', abs(grid_model.best_score_))\n",
    "    print('Лучшие параметры модели:', grid_model.best_params_)\n",
    "    return grid_model"
   ]
  },
  {
   "cell_type": "code",
   "execution_count": null,
   "metadata": {},
   "outputs": [],
   "source": [
    "rfc = best_model_rfc(X_train, y_train)"
   ]
  },
  {
   "cell_type": "code",
   "execution_count": null,
   "metadata": {},
   "outputs": [],
   "source": [
    "make_pict(rfc, y_train)"
   ]
  },
  {
   "cell_type": "markdown",
   "metadata": {},
   "source": [
    "### LGBMRegressor"
   ]
  },
  {
   "cell_type": "code",
   "execution_count": null,
   "metadata": {},
   "outputs": [],
   "source": [
    "def best_model_lgbm(X_train, y_train):\n",
    "    model = LGBMRegressor()\n",
    "    params = {'max_depth':range(1,15), 'min_data_in_leaf':range(1,40)}\n",
    "    grid_model = RandomizedSearchCV(model, \n",
    "                                    params, \n",
    "                                    cv=TimeSeriesSplit(n_splits=8), \n",
    "                                    scoring='neg_root_mean_squared_error', \n",
    "                                    n_jobs=-1, \n",
    "                                    verbose=1, \n",
    "                                    random_state=RANDOM)\n",
    "    grid_model.fit(X_train, y_train)\n",
    "    model_list.append(model.__class__.__name__)\n",
    "    rmse_score_list.append(abs(grid_model.best_score_))\n",
    "    best_params.append(grid_model.best_params_)\n",
    "    print('Значение RMSE = ', abs(grid_model.best_score_))\n",
    "    print('Лучшие параметры модели:', grid_model.best_params_)\n",
    "    return grid_model"
   ]
  },
  {
   "cell_type": "code",
   "execution_count": null,
   "metadata": {
    "scrolled": true
   },
   "outputs": [],
   "source": [
    "lgbm = best_model_lgbm(X_train, y_train)"
   ]
  },
  {
   "cell_type": "code",
   "execution_count": null,
   "metadata": {},
   "outputs": [],
   "source": [
    "make_pict(lgbm, y_train)"
   ]
  },
  {
   "cell_type": "markdown",
   "metadata": {},
   "source": [
    "### CastBoostRegressor"
   ]
  },
  {
   "cell_type": "code",
   "execution_count": null,
   "metadata": {},
   "outputs": [],
   "source": [
    "def best_model_cbr(X_train, y_train):\n",
    "    model = CatBoostRegressor(random_state=RANDOM)\n",
    "    params = {'max_depth':range(2,10), 'iterations':range(20,1000, 20)}\n",
    "    grid_model = RandomizedSearchCV(model, \n",
    "                                    params, \n",
    "                                    cv=5, \n",
    "                                    scoring='neg_root_mean_squared_error', \n",
    "                                    n_jobs=-1, \n",
    "                                    verbose=0, \n",
    "                                    random_state=RANDOM)\n",
    "    grid_model.fit(X_train, y_train)\n",
    "    model_list.append(model.__class__.__name__)\n",
    "    rmse_score_list.append(abs(grid_model.best_score_))\n",
    "    best_params.append(grid_model.best_params_)\n",
    "    print('Значение RMSE = ', abs(grid_model.best_score_))\n",
    "    print('Лучшие параметры модели:', grid_model.best_params_)\n",
    "    return grid_model"
   ]
  },
  {
   "cell_type": "code",
   "execution_count": null,
   "metadata": {},
   "outputs": [],
   "source": [
    "cbr = best_model_cbr(X_train, y_train)"
   ]
  },
  {
   "cell_type": "code",
   "execution_count": null,
   "metadata": {},
   "outputs": [],
   "source": [
    "make_pict(cbr, y_train)"
   ]
  },
  {
   "cell_type": "code",
   "execution_count": null,
   "metadata": {},
   "outputs": [],
   "source": [
    "# создадим сводную таблицу по результатам теста\n",
    "top_list_df = pd.DataFrame({'Model':model_list, \n",
    "                            'RMSE':rmse_score_list,\n",
    "                            'Best parameters':best_params }).sort_values(by='RMSE', ascending=True).reset_index(drop=True)\n",
    "top_list_df"
   ]
  },
  {
   "cell_type": "markdown",
   "metadata": {},
   "source": [
    "В ходе исследования нами было оценено 5 моделей для прогнозирования количества заказов такси на следующий час. Наилучший показатель RMSE оказался у модели LinearRegression. Именно данная модель будет применяться для прогнозирования заказов!\n",
    "\n",
    "| Модель                | RMSE               | \n",
    "| :---:                 |    :----:          | \n",
    "| **LinearRegression**      | **22.22**              |\n",
    "| LGBMRegressor | 22.40|\n",
    "| CatBoostRegressor | 22.60 |\n",
    "| RandomForestRegressor | 22.85 |\n",
    "| DecisionTreeRegressor | 24.23              | \n",
    "\n",
    "\n",
    "Проверим работу модели на тестовых данных!"
   ]
  },
  {
   "cell_type": "markdown",
   "metadata": {},
   "source": [
    "## Тестирование"
   ]
  },
  {
   "cell_type": "code",
   "execution_count": null,
   "metadata": {},
   "outputs": [],
   "source": [
    "prediction = lr.predict(X_test)\n",
    "final_rmse = mean_squared_error(y_test, prediction, squared=False)\n",
    "final_rmse"
   ]
  },
  {
   "cell_type": "markdown",
   "metadata": {},
   "source": [
    "Лучшей моделью для прогнозирования количества заказов такси признана модель **LinearRegression**. Итоговое значение RMSE на тестовых данных составило 40.37. Модель успешно прошла тестирование!"
   ]
  },
  {
   "cell_type": "markdown",
   "metadata": {},
   "source": [
    "## Выводы"
   ]
  },
  {
   "cell_type": "markdown",
   "metadata": {},
   "source": [
    "Онлайн сервису заказа такси была необходима  модель прогнозирования заказов такси на следующий час, для привлечения  большего количества водителей в период пиковой нагрузки. \n",
    "\n",
    "По техническому заданию значение метрики RMSE на тестовой выборке должно было быть не больше 48. В качестве тестовой выборки использовалось 10% от исходных данных.\n",
    "\n",
    "В ходе исследования было выполнено:\n",
    "- загрузка данных;\n",
    "- переопределение типов данных в столбцах;\n",
    "- ресемплирование временного ряда;\n",
    "- оценка сезоных зависимостей и трендовой линии;\n",
    "- добавление новых признаков;\n",
    "- разделение данных на тренировочную и тестовую выборки;\n",
    "- обучение моделей.\n",
    "\n",
    "В ходе исследования нами было оценено 5 моделей для прогнозирования количества заказов такси на следующий час. Наилучший показатель RMSE оказался у модели LinearRegression. Именно данная модель будет применяться для прогнозирования заказов!\n",
    "\n",
    "| Модель                | RMSE               | \n",
    "| :---:                 |    :----:          | \n",
    "| **LinearRegression**      | **22.22**              |\n",
    "| LGBMRegressor | 22.40|\n",
    "| CatBoostRegressor | 22.60 |\n",
    "| RandomForestRegressor | 22.85 |\n",
    "| DecisionTreeRegressor | 24.23              | \n",
    "\n",
    "Лучшей моделью для прогнозирования количества заказов такси признана модель **LinearRegression**. Итоговое значение RMSE на тестовых данных составило 40.37. \n"
   ]
  }
 ],
 "metadata": {
  "ExecuteTimeLog": [
   {
    "duration": 52108,
    "start_time": "2023-01-25T16:53:51.316Z"
   },
   {
    "duration": 7509,
    "start_time": "2023-01-25T16:56:12.008Z"
   },
   {
    "duration": 3,
    "start_time": "2023-01-25T16:57:14.496Z"
   },
   {
    "duration": 137,
    "start_time": "2023-01-25T16:57:59.474Z"
   },
   {
    "duration": 16,
    "start_time": "2023-01-25T16:58:10.422Z"
   },
   {
    "duration": 47,
    "start_time": "2023-01-25T16:59:33.563Z"
   },
   {
    "duration": 8,
    "start_time": "2023-01-25T16:59:36.212Z"
   },
   {
    "duration": 11,
    "start_time": "2023-01-25T16:59:59.984Z"
   },
   {
    "duration": 129,
    "start_time": "2023-01-25T17:16:03.800Z"
   },
   {
    "duration": 129,
    "start_time": "2023-01-25T17:17:02.671Z"
   },
   {
    "duration": 51,
    "start_time": "2023-01-25T17:17:10.251Z"
   },
   {
    "duration": 44,
    "start_time": "2023-01-25T17:17:25.433Z"
   },
   {
    "duration": 9,
    "start_time": "2023-01-25T17:17:27.752Z"
   },
   {
    "duration": 14,
    "start_time": "2023-01-25T17:17:31.158Z"
   },
   {
    "duration": 2112,
    "start_time": "2023-01-25T17:21:05.663Z"
   },
   {
    "duration": 9,
    "start_time": "2023-01-25T17:22:02.137Z"
   },
   {
    "duration": 222,
    "start_time": "2023-01-25T17:23:19.504Z"
   },
   {
    "duration": 10,
    "start_time": "2023-01-25T17:23:33.933Z"
   },
   {
    "duration": 560,
    "start_time": "2023-01-25T17:25:28.094Z"
   },
   {
    "duration": 10,
    "start_time": "2023-01-25T17:25:31.387Z"
   },
   {
    "duration": 672,
    "start_time": "2023-01-25T17:28:04.968Z"
   },
   {
    "duration": 634,
    "start_time": "2023-01-25T17:28:28.563Z"
   },
   {
    "duration": 4,
    "start_time": "2023-01-25T17:29:02.451Z"
   },
   {
    "duration": 9,
    "start_time": "2023-01-25T17:29:04.721Z"
   },
   {
    "duration": 7,
    "start_time": "2023-01-25T17:29:20.238Z"
   },
   {
    "duration": 5,
    "start_time": "2023-01-25T17:29:33.952Z"
   },
   {
    "duration": 6,
    "start_time": "2023-01-25T17:33:48.081Z"
   },
   {
    "duration": 10,
    "start_time": "2023-01-25T17:33:55.597Z"
   },
   {
    "duration": 9175,
    "start_time": "2023-01-25T17:34:27.974Z"
   },
   {
    "duration": 3,
    "start_time": "2023-01-25T17:34:37.151Z"
   },
   {
    "duration": 62,
    "start_time": "2023-01-25T17:34:37.155Z"
   },
   {
    "duration": 20,
    "start_time": "2023-01-25T17:34:37.219Z"
   },
   {
    "duration": 13,
    "start_time": "2023-01-25T17:34:37.241Z"
   },
   {
    "duration": 10,
    "start_time": "2023-01-25T17:34:37.256Z"
   },
   {
    "duration": 249,
    "start_time": "2023-01-25T17:34:37.267Z"
   },
   {
    "duration": 14,
    "start_time": "2023-01-25T17:34:37.518Z"
   },
   {
    "duration": 25,
    "start_time": "2023-01-25T17:34:37.536Z"
   },
   {
    "duration": 21,
    "start_time": "2023-01-25T17:34:37.563Z"
   },
   {
    "duration": 24,
    "start_time": "2023-01-25T17:34:37.586Z"
   },
   {
    "duration": 104,
    "start_time": "2023-01-25T17:40:10.297Z"
   },
   {
    "duration": 180,
    "start_time": "2023-01-25T17:47:59.178Z"
   },
   {
    "duration": 13,
    "start_time": "2023-01-25T17:48:07.214Z"
   },
   {
    "duration": 14,
    "start_time": "2023-01-25T17:48:21.388Z"
   },
   {
    "duration": 5,
    "start_time": "2023-01-25T17:48:27.074Z"
   },
   {
    "duration": 7751,
    "start_time": "2023-01-25T17:54:28.052Z"
   },
   {
    "duration": 20,
    "start_time": "2023-01-25T17:56:09.165Z"
   },
   {
    "duration": 10,
    "start_time": "2023-01-25T17:56:22.630Z"
   },
   {
    "duration": 13,
    "start_time": "2023-01-25T17:56:49.618Z"
   },
   {
    "duration": 12,
    "start_time": "2023-01-25T17:56:54.241Z"
   },
   {
    "duration": 8,
    "start_time": "2023-01-25T17:57:16.691Z"
   },
   {
    "duration": 214,
    "start_time": "2023-01-25T18:06:31.293Z"
   },
   {
    "duration": 14,
    "start_time": "2023-01-25T18:07:35.617Z"
   },
   {
    "duration": 184,
    "start_time": "2023-01-25T18:07:51.290Z"
   },
   {
    "duration": 187,
    "start_time": "2023-01-25T18:08:13.884Z"
   },
   {
    "duration": 270,
    "start_time": "2023-01-25T18:08:58.006Z"
   },
   {
    "duration": 6,
    "start_time": "2023-01-25T18:09:38.386Z"
   },
   {
    "duration": 206,
    "start_time": "2023-01-25T18:10:24.665Z"
   },
   {
    "duration": 25190,
    "start_time": "2023-01-29T18:28:44.211Z"
   },
   {
    "duration": 3,
    "start_time": "2023-01-29T18:29:09.403Z"
   },
   {
    "duration": 123,
    "start_time": "2023-01-29T18:29:09.407Z"
   },
   {
    "duration": 12,
    "start_time": "2023-01-29T18:29:09.532Z"
   },
   {
    "duration": 12,
    "start_time": "2023-01-29T18:29:09.546Z"
   },
   {
    "duration": 9,
    "start_time": "2023-01-29T18:29:09.560Z"
   },
   {
    "duration": 236,
    "start_time": "2023-01-29T18:29:09.570Z"
   },
   {
    "duration": 3,
    "start_time": "2023-01-29T18:29:09.808Z"
   },
   {
    "duration": 8,
    "start_time": "2023-01-29T18:29:09.820Z"
   },
   {
    "duration": 7,
    "start_time": "2023-01-29T18:29:09.830Z"
   },
   {
    "duration": 8,
    "start_time": "2023-01-29T18:29:09.839Z"
   },
   {
    "duration": 5,
    "start_time": "2023-01-29T18:29:09.849Z"
   },
   {
    "duration": 9,
    "start_time": "2023-01-29T18:29:09.856Z"
   },
   {
    "duration": 6,
    "start_time": "2023-01-29T18:29:09.867Z"
   },
   {
    "duration": 177,
    "start_time": "2023-01-29T18:29:09.875Z"
   },
   {
    "duration": 6,
    "start_time": "2023-01-29T18:29:10.054Z"
   },
   {
    "duration": 169,
    "start_time": "2023-01-29T18:29:10.062Z"
   },
   {
    "duration": 72,
    "start_time": "2023-01-29T18:37:29.714Z"
   },
   {
    "duration": 141,
    "start_time": "2023-01-29T18:38:30.449Z"
   },
   {
    "duration": 276,
    "start_time": "2023-01-29T18:39:10.993Z"
   },
   {
    "duration": 149,
    "start_time": "2023-01-29T18:40:42.508Z"
   },
   {
    "duration": 158,
    "start_time": "2023-01-29T18:40:50.228Z"
   },
   {
    "duration": 195,
    "start_time": "2023-01-29T18:41:01.713Z"
   },
   {
    "duration": 186,
    "start_time": "2023-01-29T18:41:09.149Z"
   },
   {
    "duration": 201,
    "start_time": "2023-01-29T18:53:04.411Z"
   },
   {
    "duration": 61966,
    "start_time": "2023-01-30T17:06:21.767Z"
   },
   {
    "duration": 3,
    "start_time": "2023-01-30T17:07:23.735Z"
   },
   {
    "duration": 174,
    "start_time": "2023-01-30T17:07:23.740Z"
   },
   {
    "duration": 13,
    "start_time": "2023-01-30T17:07:23.916Z"
   },
   {
    "duration": 24,
    "start_time": "2023-01-30T17:07:23.932Z"
   },
   {
    "duration": 23,
    "start_time": "2023-01-30T17:07:23.957Z"
   },
   {
    "duration": 261,
    "start_time": "2023-01-30T17:07:23.981Z"
   },
   {
    "duration": 4,
    "start_time": "2023-01-30T17:07:24.244Z"
   },
   {
    "duration": 33,
    "start_time": "2023-01-30T17:07:24.250Z"
   },
   {
    "duration": 15,
    "start_time": "2023-01-30T17:07:24.285Z"
   },
   {
    "duration": 16,
    "start_time": "2023-01-30T17:07:24.302Z"
   },
   {
    "duration": 8,
    "start_time": "2023-01-30T17:07:24.320Z"
   },
   {
    "duration": 13,
    "start_time": "2023-01-30T17:07:24.330Z"
   },
   {
    "duration": 8,
    "start_time": "2023-01-30T17:07:24.345Z"
   },
   {
    "duration": 158,
    "start_time": "2023-01-30T17:07:24.355Z"
   },
   {
    "duration": 203,
    "start_time": "2023-01-30T17:07:24.514Z"
   },
   {
    "duration": 6,
    "start_time": "2023-01-30T17:07:24.719Z"
   },
   {
    "duration": 180,
    "start_time": "2023-01-30T17:07:24.727Z"
   },
   {
    "duration": 183,
    "start_time": "2023-01-30T17:07:24.909Z"
   },
   {
    "duration": 3,
    "start_time": "2023-01-30T17:13:15.689Z"
   },
   {
    "duration": 4,
    "start_time": "2023-01-30T17:13:41.576Z"
   },
   {
    "duration": 10,
    "start_time": "2023-01-30T17:13:51.604Z"
   },
   {
    "duration": 3,
    "start_time": "2023-01-30T17:14:02.946Z"
   },
   {
    "duration": 7,
    "start_time": "2023-01-30T17:14:05.302Z"
   },
   {
    "duration": 16,
    "start_time": "2023-01-30T17:14:08.152Z"
   },
   {
    "duration": 3,
    "start_time": "2023-01-30T17:15:15.986Z"
   },
   {
    "duration": 10,
    "start_time": "2023-01-30T17:15:18.814Z"
   },
   {
    "duration": 4,
    "start_time": "2023-01-30T17:15:27.082Z"
   },
   {
    "duration": 10,
    "start_time": "2023-01-30T17:15:29.540Z"
   },
   {
    "duration": 15,
    "start_time": "2023-01-30T17:15:31.817Z"
   },
   {
    "duration": 9,
    "start_time": "2023-01-30T17:16:09.867Z"
   },
   {
    "duration": 16,
    "start_time": "2023-01-30T17:16:12.260Z"
   },
   {
    "duration": 5,
    "start_time": "2023-01-30T17:16:30.207Z"
   },
   {
    "duration": 8,
    "start_time": "2023-01-30T17:16:32.592Z"
   },
   {
    "duration": 15,
    "start_time": "2023-01-30T17:16:34.729Z"
   },
   {
    "duration": 13,
    "start_time": "2023-01-30T17:16:54.143Z"
   },
   {
    "duration": 54,
    "start_time": "2023-01-30T17:17:18.540Z"
   },
   {
    "duration": 4,
    "start_time": "2023-01-30T17:17:52.421Z"
   },
   {
    "duration": 7,
    "start_time": "2023-01-30T17:17:55.354Z"
   },
   {
    "duration": 8,
    "start_time": "2023-01-30T17:18:02.493Z"
   },
   {
    "duration": 22,
    "start_time": "2023-01-30T17:18:06.438Z"
   },
   {
    "duration": 9492,
    "start_time": "2023-01-30T17:18:39.995Z"
   },
   {
    "duration": 3,
    "start_time": "2023-01-30T17:18:49.490Z"
   },
   {
    "duration": 48,
    "start_time": "2023-01-30T17:18:49.495Z"
   },
   {
    "duration": 17,
    "start_time": "2023-01-30T17:18:49.547Z"
   },
   {
    "duration": 14,
    "start_time": "2023-01-30T17:18:49.566Z"
   },
   {
    "duration": 12,
    "start_time": "2023-01-30T17:18:49.582Z"
   },
   {
    "duration": 298,
    "start_time": "2023-01-30T17:18:49.596Z"
   },
   {
    "duration": 4,
    "start_time": "2023-01-30T17:18:49.896Z"
   },
   {
    "duration": 11,
    "start_time": "2023-01-30T17:18:49.902Z"
   },
   {
    "duration": 25,
    "start_time": "2023-01-30T17:18:49.915Z"
   },
   {
    "duration": 16,
    "start_time": "2023-01-30T17:18:49.943Z"
   },
   {
    "duration": 11,
    "start_time": "2023-01-30T17:18:49.962Z"
   },
   {
    "duration": 13,
    "start_time": "2023-01-30T17:18:49.975Z"
   },
   {
    "duration": 18,
    "start_time": "2023-01-30T17:18:49.990Z"
   },
   {
    "duration": 171,
    "start_time": "2023-01-30T17:18:50.010Z"
   },
   {
    "duration": 216,
    "start_time": "2023-01-30T17:18:50.183Z"
   },
   {
    "duration": 7,
    "start_time": "2023-01-30T17:18:50.403Z"
   },
   {
    "duration": 187,
    "start_time": "2023-01-30T17:18:50.412Z"
   },
   {
    "duration": 188,
    "start_time": "2023-01-30T17:18:50.601Z"
   },
   {
    "duration": 4,
    "start_time": "2023-01-30T17:18:50.790Z"
   },
   {
    "duration": 28,
    "start_time": "2023-01-30T17:18:50.796Z"
   },
   {
    "duration": 22,
    "start_time": "2023-01-30T17:18:50.826Z"
   },
   {
    "duration": 15,
    "start_time": "2023-01-30T17:19:17.470Z"
   },
   {
    "duration": 6,
    "start_time": "2023-01-30T17:29:56.982Z"
   },
   {
    "duration": 9,
    "start_time": "2023-01-30T17:29:59.985Z"
   },
   {
    "duration": 23,
    "start_time": "2023-01-30T17:30:02.754Z"
   },
   {
    "duration": 154,
    "start_time": "2023-01-30T17:30:20.158Z"
   },
   {
    "duration": 5,
    "start_time": "2023-01-30T17:30:24.642Z"
   },
   {
    "duration": 12,
    "start_time": "2023-01-30T17:30:33.128Z"
   },
   {
    "duration": 22,
    "start_time": "2023-01-30T17:30:36.103Z"
   },
   {
    "duration": 5,
    "start_time": "2023-01-30T17:35:08.998Z"
   },
   {
    "duration": 6,
    "start_time": "2023-01-30T17:38:21.453Z"
   },
   {
    "duration": 4,
    "start_time": "2023-01-30T17:42:29.924Z"
   },
   {
    "duration": 927,
    "start_time": "2023-01-30T17:43:03.341Z"
   },
   {
    "duration": 5,
    "start_time": "2023-01-30T17:44:26.427Z"
   },
   {
    "duration": 18,
    "start_time": "2023-01-30T17:44:29.707Z"
   },
   {
    "duration": 6,
    "start_time": "2023-01-30T17:45:06.457Z"
   },
   {
    "duration": 881,
    "start_time": "2023-01-30T17:45:09.089Z"
   },
   {
    "duration": 5,
    "start_time": "2023-01-30T17:46:21.438Z"
   },
   {
    "duration": 13669,
    "start_time": "2023-01-30T17:46:59.817Z"
   },
   {
    "duration": 11,
    "start_time": "2023-01-30T17:48:31.268Z"
   },
   {
    "duration": 7140,
    "start_time": "2023-01-30T17:50:19.045Z"
   },
   {
    "duration": 5,
    "start_time": "2023-01-30T17:51:11.211Z"
   },
   {
    "duration": 155,
    "start_time": "2023-01-30T17:51:36.497Z"
   },
   {
    "duration": 7149,
    "start_time": "2023-01-30T17:52:24.135Z"
   },
   {
    "duration": 16,
    "start_time": "2023-01-30T17:52:39.929Z"
   },
   {
    "duration": 5,
    "start_time": "2023-01-30T17:53:00.437Z"
   },
   {
    "duration": 485,
    "start_time": "2023-01-30T17:53:03.418Z"
   },
   {
    "duration": 6,
    "start_time": "2023-01-30T17:53:15.474Z"
   },
   {
    "duration": 19742,
    "start_time": "2023-01-30T17:53:18.762Z"
   },
   {
    "duration": 4,
    "start_time": "2023-01-30T17:54:07.901Z"
   },
   {
    "duration": 22,
    "start_time": "2023-01-30T17:54:33.574Z"
   },
   {
    "duration": 5,
    "start_time": "2023-01-30T17:54:45.759Z"
   },
   {
    "duration": 33962,
    "start_time": "2023-01-30T17:54:48.788Z"
   },
   {
    "duration": 4,
    "start_time": "2023-01-30T17:56:11.761Z"
   },
   {
    "duration": 5,
    "start_time": "2023-01-30T17:56:29.716Z"
   },
   {
    "duration": 30180,
    "start_time": "2023-01-30T17:56:56.774Z"
   },
   {
    "duration": 14,
    "start_time": "2023-01-30T17:58:21.297Z"
   },
   {
    "duration": 7,
    "start_time": "2023-01-30T17:58:33.293Z"
   },
   {
    "duration": 10,
    "start_time": "2023-01-30T17:58:37.675Z"
   },
   {
    "duration": 685,
    "start_time": "2023-01-30T17:58:46.724Z"
   },
   {
    "duration": 19,
    "start_time": "2023-01-30T17:59:26.639Z"
   },
   {
    "duration": 8,
    "start_time": "2023-01-30T17:59:32.988Z"
   },
   {
    "duration": 204,
    "start_time": "2023-01-30T17:59:36.937Z"
   },
   {
    "duration": 914,
    "start_time": "2023-01-30T17:59:46.385Z"
   },
   {
    "duration": 53954,
    "start_time": "2023-01-30T17:59:55.524Z"
   },
   {
    "duration": 40288,
    "start_time": "2023-01-30T18:01:23.353Z"
   },
   {
    "duration": 46145,
    "start_time": "2023-01-30T18:02:20.913Z"
   },
   {
    "duration": 47,
    "start_time": "2023-01-30T18:04:28.442Z"
   },
   {
    "duration": 4,
    "start_time": "2023-01-30T18:22:07.626Z"
   },
   {
    "duration": 21,
    "start_time": "2023-01-30T18:22:10.558Z"
   },
   {
    "duration": 29,
    "start_time": "2023-01-30T18:22:13.336Z"
   },
   {
    "duration": 20,
    "start_time": "2023-01-30T18:22:32.330Z"
   },
   {
    "duration": 8,
    "start_time": "2023-01-30T18:22:39.514Z"
   },
   {
    "duration": 22,
    "start_time": "2023-01-30T18:22:43.418Z"
   },
   {
    "duration": 919,
    "start_time": "2023-01-30T18:22:50.814Z"
   },
   {
    "duration": 11,
    "start_time": "2023-01-30T18:23:32.194Z"
   },
   {
    "duration": 8630,
    "start_time": "2023-01-30T18:23:39.029Z"
   },
   {
    "duration": 3,
    "start_time": "2023-01-30T18:23:47.662Z"
   },
   {
    "duration": 47,
    "start_time": "2023-01-30T18:23:47.666Z"
   },
   {
    "duration": 11,
    "start_time": "2023-01-30T18:23:47.716Z"
   },
   {
    "duration": 11,
    "start_time": "2023-01-30T18:23:47.729Z"
   },
   {
    "duration": 8,
    "start_time": "2023-01-30T18:23:47.742Z"
   },
   {
    "duration": 229,
    "start_time": "2023-01-30T18:23:47.752Z"
   },
   {
    "duration": 4,
    "start_time": "2023-01-30T18:23:47.983Z"
   },
   {
    "duration": 13,
    "start_time": "2023-01-30T18:23:47.989Z"
   },
   {
    "duration": 12,
    "start_time": "2023-01-30T18:23:48.005Z"
   },
   {
    "duration": 8,
    "start_time": "2023-01-30T18:23:48.019Z"
   },
   {
    "duration": 5,
    "start_time": "2023-01-30T18:23:48.041Z"
   },
   {
    "duration": 9,
    "start_time": "2023-01-30T18:23:48.048Z"
   },
   {
    "duration": 7,
    "start_time": "2023-01-30T18:23:48.058Z"
   },
   {
    "duration": 193,
    "start_time": "2023-01-30T18:23:48.067Z"
   },
   {
    "duration": 195,
    "start_time": "2023-01-30T18:23:48.263Z"
   },
   {
    "duration": 7,
    "start_time": "2023-01-30T18:23:48.461Z"
   },
   {
    "duration": 184,
    "start_time": "2023-01-30T18:23:48.471Z"
   },
   {
    "duration": 199,
    "start_time": "2023-01-30T18:23:48.657Z"
   },
   {
    "duration": 4,
    "start_time": "2023-01-30T18:23:48.859Z"
   },
   {
    "duration": 25,
    "start_time": "2023-01-30T18:23:48.865Z"
   },
   {
    "duration": 22,
    "start_time": "2023-01-30T18:23:48.892Z"
   },
   {
    "duration": 30,
    "start_time": "2023-01-30T18:23:48.916Z"
   },
   {
    "duration": 112,
    "start_time": "2023-01-30T18:23:48.948Z"
   },
   {
    "duration": 20,
    "start_time": "2023-01-30T18:23:49.063Z"
   },
   {
    "duration": 20,
    "start_time": "2023-01-30T18:23:49.086Z"
   },
   {
    "duration": 617,
    "start_time": "2023-01-30T18:23:49.142Z"
   },
   {
    "duration": 7,
    "start_time": "2023-01-30T18:23:49.762Z"
   },
   {
    "duration": 21789,
    "start_time": "2023-01-30T18:23:49.770Z"
   },
   {
    "duration": 4,
    "start_time": "2023-01-30T18:24:11.561Z"
   },
   {
    "duration": 47074,
    "start_time": "2023-01-30T18:24:11.567Z"
   },
   {
    "duration": 5,
    "start_time": "2023-01-30T18:24:58.643Z"
   },
   {
    "duration": 34466,
    "start_time": "2023-01-30T18:24:58.650Z"
   },
   {
    "duration": 5,
    "start_time": "2023-01-30T18:28:48.091Z"
   },
   {
    "duration": 144,
    "start_time": "2023-01-30T18:28:55.153Z"
   },
   {
    "duration": 4,
    "start_time": "2023-01-30T18:29:28.737Z"
   },
   {
    "duration": 13,
    "start_time": "2023-01-30T18:29:31.285Z"
   },
   {
    "duration": 21,
    "start_time": "2023-01-30T18:29:34.456Z"
   },
   {
    "duration": 7,
    "start_time": "2023-01-30T18:29:40.344Z"
   },
   {
    "duration": 10,
    "start_time": "2023-01-30T18:29:44.823Z"
   },
   {
    "duration": 547,
    "start_time": "2023-01-30T18:30:04.516Z"
   },
   {
    "duration": 22837,
    "start_time": "2023-01-30T18:30:14.494Z"
   },
   {
    "duration": 37860,
    "start_time": "2023-01-30T18:31:45.585Z"
   },
   {
    "duration": 35088,
    "start_time": "2023-01-30T18:32:48.190Z"
   },
   {
    "duration": 16,
    "start_time": "2023-01-30T18:37:49.140Z"
   },
   {
    "duration": 21,
    "start_time": "2023-01-30T18:37:51.668Z"
   },
   {
    "duration": 9293,
    "start_time": "2023-01-30T18:38:12.001Z"
   },
   {
    "duration": 3,
    "start_time": "2023-01-30T18:38:21.297Z"
   },
   {
    "duration": 61,
    "start_time": "2023-01-30T18:38:21.302Z"
   },
   {
    "duration": 11,
    "start_time": "2023-01-30T18:38:21.365Z"
   },
   {
    "duration": 16,
    "start_time": "2023-01-30T18:38:21.378Z"
   },
   {
    "duration": 10,
    "start_time": "2023-01-30T18:38:21.396Z"
   },
   {
    "duration": 289,
    "start_time": "2023-01-30T18:38:21.408Z"
   },
   {
    "duration": 5,
    "start_time": "2023-01-30T18:38:21.699Z"
   },
   {
    "duration": 23,
    "start_time": "2023-01-30T18:38:21.706Z"
   },
   {
    "duration": 10,
    "start_time": "2023-01-30T18:38:21.739Z"
   },
   {
    "duration": 13,
    "start_time": "2023-01-30T18:38:21.752Z"
   },
   {
    "duration": 7,
    "start_time": "2023-01-30T18:38:21.767Z"
   },
   {
    "duration": 11,
    "start_time": "2023-01-30T18:38:21.777Z"
   },
   {
    "duration": 7,
    "start_time": "2023-01-30T18:38:21.790Z"
   },
   {
    "duration": 180,
    "start_time": "2023-01-30T18:38:21.800Z"
   },
   {
    "duration": 221,
    "start_time": "2023-01-30T18:38:21.982Z"
   },
   {
    "duration": 7,
    "start_time": "2023-01-30T18:38:22.205Z"
   },
   {
    "duration": 182,
    "start_time": "2023-01-30T18:38:22.214Z"
   },
   {
    "duration": 179,
    "start_time": "2023-01-30T18:38:22.398Z"
   },
   {
    "duration": 4,
    "start_time": "2023-01-30T18:38:22.580Z"
   },
   {
    "duration": 35,
    "start_time": "2023-01-30T18:38:22.586Z"
   },
   {
    "duration": 41,
    "start_time": "2023-01-30T18:38:22.623Z"
   },
   {
    "duration": 24,
    "start_time": "2023-01-30T18:38:22.667Z"
   },
   {
    "duration": 104,
    "start_time": "2023-01-30T18:38:22.695Z"
   },
   {
    "duration": 19,
    "start_time": "2023-01-30T18:38:22.802Z"
   },
   {
    "duration": 19,
    "start_time": "2023-01-30T18:38:22.824Z"
   },
   {
    "duration": 498,
    "start_time": "2023-01-30T18:38:22.845Z"
   },
   {
    "duration": 6,
    "start_time": "2023-01-30T18:38:23.346Z"
   },
   {
    "duration": 13536,
    "start_time": "2023-01-30T18:38:23.354Z"
   },
   {
    "duration": 5,
    "start_time": "2023-01-30T18:38:36.891Z"
   },
   {
    "duration": 9253,
    "start_time": "2023-01-30T18:42:34.532Z"
   },
   {
    "duration": 3,
    "start_time": "2023-01-30T18:42:43.788Z"
   },
   {
    "duration": 46,
    "start_time": "2023-01-30T18:42:43.793Z"
   },
   {
    "duration": 11,
    "start_time": "2023-01-30T18:42:43.841Z"
   },
   {
    "duration": 13,
    "start_time": "2023-01-30T18:42:43.854Z"
   },
   {
    "duration": 11,
    "start_time": "2023-01-30T18:42:43.869Z"
   },
   {
    "duration": 259,
    "start_time": "2023-01-30T18:42:43.881Z"
   },
   {
    "duration": 4,
    "start_time": "2023-01-30T18:42:44.143Z"
   },
   {
    "duration": 26,
    "start_time": "2023-01-30T18:42:44.150Z"
   },
   {
    "duration": 14,
    "start_time": "2023-01-30T18:42:44.178Z"
   },
   {
    "duration": 11,
    "start_time": "2023-01-30T18:42:44.194Z"
   },
   {
    "duration": 7,
    "start_time": "2023-01-30T18:42:44.207Z"
   },
   {
    "duration": 29,
    "start_time": "2023-01-30T18:42:44.216Z"
   },
   {
    "duration": 8,
    "start_time": "2023-01-30T18:42:44.249Z"
   },
   {
    "duration": 171,
    "start_time": "2023-01-30T18:42:44.258Z"
   },
   {
    "duration": 212,
    "start_time": "2023-01-30T18:42:44.432Z"
   },
   {
    "duration": 15,
    "start_time": "2023-01-30T18:42:44.646Z"
   },
   {
    "duration": 171,
    "start_time": "2023-01-30T18:42:44.663Z"
   },
   {
    "duration": 184,
    "start_time": "2023-01-30T18:42:44.840Z"
   },
   {
    "duration": 4,
    "start_time": "2023-01-30T18:42:45.026Z"
   },
   {
    "duration": 20,
    "start_time": "2023-01-30T18:42:45.041Z"
   },
   {
    "duration": 19,
    "start_time": "2023-01-30T18:42:45.063Z"
   },
   {
    "duration": 20,
    "start_time": "2023-01-30T18:42:45.084Z"
   },
   {
    "duration": 6,
    "start_time": "2023-01-30T18:42:45.106Z"
   },
   {
    "duration": 119,
    "start_time": "2023-01-30T18:42:45.114Z"
   },
   {
    "duration": 12,
    "start_time": "2023-01-30T18:42:45.235Z"
   },
   {
    "duration": 395,
    "start_time": "2023-01-30T18:42:45.249Z"
   },
   {
    "duration": 7,
    "start_time": "2023-01-30T18:42:45.646Z"
   },
   {
    "duration": 10762,
    "start_time": "2023-01-30T18:42:45.655Z"
   },
   {
    "duration": 5,
    "start_time": "2023-01-30T18:42:56.419Z"
   },
   {
    "duration": 8779,
    "start_time": "2023-01-30T18:44:27.284Z"
   },
   {
    "duration": 3,
    "start_time": "2023-01-30T18:44:36.066Z"
   },
   {
    "duration": 54,
    "start_time": "2023-01-30T18:44:36.071Z"
   },
   {
    "duration": 12,
    "start_time": "2023-01-30T18:44:36.128Z"
   },
   {
    "duration": 24,
    "start_time": "2023-01-30T18:44:36.142Z"
   },
   {
    "duration": 10,
    "start_time": "2023-01-30T18:44:36.168Z"
   },
   {
    "duration": 241,
    "start_time": "2023-01-30T18:44:36.180Z"
   },
   {
    "duration": 4,
    "start_time": "2023-01-30T18:44:36.423Z"
   },
   {
    "duration": 20,
    "start_time": "2023-01-30T18:44:36.429Z"
   },
   {
    "duration": 13,
    "start_time": "2023-01-30T18:44:36.452Z"
   },
   {
    "duration": 8,
    "start_time": "2023-01-30T18:44:36.468Z"
   },
   {
    "duration": 8,
    "start_time": "2023-01-30T18:44:36.477Z"
   },
   {
    "duration": 13,
    "start_time": "2023-01-30T18:44:36.488Z"
   },
   {
    "duration": 10,
    "start_time": "2023-01-30T18:44:36.504Z"
   },
   {
    "duration": 180,
    "start_time": "2023-01-30T18:44:36.516Z"
   },
   {
    "duration": 193,
    "start_time": "2023-01-30T18:44:36.698Z"
   },
   {
    "duration": 8,
    "start_time": "2023-01-30T18:44:36.893Z"
   },
   {
    "duration": 166,
    "start_time": "2023-01-30T18:44:36.902Z"
   },
   {
    "duration": 165,
    "start_time": "2023-01-30T18:44:37.070Z"
   },
   {
    "duration": 4,
    "start_time": "2023-01-30T18:44:37.237Z"
   },
   {
    "duration": 15,
    "start_time": "2023-01-30T18:44:37.244Z"
   },
   {
    "duration": 18,
    "start_time": "2023-01-30T18:44:37.261Z"
   },
   {
    "duration": 10,
    "start_time": "2023-01-30T18:44:37.281Z"
   },
   {
    "duration": 125,
    "start_time": "2023-01-30T18:44:37.293Z"
   },
   {
    "duration": 14,
    "start_time": "2023-01-30T18:44:37.419Z"
   },
   {
    "duration": 6,
    "start_time": "2023-01-30T18:44:37.443Z"
   },
   {
    "duration": 471,
    "start_time": "2023-01-30T18:44:37.451Z"
   },
   {
    "duration": 6,
    "start_time": "2023-01-30T18:44:37.926Z"
   },
   {
    "duration": 12046,
    "start_time": "2023-01-30T18:44:37.940Z"
   },
   {
    "duration": 5,
    "start_time": "2023-01-30T18:44:49.988Z"
   },
   {
    "duration": 28545,
    "start_time": "2023-01-30T18:44:49.995Z"
   },
   {
    "duration": 5,
    "start_time": "2023-01-30T18:45:18.542Z"
   },
   {
    "duration": 8716,
    "start_time": "2023-01-30T18:45:31.963Z"
   },
   {
    "duration": 3,
    "start_time": "2023-01-30T18:45:40.681Z"
   },
   {
    "duration": 46,
    "start_time": "2023-01-30T18:45:40.686Z"
   },
   {
    "duration": 11,
    "start_time": "2023-01-30T18:45:40.735Z"
   },
   {
    "duration": 13,
    "start_time": "2023-01-30T18:45:40.748Z"
   },
   {
    "duration": 13,
    "start_time": "2023-01-30T18:45:40.763Z"
   },
   {
    "duration": 252,
    "start_time": "2023-01-30T18:45:40.778Z"
   },
   {
    "duration": 8,
    "start_time": "2023-01-30T18:45:41.032Z"
   },
   {
    "duration": 11,
    "start_time": "2023-01-30T18:45:41.041Z"
   },
   {
    "duration": 9,
    "start_time": "2023-01-30T18:45:41.055Z"
   },
   {
    "duration": 8,
    "start_time": "2023-01-30T18:45:41.066Z"
   },
   {
    "duration": 6,
    "start_time": "2023-01-30T18:45:41.075Z"
   },
   {
    "duration": 10,
    "start_time": "2023-01-30T18:45:41.083Z"
   },
   {
    "duration": 6,
    "start_time": "2023-01-30T18:45:41.095Z"
   },
   {
    "duration": 181,
    "start_time": "2023-01-30T18:45:41.102Z"
   },
   {
    "duration": 197,
    "start_time": "2023-01-30T18:45:41.285Z"
   },
   {
    "duration": 6,
    "start_time": "2023-01-30T18:45:41.484Z"
   },
   {
    "duration": 172,
    "start_time": "2023-01-30T18:45:41.492Z"
   },
   {
    "duration": 177,
    "start_time": "2023-01-30T18:45:41.666Z"
   },
   {
    "duration": 4,
    "start_time": "2023-01-30T18:45:41.845Z"
   },
   {
    "duration": 20,
    "start_time": "2023-01-30T18:45:41.851Z"
   },
   {
    "duration": 18,
    "start_time": "2023-01-30T18:45:41.873Z"
   },
   {
    "duration": 116,
    "start_time": "2023-01-30T18:45:41.893Z"
   },
   {
    "duration": 4,
    "start_time": "2023-01-30T18:45:42.011Z"
   },
   {
    "duration": 22,
    "start_time": "2023-01-30T18:45:42.016Z"
   },
   {
    "duration": 4,
    "start_time": "2023-01-30T18:45:42.041Z"
   },
   {
    "duration": 621,
    "start_time": "2023-01-30T18:45:42.047Z"
   },
   {
    "duration": 6,
    "start_time": "2023-01-30T18:45:42.671Z"
   },
   {
    "duration": 27470,
    "start_time": "2023-01-30T18:45:42.679Z"
   },
   {
    "duration": 5,
    "start_time": "2023-01-30T18:46:10.152Z"
   },
   {
    "duration": 9258,
    "start_time": "2023-01-30T18:47:26.204Z"
   },
   {
    "duration": 4,
    "start_time": "2023-01-30T18:47:35.464Z"
   },
   {
    "duration": 46,
    "start_time": "2023-01-30T18:47:35.470Z"
   },
   {
    "duration": 11,
    "start_time": "2023-01-30T18:47:35.519Z"
   },
   {
    "duration": 14,
    "start_time": "2023-01-30T18:47:35.532Z"
   },
   {
    "duration": 10,
    "start_time": "2023-01-30T18:47:35.548Z"
   },
   {
    "duration": 258,
    "start_time": "2023-01-30T18:47:35.560Z"
   },
   {
    "duration": 4,
    "start_time": "2023-01-30T18:47:35.820Z"
   },
   {
    "duration": 20,
    "start_time": "2023-01-30T18:47:35.826Z"
   },
   {
    "duration": 18,
    "start_time": "2023-01-30T18:47:35.850Z"
   },
   {
    "duration": 18,
    "start_time": "2023-01-30T18:47:35.870Z"
   },
   {
    "duration": 8,
    "start_time": "2023-01-30T18:47:35.890Z"
   },
   {
    "duration": 9,
    "start_time": "2023-01-30T18:47:35.900Z"
   },
   {
    "duration": 8,
    "start_time": "2023-01-30T18:47:35.911Z"
   },
   {
    "duration": 170,
    "start_time": "2023-01-30T18:47:35.921Z"
   },
   {
    "duration": 201,
    "start_time": "2023-01-30T18:47:36.093Z"
   },
   {
    "duration": 7,
    "start_time": "2023-01-30T18:47:36.295Z"
   },
   {
    "duration": 174,
    "start_time": "2023-01-30T18:47:36.304Z"
   },
   {
    "duration": 188,
    "start_time": "2023-01-30T18:47:36.480Z"
   },
   {
    "duration": 6,
    "start_time": "2023-01-30T18:47:36.670Z"
   },
   {
    "duration": 25,
    "start_time": "2023-01-30T18:47:36.679Z"
   },
   {
    "duration": 34,
    "start_time": "2023-01-30T18:47:36.707Z"
   },
   {
    "duration": 114,
    "start_time": "2023-01-30T18:47:36.743Z"
   },
   {
    "duration": 25,
    "start_time": "2023-01-30T18:47:36.860Z"
   },
   {
    "duration": 35,
    "start_time": "2023-01-30T18:47:36.887Z"
   },
   {
    "duration": 20,
    "start_time": "2023-01-30T18:47:36.925Z"
   },
   {
    "duration": 608,
    "start_time": "2023-01-30T18:47:36.948Z"
   },
   {
    "duration": 6,
    "start_time": "2023-01-30T18:47:37.560Z"
   },
   {
    "duration": 27485,
    "start_time": "2023-01-30T18:47:37.568Z"
   },
   {
    "duration": 4,
    "start_time": "2023-01-30T18:48:05.055Z"
   },
   {
    "duration": 9009,
    "start_time": "2023-01-30T18:48:53.092Z"
   },
   {
    "duration": 3,
    "start_time": "2023-01-30T18:49:02.103Z"
   },
   {
    "duration": 66,
    "start_time": "2023-01-30T18:49:02.108Z"
   },
   {
    "duration": 12,
    "start_time": "2023-01-30T18:49:02.177Z"
   },
   {
    "duration": 49,
    "start_time": "2023-01-30T18:49:02.191Z"
   },
   {
    "duration": 24,
    "start_time": "2023-01-30T18:49:02.242Z"
   },
   {
    "duration": 250,
    "start_time": "2023-01-30T18:49:02.268Z"
   },
   {
    "duration": 4,
    "start_time": "2023-01-30T18:49:02.520Z"
   },
   {
    "duration": 17,
    "start_time": "2023-01-30T18:49:02.525Z"
   },
   {
    "duration": 23,
    "start_time": "2023-01-30T18:49:02.545Z"
   },
   {
    "duration": 15,
    "start_time": "2023-01-30T18:49:02.570Z"
   },
   {
    "duration": 16,
    "start_time": "2023-01-30T18:49:02.587Z"
   },
   {
    "duration": 16,
    "start_time": "2023-01-30T18:49:02.605Z"
   },
   {
    "duration": 17,
    "start_time": "2023-01-30T18:49:02.624Z"
   },
   {
    "duration": 165,
    "start_time": "2023-01-30T18:49:02.643Z"
   },
   {
    "duration": 244,
    "start_time": "2023-01-30T18:49:02.811Z"
   },
   {
    "duration": 7,
    "start_time": "2023-01-30T18:49:03.057Z"
   },
   {
    "duration": 174,
    "start_time": "2023-01-30T18:49:03.066Z"
   },
   {
    "duration": 182,
    "start_time": "2023-01-30T18:49:03.241Z"
   },
   {
    "duration": 5,
    "start_time": "2023-01-30T18:49:03.425Z"
   },
   {
    "duration": 18,
    "start_time": "2023-01-30T18:49:03.440Z"
   },
   {
    "duration": 24,
    "start_time": "2023-01-30T18:49:03.460Z"
   },
   {
    "duration": 104,
    "start_time": "2023-01-30T18:49:03.485Z"
   },
   {
    "duration": 4,
    "start_time": "2023-01-30T18:49:03.591Z"
   },
   {
    "duration": 23,
    "start_time": "2023-01-30T18:49:03.597Z"
   },
   {
    "duration": 5,
    "start_time": "2023-01-30T18:49:03.642Z"
   },
   {
    "duration": 669,
    "start_time": "2023-01-30T18:49:03.650Z"
   },
   {
    "duration": 6,
    "start_time": "2023-01-30T18:49:04.322Z"
   },
   {
    "duration": 32133,
    "start_time": "2023-01-30T18:49:04.330Z"
   },
   {
    "duration": 8,
    "start_time": "2023-01-30T18:49:36.465Z"
   },
   {
    "duration": 11984,
    "start_time": "2023-01-30T18:50:55.396Z"
   },
   {
    "duration": 3,
    "start_time": "2023-01-30T18:51:07.384Z"
   },
   {
    "duration": 83,
    "start_time": "2023-01-30T18:51:07.389Z"
   },
   {
    "duration": 15,
    "start_time": "2023-01-30T18:51:07.477Z"
   },
   {
    "duration": 18,
    "start_time": "2023-01-30T18:51:07.494Z"
   },
   {
    "duration": 9,
    "start_time": "2023-01-30T18:51:07.514Z"
   },
   {
    "duration": 287,
    "start_time": "2023-01-30T18:51:07.525Z"
   },
   {
    "duration": 4,
    "start_time": "2023-01-30T18:51:07.814Z"
   },
   {
    "duration": 26,
    "start_time": "2023-01-30T18:51:07.820Z"
   },
   {
    "duration": 34,
    "start_time": "2023-01-30T18:51:07.850Z"
   },
   {
    "duration": 12,
    "start_time": "2023-01-30T18:51:07.887Z"
   },
   {
    "duration": 7,
    "start_time": "2023-01-30T18:51:07.901Z"
   },
   {
    "duration": 10,
    "start_time": "2023-01-30T18:51:07.910Z"
   },
   {
    "duration": 36,
    "start_time": "2023-01-30T18:51:07.922Z"
   },
   {
    "duration": 205,
    "start_time": "2023-01-30T18:51:07.960Z"
   },
   {
    "duration": 248,
    "start_time": "2023-01-30T18:51:08.168Z"
   },
   {
    "duration": 7,
    "start_time": "2023-01-30T18:51:08.418Z"
   },
   {
    "duration": 218,
    "start_time": "2023-01-30T18:51:08.427Z"
   },
   {
    "duration": 231,
    "start_time": "2023-01-30T18:51:08.647Z"
   },
   {
    "duration": 7,
    "start_time": "2023-01-30T18:51:08.881Z"
   },
   {
    "duration": 51,
    "start_time": "2023-01-30T18:51:08.889Z"
   },
   {
    "duration": 85,
    "start_time": "2023-01-30T18:51:08.942Z"
   },
   {
    "duration": 165,
    "start_time": "2023-01-30T18:51:09.030Z"
   },
   {
    "duration": 13,
    "start_time": "2023-01-30T18:51:09.198Z"
   },
   {
    "duration": 30,
    "start_time": "2023-01-30T18:51:09.214Z"
   },
   {
    "duration": 7,
    "start_time": "2023-01-30T18:51:09.246Z"
   },
   {
    "duration": 745,
    "start_time": "2023-01-30T18:51:09.255Z"
   },
   {
    "duration": 6,
    "start_time": "2023-01-30T18:51:10.004Z"
   },
   {
    "duration": 32200,
    "start_time": "2023-01-30T18:51:10.012Z"
   },
   {
    "duration": 8,
    "start_time": "2023-01-30T18:51:42.215Z"
   },
   {
    "duration": 10186,
    "start_time": "2023-01-30T18:52:20.925Z"
   },
   {
    "duration": 3,
    "start_time": "2023-01-30T18:52:31.114Z"
   },
   {
    "duration": 173,
    "start_time": "2023-01-30T18:52:31.119Z"
   },
   {
    "duration": 16,
    "start_time": "2023-01-30T18:52:31.295Z"
   },
   {
    "duration": 114,
    "start_time": "2023-01-30T18:52:31.314Z"
   },
   {
    "duration": 62,
    "start_time": "2023-01-30T18:52:31.430Z"
   },
   {
    "duration": 337,
    "start_time": "2023-01-30T18:52:31.494Z"
   },
   {
    "duration": 15,
    "start_time": "2023-01-30T18:52:31.833Z"
   },
   {
    "duration": 44,
    "start_time": "2023-01-30T18:52:31.851Z"
   },
   {
    "duration": 74,
    "start_time": "2023-01-30T18:52:31.898Z"
   },
   {
    "duration": 40,
    "start_time": "2023-01-30T18:52:31.974Z"
   },
   {
    "duration": 67,
    "start_time": "2023-01-30T18:52:32.016Z"
   },
   {
    "duration": 46,
    "start_time": "2023-01-30T18:52:32.090Z"
   },
   {
    "duration": 57,
    "start_time": "2023-01-30T18:52:32.138Z"
   },
   {
    "duration": 229,
    "start_time": "2023-01-30T18:52:32.196Z"
   },
   {
    "duration": 203,
    "start_time": "2023-01-30T18:52:32.427Z"
   },
   {
    "duration": 21,
    "start_time": "2023-01-30T18:52:32.640Z"
   },
   {
    "duration": 208,
    "start_time": "2023-01-30T18:52:32.666Z"
   },
   {
    "duration": 214,
    "start_time": "2023-01-30T18:52:32.877Z"
   },
   {
    "duration": 4,
    "start_time": "2023-01-30T18:52:33.094Z"
   },
   {
    "duration": 93,
    "start_time": "2023-01-30T18:52:33.101Z"
   },
   {
    "duration": 66,
    "start_time": "2023-01-30T18:52:33.196Z"
   },
   {
    "duration": 27,
    "start_time": "2023-01-30T18:52:33.264Z"
   },
   {
    "duration": 99,
    "start_time": "2023-01-30T18:52:33.293Z"
   },
   {
    "duration": 41,
    "start_time": "2023-01-30T18:52:33.394Z"
   },
   {
    "duration": 40,
    "start_time": "2023-01-30T18:52:33.437Z"
   },
   {
    "duration": 625,
    "start_time": "2023-01-30T18:52:33.480Z"
   },
   {
    "duration": 6,
    "start_time": "2023-01-30T18:52:34.108Z"
   },
   {
    "duration": 16290,
    "start_time": "2023-01-30T18:52:34.117Z"
   },
   {
    "duration": 5,
    "start_time": "2023-01-30T18:52:50.409Z"
   },
   {
    "duration": 10226,
    "start_time": "2023-01-30T18:53:33.125Z"
   },
   {
    "duration": 3,
    "start_time": "2023-01-30T18:53:43.354Z"
   },
   {
    "duration": 81,
    "start_time": "2023-01-30T18:53:43.359Z"
   },
   {
    "duration": 24,
    "start_time": "2023-01-30T18:53:43.443Z"
   },
   {
    "duration": 33,
    "start_time": "2023-01-30T18:53:43.469Z"
   },
   {
    "duration": 16,
    "start_time": "2023-01-30T18:53:43.506Z"
   },
   {
    "duration": 316,
    "start_time": "2023-01-30T18:53:43.525Z"
   },
   {
    "duration": 9,
    "start_time": "2023-01-30T18:53:43.843Z"
   },
   {
    "duration": 35,
    "start_time": "2023-01-30T18:53:43.854Z"
   },
   {
    "duration": 12,
    "start_time": "2023-01-30T18:53:43.893Z"
   },
   {
    "duration": 16,
    "start_time": "2023-01-30T18:53:43.907Z"
   },
   {
    "duration": 26,
    "start_time": "2023-01-30T18:53:43.925Z"
   },
   {
    "duration": 32,
    "start_time": "2023-01-30T18:53:43.953Z"
   },
   {
    "duration": 20,
    "start_time": "2023-01-30T18:53:43.987Z"
   },
   {
    "duration": 192,
    "start_time": "2023-01-30T18:53:44.009Z"
   },
   {
    "duration": 231,
    "start_time": "2023-01-30T18:53:44.203Z"
   },
   {
    "duration": 14,
    "start_time": "2023-01-30T18:53:44.441Z"
   },
   {
    "duration": 202,
    "start_time": "2023-01-30T18:53:44.459Z"
   },
   {
    "duration": 213,
    "start_time": "2023-01-30T18:53:44.664Z"
   },
   {
    "duration": 5,
    "start_time": "2023-01-30T18:53:44.879Z"
   },
   {
    "duration": 22,
    "start_time": "2023-01-30T18:53:44.885Z"
   },
   {
    "duration": 35,
    "start_time": "2023-01-30T18:53:44.909Z"
   },
   {
    "duration": 11,
    "start_time": "2023-01-30T18:53:44.947Z"
   },
   {
    "duration": 113,
    "start_time": "2023-01-30T18:53:44.961Z"
   },
   {
    "duration": 19,
    "start_time": "2023-01-30T18:53:45.076Z"
   },
   {
    "duration": 55,
    "start_time": "2023-01-30T18:53:45.097Z"
   },
   {
    "duration": 565,
    "start_time": "2023-01-30T18:53:45.162Z"
   },
   {
    "duration": 19,
    "start_time": "2023-01-30T18:53:45.732Z"
   },
   {
    "duration": 15449,
    "start_time": "2023-01-30T18:53:45.764Z"
   },
   {
    "duration": 5,
    "start_time": "2023-01-30T18:54:01.214Z"
   },
   {
    "duration": 10468,
    "start_time": "2023-01-30T18:55:21.137Z"
   },
   {
    "duration": 3,
    "start_time": "2023-01-30T18:55:31.607Z"
   },
   {
    "duration": 83,
    "start_time": "2023-01-30T18:55:31.612Z"
   },
   {
    "duration": 14,
    "start_time": "2023-01-30T18:55:31.697Z"
   },
   {
    "duration": 57,
    "start_time": "2023-01-30T18:55:31.714Z"
   },
   {
    "duration": 27,
    "start_time": "2023-01-30T18:55:31.773Z"
   },
   {
    "duration": 349,
    "start_time": "2023-01-30T18:55:31.802Z"
   },
   {
    "duration": 7,
    "start_time": "2023-01-30T18:55:32.160Z"
   },
   {
    "duration": 35,
    "start_time": "2023-01-30T18:55:32.176Z"
   },
   {
    "duration": 62,
    "start_time": "2023-01-30T18:55:32.215Z"
   },
   {
    "duration": 44,
    "start_time": "2023-01-30T18:55:32.280Z"
   },
   {
    "duration": 74,
    "start_time": "2023-01-30T18:55:32.327Z"
   },
   {
    "duration": 74,
    "start_time": "2023-01-30T18:55:32.403Z"
   },
   {
    "duration": 34,
    "start_time": "2023-01-30T18:55:32.479Z"
   },
   {
    "duration": 256,
    "start_time": "2023-01-30T18:55:32.515Z"
   },
   {
    "duration": 234,
    "start_time": "2023-01-30T18:55:32.773Z"
   },
   {
    "duration": 7,
    "start_time": "2023-01-30T18:55:33.009Z"
   },
   {
    "duration": 260,
    "start_time": "2023-01-30T18:55:33.018Z"
   },
   {
    "duration": 234,
    "start_time": "2023-01-30T18:55:33.281Z"
   },
   {
    "duration": 4,
    "start_time": "2023-01-30T18:55:33.517Z"
   },
   {
    "duration": 71,
    "start_time": "2023-01-30T18:55:33.524Z"
   },
   {
    "duration": 31,
    "start_time": "2023-01-30T18:55:33.597Z"
   },
   {
    "duration": 60,
    "start_time": "2023-01-30T18:55:33.632Z"
   },
   {
    "duration": 107,
    "start_time": "2023-01-30T18:55:33.694Z"
   },
   {
    "duration": 58,
    "start_time": "2023-01-30T18:55:33.803Z"
   },
   {
    "duration": 54,
    "start_time": "2023-01-30T18:55:33.864Z"
   },
   {
    "duration": 612,
    "start_time": "2023-01-30T18:55:33.921Z"
   },
   {
    "duration": 19,
    "start_time": "2023-01-30T18:55:34.542Z"
   },
   {
    "duration": 16726,
    "start_time": "2023-01-30T18:55:34.574Z"
   },
   {
    "duration": 5,
    "start_time": "2023-01-30T18:55:51.302Z"
   },
   {
    "duration": 10169,
    "start_time": "2023-01-30T18:56:59.129Z"
   },
   {
    "duration": 3,
    "start_time": "2023-01-30T18:57:09.303Z"
   },
   {
    "duration": 59,
    "start_time": "2023-01-30T18:57:09.308Z"
   },
   {
    "duration": 15,
    "start_time": "2023-01-30T18:57:09.370Z"
   },
   {
    "duration": 25,
    "start_time": "2023-01-30T18:57:09.386Z"
   },
   {
    "duration": 36,
    "start_time": "2023-01-30T18:57:09.413Z"
   },
   {
    "duration": 282,
    "start_time": "2023-01-30T18:57:09.452Z"
   },
   {
    "duration": 7,
    "start_time": "2023-01-30T18:57:09.736Z"
   },
   {
    "duration": 45,
    "start_time": "2023-01-30T18:57:09.745Z"
   },
   {
    "duration": 9,
    "start_time": "2023-01-30T18:57:09.793Z"
   },
   {
    "duration": 8,
    "start_time": "2023-01-30T18:57:09.804Z"
   },
   {
    "duration": 14,
    "start_time": "2023-01-30T18:57:09.813Z"
   },
   {
    "duration": 42,
    "start_time": "2023-01-30T18:57:09.829Z"
   },
   {
    "duration": 11,
    "start_time": "2023-01-30T18:57:09.873Z"
   },
   {
    "duration": 173,
    "start_time": "2023-01-30T18:57:09.886Z"
   },
   {
    "duration": 225,
    "start_time": "2023-01-30T18:57:10.061Z"
   },
   {
    "duration": 7,
    "start_time": "2023-01-30T18:57:10.287Z"
   },
   {
    "duration": 209,
    "start_time": "2023-01-30T18:57:10.296Z"
   },
   {
    "duration": 203,
    "start_time": "2023-01-30T18:57:10.507Z"
   },
   {
    "duration": 4,
    "start_time": "2023-01-30T18:57:10.712Z"
   },
   {
    "duration": 66,
    "start_time": "2023-01-30T18:57:10.718Z"
   },
   {
    "duration": 26,
    "start_time": "2023-01-30T18:57:10.786Z"
   },
   {
    "duration": 14,
    "start_time": "2023-01-30T18:57:10.814Z"
   },
   {
    "duration": 104,
    "start_time": "2023-01-30T18:57:10.830Z"
   },
   {
    "duration": 33,
    "start_time": "2023-01-30T18:57:10.951Z"
   },
   {
    "duration": 11,
    "start_time": "2023-01-30T18:57:10.986Z"
   },
   {
    "duration": 603,
    "start_time": "2023-01-30T18:57:10.999Z"
   },
   {
    "duration": 7,
    "start_time": "2023-01-30T18:57:11.605Z"
   },
   {
    "duration": 15365,
    "start_time": "2023-01-30T18:57:11.614Z"
   },
   {
    "duration": 4,
    "start_time": "2023-01-30T18:57:26.981Z"
   },
   {
    "duration": 10022,
    "start_time": "2023-01-30T18:57:48.088Z"
   },
   {
    "duration": 4,
    "start_time": "2023-01-30T18:57:58.113Z"
   },
   {
    "duration": 76,
    "start_time": "2023-01-30T18:57:58.119Z"
   },
   {
    "duration": 18,
    "start_time": "2023-01-30T18:57:58.199Z"
   },
   {
    "duration": 23,
    "start_time": "2023-01-30T18:57:58.220Z"
   },
   {
    "duration": 52,
    "start_time": "2023-01-30T18:57:58.246Z"
   },
   {
    "duration": 298,
    "start_time": "2023-01-30T18:57:58.301Z"
   },
   {
    "duration": 4,
    "start_time": "2023-01-30T18:57:58.601Z"
   },
   {
    "duration": 21,
    "start_time": "2023-01-30T18:57:58.607Z"
   },
   {
    "duration": 23,
    "start_time": "2023-01-30T18:57:58.631Z"
   },
   {
    "duration": 20,
    "start_time": "2023-01-30T18:57:58.662Z"
   },
   {
    "duration": 10,
    "start_time": "2023-01-30T18:57:58.684Z"
   },
   {
    "duration": 12,
    "start_time": "2023-01-30T18:57:58.696Z"
   },
   {
    "duration": 7,
    "start_time": "2023-01-30T18:57:58.710Z"
   },
   {
    "duration": 212,
    "start_time": "2023-01-30T18:57:58.719Z"
   },
   {
    "duration": 275,
    "start_time": "2023-01-30T18:57:58.934Z"
   },
   {
    "duration": 8,
    "start_time": "2023-01-30T18:57:59.212Z"
   },
   {
    "duration": 256,
    "start_time": "2023-01-30T18:57:59.222Z"
   },
   {
    "duration": 197,
    "start_time": "2023-01-30T18:57:59.480Z"
   },
   {
    "duration": 5,
    "start_time": "2023-01-30T18:57:59.679Z"
   },
   {
    "duration": 36,
    "start_time": "2023-01-30T18:57:59.687Z"
   },
   {
    "duration": 31,
    "start_time": "2023-01-30T18:57:59.725Z"
   },
   {
    "duration": 13,
    "start_time": "2023-01-30T18:57:59.768Z"
   },
   {
    "duration": 99,
    "start_time": "2023-01-30T18:57:59.783Z"
   },
   {
    "duration": 20,
    "start_time": "2023-01-30T18:57:59.884Z"
   },
   {
    "duration": 13,
    "start_time": "2023-01-30T18:57:59.906Z"
   },
   {
    "duration": 644,
    "start_time": "2023-01-30T18:57:59.946Z"
   },
   {
    "duration": 7,
    "start_time": "2023-01-30T18:58:00.593Z"
   },
   {
    "duration": 20132,
    "start_time": "2023-01-30T18:58:00.602Z"
   },
   {
    "duration": 16,
    "start_time": "2023-01-30T18:58:20.740Z"
   },
   {
    "duration": 6781,
    "start_time": "2023-01-30T20:25:25.141Z"
   },
   {
    "duration": 3,
    "start_time": "2023-01-30T20:25:31.924Z"
   },
   {
    "duration": 140,
    "start_time": "2023-01-30T20:25:31.928Z"
   },
   {
    "duration": 15,
    "start_time": "2023-01-30T20:26:34.992Z"
   },
   {
    "duration": 11,
    "start_time": "2023-01-30T20:26:41.331Z"
   },
   {
    "duration": 12,
    "start_time": "2023-01-30T20:26:42.322Z"
   },
   {
    "duration": 395,
    "start_time": "2023-01-30T20:26:42.707Z"
   },
   {
    "duration": 4,
    "start_time": "2023-01-30T20:26:43.212Z"
   },
   {
    "duration": 9,
    "start_time": "2023-01-30T20:26:44.935Z"
   },
   {
    "duration": 8,
    "start_time": "2023-01-30T20:27:01.010Z"
   },
   {
    "duration": 8,
    "start_time": "2023-01-30T20:27:01.506Z"
   },
   {
    "duration": 4,
    "start_time": "2023-01-30T20:27:02.248Z"
   },
   {
    "duration": 7,
    "start_time": "2023-01-30T20:28:10.427Z"
   },
   {
    "duration": 228,
    "start_time": "2023-01-30T20:28:10.847Z"
   },
   {
    "duration": 182,
    "start_time": "2023-01-30T20:28:11.462Z"
   },
   {
    "duration": 147,
    "start_time": "2023-01-30T20:28:12.263Z"
   },
   {
    "duration": 143,
    "start_time": "2023-01-30T20:28:19.091Z"
   },
   {
    "duration": 3,
    "start_time": "2023-01-30T20:29:03.251Z"
   },
   {
    "duration": 15,
    "start_time": "2023-01-30T20:31:45.316Z"
   },
   {
    "duration": 20,
    "start_time": "2023-01-30T20:32:10.253Z"
   },
   {
    "duration": 7,
    "start_time": "2023-01-30T20:32:13.448Z"
   },
   {
    "duration": 3,
    "start_time": "2023-01-30T20:32:25.031Z"
   },
   {
    "duration": 14,
    "start_time": "2023-01-30T20:32:26.564Z"
   },
   {
    "duration": 108,
    "start_time": "2023-01-30T20:36:48.140Z"
   },
   {
    "duration": 4,
    "start_time": "2023-01-30T20:46:33.082Z"
   },
   {
    "duration": 30029,
    "start_time": "2023-01-30T20:46:35.173Z"
   },
   {
    "duration": 11,
    "start_time": "2023-01-30T20:47:35.209Z"
   },
   {
    "duration": 5371,
    "start_time": "2023-02-02T18:15:02.148Z"
   },
   {
    "duration": 7,
    "start_time": "2023-02-02T18:15:07.521Z"
   },
   {
    "duration": 141,
    "start_time": "2023-02-02T18:15:07.529Z"
   },
   {
    "duration": 12,
    "start_time": "2023-02-02T18:15:07.671Z"
   },
   {
    "duration": 11,
    "start_time": "2023-02-02T18:15:07.685Z"
   },
   {
    "duration": 9,
    "start_time": "2023-02-02T18:15:07.697Z"
   },
   {
    "duration": 349,
    "start_time": "2023-02-02T18:15:07.707Z"
   },
   {
    "duration": 3,
    "start_time": "2023-02-02T18:15:08.058Z"
   },
   {
    "duration": 12,
    "start_time": "2023-02-02T18:15:08.062Z"
   },
   {
    "duration": 16,
    "start_time": "2023-02-02T18:15:08.075Z"
   },
   {
    "duration": 7,
    "start_time": "2023-02-02T18:15:08.093Z"
   },
   {
    "duration": 8,
    "start_time": "2023-02-02T18:15:08.102Z"
   },
   {
    "duration": 22,
    "start_time": "2023-02-02T18:15:08.111Z"
   },
   {
    "duration": 199,
    "start_time": "2023-02-02T18:15:08.136Z"
   },
   {
    "duration": 169,
    "start_time": "2023-02-02T18:15:08.337Z"
   },
   {
    "duration": 143,
    "start_time": "2023-02-02T18:15:08.507Z"
   },
   {
    "duration": 143,
    "start_time": "2023-02-02T18:15:08.652Z"
   },
   {
    "duration": 4,
    "start_time": "2023-02-02T18:15:08.797Z"
   },
   {
    "duration": 14,
    "start_time": "2023-02-02T18:15:08.802Z"
   },
   {
    "duration": 16,
    "start_time": "2023-02-02T18:15:08.827Z"
   },
   {
    "duration": 5,
    "start_time": "2023-02-02T18:15:08.845Z"
   },
   {
    "duration": 5,
    "start_time": "2023-02-02T18:15:08.851Z"
   },
   {
    "duration": 11,
    "start_time": "2023-02-02T18:15:08.858Z"
   },
   {
    "duration": 4,
    "start_time": "2023-02-02T18:15:08.871Z"
   },
   {
    "duration": 693,
    "start_time": "2023-02-02T18:15:08.876Z"
   },
   {
    "duration": 6,
    "start_time": "2023-02-02T18:15:09.571Z"
   },
   {
    "duration": 24881,
    "start_time": "2023-02-02T18:15:09.579Z"
   },
   {
    "duration": 4,
    "start_time": "2023-02-02T18:15:34.462Z"
   },
   {
    "duration": 587164,
    "start_time": "2023-02-02T18:15:34.468Z"
   },
   {
    "duration": 97,
    "start_time": "2023-02-02T18:25:21.634Z"
   },
   {
    "duration": 124,
    "start_time": "2023-02-02T18:26:38.411Z"
   },
   {
    "duration": 182,
    "start_time": "2023-02-02T18:26:50.254Z"
   },
   {
    "duration": 126,
    "start_time": "2023-02-02T18:27:25.604Z"
   },
   {
    "duration": 5,
    "start_time": "2023-02-02T18:27:52.639Z"
   },
   {
    "duration": 137,
    "start_time": "2023-02-02T18:28:42.945Z"
   },
   {
    "duration": 118,
    "start_time": "2023-02-02T18:29:04.504Z"
   },
   {
    "duration": 174,
    "start_time": "2023-02-02T18:29:36.186Z"
   },
   {
    "duration": 203,
    "start_time": "2023-02-02T18:30:04.534Z"
   },
   {
    "duration": 257,
    "start_time": "2023-02-02T18:30:19.419Z"
   },
   {
    "duration": 195,
    "start_time": "2023-02-02T18:30:31.629Z"
   },
   {
    "duration": 161,
    "start_time": "2023-02-02T18:31:33.871Z"
   },
   {
    "duration": 118,
    "start_time": "2023-02-02T18:33:50.484Z"
   },
   {
    "duration": 156,
    "start_time": "2023-02-02T18:34:00.637Z"
   },
   {
    "duration": 198,
    "start_time": "2023-02-02T18:34:17.548Z"
   },
   {
    "duration": 4,
    "start_time": "2023-02-02T18:35:34.911Z"
   },
   {
    "duration": 361,
    "start_time": "2023-02-02T18:36:28.420Z"
   },
   {
    "duration": 283,
    "start_time": "2023-02-02T18:36:45.075Z"
   },
   {
    "duration": 333,
    "start_time": "2023-02-02T18:37:22.749Z"
   },
   {
    "duration": 385,
    "start_time": "2023-02-02T18:37:37.485Z"
   },
   {
    "duration": 11,
    "start_time": "2023-02-02T18:38:00.647Z"
   },
   {
    "duration": 9,
    "start_time": "2023-02-02T18:38:08.602Z"
   },
   {
    "duration": 389,
    "start_time": "2023-02-02T18:44:02.720Z"
   },
   {
    "duration": 176,
    "start_time": "2023-02-02T18:44:59.399Z"
   },
   {
    "duration": 363,
    "start_time": "2023-02-02T18:45:13.419Z"
   },
   {
    "duration": 401,
    "start_time": "2023-02-02T18:46:14.699Z"
   },
   {
    "duration": 378,
    "start_time": "2023-02-02T18:47:01.187Z"
   },
   {
    "duration": 412,
    "start_time": "2023-02-02T18:48:40.176Z"
   },
   {
    "duration": 368,
    "start_time": "2023-02-02T18:52:09.758Z"
   },
   {
    "duration": 14,
    "start_time": "2023-02-02T18:53:23.910Z"
   },
   {
    "duration": 382,
    "start_time": "2023-02-02T18:53:37.845Z"
   },
   {
    "duration": 181,
    "start_time": "2023-02-02T18:54:02.809Z"
   },
   {
    "duration": 400,
    "start_time": "2023-02-02T18:54:19.716Z"
   },
   {
    "duration": 366,
    "start_time": "2023-02-02T18:54:28.253Z"
   },
   {
    "duration": 80,
    "start_time": "2023-02-02T18:56:12.021Z"
   },
   {
    "duration": 5,
    "start_time": "2023-02-02T18:56:23.275Z"
   },
   {
    "duration": 414,
    "start_time": "2023-02-02T18:57:02.541Z"
   },
   {
    "duration": 350,
    "start_time": "2023-02-02T18:57:34.797Z"
   },
   {
    "duration": 304,
    "start_time": "2023-02-02T18:58:18.159Z"
   },
   {
    "duration": 338,
    "start_time": "2023-02-02T18:58:45.040Z"
   }
  ],
  "direction": "ltr",
  "kernelspec": {
   "display_name": "Python 3 (ipykernel)",
   "language": "python",
   "name": "python3"
  },
  "language_info": {
   "codemirror_mode": {
    "name": "ipython",
    "version": 3
   },
   "file_extension": ".py",
   "mimetype": "text/x-python",
   "name": "python",
   "nbconvert_exporter": "python",
   "pygments_lexer": "ipython3",
   "version": "3.9.12"
  },
  "toc": {
   "base_numbering": 1,
   "nav_menu": {},
   "number_sections": true,
   "sideBar": true,
   "skip_h1_title": true,
   "title_cell": "Содержание",
   "title_sidebar": "Contents",
   "toc_cell": true,
   "toc_position": {
    "height": "calc(100% - 180px)",
    "left": "10px",
    "top": "150px",
    "width": "307.2px"
   },
   "toc_section_display": true,
   "toc_window_display": true
  }
 },
 "nbformat": 4,
 "nbformat_minor": 2
}
